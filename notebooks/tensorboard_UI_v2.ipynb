{
 "cells": [
  {
   "cell_type": "code",
   "execution_count": 1,
   "metadata": {},
   "outputs": [],
   "source": [
    "import os\n",
    "import glob\n",
    "import numpy as np\n",
    "import pprint\n",
    "import functools\n",
    "\n",
    "import tensorflow as tf\n",
    "\n",
    "from ipywidgets import interact, interactive, fixed, interact_manual\n",
    "import ipywidgets as widgets"
   ]
  },
  {
   "cell_type": "code",
   "execution_count": 2,
   "metadata": {},
   "outputs": [],
   "source": [
    "# global variables\n",
    "tag_list = []\n",
    "log_list = []\n",
    "file_stats = dict()\n",
    "stat_list = [\"mean\", \"std\", \"maxi\", \"mini\"]\n",
    "\n",
    "tensorboard_root = \"../tensorboard\""
   ]
  },
  {
   "cell_type": "markdown",
   "metadata": {},
   "source": [
    "# Utility function"
   ]
  },
  {
   "cell_type": "code",
   "execution_count": 3,
   "metadata": {},
   "outputs": [],
   "source": [
    "def get_all_tag(path):\n",
    "    global tag_list\n",
    "    tag_list = []\n",
    "\n",
    "    for e in tf.compat.v1.train.summary_iterator(path):\n",
    "        for value in e.summary.value:\n",
    "            if value.HasField(\"simple_value\"):\n",
    "                if value.tag not in tag_list:\n",
    "                    tag_list.append(value.tag)\n",
    "    \n",
    "    return tag_list"
   ]
  },
  {
   "cell_type": "markdown",
   "metadata": {},
   "source": [
    "- Si la list n'est pas vide\n",
    "    - Si le premier element est un fichier: return True\n",
    "    - Si le premier element est un dossier:\n",
    "        - lister le contenue de ce dossier L\n",
    "        - si L n'est pas vide\n",
    "            - Si le premier element est un fichier: return True\n",
    "            - Sinon return False"
   ]
  },
  {
   "cell_type": "code",
   "execution_count": 4,
   "metadata": {},
   "outputs": [],
   "source": [
    "def contain_log(path):\n",
    "    if path:\n",
    "        if os.path.isfile(path[0]):\n",
    "            return True\n",
    "        \n",
    "        if os.path.isdir(path[0]):\n",
    "            if not os.listdir(path[0]): # directory is empty\n",
    "                return False\n",
    "            \n",
    "            sublist = [os.path.join(path[0], p) for p in os.listdir(path[0])]\n",
    "            \n",
    "            if sublist:\n",
    "                if os.path.isfile(sublist[0]):\n",
    "                    return True\n",
    "                else:\n",
    "                    return False\n",
    "    return True"
   ]
  },
  {
   "cell_type": "code",
   "execution_count": 5,
   "metadata": {},
   "outputs": [],
   "source": [
    "def get_tag_list(log_file):\n",
    "    list_file = os.listdir(log_file)\n",
    "    \n",
    "    print(log_file)\n",
    "    print(list_file)\n",
    "    path = os.path.join(log_file, list_file[0])\n",
    "    tag_list = get_all_tag(path)\n",
    "    print(tag_list)"
   ]
  },
  {
   "cell_type": "code",
   "execution_count": 6,
   "metadata": {},
   "outputs": [],
   "source": [
    "def ui_dropdown_dir(directory):\n",
    "    global log_list\n",
    "    \n",
    "    path = os.path.join(tensorboard_root, directory)\n",
    "    sub_directories = sorted([os.path.join(path, p) for p in os.listdir(path) ])\n",
    "        \n",
    "    if not contain_log(sub_directories):\n",
    "        interact(ui_dropdown_dir, directory=sub_directories)\n",
    "        \n",
    "    else:\n",
    "        path_list = [os.path.join(path, l) for l in os.listdir(directory)]\n",
    "        log_list = path_list\n",
    "        interact_manual(get_tag_list, log_file=path_list)"
   ]
  },
  {
   "cell_type": "code",
   "execution_count": 7,
   "metadata": {
    "scrolled": true
   },
   "outputs": [
    {
     "data": {
      "application/vnd.jupyter.widget-view+json": {
       "model_id": "63b174761fd845f5a2f80cc6f991a5a2",
       "version_major": 2,
       "version_minor": 0
      },
      "text/plain": [
       "interactive(children=(Dropdown(description='directory', options=('../tensorboard/olympe_tensorboard', '../tens…"
      ]
     },
     "metadata": {},
     "output_type": "display_data"
    },
    {
     "data": {
      "text/plain": [
       "<function __main__.ui_dropdown_dir(directory)>"
      ]
     },
     "execution_count": 7,
     "metadata": {},
     "output_type": "execute_result"
    }
   ],
   "source": [
    "interact(ui_dropdown_dir, directory=glob.glob(tensorboard_root + \"/**\"))"
   ]
  },
  {
   "cell_type": "code",
   "execution_count": 8,
   "metadata": {},
   "outputs": [],
   "source": [
    "def stat_stat(stat = \"maxi\"):\n",
    "    global file_stats\n",
    "    \n",
    "    values = [file_stats[l][stat] for l in file_stats.keys()]\n",
    "    \n",
    "    print(\"stat stat\")\n",
    "    print(\"mean: \", np.nanmean(values))\n",
    "    print(\"std : \", np.nanstd(values))\n",
    "    print(\"mini: \", np.nanmin(values))\n",
    "    print(\"maxi: \", np.nanmax(values))\n",
    "    print(\"\")\n",
    "    print(\"%.3f ± %.3f\" % (np.nanmean(values), np.nanstd(values)))\n",
    "    print(\"\")\n",
    "    print(\"detail \")\n",
    "    pprint.pprint(values)"
   ]
  },
  {
   "cell_type": "code",
   "execution_count": 9,
   "metadata": {},
   "outputs": [],
   "source": [
    "def statistics(mean=True, std=True, max=False, min=False, tag=tag_list[0]):\n",
    "    global file_stats\n",
    "    \n",
    "    file_log = dict()\n",
    "    \n",
    "    # read all the log files ------------------------------\n",
    "    @functools.lru_cache()\n",
    "    def get_log_data(path):\n",
    "        logs = dict()\n",
    "\n",
    "        for e in tf.compat.v1.train.summary_iterator(path):\n",
    "            for value in e.summary.value:\n",
    "                if value.HasField(\"simple_value\"):\n",
    "                    if value.tag not in logs:\n",
    "                        logs[value.tag] = []\n",
    "                    logs[value.tag].append(value.simple_value)\n",
    "    \n",
    "        return logs\n",
    "    \n",
    "    for l in log_list:\n",
    "        final_path = os.path.join(l, os.listdir(l)[0])\n",
    "        logs = get_log_data(final_path)\n",
    "        \n",
    "        if logs:\n",
    "            file_log[l] = logs\n",
    "        \n",
    "    # compute the statistics ------------------------------\n",
    "    # ---- file wise ----\n",
    "    file_stats = dict()\n",
    "    \n",
    "    for l in file_log.keys():\n",
    "        print(\"nb sample: \", len(file_log[l][tag]))\n",
    "        file_stats[l] = dict(\n",
    "            mean = np.nanmean(file_log[l][tag]),\n",
    "            std = np.nanstd(file_log[l][tag]),\n",
    "            mini = np.nanmin(file_log[l][tag]),\n",
    "            maxi = np.nanmax(file_log[l][tag]),\n",
    "        )\n",
    "        \n",
    "    interact(stat_stat, stat=stat_list)"
   ]
  },
  {
   "cell_type": "code",
   "execution_count": 10,
   "metadata": {},
   "outputs": [
    {
     "data": {
      "application/vnd.jupyter.widget-view+json": {
       "model_id": "c4734fa1310b45aa8fcda7ef65386f48",
       "version_major": 2,
       "version_minor": 0
      },
      "text/plain": [
       "interactive(children=(Dropdown(description='directory', options=('../tensorboard/olympe_tensorboard', '../tens…"
      ]
     },
     "metadata": {},
     "output_type": "display_data"
    },
    {
     "data": {
      "text/plain": [
       "<function __main__.ui_dropdown_dir(directory)>"
      ]
     },
     "execution_count": 10,
     "metadata": {},
     "output_type": "execute_result"
    }
   ],
   "source": [
    "interact(ui_dropdown_dir, directory=glob.glob(tensorboard_root + \"/**\"))"
   ]
  },
  {
   "cell_type": "code",
   "execution_count": 11,
   "metadata": {},
   "outputs": [
    {
     "data": {
      "application/vnd.jupyter.widget-view+json": {
       "model_id": "b4b2e0098fa248e9b003d43d4140a419",
       "version_major": 2,
       "version_minor": 0
      },
      "text/plain": [
       "interactive(children=(Checkbox(value=True, description='mean'), Checkbox(value=True, description='std'), Check…"
      ]
     },
     "metadata": {},
     "output_type": "display_data"
    },
    {
     "data": {
      "text/plain": [
       "<function __main__.statistics(mean=True, std=True, max=False, min=False, tag='train/total_loss')>"
      ]
     },
     "execution_count": 11,
     "metadata": {},
     "output_type": "execute_result"
    }
   ],
   "source": [
    "interact_manual(statistics, mean=True, std=True, mini=False, maxi=False, tag=tag_list)"
   ]
  },
  {
   "cell_type": "code",
   "execution_count": 12,
   "metadata": {},
   "outputs": [],
   "source": [
    "def contain_log(path):\n",
    "    if path:\n",
    "        \n",
    "        if os.path.isfile(path[0]):\n",
    "            return True\n",
    "        \n",
    "        if os.path.isdir(path[0]):\n",
    "            sublist = [os.path.join(path[0], p) for p in os.listdir(path[0])]\n",
    "            \n",
    "            if sublist:\n",
    "                if os.path.isfile(sublist[0]):\n",
    "                    return True\n",
    "                else:\n",
    "                    return False\n",
    "    return True"
   ]
  },
  {
   "cell_type": "code",
   "execution_count": 13,
   "metadata": {},
   "outputs": [
    {
     "name": "stdout",
     "output_type": "stream",
     "text": [
      "False\n",
      "False\n",
      "False\n",
      "False\n",
      "False\n",
      "False\n",
      "False\n",
      "False\n",
      "False\n",
      "False\n",
      "False\n",
      "False\n",
      "False\n",
      "False\n",
      "False\n",
      "False\n",
      "False\n",
      "False\n",
      "False\n"
     ]
    }
   ],
   "source": [
    "root = \"/mnt/e/sync/Documents_sync/Projet/UrbanSound8K/tensorboard/osirim_tensorboard\"\n",
    "list_dir = os.listdir(root)\n",
    "\n",
    "for name in list_dir:\n",
    "    path = os.path.join(root, name)\n",
    "    \n",
    "    print(contain_log(path))"
   ]
  },
  {
   "cell_type": "code",
   "execution_count": 14,
   "metadata": {},
   "outputs": [
    {
     "data": {
      "application/vnd.jupyter.widget-view+json": {
       "model_id": "a9f6ed1cfee64e37be3b06ee4e14ce6c",
       "version_major": 2,
       "version_minor": 0
      },
      "text/plain": [
       "interactive(children=(Dropdown(description='directory', options=('../tensorboard/olympe_tensorboard', '../tens…"
      ]
     },
     "metadata": {},
     "output_type": "display_data"
    },
    {
     "data": {
      "text/plain": [
       "<function __main__.ui_dropdown_dir(directory)>"
      ]
     },
     "execution_count": 14,
     "metadata": {},
     "output_type": "execute_result"
    }
   ],
   "source": [
    "interact(ui_dropdown_dir, directory=glob.glob(tensorboard_root + \"/**\"))"
   ]
  },
  {
   "cell_type": "code",
   "execution_count": null,
   "metadata": {},
   "outputs": [],
   "source": []
  },
  {
   "cell_type": "code",
   "execution_count": null,
   "metadata": {},
   "outputs": [],
   "source": []
  }
 ],
 "metadata": {
  "kernelspec": {
   "display_name": "Python 3",
   "language": "python",
   "name": "python3"
  },
  "language_info": {
   "codemirror_mode": {
    "name": "ipython",
    "version": 3
   },
   "file_extension": ".py",
   "mimetype": "text/x-python",
   "name": "python",
   "nbconvert_exporter": "python",
   "pygments_lexer": "ipython3",
   "version": "3.7.7"
  }
 },
 "nbformat": 4,
 "nbformat_minor": 4
}
