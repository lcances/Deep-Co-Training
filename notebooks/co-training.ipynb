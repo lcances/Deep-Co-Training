{
 "cells": [
  {
   "cell_type": "markdown",
   "metadata": {},
   "source": [
    "# Import"
   ]
  },
  {
   "cell_type": "code",
   "execution_count": 1,
   "metadata": {},
   "outputs": [],
   "source": [
    "import numpy as np\n",
    "import os\n",
    "import time\n",
    "import math\n",
    "import pickle\n",
    "import argparse\n",
    "import random\n",
    "from random import shuffle\n",
    "from tqdm import tqdm_notebook as tqdm\n",
    "\n",
    "import torch\n",
    "import torchvision\n",
    "import torchvision.transforms as transforms\n",
    "import torch.nn as nn\n",
    "import torch.nn.functional as F\n",
    "import torchvision.models as models\n",
    "import torch.optim as optim\n",
    "from torch.optim.lr_scheduler import LambdaLR\n",
    "import torch.utils.data as data\n",
    "from torch.utils.tensorboard import SummaryWriter\n",
    "from advertorch.attacks import GradientSignAttack\n",
    "from torch.nn.utils import weight_norm"
   ]
  },
  {
   "cell_type": "code",
   "execution_count": 2,
   "metadata": {},
   "outputs": [],
   "source": [
    "import sys\n",
    "sys.path.append(\"../src/\")\n",
    "\n",
    "from datasetManager import DatasetManager\n",
    "from generators import Generator, CoTrainingGenerator\n",
    "from samplers import CoTrainingSampler\n",
    "import signal_augmentations as sa \n",
    "\n",
    "from models import cnn\n",
    "from losses import loss_cot, loss_diff, loss_diff, p_loss_diff, p_loss_sup\n",
    "from metrics import CategoricalAccuracy, Ratio\n",
    "from ramps import Warmup, sigmoid_rampup"
   ]
  },
  {
   "cell_type": "markdown",
   "metadata": {},
   "source": [
    "# Utils"
   ]
  },
  {
   "cell_type": "markdown",
   "metadata": {},
   "source": [
    "## Arguments"
   ]
  },
  {
   "cell_type": "code",
   "execution_count": 22,
   "metadata": {
    "pycharm": {
     "is_executing": false
    }
   },
   "outputs": [],
   "source": [
    "class Args:\n",
    "    def __init__(self):\n",
    "        self.sess = \"default\"\n",
    "        self.nb_view = 2\n",
    "        self.batchsize = 100\n",
    "        self.lambda_cot_max = 10\n",
    "        self.lambda_diff_max = 0.5\n",
    "        self.ratio = 0.1\n",
    "        self.seed = 1234\n",
    "        self.epochs = 600\n",
    "        self.warm_up = 80\n",
    "        self.momentum = 0.0\n",
    "        self.decay = 1e-3\n",
    "        self.epsilon = 0.02\n",
    "        self.num_class = 10\n",
    "        self.cifar10_dir = \"/corpus/corpus/UrbanSound8K\"\n",
    "        self.tensorboard_dir = \"tensoboard_cotraining\"\n",
    "        self.checkpoint_dir = \"checkpoint\"\n",
    "        self.base_lr = 0.05\n",
    "        self.resume = False\n",
    "        self.job_name = \"default\"\n",
    "        self.multi_gpu = False\n",
    "args = Args()"
   ]
  },
  {
   "cell_type": "markdown",
   "metadata": {},
   "source": [
    "## Reproducibility"
   ]
  },
  {
   "cell_type": "code",
   "execution_count": 4,
   "metadata": {},
   "outputs": [],
   "source": [
    "def reset_seed(seed):\n",
    "    random.seed(seed)\n",
    "    torch.manual_seed(seed)\n",
    "    torch.cuda.manual_seed_all(seed)\n",
    "    np.random.seed(seed)\n",
    "    torch.backends.cudnn.deterministic=True\n",
    "    torch.backends.cudnn.benchmark = False\n",
    "reset_seed(args.seed)"
   ]
  },
  {
   "cell_type": "code",
   "execution_count": 5,
   "metadata": {},
   "outputs": [],
   "source": [
    "import datetime\n",
    "\n",
    "def get_datetime():\n",
    "    now = datetime.datetime.now()\n",
    "    return str(now)[:10] + \"_\" + str(now)[11:-7]"
   ]
  },
  {
   "cell_type": "markdown",
   "metadata": {},
   "source": [
    "# Dataset"
   ]
  },
  {
   "cell_type": "code",
   "execution_count": 23,
   "metadata": {},
   "outputs": [
    {
     "data": {
      "application/vnd.jupyter.widget-view+json": {
       "model_id": "14b9b1ca27994334b51e6d608810617a",
       "version_major": 2,
       "version_minor": 0
      },
      "text/plain": [
       "HBox(children=(IntProgress(value=0, max=9), HTML(value='')))"
      ]
     },
     "metadata": {},
     "output_type": "display_data"
    },
    {
     "name": "stdout",
     "output_type": "stream",
     "text": [
      "\n"
     ]
    },
    {
     "data": {
      "application/vnd.jupyter.widget-view+json": {
       "model_id": "68879921256040b98df0c4aa9794e8bb",
       "version_major": 2,
       "version_minor": 0
      },
      "text/plain": [
       "HBox(children=(IntProgress(value=0, max=1), HTML(value='')))"
      ]
     },
     "metadata": {},
     "output_type": "display_data"
    },
    {
     "name": "stdout",
     "output_type": "stream",
     "text": [
      "\n"
     ]
    }
   ],
   "source": [
    "# load the data\n",
    "audio_root = \"../dataset/audio\"\n",
    "metadata_root = \"../dataset/metadata\"\n",
    "dataset = DatasetManager(metadata_root, audio_root, verbose=2)\n",
    "\n",
    "# prepare the sampler with the specified number of supervised file\n",
    "nb_train_file = len(dataset.audio[\"train\"])\n",
    "nb_s_file = int(nb_train_file * args.ratio)\n",
    "nb_s_file = nb_s_file - (nb_s_file % DatasetManager.NB_CLASS)  # need to be a multiple of number of class\n",
    "nb_u_file = nb_train_file - nb_s_file\n",
    "\n",
    "\n",
    "sampler = CoTrainingSampler(args.batchsize, nb_s_file, nb_u_file, nb_view=args.nb_view, ratio=None, method=\"duplicate\") # ratio is manually set here\n",
    "train_dataset = CoTrainingGenerator(dataset, sampler)"
   ]
  },
  {
   "cell_type": "markdown",
   "metadata": {},
   "source": [
    "# Prep training"
   ]
  },
  {
   "cell_type": "markdown",
   "metadata": {},
   "source": [
    "## Models"
   ]
  },
  {
   "cell_type": "code",
   "execution_count": 24,
   "metadata": {},
   "outputs": [],
   "source": [
    "model_func = cnn\n",
    "\n",
    "m1, m2 = model_func(), model_func()\n",
    "\n",
    "m1 = m1.cuda()\n",
    "m2 = m2.cuda()"
   ]
  },
  {
   "cell_type": "markdown",
   "metadata": {},
   "source": [
    "## Loaders & adversarial generators"
   ]
  },
  {
   "cell_type": "code",
   "execution_count": 25,
   "metadata": {
    "pycharm": {
     "is_executing": false
    }
   },
   "outputs": [
    {
     "data": {
      "application/vnd.jupyter.widget-view+json": {
       "model_id": "ec3bcf6dedd34f67bbef4bc4402b690f",
       "version_major": 2,
       "version_minor": 0
      },
      "text/plain": [
       "HBox(children=(IntProgress(value=0, max=837), HTML(value='')))"
      ]
     },
     "metadata": {},
     "output_type": "display_data"
    },
    {
     "name": "stdout",
     "output_type": "stream",
     "text": [
      "\n"
     ]
    }
   ],
   "source": [
    "\n",
    "x, y = train_dataset.validation\n",
    "x = torch.from_numpy(x)\n",
    "y = torch.from_numpy(y)\n",
    "val_dataset = torch.utils.data.TensorDataset(x, y)\n",
    "\n",
    "train_loader = data.DataLoader(train_dataset, batch_sampler=sampler, num_workers=4)\n",
    "val_loader = data.DataLoader(val_dataset, batch_size=128, num_workers=4)\n",
    "\n",
    "# adversarial generation\n",
    "adv_generator_1 = GradientSignAttack(\n",
    "    m1, loss_fn=nn.CrossEntropyLoss(reduction=\"sum\"),\n",
    "    eps=args.epsilon, clip_min=-math.inf, clip_max=math.inf, targeted=False\n",
    ")\n",
    "\n",
    "adv_generator_2 = GradientSignAttack(\n",
    "    m2, loss_fn=nn.CrossEntropyLoss(reduction=\"sum\"),\n",
    "    eps=args.epsilon, clip_min=-math.inf, clip_max=math.inf, targeted=False\n",
    ")"
   ]
  },
  {
   "cell_type": "markdown",
   "metadata": {},
   "source": [
    "## optimizers & callbacks "
   ]
  },
  {
   "cell_type": "code",
   "execution_count": 26,
   "metadata": {},
   "outputs": [],
   "source": [
    "params = list(m1.parameters()) + list(m2.parameters())\n",
    "optimizer = optim.SGD(params, lr=args.base_lr, momentum=args.momentum, weight_decay=args.decay)\n",
    "\n",
    "lr_lambda = lambda epoch: (1.0 + math.cos((epoch-1)*math.pi/args.epochs))\n",
    "lr_scheduler = LambdaLR(optimizer, lr_lambda)\n",
    "\n",
    "callbacks = [lr_scheduler]"
   ]
  },
  {
   "cell_type": "markdown",
   "metadata": {},
   "source": [
    "## Metrics and hyperparameters"
   ]
  },
  {
   "cell_type": "code",
   "execution_count": 27,
   "metadata": {},
   "outputs": [],
   "source": [
    "# define the metrics\n",
    "ratioS = [Ratio(), Ratio()]\n",
    "ratioU = [Ratio(), Ratio()]\n",
    "ratioSU = [Ratio(), Ratio()]\n",
    "accS = [CategoricalAccuracy(), CategoricalAccuracy()]\n",
    "accU = [CategoricalAccuracy(), CategoricalAccuracy()]\n",
    "accSU = [CategoricalAccuracy(), CategoricalAccuracy()]\n",
    "\n",
    "# define the warmups\n",
    "lambda_cot = Warmup(args.lambda_cot_max, args.warm_up, sigmoid_rampup)\n",
    "lambda_diff = Warmup(args.lambda_diff_max, args.warm_up, sigmoid_rampup)\n",
    "\n",
    "def reset_all_metrics():\n",
    "    all_metrics = [*ratioS, *ratioU, *ratioSU, *accS, *accU, *accSU]\n",
    "    for m in all_metrics:\n",
    "        m.reset()\n",
    "\n",
    "title = \"%s_%s_%slcm_%sldm_%swl\" % (\n",
    "    get_datetime(),\n",
    "    args.job_name,\n",
    "    args.lambda_cot_max,\n",
    "    args.lambda_diff_max,\n",
    "    args.warm_up,\n",
    ")\n",
    "tensorboard = SummaryWriter(\"%s/%s\" % (args.tensorboard_dir, title))"
   ]
  },
  {
   "cell_type": "markdown",
   "metadata": {},
   "source": [
    "# Training"
   ]
  },
  {
   "cell_type": "code",
   "execution_count": 28,
   "metadata": {},
   "outputs": [],
   "source": [
    "def train(epoch):\n",
    "    m1.train()\n",
    "    m2.train()\n",
    "\n",
    "    running_loss = 0.0\n",
    "    ls = 0.0\n",
    "    lc = 0.0 \n",
    "    ld = 0.0\n",
    "    \n",
    "    start_time = time.time()\n",
    "    print(\"\")\n",
    "    \n",
    "    for batch, (X, y) in enumerate(train_loader):\n",
    "        X = [x.squeeze() for x in X]\n",
    "        y = [y_.squeeze() for y_ in y]\n",
    "    \n",
    "        # separate Supervised (S) and Unsupervised (U) parts\n",
    "        X_S, X_U = X[:-1], X[-1]\n",
    "        y_S, y_U = y[:-1], y[-1]\n",
    "        \n",
    "        for i in range(len(X_S)):\n",
    "            X_S[i] = X_S[i].cuda()\n",
    "            y_S[i] = y_S[i].cuda()\n",
    "        X_U, y_U = X_U.cuda(), y_U.cuda()\n",
    "\n",
    "        logits_S1 = m1(X_S[0])\n",
    "        logits_S2 = m2(X_S[1])\n",
    "        logits_U1 = m1(X_U)\n",
    "        logits_U2 = m2(X_U)\n",
    "\n",
    "        _, pred_S1 = torch.max(logits_S1, 1)\n",
    "        _, pred_S2 = torch.max(logits_S2, 1)\n",
    "\n",
    "        # pseudo labels of U \n",
    "        _, pred_U1 = torch.max(logits_U1, 1)\n",
    "        _, pred_U2 = torch.max(logits_U2, 1)\n",
    "\n",
    "        # ======== Generate adversarial examples ========\n",
    "        # fix batchnorm ----\n",
    "        m1.eval()\n",
    "        m2.eval()\n",
    "\n",
    "        #generate adversarial examples ----\n",
    "        adv_data_S1 = adv_generator_1.perturb(X_S[0], y_S[0])\n",
    "        adv_data_U1 = adv_generator_1.perturb(X_U, pred_U1)\n",
    "\n",
    "        adv_data_S2 = adv_generator_2.perturb(X_S[1], y_S[1])\n",
    "        adv_data_U2 = adv_generator_2.perturb(X_U, pred_U2)\n",
    "\n",
    "        m1.train()\n",
    "        m2.train()\n",
    "\n",
    "        # predict adversarial examples ----\n",
    "        adv_logits_S1 = m1(adv_data_S2)\n",
    "        adv_logits_S2 = m2(adv_data_S1)\n",
    "\n",
    "        adv_logits_U1 = m1(adv_data_U2)\n",
    "        adv_logits_U2 = m2(adv_data_U1)\n",
    "\n",
    "        # ======== calculate the differents loss ========\n",
    "        # zero the parameter gradients ----\n",
    "        optimizer.zero_grad()\n",
    "        m1.zero_grad()\n",
    "        m2.zero_grad()\n",
    "\n",
    "        # losses ----\n",
    "        Loss_sup_S1, Loss_sup_S2, Loss_sup = p_loss_sup(logits_S1, logits_S2, y_S[0], y_S[1])\n",
    "        Loss_cot = loss_cot(logits_U1, logits_U2)\n",
    "        pld_S, pld_U, Loss_diff = p_loss_diff(logits_S1, logits_S2, adv_logits_S1, adv_logits_S2, logits_U1, logits_U2, adv_logits_U1, adv_logits_U2)\n",
    "        \n",
    "        total_loss = Loss_sup + lambda_cot.next() * Loss_cot + lambda_diff.next() * Loss_diff\n",
    "        total_loss.backward()\n",
    "        optimizer.step()\n",
    "\n",
    "        # ======== Calc the metrics ========\n",
    "        # accuracies ----\n",
    "        pred_SU1 = torch.cat((pred_S1, pred_U1), 0)\n",
    "        pred_SU2 = torch.cat((pred_S2, pred_U2), 0)\n",
    "        y_SU1 = torch.cat((y_S[0], y_U), 0)\n",
    "        y_SU2 = torch.cat((y_S[1], y_U), 0)\n",
    "\n",
    "        acc_S1 = accS[0](pred_S1, y_S[0])\n",
    "        acc_S2 = accS[1](pred_S2, y_S[1])\n",
    "        acc_U1 = accU[0](pred_U1, y_U)\n",
    "        acc_U2 = accU[1](pred_U2, y_U)\n",
    "        acc_SU1 = accSU[0](pred_SU1, y_SU1)\n",
    "        acc_SU2 = accSU[1](pred_SU2, y_SU2)\n",
    "        \n",
    "        # ratios  ----\n",
    "        _, adv_pred_S1 = torch.max(adv_logits_S1, 1)\n",
    "        _, adv_pred_S2 = torch.max(adv_logits_S2, 1)\n",
    "        _, adv_pred_U1 = torch.max(adv_logits_U1, 1)\n",
    "        _, adv_pred_U2 = torch.max(adv_logits_U2, 1)\n",
    "\n",
    "        adv_pred_SU1 = torch.cat((adv_pred_S1, adv_pred_U1), 0)\n",
    "        adv_pred_SU2 = torch.cat((adv_pred_S2, adv_pred_U2), 0)\n",
    "        adv_y_SU1 = torch.cat((y_S[0], pred_U1), 0)\n",
    "        adv_y_SU2 = torch.cat((y_S[1], pred_U2), 0)\n",
    "\n",
    "        ratio_S1 = ratioS[0](adv_pred_S1, y_S[0])\n",
    "        ratio_S2 = ratioS[1](adv_pred_S2, y_S[1])\n",
    "        ratio_U1 = ratioU[0](adv_pred_U1, pred_U1)\n",
    "        ratio_U2 = ratioU[1](adv_pred_U2, pred_U2)\n",
    "        ratio_SU1 = ratioSU[0](adv_pred_SU1, adv_y_SU1)\n",
    "        ratio_SU2 = ratioSU[1](adv_pred_SU2, adv_y_SU2)\n",
    "        # ========\n",
    "        \n",
    "        running_loss += total_loss.item()\n",
    "        ls += Loss_sup.item()\n",
    "        lc += Loss_cot.item()\n",
    "        ld += Loss_diff.item()\n",
    "        \n",
    "        # print statistics\n",
    "        print(\"Epoch %s: %.2f%% : train acc: %.3f %.3f - Loss: %.3f %.3f %.3f %.3f - time: %.2f\" % (\n",
    "            epoch, (batch / len(sampler)) * 100,\n",
    "            acc_SU1, acc_SU2,\n",
    "            running_loss/(batch+1), ls/(batch+1), lc/(batch+1), ld/(batch+1),\n",
    "            time.time() - start_time,\n",
    "        ), end=\"\\r\")\n",
    "\n",
    "    # using tensorboard to monitor loss and acc\\n\",\n",
    "    tensorboard.add_scalar('train/total_loss', total_loss.item(), epoch)\n",
    "    tensorboard.add_scalar('train/Lsup', Loss_sup.item(), epoch )\n",
    "    tensorboard.add_scalar('train/Lcot', Loss_cot.item(), epoch )\n",
    "    tensorboard.add_scalar('train/Ldiff', Loss_diff.item(), epoch )\n",
    "    tensorboard.add_scalar(\"train/acc_1\", acc_SU1, epoch )\n",
    "    tensorboard.add_scalar(\"train/acc_2\", acc_SU2, epoch )\n",
    "\n",
    "    tensorboard.add_scalar(\"detail_loss/Lsus S1\", Loss_sup_S1.item(), epoch)\n",
    "    tensorboard.add_scalar(\"detail_loss/Lsus S2\", Loss_sup_S2.item(), epoch)\n",
    "    tensorboard.add_scalar(\"detail_loss/Ldiff S\", pld_S.item(), epoch)\n",
    "    tensorboard.add_scalar(\"detail_loss/Ldiff U\", pld_U.item(), epoch)\n",
    "\n",
    "    tensorboard.add_scalar(\"detail_acc/acc S1\", acc_S1, epoch)\n",
    "    tensorboard.add_scalar(\"detail_acc/acc S2\", acc_S2, epoch)\n",
    "    tensorboard.add_scalar(\"detail_acc/acc U1\", acc_U1, epoch)\n",
    "    tensorboard.add_scalar(\"detail_acc/acc U2\", acc_U2, epoch)\n",
    "\n",
    "    tensorboard.add_scalar(\"detail_ratio/ratio S1\", ratio_S1, epoch)\n",
    "    tensorboard.add_scalar(\"detail_ratio/ratio S2\", ratio_S2, epoch)\n",
    "    tensorboard.add_scalar(\"detail_ratio/ratio U1\", ratio_U1, epoch)\n",
    "    tensorboard.add_scalar(\"detail_ratio/ratio U2\", ratio_U2, epoch)\n",
    "    tensorboard.add_scalar(\"detail_ratio/ratio SU1\", ratio_SU1, epoch)\n",
    "    tensorboard.add_scalar(\"detail_ratio/ratio SU2\", ratio_SU2, epoch)"
   ]
  },
  {
   "cell_type": "code",
   "execution_count": 29,
   "metadata": {
    "collapsed": false,
    "jupyter": {
     "outputs_hidden": false
    },
    "pycharm": {
     "name": "#%%\n"
    }
   },
   "outputs": [],
   "source": [
    "def test(epoch):\n",
    "    global best_acc\n",
    "    m1.eval()\n",
    "    m2.eval()\n",
    "    correct1 = 0\n",
    "    correct2 = 0\n",
    "    total1 = 0\n",
    "    total2 = 0\n",
    "    with torch.no_grad():\n",
    "        for batch_idx, (inputs, targets) in enumerate(val_loader):\n",
    "            inputs = inputs.cuda()\n",
    "            targets = targets.cuda()\n",
    "\n",
    "            outputs1 = m1(inputs)\n",
    "            predicted1 = outputs1.max(1)\n",
    "            total1 += targets.size(0)\n",
    "            correct1 += predicted1[1].eq(targets).sum().item()\n",
    "\n",
    "            outputs2 = m2(inputs)\n",
    "            predicted2 = outputs2.max(1)\n",
    "            total2 += targets.size(0)\n",
    "            correct2 += predicted2[1].eq(targets).sum().item()\n",
    "\n",
    "    print('\\nnet1 test acc: %.3f%% (%d/%d) | net2 test acc: %.3f%% (%d/%d)'\n",
    "        % (100.*correct1/total1, correct1, total1, 100.*correct2/total2, correct2, total2))\n",
    "    \n",
    "    tensorboard.add_scalar(\"val/acc 1\", correct1 / total1, epoch)\n",
    "    tensorboard.add_scalar(\"val/acc 2\", correct2 / total2, epoch)\n",
    "\n",
    "    # Apply callbacks\n",
    "    for c in callbacks:\n",
    "        c.step()\n"
   ]
  },
  {
   "cell_type": "code",
   "execution_count": 30,
   "metadata": {
    "collapsed": false,
    "jupyter": {
     "outputs_hidden": false
    },
    "pycharm": {
     "name": "#%%\n"
    }
   },
   "outputs": [
    {
     "name": "stdout",
     "output_type": "stream",
     "text": [
      "\n",
      "Epoch 0: 97.44% : train acc: 0.216 0.191 - Loss: 5.262 4.159 0.061 4.733 - time: 17.18\n",
      "net1 test acc: 34.050% (285/837) | net2 test acc: 31.900% (267/837)\n",
      "\n",
      "Epoch 1: 97.44% : train acc: 0.238 0.217 - Loss: 6.345 3.599 0.050 4.483 - time: 15.80\n",
      "net1 test acc: 34.409% (288/837) | net2 test acc: 34.528% (289/837)\n",
      "\n",
      "Epoch 2: 97.44% : train acc: 0.262 0.236 - Loss: 5.728 3.013 0.064 4.160 - time: 15.71\n",
      "net1 test acc: 35.245% (295/837) | net2 test acc: 33.692% (282/837)\n",
      "\n",
      "Epoch 3: 97.44% : train acc: 0.278 0.249 - Loss: 5.163 2.677 0.058 3.812 - time: 16.21\n",
      "net1 test acc: 27.240% (228/837) | net2 test acc: 29.271% (245/837)\n",
      "\n",
      "Epoch 4: 97.44% : train acc: 0.291 0.263 - Loss: 4.864 2.369 0.067 3.641 - time: 16.18\n",
      "net1 test acc: 30.227% (253/837) | net2 test acc: 33.333% (279/837)\n",
      "\n",
      "Epoch 5: 97.44% : train acc: 0.304 0.278 - Loss: 4.338 2.066 0.066 3.228 - time: 16.40\n",
      "net1 test acc: 30.824% (258/837) | net2 test acc: 28.315% (237/837)\n",
      "\n",
      "Epoch 6: 97.44% : train acc: 0.316 0.292 - Loss: 3.941 1.794 0.069 2.907 - time: 16.50\n",
      "net1 test acc: 30.227% (253/837) | net2 test acc: 38.590% (323/837)\n",
      "\n",
      "Epoch 7: 97.44% : train acc: 0.328 0.305 - Loss: 3.560 1.551 0.070 2.609 - time: 16.13\n",
      "net1 test acc: 36.798% (308/837) | net2 test acc: 37.515% (314/837)\n",
      "\n",
      "Epoch 8: 97.44% : train acc: 0.339 0.317 - Loss: 3.295 1.382 0.070 2.432 - time: 15.68\n",
      "net1 test acc: 40.621% (340/837) | net2 test acc: 39.307% (329/837)\n",
      "\n",
      "Epoch 9: 97.44% : train acc: 0.348 0.329 - Loss: 3.008 1.245 0.071 2.109 - time: 15.91\n",
      "net1 test acc: 42.652% (357/837) | net2 test acc: 37.395% (313/837)\n",
      "\n",
      "Epoch 10: 97.44% : train acc: 0.357 0.338 - Loss: 2.680 1.106 0.067 1.810 - time: 16.01\n",
      "net1 test acc: 42.772% (358/837) | net2 test acc: 34.767% (291/837)\n",
      "\n",
      "Epoch 11: 97.44% : train acc: 0.365 0.347 - Loss: 2.343 0.953 0.059 1.610 - time: 16.06\n",
      "net1 test acc: 42.891% (359/837) | net2 test acc: 39.785% (333/837)\n",
      "\n",
      "Epoch 12: 97.44% : train acc: 0.371 0.354 - Loss: 2.219 0.884 0.057 1.525 - time: 15.98\n",
      "net1 test acc: 42.055% (352/837) | net2 test acc: 38.710% (324/837)\n",
      "\n",
      "Epoch 13: 97.44% : train acc: 0.378 0.362 - Loss: 1.977 0.764 0.053 1.363 - time: 16.19\n",
      "net1 test acc: 43.847% (367/837) | net2 test acc: 38.232% (320/837)\n",
      "\n",
      "Epoch 14: 97.44% : train acc: 0.383 0.368 - Loss: 1.900 0.715 0.053 1.314 - time: 16.24\n",
      "net1 test acc: 33.453% (280/837) | net2 test acc: 43.250% (362/837)\n",
      "\n",
      "Epoch 15: 97.44% : train acc: 0.388 0.374 - Loss: 1.756 0.638 0.050 1.243 - time: 17.25\n",
      "net1 test acc: 44.683% (374/837) | net2 test acc: 38.232% (320/837)\n",
      "\n",
      "Epoch 16: 97.44% : train acc: 0.393 0.379 - Loss: 1.715 0.614 0.049 1.215 - time: 17.16\n",
      "net1 test acc: 44.205% (370/837) | net2 test acc: 39.068% (327/837)\n",
      "\n",
      "Epoch 17: 97.44% : train acc: 0.397 0.384 - Loss: 1.593 0.571 0.046 1.126 - time: 16.47\n",
      "net1 test acc: 46.714% (391/837) | net2 test acc: 38.829% (325/837)\n",
      "\n",
      "Epoch 18: 97.44% : train acc: 0.401 0.389 - Loss: 1.456 0.487 0.044 1.060 - time: 16.94\n",
      "net1 test acc: 44.086% (369/837) | net2 test acc: 43.608% (365/837)\n",
      "\n",
      "Epoch 19: 97.44% : train acc: 0.405 0.393 - Loss: 1.376 0.418 0.044 1.039 - time: 16.65\n",
      "net1 test acc: 45.520% (381/837) | net2 test acc: 45.400% (380/837)\n",
      "\n",
      "Epoch 20: 97.44% : train acc: 0.408 0.396 - Loss: 1.840 0.669 0.053 1.277 - time: 16.16\n",
      "net1 test acc: 43.967% (368/837) | net2 test acc: 45.281% (379/837)\n",
      "\n",
      "Epoch 21: 97.44% : train acc: 0.411 0.399 - Loss: 1.633 0.555 0.049 1.174 - time: 16.03\n",
      "net1 test acc: 45.759% (383/837) | net2 test acc: 40.860% (342/837)\n",
      "\n",
      "Epoch 22: 97.44% : train acc: 0.413 0.402 - Loss: 1.413 0.443 0.044 1.058 - time: 16.16\n",
      "net1 test acc: 45.639% (382/837) | net2 test acc: 44.086% (369/837)\n",
      "\n",
      "Epoch 23: 97.44% : train acc: 0.403 0.393 - Loss: nan nan nan nan - time: 16.42.654.26\n",
      "net1 test acc: 11.947% (100/837) | net2 test acc: 11.947% (100/837)\n",
      "\n",
      "Epoch 24: 97.44% : train acc: 0.392 0.382 - Loss: nan nan nan nan - time: 16.04\n",
      "net1 test acc: 11.947% (100/837) | net2 test acc: 11.947% (100/837)\n",
      "\n",
      "Epoch 25: 78.21% : train acc: 0.383 0.374 - Loss: nan nan nan nan - time: 13.59\r"
     ]
    },
    {
     "name": "stderr",
     "output_type": "stream",
     "text": [
      "Exception ignored in: <function _MultiProcessingDataLoaderIter.__del__ at 0x7f5e37b28290>\n",
      "Traceback (most recent call last):\n",
      "  File \"/home/lcances/.miniconda3/envs/dl/lib/python3.7/site-packages/torch/utils/data/dataloader.py\", line 926, in __del__\n",
      "    self._shutdown_workers()\n",
      "  File \"/home/lcances/.miniconda3/envs/dl/lib/python3.7/site-packages/torch/utils/data/dataloader.py\", line 906, in _shutdown_workers\n",
      "    w.join()\n",
      "  File \"/home/lcances/.miniconda3/envs/dl/lib/python3.7/multiprocessing/process.py\", line 140, in join\n",
      "    res = self._popen.wait(timeout)\n",
      "  File \"/home/lcances/.miniconda3/envs/dl/lib/python3.7/multiprocessing/popen_fork.py\", line 48, in wait\n",
      "    return self.poll(os.WNOHANG if timeout == 0.0 else 0)\n",
      "  File \"/home/lcances/.miniconda3/envs/dl/lib/python3.7/multiprocessing/popen_fork.py\", line 28, in poll\n",
      "    pid, sts = os.waitpid(self.pid, flag)\n",
      "KeyboardInterrupt: \n"
     ]
    },
    {
     "ename": "KeyboardInterrupt",
     "evalue": "",
     "output_type": "error",
     "traceback": [
      "\u001b[0;31m---------------------------------------------------------------------------\u001b[0m",
      "\u001b[0;31mKeyboardInterrupt\u001b[0m                         Traceback (most recent call last)",
      "\u001b[0;32m<ipython-input-30-439bc548ff0f>\u001b[0m in \u001b[0;36m<module>\u001b[0;34m\u001b[0m\n\u001b[1;32m      1\u001b[0m \u001b[0;32mfor\u001b[0m \u001b[0mepoch\u001b[0m \u001b[0;32min\u001b[0m \u001b[0mrange\u001b[0m\u001b[0;34m(\u001b[0m\u001b[0;36m0\u001b[0m\u001b[0;34m,\u001b[0m \u001b[0margs\u001b[0m\u001b[0;34m.\u001b[0m\u001b[0mepochs\u001b[0m\u001b[0;34m)\u001b[0m\u001b[0;34m:\u001b[0m\u001b[0;34m\u001b[0m\u001b[0;34m\u001b[0m\u001b[0m\n\u001b[0;32m----> 2\u001b[0;31m     \u001b[0mtrain\u001b[0m\u001b[0;34m(\u001b[0m\u001b[0mepoch\u001b[0m\u001b[0;34m)\u001b[0m\u001b[0;34m\u001b[0m\u001b[0;34m\u001b[0m\u001b[0m\n\u001b[0m\u001b[1;32m      3\u001b[0m     \u001b[0mtest\u001b[0m\u001b[0;34m(\u001b[0m\u001b[0mepoch\u001b[0m\u001b[0;34m)\u001b[0m\u001b[0;34m\u001b[0m\u001b[0;34m\u001b[0m\u001b[0m\n\u001b[1;32m      4\u001b[0m \u001b[0;34m\u001b[0m\u001b[0m\n\u001b[1;32m      5\u001b[0m \u001b[0;31m# tensorboard.export_scalars_to_json('./' + args.tensorboard_dir + 'output.json')\u001b[0m\u001b[0;34m\u001b[0m\u001b[0;34m\u001b[0m\u001b[0;34m\u001b[0m\u001b[0m\n",
      "\u001b[0;32m<ipython-input-28-1ae56ecccab3>\u001b[0m in \u001b[0;36mtrain\u001b[0;34m(epoch)\u001b[0m\n\u001b[1;32m     46\u001b[0m \u001b[0;34m\u001b[0m\u001b[0m\n\u001b[1;32m     47\u001b[0m         \u001b[0madv_data_S2\u001b[0m \u001b[0;34m=\u001b[0m \u001b[0madv_generator_2\u001b[0m\u001b[0;34m.\u001b[0m\u001b[0mperturb\u001b[0m\u001b[0;34m(\u001b[0m\u001b[0mX_S\u001b[0m\u001b[0;34m[\u001b[0m\u001b[0;36m1\u001b[0m\u001b[0;34m]\u001b[0m\u001b[0;34m,\u001b[0m \u001b[0my_S\u001b[0m\u001b[0;34m[\u001b[0m\u001b[0;36m1\u001b[0m\u001b[0;34m]\u001b[0m\u001b[0;34m)\u001b[0m\u001b[0;34m\u001b[0m\u001b[0;34m\u001b[0m\u001b[0m\n\u001b[0;32m---> 48\u001b[0;31m         \u001b[0madv_data_U2\u001b[0m \u001b[0;34m=\u001b[0m \u001b[0madv_generator_2\u001b[0m\u001b[0;34m.\u001b[0m\u001b[0mperturb\u001b[0m\u001b[0;34m(\u001b[0m\u001b[0mX_U\u001b[0m\u001b[0;34m,\u001b[0m \u001b[0mpred_U2\u001b[0m\u001b[0;34m)\u001b[0m\u001b[0;34m\u001b[0m\u001b[0;34m\u001b[0m\u001b[0m\n\u001b[0m\u001b[1;32m     49\u001b[0m \u001b[0;34m\u001b[0m\u001b[0m\n\u001b[1;32m     50\u001b[0m         \u001b[0mm1\u001b[0m\u001b[0;34m.\u001b[0m\u001b[0mtrain\u001b[0m\u001b[0;34m(\u001b[0m\u001b[0;34m)\u001b[0m\u001b[0;34m\u001b[0m\u001b[0;34m\u001b[0m\u001b[0m\n",
      "\u001b[0;32m~/.miniconda3/envs/dl/lib/python3.7/site-packages/advertorch/attacks/one_step_gradient.py\u001b[0m in \u001b[0;36mperturb\u001b[0;34m(self, x, y)\u001b[0m\n\u001b[1;32m     66\u001b[0m         \u001b[0;32mif\u001b[0m \u001b[0mself\u001b[0m\u001b[0;34m.\u001b[0m\u001b[0mtargeted\u001b[0m\u001b[0;34m:\u001b[0m\u001b[0;34m\u001b[0m\u001b[0;34m\u001b[0m\u001b[0m\n\u001b[1;32m     67\u001b[0m             \u001b[0mloss\u001b[0m \u001b[0;34m=\u001b[0m \u001b[0;34m-\u001b[0m\u001b[0mloss\u001b[0m\u001b[0;34m\u001b[0m\u001b[0;34m\u001b[0m\u001b[0m\n\u001b[0;32m---> 68\u001b[0;31m         \u001b[0mloss\u001b[0m\u001b[0;34m.\u001b[0m\u001b[0mbackward\u001b[0m\u001b[0;34m(\u001b[0m\u001b[0;34m)\u001b[0m\u001b[0;34m\u001b[0m\u001b[0;34m\u001b[0m\u001b[0m\n\u001b[0m\u001b[1;32m     69\u001b[0m         \u001b[0mgrad_sign\u001b[0m \u001b[0;34m=\u001b[0m \u001b[0mxadv\u001b[0m\u001b[0;34m.\u001b[0m\u001b[0mgrad\u001b[0m\u001b[0;34m.\u001b[0m\u001b[0mdetach\u001b[0m\u001b[0;34m(\u001b[0m\u001b[0;34m)\u001b[0m\u001b[0;34m.\u001b[0m\u001b[0msign\u001b[0m\u001b[0;34m(\u001b[0m\u001b[0;34m)\u001b[0m\u001b[0;34m\u001b[0m\u001b[0;34m\u001b[0m\u001b[0m\n\u001b[1;32m     70\u001b[0m \u001b[0;34m\u001b[0m\u001b[0m\n",
      "\u001b[0;32m~/.miniconda3/envs/dl/lib/python3.7/site-packages/torch/tensor.py\u001b[0m in \u001b[0;36mbackward\u001b[0;34m(self, gradient, retain_graph, create_graph)\u001b[0m\n\u001b[1;32m    116\u001b[0m                 \u001b[0mproducts\u001b[0m\u001b[0;34m.\u001b[0m \u001b[0mDefaults\u001b[0m \u001b[0mto\u001b[0m\u001b[0;31m \u001b[0m\u001b[0;31m`\u001b[0m\u001b[0;31m`\u001b[0m\u001b[0;32mFalse\u001b[0m\u001b[0;31m`\u001b[0m\u001b[0;31m`\u001b[0m\u001b[0;34m.\u001b[0m\u001b[0;34m\u001b[0m\u001b[0;34m\u001b[0m\u001b[0m\n\u001b[1;32m    117\u001b[0m         \"\"\"\n\u001b[0;32m--> 118\u001b[0;31m         \u001b[0mtorch\u001b[0m\u001b[0;34m.\u001b[0m\u001b[0mautograd\u001b[0m\u001b[0;34m.\u001b[0m\u001b[0mbackward\u001b[0m\u001b[0;34m(\u001b[0m\u001b[0mself\u001b[0m\u001b[0;34m,\u001b[0m \u001b[0mgradient\u001b[0m\u001b[0;34m,\u001b[0m \u001b[0mretain_graph\u001b[0m\u001b[0;34m,\u001b[0m \u001b[0mcreate_graph\u001b[0m\u001b[0;34m)\u001b[0m\u001b[0;34m\u001b[0m\u001b[0;34m\u001b[0m\u001b[0m\n\u001b[0m\u001b[1;32m    119\u001b[0m \u001b[0;34m\u001b[0m\u001b[0m\n\u001b[1;32m    120\u001b[0m     \u001b[0;32mdef\u001b[0m \u001b[0mregister_hook\u001b[0m\u001b[0;34m(\u001b[0m\u001b[0mself\u001b[0m\u001b[0;34m,\u001b[0m \u001b[0mhook\u001b[0m\u001b[0;34m)\u001b[0m\u001b[0;34m:\u001b[0m\u001b[0;34m\u001b[0m\u001b[0;34m\u001b[0m\u001b[0m\n",
      "\u001b[0;32m~/.miniconda3/envs/dl/lib/python3.7/site-packages/torch/autograd/__init__.py\u001b[0m in \u001b[0;36mbackward\u001b[0;34m(tensors, grad_tensors, retain_graph, create_graph, grad_variables)\u001b[0m\n\u001b[1;32m     91\u001b[0m     Variable._execution_engine.run_backward(\n\u001b[1;32m     92\u001b[0m         \u001b[0mtensors\u001b[0m\u001b[0;34m,\u001b[0m \u001b[0mgrad_tensors\u001b[0m\u001b[0;34m,\u001b[0m \u001b[0mretain_graph\u001b[0m\u001b[0;34m,\u001b[0m \u001b[0mcreate_graph\u001b[0m\u001b[0;34m,\u001b[0m\u001b[0;34m\u001b[0m\u001b[0;34m\u001b[0m\u001b[0m\n\u001b[0;32m---> 93\u001b[0;31m         allow_unreachable=True)  # allow_unreachable flag\n\u001b[0m\u001b[1;32m     94\u001b[0m \u001b[0;34m\u001b[0m\u001b[0m\n\u001b[1;32m     95\u001b[0m \u001b[0;34m\u001b[0m\u001b[0m\n",
      "\u001b[0;31mKeyboardInterrupt\u001b[0m: "
     ]
    }
   ],
   "source": [
    "for epoch in range(0, args.epochs):\n",
    "    train(epoch)\n",
    "    test(epoch)\n",
    "\n",
    "# tensorboard.export_scalars_to_json('./' + args.tensorboard_dir + 'output.json')\n",
    "# tensorboard.close()\n"
   ]
  },
  {
   "cell_type": "markdown",
   "source": [
    "# ♫♪.ılılıll|̲̅̅●̲̅̅|̲̅̅=̲̅̅|̲̅̅●̲̅̅|llılılı.♫♪"
   ],
   "metadata": {
    "collapsed": false
   }
  },
  {
   "cell_type": "markdown",
   "metadata": {},
   "source": [
    "# ♫♪.ılılıll|̲̅̅●̲̅̅|̲̅̅=̲̅̅|̲̅̅●̲̅̅|llılılı.♫♪"
   ]
  }
 ],
 "metadata": {
  "kernelspec": {
   "display_name": "Python 3",
   "language": "python",
   "name": "python3"
  },
  "language_info": {
   "codemirror_mode": {
    "name": "ipython",
    "version": 3
   },
   "file_extension": ".py",
   "mimetype": "text/x-python",
   "name": "python",
   "nbconvert_exporter": "python",
   "pygments_lexer": "ipython3",
   "version": "3.7.4"
  },
  "pycharm": {
   "stem_cell": {
    "cell_type": "raw",
    "source": [],
    "metadata": {
     "collapsed": false
    }
   }
  },
  "toc-autonumbering": true
 },
 "nbformat": 4,
 "nbformat_minor": 4
}