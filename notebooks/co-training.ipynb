{
 "cells": [
  {
   "cell_type": "markdown",
   "metadata": {},
   "source": [
    "# Import"
   ]
  },
  {
   "cell_type": "code",
   "execution_count": 26,
   "metadata": {},
   "outputs": [],
   "source": [
    "import numpy as np\n",
    "import os\n",
    "import time\n",
    "import math\n",
    "import pickle\n",
    "import argparse\n",
    "import random\n",
    "from random import shuffle\n",
    "from tqdm import tqdm_notebook as tqdm\n",
    "\n",
    "import torch\n",
    "import torchvision\n",
    "import torchvision.transforms as transforms\n",
    "import torch.nn as nn\n",
    "import torch.nn.functional as F\n",
    "import torchvision.models as models\n",
    "import torch.optim as optim\n",
    "from torch.optim.lr_scheduler import LambdaLR\n",
    "import torch.utils.data as data\n",
    "from torch.utils.tensorboard import SummaryWriter\n",
    "from advertorch.attacks import GradientSignAttack\n",
    "from torch.nn.utils import weight_norm"
   ]
  },
  {
   "cell_type": "code",
   "execution_count": 27,
   "metadata": {},
   "outputs": [],
   "source": [
    "import sys\n",
    "sys.path.append(\"../src/\")\n",
    "\n",
    "from datasetManager import DatasetManager\n",
    "from generators import Generator, CoTrainingGenerator\n",
    "from samplers import CoTrainingSampler\n",
    "import signal_augmentations as sa \n",
    "\n",
    "from models import cnn\n",
    "from losses import loss_cot, loss_diff, loss_diff, p_loss_diff, p_loss_sup\n",
    "from metrics import CategoricalAccuracy, Ratio\n",
    "from ramps import Warmup, sigmoid_rampup"
   ]
  },
  {
   "cell_type": "markdown",
   "metadata": {},
   "source": [
    "# Utils"
   ]
  },
  {
   "cell_type": "markdown",
   "metadata": {},
   "source": [
    "## Arguments"
   ]
  },
  {
   "cell_type": "code",
   "execution_count": 29,
   "metadata": {
    "pycharm": {
     "is_executing": false
    }
   },
   "outputs": [],
   "source": [
    "class Args:\n",
    "    def __init__(self):\n",
    "        self.sess = \"default\"\n",
    "        self.nb_view = 2\n",
    "        self.batchsize = 100\n",
    "        self.lambda_cot_max = 10\n",
    "        self.lambda_diff_max = 0.5\n",
    "        self.ratio = 0.1\n",
    "        self.seed = 1234\n",
    "        self.epochs = 600\n",
    "        self.warm_up = 80\n",
    "        self.momentum = 0.0\n",
    "        self.decay = 1e-3\n",
    "        self.epsilon = 0.02\n",
    "        self.num_class = 10\n",
    "        self.cifar10_dir = \"/corpus/corpus/UrbanSound8K\"\n",
    "        self.tensorboard_dir = \"tensoboard_cotraining\"\n",
    "        self.checkpoint_dir = \"checkpoint\"\n",
    "        self.base_lr = 0.05\n",
    "        self.resume = False\n",
    "        self.job_name = \"default\"\n",
    "        self.multi_gpu = False\n",
    "args = Args()"
   ]
  },
  {
   "cell_type": "markdown",
   "metadata": {},
   "source": [
    "## Reproducibility"
   ]
  },
  {
   "cell_type": "code",
   "execution_count": 30,
   "metadata": {},
   "outputs": [],
   "source": [
    "def reset_seed(seed):\n",
    "    random.seed(seed)\n",
    "    torch.manual_seed(seed)\n",
    "    torch.cuda.manual_seed_all(seed)\n",
    "    np.random.seed(seed)\n",
    "    torch.backends.cudnn.deterministic=True\n",
    "    torch.backends.cudnn.benchmark = False\n",
    "reset_seed(args.seed)"
   ]
  },
  {
   "cell_type": "code",
   "execution_count": 31,
   "metadata": {},
   "outputs": [],
   "source": [
    "import datetime\n",
    "\n",
    "def get_datetime():\n",
    "    now = datetime.datetime.now()\n",
    "    return str(now)[:10] + \"_\" + str(now)[11:-7]"
   ]
  },
  {
   "cell_type": "markdown",
   "metadata": {},
   "source": [
    "# Prep Co-Training"
   ]
  },
  {
   "cell_type": "markdown",
   "metadata": {},
   "source": [
    "## dataset"
   ]
  },
  {
   "cell_type": "code",
   "execution_count": 23,
   "metadata": {},
   "outputs": [
    {
     "data": {
      "application/vnd.jupyter.widget-view+json": {
       "model_id": "14b9b1ca27994334b51e6d608810617a",
       "version_major": 2,
       "version_minor": 0
      },
      "text/plain": [
       "HBox(children=(IntProgress(value=0, max=9), HTML(value='')))"
      ]
     },
     "metadata": {},
     "output_type": "display_data"
    },
    {
     "name": "stdout",
     "output_type": "stream",
     "text": [
      "\n"
     ]
    },
    {
     "data": {
      "application/vnd.jupyter.widget-view+json": {
       "model_id": "68879921256040b98df0c4aa9794e8bb",
       "version_major": 2,
       "version_minor": 0
      },
      "text/plain": [
       "HBox(children=(IntProgress(value=0, max=1), HTML(value='')))"
      ]
     },
     "metadata": {},
     "output_type": "display_data"
    },
    {
     "name": "stdout",
     "output_type": "stream",
     "text": [
      "\n"
     ]
    }
   ],
   "source": [
    "# load the data\n",
    "audio_root = \"../dataset/audio\"\n",
    "metadata_root = \"../dataset/metadata\"\n",
    "dataset = DatasetManager(metadata_root, audio_root, verbose=2)\n",
    "\n",
    "# prepare the sampler with the specified number of supervised file\n",
    "nb_train_file = len(dataset.audio[\"train\"])\n",
    "nb_s_file = int(nb_train_file * args.ratio)\n",
    "nb_s_file = nb_s_file - (nb_s_file % DatasetManager.NB_CLASS)  # need to be a multiple of number of class\n",
    "nb_u_file = nb_train_file - nb_s_file\n",
    "\n",
    "\n",
    "sampler = CoTrainingSampler(args.batchsize, nb_s_file, nb_u_file, nb_view=args.nb_view, ratio=None, method=\"duplicate\") # ratio is manually set here\n",
    "train_dataset = CoTrainingGenerator(dataset, sampler)"
   ]
  },
  {
   "cell_type": "markdown",
   "metadata": {},
   "source": [
    "## Models"
   ]
  },
  {
   "cell_type": "code",
   "execution_count": 24,
   "metadata": {},
   "outputs": [],
   "source": [
    "model_func = cnn\n",
    "\n",
    "m1, m2 = model_func(), model_func()\n",
    "\n",
    "m1 = m1.cuda()\n",
    "m2 = m2.cuda()"
   ]
  },
  {
   "cell_type": "markdown",
   "metadata": {},
   "source": [
    "## Loaders & adversarial generators"
   ]
  },
  {
   "cell_type": "code",
   "execution_count": 25,
   "metadata": {
    "pycharm": {
     "is_executing": false
    }
   },
   "outputs": [
    {
     "data": {
      "application/vnd.jupyter.widget-view+json": {
       "model_id": "ec3bcf6dedd34f67bbef4bc4402b690f",
       "version_major": 2,
       "version_minor": 0
      },
      "text/plain": [
       "HBox(children=(IntProgress(value=0, max=837), HTML(value='')))"
      ]
     },
     "metadata": {},
     "output_type": "display_data"
    },
    {
     "name": "stdout",
     "output_type": "stream",
     "text": [
      "\n"
     ]
    }
   ],
   "source": [
    "\n",
    "x, y = train_dataset.validation\n",
    "x = torch.from_numpy(x)\n",
    "y = torch.from_numpy(y)\n",
    "val_dataset = torch.utils.data.TensorDataset(x, y)\n",
    "\n",
    "train_loader = data.DataLoader(train_dataset, batch_sampler=sampler, num_workers=4)\n",
    "val_loader = data.DataLoader(val_dataset, batch_size=128, num_workers=4)\n",
    "\n",
    "# adversarial generation\n",
    "adv_generator_1 = GradientSignAttack(\n",
    "    m1, loss_fn=nn.CrossEntropyLoss(reduction=\"sum\"),\n",
    "    eps=args.epsilon, clip_min=-math.inf, clip_max=math.inf, targeted=False\n",
    ")\n",
    "\n",
    "adv_generator_2 = GradientSignAttack(\n",
    "    m2, loss_fn=nn.CrossEntropyLoss(reduction=\"sum\"),\n",
    "    eps=args.epsilon, clip_min=-math.inf, clip_max=math.inf, targeted=False\n",
    ")"
   ]
  },
  {
   "cell_type": "markdown",
   "metadata": {},
   "source": [
    "## optimizers & callbacks "
   ]
  },
  {
   "cell_type": "code",
   "execution_count": 26,
   "metadata": {},
   "outputs": [],
   "source": [
    "params = list(m1.parameters()) + list(m2.parameters())\n",
    "optimizer = optim.SGD(params, lr=args.base_lr, momentum=args.momentum, weight_decay=args.decay)\n",
    "\n",
    "lr_lambda = lambda epoch: (1.0 + math.cos((epoch-1)*math.pi/args.epochs))\n",
    "lr_scheduler = LambdaLR(optimizer, lr_lambda)\n",
    "\n",
    "callbacks = [lr_scheduler]"
   ]
  },
  {
   "cell_type": "markdown",
   "metadata": {},
   "source": [
    "## Metrics and hyperparameters"
   ]
  },
  {
   "cell_type": "code",
   "execution_count": 27,
   "metadata": {},
   "outputs": [],
   "source": [
    "# define the metrics\n",
    "ratioS = [Ratio(), Ratio()]\n",
    "ratioU = [Ratio(), Ratio()]\n",
    "ratioSU = [Ratio(), Ratio()]\n",
    "accS = [CategoricalAccuracy(), CategoricalAccuracy()]\n",
    "accU = [CategoricalAccuracy(), CategoricalAccuracy()]\n",
    "accSU = [CategoricalAccuracy(), CategoricalAccuracy()]\n",
    "\n",
    "# define the warmups\n",
    "lambda_cot = Warmup(args.lambda_cot_max, args.warm_up, sigmoid_rampup)\n",
    "lambda_diff = Warmup(args.lambda_diff_max, args.warm_up, sigmoid_rampup)\n",
    "\n",
    "def reset_all_metrics():\n",
    "    all_metrics = [*ratioS, *ratioU, *ratioSU, *accS, *accU, *accSU]\n",
    "    for m in all_metrics:\n",
    "        m.reset()\n",
    "        \n",
    "def get_lr(optimizer):\n",
    "    for param_group in optimizer.param_groups:\n",
    "        return param_group['lr']\n",
    "\n",
    "title = \"%s_%s_%slcm_%sldm_%swl\" % (\n",
    "    get_datetime(),\n",
    "    args.job_name,\n",
    "    args.lambda_cot_max,\n",
    "    args.lambda_diff_max,\n",
    "    args.warm_up,\n",
    ")\n",
    "tensorboard = SummaryWriter(\"%s/%s\" % (args.tensorboard_dir, title))"
   ]
  },
  {
   "cell_type": "markdown",
   "metadata": {},
   "source": [
    "# Training"
   ]
  },
  {
   "cell_type": "code",
   "execution_count": 28,
   "metadata": {},
   "outputs": [],
   "source": [
    "def train(epoch):\n",
    "    m1.train()\n",
    "    m2.train()\n",
    "\n",
    "    running_loss = 0.0\n",
    "    ls = 0.0\n",
    "    lc = 0.0 \n",
    "    ld = 0.0\n",
    "    \n",
    "    start_time = time.time()\n",
    "    print(\"\")\n",
    "    \n",
    "    for batch, (X, y) in enumerate(train_loader):\n",
    "        X = [x.squeeze() for x in X]\n",
    "        y = [y_.squeeze() for y_ in y]\n",
    "    \n",
    "        # separate Supervised (S) and Unsupervised (U) parts\n",
    "        X_S, X_U = X[:-1], X[-1]\n",
    "        y_S, y_U = y[:-1], y[-1]\n",
    "        \n",
    "        for i in range(len(X_S)):\n",
    "            X_S[i] = X_S[i].cuda()\n",
    "            y_S[i] = y_S[i].cuda()\n",
    "        X_U, y_U = X_U.cuda(), y_U.cuda()\n",
    "\n",
    "        logits_S1 = m1(X_S[0])\n",
    "        logits_S2 = m2(X_S[1])\n",
    "        logits_U1 = m1(X_U)\n",
    "        logits_U2 = m2(X_U)\n",
    "\n",
    "        _, pred_S1 = torch.max(logits_S1, 1)\n",
    "        _, pred_S2 = torch.max(logits_S2, 1)\n",
    "\n",
    "        # pseudo labels of U \n",
    "        _, pred_U1 = torch.max(logits_U1, 1)\n",
    "        _, pred_U2 = torch.max(logits_U2, 1)\n",
    "\n",
    "        # ======== Generate adversarial examples ========\n",
    "        # fix batchnorm ----\n",
    "        m1.eval()\n",
    "        m2.eval()\n",
    "\n",
    "        #generate adversarial examples ----\n",
    "        adv_data_S1 = adv_generator_1.perturb(X_S[0], y_S[0])\n",
    "        adv_data_U1 = adv_generator_1.perturb(X_U, pred_U1)\n",
    "\n",
    "        adv_data_S2 = adv_generator_2.perturb(X_S[1], y_S[1])\n",
    "        adv_data_U2 = adv_generator_2.perturb(X_U, pred_U2)\n",
    "\n",
    "        m1.train()\n",
    "        m2.train()\n",
    "\n",
    "        # predict adversarial examples ----\n",
    "        adv_logits_S1 = m1(adv_data_S2)\n",
    "        adv_logits_S2 = m2(adv_data_S1)\n",
    "\n",
    "        adv_logits_U1 = m1(adv_data_U2)\n",
    "        adv_logits_U2 = m2(adv_data_U1)\n",
    "\n",
    "        # ======== calculate the differents loss ========\n",
    "        # zero the parameter gradients ----\n",
    "        optimizer.zero_grad()\n",
    "        m1.zero_grad()\n",
    "        m2.zero_grad()\n",
    "\n",
    "        # losses ----\n",
    "        Loss_sup_S1, Loss_sup_S2, Loss_sup = p_loss_sup(logits_S1, logits_S2, y_S[0], y_S[1])\n",
    "        Loss_cot = loss_cot(logits_U1, logits_U2)\n",
    "        pld_S, pld_U, Loss_diff = p_loss_diff(logits_S1, logits_S2, adv_logits_S1, adv_logits_S2, logits_U1, logits_U2, adv_logits_U1, adv_logits_U2)\n",
    "        \n",
    "        total_loss = Loss_sup + lambda_cot.next() * Loss_cot + lambda_diff.next() * Loss_diff\n",
    "        total_loss.backward()\n",
    "        optimizer.step()\n",
    "\n",
    "        # ======== Calc the metrics ========\n",
    "        # accuracies ----\n",
    "        pred_SU1 = torch.cat((pred_S1, pred_U1), 0)\n",
    "        pred_SU2 = torch.cat((pred_S2, pred_U2), 0)\n",
    "        y_SU1 = torch.cat((y_S[0], y_U), 0)\n",
    "        y_SU2 = torch.cat((y_S[1], y_U), 0)\n",
    "\n",
    "        acc_S1 = accS[0](pred_S1, y_S[0])\n",
    "        acc_S2 = accS[1](pred_S2, y_S[1])\n",
    "        acc_U1 = accU[0](pred_U1, y_U)\n",
    "        acc_U2 = accU[1](pred_U2, y_U)\n",
    "        acc_SU1 = accSU[0](pred_SU1, y_SU1)\n",
    "        acc_SU2 = accSU[1](pred_SU2, y_SU2)\n",
    "        \n",
    "        # ratios  ----\n",
    "        _, adv_pred_S1 = torch.max(adv_logits_S1, 1)\n",
    "        _, adv_pred_S2 = torch.max(adv_logits_S2, 1)\n",
    "        _, adv_pred_U1 = torch.max(adv_logits_U1, 1)\n",
    "        _, adv_pred_U2 = torch.max(adv_logits_U2, 1)\n",
    "\n",
    "        adv_pred_SU1 = torch.cat((adv_pred_S1, adv_pred_U1), 0)\n",
    "        adv_pred_SU2 = torch.cat((adv_pred_S2, adv_pred_U2), 0)\n",
    "        adv_y_SU1 = torch.cat((y_S[0], pred_U1), 0)\n",
    "        adv_y_SU2 = torch.cat((y_S[1], pred_U2), 0)\n",
    "\n",
    "        ratio_S1 = ratioS[0](adv_pred_S1, y_S[0])\n",
    "        ratio_S2 = ratioS[1](adv_pred_S2, y_S[1])\n",
    "        ratio_U1 = ratioU[0](adv_pred_U1, pred_U1)\n",
    "        ratio_U2 = ratioU[1](adv_pred_U2, pred_U2)\n",
    "        ratio_SU1 = ratioSU[0](adv_pred_SU1, adv_y_SU1)\n",
    "        ratio_SU2 = ratioSU[1](adv_pred_SU2, adv_y_SU2)\n",
    "        # ========\n",
    "        \n",
    "        running_loss += total_loss.item()\n",
    "        ls += Loss_sup.item()\n",
    "        lc += Loss_cot.item()\n",
    "        ld += Loss_diff.item()\n",
    "        \n",
    "        # print statistics\n",
    "        print(\"Epoch %s: %.2f%% : train acc: %.3f %.3f - Loss: %.3f %.3f %.3f %.3f - time: %.2f\" % (\n",
    "            epoch, (batch / len(sampler)) * 100,\n",
    "            acc_SU1, acc_SU2,\n",
    "            running_loss/(batch+1), ls/(batch+1), lc/(batch+1), ld/(batch+1),\n",
    "            time.time() - start_time,\n",
    "        ), end=\"\\r\")\n",
    "\n",
    "    # using tensorboard to monitor loss and acc\\n\",\n",
    "    tensorboard.add_scalar('train/total_loss', total_loss.item(), epoch)\n",
    "    tensorboard.add_scalar('train/Lsup', Loss_sup.item(), epoch )\n",
    "    tensorboard.add_scalar('train/Lcot', Loss_cot.item(), epoch )\n",
    "    tensorboard.add_scalar('train/Ldiff', Loss_diff.item(), epoch )\n",
    "    tensorboard.add_scalar(\"train/acc_1\", acc_SU1, epoch )\n",
    "    tensorboard.add_scalar(\"train/acc_2\", acc_SU2, epoch )\n",
    "\n",
    "    tensorboard.add_scalar(\"detail_loss/Lsus S1\", Loss_sup_S1.item(), epoch)\n",
    "    tensorboard.add_scalar(\"detail_loss/Lsus S2\", Loss_sup_S2.item(), epoch)\n",
    "    tensorboard.add_scalar(\"detail_loss/Ldiff S\", pld_S.item(), epoch)\n",
    "    tensorboard.add_scalar(\"detail_loss/Ldiff U\", pld_U.item(), epoch)\n",
    "\n",
    "    tensorboard.add_scalar(\"detail_acc/acc S1\", acc_S1, epoch)\n",
    "    tensorboard.add_scalar(\"detail_acc/acc S2\", acc_S2, epoch)\n",
    "    tensorboard.add_scalar(\"detail_acc/acc U1\", acc_U1, epoch)\n",
    "    tensorboard.add_scalar(\"detail_acc/acc U2\", acc_U2, epoch)\n",
    "\n",
    "    tensorboard.add_scalar(\"detail_ratio/ratio S1\", ratio_S1, epoch)\n",
    "    tensorboard.add_scalar(\"detail_ratio/ratio S2\", ratio_S2, epoch)\n",
    "    tensorboard.add_scalar(\"detail_ratio/ratio U1\", ratio_U1, epoch)\n",
    "    tensorboard.add_scalar(\"detail_ratio/ratio U2\", ratio_U2, epoch)\n",
    "    tensorboard.add_scalar(\"detail_ratio/ratio SU1\", ratio_SU1, epoch)\n",
    "    tensorboard.add_scalar(\"detail_ratio/ratio SU2\", ratio_SU2, epoch)\n",
    "    \n",
    "    # Return the total loss to check for NaN\n",
    "    return total_loss.item()"
   ]
  },
  {
   "cell_type": "code",
   "execution_count": 29,
   "metadata": {
    "collapsed": false,
    "jupyter": {
     "outputs_hidden": false
    },
    "pycharm": {
     "name": "#%%\n"
    }
   },
   "outputs": [],
   "source": [
    "def test(epoch):\n",
    "    global best_acc\n",
    "    m1.eval()\n",
    "    m2.eval()\n",
    "    correct1 = 0\n",
    "    correct2 = 0\n",
    "    total1 = 0\n",
    "    total2 = 0\n",
    "    with torch.no_grad():\n",
    "        for batch_idx, (inputs, targets) in enumerate(val_loader):\n",
    "            inputs = inputs.cuda()\n",
    "            targets = targets.cuda()\n",
    "\n",
    "            outputs1 = m1(inputs)\n",
    "            predicted1 = outputs1.max(1)\n",
    "            total1 += targets.size(0)\n",
    "            correct1 += predicted1[1].eq(targets).sum().item()\n",
    "\n",
    "            outputs2 = m2(inputs)\n",
    "            predicted2 = outputs2.max(1)\n",
    "            total2 += targets.size(0)\n",
    "            correct2 += predicted2[1].eq(targets).sum().item()\n",
    "\n",
    "    print('\\nnet1 test acc: %.3f%% (%d/%d) | net2 test acc: %.3f%% (%d/%d)'\n",
    "        % (100.*correct1/total1, correct1, total1, 100.*correct2/total2, correct2, total2))\n",
    "    \n",
    "    tensorboard.add_scalar(\"val/acc 1\", correct1 / total1, epoch)\n",
    "    tensorboard.add_scalar(\"val/acc 2\", correct2 / total2, epoch)\n",
    "    \n",
    "    tensorboard.add_scalar(\"detail_hyperparameters/lambda_cot\", lambda_cot(), epoch)\n",
    "    tensorboard.add_scalar(\"detail_hyperparameters/lambda_diff\", lambda_diff(), epoch)\n",
    "    tensorboard.add_scalar(\"detail_hyperparameters/learning_rate\", get_lr(optimizer), epoch)\n",
    "\n",
    "    # Apply callbacks\n",
    "    for c in callbacks:\n",
    "        c.step()\n"
   ]
  },
  {
   "cell_type": "code",
   "execution_count": null,
   "metadata": {
    "collapsed": false,
    "jupyter": {
     "outputs_hidden": false
    },
    "pycharm": {
     "name": "#%%\n"
    }
   },
   "outputs": [],
   "source": [
    "for epoch in range(0, args.epochs):\n",
    "    total_loss = train(epoch)\n",
    "    if np.isnan(total_loss):\n",
    "        print(\"Losses are NaN, stoping the training here\")\n",
    "        break\n",
    "    test(epoch)\n",
    "\n",
    "# tensorboard.export_scalars_to_json('./' + args.tensorboard_dir + 'output.json')\n",
    "# tensorboard.close()\n"
   ]
  },
  {
   "cell_type": "markdown",
   "metadata": {},
   "source": [
    "# Prep Supervised training (same ratio)"
   ]
  },
  {
   "cell_type": "markdown",
   "metadata": {},
   "source": [
    "## dataset"
   ]
  },
  {
   "cell_type": "code",
   "execution_count": 32,
   "metadata": {},
   "outputs": [
    {
     "data": {
      "application/vnd.jupyter.widget-view+json": {
       "model_id": "fa1114d8c3564f56a4c0b4bcccc2fb57",
       "version_major": 2,
       "version_minor": 0
      },
      "text/plain": [
       "HBox(children=(IntProgress(value=0, max=9), HTML(value='')))"
      ]
     },
     "metadata": {},
     "output_type": "display_data"
    },
    {
     "name": "stdout",
     "output_type": "stream",
     "text": [
      "\n"
     ]
    },
    {
     "data": {
      "application/vnd.jupyter.widget-view+json": {
       "model_id": "2ff088b7b1ce484aabcbcdf37e8753b3",
       "version_major": 2,
       "version_minor": 0
      },
      "text/plain": [
       "HBox(children=(IntProgress(value=0, max=1), HTML(value='')))"
      ]
     },
     "metadata": {},
     "output_type": "display_data"
    },
    {
     "name": "stdout",
     "output_type": "stream",
     "text": [
      "\n"
     ]
    }
   ],
   "source": [
    "# load the data\n",
    "audio_root = \"../dataset/audio\"\n",
    "metadata_root = \"../dataset/metadata\"\n",
    "dataset = DatasetManager(metadata_root, audio_root, verbose=2)\n",
    "\n",
    "# prepare the sampler with the specified number of supervised file\n",
    "nb_train_file = len(dataset.audio[\"train\"])\n",
    "nb_s_file = int(nb_train_file * args.ratio)\n",
    "nb_s_file = nb_s_file - (nb_s_file % DatasetManager.NB_CLASS)  # need to be a multiple of number of class\n",
    "nb_u_file = 0\n",
    "\n",
    "\n",
    "sampler = CoTrainingSampler(args.batchsize, nb_s_file, nb_u_file, nb_view=args.nb_view, ratio=None, method=\"duplicate\") # ratio is manually set here\n",
    "train_dataset = CoTrainingGenerator(dataset, sampler)"
   ]
  },
  {
   "cell_type": "markdown",
   "metadata": {},
   "source": [
    "## Model"
   ]
  },
  {
   "cell_type": "code",
   "execution_count": 33,
   "metadata": {},
   "outputs": [],
   "source": [
    "model_func = cnn\n",
    "\n",
    "m1 = model_func()\n",
    "\n",
    "m1 = m1.cuda()"
   ]
  },
  {
   "cell_type": "markdown",
   "metadata": {},
   "source": [
    "## Loaders & adversarial generators"
   ]
  },
  {
   "cell_type": "code",
   "execution_count": 35,
   "metadata": {
    "pycharm": {
     "is_executing": false
    }
   },
   "outputs": [],
   "source": [
    "x, y = train_dataset.validation\n",
    "x = torch.from_numpy(x)\n",
    "y = torch.from_numpy(y)\n",
    "val_dataset = torch.utils.data.TensorDataset(x, y)\n",
    "\n",
    "train_loader = data.DataLoader(train_dataset, batch_sampler=sampler, num_workers=4)\n",
    "val_loader = data.DataLoader(val_dataset, batch_size=128, num_workers=4)\n",
    "\n",
    "# adversarial generation\n",
    "adv_generator_1 = GradientSignAttack(\n",
    "    m1, loss_fn=nn.CrossEntropyLoss(reduction=\"sum\"),\n",
    "    eps=args.epsilon, clip_min=-math.inf, clip_max=math.inf, targeted=False\n",
    ")\n"
   ]
  },
  {
   "cell_type": "markdown",
   "metadata": {},
   "source": [
    "## optimizers & callbacks & criterion"
   ]
  },
  {
   "cell_type": "code",
   "execution_count": 40,
   "metadata": {},
   "outputs": [],
   "source": [
    "params = m1.parameters()\n",
    "args.base_lr = 0.01\n",
    "optimizer = optim.SGD(params, lr=args.base_lr, momentum=args.momentum, weight_decay=args.decay)\n",
    "\n",
    "lr_lambda = lambda epoch: (1.0 + math.cos((epoch-1)*math.pi/args.epochs))\n",
    "lr_scheduler = LambdaLR(optimizer, lr_lambda)\n",
    "\n",
    "criterion = nn.CrossEntropyLoss()\n",
    "\n",
    "callbacks = [lr_scheduler]"
   ]
  },
  {
   "cell_type": "code",
   "execution_count": 42,
   "metadata": {},
   "outputs": [
    {
     "data": {
      "image/png": "[encoded data removed]",
      "text/plain": [
       "<Figure size 432x288 with 1 Axes>"
      ]
     },
     "metadata": {
      "needs_background": "light"
     },
     "output_type": "display_data"
    }
   ],
   "source": [
    "lr_lambda = lambda epoch: (1.0 + math.cos((epoch-1)*math.pi/args.epochs))\n",
    "\n",
    "x = np.arange(600)\n",
    "\n",
    "import matplotlib.pyplot as plt\n",
    "plt.plot([args.base_lr * lr_lambda(i) for i in x])\n",
    "plt.show()"
   ]
  },
  {
   "cell_type": "markdown",
   "metadata": {},
   "source": [
    "## Metrics and hyperparameters"
   ]
  },
  {
   "cell_type": "code",
   "execution_count": 43,
   "metadata": {},
   "outputs": [],
   "source": [
    "# define the metrics\n",
    "acc_func = CategoricalAccuracy()\n",
    "\n",
    "def reset_all_metrics():\n",
    "    acc_func.reset()\n",
    "        \n",
    "def get_lr(optimizer):\n",
    "    for param_group in optimizer.param_groups:\n",
    "        return param_group['lr']\n",
    "\n",
    "title = \"%s_supervised\" % (get_datetime())\n",
    "tensorboard = SummaryWriter(\"%s/%s\" % (args.tensorboard_dir, title))"
   ]
  },
  {
   "cell_type": "markdown",
   "metadata": {},
   "source": [
    "# Training"
   ]
  },
  {
   "cell_type": "code",
   "execution_count": 44,
   "metadata": {},
   "outputs": [],
   "source": [
    "def train(epoch):\n",
    "    m1.train()\n",
    "\n",
    "    running_loss = 0.0\n",
    "    \n",
    "    start_time = time.time()\n",
    "    print(\"\")\n",
    "    \n",
    "    for batch, (X, y) in enumerate(train_loader):\n",
    "        X = [x.squeeze() for x in X]\n",
    "        y = [y_.squeeze() for y_ in y]\n",
    "    \n",
    "        # separate Supervised (S) and Unsupervised (U) parts\n",
    "        X_S, X_U = X[:-1], X[-1]\n",
    "        y_S, y_U = y[:-1], y[-1]\n",
    "        \n",
    "        # Only one view interesting, no U\n",
    "        X_S = X_S[0]\n",
    "        y_S = y_S[0]\n",
    "        \n",
    "        X_S, y_S = X_S.cuda(), y_S.cuda()\n",
    "\n",
    "        # ======== perform prediction ========\n",
    "        logits_S = m1(X_S)\n",
    "        _, pred_S = torch.max(logits_S, 1)\n",
    "\n",
    "\n",
    "        # ======== calculate loss ========\n",
    "        loss_sup = criterion(logits_S, y_S)\n",
    "        total_loss = loss_sup\n",
    "        \n",
    "        # ======== backpropagation =======\n",
    "        optimizer.zero_grad()\n",
    "        total_loss.backward()\n",
    "        optimizer.step()\n",
    "\n",
    "        # ======== Calc the metrics ========\n",
    "        acc = acc_func(pred_S, y_S)\n",
    "        running_loss += total_loss.item()\n",
    "        \n",
    "        # print statistics\n",
    "        print(\"Epoch %s: %.2f%% : train acc: %.3f - Loss: %.3f - time: %.2f\" % (\n",
    "            epoch, (batch / len(sampler)) * 100,\n",
    "            acc,\n",
    "            running_loss / (batch+1),\n",
    "            time.time() - start_time,\n",
    "        ), end=\"\\r\")\n",
    "\n",
    "    # using tensorboard to monitor loss and acc\\n\",\n",
    "    tensorboard.add_scalar('train/total_loss', total_loss.item(), epoch)\n",
    "    tensorboard.add_scalar('train/acc', acc, epoch)\n",
    "    \n",
    "    # Return the total loss to check for NaN\n",
    "    return total_loss.item()"
   ]
  },
  {
   "cell_type": "code",
   "execution_count": 45,
   "metadata": {
    "collapsed": false,
    "jupyter": {
     "outputs_hidden": false
    },
    "pycharm": {
     "name": "#%%\n"
    }
   },
   "outputs": [],
   "source": [
    "def test(epoch):\n",
    "    m1.eval()\n",
    "    \n",
    "    reset_all_metrics()\n",
    "    \n",
    "    with torch.no_grad():\n",
    "        for batch_idx, (X, y) in enumerate(val_loader):\n",
    "            X_S = X.cuda()\n",
    "            y_S = y.cuda()\n",
    "\n",
    "            logits_S = m1(X_S)\n",
    "            _, pred_S = torch.max(logits_S, 1)\n",
    "            \n",
    "            loss_val = criterion(logits_S, y_S)\n",
    "            \n",
    "            acc_val = acc_func(pred_S, y_S)\n",
    "        \n",
    "        print(\"\\nEpoch %s: Val acc: %.3f - loss: %.3f\" % (\n",
    "            epoch,\n",
    "            acc_val,\n",
    "            loss_val.item()\n",
    "        ))\n",
    "    \n",
    "    tensorboard.add_scalar(\"val/acc\", acc_val, epoch)\n",
    "    tensorboard.add_scalar(\"val/loss\", loss_val.item(), epoch)\n",
    "    \n",
    "    tensorboard.add_scalar(\"detail_hyperparameters/learning_rate\", get_lr(optimizer), epoch)\n",
    "\n",
    "    # Apply callbacks\n",
    "    for c in callbacks:\n",
    "        c.step()\n"
   ]
  },
  {
   "cell_type": "code",
   "execution_count": null,
   "metadata": {
    "collapsed": false,
    "jupyter": {
     "outputs_hidden": false
    },
    "pycharm": {
     "name": "#%%\n"
    },
    "scrolled": true
   },
   "outputs": [
    {
     "name": "stdout",
     "output_type": "stream",
     "text": [
      "\n",
      "Epoch 0: 71.43% : train acc: 0.147 - Loss: 2.273 - time: 3.14\n",
      "Epoch 0: Val acc: 0.095 - loss: 2.288\n",
      "\n",
      "Epoch 1: 71.43% : train acc: 0.196 - Loss: 2.180 - time: 2.65\n",
      "Epoch 1: Val acc: 0.137 - loss: 2.261\n",
      "\n",
      "Epoch 2: 71.43% : train acc: 0.233 - Loss: 2.075 - time: 2.79\n",
      "Epoch 2: Val acc: 0.165 - loss: 2.226\n",
      "\n",
      "Epoch 3: 71.43% : train acc: 0.272 - Loss: 1.970 - time: 2.89\n",
      "Epoch 3: Val acc: 0.197 - loss: 2.175\n",
      "\n",
      "Epoch 4: 71.43% : train acc: 0.298 - Loss: 1.849 - time: 2.81\n",
      "Epoch 4: Val acc: 0.214 - loss: 2.117\n",
      "\n",
      "Epoch 5: 71.43% : train acc: 0.320 - Loss: 1.746 - time: 2.82\n",
      "Epoch 5: Val acc: 0.248 - loss: 2.050\n",
      "\n",
      "Epoch 6: 71.43% : train acc: 0.346 - Loss: 1.622 - time: 2.83\n",
      "Epoch 6: Val acc: 0.238 - loss: 1.997\n",
      "\n",
      "Epoch 7: 71.43% : train acc: 0.348 - Loss: 1.496 - time: 2.75\n",
      "Epoch 7: Val acc: 0.233 - loss: 1.956\n",
      "\n",
      "Epoch 8: 71.43% : train acc: 0.365 - Loss: 1.390 - time: 2.66\n",
      "Epoch 8: Val acc: 0.242 - loss: 1.923\n",
      "\n",
      "Epoch 9: 71.43% : train acc: 0.384 - Loss: 1.299 - time: 2.82\n",
      "Epoch 9: Val acc: 0.319 - loss: 1.904\n",
      "\n",
      "Epoch 10: 71.43% : train acc: 0.451 - Loss: 1.203 - time: 2.73\n",
      "Epoch 10: Val acc: 0.336 - loss: 1.892\n",
      "\n",
      "Epoch 11: 71.43% : train acc: 0.477 - Loss: 1.103 - time: 2.96\n",
      "Epoch 11: Val acc: 0.345 - loss: 1.889\n",
      "\n",
      "Epoch 12: 71.43% : train acc: 0.502 - Loss: 1.016 - time: 2.82\n",
      "Epoch 12: Val acc: 0.373 - loss: 1.924\n",
      "\n",
      "Epoch 13: 71.43% : train acc: 0.539 - Loss: 0.948 - time: 2.81\n",
      "Epoch 13: Val acc: 0.413 - loss: 1.927\n",
      "\n",
      "Epoch 14: 71.43% : train acc: 0.571 - Loss: 0.871 - time: 2.83\n",
      "Epoch 14: Val acc: 0.398 - loss: 1.924\n",
      "\n",
      "Epoch 15: 71.43% : train acc: 0.575 - Loss: 0.818 - time: 2.89\n",
      "Epoch 15: Val acc: 0.397 - loss: 1.945\n",
      "\n",
      "Epoch 16: 71.43% : train acc: 0.570 - Loss: 0.768 - time: 2.69\n",
      "Epoch 16: Val acc: 0.404 - loss: 1.967\n",
      "\n",
      "Epoch 17: 71.43% : train acc: 0.583 - Loss: 0.726 - time: 2.67\n",
      "Epoch 17: Val acc: 0.393 - loss: 1.975\n",
      "\n",
      "Epoch 18: 71.43% : train acc: 0.579 - Loss: 0.660 - time: 2.75\n",
      "Epoch 18: Val acc: 0.392 - loss: 1.965\n",
      "\n",
      "Epoch 19: 71.43% : train acc: 0.586 - Loss: 0.629 - time: 2.68\n",
      "Epoch 19: Val acc: 0.419 - loss: 1.972\n",
      "\n",
      "Epoch 20: 71.43% : train acc: 0.607 - Loss: 0.594 - time: 2.63\n",
      "Epoch 20: Val acc: 0.406 - loss: 2.068\n",
      "\n",
      "Epoch 21: 71.43% : train acc: 0.604 - Loss: 0.588 - time: 2.80\n",
      "Epoch 21: Val acc: 0.438 - loss: 1.957\n",
      "\n",
      "Epoch 22: 71.43% : train acc: 0.628 - Loss: 0.523 - time: 2.79\n",
      "Epoch 22: Val acc: 0.449 - loss: 1.946\n",
      "\n",
      "Epoch 23: 71.43% : train acc: 0.650 - Loss: 0.458 - time: 2.85\n",
      "Epoch 23: Val acc: 0.429 - loss: 2.169\n",
      "\n",
      "Epoch 24: 71.43% : train acc: 0.637 - Loss: 0.461 - time: 2.82\n",
      "Epoch 24: Val acc: 0.439 - loss: 2.045\n",
      "\n",
      "Epoch 25: 71.43% : train acc: 0.642 - Loss: 0.439 - time: 2.85\n",
      "Epoch 25: Val acc: 0.423 - loss: 2.118\n",
      "\n",
      "Epoch 26: 71.43% : train acc: 0.635 - Loss: 0.424 - time: 2.70\n",
      "Epoch 26: Val acc: 0.445 - loss: 2.054\n",
      "\n",
      "Epoch 27: 71.43% : train acc: 0.654 - Loss: 0.374 - time: 2.78\n",
      "Epoch 27: Val acc: 0.454 - loss: 1.970\n",
      "\n",
      "Epoch 28: 71.43% : train acc: 0.665 - Loss: 0.362 - time: 2.86\n",
      "Epoch 28: Val acc: 0.429 - loss: 2.240\n",
      "\n",
      "Epoch 29: 71.43% : train acc: 0.661 - Loss: 0.338 - time: 2.69\n",
      "Epoch 29: Val acc: 0.457 - loss: 1.915\n",
      "\n",
      "Epoch 30: 71.43% : train acc: 0.669 - Loss: 0.313 - time: 2.77\n",
      "Epoch 30: Val acc: 0.456 - loss: 2.104\n",
      "\n",
      "Epoch 31: 71.43% : train acc: 0.676 - Loss: 0.301 - time: 2.76\n",
      "Epoch 31: Val acc: 0.430 - loss: 2.144\n",
      "\n",
      "Epoch 32: 71.43% : train acc: 0.663 - Loss: 0.278 - time: 2.69\n",
      "Epoch 32: Val acc: 0.475 - loss: 1.823\n",
      "\n",
      "Epoch 33: 71.43% : train acc: 0.692 - Loss: 0.256 - time: 2.87\n",
      "Epoch 33: Val acc: 0.459 - loss: 2.001\n",
      "\n",
      "Epoch 34: 71.43% : train acc: 0.682 - Loss: 0.236 - time: 2.85\n",
      "Epoch 34: Val acc: 0.445 - loss: 2.198\n",
      "\n",
      "Epoch 35: 71.43% : train acc: 0.671 - Loss: 0.250 - time: 2.90\n",
      "Epoch 35: Val acc: 0.443 - loss: 1.917\n",
      "\n",
      "Epoch 36: 71.43% : train acc: 0.678 - Loss: 0.225 - time: 2.96\n",
      "Epoch 36: Val acc: 0.484 - loss: 1.910\n",
      "\n",
      "Epoch 37: 71.43% : train acc: 0.704 - Loss: 0.197 - time: 2.86\n",
      "Epoch 37: Val acc: 0.438 - loss: 2.234\n",
      "\n",
      "Epoch 38: 71.43% : train acc: 0.682 - Loss: 0.187 - time: 2.72\n",
      "Epoch 38: Val acc: 0.476 - loss: 1.947\n",
      "\n",
      "Epoch 39: 71.43% : train acc: 0.699 - Loss: 0.178 - time: 2.84\n",
      "Epoch 39: Val acc: 0.480 - loss: 1.945\n",
      "\n",
      "Epoch 40: 71.43% : train acc: 0.700 - Loss: 0.178 - time: 2.76\n",
      "Epoch 40: Val acc: 0.467 - loss: 2.071\n",
      "\n",
      "Epoch 41: 71.43% : train acc: 0.696 - Loss: 0.173 - time: 2.65\n",
      "Epoch 41: Val acc: 0.456 - loss: 2.328\n",
      "\n",
      "Epoch 42: 71.43% : train acc: 0.696 - Loss: 0.140 - time: 2.81\n",
      "Epoch 42: Val acc: 0.473 - loss: 2.144\n",
      "\n",
      "Epoch 43: 71.43% : train acc: 0.706 - Loss: 0.132 - time: 2.89\n",
      "Epoch 43: Val acc: 0.455 - loss: 2.171\n",
      "\n",
      "Epoch 44: 71.43% : train acc: 0.694 - Loss: 0.129 - time: 2.72\n",
      "Epoch 44: Val acc: 0.462 - loss: 2.145\n",
      "\n",
      "Epoch 45: 71.43% : train acc: 0.682 - Loss: 0.263 - time: 2.87\n",
      "Epoch 45: Val acc: 0.263 - loss: 4.372\n",
      "\n",
      "Epoch 46: 71.43% : train acc: 0.536 - Loss: 0.436 - time: 2.86\n",
      "Epoch 46: Val acc: 0.428 - loss: 2.310\n",
      "\n",
      "Epoch 47: 71.43% : train acc: 0.671 - Loss: 0.199 - time: 2.82\n",
      "Epoch 47: Val acc: 0.447 - loss: 2.227\n",
      "\n",
      "Epoch 48: 71.43% : train acc: 0.688 - Loss: 0.142 - time: 2.69\n",
      "Epoch 48: Val acc: 0.463 - loss: 2.131\n",
      "\n",
      "Epoch 49: 71.43% : train acc: 0.700 - Loss: 0.133 - time: 2.87\n",
      "Epoch 49: Val acc: 0.475 - loss: 2.167\n",
      "\n",
      "Epoch 50: 71.43% : train acc: 0.713 - Loss: 0.098 - time: 2.68\n",
      "Epoch 50: Val acc: 0.473 - loss: 2.195\n",
      "\n",
      "Epoch 51: 71.43% : train acc: 0.708 - Loss: 0.106 - time: 2.85\n",
      "Epoch 51: Val acc: 0.490 - loss: 2.032\n",
      "\n",
      "Epoch 52: 71.43% : train acc: 0.717 - Loss: 0.100 - time: 2.71\n",
      "Epoch 52: Val acc: 0.449 - loss: 2.343\n",
      "\n",
      "Epoch 53: 71.43% : train acc: 0.697 - Loss: 0.091 - time: 2.81\n",
      "Epoch 53: Val acc: 0.483 - loss: 2.197\n",
      "\n",
      "Epoch 54: 71.43% : train acc: 0.719 - Loss: 0.074 - time: 2.71\n",
      "Epoch 54: Val acc: 0.479 - loss: 2.221\n",
      "\n",
      "Epoch 55: 71.43% : train acc: 0.713 - Loss: 0.079 - time: 2.65\n",
      "Epoch 55: Val acc: 0.484 - loss: 2.191\n",
      "\n",
      "Epoch 56: 71.43% : train acc: 0.715 - Loss: 0.079 - time: 2.75\n",
      "Epoch 56: Val acc: 0.480 - loss: 2.194\n",
      "\n",
      "Epoch 57: 71.43% : train acc: 0.715 - Loss: 0.070 - time: 2.75\n",
      "Epoch 57: Val acc: 0.489 - loss: 2.166\n",
      "\n",
      "Epoch 58: 71.43% : train acc: 0.722 - Loss: 0.068 - time: 2.80\n",
      "Epoch 58: Val acc: 0.481 - loss: 2.251\n",
      "\n",
      "Epoch 59: 71.43% : train acc: 0.718 - Loss: 0.053 - time: 2.70\n",
      "Epoch 59: Val acc: 0.483 - loss: 2.169\n",
      "\n",
      "Epoch 60: 71.43% : train acc: 0.719 - Loss: 0.056 - time: 2.80\n",
      "Epoch 60: Val acc: 0.476 - loss: 2.213\n",
      "\n",
      "Epoch 61: 71.43% : train acc: 0.716 - Loss: 0.048 - time: 2.65\n",
      "Epoch 61: Val acc: 0.493 - loss: 2.046\n",
      "\n",
      "Epoch 62: 71.43% : train acc: 0.726 - Loss: 0.048 - time: 2.81\n",
      "Epoch 62: Val acc: 0.494 - loss: 2.097\n",
      "\n",
      "Epoch 63: 71.43% : train acc: 0.726 - Loss: 0.051 - time: 2.70\n",
      "Epoch 63: Val acc: 0.495 - loss: 2.080\n",
      "\n",
      "Epoch 64: 71.43% : train acc: 0.728 - Loss: 0.044 - time: 2.66\n",
      "Epoch 64: Val acc: 0.502 - loss: 2.048\n",
      "\n",
      "Epoch 65: 71.43% : train acc: 0.730 - Loss: 0.047 - time: 2.70\n",
      "Epoch 65: Val acc: 0.479 - loss: 2.214\n",
      "\n",
      "Epoch 66: 71.43% : train acc: 0.716 - Loss: 0.049 - time: 2.74\n",
      "Epoch 66: Val acc: 0.494 - loss: 2.240\n",
      "\n",
      "Epoch 67: 71.43% : train acc: 0.728 - Loss: 0.039 - time: 2.88\n",
      "Epoch 67: Val acc: 0.485 - loss: 2.297\n",
      "\n",
      "Epoch 68: 71.43% : train acc: 0.723 - Loss: 0.036 - time: 2.70\n",
      "Epoch 68: Val acc: 0.491 - loss: 2.232\n",
      "\n",
      "Epoch 69: 71.43% : train acc: 0.725 - Loss: 0.034 - time: 2.69\n",
      "Epoch 69: Val acc: 0.492 - loss: 2.176\n",
      "\n",
      "Epoch 70: 71.43% : train acc: 0.726 - Loss: 0.035 - time: 2.88\n",
      "Epoch 70: Val acc: 0.495 - loss: 2.164\n",
      "\n",
      "Epoch 71: 71.43% : train acc: 0.728 - Loss: 0.036 - time: 2.67\n",
      "Epoch 71: Val acc: 0.496 - loss: 2.117\n",
      "\n",
      "Epoch 72: 71.43% : train acc: 0.728 - Loss: 0.029 - time: 2.73\n",
      "Epoch 72: Val acc: 0.498 - loss: 2.038\n",
      "\n",
      "Epoch 73: 71.43% : train acc: 0.730 - Loss: 0.031 - time: 2.81\n",
      "Epoch 73: Val acc: 0.486 - loss: 2.196\n",
      "\n"
     ]
    }
   ],
   "source": [
    "for epoch in range(0, args.epochs):\n",
    "    total_loss = train(epoch)\n",
    "    \n",
    "    if np.isnan(total_loss):\n",
    "        print(\"Losses are NaN, stoping the training here\")\n",
    "        break\n",
    "        \n",
    "    test(epoch)"
   ]
  },
  {
   "cell_type": "markdown",
   "metadata": {
    "pycharm": {
     "name": "#%% md\n"
    }
   },
   "source": [
    "# ♫♪.ılılıll|̲̅̅●̲̅̅|̲̅̅=̲̅̅|̲̅̅●̲̅̅|llılılı.♫♪"
   ]
  },
  {
   "cell_type": "markdown",
   "metadata": {},
   "source": [
    "# Statistic on inputs"
   ]
  },
  {
   "cell_type": "code",
   "execution_count": 1,
   "metadata": {},
   "outputs": [
    {
     "ename": "NameError",
     "evalue": "name 'train_loader' is not defined",
     "output_type": "error",
     "traceback": [
      "\u001b[0;31m---------------------------------------------------------------------------\u001b[0m",
      "\u001b[0;31mNameError\u001b[0m                                 Traceback (most recent call last)",
      "\u001b[0;32m<ipython-input-1-c5f8108d8118>\u001b[0m in \u001b[0;36m<module>\u001b[0;34m\u001b[0m\n\u001b[1;32m      1\u001b[0m \u001b[0;32mfrom\u001b[0m \u001b[0mscipy\u001b[0m\u001b[0;34m.\u001b[0m\u001b[0mstats\u001b[0m \u001b[0;32mimport\u001b[0m \u001b[0mkurtosis\u001b[0m\u001b[0;34m\u001b[0m\u001b[0;34m\u001b[0m\u001b[0m\n\u001b[1;32m      2\u001b[0m \u001b[0;34m\u001b[0m\u001b[0m\n\u001b[0;32m----> 3\u001b[0;31m \u001b[0;32mfor\u001b[0m \u001b[0mbatch\u001b[0m\u001b[0;34m,\u001b[0m \u001b[0;34m(\u001b[0m\u001b[0mX\u001b[0m\u001b[0;34m,\u001b[0m \u001b[0my\u001b[0m\u001b[0;34m)\u001b[0m \u001b[0;32min\u001b[0m \u001b[0menumerate\u001b[0m\u001b[0;34m(\u001b[0m\u001b[0mtrain_loader\u001b[0m\u001b[0;34m)\u001b[0m\u001b[0;34m:\u001b[0m\u001b[0;34m\u001b[0m\u001b[0;34m\u001b[0m\u001b[0m\n\u001b[0m\u001b[1;32m      4\u001b[0m         \u001b[0mX\u001b[0m \u001b[0;34m=\u001b[0m \u001b[0;34m[\u001b[0m\u001b[0mx\u001b[0m\u001b[0;34m.\u001b[0m\u001b[0msqueeze\u001b[0m\u001b[0;34m(\u001b[0m\u001b[0;34m)\u001b[0m \u001b[0;32mfor\u001b[0m \u001b[0mx\u001b[0m \u001b[0;32min\u001b[0m \u001b[0mX\u001b[0m\u001b[0;34m]\u001b[0m\u001b[0;34m\u001b[0m\u001b[0;34m\u001b[0m\u001b[0m\n\u001b[1;32m      5\u001b[0m         \u001b[0my\u001b[0m \u001b[0;34m=\u001b[0m \u001b[0;34m[\u001b[0m\u001b[0my_\u001b[0m\u001b[0;34m.\u001b[0m\u001b[0msqueeze\u001b[0m\u001b[0;34m(\u001b[0m\u001b[0;34m)\u001b[0m \u001b[0;32mfor\u001b[0m \u001b[0my_\u001b[0m \u001b[0;32min\u001b[0m \u001b[0my\u001b[0m\u001b[0;34m]\u001b[0m\u001b[0;34m\u001b[0m\u001b[0;34m\u001b[0m\u001b[0m\n",
      "\u001b[0;31mNameError\u001b[0m: name 'train_loader' is not defined"
     ]
    }
   ],
   "source": [
    "from scipy.stats import kurtosis\n",
    "\n",
    "for batch, (X, y) in enumerate(train_loader):\n",
    "        X = [x.squeeze() for x in X]\n",
    "        y = [y_.squeeze() for y_ in y]\n",
    "    \n",
    "        # separate Supervised (S) and Unsupervised (U) parts\n",
    "        X_S, X_U = X[:-1], X[-1]\n",
    "        y_S, y_U = y[:-1], y[-1]\n",
    "        \n",
    "        X_U = X_U.numpy()\n",
    "        print(X_U.shape)\n",
    "        \n",
    "        # max\n",
    "        val = X_U.max(axis=(1, 2))\n",
    "        print(\"max max: \", val.max())\n",
    "        print(\"min max: \", val.min())\n",
    "        print(\"mean max: \", val.mean())\n",
    "        print(\"std max: \", val.std())\n",
    "        print(\"kurosis: \", kurtosis(val))\n",
    "        \n",
    "        # min\n",
    "        print(\"------------------\")\n",
    "        val = X_U.min(axis=(1, 2))\n",
    "        print(\"max max: \", val.max())\n",
    "        print(\"min max: \", val.min())\n",
    "        print(\"mean max: \", val.mean())\n",
    "        print(\"std max: \", val.std())\n",
    "        print(\"kurosis: \", kurtosis(val))\n",
    "        \n",
    "        # mean\n",
    "        print(\"------------------\")\n",
    "        val = X_U.mean(axis=(1, 2))\n",
    "        print(\"max max: \", val.max())\n",
    "        print(\"min max: \", val.min())\n",
    "        print(\"mean max: \", val.mean())\n",
    "        print(\"std max: \", val.std())\n",
    "        print(\"kurosis: \", kurtosis(val))\n",
    "        \n",
    "        # std\n",
    "        print(\"------------------\")\n",
    "        val = X_U.std(axis=(1, 2))\n",
    "        print(\"max max: \", val.max())\n",
    "        print(\"min max: \", val.min())\n",
    "        print(\"mean max: \", val.mean())\n",
    "        print(\"std max: \", val.std())\n",
    "        print(\"kurosis: \", kurtosis(val))\n",
    "        \n",
    "        break"
   ]
  },
  {
   "cell_type": "code",
   "execution_count": null,
   "metadata": {},
   "outputs": [],
   "source": []
  }
 ],
 "metadata": {
  "kernelspec": {
   "display_name": "Python 3",
   "language": "python",
   "name": "python3"
  },
  "language_info": {
   "codemirror_mode": {
    "name": "ipython",
    "version": 3
   },
   "file_extension": ".py",
   "mimetype": "text/x-python",
   "name": "python",
   "nbconvert_exporter": "python",
   "pygments_lexer": "ipython3",
   "version": "3.7.4"
  },
  "pycharm": {
   "stem_cell": {
    "cell_type": "raw",
    "metadata": {
     "collapsed": false
    },
    "source": []
   }
  },
  "toc-autonumbering": true
 },
 "nbformat": 4,
 "nbformat_minor": 4
}
