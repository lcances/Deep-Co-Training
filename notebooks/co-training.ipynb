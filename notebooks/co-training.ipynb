{
 "cells": [
  {
   "cell_type": "markdown",
   "metadata": {},
   "source": [
    "# Import"
   ]
  },
  {
   "cell_type": "code",
   "execution_count": 1,
   "metadata": {},
   "outputs": [],
   "source": [
    "import numpy as np\n",
    "import os\n",
    "import time\n",
    "import math\n",
    "import pickle\n",
    "import argparse\n",
    "import random\n",
    "from random import shuffle\n",
    "from tqdm import tqdm_notebook as tqdm\n",
    "\n",
    "import torch\n",
    "import torchvision\n",
    "import torchvision.transforms as transforms\n",
    "import torch.nn as nn\n",
    "import torch.nn.functional as F\n",
    "import torchvision.models as models\n",
    "import torch.optim as optim\n",
    "from torch.optim.lr_scheduler import LambdaLR\n",
    "import torch.utils.data as data\n",
    "from torch.utils.tensorboard import SummaryWriter\n",
    "from advertorch.attacks import GradientSignAttack\n",
    "from torch.nn.utils import weight_norm"
   ]
  },
  {
   "cell_type": "code",
   "execution_count": 2,
   "metadata": {},
   "outputs": [],
   "source": [
    "import sys\n",
    "sys.path.append(\"../src/\")\n",
    "\n",
    "from datasetManager import DatasetManager\n",
    "from generators import Generator, CoTrainingGenerator\n",
    "from samplers import CoTrainingSampler\n",
    "import signal_augmentations as sa \n",
    "\n",
    "from models import cnn\n",
    "from losses import loss_cot, loss_diff, loss_diff, p_loss_diff, p_loss_sup\n",
    "from metrics import CategoricalAccuracy, Ratio\n",
    "from ramps import Warmup, sigmoid_rampup"
   ]
  },
  {
   "cell_type": "markdown",
   "metadata": {},
   "source": [
    "# Utils"
   ]
  },
  {
   "cell_type": "markdown",
   "metadata": {},
   "source": [
    "## Arguments"
   ]
  },
  {
   "cell_type": "code",
   "execution_count": 22,
   "metadata": {
    "pycharm": {
     "is_executing": false
    }
   },
   "outputs": [],
   "source": [
    "class Args:\n",
    "    def __init__(self):\n",
    "        self.sess = \"default\"\n",
    "        self.nb_view = 2\n",
    "        self.batchsize = 100\n",
    "        self.lambda_cot_max = 10\n",
    "        self.lambda_diff_max = 0.5\n",
    "        self.ratio = 0.1\n",
    "        self.seed = 1234\n",
    "        self.epochs = 600\n",
    "        self.warm_up = 80\n",
    "        self.momentum = 0.0\n",
    "        self.decay = 1e-3\n",
    "        self.epsilon = 0.02\n",
    "        self.num_class = 10\n",
    "        self.cifar10_dir = \"/corpus/corpus/UrbanSound8K\"\n",
    "        self.tensorboard_dir = \"tensoboard_cotraining\"\n",
    "        self.checkpoint_dir = \"checkpoint\"\n",
    "        self.base_lr = 0.05\n",
    "        self.resume = False\n",
    "        self.job_name = \"default\"\n",
    "        self.multi_gpu = False\n",
    "args = Args()"
   ]
  },
  {
   "cell_type": "markdown",
   "metadata": {},
   "source": [
    "## Reproducibility"
   ]
  },
  {
   "cell_type": "code",
   "execution_count": 4,
   "metadata": {},
   "outputs": [],
   "source": [
    "def reset_seed(seed):\n",
    "    random.seed(seed)\n",
    "    torch.manual_seed(seed)\n",
    "    torch.cuda.manual_seed_all(seed)\n",
    "    np.random.seed(seed)\n",
    "    torch.backends.cudnn.deterministic=True\n",
    "    torch.backends.cudnn.benchmark = False\n",
    "reset_seed(args.seed)"
   ]
  },
  {
   "cell_type": "code",
   "execution_count": 5,
   "metadata": {},
   "outputs": [],
   "source": [
    "import datetime\n",
    "\n",
    "def get_datetime():\n",
    "    now = datetime.datetime.now()\n",
    "    return str(now)[:10] + \"_\" + str(now)[11:-7]"
   ]
  },
  {
   "cell_type": "markdown",
   "metadata": {},
   "source": [
    "# Dataset"
   ]
  },
  {
   "cell_type": "code",
   "execution_count": 23,
   "metadata": {},
   "outputs": [
    {
     "data": {
      "application/vnd.jupyter.widget-view+json": {
       "model_id": "14b9b1ca27994334b51e6d608810617a",
       "version_major": 2,
       "version_minor": 0
      },
      "text/plain": [
       "HBox(children=(IntProgress(value=0, max=9), HTML(value='')))"
      ]
     },
     "metadata": {},
     "output_type": "display_data"
    },
    {
     "name": "stdout",
     "output_type": "stream",
     "text": [
      "\n"
     ]
    },
    {
     "data": {
      "application/vnd.jupyter.widget-view+json": {
       "model_id": "68879921256040b98df0c4aa9794e8bb",
       "version_major": 2,
       "version_minor": 0
      },
      "text/plain": [
       "HBox(children=(IntProgress(value=0, max=1), HTML(value='')))"
      ]
     },
     "metadata": {},
     "output_type": "display_data"
    },
    {
     "name": "stdout",
     "output_type": "stream",
     "text": [
      "\n"
     ]
    }
   ],
   "source": [
    "# load the data\n",
    "audio_root = \"../dataset/audio\"\n",
    "metadata_root = \"../dataset/metadata\"\n",
    "dataset = DatasetManager(metadata_root, audio_root, verbose=2)\n",
    "\n",
    "# prepare the sampler with the specified number of supervised file\n",
    "nb_train_file = len(dataset.audio[\"train\"])\n",
    "nb_s_file = int(nb_train_file * args.ratio)\n",
    "nb_s_file = nb_s_file - (nb_s_file % DatasetManager.NB_CLASS)  # need to be a multiple of number of class\n",
    "nb_u_file = nb_train_file - nb_s_file\n",
    "\n",
    "\n",
    "sampler = CoTrainingSampler(args.batchsize, nb_s_file, nb_u_file, nb_view=args.nb_view, ratio=None, method=\"duplicate\") # ratio is manually set here\n",
    "train_dataset = CoTrainingGenerator(dataset, sampler)"
   ]
  },
  {
   "cell_type": "markdown",
   "metadata": {},
   "source": [
    "# Prep training"
   ]
  },
  {
   "cell_type": "markdown",
   "metadata": {},
   "source": [
    "## Models"
   ]
  },
  {
   "cell_type": "code",
   "execution_count": 24,
   "metadata": {},
   "outputs": [],
   "source": [
    "model_func = cnn\n",
    "\n",
    "m1, m2 = model_func(), model_func()\n",
    "\n",
    "m1 = m1.cuda()\n",
    "m2 = m2.cuda()"
   ]
  },
  {
   "cell_type": "markdown",
   "metadata": {},
   "source": [
    "## Loaders & adversarial generators"
   ]
  },
  {
   "cell_type": "code",
   "execution_count": 25,
   "metadata": {
    "pycharm": {
     "is_executing": false
    }
   },
   "outputs": [
    {
     "data": {
      "application/vnd.jupyter.widget-view+json": {
       "model_id": "ec3bcf6dedd34f67bbef4bc4402b690f",
       "version_major": 2,
       "version_minor": 0
      },
      "text/plain": [
       "HBox(children=(IntProgress(value=0, max=837), HTML(value='')))"
      ]
     },
     "metadata": {},
     "output_type": "display_data"
    },
    {
     "name": "stdout",
     "output_type": "stream",
     "text": [
      "\n"
     ]
    }
   ],
   "source": [
    "\n",
    "x, y = train_dataset.validation\n",
    "x = torch.from_numpy(x)\n",
    "y = torch.from_numpy(y)\n",
    "val_dataset = torch.utils.data.TensorDataset(x, y)\n",
    "\n",
    "train_loader = data.DataLoader(train_dataset, batch_sampler=sampler, num_workers=4)\n",
    "val_loader = data.DataLoader(val_dataset, batch_size=128, num_workers=4)\n",
    "\n",
    "# adversarial generation\n",
    "adv_generator_1 = GradientSignAttack(\n",
    "    m1, loss_fn=nn.CrossEntropyLoss(reduction=\"sum\"),\n",
    "    eps=args.epsilon, clip_min=-math.inf, clip_max=math.inf, targeted=False\n",
    ")\n",
    "\n",
    "adv_generator_2 = GradientSignAttack(\n",
    "    m2, loss_fn=nn.CrossEntropyLoss(reduction=\"sum\"),\n",
    "    eps=args.epsilon, clip_min=-math.inf, clip_max=math.inf, targeted=False\n",
    ")"
   ]
  },
  {
   "cell_type": "markdown",
   "metadata": {},
   "source": [
    "## optimizers & callbacks "
   ]
  },
  {
   "cell_type": "code",
   "execution_count": 26,
   "metadata": {},
   "outputs": [],
   "source": [
    "params = list(m1.parameters()) + list(m2.parameters())\n",
    "optimizer = optim.SGD(params, lr=args.base_lr, momentum=args.momentum, weight_decay=args.decay)\n",
    "\n",
    "lr_lambda = lambda epoch: (1.0 + math.cos((epoch-1)*math.pi/args.epochs))\n",
    "lr_scheduler = LambdaLR(optimizer, lr_lambda)\n",
    "\n",
    "callbacks = [lr_scheduler]"
   ]
  },
  {
   "cell_type": "markdown",
   "metadata": {},
   "source": [
    "## Metrics and hyperparameters"
   ]
  },
  {
   "cell_type": "code",
   "execution_count": 27,
   "metadata": {},
   "outputs": [],
   "source": [
    "# define the metrics\n",
    "ratioS = [Ratio(), Ratio()]\n",
    "ratioU = [Ratio(), Ratio()]\n",
    "ratioSU = [Ratio(), Ratio()]\n",
    "accS = [CategoricalAccuracy(), CategoricalAccuracy()]\n",
    "accU = [CategoricalAccuracy(), CategoricalAccuracy()]\n",
    "accSU = [CategoricalAccuracy(), CategoricalAccuracy()]\n",
    "\n",
    "# define the warmups\n",
    "lambda_cot = Warmup(args.lambda_cot_max, args.warm_up, sigmoid_rampup)\n",
    "lambda_diff = Warmup(args.lambda_diff_max, args.warm_up, sigmoid_rampup)\n",
    "\n",
    "def reset_all_metrics():\n",
    "    all_metrics = [*ratioS, *ratioU, *ratioSU, *accS, *accU, *accSU]\n",
    "    for m in all_metrics:\n",
    "        m.reset()\n",
    "        \n",
    "def get_lr(optimizer):\n",
    "    for param_group in optimizer.param_groups:\n",
    "        return param_group['lr']\n",
    "\n",
    "title = \"%s_%s_%slcm_%sldm_%swl\" % (\n",
    "    get_datetime(),\n",
    "    args.job_name,\n",
    "    args.lambda_cot_max,\n",
    "    args.lambda_diff_max,\n",
    "    args.warm_up,\n",
    ")\n",
    "tensorboard = SummaryWriter(\"%s/%s\" % (args.tensorboard_dir, title))"
   ]
  },
  {
   "cell_type": "markdown",
   "metadata": {},
   "source": [
    "# Training"
   ]
  },
  {
   "cell_type": "code",
   "execution_count": 28,
   "metadata": {},
   "outputs": [],
   "source": [
    "def train(epoch):\n",
    "    m1.train()\n",
    "    m2.train()\n",
    "\n",
    "    running_loss = 0.0\n",
    "    ls = 0.0\n",
    "    lc = 0.0 \n",
    "    ld = 0.0\n",
    "    \n",
    "    start_time = time.time()\n",
    "    print(\"\")\n",
    "    \n",
    "    for batch, (X, y) in enumerate(train_loader):\n",
    "        X = [x.squeeze() for x in X]\n",
    "        y = [y_.squeeze() for y_ in y]\n",
    "    \n",
    "        # separate Supervised (S) and Unsupervised (U) parts\n",
    "        X_S, X_U = X[:-1], X[-1]\n",
    "        y_S, y_U = y[:-1], y[-1]\n",
    "        \n",
    "        for i in range(len(X_S)):\n",
    "            X_S[i] = X_S[i].cuda()\n",
    "            y_S[i] = y_S[i].cuda()\n",
    "        X_U, y_U = X_U.cuda(), y_U.cuda()\n",
    "\n",
    "        logits_S1 = m1(X_S[0])\n",
    "        logits_S2 = m2(X_S[1])\n",
    "        logits_U1 = m1(X_U)\n",
    "        logits_U2 = m2(X_U)\n",
    "\n",
    "        _, pred_S1 = torch.max(logits_S1, 1)\n",
    "        _, pred_S2 = torch.max(logits_S2, 1)\n",
    "\n",
    "        # pseudo labels of U \n",
    "        _, pred_U1 = torch.max(logits_U1, 1)\n",
    "        _, pred_U2 = torch.max(logits_U2, 1)\n",
    "\n",
    "        # ======== Generate adversarial examples ========\n",
    "        # fix batchnorm ----\n",
    "        m1.eval()\n",
    "        m2.eval()\n",
    "\n",
    "        #generate adversarial examples ----\n",
    "        adv_data_S1 = adv_generator_1.perturb(X_S[0], y_S[0])\n",
    "        adv_data_U1 = adv_generator_1.perturb(X_U, pred_U1)\n",
    "\n",
    "        adv_data_S2 = adv_generator_2.perturb(X_S[1], y_S[1])\n",
    "        adv_data_U2 = adv_generator_2.perturb(X_U, pred_U2)\n",
    "\n",
    "        m1.train()\n",
    "        m2.train()\n",
    "\n",
    "        # predict adversarial examples ----\n",
    "        adv_logits_S1 = m1(adv_data_S2)\n",
    "        adv_logits_S2 = m2(adv_data_S1)\n",
    "\n",
    "        adv_logits_U1 = m1(adv_data_U2)\n",
    "        adv_logits_U2 = m2(adv_data_U1)\n",
    "\n",
    "        # ======== calculate the differents loss ========\n",
    "        # zero the parameter gradients ----\n",
    "        optimizer.zero_grad()\n",
    "        m1.zero_grad()\n",
    "        m2.zero_grad()\n",
    "\n",
    "        # losses ----\n",
    "        Loss_sup_S1, Loss_sup_S2, Loss_sup = p_loss_sup(logits_S1, logits_S2, y_S[0], y_S[1])\n",
    "        Loss_cot = loss_cot(logits_U1, logits_U2)\n",
    "        pld_S, pld_U, Loss_diff = p_loss_diff(logits_S1, logits_S2, adv_logits_S1, adv_logits_S2, logits_U1, logits_U2, adv_logits_U1, adv_logits_U2)\n",
    "        \n",
    "        total_loss = Loss_sup + lambda_cot.next() * Loss_cot + lambda_diff.next() * Loss_diff\n",
    "        total_loss.backward()\n",
    "        optimizer.step()\n",
    "\n",
    "        # ======== Calc the metrics ========\n",
    "        # accuracies ----\n",
    "        pred_SU1 = torch.cat((pred_S1, pred_U1), 0)\n",
    "        pred_SU2 = torch.cat((pred_S2, pred_U2), 0)\n",
    "        y_SU1 = torch.cat((y_S[0], y_U), 0)\n",
    "        y_SU2 = torch.cat((y_S[1], y_U), 0)\n",
    "\n",
    "        acc_S1 = accS[0](pred_S1, y_S[0])\n",
    "        acc_S2 = accS[1](pred_S2, y_S[1])\n",
    "        acc_U1 = accU[0](pred_U1, y_U)\n",
    "        acc_U2 = accU[1](pred_U2, y_U)\n",
    "        acc_SU1 = accSU[0](pred_SU1, y_SU1)\n",
    "        acc_SU2 = accSU[1](pred_SU2, y_SU2)\n",
    "        \n",
    "        # ratios  ----\n",
    "        _, adv_pred_S1 = torch.max(adv_logits_S1, 1)\n",
    "        _, adv_pred_S2 = torch.max(adv_logits_S2, 1)\n",
    "        _, adv_pred_U1 = torch.max(adv_logits_U1, 1)\n",
    "        _, adv_pred_U2 = torch.max(adv_logits_U2, 1)\n",
    "\n",
    "        adv_pred_SU1 = torch.cat((adv_pred_S1, adv_pred_U1), 0)\n",
    "        adv_pred_SU2 = torch.cat((adv_pred_S2, adv_pred_U2), 0)\n",
    "        adv_y_SU1 = torch.cat((y_S[0], pred_U1), 0)\n",
    "        adv_y_SU2 = torch.cat((y_S[1], pred_U2), 0)\n",
    "\n",
    "        ratio_S1 = ratioS[0](adv_pred_S1, y_S[0])\n",
    "        ratio_S2 = ratioS[1](adv_pred_S2, y_S[1])\n",
    "        ratio_U1 = ratioU[0](adv_pred_U1, pred_U1)\n",
    "        ratio_U2 = ratioU[1](adv_pred_U2, pred_U2)\n",
    "        ratio_SU1 = ratioSU[0](adv_pred_SU1, adv_y_SU1)\n",
    "        ratio_SU2 = ratioSU[1](adv_pred_SU2, adv_y_SU2)\n",
    "        # ========\n",
    "        \n",
    "        running_loss += total_loss.item()\n",
    "        ls += Loss_sup.item()\n",
    "        lc += Loss_cot.item()\n",
    "        ld += Loss_diff.item()\n",
    "        \n",
    "        # print statistics\n",
    "        print(\"Epoch %s: %.2f%% : train acc: %.3f %.3f - Loss: %.3f %.3f %.3f %.3f - time: %.2f\" % (\n",
    "            epoch, (batch / len(sampler)) * 100,\n",
    "            acc_SU1, acc_SU2,\n",
    "            running_loss/(batch+1), ls/(batch+1), lc/(batch+1), ld/(batch+1),\n",
    "            time.time() - start_time,\n",
    "        ), end=\"\\r\")\n",
    "\n",
    "    # using tensorboard to monitor loss and acc\\n\",\n",
    "    tensorboard.add_scalar('train/total_loss', total_loss.item(), epoch)\n",
    "    tensorboard.add_scalar('train/Lsup', Loss_sup.item(), epoch )\n",
    "    tensorboard.add_scalar('train/Lcot', Loss_cot.item(), epoch )\n",
    "    tensorboard.add_scalar('train/Ldiff', Loss_diff.item(), epoch )\n",
    "    tensorboard.add_scalar(\"train/acc_1\", acc_SU1, epoch )\n",
    "    tensorboard.add_scalar(\"train/acc_2\", acc_SU2, epoch )\n",
    "\n",
    "    tensorboard.add_scalar(\"detail_loss/Lsus S1\", Loss_sup_S1.item(), epoch)\n",
    "    tensorboard.add_scalar(\"detail_loss/Lsus S2\", Loss_sup_S2.item(), epoch)\n",
    "    tensorboard.add_scalar(\"detail_loss/Ldiff S\", pld_S.item(), epoch)\n",
    "    tensorboard.add_scalar(\"detail_loss/Ldiff U\", pld_U.item(), epoch)\n",
    "\n",
    "    tensorboard.add_scalar(\"detail_acc/acc S1\", acc_S1, epoch)\n",
    "    tensorboard.add_scalar(\"detail_acc/acc S2\", acc_S2, epoch)\n",
    "    tensorboard.add_scalar(\"detail_acc/acc U1\", acc_U1, epoch)\n",
    "    tensorboard.add_scalar(\"detail_acc/acc U2\", acc_U2, epoch)\n",
    "\n",
    "    tensorboard.add_scalar(\"detail_ratio/ratio S1\", ratio_S1, epoch)\n",
    "    tensorboard.add_scalar(\"detail_ratio/ratio S2\", ratio_S2, epoch)\n",
    "    tensorboard.add_scalar(\"detail_ratio/ratio U1\", ratio_U1, epoch)\n",
    "    tensorboard.add_scalar(\"detail_ratio/ratio U2\", ratio_U2, epoch)\n",
    "    tensorboard.add_scalar(\"detail_ratio/ratio SU1\", ratio_SU1, epoch)\n",
    "    tensorboard.add_scalar(\"detail_ratio/ratio SU2\", ratio_SU2, epoch)\n",
    "    \n",
    "    # Return the total loss to check for NaN\n",
    "    return total_loss.item()"
   ]
  },
  {
   "cell_type": "code",
   "execution_count": 29,
   "metadata": {
    "collapsed": false,
    "jupyter": {
     "outputs_hidden": false
    },
    "pycharm": {
     "name": "#%%\n"
    }
   },
   "outputs": [],
   "source": [
    "def test(epoch):\n",
    "    global best_acc\n",
    "    m1.eval()\n",
    "    m2.eval()\n",
    "    correct1 = 0\n",
    "    correct2 = 0\n",
    "    total1 = 0\n",
    "    total2 = 0\n",
    "    with torch.no_grad():\n",
    "        for batch_idx, (inputs, targets) in enumerate(val_loader):\n",
    "            inputs = inputs.cuda()\n",
    "            targets = targets.cuda()\n",
    "\n",
    "            outputs1 = m1(inputs)\n",
    "            predicted1 = outputs1.max(1)\n",
    "            total1 += targets.size(0)\n",
    "            correct1 += predicted1[1].eq(targets).sum().item()\n",
    "\n",
    "            outputs2 = m2(inputs)\n",
    "            predicted2 = outputs2.max(1)\n",
    "            total2 += targets.size(0)\n",
    "            correct2 += predicted2[1].eq(targets).sum().item()\n",
    "\n",
    "    print('\\nnet1 test acc: %.3f%% (%d/%d) | net2 test acc: %.3f%% (%d/%d)'\n",
    "        % (100.*correct1/total1, correct1, total1, 100.*correct2/total2, correct2, total2))\n",
    "    \n",
    "    tensorboard.add_scalar(\"val/acc 1\", correct1 / total1, epoch)\n",
    "    tensorboard.add_scalar(\"val/acc 2\", correct2 / total2, epoch)\n",
    "    \n",
    "    tensorboard.add_scalar(\"detail_hyperparameters/lambda_cot\", lambda_cot(), epoch)\n",
    "    tensorboard.add_scalar(\"detail_hyperparameters/lambda_diff\", lambda_diff(), epoch)\n",
    "    tensorboard.add_scalar(\"detail_hyperparameters/learning_rate\", get_lr(optimizer), epoch)\n",
    "\n",
    "    # Apply callbacks\n",
    "    for c in callbacks:\n",
    "        c.step()\n"
   ]
  },
  {
   "cell_type": "code",
   "execution_count": null,
   "metadata": {
    "collapsed": false,
    "jupyter": {
     "outputs_hidden": false
    },
    "pycharm": {
     "name": "#%%\n"
    }
   },
   "outputs": [],
   "source": [
    "for epoch in range(0, args.epochs):\n",
    "    total_loss = train(epoch)\n",
    "    if np.isnan(total_loss):\n",
    "        print(\"Losses are NaN, stoping the training here\")\n",
    "        break\n",
    "    test(epoch)\n",
    "\n",
    "# tensorboard.export_scalars_to_json('./' + args.tensorboard_dir + 'output.json')\n",
    "# tensorboard.close()\n"
   ]
  },
  {
   "cell_type": "markdown",
   "metadata": {
    "pycharm": {
     "name": "#%% md\n"
    }
   },
   "source": [
    "# ♫♪.ılılıll|̲̅̅●̲̅̅|̲̅̅=̲̅̅|̲̅̅●̲̅̅|llılılı.♫♪"
   ]
  },
  {
   "cell_type": "markdown",
   "metadata": {},
   "source": [
    "# Statistic on inputs"
   ]
  },
  {
   "cell_type": "code",
   "execution_count": 55,
   "metadata": {},
   "outputs": [
    {
     "name": "stdout",
     "output_type": "stream",
     "text": [
      "(90, 64, 173)\n",
      "max max:  1.9073486e-06\n",
      "min max:  -1.9073486e-06\n",
      "mean max:  -1.4901161e-07\n",
      "std max:  8.278754e-07\n",
      "kurosis:  1.4041665549429894\n",
      "------------------\n",
      "max max:  -49.57448\n",
      "min max:  -80.0\n",
      "mean max:  -76.793106\n",
      "std max:  7.058882\n",
      "kurosis:  4.802228195151878\n",
      "------------------\n",
      "max max:  -13.666972\n",
      "min max:  -69.56058\n",
      "mean max:  -37.362194\n",
      "std max:  12.763807\n",
      "kurosis:  0.10576307117413686\n",
      "------------------\n",
      "max max:  29.297512\n",
      "min max:  6.5829234\n",
      "mean max:  14.993989\n",
      "std max:  4.4701858\n",
      "kurosis:  1.6682413839522265\n"
     ]
    }
   ],
   "source": [
    "from scipy.stats import kurtosis\n",
    "\n",
    "for batch, (X, y) in enumerate(train_loader):\n",
    "        X = [x.squeeze() for x in X]\n",
    "        y = [y_.squeeze() for y_ in y]\n",
    "    \n",
    "        # separate Supervised (S) and Unsupervised (U) parts\n",
    "        X_S, X_U = X[:-1], X[-1]\n",
    "        y_S, y_U = y[:-1], y[-1]\n",
    "        \n",
    "        X_U = X_U.numpy()\n",
    "        print(X_U.shape)\n",
    "        \n",
    "        # max\n",
    "        val = X_U.max(axis=(1, 2))\n",
    "        print(\"max max: \", val.max())\n",
    "        print(\"min max: \", val.min())\n",
    "        print(\"mean max: \", val.mean())\n",
    "        print(\"std max: \", val.std())\n",
    "        print(\"kurosis: \", kurtosis(val))\n",
    "        \n",
    "        # min\n",
    "        print(\"------------------\")\n",
    "        val = X_U.min(axis=(1, 2))\n",
    "        print(\"max max: \", val.max())\n",
    "        print(\"min max: \", val.min())\n",
    "        print(\"mean max: \", val.mean())\n",
    "        print(\"std max: \", val.std())\n",
    "        print(\"kurosis: \", kurtosis(val))\n",
    "        \n",
    "        # mean\n",
    "        print(\"------------------\")\n",
    "        val = X_U.mean(axis=(1, 2))\n",
    "        print(\"max max: \", val.max())\n",
    "        print(\"min max: \", val.min())\n",
    "        print(\"mean max: \", val.mean())\n",
    "        print(\"std max: \", val.std())\n",
    "        print(\"kurosis: \", kurtosis(val))\n",
    "        \n",
    "        # std\n",
    "        print(\"------------------\")\n",
    "        val = X_U.std(axis=(1, 2))\n",
    "        print(\"max max: \", val.max())\n",
    "        print(\"min max: \", val.min())\n",
    "        print(\"mean max: \", val.mean())\n",
    "        print(\"std max: \", val.std())\n",
    "        print(\"kurosis: \", kurtosis(val))\n",
    "        \n",
    "        break"
   ]
  }
 ],
 "metadata": {
  "kernelspec": {
   "display_name": "Python 3",
   "language": "python",
   "name": "python3"
  },
  "language_info": {
   "codemirror_mode": {
    "name": "ipython",
    "version": 3
   },
   "file_extension": ".py",
   "mimetype": "text/x-python",
   "name": "python",
   "nbconvert_exporter": "python",
   "pygments_lexer": "ipython3",
   "version": "3.7.4"
  },
  "pycharm": {
   "stem_cell": {
    "cell_type": "raw",
    "metadata": {
     "collapsed": false
    },
    "source": []
   }
  },
  "toc-autonumbering": true
 },
 "nbformat": 4,
 "nbformat_minor": 4
}
