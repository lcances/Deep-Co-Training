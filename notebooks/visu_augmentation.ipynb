{
 "cells": [
  {
   "cell_type": "code",
   "execution_count": 1,
   "metadata": {},
   "outputs": [],
   "source": [
    "%load_ext autoreload\n",
    "%autoreload"
   ]
  },
  {
   "cell_type": "code",
   "execution_count": 6,
   "metadata": {},
   "outputs": [],
   "source": [
    "import sys\n",
    "sys.path.append(\"../src/\")\n",
    "import signal_augmentations as sig_aug\n",
    "import spec_augmentations as spec_aug\n",
    "import img_augmentations as img_aug\n",
    "\n",
    "from datasetManager import DatasetManager\n",
    "from generators import Dataset"
   ]
  },
  {
   "cell_type": "markdown",
   "metadata": {},
   "source": [
    "# Load some data "
   ]
  },
  {
   "cell_type": "code",
   "execution_count": 7,
   "metadata": {},
   "outputs": [
    {
     "name": "stderr",
     "output_type": "stream",
     "text": [
      "100%|██████████| 1/1 [00:01<00:00,  1.85s/it]\n",
      "0it [00:00, ?it/s]\n"
     ]
    }
   ],
   "source": [
    "audio_root = \"../dataset/audio\"\n",
    "metadata_root = \"../dataset/metadata\"\n",
    "\n",
    "dataset = DatasetManager(metadata_root, audio_root, verbose=1, train_fold=[10], val_fold=[])"
   ]
  },
  {
   "cell_type": "code",
   "execution_count": 8,
   "metadata": {},
   "outputs": [],
   "source": [
    "train_dataset = Dataset(dataset, augments=[])"
   ]
  },
  {
   "cell_type": "markdown",
   "metadata": {},
   "source": [
    "# Utility function"
   ]
  },
  {
   "cell_type": "code",
   "execution_count": 9,
   "metadata": {},
   "outputs": [],
   "source": [
    "import matplotlib.pyplot as plt\n",
    "\n",
    "def display(spec_orig, spec_augm):\n",
    "    \n",
    "    plt.figure(0, figsize=(20, 7))\n",
    "    \n",
    "    # Image original\n",
    "    plt.subplot(1, 3, 1)\n",
    "    plt.matshow(spec_orig, fignum=0)\n",
    "\n",
    "    plt.subplot(1, 3, 2)\n",
    "    plt.matshow(spec_augm, fignum=0)\n",
    "    \n",
    "    plt.subplot(1, 3, 3)\n",
    "    plt.matshow(spec_orig - spec_augm, fignum=0)\n",
    "    \n",
    "    plt.show()"
   ]
  },
  {
   "cell_type": "markdown",
   "metadata": {},
   "source": [
    "# Spectrogram augmentation"
   ]
  },
  {
   "cell_type": "code",
   "execution_count": null,
   "metadata": {},
   "outputs": [],
   "source": [
    "spec_orig, y = train_dataset[0]"
   ]
  },
  {
   "cell_type": "markdown",
   "metadata": {},
   "source": [
    "## SpecAugment stretch"
   ]
  },
  {
   "cell_type": "code",
   "execution_count": null,
   "metadata": {},
   "outputs": [],
   "source": [
    "fts_func = spec_aug.FractalTimeStretch(1.0,\n",
    "                                       intra_ratio = 0.3,\n",
    "                                       min_chunk_size=5,\n",
    "                                       max_chunk_size=16,\n",
    "                                       rate=(0.8, 1.2)\n",
    ")\n",
    "ffs_func = spec_aug.FractalFreqStretch(1.0,\n",
    "                                      intra_ratio=0.3,\n",
    "                                      min_chunk_size=4,\n",
    "                                      max_chunk_size=12,\n",
    "                                      rate=(0.9, 1.1)\n",
    ")\n",
    "\n",
    "spec_augmented = fts_func(ffs_func(spec_orig))\n",
    "\n",
    "display(spec_orig, spec_augmented)"
   ]
  },
  {
   "cell_type": "markdown",
   "metadata": {},
   "source": [
    "## SpecAugment Dropout"
   ]
  },
  {
   "cell_type": "code",
   "execution_count": null,
   "metadata": {},
   "outputs": [],
   "source": [
    "ftd_func = spec_aug.FractalTimeDropout(1.0,\n",
    "                                       min_chunk_size=2,\n",
    "                                       max_chunk_size=8,\n",
    "                                       min_chunk=1,\n",
    "                                       max_chunk=2,\n",
    ")\n",
    "ffd_func = spec_aug.FractalFrecDropout(1.0,\n",
    "                                      min_chunk_size=2,\n",
    "                                      max_chunk_size=2,\n",
    "                                      min_chunk=2,\n",
    "                                      max_chunk=2,\n",
    ")\n",
    "\n",
    "spec_augmented = ffd_func(ftd_func(spec_orig))\n",
    "\n",
    "display(spec_orig, spec_augmented)"
   ]
  },
  {
   "cell_type": "code",
   "execution_count": null,
   "metadata": {},
   "outputs": [],
   "source": []
  },
  {
   "cell_type": "code",
   "execution_count": null,
   "metadata": {},
   "outputs": [],
   "source": []
  }
 ],
 "metadata": {
  "kernelspec": {
   "display_name": "Python (DL)",
   "language": "python",
   "name": "dl"
  },
  "language_info": {
   "codemirror_mode": {
    "name": "ipython",
    "version": 3
   },
   "file_extension": ".py",
   "mimetype": "text/x-python",
   "name": "python",
   "nbconvert_exporter": "python",
   "pygments_lexer": "ipython3",
   "version": "3.7.4"
  }
 },
 "nbformat": 4,
 "nbformat_minor": 4
}
