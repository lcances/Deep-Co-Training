{
 "cells": [
  {
   "cell_type": "code",
   "execution_count": 54,
   "metadata": {},
   "outputs": [],
   "source": [
    "import os\n",
    "import numpy as np\n",
    "\n",
    "import tensorflow as tf"
   ]
  },
  {
   "cell_type": "code",
   "execution_count": 45,
   "metadata": {},
   "outputs": [],
   "source": [
    "# create a list to all tensorboard log file\n",
    "logs_directory = \"../../tmp/tensorboard\"\n",
    "all_log_dir = os.listdir(logs_directory)\n",
    "\n",
    "all_log_path = []\n",
    "for log_dir in all_log_dir:\n",
    "    log_dir_path = os.path.join(logs_directory, log_dir)\n",
    "    all_log_path.append(os.path.join(log_dir_path, os.listdir(log_dir_path)[0]))\n"
   ]
  },
  {
   "cell_type": "code",
   "execution_count": 49,
   "metadata": {},
   "outputs": [],
   "source": [
    "def get_log_data(path):\n",
    "    logs = dict(zip(tags, [[] for _ in range(len(tags))]))\n",
    "\n",
    "    for e in tf.train.summary_iterator(path):\n",
    "        for value in e.summary.value:\n",
    "            if value.HasField(\"simple_value\"):\n",
    "                logs[value.tag].append(value.simple_value)\n",
    "    \n",
    "    return logs"
   ]
  },
  {
   "cell_type": "markdown",
   "metadata": {},
   "source": [
    "# Get all the logs"
   ]
  },
  {
   "cell_type": "code",
   "execution_count": 50,
   "metadata": {},
   "outputs": [],
   "source": [
    "tags = [\"train/ce\", \"train/acc\", \"validation/ce\", \"validation/acc\"]\n",
    "all_logs = dict(zip(all_log_path, [None for _ in range(len(all_log_path))]))\n",
    "\n",
    "# for path in all_log_path:\n",
    "for path in all_log_path:\n",
    "    all_logs[path] = get_log_data(path)"
   ]
  },
  {
   "cell_type": "markdown",
   "metadata": {},
   "source": [
    "# Calculate the stats for all the logs"
   ]
  },
  {
   "cell_type": "code",
   "execution_count": 70,
   "metadata": {},
   "outputs": [],
   "source": [
    "all_logs_stats = dict(zip(all_log_path, [{} for _ in range(len(all_log_path))]))\n",
    "\n",
    "for path in all_log_path:\n",
    "    for tag in all_logs[path]:\n",
    "        all_logs_stats[path][tag] = {\"max\": None, \"min\": None}\n",
    "        all_logs_stats[path][tag][\"max\"] = np.asarray(all_logs[path][tag]).max()\n",
    "        all_logs_stats[path][tag][\"min\"] = np.asarray(all_logs[path][tag]).min()"
   ]
  },
  {
   "cell_type": "code",
   "execution_count": 72,
   "metadata": {},
   "outputs": [],
   "source": [
    "# search in the stat\n",
    "def get_of(tag, key, search: str) -> list:\n",
    "    output = []\n",
    "    \n",
    "    for path in all_logs_stats.keys():\n",
    "        if search in path:\n",
    "            output.append(all_logs_stats[path][tag][key])\n",
    "    \n",
    "    return output"
   ]
  },
  {
   "cell_type": "code",
   "execution_count": 100,
   "metadata": {},
   "outputs": [
    {
     "name": "stdout",
     "output_type": "stream",
     "text": [
      "83,10\n",
      "82,52\n",
      "80,32\n",
      "78,12\n",
      "83,21\n",
      "82,57\n",
      "81,25\n",
      "80,40\n",
      "82,57\n",
      "83,89\n",
      "72,43\n",
      "73,03\n",
      "74,39\n",
      "71,51\n",
      "71,75\n",
      "72,68\n",
      "73,91\n",
      "74,30\n",
      "74,88\n",
      "72,76\n",
      "76,71\n",
      "76,68\n",
      "75,84\n",
      "78,20\n",
      "77,69\n",
      "81,04\n",
      "80,52\n",
      "85,62\n",
      "85,93\n",
      "83,02\n",
      "73,93\n",
      "74,61\n",
      "71,70\n",
      "69,48\n",
      "69,35\n",
      "71,15\n",
      "69,96\n",
      "69,51\n",
      "75,13\n",
      "71,18\n",
      "70,79\n",
      "73,77\n",
      "73,21\n",
      "72,13\n",
      "72,76\n",
      "72,42\n",
      "78,11\n",
      "71,81\n",
      "72,08\n",
      "75,94\n"
     ]
    }
   ],
   "source": [
    "val = [get_of(\"validation/acc\", \"max\", \"run%d_\" % i) for i in range(1, 11)]\n",
    "values = []\n",
    "for v in val:\n",
    "    values.extend(v)\n",
    "    \n",
    "for v in values:\n",
    "    v = str(v)\n",
    "    print(\"%s,%s\" % (v.split(\".\")[0], v.split(\".\")[1][:2]))"
   ]
  }
 ],
 "metadata": {
  "kernelspec": {
   "display_name": "Python 3",
   "language": "python",
   "name": "python3"
  },
  "language_info": {
   "codemirror_mode": {
    "name": "ipython",
    "version": 3
   },
   "file_extension": ".py",
   "mimetype": "text/x-python",
   "name": "python",
   "nbconvert_exporter": "python",
   "pygments_lexer": "ipython3",
   "version": "3.7.4"
  }
 },
 "nbformat": 4,
 "nbformat_minor": 4
}
