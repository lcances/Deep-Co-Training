{
 "cells": [
  {
   "cell_type": "markdown",
   "metadata": {
    "jupyter": {
     "outputs_hidden": true
    }
   },
   "source": [
    "# import"
   ]
  },
  {
   "cell_type": "code",
   "execution_count": 1,
   "metadata": {},
   "outputs": [],
   "source": [
    "%load_ext autoreload\n",
    "%autoreload 2"
   ]
  },
  {
   "cell_type": "code",
   "execution_count": 2,
   "metadata": {},
   "outputs": [],
   "source": [
    "import os\n",
    "os.environ[\"MKL_NUM_THREADS\"] = \"2\"\n",
    "os.environ[\"NUMEXPR_NU M_THREADS\"] = \"2\"\n",
    "os.environ[\"OMP_NUM_THREADS\"] = \"2\"\n",
    "import numpy as np\n",
    "import tqdm\n",
    "import time\n",
    "\n",
    "import torch\n",
    "import torch.nn as nn\n",
    "import torch.utils.data as data\n",
    "import torch.nn.functional as F\n",
    "from torch.optim.lr_scheduler import LambdaLR\n",
    "from advertorch.attacks import GradientSignAttack\n",
    "from torch.utils.tensorboard import SummaryWriter\n",
    "\n",
    "from functools import reduce \n"
   ]
  },
  {
   "cell_type": "code",
   "execution_count": 3,
   "metadata": {},
   "outputs": [],
   "source": [
    "import sys\n",
    "sys.path.append(\"../src/\")\n",
    "\n",
    "from datasetManager import DatasetManager\n",
    "from generators import Generator\n",
    "import signal_augmentations as sa "
   ]
  },
  {
   "cell_type": "markdown",
   "metadata": {},
   "source": [
    "# Utils"
   ]
  },
  {
   "cell_type": "markdown",
   "metadata": {},
   "source": [
    "## Metrics"
   ]
  },
  {
   "cell_type": "code",
   "execution_count": 4,
   "metadata": {
    "ExecuteTime": {
     "end_time": "2019-11-12T15:36:12.973823Z",
     "start_time": "2019-11-12T15:36:12.893994Z"
    }
   },
   "outputs": [],
   "source": [
    "class Metrics:\n",
    "    def __init__(self, epsilon=1e-10):\n",
    "        self.value = 0\n",
    "        self.accumulate_value = 0\n",
    "        self.count = 0\n",
    "        self.epsilon = epsilon\n",
    "        \n",
    "    def reset(self):\n",
    "        self.accumulate_value = 0\n",
    "        self.count = 0\n",
    "        \n",
    "    def __call__(self):\n",
    "        self.count += 1\n",
    "\n",
    "        \n",
    "class BinaryAccuracy(Metrics):\n",
    "    def __init__(self, epsilon=1e-10):\n",
    "        Metrics.__init__(self, epsilon)\n",
    "        \n",
    "    def __call__(self, y_pred, y_true):\n",
    "        super().__call__()\n",
    "        \n",
    "        with torch.set_grad_enabled(False):\n",
    "            y_pred = (y_pred>0.5).float()\n",
    "            correct = (y_pred == y_true).float().sum()\n",
    "            self.value = correct/ (y_true.shape[0] * y_true.shape[1])\n",
    "            \n",
    "            self.accumulate_value += self.value\n",
    "            return self.accumulate_value / self.count\n",
    "        \n",
    "        \n",
    "class CategoricalAccuracy(Metrics):\n",
    "    def __init__(self, epsilon=1e-10):\n",
    "        Metrics.__init__(self, epsilon)\n",
    "        \n",
    "    def __call__(self, y_pred, y_true):\n",
    "        super().__call__()\n",
    "        \n",
    "        with torch.set_grad_enabled(False):\n",
    "            self.value = torch.mean((y_true == y_pred).float())\n",
    "            self.accumulate_value += self.value\n",
    "\n",
    "            return self.accumulate_value / self.count\n",
    "\n",
    "        \n",
    "class Ratio(Metrics):\n",
    "    def __init__(self, epsilon=1e-10):\n",
    "        Metrics.__init__(self, epsilon)\n",
    "        \n",
    "    def __call__(self, y_pred, y_adv_pred):\n",
    "        super().__call__()\n",
    "        \n",
    "        results = zip(y_pred, y_adv_pred)\n",
    "        results_bool = [int(r[0] != r[1]) for r in results]\n",
    "        self.value = sum(results_bool) / len(results_bool) * 100\n",
    "        self.accumulate_value += self.value\n",
    "        \n",
    "        return self.accumulate_value / self.count"
   ]
  },
  {
   "cell_type": "code",
   "execution_count": 5,
   "metadata": {
    "ExecuteTime": {
     "end_time": "2019-11-12T15:36:12.997511Z",
     "start_time": "2019-11-12T15:36:12.975482Z"
    }
   },
   "outputs": [],
   "source": [
    "import datetime\n",
    "def get_datetime():\n",
    "    now = datetime.datetime.now()\n",
    "    return str(now)[:10] + \"_\" + str(now)[11:-7]"
   ]
  },
  {
   "cell_type": "markdown",
   "metadata": {},
   "source": [
    "# Initialization"
   ]
  },
  {
   "cell_type": "markdown",
   "metadata": {},
   "source": [
    "## set seeds"
   ]
  },
  {
   "cell_type": "code",
   "execution_count": 6,
   "metadata": {
    "ExecuteTime": {
     "end_time": "2019-11-12T15:36:13.020782Z",
     "start_time": "2019-11-12T15:36:13.000410Z"
    },
    "pycharm": {
     "is_executing": false
    }
   },
   "outputs": [],
   "source": [
    "def reset_seed(seed=42):\n",
    "    np.random.seed(seed)\n",
    "    torch.manual_seed(seed)\n",
    "reset_seed()"
   ]
  },
  {
   "cell_type": "markdown",
   "metadata": {},
   "source": [
    "## Prepare GPU"
   ]
  },
  {
   "cell_type": "code",
   "execution_count": 7,
   "metadata": {
    "ExecuteTime": {
     "end_time": "2019-11-12T15:36:34.259332Z",
     "start_time": "2019-11-12T15:36:34.233822Z"
    },
    "pycharm": {
     "is_executing": false
    }
   },
   "outputs": [],
   "source": [
    "# CUDA for PyTorch\n",
    "use_cuda = torch.cuda.is_available()\n",
    "device = torch.device(\"cuda:0\" if use_cuda else \"cpu\")\n",
    "# cudnn.benchmark = True"
   ]
  },
  {
   "cell_type": "markdown",
   "metadata": {},
   "source": [
    "# Model definition"
   ]
  },
  {
   "cell_type": "markdown",
   "metadata": {},
   "source": [
    "## CNN original\n",
    "https://arxiv.org/pdf/1608.04363.pdf"
   ]
  },
  {
   "cell_type": "code",
   "execution_count": 8,
   "metadata": {},
   "outputs": [],
   "source": [
    "class ConvPoolReLU(nn.Sequential):\n",
    "    def __init__(self, in_size, out_size, kernel_size, stride, padding,\n",
    "                pool_kernel_size, pool_stride):\n",
    "        super(ConvPoolReLU, self).__init__(\n",
    "            nn.Conv2d(in_size, out_size, kernel_size=kernel_size, stride=stride, padding=padding),\n",
    "            nn.MaxPool2d(kernel_size=pool_kernel_size, stride=pool_stride),\n",
    "            nn.BatchNorm2d(out_size),\n",
    "            nn.ReLU6(inplace=True),\n",
    "        )\n",
    "        \n",
    "class ConvReLU(nn.Sequential):\n",
    "    def __init__(self, in_size, out_size, kernel_size, stride, padding):\n",
    "        super(ConvReLU, self).__init__(\n",
    "            nn.Conv2d(in_size, out_size, kernel_size=kernel_size, stride=stride, padding=padding),\n",
    "            nn.ReLU6(inplace=True),\n",
    "        )"
   ]
  },
  {
   "cell_type": "code",
   "execution_count": 9,
   "metadata": {},
   "outputs": [],
   "source": [
    "class cnn(nn.Module):\n",
    "    def __init__(self):\n",
    "        super(cnn, self).__init__()\n",
    "        \n",
    "        self.features = nn.Sequential(\n",
    "            ConvPoolReLU(1, 24, 3, 1, 1, (4,2), (4,2)),\n",
    "            ConvPoolReLU(24, 48, 3, 1, 1, (4,2), (4,2)),\n",
    "            ConvPoolReLU(48, 48, 3, 1, 1, (4,2), (4,2)),\n",
    "            ConvReLU(48, 48, 3, 1, 1),\n",
    "        )\n",
    "\n",
    "        self.classifier = nn.Sequential(\n",
    "            nn.Flatten(),\n",
    "            nn.Dropout(0.5),\n",
    "            nn.Linear(1008, 10),\n",
    "#             nn.ReLU(inplace=True),\n",
    "#             nn.Dropout(0.5),\n",
    "#             nn.Linear(64, 10),\n",
    "        )\n",
    "                \n",
    "        \n",
    "    def forward(self, x):\n",
    "        x = x.view(-1, 1, *x.shape[1:])\n",
    "\n",
    "        x = self.features(x)\n",
    "        x = self.classifier(x)\n",
    "        \n",
    "        return x"
   ]
  },
  {
   "cell_type": "markdown",
   "metadata": {},
   "source": [
    "## CNN 2"
   ]
  },
  {
   "cell_type": "code",
   "execution_count": 153,
   "metadata": {},
   "outputs": [],
   "source": [
    "class cnn2(nn.Module):\n",
    "    def __init__(self):\n",
    "        super(cnn2, self).__init__()\n",
    "        \n",
    "        self.features = nn.Sequential(\n",
    "            ConvPoolReLU(1, 24, 5, 1, 1, (4,2), (4,2)),\n",
    "            ConvPoolReLU(24, 48, 5, 1, 1, (4,2), (4,2)),\n",
    "            ConvReLU(48, 48, 5, 1, 1),\n",
    "        )\n",
    "\n",
    "        self.classifier = nn.Sequential(\n",
    "            nn.Flatten(),\n",
    "            nn.Dropout(0.5),\n",
    "            nn.Linear(1872, 64),\n",
    "            nn.ReLU(),\n",
    "            nn.Dropout(0.5),\n",
    "            nn.Linear(64, 10)\n",
    "        )\n",
    "                \n",
    "        \n",
    "    def forward(self, x):\n",
    "        x = x.view(-1, 1, *x.shape[1:])\n",
    "\n",
    "        x = self.features(x)\n",
    "        x = self.classifier(x)\n",
    "        \n",
    "        return x"
   ]
  },
  {
   "cell_type": "markdown",
   "metadata": {
    "toc-hr-collapsed": true,
    "toc-nb-collapsed": true
   },
   "source": [
    "## RNN"
   ]
  },
  {
   "cell_type": "code",
   "execution_count": 34,
   "metadata": {},
   "outputs": [],
   "source": [
    "class ConvBNReLU(nn.Sequential):\n",
    "    def __init__(self, in_size, out_size, conv_kernel_size, conv_stride, conv_padding):\n",
    "        super(ConvBNReLU, self).__init__(\n",
    "            nn.Conv2d(in_size, out_size, kernel_size=conv_kernel_size, stride=conv_stride, padding=conv_padding),\n",
    "            nn.BatchNorm2d(out_size),\n",
    "            nn.ReLU(inplace=True),\n",
    "        )"
   ]
  },
  {
   "cell_type": "code",
   "execution_count": 88,
   "metadata": {},
   "outputs": [],
   "source": [
    "class crnn(nn.Module):\n",
    "    def __init__(self):\n",
    "        super(crnn, self).__init__()\n",
    "        \n",
    "        self.features = nn.Sequential(\n",
    "            ConvBNReLU(1, 64, 3, 1, 1),\n",
    "            nn.MaxPool2d(kernel_size=(4,2), stride=(4,2)),\n",
    "            ConvBNReLU(64, 64, 3, 1, 1),\n",
    "            nn.MaxPool2d(kernel_size=(4,2), stride=(4,2)),\n",
    "            ConvBNReLU(64, 64, 3, 1, 1),\n",
    "            nn.MaxPool2d(kernel_size=(4,1), stride=(4,1)),\n",
    "        )\n",
    "        \n",
    "        self.rnn = nn.GRU(64, 64, num_layers=1, batch_first=True, bidirectional=True)\n",
    "\n",
    "        self.strong = nn.Sequential(\n",
    "            nn.Linear(128, 10),\n",
    "        )\n",
    "                \n",
    "        \n",
    "    def forward(self, x):\n",
    "        x = x.view(-1, 1, *x.shape[1:])\n",
    "\n",
    "        x = self.features(x)\n",
    "        \n",
    "        x = x.squeeze(dim=-2)\n",
    "        x = x.permute(0, 2, 1)\n",
    "        \n",
    "        x, h = self.rnn(x)\n",
    "        \n",
    "        strong = self.strong(x)\n",
    "        \n",
    "        weak = strong.permute(0, 2, 1)\n",
    "        weak = F.avg_pool1d(weak, kernel_size=weak.size()[2:])\n",
    "#         max_pool2d(x, kernel_size=x.size()[2:])\n",
    "        weak = weak.view(-1, weak.shape[1])\n",
    "        \n",
    "        \n",
    "        return weak"
   ]
  },
  {
   "cell_type": "markdown",
   "metadata": {
    "toc-hr-collapsed": true,
    "toc-nb-collapsed": true
   },
   "source": [
    "## EfficientNet"
   ]
  },
  {
   "cell_type": "code",
   "execution_count": 42,
   "metadata": {},
   "outputs": [],
   "source": [
    "class MultisampleDropout2d(nn.Module):\n",
    "    \"\"\"https://arxiv.org/pdf/1905.09788.pdf\"\"\"\n",
    "    def __init__(self, ratio, nb_sample):\n",
    "        super(MultisampleDropout2d, self).__init__()\n",
    "        self.nb_sample = nb_sample\n",
    "        \n",
    "        self.dropouts = [nn.Dropout2d(ratio) for _ in range(nb_sample)]\n",
    "        \n",
    "    def forward(self, x):\n",
    "        d = [dropout(x) for dropout in self.dropouts]\n",
    "        return torch.mean(torch.stack(d, dim=0), dim=0)\n",
    "    \n",
    "class MultisampleDropout1d(nn.Module):\n",
    "    \"\"\"https://arxiv.org/pdf/1905.09788.pdf\"\"\"\n",
    "    def __init__(self, ratio, nb_sample):\n",
    "        super(MultisampleDropout1d, self).__init__()\n",
    "        self.nb_sample = nb_sample\n",
    "        \n",
    "        self.dropouts = [nn.Dropout(ratio) for _ in range(nb_sample)]\n",
    "        \n",
    "    def forward(self, x):\n",
    "        d = [dropout(x) for dropout in self.dropouts]\n",
    "        return torch.mean(torch.stack(d, dim=0), dim=0)"
   ]
  },
  {
   "cell_type": "code",
   "execution_count": 26,
   "metadata": {},
   "outputs": [],
   "source": [
    "class MBConv(nn.Module):\n",
    "    def __init__(self, in_size, out_size, t, kernel_size, stride, padding):\n",
    "        super(MBConv, self).__init__()\n",
    "        expand_dim = in_size * t\n",
    "        self.stride = stride\n",
    "\n",
    "        self.conv = nn.Sequential(\n",
    "            nn.Conv2d(in_size, expand_dim, kernel_size=1, stride=1, padding=0),\n",
    "            nn.BatchNorm2d(expand_dim),\n",
    "            nn.ReLU6(inplace=True),\n",
    "\n",
    "            nn.Conv2d(expand_dim, expand_dim, kernel_size=kernel_size, stride=stride, padding=padding, groups=expand_dim),\n",
    "            nn.BatchNorm2d(expand_dim),\n",
    "            nn.ReLU6(inplace=True),\n",
    "\n",
    "            nn.Conv2d(expand_dim, out_size, kernel_size=1, stride=1, padding=0),\n",
    "            nn.BatchNorm2d(out_size),\n",
    "            nn.ReLU6(inplace=True),\n",
    "        )\n",
    "    \n",
    "    def forward(self, x):\n",
    "        if self.stride == 1:\n",
    "            return x + self.conv(x)\n",
    "        return self.conv(x)"
   ]
  },
  {
   "cell_type": "code",
   "execution_count": 30,
   "metadata": {},
   "outputs": [],
   "source": [
    "class EfficientNet(nn.Module):\n",
    "    def __init__(self,\n",
    "                 conv_input_dim: tuple = (64, 431),\n",
    "                 conv_in_size: list = [1, 64, 64],\n",
    "                 conv_out_size: list = [64, 64, 64],\n",
    "                 t = [1, 6, 6],\n",
    "                 s = [1, 2, 2],\n",
    "                 n = [1, 2, 2],\n",
    "                ):\n",
    "        super(EfficientNet, self).__init__()\n",
    "        self.i =0\n",
    "        \n",
    "        self.conv_input_dim = conv_input_dim\n",
    "        self.conv_in_size = conv_in_size\n",
    "        self.conv_out_size = conv_out_size\n",
    "        self.t = t\n",
    "        \n",
    "        conv_layers = []\n",
    "        for i in range(len(conv_in_size)):\n",
    "            if i == 0:\n",
    "                conv_layers.append(nn.Conv2d(conv_in_size[i], conv_out_size[i], 3, 1, 1))\n",
    "                continue\n",
    "            \n",
    "            conv_layers.append( MBConv(conv_in_size[i], conv_out_size[i], t[i], 3, s[i], 1) )\n",
    "            for j in range(n[i]-1):\n",
    "                conv_layers.append( MBConv(conv_out_size[i], conv_out_size[i], t[i], 3, 1, 1) )\n",
    "    \n",
    "        self.features = nn.Sequential(*conv_layers)\n",
    "\n",
    "        self.classifier = nn.Sequential(\n",
    "            MultisampleDropout2d(0.2, 8),\n",
    "            nn.Conv2d(self.conv_out_size[-1], 10, kernel_size=1, stride=1, padding=0),\n",
    "#             nn.AdaptiveMaxPool2d((1, 1)),\n",
    "        )\n",
    "        \n",
    "        \n",
    "    def forward(self, x):\n",
    "        x = x.view(-1, 1, *x.shape[1:])\n",
    "#         x = x.view(-1, 1, self.conv_input_dim[0], self.conv_input_dim[1])\n",
    "\n",
    "        x = self.features(x)\n",
    "        x = self.classifier(x)\n",
    "        \n",
    "        x = F.avg_pool2d(x, kernel_size=x.size()[2:])\n",
    "        x= x.view(-1, x.shape[1])\n",
    "        \n",
    "        return x\n"
   ]
  },
  {
   "cell_type": "markdown",
   "metadata": {},
   "source": [
    "# ======== Training ========"
   ]
  },
  {
   "cell_type": "markdown",
   "metadata": {},
   "source": [
    "## Prep model"
   ]
  },
  {
   "cell_type": "code",
   "execution_count": 154,
   "metadata": {
    "scrolled": true
   },
   "outputs": [
    {
     "data": {
      "text/plain": [
       "cnn2(\n",
       "  (features): Sequential(\n",
       "    (0): ConvPoolReLU(\n",
       "      (0): Conv2d(1, 24, kernel_size=(5, 5), stride=(1, 1), padding=(1, 1))\n",
       "      (1): MaxPool2d(kernel_size=(4, 2), stride=(4, 2), padding=0, dilation=1, ceil_mode=False)\n",
       "      (2): BatchNorm2d(24, eps=1e-05, momentum=0.1, affine=True, track_running_stats=True)\n",
       "      (3): ReLU6(inplace=True)\n",
       "    )\n",
       "    (1): ConvPoolReLU(\n",
       "      (0): Conv2d(24, 48, kernel_size=(5, 5), stride=(1, 1), padding=(1, 1))\n",
       "      (1): MaxPool2d(kernel_size=(4, 2), stride=(4, 2), padding=0, dilation=1, ceil_mode=False)\n",
       "      (2): BatchNorm2d(48, eps=1e-05, momentum=0.1, affine=True, track_running_stats=True)\n",
       "      (3): ReLU6(inplace=True)\n",
       "    )\n",
       "    (2): ConvReLU(\n",
       "      (0): Conv2d(48, 48, kernel_size=(5, 5), stride=(1, 1), padding=(1, 1))\n",
       "      (1): ReLU6(inplace=True)\n",
       "    )\n",
       "  )\n",
       "  (classifier): Sequential(\n",
       "    (0): Flatten()\n",
       "    (1): Dropout(p=0.5, inplace=False)\n",
       "    (2): Linear(in_features=1872, out_features=64, bias=True)\n",
       "    (3): ReLU()\n",
       "    (4): Dropout(p=0.5, inplace=False)\n",
       "    (5): Linear(in_features=64, out_features=10, bias=True)\n",
       "  )\n",
       ")"
      ]
     },
     "execution_count": 154,
     "metadata": {},
     "output_type": "execute_result"
    }
   ],
   "source": [
    "torch.cuda.empty_cache()\n",
    "\n",
    "# Efficient net\n",
    "# model_func = EfficientNet\n",
    "# m1 = EfficientNet(\n",
    "#     conv_in_size= [1, 8, 16, 24, 40],\n",
    "#     conv_out_size= [8, 16, 24, 40, 40],\n",
    "#     t = [1, 6, 6, 4, 6, 6],\n",
    "#     s = [1, 2, 2, 2, 2, 1],\n",
    "#     n = [1, 3, 3, 1, 1, 1]\n",
    "# )\n",
    "\n",
    "# cnn\n",
    "# m1 = cnn()µ\n",
    "\n",
    "# rnn\n",
    "model_func = cnn2\n",
    "m1 = model_func()\n",
    "\n",
    "m1.cuda()"
   ]
  },
  {
   "cell_type": "code",
   "execution_count": 155,
   "metadata": {
    "scrolled": true
   },
   "outputs": [
    {
     "name": "stdout",
     "output_type": "stream",
     "text": [
      "====================================================================================\n",
      "                              Kernel Shape        Output Shape    Params  \\\n",
      "Layer                                                                      \n",
      "0_features.0.Conv2d_0        [1, 24, 5, 5]  [100, 24, 62, 171]     624.0   \n",
      "1_features.0.MaxPool2d_1                 -   [100, 24, 15, 85]         -   \n",
      "2_features.0.BatchNorm2d_2            [24]   [100, 24, 15, 85]      48.0   \n",
      "3_features.0.ReLU6_3                     -   [100, 24, 15, 85]         -   \n",
      "4_features.1.Conv2d_0       [24, 48, 5, 5]   [100, 48, 13, 83]   28.848k   \n",
      "5_features.1.MaxPool2d_1                 -    [100, 48, 3, 41]         -   \n",
      "6_features.1.BatchNorm2d_2            [48]    [100, 48, 3, 41]      96.0   \n",
      "7_features.1.ReLU6_3                     -    [100, 48, 3, 41]         -   \n",
      "8_features.2.Conv2d_0       [48, 48, 5, 5]    [100, 48, 1, 39]   57.648k   \n",
      "9_features.2.ReLU6_1                     -    [100, 48, 1, 39]         -   \n",
      "10_classifier.Flatten_0                  -         [100, 1872]         -   \n",
      "11_classifier.Dropout_1                  -         [100, 1872]         -   \n",
      "12_classifier.Linear_2          [1872, 64]           [100, 64]  119.872k   \n",
      "13_classifier.ReLU_3                     -           [100, 64]         -   \n",
      "14_classifier.Dropout_4                  -           [100, 64]         -   \n",
      "15_classifier.Linear_5            [64, 10]           [100, 10]     650.0   \n",
      "\n",
      "                           Mult-Adds  \n",
      "Layer                                 \n",
      "0_features.0.Conv2d_0        6.3612M  \n",
      "1_features.0.MaxPool2d_1           -  \n",
      "2_features.0.BatchNorm2d_2      24.0  \n",
      "3_features.0.ReLU6_3               -  \n",
      "4_features.1.Conv2d_0       31.0752M  \n",
      "5_features.1.MaxPool2d_1           -  \n",
      "6_features.1.BatchNorm2d_2      48.0  \n",
      "7_features.1.ReLU6_3               -  \n",
      "8_features.2.Conv2d_0        2.2464M  \n",
      "9_features.2.ReLU6_1               -  \n",
      "10_classifier.Flatten_0            -  \n",
      "11_classifier.Dropout_1            -  \n",
      "12_classifier.Linear_2      119.808k  \n",
      "13_classifier.ReLU_3               -  \n",
      "14_classifier.Dropout_4            -  \n",
      "15_classifier.Linear_5         640.0  \n",
      "------------------------------------------------------------------------------------\n",
      "                         Totals\n",
      "Total params           207.786k\n",
      "Trainable params       207.786k\n",
      "Non-trainable params        0.0\n",
      "Mult-Adds             39.80332M\n",
      "====================================================================================\n"
     ]
    }
   ],
   "source": [
    "from torchsummaryX import summary\n",
    "input_tensor = torch.zeros((100, 64, 173), dtype=torch.float)\n",
    "input_tensor = input_tensor.cuda()\n",
    "\n",
    "s = summary(m1, input_tensor)"
   ]
  },
  {
   "cell_type": "markdown",
   "metadata": {},
   "source": [
    "## Prep data"
   ]
  },
  {
   "cell_type": "code",
   "execution_count": 156,
   "metadata": {},
   "outputs": [
    {
     "data": {
      "application/vnd.jupyter.widget-view+json": {
       "model_id": "7239da538a65443f8ed40d0286b033f7",
       "version_major": 2,
       "version_minor": 0
      },
      "text/plain": [
       "HBox(children=(IntProgress(value=0, max=9), HTML(value='')))"
      ]
     },
     "metadata": {},
     "output_type": "display_data"
    },
    {
     "data": {
      "application/vnd.jupyter.widget-view+json": {
       "model_id": "83e15b7e2ff949df86494d17b590cb17",
       "version_major": 2,
       "version_minor": 0
      },
      "text/plain": [
       "HBox(children=(IntProgress(value=0, max=1), HTML(value='')))"
      ]
     },
     "metadata": {},
     "output_type": "display_data"
    }
   ],
   "source": [
    "audio_root = \"../dataset/audio\"\n",
    "metadata_root = \"../dataset/metadata\"\n",
    "\n",
    "dataset = DatasetManager(metadata_root, audio_root, verbose=2)"
   ]
  },
  {
   "cell_type": "markdown",
   "metadata": {},
   "source": [
    "## Prep training"
   ]
  },
  {
   "cell_type": "markdown",
   "metadata": {},
   "source": [
    "**using the combination dictionary, several models will be tested. Procedure to follow:**\n",
    "- create feature extract function using *extract feature helper*\n",
    "- change feature extract function from the dataset_manager\n",
    "- if extract parameters change, invalide the validation cache\n",
    "- create the model using the parameters\n",
    "- define criterion and optimizer\n",
    "- generate loader\n",
    "- create tensorboard log name\n",
    "- perform training"
   ]
  },
  {
   "cell_type": "code",
   "execution_count": 157,
   "metadata": {
    "scrolled": true
   },
   "outputs": [
    {
     "data": {
      "application/vnd.jupyter.widget-view+json": {
       "model_id": "566b2be8ea9d47c1a035520b37ef59f3",
       "version_major": 2,
       "version_minor": 0
      },
      "text/plain": [
       "HBox(children=(IntProgress(value=0, max=837), HTML(value='')))"
      ]
     },
     "metadata": {},
     "output_type": "display_data"
    }
   ],
   "source": [
    "# create model\n",
    "torch.cuda.empty_cache()\n",
    "\n",
    "m1 = model_func()\n",
    "m1.cuda()\n",
    "\n",
    "# loss and optimizer\n",
    "criterion_bce = nn.CrossEntropyLoss(reduction=\"mean\")\n",
    "\n",
    "# optimizer = torch.optim.SGD(\n",
    "#     m1.parameters(),\n",
    "#     weight_decay=1e-3,\n",
    "#     lr=0.05\n",
    "# )\n",
    "optimizer = torch.optim.AdamW(m1.parameters(), weight_decay=1e-3)\n",
    "\n",
    "# Augmentation to use\n",
    "augments = []\n",
    "\n",
    "# train and val loaders\n",
    "train_dataset = Generator(dataset, augments=augments)\n",
    "\n",
    "x, y = train_dataset.validation\n",
    "x = torch.from_numpy(x)\n",
    "y = torch.from_numpy(y)\n",
    "val_dataset = torch.utils.data.TensorDataset(x, y)"
   ]
  },
  {
   "cell_type": "code",
   "execution_count": 158,
   "metadata": {
    "scrolled": true
   },
   "outputs": [],
   "source": [
    "# training parameters\n",
    "nb_epoch = 100\n",
    "batch_size = 64\n",
    "nb_batch = len(train_dataset) // batch_size\n",
    "\n",
    "training_loader = torch.utils.data.DataLoader(train_dataset, batch_size=batch_size, shuffle=True, num_workers=8)\n",
    "val_loader = torch.utils.data.DataLoader(val_dataset, batch_size=batch_size, shuffle=True, num_workers=4)\n",
    "\n",
    "# scheduler\n",
    "lr_lambda = lambda epoch: 0.05 * (np.cos(np.pi * epoch / nb_epoch) + 1)\n",
    "lr_scheduler = LambdaLR(optimizer, lr_lambda=lr_lambda)\n",
    "callbacks = [lr_scheduler]\n",
    "callbacks = []\n",
    "\n",
    "# tensorboard\n",
    "title = \"%s_%s_Cosd-lr_sgd-0.01lr-wd0.001_%de_no_augment\" % ( get_datetime(), model_func.__name__, nb_epoch )\n",
    "tensorboard = SummaryWriter(log_dir=\"tensorboard/%s\" % title, comment=model_func.__name__)"
   ]
  },
  {
   "cell_type": "code",
   "execution_count": 159,
   "metadata": {},
   "outputs": [
    {
     "data": {
      "image/png": "[encoded data removed]",
      "text/plain": [
       "<Figure size 432x288 with 2 Axes>"
      ]
     },
     "metadata": {
      "needs_background": "light"
     },
     "output_type": "display_data"
    }
   ],
   "source": [
    "## import matplotlib.pyplot as plt\n",
    "\n",
    "a = np.linspace(0.001, 0.01, )\n",
    "\n",
    "\n",
    "b = lr_lambda(a)\n",
    "c = deriv(a)\n",
    "\n",
    "plt.plot(b)\n",
    "plt.twinx()\n",
    "plt.plot(c, color=\"C1\")\n",
    "plt.show()"
   ]
  },
  {
   "cell_type": "markdown",
   "metadata": {},
   "source": [
    "## training"
   ]
  },
  {
   "cell_type": "code",
   "execution_count": 160,
   "metadata": {
    "scrolled": true
   },
   "outputs": [
    {
     "data": {
      "application/vnd.jupyter.widget-view+json": {
       "model_id": "96afe045d1724bd6874c199fd77da357",
       "version_major": 2,
       "version_minor": 0
      },
      "text/plain": [
       "HBox(children=(IntProgress(value=0), HTML(value='')))"
      ]
     },
     "metadata": {},
     "output_type": "display_data"
    },
    {
     "name": "stdout",
     "output_type": "stream",
     "text": [
      "\n",
      "Epoch 1, 100% \t ce: 1.5193 - acc: 0.2733 - ce val: 1.3191 - acc val: 0.4424 - took: 12.69s\n",
      "Epoch 2, 100% \t ce: 1.1120 - acc: 0.4637 - ce val: 1.2900 - acc val: 0.6241 - took: 11.84s\n",
      "Epoch 3, 100% \t ce: 1.1362 - acc: 0.5613 - ce val: 0.9302 - acc val: 0.6879 - took: 11.58s\n",
      "Epoch 4, 100% \t ce: 0.8250 - acc: 0.6370 - ce val: 0.3020 - acc val: 0.7290 - took: 12.06s\n",
      "Epoch 5, 100% \t ce: 0.7872 - acc: 0.6909 - ce val: 0.4887 - acc val: 0.7234 - took: 12.10s\n",
      "Epoch 6, 100% \t ce: 1.1325 - acc: 0.7400 - ce val: 1.4028 - acc val: 0.7025 - took: 12.20s\n",
      "Epoch 7, 100% \t ce: 1.3197 - acc: 0.7571 - ce val: 1.2463 - acc val: 0.6906 - took: 12.12s\n",
      "Epoch 8, 100% \t ce: 0.3897 - acc: 0.7853 - ce val: 0.4780 - acc val: 0.7580 - took: 12.26s\n",
      "Epoch 9, 100% \t ce: 0.4331 - acc: 0.8011 - ce val: 3.2546 - acc val: 0.7129 - took: 12.47s\n",
      "Epoch 10, 100% \t ce: 0.7080 - acc: 0.8194 - ce val: 0.4401 - acc val: 0.7536 - took: 11.76s\n",
      "Epoch 11, 100% \t ce: 1.0176 - acc: 0.8350 - ce val: 0.1817 - acc val: 0.7656 - took: 12.38s\n",
      "Epoch 12, 100% \t ce: 0.5974 - acc: 0.8398 - ce val: 0.6140 - acc val: 0.7670 - took: 12.03s\n",
      "Epoch 13, 100% \t ce: 0.3247 - acc: 0.8527 - ce val: 1.3103 - acc val: 0.7560 - took: 12.12s\n",
      "Epoch 14, 100% \t ce: 0.4656 - acc: 0.8617 - ce val: 0.8415 - acc val: 0.7658 - took: 12.48s\n",
      "Epoch 15, 100% \t ce: 0.6034 - acc: 0.8724 - ce val: 0.3931 - acc val: 0.8036 - took: 12.10s\n",
      "Epoch 16, 100% \t ce: 0.2404 - acc: 0.8734 - ce val: 0.8288 - acc val: 0.7792 - took: 12.27s\n",
      "Epoch 17, 100% \t ce: 0.5013 - acc: 0.8801 - ce val: 1.4992 - acc val: 0.7592 - took: 11.99s\n",
      "Epoch 18, 100% \t ce: 0.6520 - acc: 0.8848 - ce val: 0.6421 - acc val: 0.7605 - took: 11.85s\n",
      "Epoch 19, 100% \t ce: 0.3180 - acc: 0.8904 - ce val: 0.8659 - acc val: 0.7504 - took: 11.75s\n",
      "Epoch 20, 100% \t ce: 0.7741 - acc: 0.8887 - ce val: 0.5550 - acc val: 0.7859 - took: 12.49s\n",
      "Epoch 21, 100% \t ce: 0.5517 - acc: 0.8989 - ce val: 0.0927 - acc val: 0.7857 - took: 12.40s\n",
      "Epoch 22, 100% \t ce: 0.2423 - acc: 0.8993 - ce val: 0.0017 - acc val: 0.7746 - took: 12.85s\n",
      "Epoch 23, 100% \t ce: 0.1879 - acc: 0.9070 - ce val: 0.0193 - acc val: 0.7924 - took: 12.98s\n",
      "Epoch 24, 100% \t ce: 0.1034 - acc: 0.9070 - ce val: 0.6367 - acc val: 0.7904 - took: 12.65s\n",
      "Epoch 25, 100% \t ce: 0.3503 - acc: 0.9131 - ce val: 0.4081 - acc val: 0.7804 - took: 12.56s\n",
      "Epoch 26, 100% \t ce: 0.6404 - acc: 0.9124 - ce val: 0.0373 - acc val: 0.7991 - took: 12.34s\n",
      "Epoch 27, 100% \t ce: 0.2449 - acc: 0.9213 - ce val: 0.0754 - acc val: 0.7879 - took: 12.46s\n",
      "Epoch 28, 100% \t ce: 0.5601 - acc: 0.9187 - ce val: 1.2043 - acc val: 0.7650 - took: 12.24s\n",
      "Epoch 29, 100% \t ce: 0.1447 - acc: 0.9231 - ce val: 1.4559 - acc val: 0.7848 - took: 12.50s\n",
      "Epoch 30, 100% \t ce: 0.5497 - acc: 0.9276 - ce val: 0.3089 - acc val: 0.7904 - took: 12.77s\n",
      "Epoch 31, 100% \t ce: 0.2647 - acc: 0.9224 - ce val: 0.0421 - acc val: 0.7879 - took: 12.43s\n",
      "Epoch 32, 100% \t ce: 0.3525 - acc: 0.9328 - ce val: 1.6165 - acc val: 0.7817 - took: 12.13s\n",
      "Epoch 33, 100% \t ce: 0.4477 - acc: 0.9318 - ce val: 0.7676 - acc val: 0.7714 - took: 13.12s\n",
      "Epoch 34, 100% \t ce: 0.3792 - acc: 0.9330 - ce val: 3.6871 - acc val: 0.7629 - took: 12.60s\n",
      "Epoch 35, 100% \t ce: 0.6029 - acc: 0.9295 - ce val: 0.9634 - acc val: 0.7737 - took: 12.27s\n",
      "Epoch 36, 100% \t ce: 0.0810 - acc: 0.9350 - ce val: 3.8152 - acc val: 0.7708 - took: 12.75s\n",
      "Epoch 37, 100% \t ce: 0.1071 - acc: 0.9372 - ce val: 0.3705 - acc val: 0.7603 - took: 12.70s\n",
      "Epoch 38, 100% \t ce: 0.0875 - acc: 0.9355 - ce val: 0.9919 - acc val: 0.7605 - took: 12.18s\n",
      "Epoch 39, 100% \t ce: 0.3040 - acc: 0.9421 - ce val: 0.6520 - acc val: 0.7580 - took: 12.90s\n",
      "Epoch 40, 100% \t ce: 0.0500 - acc: 0.9439 - ce val: 0.7914 - acc val: 0.7884 - took: 12.03s\n",
      "Epoch 41, 100% \t ce: 0.3915 - acc: 0.9439 - ce val: 0.1779 - acc val: 0.7958 - took: 12.52s\n",
      "Epoch 42, 100% \t ce: 0.2878 - acc: 0.9509 - ce val: 0.0519 - acc val: 0.7969 - took: 12.42s\n",
      "Epoch 43, 100% \t ce: 0.0367 - acc: 0.9430 - ce val: 0.0013 - acc val: 0.8013 - took: 12.42s\n",
      "Epoch 44, 100% \t ce: 0.1345 - acc: 0.9448 - ce val: 1.1638 - acc val: 0.7658 - took: 12.14s\n",
      "Epoch 45, 100% \t ce: 0.2742 - acc: 0.9525 - ce val: 0.0453 - acc val: 0.7578 - took: 12.28s\n",
      "Epoch 46, 100% \t ce: 0.4481 - acc: 0.9463 - ce val: 0.1404 - acc val: 0.8025 - took: 13.01s\n",
      "Epoch 47, 100% \t ce: 0.1546 - acc: 0.9478 - ce val: 0.9943 - acc val: 0.7650 - took: 12.42s\n",
      "Epoch 48, 100% \t ce: 0.0721 - acc: 0.9498 - ce val: 0.4941 - acc val: 0.7547 - took: 12.39s\n",
      "Epoch 49, 100% \t ce: 0.1310 - acc: 0.9486 - ce val: 3.0022 - acc val: 0.7748 - took: 12.94s\n",
      "Epoch 50, 100% \t ce: 0.3167 - acc: 0.9568 - ce val: 0.1161 - acc val: 0.8103 - took: 12.41s\n",
      "Epoch 51, 100% \t ce: 0.1739 - acc: 0.9490 - ce val: 0.0045 - acc val: 0.8092 - took: 12.65s\n",
      "Epoch 52, 100% \t ce: 0.8399 - acc: 0.9520 - ce val: 0.0001 - acc val: 0.7991 - took: 12.37s\n",
      "Epoch 53, 100% \t ce: 0.0168 - acc: 0.9551 - ce val: 1.8090 - acc val: 0.7683 - took: 12.63s\n",
      "Epoch 54, 100% \t ce: 0.0662 - acc: 0.9574 - ce val: 0.3376 - acc val: 0.7971 - took: 12.64s\n",
      "Epoch 55, 100% \t ce: 0.0754 - acc: 0.9628 - ce val: 0.0004 - acc val: 0.7924 - took: 13.01s\n",
      "Epoch 56, 100% \t ce: 0.3470 - acc: 0.9590 - ce val: 1.6832 - acc val: 0.7170 - took: 12.72s\n",
      "Epoch 57, 100% \t ce: 0.1641 - acc: 0.9616 - ce val: 0.2270 - acc val: 0.7569 - took: 12.73s\n",
      "Epoch 58, 100% \t ce: 0.4948 - acc: 0.9621 - ce val: 0.6647 - acc val: 0.7837 - took: 12.86s\n",
      "Epoch 59, 100% \t ce: 0.0319 - acc: 0.9657 - ce val: 1.0895 - acc val: 0.7949 - took: 12.64s\n",
      "Epoch 60, 100% \t ce: 0.1034 - acc: 0.9611 - ce val: 0.1885 - acc val: 0.8002 - took: 12.69s\n",
      "Epoch 61, 100% \t ce: 0.1106 - acc: 0.9656 - ce val: 0.0025 - acc val: 0.7779 - took: 12.10s\n",
      "Epoch 62, 100% \t ce: 0.0292 - acc: 0.9685 - ce val: 2.5646 - acc val: 0.7850 - took: 12.21s\n",
      "Epoch 63, 100% \t ce: 0.1213 - acc: 0.9685 - ce val: 3.6689 - acc val: 0.7859 - took: 11.76s\n",
      "Epoch 64, 100% \t ce: 0.0496 - acc: 0.9647 - ce val: 1.4185 - acc val: 0.7272 - took: 12.28s\n",
      "Epoch 65, 100% \t ce: 0.1699 - acc: 0.9710 - ce val: 1.2600 - acc val: 0.7893 - took: 12.41s\n",
      "Epoch 66, 100% \t ce: 0.2671 - acc: 0.9703 - ce val: 1.9309 - acc val: 0.7359 - took: 12.71s\n",
      "Epoch 67, 100% \t ce: 0.2119 - acc: 0.9677 - ce val: 1.7090 - acc val: 0.7629 - took: 12.42s\n",
      "Epoch 68, 100% \t ce: 0.1612 - acc: 0.9713 - ce val: 1.5500 - acc val: 0.7694 - took: 12.34s\n",
      "Epoch 69, 100% \t ce: 0.0129 - acc: 0.9645 - ce val: 1.5871 - acc val: 0.7848 - took: 12.94s\n",
      "Epoch 70, 100% \t ce: 0.1652 - acc: 0.9726 - ce val: 2.5612 - acc val: 0.7795 - took: 12.48s\n",
      "Epoch 71, 100% \t ce: 0.1499 - acc: 0.9704 - ce val: 0.7989 - acc val: 0.7893 - took: 12.79s\n",
      "Epoch 72, 100% \t ce: 0.0334 - acc: 0.9706 - ce val: 3.0133 - acc val: 0.7717 - took: 12.45s\n",
      "Epoch 73, 100% \t ce: 0.0364 - acc: 0.9739 - ce val: 0.0579 - acc val: 0.8214 - took: 12.74s\n",
      "Epoch 74, 100% \t ce: 0.1100 - acc: 0.9726 - ce val: 4.8617 - acc val: 0.7040 - took: 12.27s\n",
      "Epoch 75, 100% \t ce: 0.0900 - acc: 0.9736 - ce val: 1.8349 - acc val: 0.7737 - took: 12.82s\n",
      "Epoch 76, 100% \t ce: 0.1404 - acc: 0.9744 - ce val: 0.6910 - acc val: 0.7583 - took: 12.83s\n",
      "Epoch 77, 100% \t ce: 0.2163 - acc: 0.9754 - ce val: 0.0108 - acc val: 0.8092 - took: 12.62s\n",
      "Epoch 78, 100% \t ce: 0.1845 - acc: 0.9740 - ce val: 1.0816 - acc val: 0.7859 - took: 12.76s\n",
      "Epoch 79, 100% \t ce: 0.0246 - acc: 0.9779 - ce val: 4.2410 - acc val: 0.7694 - took: 12.88s\n",
      "Epoch 80, 100% \t ce: 0.0134 - acc: 0.9751 - ce val: 0.2363 - acc val: 0.8013 - took: 12.17s\n",
      "Epoch 81, 100% \t ce: 0.0398 - acc: 0.9761 - ce val: 2.5812 - acc val: 0.7672 - took: 12.43s\n",
      "Epoch 82, 100% \t ce: 0.0792 - acc: 0.9773 - ce val: 0.1901 - acc val: 0.7971 - took: 12.89s\n",
      "Epoch 83, 100% \t ce: 0.1118 - acc: 0.9780 - ce val: 1.6728 - acc val: 0.7873 - took: 12.72s\n",
      "Epoch 84, 100% \t ce: 0.1175 - acc: 0.9793 - ce val: 0.0917 - acc val: 0.8025 - took: 12.45s\n",
      "Epoch 85, 100% \t ce: 0.0340 - acc: 0.9801 - ce val: 0.3328 - acc val: 0.8060 - took: 12.68s\n",
      "Epoch 86, 100% \t ce: 0.0246 - acc: 0.9792 - ce val: 0.9386 - acc val: 0.7839 - took: 12.57s\n",
      "Epoch 87, 100% \t ce: 0.0282 - acc: 0.9778 - ce val: 1.2705 - acc val: 0.7826 - took: 12.80s\n",
      "Epoch 88, 100% \t ce: 0.0393 - acc: 0.9808 - ce val: 1.7029 - acc val: 0.7815 - took: 12.69s\n",
      "Epoch 89, 100% \t ce: 0.1051 - acc: 0.9821 - ce val: 0.0057 - acc val: 0.8047 - took: 12.52s\n",
      "Epoch 90, 100% \t ce: 0.0700 - acc: 0.9765 - ce val: 1.8031 - acc val: 0.7728 - took: 12.51s\n",
      "Epoch 91, 100% \t ce: 0.1409 - acc: 0.9818 - ce val: 1.2928 - acc val: 0.7616 - took: 12.53s\n",
      "Epoch 92, 100% \t ce: 0.5398 - acc: 0.9800 - ce val: 0.1581 - acc val: 0.8103 - took: 12.12s\n",
      "Epoch 93, 100% \t ce: 0.0530 - acc: 0.9747 - ce val: 0.4491 - acc val: 0.7982 - took: 12.85s\n",
      "Epoch 94, 100% \t ce: 0.1412 - acc: 0.9790 - ce val: 0.5008 - acc val: 0.7759 - took: 12.53s\n",
      "Epoch 95, 100% \t ce: 0.1339 - acc: 0.9811 - ce val: 0.0587 - acc val: 0.7891 - took: 12.15s\n",
      "Epoch 96, 100% \t ce: 0.1391 - acc: 0.9830 - ce val: 2.5630 - acc val: 0.7507 - took: 12.42s\n",
      "Epoch 97, 100% \t ce: 0.1182 - acc: 0.9805 - ce val: 0.1119 - acc val: 0.7801 - took: 12.52s\n",
      "Epoch 98, 100% \t ce: 0.0834 - acc: 0.9805 - ce val: 0.2787 - acc val: 0.7737 - took: 12.39s\n",
      "Epoch 99, 100% \t ce: 0.0674 - acc: 0.9811 - ce val: 0.0008 - acc val: 0.7879 - took: 12.22s\n",
      "Epoch 100, 100% \t ce: 0.0136 - acc: 0.9859 - ce val: 3.4938 - acc val: 0.7431 - took: 12.58s\r"
     ]
    }
   ],
   "source": [
    "acc_func = CategoricalAccuracy()\n",
    "\n",
    "for epoch in tqdm.tqdm_notebook(range(nb_epoch)):\n",
    "    start_time = time.time()\n",
    "    print(\"\")\n",
    "    \n",
    "    acc_func.reset()\n",
    "\n",
    "    m1.train()\n",
    "\n",
    "    for i, (X, y) in enumerate(training_loader):        \n",
    "        # Transfer to GPU\n",
    "        X = X.cuda()\n",
    "        y = y.cuda()\n",
    "        \n",
    "        # predict\n",
    "        logits = m1(X)\n",
    "\n",
    "        weak_loss = criterion_bce(logits, y)\n",
    "\n",
    "        total_loss = weak_loss\n",
    "\n",
    "        # calc metrics\n",
    "#         y_pred = torch.log_softmax(logits, dim=1)\n",
    "        _, y_pred = torch.max(logits, 1)\n",
    "        acc = acc_func(y_pred, y)\n",
    "\n",
    "        # ======== back propagation ========\n",
    "        optimizer.zero_grad()\n",
    "        total_loss.backward()\n",
    "        optimizer.step()\n",
    "\n",
    "        # ======== history ========\n",
    "        print(\"Epoch {}, {:d}% \\t ce: {:.4f} - acc: {:.4f} - took: {:.2f}s\".format(\n",
    "            epoch+1,\n",
    "            int(100 * (i+1) / nb_batch),\n",
    "            total_loss.item(),\n",
    "            acc,\n",
    "            time.time() - start_time\n",
    "        ),end=\"\\r\")\n",
    "\n",
    "    # using tensorboard to monitor loss and acc\n",
    "    tensorboard.add_scalar('train/ce', total_loss.item(), epoch)\n",
    "    tensorboard.add_scalar(\"train/acc\", 100. * acc, epoch )\n",
    "\n",
    "    # Validation\n",
    "    with torch.set_grad_enabled(False):\n",
    "        # reset metrics\n",
    "        acc_func.reset()\n",
    "        m1.eval()\n",
    "\n",
    "        for X_val, y_val in val_loader:\n",
    "            # Transfer to GPU\n",
    "            X_val = X_val.cuda()\n",
    "            y_val = y_val.cuda()\n",
    "\n",
    "\n",
    "#             y_weak_val_pred, _ = model(X_val)\n",
    "            logits = m1(X_val)\n",
    "\n",
    "            # calc loss\n",
    "            weak_loss_val = criterion_bce(logits, y_val)\n",
    "\n",
    "            # metrics\n",
    "#             y_val_pred =torch.log_softmax(logits, dim=1)\n",
    "            _, y_val_pred = torch.max(logits, 1)\n",
    "            acc_val = acc_func(y_val_pred, y_val)\n",
    "\n",
    "            #Print statistics\n",
    "            print(\"Epoch {}, {:d}% \\t ce: {:.4f} - acc: {:.4f} - ce val: {:.4f} - acc val: {:.4f} - took: {:.2f}s\".format(\n",
    "                epoch+1,\n",
    "                int(100 * (i+1) / nb_batch),\n",
    "                total_loss.item(),\n",
    "                acc,\n",
    "                weak_loss_val.item(),\n",
    "                acc_val,\n",
    "                time.time() - start_time\n",
    "            ),end=\"\\r\")\n",
    "\n",
    "        # using tensorboard to monitor loss and acc\n",
    "        tensorboard.add_scalar('validation/ce', weak_loss_val.item(), epoch)\n",
    "        tensorboard.add_scalar(\"validation/acc\", 100. * acc_val, epoch )\n",
    "\n",
    "    for callback in callbacks:\n",
    "        callback.step()"
   ]
  },
  {
   "cell_type": "code",
   "execution_count": null,
   "metadata": {},
   "outputs": [],
   "source": [
    "# ♫♪.ılılıll|̲̅̅●̲̅̅|̲̅̅=̲̅̅|̲̅̅●̲̅̅|llılılı.♫♪"
   ]
  }
 ],
 "metadata": {
  "kernelspec": {
   "display_name": "Python 3",
   "language": "python",
   "name": "python3"
  },
  "language_info": {
   "codemirror_mode": {
    "name": "ipython",
    "version": 3
   },
   "file_extension": ".py",
   "mimetype": "text/x-python",
   "name": "python",
   "nbconvert_exporter": "python",
   "pygments_lexer": "ipython3",
   "version": "3.7.4"
  },
  "pycharm": {
   "stem_cell": {
    "cell_type": "raw",
    "metadata": {
     "collapsed": false
    },
    "source": []
   }
  }
 },
 "nbformat": 4,
 "nbformat_minor": 4
}
