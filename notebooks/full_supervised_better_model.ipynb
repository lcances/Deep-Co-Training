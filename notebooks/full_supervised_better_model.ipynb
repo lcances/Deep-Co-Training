{
 "cells": [
  {
   "cell_type": "markdown",
   "metadata": {
    "jupyter": {
     "outputs_hidden": true
    }
   },
   "source": [
    "# import"
   ]
  },
  {
   "cell_type": "code",
   "execution_count": 1,
   "metadata": {},
   "outputs": [],
   "source": [
    "%load_ext autoreload\n",
    "%autoreload 2"
   ]
  },
  {
   "cell_type": "code",
   "execution_count": 2,
   "metadata": {},
   "outputs": [],
   "source": [
    "import os\n",
    "os.environ[\"MKL_NUM_THREADS\"] = \"2\"\n",
    "os.environ[\"NUMEXPR_NU M_THREADS\"] = \"2\"\n",
    "os.environ[\"OMP_NUM_THREADS\"] = \"2\"\n",
    "import time\n",
    "\n",
    "import numpy\n",
    "import torch\n",
    "import torch.nn as nn\n",
    "import torch.utils.data as data\n",
    "import torch.nn.functional as F\n",
    "from torch.optim.lr_scheduler import LambdaLR\n",
    "from torch.utils.tensorboard import SummaryWriter"
   ]
  },
  {
   "cell_type": "code",
   "execution_count": 3,
   "metadata": {},
   "outputs": [],
   "source": [
    "from ubs8k.datasetManager import DatasetManager\n",
    "from ubs8k.datasets import Dataset\n",
    "\n",
    "\n",
    "import sys\n",
    "sys.path.append(\"../..\")\n",
    "\n",
    "from util.utils import reset_seed, get_datetime, get_model_from_name\n",
    "from util.checkpoint import CheckPoint\n",
    "from metric_utils.metrics import CategoricalAccuracy, FScore, ContinueAverage\n",
    "\n",
    "from UrbanSound8k.models_test import *"
   ]
  },
  {
   "cell_type": "markdown",
   "metadata": {
    "pycharm": {
     "name": "#%% md\n"
    }
   },
   "source": [
    "# Arguments"
   ]
  },
  {
   "cell_type": "code",
   "execution_count": 4,
   "metadata": {
    "collapsed": false,
    "jupyter": {
     "outputs_hidden": false
    },
    "pycharm": {
     "name": "#%%\n"
    }
   },
   "outputs": [],
   "source": [
    "import argparse\n",
    "parser = argparse.ArgumentParser()\n",
    "parser.add_argument(\"-d\", \"--dataset_root\", default=\"../../datasets/ubs8k\", type=str)\n",
    "parser.add_argument(\"--supervised_ratio\", default=1.0, type=float)\n",
    "parser.add_argument(\"-t\", \"--train_folds\", nargs=\"+\", default=[1, 2, 3, 4, 5, 6, 7, 8, 9], type=int)\n",
    "parser.add_argument(\"-v\", \"--val_folds\", nargs=\"+\", default=[10], type=int)\n",
    "\n",
    "parser.add_argument(\"--model\", default=\"cnn0\", type=str)\n",
    "parser.add_argument(\"--batch_size\", default=32, type=int)\n",
    "parser.add_argument(\"--nb_epoch\", default=100, type=int)\n",
    "parser.add_argument(\"--learning_rate\", default=0.003, type=int)\n",
    "\n",
    "parser.add_argument(\"--checkpoint_path\", default=\"../../model_save/ubs8k/full_supervised_test\", type=str)\n",
    "parser.add_argument(\"--resume\", action=\"store_true\", default=False)\n",
    "parser.add_argument(\"--tensorboard_path\", default=\"../../tensorboard/ubs8k/full_supervised_test\", type=str)\n",
    "parser.add_argument(\"--tensorboard_sufix\", default=\"\", type=str)\n",
    "\n",
    "args = parser.parse_args(\"\")"
   ]
  },
  {
   "cell_type": "markdown",
   "metadata": {
    "pycharm": {
     "name": "#%% md\n"
    }
   },
   "source": [
    "# initialisation"
   ]
  },
  {
   "cell_type": "code",
   "execution_count": 5,
   "metadata": {
    "collapsed": false,
    "jupyter": {
     "outputs_hidden": false
    },
    "pycharm": {
     "name": "#%%\n"
    }
   },
   "outputs": [],
   "source": [
    "reset_seed(1234)\n"
   ]
  },
  {
   "cell_type": "markdown",
   "metadata": {
    "pycharm": {
     "name": "#%% md\n"
    }
   },
   "source": [
    "# Prepare the dataset"
   ]
  },
  {
   "cell_type": "code",
   "execution_count": 13,
   "metadata": {
    "collapsed": false,
    "jupyter": {
     "outputs_hidden": false
    },
    "pycharm": {
     "name": "#%%\n"
    }
   },
   "outputs": [
    {
     "data": {
      "application/vnd.jupyter.widget-view+json": {
       "model_id": "37380917f0804a1fa43fc089174ee1b5",
       "version_major": 2,
       "version_minor": 0
      },
      "text/plain": [
       "HBox(children=(FloatProgress(value=0.0, max=10.0), HTML(value='')))"
      ]
     },
     "metadata": {},
     "output_type": "display_data"
    },
    {
     "name": "stdout",
     "output_type": "stream",
     "text": [
      "\n"
     ]
    }
   ],
   "source": [
    "audio_root = os.path.join(args.dataset_root, \"audio\")\n",
    "metadata_root = os.path.join(args.dataset_root, \"metadata\")\n",
    "all_folds = args.train_folds + args.val_folds\n",
    "\n",
    "manager = DatasetManager(\n",
    "    metadata_root, audio_root,\n",
    "    folds=all_folds,\n",
    "    verbose=2\n",
    ")"
   ]
  },
  {
   "cell_type": "code",
   "execution_count": 14,
   "metadata": {
    "collapsed": false,
    "jupyter": {
     "outputs_hidden": false
    },
    "pycharm": {
     "name": "#%%\n"
    }
   },
   "outputs": [],
   "source": [
    "    # prepare the sampler with the specified number of supervised file\n",
    "train_dataset = Dataset(manager, folds=args.train_folds, cached=True)\n",
    "val_dataset = Dataset(manager, folds=args.val_folds, cached=True)"
   ]
  },
  {
   "cell_type": "markdown",
   "metadata": {},
   "source": [
    "# Prep model"
   ]
  },
  {
   "cell_type": "markdown",
   "metadata": {},
   "source": [
    "## define model"
   ]
  },
  {
   "cell_type": "code",
   "execution_count": 8,
   "metadata": {
    "scrolled": true
   },
   "outputs": [],
   "source": [
    "torch.cuda.empty_cache()\n",
    "reset_seed(1234)\n",
    "\n",
    "# model_func = get_model_from_name(args.model)\n",
    "model_func = cnn0\n",
    "model = model_func()\n"
   ]
  },
  {
   "cell_type": "code",
   "execution_count": 9,
   "metadata": {},
   "outputs": [
    {
     "name": "stdout",
     "output_type": "stream",
     "text": [
      "==================================================================================\n",
      "                               Kernel Shape      Output Shape   Params  \\\n",
      "Layer                                                                    \n",
      "0_features.0.Conv2d_0         [1, 24, 3, 3]  [1, 24, 64, 173]    240.0   \n",
      "1_features.0.MaxPool2d_1                  -   [1, 24, 16, 86]        -   \n",
      "2_features.0.BatchNorm2d_2             [24]   [1, 24, 16, 86]     48.0   \n",
      "3_features.0.ReLU6_3                      -   [1, 24, 16, 86]        -   \n",
      "4_features.1.Conv2d_0        [24, 48, 3, 3]   [1, 48, 16, 86]  10.416k   \n",
      "5_features.1.MaxPool2d_1                  -    [1, 48, 4, 43]        -   \n",
      "6_features.1.BatchNorm2d_2             [48]    [1, 48, 4, 43]     96.0   \n",
      "7_features.1.ReLU6_3                      -    [1, 48, 4, 43]        -   \n",
      "8_features.2.Conv2d_0        [48, 48, 3, 3]    [1, 48, 4, 43]  20.784k   \n",
      "9_features.2.MaxPool2d_1                  -    [1, 48, 1, 21]        -   \n",
      "10_features.2.BatchNorm2d_2            [48]    [1, 48, 1, 21]     96.0   \n",
      "11_features.2.ReLU6_3                     -    [1, 48, 1, 21]        -   \n",
      "12_features.3.Conv2d_0       [48, 48, 3, 3]    [1, 48, 1, 21]  20.784k   \n",
      "13_features.3.ReLU6_1                     -    [1, 48, 1, 21]        -   \n",
      "14_classifier.Flatten_0                   -         [1, 1008]        -   \n",
      "15_classifier.Dropout_1                   -         [1, 1008]        -   \n",
      "16_classifier.Linear_2           [1008, 10]           [1, 10]   10.09k   \n",
      "\n",
      "                              Mult-Adds  \n",
      "Layer                                    \n",
      "0_features.0.Conv2d_0         2.391552M  \n",
      "1_features.0.MaxPool2d_1              -  \n",
      "2_features.0.BatchNorm2d_2         24.0  \n",
      "3_features.0.ReLU6_3                  -  \n",
      "4_features.1.Conv2d_0        14.266368M  \n",
      "5_features.1.MaxPool2d_1              -  \n",
      "6_features.1.BatchNorm2d_2         48.0  \n",
      "7_features.1.ReLU6_3                  -  \n",
      "8_features.2.Conv2d_0         3.566592M  \n",
      "9_features.2.MaxPool2d_1              -  \n",
      "10_features.2.BatchNorm2d_2        48.0  \n",
      "11_features.2.ReLU6_3                 -  \n",
      "12_features.3.Conv2d_0         435.456k  \n",
      "13_features.3.ReLU6_1                 -  \n",
      "14_classifier.Flatten_0               -  \n",
      "15_classifier.Dropout_1               -  \n",
      "16_classifier.Linear_2           10.08k  \n",
      "----------------------------------------------------------------------------------\n",
      "                          Totals\n",
      "Total params             62.554k\n",
      "Trainable params         62.554k\n",
      "Non-trainable params         0.0\n",
      "Mult-Adds             20.670168M\n",
      "==================================================================================\n"
     ]
    }
   ],
   "source": [
    "from torchsummaryX import summary\n",
    "input_tensor = torch.zeros((1, 64, 173), dtype=torch.float)\n",
    "\n",
    "s = summary(model, input_tensor)\n"
   ]
  },
  {
   "cell_type": "markdown",
   "metadata": {},
   "source": [
    "## Prep training"
   ]
  },
  {
   "cell_type": "code",
   "execution_count": 22,
   "metadata": {
    "scrolled": true
   },
   "outputs": [
    {
     "data": {
      "text/plain": [
       "cnn07(\n",
       "  (features): Sequential(\n",
       "    (0): ConvPoolReLU(\n",
       "      (0): Conv2d(1, 32, kernel_size=(3, 3), stride=(1, 1), padding=(1, 1))\n",
       "      (1): MaxPool2d(kernel_size=(4, 2), stride=(4, 2), padding=0, dilation=1, ceil_mode=False)\n",
       "      (2): BatchNorm2d(32, eps=1e-05, momentum=0.1, affine=True, track_running_stats=True)\n",
       "      (3): ReLU6(inplace=True)\n",
       "    )\n",
       "    (1): ConvPoolReLU(\n",
       "      (0): Conv2d(32, 64, kernel_size=(3, 3), stride=(1, 1), padding=(1, 1))\n",
       "      (1): MaxPool2d(kernel_size=(4, 2), stride=(4, 2), padding=0, dilation=1, ceil_mode=False)\n",
       "      (2): BatchNorm2d(64, eps=1e-05, momentum=0.1, affine=True, track_running_stats=True)\n",
       "      (3): ReLU6(inplace=True)\n",
       "    )\n",
       "    (2): ConvPoolReLU(\n",
       "      (0): Conv2d(64, 96, kernel_size=(3, 3), stride=(1, 1), padding=(1, 1))\n",
       "      (1): MaxPool2d(kernel_size=(2, 2), stride=(2, 2), padding=0, dilation=1, ceil_mode=False)\n",
       "      (2): BatchNorm2d(96, eps=1e-05, momentum=0.1, affine=True, track_running_stats=True)\n",
       "      (3): ReLU6(inplace=True)\n",
       "    )\n",
       "    (3): ConvPoolReLU(\n",
       "      (0): Conv2d(96, 96, kernel_size=(3, 3), stride=(1, 1), padding=(1, 1))\n",
       "      (1): MaxPool2d(kernel_size=(2, 2), stride=(2, 2), padding=0, dilation=1, ceil_mode=False)\n",
       "      (2): BatchNorm2d(96, eps=1e-05, momentum=0.1, affine=True, track_running_stats=True)\n",
       "      (3): ReLU6(inplace=True)\n",
       "    )\n",
       "    (4): ConvReLU(\n",
       "      (0): Conv2d(96, 96, kernel_size=(3, 3), stride=(1, 1), padding=(1, 1))\n",
       "      (1): ReLU6(inplace=True)\n",
       "    )\n",
       "  )\n",
       "  (classifier): Sequential(\n",
       "    (0): Flatten()\n",
       "    (1): Dropout(p=0.5, inplace=False)\n",
       "    (2): Linear(in_features=960, out_features=256, bias=True)\n",
       "    (3): ReLU(inplace=True)\n",
       "    (4): Dropout(p=0.5, inplace=False)\n",
       "    (5): Linear(in_features=256, out_features=10, bias=True)\n",
       "  )\n",
       ")"
      ]
     },
     "execution_count": 22,
     "metadata": {},
     "output_type": "execute_result"
    }
   ],
   "source": [
    "# create model\n",
    "torch.cuda.empty_cache()\n",
    "\n",
    "model = model_func()\n",
    "model.cuda()"
   ]
  },
  {
   "cell_type": "code",
   "execution_count": 23,
   "metadata": {
    "collapsed": false,
    "jupyter": {
     "outputs_hidden": false
    },
    "pycharm": {
     "name": "#%%\n"
    }
   },
   "outputs": [],
   "source": [
    "s_idx, u_idx = train_dataset.split_s_u(args.supervised_ratio)\n",
    "S_sampler = torch.utils.data.SubsetRandomSampler(s_idx)\n",
    "\n",
    "training_loader = torch.utils.data.DataLoader(train_dataset, batch_size=args.batch_size, sampler=S_sampler)\n",
    "val_loader = torch.utils.data.DataLoader(val_dataset, batch_size=args.batch_size, shuffle=True)"
   ]
  },
  {
   "cell_type": "markdown",
   "metadata": {
    "pycharm": {
     "name": "#%% md\n"
    }
   },
   "source": [
    "# training parameters"
   ]
  },
  {
   "cell_type": "code",
   "execution_count": 24,
   "metadata": {
    "collapsed": false,
    "jupyter": {
     "outputs_hidden": false
    },
    "pycharm": {
     "name": "#%%\n"
    }
   },
   "outputs": [],
   "source": [
    "# tensorboard\n",
    "tensorboard_title = \"%s_%s_%.1fS_%s\" % (get_datetime(), model_func.__name__, args.supervised_ratio, args.tensorboard_sufix)\n",
    "checkpoint_title = \"%s_%.1fS\" % (model_func.__name__, args.supervised_ratio)\n",
    "tensorboard = SummaryWriter(log_dir=\"%s/%s\" % (args.tensorboard_path, tensorboard_title), comment=model_func.__name__)\n",
    "\n",
    "# losses\n",
    "loss_ce = nn.CrossEntropyLoss(reduction=\"mean\")\n",
    "\n",
    "# optimizer\n",
    "optimizer = torch.optim.Adam(model.parameters(), lr=args.learning_rate)\n",
    "\n",
    "# callbacks\n",
    "lr_lambda = lambda epoch: (1.0 + numpy.cos((epoch-1)*numpy.pi/args.nb_epoch))\n",
    "lr_scheduler = LambdaLR(optimizer, lr_lambda)\n",
    "\n",
    "# Checkpoint\n",
    "checkpoint = CheckPoint(model, optimizer, mode=\"max\", name=\"%s/%s.torch\" % (args.checkpoint_path, checkpoint_title))\n",
    "\n",
    "# Metrics\n",
    "fscore_fn = FScore()\n",
    "acc_fn = CategoricalAccuracy()\n",
    "avg = ContinueAverage()\n",
    "\n",
    "reset_metrics = lambda : [m.reset() for m in [fscore_fn, acc_fn, avg]]\n",
    "\n",
    "def get_lr(optimizer):\n",
    "    for param_group in optimizer.param_groups:\n",
    "        return param_group['lr']"
   ]
  },
  {
   "cell_type": "markdown",
   "metadata": {
    "pycharm": {
     "name": "#%% md\n"
    }
   },
   "source": [
    "## Can resume previous training"
   ]
  },
  {
   "cell_type": "code",
   "execution_count": 25,
   "metadata": {
    "pycharm": {
     "name": "#%%\n"
    }
   },
   "outputs": [],
   "source": [
    "if args.resume:\n",
    "    checkpoint.load_last()"
   ]
  },
  {
   "cell_type": "markdown",
   "metadata": {
    "pycharm": {
     "name": "#%% md\n"
    }
   },
   "source": [
    "## training function"
   ]
  },
  {
   "cell_type": "code",
   "execution_count": 26,
   "metadata": {
    "collapsed": false,
    "jupyter": {
     "outputs_hidden": false
    },
    "pycharm": {
     "name": "#%%\n"
    }
   },
   "outputs": [
    {
     "name": "stdout",
     "output_type": "stream",
     "text": [
      "         Epoch  - %      - Losses:  ce     - metrics:  acc         | F1       - Time  \n"
     ]
    }
   ],
   "source": [
    "UNDERLINE_SEQ = \"\\033[1;4m\"\n",
    "RESET_SEQ = \"\\033[0m\"\n",
    "\n",
    "header_form = \"{:<8.8} {:<6.6} - {:<6.6} - {:<8.8} {:<6.6} - {:<9.9} {:<12.12}| {:<9.9}- {:<6.6}\"\n",
    "value_form  = \"{:<8.8} {:<6} - {:<6} - {:<8.8} {:<6.4f} - {:<9.9} {:<10.4f}| {:<9.4f}- {:<6.4f}\"\n",
    "\n",
    "header = header_form.format(\n",
    "    \"\", \"Epoch\", \"%\", \"Losses:\", \"ce\", \"metrics: \", \"acc\", \"F1 \",\"Time\"\n",
    ")\n",
    "\n",
    "train_form = value_form\n",
    "val_form = UNDERLINE_SEQ + value_form + RESET_SEQ\n",
    "\n",
    "print(header)"
   ]
  },
  {
   "cell_type": "code",
   "execution_count": 27,
   "metadata": {
    "collapsed": false,
    "jupyter": {
     "outputs_hidden": false
    },
    "pycharm": {
     "name": "#%%\n"
    }
   },
   "outputs": [],
   "source": [
    "def maximum():\n",
    "    def func(key, value):\n",
    "        if key not in func.max:\n",
    "            func.max[key] = value\n",
    "        else:\n",
    "            if func.max[key] < value:\n",
    "                func.max[key] = value\n",
    "        return func.max[key]\n",
    "\n",
    "    func.max = dict()\n",
    "    return func\n",
    "maximum_fn = maximum()"
   ]
  },
  {
   "cell_type": "code",
   "execution_count": 28,
   "metadata": {},
   "outputs": [],
   "source": [
    "def train(epoch):\n",
    "    start_time = time.time()\n",
    "    print(\"\")\n",
    "\n",
    "    reset_metrics()\n",
    "    model.train()\n",
    "\n",
    "    for i, (X, y) in enumerate(training_loader):\n",
    "        X = X.cuda()\n",
    "        y = y.cuda()\n",
    "\n",
    "        logits = model(X)\n",
    "        loss = loss_ce(logits, y)\n",
    "\n",
    "        optimizer.zero_grad()\n",
    "        loss.backward()\n",
    "        optimizer.step()\n",
    "\n",
    "        with torch.set_grad_enabled(False):\n",
    "            pred = torch.softmax(logits, dim=1)\n",
    "            pred_arg = torch.argmax(logits, dim=1)\n",
    "            y_one_hot = F.one_hot(y, num_classes=10)\n",
    "\n",
    "            acc = acc_fn(pred_arg, y).mean\n",
    "            fscore = fscore_fn(pred, y_one_hot).mean\n",
    "            avg_ce = avg(loss.item()).mean\n",
    "\n",
    "            # logs\n",
    "            print(train_form.format(\n",
    "                \"Training: \",\n",
    "                epoch + 1,\n",
    "                int(100 * (i + 1) / len(training_loader)),\n",
    "                \"\", avg_ce,\n",
    "                \"\", acc, fscore,\n",
    "                time.time() - start_time\n",
    "            ), end=\"\\r\")\n",
    "\n",
    "    tensorboard.add_scalar(\"train/Lce\", avg_ce, epoch)\n",
    "    tensorboard.add_scalar(\"train/f1\", fscore, epoch)\n",
    "    tensorboard.add_scalar(\"train/acc\", acc, epoch)"
   ]
  },
  {
   "cell_type": "code",
   "execution_count": 29,
   "metadata": {
    "collapsed": false,
    "jupyter": {
     "outputs_hidden": false
    },
    "pycharm": {
     "name": "#%%\n"
    }
   },
   "outputs": [],
   "source": [
    "def val(epoch):\n",
    "    start_time = time.time()\n",
    "    print(\"\")\n",
    "    reset_metrics()\n",
    "    model.eval()\n",
    "\n",
    "    for i, (X, y) in enumerate(val_loader):\n",
    "        X = X.cuda()\n",
    "        y = y.cuda()\n",
    "\n",
    "        logits = model(X)\n",
    "        loss = loss_ce(logits, y)\n",
    "\n",
    "        with torch.set_grad_enabled(False):\n",
    "            pred = torch.softmax(logits, dim=1)\n",
    "            pred_arg = torch.argmax(logits, dim=1)\n",
    "            y_one_hot = F.one_hot(y, num_classes=10)\n",
    "\n",
    "            acc = acc_fn(pred_arg, y).mean\n",
    "            fscore = fscore_fn(pred, y_one_hot).mean\n",
    "            avg_ce = avg(loss.item()).mean\n",
    "\n",
    "            # logs\n",
    "            print(val_form.format(\n",
    "                \"Validation: \",\n",
    "                epoch + 1,\n",
    "                int(100 * (i + 1) / len(val_loader)),\n",
    "                \"\", avg_ce,\n",
    "                \"\", acc, fscore,\n",
    "                time.time() - start_time\n",
    "            ), end=\"\\r\")\n",
    "\n",
    "    tensorboard.add_scalar(\"val/Lce\", avg_ce, epoch)\n",
    "    tensorboard.add_scalar(\"val/f1\", fscore, epoch)\n",
    "    tensorboard.add_scalar(\"val/acc\", acc, epoch)\n",
    "\n",
    "    tensorboard.add_scalar(\"max/f1\", maximum_fn(\"fscore\", fscore), epoch )\n",
    "    tensorboard.add_scalar(\"max/acc\", maximum_fn(\"acc\", acc), epoch )\n",
    "\n",
    "    tensorboard.add_scalar(\"hyperparameters/learning_rate\", get_lr(optimizer), epoch)\n",
    "\n",
    "    checkpoint.step(acc)\n",
    "    lr_scheduler.step()"
   ]
  },
  {
   "cell_type": "code",
   "execution_count": 30,
   "metadata": {
    "collapsed": false,
    "jupyter": {
     "outputs_hidden": false
    },
    "pycharm": {
     "name": "#%%\n"
    }
   },
   "outputs": [
    {
     "name": "stdout",
     "output_type": "stream",
     "text": [
      "         Epoch  - %      - Losses:  ce     - metrics:  acc         | F1       - Time  \n",
      "\n",
      "Training 1      - 100    -          1.7510 -           0.3530    | 0.2027   - 47.6553\n",
      "\u001B[1;4mValidati 1      - 100    -          1.5187 -           0.4581    | 0.2465   - 4.7405\u001B[0m\n",
      " better performance: saving ...\n",
      "\n",
      "Training 2      - 100    -          1.4810 -           0.4572    | 0.3454   - 3.7519\n",
      "\u001B[1;4mValidati 2      - 100    -          1.3632 -           0.5102    | 0.4020   - 0.1475\u001B[0m\n",
      " better performance: saving ...\n",
      "\n",
      "Training 3      - 100    -          1.2396 -           0.5687    | 0.4938   - 3.5014\n",
      "\u001B[1;4mValidati 3      - 100    -          1.1689 -           0.5963    | 0.5325   - 0.1284\u001B[0m\n",
      " better performance: saving ...\n",
      "\n",
      "Training 4      - 100    -          1.1013 -           0.6419    | 0.5916   - 3.5514\n",
      "\u001B[1;4mValidati 4      - 100    -          1.6847 -           0.4850    | 0.4882   - 0.1397\u001B[0m\n",
      "Training 5      - 100    -          0.9654 -           0.6860    | 0.6580   - 3.4296\n",
      "\u001B[1;4mValidati 5      - 100    -          1.0718 -           0.6442    | 0.6426   - 0.1139\u001B[0m\n",
      " better performance: saving ...\n",
      "\n",
      "Training 6      - 100    -          0.8495 -           0.7301    | 0.7102   - 3.1014\n",
      "\u001B[1;4mValidati 6      - 100    -          1.1017 -           0.6324    | 0.6158   - 0.1144\u001B[0m\n",
      "Training 7      - 100    -          0.7623 -           0.7612    | 0.7476   - 3.3959\n",
      "\u001B[1;4mValidati 7      - 100    -          2.5630 -           0.3708    | 0.3799   - 0.1243\u001B[0m\n",
      "Training 8      - 100    -          0.7431 -           0.7654    | 0.7571   - 3.4025\n",
      "\u001B[1;4mValidati 8      - 100    -          1.1192 -           0.6373    | 0.6198   - 0.1142\u001B[0m\n",
      "Training 9      - 100    -          0.6991 -           0.7803    | 0.7721   - 3.3700\n",
      "\u001B[1;4mValidati 9      - 100    -          1.3499 -           0.6333    | 0.6218   - 0.1328\u001B[0m\n",
      "Training 10     - 100    -          0.6533 -           0.7969    | 0.7911   - 3.6238\n",
      "\u001B[1;4mValidati 10     - 100    -          1.5872 -           0.5782    | 0.5853   - 0.1442\u001B[0m\n",
      "Training 11     - 100    -          0.6576 -           0.7959    | 0.7879   - 3.4290\n",
      "\u001B[1;4mValidati 11     - 100    -          2.6111 -           0.4678    | 0.4716   - 0.1216\u001B[0m\n",
      "Training 12     - 100    -          0.6082 -           0.8076    | 0.8023   - 3.4362\n",
      "\u001B[1;4mValidati 12     - 100    -          1.2471 -           0.6558    | 0.6682   - 0.1235\u001B[0m\n",
      " better performance: saving ...\n",
      "\n",
      "Training 13     - 100    -          0.5870 -           0.8188    | 0.8117   - 3.4189\n",
      "\u001B[1;4mValidati 13     - 100    -          1.2112 -           0.6778    | 0.6658   - 0.1231\u001B[0m\n",
      " better performance: saving ...\n",
      "\n",
      "Training 14     - 100    -          0.5515 -           0.8262    | 0.8221   - 3.3995\n",
      "\u001B[1;4mValidati 14     - 100    -          0.9231 -           0.7014    | 0.7132   - 0.1144\u001B[0m\n",
      " better performance: saving ...\n",
      "\n",
      "Training 15     - 100    -          0.5478 -           0.8233    | 0.8231   - 3.3492\n",
      "\u001B[1;4mValidati 15     - 100    -          0.8160 -           0.7611    | 0.7540   - 0.1178\u001B[0m\n",
      " better performance: saving ...\n",
      "\n",
      "Training 16     - 100    -          0.5270 -           0.8371    | 0.8314   - 3.4854\n",
      "\u001B[1;4mValidati 16     - 100    -          1.0919 -           0.7148    | 0.7143   - 0.1270\u001B[0m\n",
      "Training 17     - 100    -          0.5192 -           0.8387    | 0.8355   - 3.4532\n",
      "\u001B[1;4mValidati 17     - 100    -          0.9934 -           0.7484    | 0.7473   - 0.1276\u001B[0m\n",
      "Training 18     - 100    -          0.4831 -           0.8470    | 0.8477   - 3.6812\n",
      "\u001B[1;4mValidati 18     - 100    -          1.1282 -           0.7102    | 0.7143   - 0.1224\u001B[0m\n",
      "Training 19     - 100    -          0.5076 -           0.8414    | 0.8387   - 3.4304\n",
      "\u001B[1;4mValidati 19     - 100    -          0.8210 -           0.7900    | 0.7906   - 0.1215\u001B[0m\n",
      " better performance: saving ...\n",
      "\n",
      "Training 20     - 100    -          0.4766 -           0.8526    | 0.8467   - 3.4153\n",
      "\u001B[1;4mValidati 20     - 100    -          0.9300 -           0.7815    | 0.7700   - 0.1140\u001B[0m\n",
      "Training 21     - 100    -          0.4736 -           0.8594    | 0.8542   - 3.5177\n",
      "\u001B[1;4mValidati 21     - 100    -          1.0176 -           0.6998    | 0.7069   - 0.1427\u001B[0m\n",
      "Training 22     - 100    -          0.4626 -           0.8628    | 0.8627   - 3.5362\n",
      "\u001B[1;4mValidati 22     - 100    -          1.0816 -           0.7144    | 0.7100   - 0.1193\u001B[0m\n",
      "Training 23     - 100    -          0.3936 -           0.8806    | 0.8802   - 3.3772\n",
      "\u001B[1;4mValidati 23     - 100    -          1.0045 -           0.7553    | 0.7649   - 0.1130\u001B[0m\n",
      "Training 24     - 100    -          0.3763 -           0.8867    | 0.8870   - 3.4142\n",
      "\u001B[1;4mValidati 24     - 100    -          1.3489 -           0.7488    | 0.7516   - 0.1214\u001B[0m\n",
      "Training 25     - 100    -          0.4257 -           0.8761    | 0.8732   - 3.4568\n",
      "\u001B[1;4mValidati 25     - 100    -          1.2133 -           0.6664    | 0.6623   - 0.1133\u001B[0m\n",
      "Training 26     - 100    -          0.3941 -           0.8856    | 0.8853   - 3.3479\n",
      "\u001B[1;4mValidati 26     - 100    -          1.0603 -           0.7579    | 0.7274   - 0.1140\u001B[0m\n",
      "Training 27     - 100    -          0.4076 -           0.8863    | 0.8840   - 3.5851\n",
      "\u001B[1;4mValidati 27     - 100    -          1.7347 -           0.6144    | 0.6102   - 0.1311\u001B[0m\n",
      "Training 28     - 100    -          0.3655 -           0.8893    | 0.8895   - 3.4003\n",
      "\u001B[1;4mValidati 28     - 100    -          0.9000 -           0.7583    | 0.7553   - 0.1170\u001B[0m\n",
      "Training 29     - 100    -          0.3279 -           0.9013    | 0.9037   - 3.1846\n",
      "\u001B[1;4mValidati 29     - 100    -          0.9615 -           0.8102    | 0.8200   - 0.1191\u001B[0m\n",
      " better performance: saving ...\n",
      "\n",
      "Training 30     - 100    -          0.3458 -           0.9016    | 0.8985   - 3.1919\n",
      "\u001B[1;4mValidati 30     - 100    -          1.0562 -           0.7264    | 0.7253   - 0.1142\u001B[0m\n",
      "Training 31     - 100    -          0.3436 -           0.9013    | 0.9026   - 3.6047\n",
      "\u001B[1;4mValidati 31     - 100    -          0.9528 -           0.7630    | 0.7673   - 0.1232\u001B[0m\n",
      "Training 32     - 100    -          0.3060 -           0.9095    | 0.9107   - 3.4877\n",
      "\u001B[1;4mValidati 32     - 100    -          1.1601 -           0.7120    | 0.7193   - 0.1324\u001B[0m\n",
      "Training 33     - 100    -          0.3093 -           0.9134    | 0.9149   - 3.5663\n",
      "\u001B[1;4mValidati 33     - 100    -          1.4320 -           0.6894    | 0.7024   - 0.1246\u001B[0m\n",
      "Training 34     - 100    -          0.3080 -           0.9096    | 0.9103   - 3.4293\n",
      "\u001B[1;4mValidati 34     - 100    -          1.9660 -           0.6160    | 0.6180   - 0.1142\u001B[0m\n",
      "Training 35     - 100    -          0.2801 -           0.9193    | 0.9187   - 3.4916\n",
      "\u001B[1;4mValidati 35     - 100    -          0.9509 -           0.7912    | 0.7808   - 0.1300\u001B[0m\n",
      "Training 36     - 100    -          0.3054 -           0.9179    | 0.9175   - 3.4087\n",
      "\u001B[1;4mValidati 36     - 100    -          0.8951 -           0.8062    | 0.8148   - 0.1226\u001B[0m\n",
      "Training 37     - 100    -          0.2591 -           0.9273    | 0.9263   - 3.4290\n",
      "\u001B[1;4mValidati 37     - 100    -          1.8162 -           0.6306    | 0.6379   - 0.1202\u001B[0m\n",
      "Training 38     - 100    -          0.2554 -           0.9280    | 0.9281   - 3.4523\n",
      "\u001B[1;4mValidati 38     - 100    -          1.1676 -           0.7549    | 0.7563   - 0.1118\u001B[0m\n",
      "Training 39     - 100    -          0.2504 -           0.9282    | 0.9288   - 3.4008\n",
      "\u001B[1;4mValidati 39     - 100    -          1.1355 -           0.7755    | 0.7770   - 0.1278\u001B[0m\n",
      "Training 40     - 100    -          0.2479 -           0.9276    | 0.9288   - 3.6073\n",
      "\u001B[1;4mValidati 40     - 100    -          1.0022 -           0.7650    | 0.7673   - 0.1267\u001B[0m\n",
      "Training 41     - 100    -          0.2632 -           0.9281    | 0.9275   - 3.5886\n",
      "\u001B[1;4mValidati 41     - 100    -          1.4800 -           0.7368    | 0.7414   - 0.1267\u001B[0m\n",
      "Training 42     - 100    -          0.2262 -           0.9333    | 0.9342   - 3.4998\n",
      "\u001B[1;4mValidati 42     - 100    -          1.6787 -           0.7120    | 0.7029   - 0.1271\u001B[0m\n",
      "Training 43     - 100    -          0.2304 -           0.9317    | 0.9318   - 3.5968\n",
      "\u001B[1;4mValidati 43     - 100    -          2.0968 -           0.5928    | 0.6027   - 0.1279\u001B[0m\n",
      "Training 44     - 100    -          0.2125 -           0.9388    | 0.9394   - 3.4939\n",
      "\u001B[1;4mValidati 44     - 100    -          1.2537 -           0.8062    | 0.8149   - 0.1245\u001B[0m\n",
      "Training 45     - 100    -          0.1840 -           0.9454    | 0.9468   - 3.5487\n",
      "\u001B[1;4mValidati 45     - 100    -          1.1300 -           0.7688    | 0.7731   - 0.1321\u001B[0m\n",
      "Training 46     - 100    -          0.2032 -           0.9447    | 0.9438   - 3.5358\n",
      "\u001B[1;4mValidati 46     - 100    -          1.3308 -           0.7525    | 0.7626   - 0.1296\u001B[0m\n",
      "Training 47     - 100    -          0.1604 -           0.9509    | 0.9522   - 3.4150\n",
      "\u001B[1;4mValidati 47     - 100    -          2.1650 -           0.6650    | 0.6792   - 0.1144\u001B[0m\n",
      "Training 48     - 100    -          0.1749 -           0.9476    | 0.9484   - 3.5757\n",
      "\u001B[1;4mValidati 48     - 100    -          1.0321 -           0.8021    | 0.8085   - 0.1216\u001B[0m\n",
      "Training 49     - 100    -          0.1712 -           0.9522    | 0.9519   - 3.4047\n",
      "\u001B[1;4mValidati 49     - 100    -          1.0604 -           0.7826    | 0.7946   - 0.1217\u001B[0m\n",
      "Training 50     - 100    -          0.1748 -           0.9507    | 0.9504   - 3.4389\n",
      "\u001B[1;4mValidati 50     - 100    -          1.8884 -           0.7299    | 0.7325   - 0.1343\u001B[0m\n",
      "Training 51     - 100    -          0.2054 -           0.9409    | 0.9417   - 3.4087\n",
      "\u001B[1;4mValidati 51     - 100    -          1.0441 -           0.8113    | 0.8121   - 0.1147\u001B[0m\n",
      " better performance: saving ...\n",
      "\n",
      "Training 52     - 100    -          0.1558 -           0.9534    | 0.9539   - 3.4364\n",
      "\u001B[1;4mValidati 52     - 100    -          1.3291 -           0.7894    | 0.7994   - 0.1288\u001B[0m\n",
      "Training 53     - 100    -          0.1443 -           0.9598    | 0.9599   - 3.5478\n",
      "\u001B[1;4mValidati 53     - 100    -          1.7060 -           0.7421    | 0.7436   - 0.1159\u001B[0m\n",
      "Training 54     - 100    -          0.1817 -           0.9540    | 0.9534   - 3.5194\n",
      "\u001B[1;4mValidati 54     - 100    -          1.3381 -           0.7766    | 0.7807   - 0.1252\u001B[0m\n",
      "Training 55     - 100    -          0.1633 -           0.9552    | 0.9564   - 3.4378\n",
      "\u001B[1;4mValidati 55     - 100    -          1.0579 -           0.7993    | 0.8034   - 0.1135\u001B[0m\n",
      "Training 56     - 100    -          0.1325 -           0.9646    | 0.9640   - 3.4832\n",
      "\u001B[1;4mValidati 56     - 100    -          1.2641 -           0.8074    | 0.8160   - 0.1215\u001B[0m\n",
      "Training 57     - 100    -          0.1465 -           0.9588    | 0.9590   - 3.5409\n",
      "\u001B[1;4mValidati 57     - 100    -          1.0961 -           0.7866    | 0.7959   - 0.1240\u001B[0m\n",
      "Training 58     - 100    -          0.1284 -           0.9600    | 0.9616   - 3.4385\n",
      "\u001B[1;4mValidati 58     - 100    -          1.2408 -           0.8148    | 0.8216   - 0.1238\u001B[0m\n",
      " better performance: saving ...\n",
      "\n",
      "Training 59     - 100    -          0.1180 -           0.9654    | 0.9662   - 3.5154\n",
      "\u001B[1;4mValidati 59     - 100    -          1.3479 -           0.7993    | 0.8095   - 0.1176\u001B[0m\n",
      "Training 60     - 100    -          0.1015 -           0.9686    | 0.9684   - 3.4428\n",
      "\u001B[1;4mValidati 60     - 100    -          1.3741 -           0.8058    | 0.8160   - 0.1239\u001B[0m\n",
      "Training 61     - 100    -          0.1136 -           0.9671    | 0.9673   - 3.4267\n",
      "\u001B[1;4mValidati 61     - 100    -          1.5750 -           0.7669    | 0.7717   - 0.1268\u001B[0m\n",
      "Training 62     - 100    -          0.1152 -           0.9676    | 0.9687   - 3.5405\n",
      "\u001B[1;4mValidati 62     - 100    -          1.3206 -           0.7961    | 0.8099   - 0.1241\u001B[0m\n",
      "Training 63     - 100    -          0.0989 -           0.9715    | 0.9712   - 3.4754\n",
      "\u001B[1;4mValidati 63     - 100    -          1.2407 -           0.8125    | 0.8239   - 0.1253\u001B[0m\n",
      "Training 64     - 100    -          0.0964 -           0.9714    | 0.9722   - 3.5783\n",
      "\u001B[1;4mValidati 64     - 100    -          1.4732 -           0.8046    | 0.8128   - 0.1288\u001B[0m\n",
      "Training 65     - 100    -          0.1165 -           0.9673    | 0.9674   - 3.4271\n",
      "\u001B[1;4mValidati 65     - 100    -          1.2343 -           0.8132    | 0.8210   - 0.1278\u001B[0m\n",
      "Training 66     - 100    -          0.1048 -           0.9691    | 0.9701   - 3.4396\n",
      "\u001B[1;4mValidati 66     - 100    -          1.6270 -           0.7560    | 0.7636   - 0.1172\u001B[0m\n",
      "Training 67     - 100    -          0.1093 -           0.9698    | 0.9698   - 3.5912\n",
      "\u001B[1;4mValidati 67     - 100    -          1.2373 -           0.8005    | 0.8133   - 0.1468\u001B[0m\n",
      "Training 68     - 100    -          0.0877 -           0.9746    | 0.9735   - 3.4995\n",
      "\u001B[1;4mValidati 68     - 100    -          1.3255 -           0.8178    | 0.8316   - 0.1219\u001B[0m\n",
      " better performance: saving ...\n",
      "\n",
      "Training 69     - 100    -          0.0836 -           0.9766    | 0.9765   - 3.4361\n",
      "\u001B[1;4mValidati 69     - 100    -          1.3642 -           0.8109    | 0.8197   - 0.1310\u001B[0m\n",
      "Training 70     - 100    -          0.0866 -           0.9767    | 0.9775   - 3.5810\n",
      "\u001B[1;4mValidati 70     - 100    -          1.6346 -           0.8058    | 0.8116   - 0.1136\u001B[0m\n",
      "Training 71     - 100    -          0.0934 -           0.9740    | 0.9734   - 3.4104\n",
      "\u001B[1;4mValidati 71     - 100    -          1.3600 -           0.7900    | 0.7941   - 0.1228\u001B[0m\n",
      "Training 72     - 100    -          0.0671 -           0.9796    | 0.9794   - 3.6067\n",
      "\u001B[1;4mValidati 72     - 100    -          1.4420 -           0.7926    | 0.7993   - 0.1243\u001B[0m\n",
      "Training 73     - 100    -          0.0759 -           0.9765    | 0.9757   - 3.4088\n",
      "\u001B[1;4mValidati 73     - 100    -          1.5509 -           0.8097    | 0.8158   - 0.1146\u001B[0m\n",
      "Training 74     - 100    -          0.0596 -           0.9814    | 0.9820   - 3.4542\n",
      "\u001B[1;4mValidati 74     - 100    -          1.3627 -           0.8178    | 0.8248   - 0.1284\u001B[0m\n",
      " better performance: saving ...\n",
      "\n",
      "Training 75     - 100    -          0.0608 -           0.9819    | 0.9815   - 3.2996\n",
      "\u001B[1;4mValidati 75     - 100    -          1.5173 -           0.8183    | 0.8223   - 0.1248\u001B[0m\n",
      " better performance: saving ...\n",
      "\n",
      "Training 76     - 100    -          0.0610 -           0.9803    | 0.9799   - 3.4477\n",
      "\u001B[1;4mValidati 76     - 100    -          1.5169 -           0.8113    | 0.8227   - 0.1284\u001B[0m\n",
      "Training 77     - 100    -          0.0551 -           0.9830    | 0.9839   - 3.6341\n",
      "\u001B[1;4mValidati 77     - 100    -          1.7048 -           0.7981    | 0.8052   - 0.1211\u001B[0m\n",
      "Training 78     - 100    -          0.0587 -           0.9814    | 0.9825   - 3.3877\n",
      "\u001B[1;4mValidati 78     - 100    -          1.4269 -           0.8160    | 0.8234   - 0.1189\u001B[0m\n",
      "Training 79     - 100    -          0.0656 -           0.9822    | 0.9818   - 3.6328\n",
      "\u001B[1;4mValidati 79     - 100    -          1.3473 -           0.8229    | 0.8285   - 0.1249\u001B[0m\n",
      " better performance: saving ...\n",
      "\n",
      "Training 80     - 100    -          0.0520 -           0.9843    | 0.9845   - 3.4491\n",
      "\u001B[1;4mValidati 80     - 100    -          1.4099 -           0.8062    | 0.8132   - 0.1242\u001B[0m\n",
      "Training 81     - 100    -          0.0587 -           0.9838    | 0.9841   - 3.5191\n",
      "\u001B[1;4mValidati 81     - 100    -          1.3739 -           0.8201    | 0.8274   - 0.1162\u001B[0m\n",
      "Training 82     - 100    -          0.0498 -           0.9864    | 0.9863   - 3.4677\n",
      "\u001B[1;4mValidati 82     - 100    -          1.5440 -           0.8132    | 0.8224   - 0.1268\u001B[0m\n",
      "Training 83     - 100    -          0.0505 -           0.9847    | 0.9847   - 3.4480\n",
      "\u001B[1;4mValidati 83     - 100    -          1.3914 -           0.8229    | 0.8297   - 0.1438\u001B[0m\n",
      " better performance: saving ...\n",
      "\n",
      "Training 84     - 100    -          0.0423 -           0.9860    | 0.9860   - 3.4716\n",
      "\u001B[1;4mValidati 84     - 100    -          1.4990 -           0.8144    | 0.8190   - 0.1278\u001B[0m\n",
      "Training 85     - 100    -          0.0503 -           0.9844    | 0.9848   - 3.4532\n",
      "\u001B[1;4mValidati 85     - 100    -          1.5081 -           0.8127    | 0.8183   - 0.1307\u001B[0m\n",
      "Training 86     - 100    -          0.0457 -           0.9849    | 0.9851   - 3.5125\n",
      "\u001B[1;4mValidati 86     - 100    -          1.4909 -           0.8252    | 0.8316   - 0.1134\u001B[0m\n",
      " better performance: saving ...\n",
      "\n",
      "Training 87     - 100    -          0.0392 -           0.9875    | 0.9873   - 3.5759\n",
      "\u001B[1;4mValidati 87     - 100    -          1.5720 -           0.8120    | 0.8210   - 0.1233\u001B[0m\n",
      "Training 88     - 100    -          0.0429 -           0.9852    | 0.9856   - 3.5156\n",
      "\u001B[1;4mValidati 88     - 100    -          1.4774 -           0.8264    | 0.8303   - 0.1304\u001B[0m\n",
      " better performance: saving ...\n",
      "\n",
      "Training 89     - 100    -          0.0361 -           0.9879    | 0.9879   - 3.4511\n",
      "\u001B[1;4mValidati 89     - 100    -          1.6110 -           0.8093    | 0.8138   - 0.1183\u001B[0m\n",
      "Training 90     - 100    -          0.0362 -           0.9882    | 0.9881   - 3.6026\n",
      "\u001B[1;4mValidati 90     - 100    -          1.5898 -           0.8229    | 0.8276   - 0.1277\u001B[0m\n",
      "Training 91     - 100    -          0.0442 -           0.9876    | 0.9875   - 3.4564\n",
      "\u001B[1;4mValidati 91     - 100    -          1.5295 -           0.8160    | 0.8247   - 0.1286\u001B[0m\n",
      "Training 92     - 100    -          0.0378 -           0.9889    | 0.9894   - 3.4734\n",
      "\u001B[1;4mValidati 92     - 100    -          1.5663 -           0.8218    | 0.8283   - 0.1260\u001B[0m\n",
      "Training 93     - 100    -          0.0363 -           0.9891    | 0.9891   - 3.3149\n",
      "\u001B[1;4mValidati 93     - 100    -          1.8173 -           0.8116    | 0.8146   - 0.1241\u001B[0m\n",
      "Training 94     - 100    -          0.0432 -           0.9884    | 0.9883   - 3.1122\n",
      "\u001B[1;4mValidati 94     - 100    -          1.6776 -           0.8155    | 0.8250   - 0.1242\u001B[0m\n",
      "Training 95     - 100    -          0.0340 -           0.9874    | 0.9874   - 3.4629\n",
      "\u001B[1;4mValidati 95     - 100    -          1.5990 -           0.8264    | 0.8267   - 0.1189\u001B[0m\n",
      " better performance: saving ...\n",
      "\n",
      "Training 96     - 100    -          0.0433 -           0.9878    | 0.9877   - 3.4080\n",
      "\u001B[1;4mValidati 96     - 100    -          1.6242 -           0.8076    | 0.8114   - 0.1233\u001B[0m\n",
      "Training 97     - 100    -          0.0378 -           0.9889    | 0.9887   - 3.4907\n",
      "\u001B[1;4mValidati 97     - 100    -          1.4954 -           0.8236    | 0.8276   - 0.1193\u001B[0m\n",
      "Training 98     - 100    -          0.0407 -           0.9880    | 0.9883   - 3.4585\n",
      "\u001B[1;4mValidati 98     - 100    -          1.5140 -           0.8275    | 0.8316   - 0.1303\u001B[0m\n",
      " better performance: saving ...\n",
      "\n",
      "Training 99     - 100    -          0.0380 -           0.9887    | 0.9886   - 3.4503\n",
      "\u001B[1;4mValidati 99     - 100    -          1.6560 -           0.8275    | 0.8349   - 0.1300\u001B[0m\n",
      " better performance: saving ...\n",
      "\n",
      "Training 100    - 100    -          0.0401 -           0.9882    | 0.9879   - 3.5197\n",
      "\u001B[1;4mValidati 100    - 100    -          1.5672 -           0.8167    | 0.8240   - 0.1245\u001B[0m\r"
     ]
    }
   ],
   "source": [
    "print(header)\n",
    "\n",
    "start_epoch = checkpoint.epoch_counter\n",
    "end_epoch = args.nb_epoch\n",
    "\n",
    "for e in range(start_epoch, args.nb_epoch):\n",
    "    train(e)\n",
    "    val(e)\n",
    "\n",
    "tensorboard.flush()\n",
    "tensorboard.close()"
   ]
  },
  {
   "cell_type": "markdown",
   "metadata": {
    "jupyter": {
     "outputs_hidden": false
    },
    "pycharm": {
     "name": "#%%\n"
    }
   },
   "source": [
    "# ♫♪.ılılıll|̲̅̅●̲̅̅|̲̅̅=̲̅̅|̲̅̅●̲̅̅|llılılı.♫♪"
   ]
  },
  {
   "cell_type": "code",
   "execution_count": null,
   "metadata": {},
   "outputs": [],
   "source": []
  }
 ],
 "metadata": {
  "kernelspec": {
   "display_name": "dct",
   "language": "python",
   "name": "dct"
  },
  "language_info": {
   "codemirror_mode": {
    "name": "ipython",
    "version": 3
   },
   "file_extension": ".py",
   "mimetype": "text/x-python",
   "name": "python",
   "nbconvert_exporter": "python",
   "pygments_lexer": "ipython3",
   "version": "3.8.0"
  }
 },
 "nbformat": 4,
 "nbformat_minor": 4
}