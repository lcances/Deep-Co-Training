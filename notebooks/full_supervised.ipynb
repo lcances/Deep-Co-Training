{
 "cells": [
  {
   "cell_type": "markdown",
   "metadata": {
    "jupyter": {
     "outputs_hidden": true
    }
   },
   "source": [
    "# import"
   ]
  },
  {
   "cell_type": "code",
   "execution_count": 2,
   "metadata": {},
   "outputs": [],
   "source": [
    "%load_ext autoreload\n",
    "%autoreload 2"
   ]
  },
  {
   "cell_type": "code",
   "execution_count": 3,
   "metadata": {},
   "outputs": [],
   "source": [
    "import os\n",
    "os.environ[\"MKL_NUM_THREADS\"] = \"2\"\n",
    "os.environ[\"NUMEXPR_NU M_THREADS\"] = \"2\"\n",
    "os.environ[\"OMP_NUM_THREADS\"] = \"2\"\n",
    "import time\n",
    "\n",
    "import numpy\n",
    "import torch\n",
    "import torch.nn as nn\n",
    "import torch.utils.data as data\n",
    "import torch.nn.functional as F\n",
    "import torchvision.transforms as transforms\n",
    "from torch.cuda.amp import autocast\n",
    "\n",
    "from torch.optim.lr_scheduler import LambdaLR\n",
    "from torch.utils.tensorboard import SummaryWriter"
   ]
  },
  {
   "cell_type": "code",
   "execution_count": 4,
   "metadata": {},
   "outputs": [],
   "source": [
    "from ubs8k.datasetManager import DatasetManager\n",
    "from ubs8k.datasets import Dataset\n",
    "\n",
    "from DCT.util.utils import reset_seed, get_datetime, get_model_from_name, load_dataset\n",
    "from DCT.util.checkpoint import CheckPoint\n",
    "from metric_utils.metrics import CategoricalAccuracy, FScore, ContinueAverage"
   ]
  },
  {
   "cell_type": "markdown",
   "metadata": {
    "pycharm": {
     "name": "#%% md\n"
    }
   },
   "source": [
    "# Arguments"
   ]
  },
  {
   "cell_type": "code",
   "execution_count": 5,
   "metadata": {
    "collapsed": false,
    "jupyter": {
     "outputs_hidden": false
    },
    "pycharm": {
     "name": "#%%\n"
    },
    "tags": [
     "re_run"
    ]
   },
   "outputs": [],
   "source": [
    "import argparse\n",
    "parser = argparse.ArgumentParser()\n",
    "parser.add_argument(\"-d\", \"--dataset_root\", default=\"../datasets\", type=str)\n",
    "parser.add_argument(\"-D\", \"--dataset\", default=\"cifar10\", type=str, help=\"available [ubs8k | cifar10]\")\n",
    "\n",
    "parser.add_argument(\"--supervised_ratio\", default=1.0, type=float)\n",
    "parser.add_argument(\"-t\", \"--train_folds\", nargs=\"+\", default=[1, 2, 3, 4, 5, 6, 7, 8, 9], type=int)\n",
    "parser.add_argument(\"-v\", \"--val_folds\", nargs=\"+\", default=[10], type=int)\n",
    "\n",
    "parser.add_argument(\"--model\", default=\"wideresnet28_2\", type=str)\n",
    "parser.add_argument(\"--batch_size\", default=100, type=int)\n",
    "parser.add_argument(\"--nb_epoch\", default=300, type=int)\n",
    "parser.add_argument(\"--learning_rate\", default=0.003, type=int)\n",
    "\n",
    "parser.add_argument(\"--checkpoint_path\", default=\"../model_save/ubs8k/full_supervised\", type=str)\n",
    "parser.add_argument(\"--resume\", action=\"store_true\", default=False)\n",
    "parser.add_argument(\"--tensorboard_path\", default=\"../tensorboard/ubs8k/full_supervised\", type=str)\n",
    "parser.add_argument(\"--tensorboard_sufix\", default=\"\", type=str)\n",
    "\n",
    "args = parser.parse_args(\"\")"
   ]
  },
  {
   "cell_type": "code",
   "execution_count": 6,
   "metadata": {
    "tags": [
     "re_run"
    ]
   },
   "outputs": [
    {
     "data": {
      "text/plain": [
       "Namespace(batch_size=100, checkpoint_path='../model_save/cifar10/full_supervised', dataset='cifar10', dataset_root='../datasets', learning_rate=0.003, model='wideresnet28_2', nb_epoch=300, resume=False, supervised_ratio=1.0, tensorboard_path='../tensorboard/cifar10/full_supervised', tensorboard_sufix='', train_folds=[1, 2, 3, 4, 5, 6, 7, 8, 9], val_folds=[10])"
      ]
     },
     "execution_count": 6,
     "metadata": {},
     "output_type": "execute_result"
    }
   ],
   "source": [
    "# modify checkpoint and tensorboard path to fit the dataset\n",
    "checkpoint_path_ = args.checkpoint_path.split(\"/\")\n",
    "tensorboard_path_ = args.tensorboard_path.split(\"/\")\n",
    "\n",
    "checkpoint_path_[2] = args.dataset\n",
    "tensorboard_path_[2] = args.dataset\n",
    "\n",
    "args.checkpoint_path = \"/\".join(checkpoint_path_)\n",
    "args.tensorboard_path = \"/\".join(tensorboard_path_)\n",
    "args"
   ]
  },
  {
   "cell_type": "markdown",
   "metadata": {
    "pycharm": {
     "name": "#%% md\n"
    }
   },
   "source": [
    "# initialisation"
   ]
  },
  {
   "cell_type": "code",
   "execution_count": 7,
   "metadata": {
    "collapsed": false,
    "jupyter": {
     "outputs_hidden": false
    },
    "pycharm": {
     "name": "#%%\n"
    },
    "tags": [
     "re_run"
    ]
   },
   "outputs": [],
   "source": [
    "reset_seed(1234)\n"
   ]
  },
  {
   "cell_type": "markdown",
   "metadata": {
    "pycharm": {
     "name": "#%% md\n"
    }
   },
   "source": [
    "# Prepare the dataset"
   ]
  },
  {
   "cell_type": "code",
   "execution_count": 8,
   "metadata": {
    "collapsed": false,
    "jupyter": {
     "outputs_hidden": false
    },
    "pycharm": {
     "name": "#%%\n"
    }
   },
   "outputs": [
    {
     "name": "stdout",
     "output_type": "stream",
     "text": [
      "Files already downloaded and verified\n",
      "Files already downloaded and verified\n"
     ]
    }
   ],
   "source": [
    "\"\"\"\n",
    "we pre-processed the images using ZCA and augmented the dataset using horizontal flips and random translations. The translations\n",
    "were drawn from [−2, 2] pixels,\n",
    "\"\"\"\n",
    "extra_train_transforms = [\n",
    "    transforms.RandomCrop(32, padding=4),\n",
    "    transforms.RandomHorizontalFlip(),\n",
    "]\n",
    "\n",
    "manager, train_loader, val_loader = load_dataset(\n",
    "    args.dataset,\n",
    "    \"supervised\",\n",
    "    \n",
    "    extra_train_transform = extra_train_transforms,\n",
    "    \n",
    "    dataset_root = args.dataset_root,\n",
    "    supervised_ratio = args.supervised_ratio,\n",
    "    batch_size = args.batch_size,\n",
    "    train_folds = args.train_folds,\n",
    "    val_folds = args.val_folds,\n",
    "    verbose = 2\n",
    ")"
   ]
  },
  {
   "cell_type": "markdown",
   "metadata": {},
   "source": [
    "# Prep model"
   ]
  },
  {
   "cell_type": "code",
   "execution_count": 9,
   "metadata": {
    "scrolled": true,
    "tags": [
     "re_run"
    ]
   },
   "outputs": [],
   "source": [
    "torch.cuda.empty_cache()\n",
    "\n",
    "from torchvision.models import ResNet\n",
    "import torchvision.models as tm\n",
    "\n",
    "# =============================================================================\n",
    "#    WIDE RES NET\n",
    "# =============================================================================\n",
    "def wideresnet50_2(**kwargs):\n",
    "    model = ResNet(tm.resnet.Bottleneck, [3, 4, 6, 3], num_classes=10, **kwargs)\n",
    "    return model\n",
    "\n",
    "def wideresnet28_2(**kwargs):\n",
    "    model = ResNet(tm.resnet.Bottleneck, [2, 2, 2, 2], num_classes=10, **kwargs)\n",
    "    return model\n",
    "\n",
    "\n",
    "model_func = get_model_from_name(args.model)\n",
    "# model = ResNet(tm.resnet.Bottleneck, [2, 2, 2, 2], num_classes=10)\n",
    "model = model_func()\n",
    "model = model.cuda()\n"
   ]
  },
  {
   "cell_type": "code",
   "execution_count": 10,
   "metadata": {
    "scrolled": true
   },
   "outputs": [
    {
     "name": "stdout",
     "output_type": "stream",
     "text": [
      "================================================================================================\n",
      "                                            Kernel Shape      Output Shape  \\\n",
      "Layer                                                                        \n",
      "0_conv1                                    [3, 64, 7, 7]  [64, 64, 16, 16]   \n",
      "1_bn1                                               [64]  [64, 64, 16, 16]   \n",
      "2_relu                                                 -  [64, 64, 16, 16]   \n",
      "3_maxpool                                              -    [64, 64, 8, 8]   \n",
      "4_layer1.0.Conv2d_conv1                   [64, 64, 1, 1]    [64, 64, 8, 8]   \n",
      "5_layer1.0.BatchNorm2d_bn1                          [64]    [64, 64, 8, 8]   \n",
      "6_layer1.0.ReLU_relu                                   -    [64, 64, 8, 8]   \n",
      "7_layer1.0.Conv2d_conv2                   [64, 64, 3, 3]    [64, 64, 8, 8]   \n",
      "8_layer1.0.BatchNorm2d_bn2                          [64]    [64, 64, 8, 8]   \n",
      "9_layer1.0.ReLU_relu                                   -    [64, 64, 8, 8]   \n",
      "10_layer1.0.Conv2d_conv3                 [64, 256, 1, 1]   [64, 256, 8, 8]   \n",
      "11_layer1.0.BatchNorm2d_bn3                        [256]   [64, 256, 8, 8]   \n",
      "12_layer1.0.downsample.Conv2d_0          [64, 256, 1, 1]   [64, 256, 8, 8]   \n",
      "13_layer1.0.downsample.BatchNorm2d_1               [256]   [64, 256, 8, 8]   \n",
      "14_layer1.0.ReLU_relu                                  -   [64, 256, 8, 8]   \n",
      "15_layer1.1.Conv2d_conv1                 [256, 64, 1, 1]    [64, 64, 8, 8]   \n",
      "16_layer1.1.BatchNorm2d_bn1                         [64]    [64, 64, 8, 8]   \n",
      "17_layer1.1.ReLU_relu                                  -    [64, 64, 8, 8]   \n",
      "18_layer1.1.Conv2d_conv2                  [64, 64, 3, 3]    [64, 64, 8, 8]   \n",
      "19_layer1.1.BatchNorm2d_bn2                         [64]    [64, 64, 8, 8]   \n",
      "20_layer1.1.ReLU_relu                                  -    [64, 64, 8, 8]   \n",
      "21_layer1.1.Conv2d_conv3                 [64, 256, 1, 1]   [64, 256, 8, 8]   \n",
      "22_layer1.1.BatchNorm2d_bn3                        [256]   [64, 256, 8, 8]   \n",
      "23_layer1.1.ReLU_relu                                  -   [64, 256, 8, 8]   \n",
      "24_layer2.0.Conv2d_conv1                [256, 128, 1, 1]   [64, 128, 8, 8]   \n",
      "25_layer2.0.BatchNorm2d_bn1                        [128]   [64, 128, 8, 8]   \n",
      "26_layer2.0.ReLU_relu                                  -   [64, 128, 8, 8]   \n",
      "27_layer2.0.Conv2d_conv2                [128, 128, 3, 3]   [64, 128, 4, 4]   \n",
      "28_layer2.0.BatchNorm2d_bn2                        [128]   [64, 128, 4, 4]   \n",
      "29_layer2.0.ReLU_relu                                  -   [64, 128, 4, 4]   \n",
      "30_layer2.0.Conv2d_conv3                [128, 512, 1, 1]   [64, 512, 4, 4]   \n",
      "31_layer2.0.BatchNorm2d_bn3                        [512]   [64, 512, 4, 4]   \n",
      "32_layer2.0.downsample.Conv2d_0         [256, 512, 1, 1]   [64, 512, 4, 4]   \n",
      "33_layer2.0.downsample.BatchNorm2d_1               [512]   [64, 512, 4, 4]   \n",
      "34_layer2.0.ReLU_relu                                  -   [64, 512, 4, 4]   \n",
      "35_layer2.1.Conv2d_conv1                [512, 128, 1, 1]   [64, 128, 4, 4]   \n",
      "36_layer2.1.BatchNorm2d_bn1                        [128]   [64, 128, 4, 4]   \n",
      "37_layer2.1.ReLU_relu                                  -   [64, 128, 4, 4]   \n",
      "38_layer2.1.Conv2d_conv2                [128, 128, 3, 3]   [64, 128, 4, 4]   \n",
      "39_layer2.1.BatchNorm2d_bn2                        [128]   [64, 128, 4, 4]   \n",
      "40_layer2.1.ReLU_relu                                  -   [64, 128, 4, 4]   \n",
      "41_layer2.1.Conv2d_conv3                [128, 512, 1, 1]   [64, 512, 4, 4]   \n",
      "42_layer2.1.BatchNorm2d_bn3                        [512]   [64, 512, 4, 4]   \n",
      "43_layer2.1.ReLU_relu                                  -   [64, 512, 4, 4]   \n",
      "44_layer3.0.Conv2d_conv1                [512, 256, 1, 1]   [64, 256, 4, 4]   \n",
      "45_layer3.0.BatchNorm2d_bn1                        [256]   [64, 256, 4, 4]   \n",
      "46_layer3.0.ReLU_relu                                  -   [64, 256, 4, 4]   \n",
      "47_layer3.0.Conv2d_conv2                [256, 256, 3, 3]   [64, 256, 2, 2]   \n",
      "48_layer3.0.BatchNorm2d_bn2                        [256]   [64, 256, 2, 2]   \n",
      "49_layer3.0.ReLU_relu                                  -   [64, 256, 2, 2]   \n",
      "50_layer3.0.Conv2d_conv3               [256, 1024, 1, 1]  [64, 1024, 2, 2]   \n",
      "51_layer3.0.BatchNorm2d_bn3                       [1024]  [64, 1024, 2, 2]   \n",
      "52_layer3.0.downsample.Conv2d_0        [512, 1024, 1, 1]  [64, 1024, 2, 2]   \n",
      "53_layer3.0.downsample.BatchNorm2d_1              [1024]  [64, 1024, 2, 2]   \n",
      "54_layer3.0.ReLU_relu                                  -  [64, 1024, 2, 2]   \n",
      "55_layer3.1.Conv2d_conv1               [1024, 256, 1, 1]   [64, 256, 2, 2]   \n",
      "56_layer3.1.BatchNorm2d_bn1                        [256]   [64, 256, 2, 2]   \n",
      "57_layer3.1.ReLU_relu                                  -   [64, 256, 2, 2]   \n",
      "58_layer3.1.Conv2d_conv2                [256, 256, 3, 3]   [64, 256, 2, 2]   \n",
      "59_layer3.1.BatchNorm2d_bn2                        [256]   [64, 256, 2, 2]   \n",
      "60_layer3.1.ReLU_relu                                  -   [64, 256, 2, 2]   \n",
      "61_layer3.1.Conv2d_conv3               [256, 1024, 1, 1]  [64, 1024, 2, 2]   \n",
      "62_layer3.1.BatchNorm2d_bn3                       [1024]  [64, 1024, 2, 2]   \n",
      "63_layer3.1.ReLU_relu                                  -  [64, 1024, 2, 2]   \n",
      "64_layer4.0.Conv2d_conv1               [1024, 512, 1, 1]   [64, 512, 2, 2]   \n",
      "65_layer4.0.BatchNorm2d_bn1                        [512]   [64, 512, 2, 2]   \n",
      "66_layer4.0.ReLU_relu                                  -   [64, 512, 2, 2]   \n",
      "67_layer4.0.Conv2d_conv2                [512, 512, 3, 3]   [64, 512, 1, 1]   \n",
      "68_layer4.0.BatchNorm2d_bn2                        [512]   [64, 512, 1, 1]   \n",
      "69_layer4.0.ReLU_relu                                  -   [64, 512, 1, 1]   \n",
      "70_layer4.0.Conv2d_conv3               [512, 2048, 1, 1]  [64, 2048, 1, 1]   \n",
      "71_layer4.0.BatchNorm2d_bn3                       [2048]  [64, 2048, 1, 1]   \n",
      "72_layer4.0.downsample.Conv2d_0       [1024, 2048, 1, 1]  [64, 2048, 1, 1]   \n",
      "73_layer4.0.downsample.BatchNorm2d_1              [2048]  [64, 2048, 1, 1]   \n",
      "74_layer4.0.ReLU_relu                                  -  [64, 2048, 1, 1]   \n",
      "75_layer4.1.Conv2d_conv1               [2048, 512, 1, 1]   [64, 512, 1, 1]   \n",
      "76_layer4.1.BatchNorm2d_bn1                        [512]   [64, 512, 1, 1]   \n",
      "77_layer4.1.ReLU_relu                                  -   [64, 512, 1, 1]   \n",
      "78_layer4.1.Conv2d_conv2                [512, 512, 3, 3]   [64, 512, 1, 1]   \n",
      "79_layer4.1.BatchNorm2d_bn2                        [512]   [64, 512, 1, 1]   \n",
      "80_layer4.1.ReLU_relu                                  -   [64, 512, 1, 1]   \n",
      "81_layer4.1.Conv2d_conv3               [512, 2048, 1, 1]  [64, 2048, 1, 1]   \n",
      "82_layer4.1.BatchNorm2d_bn3                       [2048]  [64, 2048, 1, 1]   \n",
      "83_layer4.1.ReLU_relu                                  -  [64, 2048, 1, 1]   \n",
      "84_avgpool                                             -  [64, 2048, 1, 1]   \n",
      "85_fc                                         [2048, 10]          [64, 10]   \n",
      "\n",
      "                                         Params  Mult-Adds  \n",
      "Layer                                                       \n",
      "0_conv1                                  9.408k  2.408448M  \n",
      "1_bn1                                     128.0       64.0  \n",
      "2_relu                                        -          -  \n",
      "3_maxpool                                     -          -  \n",
      "4_layer1.0.Conv2d_conv1                  4.096k   262.144k  \n",
      "5_layer1.0.BatchNorm2d_bn1                128.0       64.0  \n",
      "6_layer1.0.ReLU_relu                          -          -  \n",
      "7_layer1.0.Conv2d_conv2                 36.864k  2.359296M  \n",
      "8_layer1.0.BatchNorm2d_bn2                128.0       64.0  \n",
      "9_layer1.0.ReLU_relu                          -          -  \n",
      "10_layer1.0.Conv2d_conv3                16.384k  1.048576M  \n",
      "11_layer1.0.BatchNorm2d_bn3               512.0      256.0  \n",
      "12_layer1.0.downsample.Conv2d_0         16.384k  1.048576M  \n",
      "13_layer1.0.downsample.BatchNorm2d_1      512.0      256.0  \n",
      "14_layer1.0.ReLU_relu                         -          -  \n",
      "15_layer1.1.Conv2d_conv1                16.384k  1.048576M  \n",
      "16_layer1.1.BatchNorm2d_bn1               128.0       64.0  \n",
      "17_layer1.1.ReLU_relu                         -          -  \n",
      "18_layer1.1.Conv2d_conv2                36.864k  2.359296M  \n",
      "19_layer1.1.BatchNorm2d_bn2               128.0       64.0  \n",
      "20_layer1.1.ReLU_relu                         -          -  \n",
      "21_layer1.1.Conv2d_conv3                16.384k  1.048576M  \n",
      "22_layer1.1.BatchNorm2d_bn3               512.0      256.0  \n",
      "23_layer1.1.ReLU_relu                         -          -  \n",
      "24_layer2.0.Conv2d_conv1                32.768k  2.097152M  \n",
      "25_layer2.0.BatchNorm2d_bn1               256.0      128.0  \n",
      "26_layer2.0.ReLU_relu                         -          -  \n",
      "27_layer2.0.Conv2d_conv2               147.456k  2.359296M  \n",
      "28_layer2.0.BatchNorm2d_bn2               256.0      128.0  \n",
      "29_layer2.0.ReLU_relu                         -          -  \n",
      "30_layer2.0.Conv2d_conv3                65.536k  1.048576M  \n",
      "31_layer2.0.BatchNorm2d_bn3              1.024k      512.0  \n",
      "32_layer2.0.downsample.Conv2d_0        131.072k  2.097152M  \n",
      "33_layer2.0.downsample.BatchNorm2d_1     1.024k      512.0  \n",
      "34_layer2.0.ReLU_relu                         -          -  \n",
      "35_layer2.1.Conv2d_conv1                65.536k  1.048576M  \n",
      "36_layer2.1.BatchNorm2d_bn1               256.0      128.0  \n",
      "37_layer2.1.ReLU_relu                         -          -  \n",
      "38_layer2.1.Conv2d_conv2               147.456k  2.359296M  \n",
      "39_layer2.1.BatchNorm2d_bn2               256.0      128.0  \n",
      "40_layer2.1.ReLU_relu                         -          -  \n",
      "41_layer2.1.Conv2d_conv3                65.536k  1.048576M  \n",
      "42_layer2.1.BatchNorm2d_bn3              1.024k      512.0  \n",
      "43_layer2.1.ReLU_relu                         -          -  \n",
      "44_layer3.0.Conv2d_conv1               131.072k  2.097152M  \n",
      "45_layer3.0.BatchNorm2d_bn1               512.0      256.0  \n",
      "46_layer3.0.ReLU_relu                         -          -  \n",
      "47_layer3.0.Conv2d_conv2               589.824k  2.359296M  \n",
      "48_layer3.0.BatchNorm2d_bn2               512.0      256.0  \n",
      "49_layer3.0.ReLU_relu                         -          -  \n",
      "50_layer3.0.Conv2d_conv3               262.144k  1.048576M  \n",
      "51_layer3.0.BatchNorm2d_bn3              2.048k     1.024k  \n",
      "52_layer3.0.downsample.Conv2d_0        524.288k  2.097152M  \n",
      "53_layer3.0.downsample.BatchNorm2d_1     2.048k     1.024k  \n",
      "54_layer3.0.ReLU_relu                         -          -  \n",
      "55_layer3.1.Conv2d_conv1               262.144k  1.048576M  \n",
      "56_layer3.1.BatchNorm2d_bn1               512.0      256.0  \n",
      "57_layer3.1.ReLU_relu                         -          -  \n",
      "58_layer3.1.Conv2d_conv2               589.824k  2.359296M  \n",
      "59_layer3.1.BatchNorm2d_bn2               512.0      256.0  \n",
      "60_layer3.1.ReLU_relu                         -          -  \n",
      "61_layer3.1.Conv2d_conv3               262.144k  1.048576M  \n",
      "62_layer3.1.BatchNorm2d_bn3              2.048k     1.024k  \n",
      "63_layer3.1.ReLU_relu                         -          -  \n",
      "64_layer4.0.Conv2d_conv1               524.288k  2.097152M  \n",
      "65_layer4.0.BatchNorm2d_bn1              1.024k      512.0  \n",
      "66_layer4.0.ReLU_relu                         -          -  \n",
      "67_layer4.0.Conv2d_conv2              2.359296M  2.359296M  \n",
      "68_layer4.0.BatchNorm2d_bn2              1.024k      512.0  \n",
      "69_layer4.0.ReLU_relu                         -          -  \n",
      "70_layer4.0.Conv2d_conv3              1.048576M  1.048576M  \n",
      "71_layer4.0.BatchNorm2d_bn3              4.096k     2.048k  \n",
      "72_layer4.0.downsample.Conv2d_0       2.097152M  2.097152M  \n",
      "73_layer4.0.downsample.BatchNorm2d_1     4.096k     2.048k  \n",
      "74_layer4.0.ReLU_relu                         -          -  \n",
      "75_layer4.1.Conv2d_conv1              1.048576M  1.048576M  \n",
      "76_layer4.1.BatchNorm2d_bn1              1.024k      512.0  \n",
      "77_layer4.1.ReLU_relu                         -          -  \n",
      "78_layer4.1.Conv2d_conv2              2.359296M  2.359296M  \n",
      "79_layer4.1.BatchNorm2d_bn2              1.024k      512.0  \n",
      "80_layer4.1.ReLU_relu                         -          -  \n",
      "81_layer4.1.Conv2d_conv3              1.048576M  1.048576M  \n",
      "82_layer4.1.BatchNorm2d_bn3              4.096k     2.048k  \n",
      "83_layer4.1.ReLU_relu                         -          -  \n",
      "84_avgpool                                    -          -  \n",
      "85_fc                                    20.49k     20.48k  \n",
      "------------------------------------------------------------------------------------------------\n",
      "                          Totals\n",
      "Total params          13.966666M\n",
      "Trainable params      13.966666M\n",
      "Non-trainable params         0.0\n",
      "Mult-Adds             47.795264M\n",
      "================================================================================================\n"
     ]
    }
   ],
   "source": [
    "from torchsummaryX import summary\n",
    "input_tensor = torch.zeros((64, 3, 32, 32), dtype=torch.float)\n",
    "input_tensor = input_tensor.cuda()\n",
    "\n",
    "s = summary(model, input_tensor)\n"
   ]
  },
  {
   "cell_type": "markdown",
   "metadata": {},
   "source": [
    "## Prep training"
   ]
  },
  {
   "cell_type": "code",
   "execution_count": 11,
   "metadata": {},
   "outputs": [
    {
     "name": "stdout",
     "output_type": "stream",
     "text": [
      "28\n"
     ]
    }
   ],
   "source": [
    "nb_conv = 0\n",
    "\n",
    "for layer in s.index.values:\n",
    "    if \"Conv\" in layer:\n",
    "        nb_conv += 1\n",
    "print(nb_conv)"
   ]
  },
  {
   "cell_type": "code",
   "execution_count": 12,
   "metadata": {
    "scrolled": true
   },
   "outputs": [
    {
     "data": {
      "text/plain": [
       "ResNet(\n",
       "  (conv1): Conv2d(3, 64, kernel_size=(7, 7), stride=(2, 2), padding=(3, 3), bias=False)\n",
       "  (bn1): BatchNorm2d(64, eps=1e-05, momentum=0.1, affine=True, track_running_stats=True)\n",
       "  (relu): ReLU(inplace=True)\n",
       "  (maxpool): MaxPool2d(kernel_size=3, stride=2, padding=1, dilation=1, ceil_mode=False)\n",
       "  (layer1): Sequential(\n",
       "    (0): Bottleneck(\n",
       "      (conv1): Conv2d(64, 64, kernel_size=(1, 1), stride=(1, 1), bias=False)\n",
       "      (bn1): BatchNorm2d(64, eps=1e-05, momentum=0.1, affine=True, track_running_stats=True)\n",
       "      (conv2): Conv2d(64, 64, kernel_size=(3, 3), stride=(1, 1), padding=(1, 1), bias=False)\n",
       "      (bn2): BatchNorm2d(64, eps=1e-05, momentum=0.1, affine=True, track_running_stats=True)\n",
       "      (conv3): Conv2d(64, 256, kernel_size=(1, 1), stride=(1, 1), bias=False)\n",
       "      (bn3): BatchNorm2d(256, eps=1e-05, momentum=0.1, affine=True, track_running_stats=True)\n",
       "      (relu): ReLU(inplace=True)\n",
       "      (downsample): Sequential(\n",
       "        (0): Conv2d(64, 256, kernel_size=(1, 1), stride=(1, 1), bias=False)\n",
       "        (1): BatchNorm2d(256, eps=1e-05, momentum=0.1, affine=True, track_running_stats=True)\n",
       "      )\n",
       "    )\n",
       "    (1): Bottleneck(\n",
       "      (conv1): Conv2d(256, 64, kernel_size=(1, 1), stride=(1, 1), bias=False)\n",
       "      (bn1): BatchNorm2d(64, eps=1e-05, momentum=0.1, affine=True, track_running_stats=True)\n",
       "      (conv2): Conv2d(64, 64, kernel_size=(3, 3), stride=(1, 1), padding=(1, 1), bias=False)\n",
       "      (bn2): BatchNorm2d(64, eps=1e-05, momentum=0.1, affine=True, track_running_stats=True)\n",
       "      (conv3): Conv2d(64, 256, kernel_size=(1, 1), stride=(1, 1), bias=False)\n",
       "      (bn3): BatchNorm2d(256, eps=1e-05, momentum=0.1, affine=True, track_running_stats=True)\n",
       "      (relu): ReLU(inplace=True)\n",
       "    )\n",
       "  )\n",
       "  (layer2): Sequential(\n",
       "    (0): Bottleneck(\n",
       "      (conv1): Conv2d(256, 128, kernel_size=(1, 1), stride=(1, 1), bias=False)\n",
       "      (bn1): BatchNorm2d(128, eps=1e-05, momentum=0.1, affine=True, track_running_stats=True)\n",
       "      (conv2): Conv2d(128, 128, kernel_size=(3, 3), stride=(2, 2), padding=(1, 1), bias=False)\n",
       "      (bn2): BatchNorm2d(128, eps=1e-05, momentum=0.1, affine=True, track_running_stats=True)\n",
       "      (conv3): Conv2d(128, 512, kernel_size=(1, 1), stride=(1, 1), bias=False)\n",
       "      (bn3): BatchNorm2d(512, eps=1e-05, momentum=0.1, affine=True, track_running_stats=True)\n",
       "      (relu): ReLU(inplace=True)\n",
       "      (downsample): Sequential(\n",
       "        (0): Conv2d(256, 512, kernel_size=(1, 1), stride=(2, 2), bias=False)\n",
       "        (1): BatchNorm2d(512, eps=1e-05, momentum=0.1, affine=True, track_running_stats=True)\n",
       "      )\n",
       "    )\n",
       "    (1): Bottleneck(\n",
       "      (conv1): Conv2d(512, 128, kernel_size=(1, 1), stride=(1, 1), bias=False)\n",
       "      (bn1): BatchNorm2d(128, eps=1e-05, momentum=0.1, affine=True, track_running_stats=True)\n",
       "      (conv2): Conv2d(128, 128, kernel_size=(3, 3), stride=(1, 1), padding=(1, 1), bias=False)\n",
       "      (bn2): BatchNorm2d(128, eps=1e-05, momentum=0.1, affine=True, track_running_stats=True)\n",
       "      (conv3): Conv2d(128, 512, kernel_size=(1, 1), stride=(1, 1), bias=False)\n",
       "      (bn3): BatchNorm2d(512, eps=1e-05, momentum=0.1, affine=True, track_running_stats=True)\n",
       "      (relu): ReLU(inplace=True)\n",
       "    )\n",
       "  )\n",
       "  (layer3): Sequential(\n",
       "    (0): Bottleneck(\n",
       "      (conv1): Conv2d(512, 256, kernel_size=(1, 1), stride=(1, 1), bias=False)\n",
       "      (bn1): BatchNorm2d(256, eps=1e-05, momentum=0.1, affine=True, track_running_stats=True)\n",
       "      (conv2): Conv2d(256, 256, kernel_size=(3, 3), stride=(2, 2), padding=(1, 1), bias=False)\n",
       "      (bn2): BatchNorm2d(256, eps=1e-05, momentum=0.1, affine=True, track_running_stats=True)\n",
       "      (conv3): Conv2d(256, 1024, kernel_size=(1, 1), stride=(1, 1), bias=False)\n",
       "      (bn3): BatchNorm2d(1024, eps=1e-05, momentum=0.1, affine=True, track_running_stats=True)\n",
       "      (relu): ReLU(inplace=True)\n",
       "      (downsample): Sequential(\n",
       "        (0): Conv2d(512, 1024, kernel_size=(1, 1), stride=(2, 2), bias=False)\n",
       "        (1): BatchNorm2d(1024, eps=1e-05, momentum=0.1, affine=True, track_running_stats=True)\n",
       "      )\n",
       "    )\n",
       "    (1): Bottleneck(\n",
       "      (conv1): Conv2d(1024, 256, kernel_size=(1, 1), stride=(1, 1), bias=False)\n",
       "      (bn1): BatchNorm2d(256, eps=1e-05, momentum=0.1, affine=True, track_running_stats=True)\n",
       "      (conv2): Conv2d(256, 256, kernel_size=(3, 3), stride=(1, 1), padding=(1, 1), bias=False)\n",
       "      (bn2): BatchNorm2d(256, eps=1e-05, momentum=0.1, affine=True, track_running_stats=True)\n",
       "      (conv3): Conv2d(256, 1024, kernel_size=(1, 1), stride=(1, 1), bias=False)\n",
       "      (bn3): BatchNorm2d(1024, eps=1e-05, momentum=0.1, affine=True, track_running_stats=True)\n",
       "      (relu): ReLU(inplace=True)\n",
       "    )\n",
       "  )\n",
       "  (layer4): Sequential(\n",
       "    (0): Bottleneck(\n",
       "      (conv1): Conv2d(1024, 512, kernel_size=(1, 1), stride=(1, 1), bias=False)\n",
       "      (bn1): BatchNorm2d(512, eps=1e-05, momentum=0.1, affine=True, track_running_stats=True)\n",
       "      (conv2): Conv2d(512, 512, kernel_size=(3, 3), stride=(2, 2), padding=(1, 1), bias=False)\n",
       "      (bn2): BatchNorm2d(512, eps=1e-05, momentum=0.1, affine=True, track_running_stats=True)\n",
       "      (conv3): Conv2d(512, 2048, kernel_size=(1, 1), stride=(1, 1), bias=False)\n",
       "      (bn3): BatchNorm2d(2048, eps=1e-05, momentum=0.1, affine=True, track_running_stats=True)\n",
       "      (relu): ReLU(inplace=True)\n",
       "      (downsample): Sequential(\n",
       "        (0): Conv2d(1024, 2048, kernel_size=(1, 1), stride=(2, 2), bias=False)\n",
       "        (1): BatchNorm2d(2048, eps=1e-05, momentum=0.1, affine=True, track_running_stats=True)\n",
       "      )\n",
       "    )\n",
       "    (1): Bottleneck(\n",
       "      (conv1): Conv2d(2048, 512, kernel_size=(1, 1), stride=(1, 1), bias=False)\n",
       "      (bn1): BatchNorm2d(512, eps=1e-05, momentum=0.1, affine=True, track_running_stats=True)\n",
       "      (conv2): Conv2d(512, 512, kernel_size=(3, 3), stride=(1, 1), padding=(1, 1), bias=False)\n",
       "      (bn2): BatchNorm2d(512, eps=1e-05, momentum=0.1, affine=True, track_running_stats=True)\n",
       "      (conv3): Conv2d(512, 2048, kernel_size=(1, 1), stride=(1, 1), bias=False)\n",
       "      (bn3): BatchNorm2d(2048, eps=1e-05, momentum=0.1, affine=True, track_running_stats=True)\n",
       "      (relu): ReLU(inplace=True)\n",
       "    )\n",
       "  )\n",
       "  (avgpool): AdaptiveAvgPool2d(output_size=(1, 1))\n",
       "  (fc): Linear(in_features=2048, out_features=10, bias=True)\n",
       ")"
      ]
     },
     "execution_count": 12,
     "metadata": {},
     "output_type": "execute_result"
    }
   ],
   "source": [
    "# create model\n",
    "torch.cuda.empty_cache()\n",
    "\n",
    "model = model_func()\n",
    "model.cuda()"
   ]
  },
  {
   "cell_type": "markdown",
   "metadata": {
    "pycharm": {
     "name": "#%% md\n"
    }
   },
   "source": [
    "# training parameters"
   ]
  },
  {
   "cell_type": "code",
   "execution_count": 13,
   "metadata": {
    "collapsed": false,
    "jupyter": {
     "outputs_hidden": false
    },
    "pycharm": {
     "name": "#%%\n"
    },
    "tags": [
     "re_run"
    ]
   },
   "outputs": [
    {
     "name": "stdout",
     "output_type": "stream",
     "text": [
      "../tensorboard/cifar10/full_supervised/2020-08-24_10:57:23_wideresnet28_2_1.0S\n"
     ]
    }
   ],
   "source": [
    "# tensorboard\n",
    "tensorboard_title = \"%s_%s_%.1fS\" % (get_datetime(), model_func.__name__, args.supervised_ratio)\n",
    "checkpoint_title = \"%s_%.1fS\" % (model_func.__name__, args.supervised_ratio)\n",
    "tensorboard = SummaryWriter(log_dir=\"%s/%s\" % (args.tensorboard_path, tensorboard_title), comment=model_func.__name__)\n",
    "print(os.path.join(args.tensorboard_path, tensorboard_title))\n",
    "\n",
    "# losses\n",
    "loss_ce = nn.CrossEntropyLoss(reduction=\"mean\")\n",
    "\n",
    "# optimizer\n",
    "optimizer = torch.optim.Adam(model.parameters(), lr=args.learning_rate)\n",
    "\n",
    "# callbacks\n",
    "# https://arxiv.org/pdf/1610.02242.pdf page 11\n",
    "# TODO FIND  A WAY TO DIFFERENTIATE LR SCHEDULER FOR CIFAR10 AND UBS8K\n",
    "# def lr_lambda(e):\n",
    "#     if e < 80:\n",
    "#         phase = 1 - e / 80\n",
    "#         return numpy.exp(-5 * phase**2)\n",
    "    \n",
    "#     elif 80 <= e < args.nb_epoch - 50:\n",
    "#         return 1\n",
    "#     else:\n",
    "#         phase = (args.nb_epoch -e) / 50\n",
    "#         return numpy.exp(-5 * (1 - phase)**2)\n",
    "    \n",
    "lr_lambda = lambda epoch: (1.0 + numpy.cos((epoch-1)*numpy.pi/args.nb_epoch)) * 0.5\n",
    "lr_scheduler = LambdaLR(optimizer, lr_lambda)\n",
    "\n",
    "# Checkpoint\n",
    "checkpoint = CheckPoint(model, optimizer, mode=\"max\", name=\"%s/%s.torch\" % (args.checkpoint_path, checkpoint_title))\n",
    "\n",
    "# Metrics\n",
    "fscore_fn = FScore()\n",
    "acc_fn = CategoricalAccuracy()\n",
    "avg = ContinueAverage()\n",
    "\n",
    "reset_metrics = lambda : [m.reset() for m in [fscore_fn, acc_fn, avg]]\n",
    "\n",
    "def get_lr(optimizer):\n",
    "    for param_group in optimizer.param_groups:\n",
    "        return param_group['lr']"
   ]
  },
  {
   "cell_type": "code",
   "execution_count": 14,
   "metadata": {},
   "outputs": [],
   "source": [
    "# import numpy as np\n",
    "# import matplotlib.pyplot as plt\n",
    "\n",
    "# def lr_lambda(e):\n",
    "#     if e < 80:\n",
    "#         phase = 1 - e / 80\n",
    "#         return np.exp(-5 * phase**2)\n",
    "    \n",
    "#     elif 80 <= e < args.nb_epoch - 50:\n",
    "#         return 1\n",
    "#     else:\n",
    "#         phase = (args.nb_epoch -e) / 50\n",
    "#         return np.exp(-5 * (1 - phase)**2)\n",
    "\n",
    "# x = np.linspace(0, 300, 300)\n",
    "# y = [args.learning_rate * lr_lambda(x_) for x_ in x]\n",
    "\n",
    "# plt.plot(x, y)\n",
    "# plt.show()"
   ]
  },
  {
   "cell_type": "code",
   "execution_count": 15,
   "metadata": {
    "tags": [
     "re_run"
    ]
   },
   "outputs": [],
   "source": [
    "def maximum():\n",
    "    def func(key, value):\n",
    "        if key not in func.max:\n",
    "            func.max[key] = value\n",
    "        else:\n",
    "            if func.max[key] < value:\n",
    "                func.max[key] = value\n",
    "        return func.max[key]\n",
    "\n",
    "    func.max = dict()\n",
    "    return func\n",
    "maximum_fn = maximum()"
   ]
  },
  {
   "cell_type": "markdown",
   "metadata": {
    "pycharm": {
     "name": "#%% md\n"
    }
   },
   "source": [
    "## Can resume previous training"
   ]
  },
  {
   "cell_type": "code",
   "execution_count": 16,
   "metadata": {
    "pycharm": {
     "name": "#%%\n"
    }
   },
   "outputs": [],
   "source": [
    "if args.resume:\n",
    "    checkpoint.load_last()"
   ]
  },
  {
   "cell_type": "markdown",
   "metadata": {
    "pycharm": {
     "name": "#%% md\n"
    }
   },
   "source": [
    "## training function"
   ]
  },
  {
   "cell_type": "code",
   "execution_count": 17,
   "metadata": {
    "collapsed": false,
    "jupyter": {
     "outputs_hidden": false
    },
    "pycharm": {
     "name": "#%%\n"
    },
    "tags": [
     "re_run"
    ]
   },
   "outputs": [
    {
     "name": "stdout",
     "output_type": "stream",
     "text": [
      "         Epoch  - %      - Losses:  ce     - metrics:  acc         | F1       - Time  \n"
     ]
    }
   ],
   "source": [
    "UNDERLINE_SEQ = \"\\033[1;4m\"\n",
    "RESET_SEQ = \"\\033[0m\"\n",
    "\n",
    "\n",
    "header_form = \"{:<8.8} {:<6.6} - {:<6.6} - {:<8.8} {:<6.6} - {:<9.9} {:<12.12}| {:<9.9}- {:<6.6}\"\n",
    "value_form  = \"{:<8.8} {:<6} - {:<6} - {:<8.8} {:<6.4f} - {:<9.9} {:<10.4f}| {:<9.4f}- {:<6.4f}\"\n",
    "\n",
    "header = header_form.format(\n",
    "    \"\", \"Epoch\", \"%\", \"Losses:\", \"ce\", \"metrics: \", \"acc\", \"F1 \",\"Time\"\n",
    ")\n",
    "\n",
    "\n",
    "train_form = value_form\n",
    "val_form = UNDERLINE_SEQ + value_form + RESET_SEQ\n",
    "\n",
    "print(header)"
   ]
  },
  {
   "cell_type": "code",
   "execution_count": 18,
   "metadata": {
    "tags": [
     "re_run"
    ]
   },
   "outputs": [],
   "source": [
    "def train(epoch):\n",
    "    start_time = time.time()\n",
    "    print(\"\")\n",
    "\n",
    "    reset_metrics()\n",
    "    model.train()\n",
    "\n",
    "    for i, (X, y) in enumerate(train_loader):\n",
    "        optimizer.zero_grad()\n",
    "        \n",
    "        X = X.cuda()\n",
    "        y = y.cuda()\n",
    "\n",
    "        with autocast():\n",
    "            logits = model(X)        \n",
    "            loss = loss_ce(logits, y)\n",
    "\n",
    "        loss.backward()\n",
    "        optimizer.step()\n",
    "\n",
    "        with torch.set_grad_enabled(False):\n",
    "            pred = torch.softmax(logits, dim=1)\n",
    "            pred_arg = torch.argmax(logits, dim=1)\n",
    "            y_one_hot = F.one_hot(y, num_classes=10)\n",
    "\n",
    "            acc = acc_fn(pred_arg, y).mean\n",
    "            fscore = fscore_fn(pred, y_one_hot).mean\n",
    "            avg_ce = avg(loss.item()).mean\n",
    "\n",
    "            # logs\n",
    "            print(train_form.format(\n",
    "                \"Training: \",\n",
    "                epoch + 1,\n",
    "                int(100 * (i + 1) / len(train_loader)),\n",
    "                \"\", avg_ce,\n",
    "                \"\", acc, fscore,\n",
    "                time.time() - start_time\n",
    "            ), end=\"\\r\")\n",
    "\n",
    "    tensorboard.add_scalar(\"train/Lce\", avg_ce, epoch)\n",
    "    tensorboard.add_scalar(\"train/f1\", fscore, epoch)\n",
    "    tensorboard.add_scalar(\"train/acc\", acc, epoch)"
   ]
  },
  {
   "cell_type": "code",
   "execution_count": 19,
   "metadata": {
    "collapsed": false,
    "jupyter": {
     "outputs_hidden": false
    },
    "pycharm": {
     "name": "#%%\n"
    },
    "tags": [
     "re_run"
    ]
   },
   "outputs": [],
   "source": [
    "def val(epoch):\n",
    "    start_time = time.time()\n",
    "    print(\"\")\n",
    "    reset_metrics()\n",
    "    model.eval()\n",
    "\n",
    "    for i, (X, y) in enumerate(val_loader):\n",
    "        X = X.cuda()\n",
    "        y = y.cuda()\n",
    "\n",
    "        with autocast():\n",
    "            logits = model(X)\n",
    "            loss = loss_ce(logits, y)\n",
    "\n",
    "        with torch.set_grad_enabled(False):\n",
    "            pred = torch.softmax(logits, dim=1)\n",
    "            pred_arg = torch.argmax(logits, dim=1)\n",
    "            y_one_hot = F.one_hot(y, num_classes=10)\n",
    "\n",
    "            acc = acc_fn(pred_arg, y).mean\n",
    "            fscore = fscore_fn(pred, y_one_hot).mean\n",
    "            avg_ce = avg(loss.item()).mean\n",
    "\n",
    "            # logs\n",
    "            print(val_form.format(\n",
    "                \"Validation: \",\n",
    "                epoch + 1,\n",
    "                int(100 * (i + 1) / len(val_loader)),\n",
    "                \"\", avg_ce,\n",
    "                \"\", acc, fscore,\n",
    "                time.time() - start_time\n",
    "            ), end=\"\\r\")\n",
    "\n",
    "    tensorboard.add_scalar(\"val/Lce\", avg_ce, epoch)\n",
    "    tensorboard.add_scalar(\"val/f1\", fscore, epoch)\n",
    "    tensorboard.add_scalar(\"val/acc\", acc, epoch)\n",
    "    \n",
    "    tensorboard.add_scalar(\"hyperparameters/learning_rate\", get_lr(optimizer), epoch)\n",
    "    \n",
    "    tensorboard.add_scalar(\"max/acc\", maximum_fn(\"acc\", acc), epoch )\n",
    "    tensorboard.add_scalar(\"max/f1\", maximum_fn(\"f1\", fscore), epoch )\n",
    "\n",
    "    checkpoint.step(acc)\n",
    "    lr_scheduler.step()"
   ]
  },
  {
   "cell_type": "code",
   "execution_count": null,
   "metadata": {
    "collapsed": false,
    "jupyter": {
     "outputs_hidden": false
    },
    "pycharm": {
     "name": "#%%\n"
    },
    "tags": [
     "re_run"
    ]
   },
   "outputs": [
    {
     "name": "stdout",
     "output_type": "stream",
     "text": [
      "         Epoch  - %      - Losses:  ce     - metrics:  acc         | F1       - Time  \n",
      "\n",
      "Training 1      - 100    -          1.9844 -           0.3457    | 0.1725   - 22.0921\n",
      "\u001b[1;4mValidati 1      - 100    -          1.7628 -           0.3715    | 0.2438   - 1.3201\u001b[0m\n",
      " better performance: saving ...\n",
      "\n",
      "Training 2      - 100    -          1.6942 -           0.4059    | 0.2605   - 24.5734\n",
      "\u001b[1;4mValidati 2      - 100    -          1.8994 -           0.4658    | 0.3767   - 1.3241\u001b[0m\n",
      " better performance: saving ...\n",
      "\n",
      "Training 3      - 100    -          1.5477 -           0.4526    | 0.3376   - 22.5512\n",
      "\u001b[1;4mValidati 3      - 100    -          1.5168 -           0.5203    | 0.4457   - 1.3371\u001b[0m\n",
      " better performance: saving ...\n",
      "\n",
      "Training 4      - 100    -          1.3424 -           0.5226    | 0.4566   - 22.3155\n",
      "\u001b[1;4mValidati 4      - 100    -          3.6770 -           0.4548    | 0.3558   - 1.2937\u001b[0m\n",
      "Training 5      - 100    -          1.2582 -           0.5530    | 0.4984   - 24.8970\n",
      "\u001b[1;4mValidati 5      - 100    -          1.1560 -           0.6004    | 0.5552   - 1.3393\u001b[0m\n",
      " better performance: saving ...\n",
      "\n",
      "Training 6      - 100    -          1.1152 -           0.6038    | 0.5692   - 22.4471\n",
      "\u001b[1;4mValidati 6      - 100    -          1.0740 -           0.6320    | 0.6073   - 1.3665\u001b[0m\n",
      " better performance: saving ...\n",
      "\n",
      "Training 7      - 100    -          1.0313 -           0.6352    | 0.6094   - 24.7366\n",
      "\u001b[1;4mValidati 7      - 100    -          0.9444 -           0.6661    | 0.6573   - 1.3767\u001b[0m\n",
      " better performance: saving ...\n",
      "\n",
      "Training 8      - 100    -          0.9687 -           0.6583    | 0.6395   - 22.4104\n",
      "\u001b[1;4mValidati 8      - 100    -          0.9519 -           0.6754    | 0.6615   - 1.3302\u001b[0m\n",
      " better performance: saving ...\n",
      "\n",
      "Training 9      - 100    -          0.8896 -           0.6863    | 0.6738   - 22.3459\n",
      "\u001b[1;4mValidati 9      - 100    -          0.8281 -           0.7124    | 0.7026   - 1.3373\u001b[0m\n",
      " better performance: saving ...\n",
      "\n",
      "Training 10     - 100    -          0.8304 -           0.7095    | 0.7003   - 22.5878\n",
      "\u001b[1;4mValidati 10     - 100    -          0.7945 -           0.7247    | 0.7192   - 1.5089\u001b[0m\n",
      " better performance: saving ...\n",
      "\n",
      "Training 11     - 100    -          0.7900 -           0.7228    | 0.7162   - 24.9904\n",
      "\u001b[1;4mValidati 11     - 100    -          0.8193 -           0.7170    | 0.7162   - 1.3510\u001b[0m\n",
      "Training 12     - 100    -          0.7508 -           0.7368    | 0.7321   - 24.8888\n",
      "\u001b[1;4mValidati 12     - 100    -          0.7674 -           0.7326    | 0.7364   - 1.3674\u001b[0m\n",
      " better performance: saving ...\n",
      "\n",
      "Training 13     - 100    -          0.7086 -           0.7537    | 0.7486   - 24.6818\n",
      "\u001b[1;4mValidati 13     - 100    -          0.7320 -           0.7518    | 0.7517   - 1.3360\u001b[0m\n",
      " better performance: saving ...\n",
      "\n",
      "Training 14     - 100    -          0.6797 -           0.7630    | 0.7597   - 22.9323\n",
      "\u001b[1;4mValidati 14     - 100    -          0.6350 -           0.7878    | 0.7848   - 1.3514\u001b[0m\n",
      " better performance: saving ...\n",
      "\n",
      "Training 15     - 100    -          0.6548 -           0.7722    | 0.7698   - 24.9047\n",
      "\u001b[1;4mValidati 15     - 100    -          0.6751 -           0.7700    | 0.7665   - 1.3737\u001b[0m\n",
      "Training 16     - 100    -          0.6284 -           0.7820    | 0.7809   - 23.0127\n",
      "\u001b[1;4mValidati 16     - 100    -          0.6415 -           0.7807    | 0.7777   - 1.3630\u001b[0m\n",
      "Training 17     - 100    -          0.6031 -           0.7906    | 0.7898   - 22.6847\n",
      "\u001b[1;4mValidati 17     - 100    -          0.6639 -           0.7737    | 0.7768   - 1.3128\u001b[0m\n",
      "Training 18     - 100    -          0.5833 -           0.7977    | 0.7968   - 24.6547\n",
      "\u001b[1;4mValidati 18     - 100    -          0.5973 -           0.7988    | 0.7991   - 1.5094\u001b[0m\n",
      " better performance: saving ...\n",
      "\n",
      "Training 19     - 100    -          0.5691 -           0.8036    | 0.8026   - 22.5886\n",
      "\u001b[1;4mValidati 19     - 100    -          0.6749 -           0.7753    | 0.7762   - 1.3309\u001b[0m\n",
      "Training 20     - 100    -          0.5537 -           0.8083    | 0.8085   - 22.6758\n",
      "\u001b[1;4mValidati 20     - 100    -          0.5882 -           0.7995    | 0.7999   - 1.3356\u001b[0m\n",
      " better performance: saving ...\n",
      "\n",
      "Training 21     - 100    -          0.5592 -           0.8053    | 0.8050   - 22.8355\n",
      "\u001b[1;4mValidati 21     - 100    -          0.5772 -           0.8022    | 0.8033   - 1.3531\u001b[0m\n",
      " better performance: saving ...\n",
      "\n",
      "Training 22     - 100    -          0.5224 -           0.8201    | 0.8199   - 22.8283\n",
      "\u001b[1;4mValidati 22     - 100    -          0.5775 -           0.8013    | 0.8060   - 1.3565\u001b[0m\n",
      "Training 23     - 100    -          0.5065 -           0.8235    | 0.8235   - 25.1675\n",
      "\u001b[1;4mValidati 23     - 100    -          0.5403 -           0.8199    | 0.8185   - 1.5451\u001b[0m\n",
      " better performance: saving ...\n",
      "\n",
      "Training 24     - 100    -          0.4791 -           0.8315    | 0.8324   - 22.7156\n",
      "\u001b[1;4mValidati 24     - 100    -          0.5551 -           0.8111    | 0.8133   - 1.3779\u001b[0m\n",
      "Training 25     - 100    -          0.4632 -           0.8390    | 0.8394   - 24.6362\n",
      "\u001b[1;4mValidati 25     - 100    -          0.5585 -           0.8107    | 0.8158   - 1.5535\u001b[0m\n",
      "Training 26     - 100    -          0.4588 -           0.8407    | 0.8414   - 24.9276\n",
      "\u001b[1;4mValidati 26     - 100    -          0.5739 -           0.8152    | 0.8185   - 1.3819\u001b[0m\n",
      "Training 27     - 100    -          0.4735 -           0.8364    | 0.8367   - 24.6246\n",
      "\u001b[1;4mValidati 27     - 100    -          0.5427 -           0.8224    | 0.8220   - 1.4268\u001b[0m\n",
      " better performance: saving ...\n",
      "\n",
      "Training 28     - 100    -          0.4385 -           0.8482    | 0.8500   - 23.9038\n",
      "\u001b[1;4mValidati 28     - 100    -          0.5522 -           0.8204    | 0.8219   - 1.3504\u001b[0m\n",
      "Training 29     - 100    -          0.4220 -           0.8516    | 0.8532   - 22.4468\n",
      "\u001b[1;4mValidati 29     - 100    -          0.5542 -           0.8203    | 0.8225   - 1.3387\u001b[0m\n",
      "Training 30     - 100    -          0.4063 -           0.8575    | 0.8582   - 23.8261\n",
      "\u001b[1;4mValidati 30     - 100    -          0.5199 -           0.8280    | 0.8306   - 1.3780\u001b[0m\n",
      " better performance: saving ...\n",
      "\n",
      "Training 31     - 100    -          0.4057 -           0.8596    | 0.8605   - 23.7186\n",
      "\u001b[1;4mValidati 31     - 100    -          0.5112 -           0.8343    | 0.8353   - 1.3864\u001b[0m\n",
      " better performance: saving ...\n",
      "\n",
      "Training 32     - 100    -          0.3877 -           0.8654    | 0.8660   - 22.5135\n",
      "\u001b[1;4mValidati 32     - 100    -          0.5319 -           0.8261    | 0.8277   - 1.3352\u001b[0m\n",
      "Training 33     - 100    -          0.3755 -           0.8689    | 0.8704   - 24.7133\n",
      "\u001b[1;4mValidati 33     - 100    -          0.5066 -           0.8352    | 0.8388   - 1.3766\u001b[0m\n",
      " better performance: saving ...\n",
      "\n",
      "Training 34     - 100    -          0.4008 -           0.8627    | 0.8635   - 24.4516\n",
      "\u001b[1;4mValidati 34     - 100    -          0.5756 -           0.8157    | 0.8193   - 1.4264\u001b[0m\n",
      "Training 35     - 100    -          0.3595 -           0.8730    | 0.8741   - 24.7063\n",
      "\u001b[1;4mValidati 35     - 100    -          0.5289 -           0.8315    | 0.8338   - 1.4261\u001b[0m\n",
      "Training 36     - 100    -          0.3957 -           0.8635    | 0.8647   - 22.4148\n",
      "\u001b[1;4mValidati 36     - 100    -          0.5001 -           0.8386    | 0.8408   - 1.3350\u001b[0m\n",
      " better performance: saving ...\n",
      "\n",
      "Training 37     - 100    -          0.3565 -           0.8742    | 0.8761   - 22.5478\n",
      "\u001b[1;4mValidati 37     - 100    -          0.4892 -           0.8395    | 0.8441   - 1.3467\u001b[0m\n",
      " better performance: saving ...\n",
      "\n",
      "Training 38     - 100    -          0.3330 -           0.8838    | 0.8853   - 24.4328\n",
      "\u001b[1;4mValidati 38     - 100    -          0.5048 -           0.8413    | 0.8429   - 1.3927\u001b[0m\n",
      " better performance: saving ...\n",
      "\n",
      "Training 39     - 100    -          0.3409 -           0.8814    | 0.8824   - 24.9270\n",
      "\u001b[1;4mValidati 39     - 100    -          0.5055 -           0.8425    | 0.8440   - 1.3866\u001b[0m\n",
      " better performance: saving ...\n",
      "\n",
      "Training 40     - 100    -          0.4409 -           0.8501    | 0.8513   - 22.4519\n",
      "\u001b[1;4mValidati 40     - 100    -          0.9278 -           0.7371    | 0.7404   - 1.3349\u001b[0m\n",
      "Training 41     - 100    -          0.3519 -           0.8760    | 0.8775   - 24.9020\n",
      "\u001b[1;4mValidati 41     - 100    -          0.4926 -           0.8441    | 0.8473   - 1.4255\u001b[0m\n",
      " better performance: saving ...\n",
      "\n",
      "Training 42     - 100    -          0.3072 -           0.8907    | 0.8921   - 22.5017\n",
      "\u001b[1;4mValidati 42     - 100    -          0.5163 -           0.8391    | 0.8411   - 1.3744\u001b[0m\n",
      "Training 43     - 100    -          0.2986 -           0.8935    | 0.8944   - 22.7347\n",
      "\u001b[1;4mValidati 43     - 100    -          0.5015 -           0.8434    | 0.8466   - 1.3345\u001b[0m\n",
      "Training 44     - 100    -          0.2923 -           0.8979    | 0.8988   - 22.8024\n",
      "\u001b[1;4mValidati 44     - 100    -          0.5310 -           0.8367    | 0.8382   - 1.5317\u001b[0m\n",
      "Training 45     - 100    -          0.2877 -           0.8975    | 0.8989   - 22.5693\n",
      "\u001b[1;4mValidati 45     - 100    -          0.5534 -           0.8314    | 0.8336   - 1.4158\u001b[0m\n",
      "Training 46     - 100    -          0.2869 -           0.8999    | 0.9008   - 22.6260\n",
      "\u001b[1;4mValidati 46     - 100    -          0.5401 -           0.8387    | 0.8416   - 1.3952\u001b[0m\n",
      "Training 47     - 100    -          0.3301 -           0.8851    | 0.8858   - 22.5014\n",
      "\u001b[1;4mValidati 47     - 100    -          0.5395 -           0.8352    | 0.8366   - 1.3359\u001b[0m\n",
      "Training 48     - 100    -          0.2911 -           0.8983    | 0.9001   - 23.3418\n",
      "\u001b[1;4mValidati 48     - 100    -          0.5069 -           0.8427    | 0.8449   - 1.3537\u001b[0m\n",
      "Training 49     - 100    -          0.4010 -           0.8645    | 0.8646   - 24.4756\n",
      "\u001b[1;4mValidati 49     - 100    -          0.5224 -           0.8336    | 0.8367   - 1.4700\u001b[0m\n",
      "Training 50     - 100    -          0.2884 -           0.8988    | 0.8994   - 23.5950\n",
      "\u001b[1;4mValidati 50     - 100    -          0.4921 -           0.8483    | 0.8512   - 1.3963\u001b[0m\n",
      " better performance: saving ...\n",
      "\n",
      "Training 51     - 100    -          0.2597 -           0.9078    | 0.9090   - 24.2009\n",
      "\u001b[1;4mValidati 51     - 100    -          0.4976 -           0.8483    | 0.8499   - 1.4442\u001b[0m\n",
      "Training 52     - 100    -          0.2476 -           0.9116    | 0.9127   - 24.0677\n",
      "\u001b[1;4mValidati 52     - 100    -          0.5145 -           0.8470    | 0.8492   - 1.5519\u001b[0m\n",
      "Training 53     - 26     -          0.2299 -           0.9185    | 0.9214   - 5.7624\r"
     ]
    }
   ],
   "source": [
    "print(header)\n",
    "\n",
    "start_epoch = checkpoint.epoch_counter\n",
    "end_epoch = args.nb_epoch\n",
    "\n",
    "for e in range(start_epoch, args.nb_epoch):\n",
    "    train(e)\n",
    "    val(e)"
   ]
  },
  {
   "cell_type": "code",
   "execution_count": null,
   "metadata": {
    "tags": [
     "re_run"
    ]
   },
   "outputs": [],
   "source": [
    "tensorboard.flush()\n",
    "tensorboard.close()"
   ]
  },
  {
   "cell_type": "markdown",
   "metadata": {},
   "source": [
    "# ♫♪.ılılıll|̲̅̅●̲̅̅|̲̅̅=̲̅̅|̲̅̅●̲̅̅|llılılı.♫♪"
   ]
  },
  {
   "cell_type": "code",
   "execution_count": null,
   "metadata": {
    "pycharm": {
     "is_executing": false,
     "name": "#%%\n"
    }
   },
   "outputs": [],
   "source": []
  }
 ],
 "metadata": {
  "kernelspec": {
   "display_name": "dct",
   "language": "python",
   "name": "dct"
  },
  "language_info": {
   "codemirror_mode": {
    "name": "ipython",
    "version": 3
   },
   "file_extension": ".py",
   "mimetype": "text/x-python",
   "name": "python",
   "nbconvert_exporter": "python",
   "pygments_lexer": "ipython3",
   "version": "3.8.0"
  }
 },
 "nbformat": 4,
 "nbformat_minor": 4
}
