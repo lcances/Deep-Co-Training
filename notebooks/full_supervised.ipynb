{
 "cells": [
  {
   "cell_type": "markdown",
   "metadata": {
    "jupyter": {
     "outputs_hidden": true
    }
   },
   "source": [
    "# import"
   ]
  },
  {
   "cell_type": "code",
   "execution_count": 4,
   "metadata": {},
   "outputs": [],
   "source": [
    "%load_ext autoreload\n",
    "%autoreload 2"
   ]
  },
  {
   "cell_type": "code",
   "execution_count": 5,
   "metadata": {},
   "outputs": [],
   "source": [
    "import os\n",
    "os.environ[\"MKL_NUM_THREADS\"] = \"2\"\n",
    "os.environ[\"NUMEXPR_NU M_THREADS\"] = \"2\"\n",
    "os.environ[\"OMP_NUM_THREADS\"] = \"2\"\n",
    "import time\n",
    "\n",
    "import numpy\n",
    "import torch\n",
    "import torch.nn as nn\n",
    "import torch.utils.data as data\n",
    "import torch.nn.functional as F\n",
    "import torchvision.transforms as transforms\n",
    "from torch.cuda.amp import autocast\n",
    "\n",
    "from torch.optim.lr_scheduler import LambdaLR\n",
    "from torch.utils.tensorboard import SummaryWriter"
   ]
  },
  {
   "cell_type": "code",
   "execution_count": 6,
   "metadata": {},
   "outputs": [],
   "source": [
    "from ubs8k.datasetManager import DatasetManager\n",
    "from ubs8k.datasets import Dataset\n",
    "\n",
    "from DCT.util.utils import reset_seed, get_datetime, get_model_from_name, load_dataset\n",
    "from DCT.util.checkpoint import CheckPoint\n",
    "from metric_utils.metrics import CategoricalAccuracy, FScore, ContinueAverage"
   ]
  },
  {
   "cell_type": "markdown",
   "metadata": {
    "pycharm": {
     "name": "#%% md\n"
    }
   },
   "source": [
    "# Arguments"
   ]
  },
  {
   "cell_type": "code",
   "execution_count": 7,
   "metadata": {
    "collapsed": false,
    "jupyter": {
     "outputs_hidden": false
    },
    "pycharm": {
     "name": "#%%\n"
    },
    "tags": [
     "re_run"
    ]
   },
   "outputs": [],
   "source": [
    "import argparse\n",
    "parser = argparse.ArgumentParser()\n",
    "parser.add_argument(\"-d\", \"--dataset_root\", default=\"../datasets\", type=str)\n",
    "parser.add_argument(\"-D\", \"--dataset\", default=\"cifar10\", type=str, help=\"available [ubs8k | cifar10]\")\n",
    "\n",
    "parser.add_argument(\"--supervised_ratio\", default=1.0, type=float)\n",
    "parser.add_argument(\"-t\", \"--train_folds\", nargs=\"+\", default=[1, 2, 3, 4, 5, 6, 7, 8, 9], type=int)\n",
    "parser.add_argument(\"-v\", \"--val_folds\", nargs=\"+\", default=[10], type=int)\n",
    "\n",
    "parser.add_argument(\"--model\", default=\"Pmodel\", type=str)\n",
    "parser.add_argument(\"--batch_size\", default=100, type=int)\n",
    "parser.add_argument(\"--nb_epoch\", default=100, type=int)\n",
    "parser.add_argument(\"--learning_rate\", default=0.003, type=int)\n",
    "\n",
    "parser.add_argument(\"--checkpoint_path\", default=\"../model_save/ubs8k/full_supervised\", type=str)\n",
    "parser.add_argument(\"--resume\", action=\"store_true\", default=False)\n",
    "parser.add_argument(\"--tensorboard_path\", default=\"../tensorboard/ubs8k/full_supervised\", type=str)\n",
    "parser.add_argument(\"--tensorboard_sufix\", default=\"\", type=str)\n",
    "\n",
    "args = parser.parse_args(\"\")"
   ]
  },
  {
   "cell_type": "code",
   "execution_count": 8,
   "metadata": {
    "tags": [
     "re_run"
    ]
   },
   "outputs": [
    {
     "data": {
      "text/plain": [
       "Namespace(batch_size=100, checkpoint_path='../model_save/cifar10/full_supervised', dataset='cifar10', dataset_root='../datasets', learning_rate=0.003, model='Pmodel', nb_epoch=100, resume=False, supervised_ratio=1.0, tensorboard_path='../tensorboard/cifar10/full_supervised', tensorboard_sufix='', train_folds=[1, 2, 3, 4, 5, 6, 7, 8, 9], val_folds=[10])"
      ]
     },
     "execution_count": 8,
     "metadata": {},
     "output_type": "execute_result"
    }
   ],
   "source": [
    "# modify checkpoint and tensorboard path to fit the dataset\n",
    "checkpoint_path_ = args.checkpoint_path.split(\"/\")\n",
    "tensorboard_path_ = args.tensorboard_path.split(\"/\")\n",
    "\n",
    "checkpoint_path_[2] = args.dataset\n",
    "tensorboard_path_[2] = args.dataset\n",
    "\n",
    "args.checkpoint_path = \"/\".join(checkpoint_path_)\n",
    "args.tensorboard_path = \"/\".join(tensorboard_path_)\n",
    "args"
   ]
  },
  {
   "cell_type": "markdown",
   "metadata": {
    "pycharm": {
     "name": "#%% md\n"
    }
   },
   "source": [
    "# initialisation"
   ]
  },
  {
   "cell_type": "code",
   "execution_count": 9,
   "metadata": {
    "collapsed": false,
    "jupyter": {
     "outputs_hidden": false
    },
    "pycharm": {
     "name": "#%%\n"
    },
    "tags": [
     "re_run"
    ]
   },
   "outputs": [],
   "source": [
    "reset_seed(1234)\n"
   ]
  },
  {
   "cell_type": "markdown",
   "metadata": {
    "pycharm": {
     "name": "#%% md\n"
    }
   },
   "source": [
    "# Prepare the dataset"
   ]
  },
  {
   "cell_type": "code",
   "execution_count": 10,
   "metadata": {
    "collapsed": false,
    "jupyter": {
     "outputs_hidden": false
    },
    "pycharm": {
     "name": "#%%\n"
    }
   },
   "outputs": [
    {
     "name": "stdout",
     "output_type": "stream",
     "text": [
      "Files already downloaded and verified\n",
      "Files already downloaded and verified\n"
     ]
    }
   ],
   "source": [
    "extra_train_transforms = [\n",
    "    transforms.RandomCrop(32, padding=4),\n",
    "    transforms.RandomHorizontalFlip(),\n",
    "]\n",
    "\n",
    "manager, train_loader, val_loader = load_dataset(\n",
    "    args.dataset,\n",
    "    \"supervised\",\n",
    "    dataset_root = args.dataset_root,\n",
    "    supervised_ratio = args.supervised_ratio,\n",
    "    batch_size = args.batch_size,\n",
    "    train_folds = args.train_folds,\n",
    "    val_folds = args.val_folds,\n",
    "    verbose = 2\n",
    ")"
   ]
  },
  {
   "cell_type": "markdown",
   "metadata": {},
   "source": [
    "# Prep model"
   ]
  },
  {
   "cell_type": "code",
   "execution_count": 11,
   "metadata": {
    "scrolled": true,
    "tags": [
     "re_run"
    ]
   },
   "outputs": [],
   "source": [
    "torch.cuda.empty_cache()\n",
    "\n",
    "model_func = get_model_from_name(args.model)\n",
    "model = model_func()\n",
    "model = model.cuda()\n"
   ]
  },
  {
   "cell_type": "code",
   "execution_count": 12,
   "metadata": {},
   "outputs": [
    {
     "name": "stdout",
     "output_type": "stream",
     "text": [
      "=============================================================================================\n",
      "                                      Kernel Shape       Output Shape  \\\n",
      "Layer                                                                   \n",
      "0_features.Conv2d_0                 [3, 128, 3, 3]  [64, 128, 32, 32]   \n",
      "1_features.BatchNorm2d_1                     [128]  [64, 128, 32, 32]   \n",
      "2_features.LeakyReLU_2                           -  [64, 128, 32, 32]   \n",
      "3_features.Conv2d_3               [128, 128, 3, 3]  [64, 128, 32, 32]   \n",
      "4_features.BatchNorm2d_4                     [128]  [64, 128, 32, 32]   \n",
      "5_features.LeakyReLU_5                           -  [64, 128, 32, 32]   \n",
      "6_features.Conv2d_6               [128, 128, 3, 3]  [64, 128, 32, 32]   \n",
      "7_features.BatchNorm2d_7                     [128]  [64, 128, 32, 32]   \n",
      "8_features.LeakyReLU_8                           -  [64, 128, 32, 32]   \n",
      "9_features.MaxPool2d_9                           -  [64, 128, 16, 16]   \n",
      "10_features.Dropout2d_10                         -  [64, 128, 16, 16]   \n",
      "11_features.Conv2d_11             [128, 256, 3, 3]  [64, 256, 16, 16]   \n",
      "12_features.BatchNorm2d_12                   [256]  [64, 256, 16, 16]   \n",
      "13_features.LeakyReLU_13                         -  [64, 256, 16, 16]   \n",
      "14_features.Conv2d_14             [256, 256, 3, 3]  [64, 256, 16, 16]   \n",
      "15_features.BatchNorm2d_15                   [256]  [64, 256, 16, 16]   \n",
      "16_features.LeakyReLU_16                         -  [64, 256, 16, 16]   \n",
      "17_features.Conv2d_17             [256, 256, 3, 3]  [64, 256, 16, 16]   \n",
      "18_features.BatchNorm2d_18                   [256]  [64, 256, 16, 16]   \n",
      "19_features.LeakyReLU_19                         -  [64, 256, 16, 16]   \n",
      "20_features.MaxPool2d_20                         -    [64, 256, 8, 8]   \n",
      "21_features.Dropout2d_21                         -    [64, 256, 8, 8]   \n",
      "22_features.Conv2d_22             [256, 512, 3, 3]    [64, 512, 6, 6]   \n",
      "23_features.BatchNorm2d_23                   [512]    [64, 512, 6, 6]   \n",
      "24_features.LeakyReLU_24                         -    [64, 512, 6, 6]   \n",
      "25_features.Conv2d_25             [512, 256, 1, 1]    [64, 256, 6, 6]   \n",
      "26_features.BatchNorm2d_26                   [256]    [64, 256, 6, 6]   \n",
      "27_features.LeakyReLU_27                         -    [64, 256, 6, 6]   \n",
      "28_features.Conv2d_28             [256, 128, 1, 1]    [64, 128, 6, 6]   \n",
      "29_features.BatchNorm2d_29                   [128]    [64, 128, 6, 6]   \n",
      "30_features.LeakyReLU_30                         -    [64, 128, 6, 6]   \n",
      "31_features.AdaptiveAvgPool2d_31                 -    [64, 128, 1, 1]   \n",
      "32_classifier.Flatten_0                          -          [64, 128]   \n",
      "33_classifier.BatchNorm1d_1                  [128]          [64, 128]   \n",
      "34_classifier.Linear_2                   [128, 10]           [64, 10]   \n",
      "\n",
      "                                    Params    Mult-Adds  \n",
      "Layer                                                    \n",
      "0_features.Conv2d_0                 3.584k    3.538944M  \n",
      "1_features.BatchNorm2d_1             256.0        128.0  \n",
      "2_features.LeakyReLU_2                   -            -  \n",
      "3_features.Conv2d_3               147.584k  150.994944M  \n",
      "4_features.BatchNorm2d_4             256.0        128.0  \n",
      "5_features.LeakyReLU_5                   -            -  \n",
      "6_features.Conv2d_6               147.584k  150.994944M  \n",
      "7_features.BatchNorm2d_7             256.0        128.0  \n",
      "8_features.LeakyReLU_8                   -            -  \n",
      "9_features.MaxPool2d_9                   -            -  \n",
      "10_features.Dropout2d_10                 -            -  \n",
      "11_features.Conv2d_11             295.168k   75.497472M  \n",
      "12_features.BatchNorm2d_12           512.0        256.0  \n",
      "13_features.LeakyReLU_13                 -            -  \n",
      "14_features.Conv2d_14              590.08k  150.994944M  \n",
      "15_features.BatchNorm2d_15           512.0        256.0  \n",
      "16_features.LeakyReLU_16                 -            -  \n",
      "17_features.Conv2d_17              590.08k  150.994944M  \n",
      "18_features.BatchNorm2d_18           512.0        256.0  \n",
      "19_features.LeakyReLU_19                 -            -  \n",
      "20_features.MaxPool2d_20                 -            -  \n",
      "21_features.Dropout2d_21                 -            -  \n",
      "22_features.Conv2d_22             1.18016M   42.467328M  \n",
      "23_features.BatchNorm2d_23          1.024k        512.0  \n",
      "24_features.LeakyReLU_24                 -            -  \n",
      "25_features.Conv2d_25             131.328k    4.718592M  \n",
      "26_features.BatchNorm2d_26           512.0        256.0  \n",
      "27_features.LeakyReLU_27                 -            -  \n",
      "28_features.Conv2d_28              32.896k    1.179648M  \n",
      "29_features.BatchNorm2d_29           256.0        128.0  \n",
      "30_features.LeakyReLU_30                 -            -  \n",
      "31_features.AdaptiveAvgPool2d_31         -            -  \n",
      "32_classifier.Flatten_0                  -            -  \n",
      "33_classifier.BatchNorm1d_1          256.0        128.0  \n",
      "34_classifier.Linear_2               1.29k        1.28k  \n",
      "---------------------------------------------------------------------------------------------\n",
      "                           Totals\n",
      "Total params            3.124106M\n",
      "Trainable params        3.124106M\n",
      "Non-trainable params          0.0\n",
      "Mult-Adds             731.385216M\n",
      "=============================================================================================\n"
     ]
    }
   ],
   "source": [
    "from torchsummaryX import summary\n",
    "input_tensor = torch.zeros((64, 3, 32, 32), dtype=torch.float)\n",
    "input_tensor = input_tensor.cuda()\n",
    "\n",
    "s = summary(model, input_tensor)\n"
   ]
  },
  {
   "cell_type": "markdown",
   "metadata": {},
   "source": [
    "## Prep training"
   ]
  },
  {
   "cell_type": "code",
   "execution_count": 13,
   "metadata": {
    "scrolled": true
   },
   "outputs": [
    {
     "data": {
      "text/plain": [
       "Pmodel(\n",
       "  (features): Sequential(\n",
       "    (0): Conv2d(3, 128, kernel_size=(3, 3), stride=(1, 1), padding=(1, 1))\n",
       "    (1): BatchNorm2d(128, eps=1e-05, momentum=0.999, affine=True, track_running_stats=True)\n",
       "    (2): LeakyReLU(negative_slope=0.1)\n",
       "    (3): Conv2d(128, 128, kernel_size=(3, 3), stride=(1, 1), padding=(1, 1))\n",
       "    (4): BatchNorm2d(128, eps=1e-05, momentum=0.999, affine=True, track_running_stats=True)\n",
       "    (5): LeakyReLU(negative_slope=0.1)\n",
       "    (6): Conv2d(128, 128, kernel_size=(3, 3), stride=(1, 1), padding=(1, 1))\n",
       "    (7): BatchNorm2d(128, eps=1e-05, momentum=0.999, affine=True, track_running_stats=True)\n",
       "    (8): LeakyReLU(negative_slope=0.1)\n",
       "    (9): MaxPool2d(kernel_size=(2, 2), stride=(2, 2), padding=0, dilation=1, ceil_mode=False)\n",
       "    (10): Dropout2d(p=0.5, inplace=False)\n",
       "    (11): Conv2d(128, 256, kernel_size=(3, 3), stride=(1, 1), padding=(1, 1))\n",
       "    (12): BatchNorm2d(256, eps=1e-05, momentum=0.999, affine=True, track_running_stats=True)\n",
       "    (13): LeakyReLU(negative_slope=0.1)\n",
       "    (14): Conv2d(256, 256, kernel_size=(3, 3), stride=(1, 1), padding=(1, 1))\n",
       "    (15): BatchNorm2d(256, eps=1e-05, momentum=0.999, affine=True, track_running_stats=True)\n",
       "    (16): LeakyReLU(negative_slope=0.1)\n",
       "    (17): Conv2d(256, 256, kernel_size=(3, 3), stride=(1, 1), padding=(1, 1))\n",
       "    (18): BatchNorm2d(256, eps=1e-05, momentum=0.999, affine=True, track_running_stats=True)\n",
       "    (19): LeakyReLU(negative_slope=0.1)\n",
       "    (20): MaxPool2d(kernel_size=(2, 2), stride=(2, 2), padding=0, dilation=1, ceil_mode=False)\n",
       "    (21): Dropout2d(p=0.5, inplace=False)\n",
       "    (22): Conv2d(256, 512, kernel_size=(3, 3), stride=(1, 1))\n",
       "    (23): BatchNorm2d(512, eps=1e-05, momentum=0.999, affine=True, track_running_stats=True)\n",
       "    (24): LeakyReLU(negative_slope=0.1)\n",
       "    (25): Conv2d(512, 256, kernel_size=(1, 1), stride=(1, 1))\n",
       "    (26): BatchNorm2d(256, eps=1e-05, momentum=0.999, affine=True, track_running_stats=True)\n",
       "    (27): LeakyReLU(negative_slope=0.1)\n",
       "    (28): Conv2d(256, 128, kernel_size=(1, 1), stride=(1, 1))\n",
       "    (29): BatchNorm2d(128, eps=1e-05, momentum=0.999, affine=True, track_running_stats=True)\n",
       "    (30): LeakyReLU(negative_slope=0.1)\n",
       "    (31): AdaptiveAvgPool2d(output_size=(1, 1))\n",
       "  )\n",
       "  (classifier): Sequential(\n",
       "    (0): Flatten()\n",
       "    (1): BatchNorm1d(128, eps=1e-05, momentum=0.999, affine=True, track_running_stats=True)\n",
       "    (2): Linear(in_features=128, out_features=10, bias=True)\n",
       "  )\n",
       ")"
      ]
     },
     "execution_count": 13,
     "metadata": {},
     "output_type": "execute_result"
    }
   ],
   "source": [
    "# create model\n",
    "torch.cuda.empty_cache()\n",
    "\n",
    "model = model_func()\n",
    "model.cuda()"
   ]
  },
  {
   "cell_type": "markdown",
   "metadata": {
    "pycharm": {
     "name": "#%% md\n"
    }
   },
   "source": [
    "# training parameters"
   ]
  },
  {
   "cell_type": "code",
   "execution_count": 14,
   "metadata": {
    "collapsed": false,
    "jupyter": {
     "outputs_hidden": false
    },
    "pycharm": {
     "name": "#%%\n"
    },
    "tags": [
     "re_run"
    ]
   },
   "outputs": [
    {
     "name": "stdout",
     "output_type": "stream",
     "text": [
      "../tensorboard/cifar10/full_supervised/2020-08-22_16:26:11_Pmodel_1.0S\n"
     ]
    }
   ],
   "source": [
    "# tensorboard\n",
    "tensorboard_title = \"%s_%s_%.1fS\" % (get_datetime(), model_func.__name__, args.supervised_ratio)\n",
    "checkpoint_title = \"%s_%.1fS\" % (model_func.__name__, args.supervised_ratio)\n",
    "tensorboard = SummaryWriter(log_dir=\"%s/%s\" % (args.tensorboard_path, tensorboard_title), comment=model_func.__name__)\n",
    "print(os.path.join(args.tensorboard_path, tensorboard_title))\n",
    "\n",
    "# losses\n",
    "loss_ce = nn.CrossEntropyLoss(reduction=\"mean\")\n",
    "\n",
    "# optimizer\n",
    "optimizer = torch.optim.Adam(model.parameters(), lr=args.learning_rate)\n",
    "\n",
    "# callbacks\n",
    "lr_lambda = lambda epoch: (1.0 + numpy.cos((epoch-1)*numpy.pi/args.nb_epoch)) * 0.5\n",
    "lr_scheduler = LambdaLR(optimizer, lr_lambda)\n",
    "\n",
    "# Checkpoint\n",
    "checkpoint = CheckPoint(model, optimizer, mode=\"max\", name=\"%s/%s.torch\" % (args.checkpoint_path, checkpoint_title))\n",
    "\n",
    "# Metrics\n",
    "fscore_fn = FScore()\n",
    "acc_fn = CategoricalAccuracy()\n",
    "avg = ContinueAverage()\n",
    "\n",
    "reset_metrics = lambda : [m.reset() for m in [fscore_fn, acc_fn, avg]]\n",
    "\n",
    "def get_lr(optimizer):\n",
    "    for param_group in optimizer.param_groups:\n",
    "        return param_group['lr']"
   ]
  },
  {
   "cell_type": "code",
   "execution_count": 15,
   "metadata": {
    "tags": [
     "re_run"
    ]
   },
   "outputs": [],
   "source": [
    "def maximum():\n",
    "    def func(key, value):\n",
    "        if key not in func.max:\n",
    "            func.max[key] = value\n",
    "        else:\n",
    "            if func.max[key] < value:\n",
    "                func.max[key] = value\n",
    "        return func.max[key]\n",
    "\n",
    "    func.max = dict()\n",
    "    return func\n",
    "maximum_fn = maximum()"
   ]
  },
  {
   "cell_type": "markdown",
   "metadata": {
    "pycharm": {
     "name": "#%% md\n"
    }
   },
   "source": [
    "## Can resume previous training"
   ]
  },
  {
   "cell_type": "code",
   "execution_count": 16,
   "metadata": {
    "pycharm": {
     "name": "#%%\n"
    }
   },
   "outputs": [],
   "source": [
    "if args.resume:\n",
    "    checkpoint.load_last()"
   ]
  },
  {
   "cell_type": "markdown",
   "metadata": {
    "pycharm": {
     "name": "#%% md\n"
    }
   },
   "source": [
    "## training function"
   ]
  },
  {
   "cell_type": "code",
   "execution_count": 17,
   "metadata": {
    "collapsed": false,
    "jupyter": {
     "outputs_hidden": false
    },
    "pycharm": {
     "name": "#%%\n"
    },
    "tags": [
     "re_run"
    ]
   },
   "outputs": [
    {
     "name": "stdout",
     "output_type": "stream",
     "text": [
      "         Epoch  - %      - Losses:  ce     - metrics:  acc         | F1       - Time  \n"
     ]
    }
   ],
   "source": [
    "UNDERLINE_SEQ = \"\\033[1;4m\"\n",
    "RESET_SEQ = \"\\033[0m\"\n",
    "\n",
    "\n",
    "header_form = \"{:<8.8} {:<6.6} - {:<6.6} - {:<8.8} {:<6.6} - {:<9.9} {:<12.12}| {:<9.9}- {:<6.6}\"\n",
    "value_form  = \"{:<8.8} {:<6} - {:<6} - {:<8.8} {:<6.4f} - {:<9.9} {:<10.4f}| {:<9.4f}- {:<6.4f}\"\n",
    "\n",
    "header = header_form.format(\n",
    "    \"\", \"Epoch\", \"%\", \"Losses:\", \"ce\", \"metrics: \", \"acc\", \"F1 \",\"Time\"\n",
    ")\n",
    "\n",
    "\n",
    "train_form = value_form\n",
    "val_form = UNDERLINE_SEQ + value_form + RESET_SEQ\n",
    "\n",
    "print(header)"
   ]
  },
  {
   "cell_type": "code",
   "execution_count": 18,
   "metadata": {
    "tags": [
     "re_run"
    ]
   },
   "outputs": [],
   "source": [
    "def train(epoch):\n",
    "    start_time = time.time()\n",
    "    print(\"\")\n",
    "\n",
    "    reset_metrics()\n",
    "    model.train()\n",
    "\n",
    "    for i, (X, y) in enumerate(train_loader):\n",
    "        optimizer.zero_grad()\n",
    "        \n",
    "        X = X.cuda()\n",
    "        y = y.cuda()\n",
    "\n",
    "        with autocast():\n",
    "            logits = model(X)        \n",
    "            loss = loss_ce(logits, y)\n",
    "\n",
    "        loss.backward()\n",
    "        optimizer.step()\n",
    "\n",
    "        with torch.set_grad_enabled(False):\n",
    "            pred = torch.softmax(logits, dim=1)\n",
    "            pred_arg = torch.argmax(logits, dim=1)\n",
    "            y_one_hot = F.one_hot(y, num_classes=10)\n",
    "\n",
    "            acc = acc_fn(pred_arg, y).mean\n",
    "            fscore = fscore_fn(pred, y_one_hot).mean\n",
    "            avg_ce = avg(loss.item()).mean\n",
    "\n",
    "            # logs\n",
    "            print(train_form.format(\n",
    "                \"Training: \",\n",
    "                epoch + 1,\n",
    "                int(100 * (i + 1) / len(train_loader)),\n",
    "                \"\", avg_ce,\n",
    "                \"\", acc, fscore,\n",
    "                time.time() - start_time\n",
    "            ), end=\"\\r\")\n",
    "\n",
    "    tensorboard.add_scalar(\"train/Lce\", avg_ce, epoch)\n",
    "    tensorboard.add_scalar(\"train/f1\", fscore, epoch)\n",
    "    tensorboard.add_scalar(\"train/acc\", acc, epoch)"
   ]
  },
  {
   "cell_type": "code",
   "execution_count": 19,
   "metadata": {
    "collapsed": false,
    "jupyter": {
     "outputs_hidden": false
    },
    "pycharm": {
     "name": "#%%\n"
    },
    "tags": [
     "re_run"
    ]
   },
   "outputs": [],
   "source": [
    "def val(epoch):\n",
    "    start_time = time.time()\n",
    "    print(\"\")\n",
    "    reset_metrics()\n",
    "    model.eval()\n",
    "\n",
    "    for i, (X, y) in enumerate(val_loader):\n",
    "        X = X.cuda()\n",
    "        y = y.cuda()\n",
    "\n",
    "        with autocast():\n",
    "            logits = model(X)\n",
    "            loss = loss_ce(logits, y)\n",
    "\n",
    "        with torch.set_grad_enabled(False):\n",
    "            pred = torch.softmax(logits, dim=1)\n",
    "            pred_arg = torch.argmax(logits, dim=1)\n",
    "            y_one_hot = F.one_hot(y, num_classes=10)\n",
    "\n",
    "            acc = acc_fn(pred_arg, y).mean\n",
    "            fscore = fscore_fn(pred, y_one_hot).mean\n",
    "            avg_ce = avg(loss.item()).mean\n",
    "\n",
    "            # logs\n",
    "            print(val_form.format(\n",
    "                \"Validation: \",\n",
    "                epoch + 1,\n",
    "                int(100 * (i + 1) / len(val_loader)),\n",
    "                \"\", avg_ce,\n",
    "                \"\", acc, fscore,\n",
    "                time.time() - start_time\n",
    "            ), end=\"\\r\")\n",
    "\n",
    "    tensorboard.add_scalar(\"val/Lce\", avg_ce, epoch)\n",
    "    tensorboard.add_scalar(\"val/f1\", fscore, epoch)\n",
    "    tensorboard.add_scalar(\"val/acc\", acc, epoch)\n",
    "    \n",
    "    tensorboard.add_scalar(\"hyperparameters/learning_rate\", get_lr(optimizer), epoch)\n",
    "    \n",
    "    tensorboard.add_scalar(\"max/acc\", maximum_fn(\"acc\", acc), epoch )\n",
    "    tensorboard.add_scalar(\"max/f1\", maximum_fn(\"f1\", fscore), epoch )\n",
    "\n",
    "    checkpoint.step(acc)\n",
    "    lr_scheduler.step()"
   ]
  },
  {
   "cell_type": "code",
   "execution_count": null,
   "metadata": {
    "collapsed": false,
    "jupyter": {
     "outputs_hidden": false
    },
    "pycharm": {
     "name": "#%%\n"
    },
    "tags": [
     "re_run"
    ]
   },
   "outputs": [
    {
     "name": "stdout",
     "output_type": "stream",
     "text": [
      "         Epoch  - %      - Losses:  ce     - metrics:  acc         | F1       - Time  \n",
      "\n",
      "Training 1      - 100    -          1.8367 -           0.3056    | 0.0810   - 35.8473\n",
      "\u001b[1;4mValidati 1      - 100    -          1.6386 -           0.3741    | 0.1728   - 2.7486\u001b[0m\n",
      " better performance: saving ...\n",
      "\n",
      "Training 2      - 100    -          1.6371 -           0.3895    | 0.2214   - 36.3308\n",
      "\u001b[1;4mValidati 2      - 100    -          1.4531 -           0.4603    | 0.3432   - 2.8077\u001b[0m\n",
      " better performance: saving ...\n",
      "\n",
      "Training 3      - 100    -          1.4876 -           0.4535    | 0.3431   - 36.4884\n",
      "\u001b[1;4mValidati 3      - 100    -          1.3536 -           0.5094    | 0.4255   - 2.8258\u001b[0m\n",
      " better performance: saving ...\n",
      "\n",
      "Training 4      - 100    -          1.3753 -           0.5008    | 0.4172   - 36.5961\n",
      "\u001b[1;4mValidati 4      - 100    -          1.2637 -           0.5427    | 0.4872   - 2.7525\u001b[0m\n",
      " better performance: saving ...\n",
      "\n",
      "Training 5      - 100    -          1.2973 -           0.5298    | 0.4655   - 36.7509\n",
      "\u001b[1;4mValidati 5      - 100    -          1.1772 -           0.5767    | 0.5294   - 2.8144\u001b[0m\n",
      " better performance: saving ...\n",
      "\n",
      "Training 6      - 100    -          1.2425 -           0.5526    | 0.4973   - 36.8575\n",
      "\u001b[1;4mValidati 6      - 100    -          1.1549 -           0.5876    | 0.5271   - 2.7836\u001b[0m\n",
      " better performance: saving ...\n",
      "\n",
      "Training 7      - 100    -          1.1959 -           0.5685    | 0.5240   - 36.6580\n",
      "\u001b[1;4mValidati 7      - 100    -          1.1416 -           0.5938    | 0.5468   - 2.8111\u001b[0m\n",
      " better performance: saving ...\n",
      "\n",
      "Training 8      - 100    -          1.1542 -           0.5869    | 0.5434   - 37.0900\n",
      "\u001b[1;4mValidati 8      - 100    -          1.0670 -           0.6170    | 0.5851   - 2.7857\u001b[0m\n",
      " better performance: saving ...\n",
      "\n",
      "Training 9      - 100    -          1.1220 -           0.5991    | 0.5629   - 36.6533\n",
      "\u001b[1;4mValidati 9      - 100    -          1.0805 -           0.6195    | 0.5844   - 2.8424\u001b[0m\n",
      " better performance: saving ...\n",
      "\n",
      "Training 10     - 100    -          1.0832 -           0.6137    | 0.5829   - 36.5986\n",
      "\u001b[1;4mValidati 10     - 100    -          1.0362 -           0.6258    | 0.5961   - 2.7752\u001b[0m\n",
      " better performance: saving ...\n",
      "\n",
      "Training 11     - 100    -          1.0508 -           0.6250    | 0.5975   - 36.6040\n",
      "\u001b[1;4mValidati 11     - 100    -          0.9993 -           0.6371    | 0.6117   - 2.8027\u001b[0m\n",
      " better performance: saving ...\n",
      "\n",
      "Training 12     - 70     -          1.0388 -           0.6290    | 0.6010   - 25.7278\r"
     ]
    }
   ],
   "source": [
    "print(header)\n",
    "\n",
    "start_epoch = checkpoint.epoch_counter\n",
    "end_epoch = args.nb_epoch\n",
    "\n",
    "for e in range(start_epoch, args.nb_epoch):\n",
    "    train(e)\n",
    "    val(e)"
   ]
  },
  {
   "cell_type": "code",
   "execution_count": null,
   "metadata": {
    "tags": [
     "re_run"
    ]
   },
   "outputs": [],
   "source": [
    "tensorboard.flush()\n",
    "tensorboard.close()"
   ]
  },
  {
   "cell_type": "markdown",
   "metadata": {},
   "source": [
    "# ♫♪.ılılıll|̲̅̅●̲̅̅|̲̅̅=̲̅̅|̲̅̅●̲̅̅|llılılı.♫♪"
   ]
  },
  {
   "cell_type": "code",
   "execution_count": null,
   "metadata": {
    "pycharm": {
     "is_executing": false,
     "name": "#%%\n"
    }
   },
   "outputs": [],
   "source": []
  }
 ],
 "metadata": {
  "kernelspec": {
   "display_name": "dct",
   "language": "python",
   "name": "dct"
  },
  "language_info": {
   "codemirror_mode": {
    "name": "ipython",
    "version": 3
   },
   "file_extension": ".py",
   "mimetype": "text/x-python",
   "name": "python",
   "nbconvert_exporter": "python",
   "pygments_lexer": "ipython3",
   "version": "3.8.0"
  }
 },
 "nbformat": 4,
 "nbformat_minor": 4
}
