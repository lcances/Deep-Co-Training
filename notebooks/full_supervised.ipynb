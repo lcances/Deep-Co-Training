{
 "cells": [
  {
   "cell_type": "markdown",
   "metadata": {
    "jupyter": {
     "outputs_hidden": true
    }
   },
   "source": [
    "# import"
   ]
  },
  {
   "cell_type": "code",
   "execution_count": 1,
   "metadata": {},
   "outputs": [],
   "source": [
    "%load_ext autoreload\n",
    "%autoreload 2"
   ]
  },
  {
   "cell_type": "code",
   "execution_count": 2,
   "metadata": {},
   "outputs": [],
   "source": [
    "import os\n",
    "os.environ[\"MKL_NUM_THREADS\"] = \"2\"\n",
    "os.environ[\"NUMEXPR_NU M_THREADS\"] = \"2\"\n",
    "os.environ[\"OMP_NUM_THREADS\"] = \"2\"\n",
    "import time\n",
    "\n",
    "import numpy\n",
    "import torch\n",
    "import torch.nn as nn\n",
    "import torch.utils.data as data\n",
    "import torch.nn.functional as F\n",
    "import torchvision.transforms as transforms\n",
    "from torch.cuda.amp import autocast\n",
    "\n",
    "from torch.optim.lr_scheduler import LambdaLR\n",
    "from torch.utils.tensorboard import SummaryWriter"
   ]
  },
  {
   "cell_type": "code",
   "execution_count": 3,
   "metadata": {},
   "outputs": [],
   "source": [
    "from ubs8k.datasetManager import DatasetManager\n",
    "from ubs8k.datasets import Dataset\n",
    "\n",
    "from DCT.util.utils import reset_seed, get_datetime, get_model_from_name, load_dataset\n",
    "from DCT.util.checkpoint import CheckPoint\n",
    "from metric_utils.metrics import CategoricalAccuracy, FScore, ContinueAverage"
   ]
  },
  {
   "cell_type": "markdown",
   "metadata": {
    "pycharm": {
     "name": "#%% md\n"
    }
   },
   "source": [
    "# Arguments"
   ]
  },
  {
   "cell_type": "code",
   "execution_count": 4,
   "metadata": {
    "collapsed": false,
    "jupyter": {
     "outputs_hidden": false
    },
    "pycharm": {
     "name": "#%%\n"
    },
    "tags": [
     "re_run"
    ]
   },
   "outputs": [],
   "source": [
    "import argparse\n",
    "parser = argparse.ArgumentParser()\n",
    "parser.add_argument(\"-d\", \"--dataset_root\", default=\"../datasets\", type=str)\n",
    "parser.add_argument(\"-D\", \"--dataset\", default=\"cifar10\", type=str, help=\"available [ubs8k | cifar10]\")\n",
    "\n",
    "parser.add_argument(\"--supervised_ratio\", default=1.0, type=float)\n",
    "parser.add_argument(\"-t\", \"--train_folds\", nargs=\"+\", default=[1, 2, 3, 4, 5, 6, 7, 8, 9], type=int)\n",
    "parser.add_argument(\"-v\", \"--val_folds\", nargs=\"+\", default=[10], type=int)\n",
    "\n",
    "parser.add_argument(\"--model\", default=\"wideresnet28_2\", type=str)\n",
    "parser.add_argument(\"--batch_size\", default=128, type=int)\n",
    "parser.add_argument(\"--nb_epoch\", default=300, type=int)\n",
    "parser.add_argument(\"--learning_rate\", default=0.003, type=int)\n",
    "\n",
    "parser.add_argument(\"--checkpoint_path\", default=\"../model_save/ubs8k/full_supervised\", type=str)\n",
    "parser.add_argument(\"--resume\", action=\"store_true\", default=False)\n",
    "parser.add_argument(\"--tensorboard_path\", default=\"../tensorboard/ubs8k/full_supervised\", type=str)\n",
    "parser.add_argument(\"--tensorboard_sufix\", default=\"\", type=str)\n",
    "\n",
    "args = parser.parse_args(\"\")"
   ]
  },
  {
   "cell_type": "code",
   "execution_count": 5,
   "metadata": {
    "tags": [
     "re_run"
    ]
   },
   "outputs": [
    {
     "data": {
      "text/plain": [
       "Namespace(batch_size=128, checkpoint_path='../model_save/cifar10/full_supervised', dataset='cifar10', dataset_root='../datasets', learning_rate=0.003, model='wideresnet28_2', nb_epoch=300, resume=False, supervised_ratio=1.0, tensorboard_path='../tensorboard/cifar10/full_supervised', tensorboard_sufix='', train_folds=[1, 2, 3, 4, 5, 6, 7, 8, 9], val_folds=[10])"
      ]
     },
     "execution_count": 5,
     "metadata": {},
     "output_type": "execute_result"
    }
   ],
   "source": [
    "# modify checkpoint and tensorboard path to fit the dataset\n",
    "checkpoint_path_ = args.checkpoint_path.split(\"/\")\n",
    "tensorboard_path_ = args.tensorboard_path.split(\"/\")\n",
    "\n",
    "checkpoint_path_[2] = args.dataset\n",
    "tensorboard_path_[2] = args.dataset\n",
    "\n",
    "args.checkpoint_path = \"/\".join(checkpoint_path_)\n",
    "args.tensorboard_path = \"/\".join(tensorboard_path_)\n",
    "args"
   ]
  },
  {
   "cell_type": "markdown",
   "metadata": {
    "pycharm": {
     "name": "#%% md\n"
    }
   },
   "source": [
    "# initialisation"
   ]
  },
  {
   "cell_type": "code",
   "execution_count": 6,
   "metadata": {
    "collapsed": false,
    "jupyter": {
     "outputs_hidden": false
    },
    "pycharm": {
     "name": "#%%\n"
    },
    "tags": [
     "re_run"
    ]
   },
   "outputs": [],
   "source": [
    "reset_seed(1234)\n"
   ]
  },
  {
   "cell_type": "markdown",
   "metadata": {
    "pycharm": {
     "name": "#%% md\n"
    }
   },
   "source": [
    "# Prepare the dataset"
   ]
  },
  {
   "cell_type": "code",
   "execution_count": 7,
   "metadata": {
    "collapsed": false,
    "jupyter": {
     "outputs_hidden": false
    },
    "pycharm": {
     "name": "#%%\n"
    }
   },
   "outputs": [
    {
     "name": "stdout",
     "output_type": "stream",
     "text": [
      "Files already downloaded and verified\n",
      "Files already downloaded and verified\n"
     ]
    }
   ],
   "source": [
    "\"\"\"\n",
    "we pre-processed the images using ZCA and augmented the dataset using horizontal flips and random translations. The translations\n",
    "were drawn from [−2, 2] pixels,\n",
    "\"\"\"\n",
    "extra_train_transforms = [\n",
    "    transforms.RandomCrop(32, padding=4),\n",
    "    transforms.RandomHorizontalFlip(),\n",
    "]\n",
    "\n",
    "manager, train_loader, val_loader = load_dataset(\n",
    "    args.dataset,\n",
    "    \"supervised\",\n",
    "    \n",
    "    extra_train_transform = extra_train_transforms,\n",
    "    \n",
    "    dataset_root = args.dataset_root,\n",
    "    supervised_ratio = args.supervised_ratio,\n",
    "    batch_size = args.batch_size,\n",
    "    train_folds = args.train_folds,\n",
    "    val_folds = args.val_folds,\n",
    "    verbose = 2\n",
    ")"
   ]
  },
  {
   "cell_type": "markdown",
   "metadata": {},
   "source": [
    "# Prep model"
   ]
  },
  {
   "cell_type": "code",
   "execution_count": 22,
   "metadata": {
    "tags": [
     "re_run"
    ]
   },
   "outputs": [],
   "source": [
    "torch.cuda.empty_cache()\n",
    "\n",
    "\n",
    "model_func = get_model_from_name(args.model)\n",
    "# model = ResNet(tm.resnet.Bottleneck, [2, 2, 2, 2], num_classes=10)\n",
    "model = model_func()\n",
    "model = model.cuda()\n"
   ]
  },
  {
   "cell_type": "code",
   "execution_count": 23,
   "metadata": {},
   "outputs": [
    {
     "name": "stdout",
     "output_type": "stream",
     "text": [
      "=============================================================================================\n",
      "                                          Kernel Shape      Output Shape  \\\n",
      "Layer                                                                      \n",
      "0_conv1                                  [3, 32, 3, 3]  [64, 32, 32, 32]   \n",
      "1_bn1                                             [32]  [64, 32, 32, 32]   \n",
      "2_relu                                               -  [64, 32, 32, 32]   \n",
      "3_maxpool                                            -  [64, 32, 16, 16]   \n",
      "4_layer1.0.Conv2d_conv1                 [32, 32, 3, 3]  [64, 32, 16, 16]   \n",
      "5_layer1.0.BatchNorm2d_bn1                        [32]  [64, 32, 16, 16]   \n",
      "6_layer1.0.ReLU_relu                                 -  [64, 32, 16, 16]   \n",
      "7_layer1.0.Conv2d_conv2                 [32, 32, 3, 3]  [64, 32, 16, 16]   \n",
      "8_layer1.0.BatchNorm2d_bn2                        [32]  [64, 32, 16, 16]   \n",
      "9_layer1.0.ReLU_relu                                 -  [64, 32, 16, 16]   \n",
      "10_layer1.1.Conv2d_conv1                [32, 32, 3, 3]  [64, 32, 16, 16]   \n",
      "11_layer1.1.BatchNorm2d_bn1                       [32]  [64, 32, 16, 16]   \n",
      "12_layer1.1.ReLU_relu                                -  [64, 32, 16, 16]   \n",
      "13_layer1.1.Conv2d_conv2                [32, 32, 3, 3]  [64, 32, 16, 16]   \n",
      "14_layer1.1.BatchNorm2d_bn2                       [32]  [64, 32, 16, 16]   \n",
      "15_layer1.1.ReLU_relu                                -  [64, 32, 16, 16]   \n",
      "16_layer1.2.Conv2d_conv1                [32, 32, 3, 3]  [64, 32, 16, 16]   \n",
      "17_layer1.2.BatchNorm2d_bn1                       [32]  [64, 32, 16, 16]   \n",
      "18_layer1.2.ReLU_relu                                -  [64, 32, 16, 16]   \n",
      "19_layer1.2.Conv2d_conv2                [32, 32, 3, 3]  [64, 32, 16, 16]   \n",
      "20_layer1.2.BatchNorm2d_bn2                       [32]  [64, 32, 16, 16]   \n",
      "21_layer1.2.ReLU_relu                                -  [64, 32, 16, 16]   \n",
      "22_layer1.3.Conv2d_conv1                [32, 32, 3, 3]  [64, 32, 16, 16]   \n",
      "23_layer1.3.BatchNorm2d_bn1                       [32]  [64, 32, 16, 16]   \n",
      "24_layer1.3.ReLU_relu                                -  [64, 32, 16, 16]   \n",
      "25_layer1.3.Conv2d_conv2                [32, 32, 3, 3]  [64, 32, 16, 16]   \n",
      "26_layer1.3.BatchNorm2d_bn2                       [32]  [64, 32, 16, 16]   \n",
      "27_layer1.3.ReLU_relu                                -  [64, 32, 16, 16]   \n",
      "28_layer2.0.Conv2d_conv1                [32, 64, 3, 3]    [64, 64, 8, 8]   \n",
      "29_layer2.0.BatchNorm2d_bn1                       [64]    [64, 64, 8, 8]   \n",
      "30_layer2.0.ReLU_relu                                -    [64, 64, 8, 8]   \n",
      "31_layer2.0.Conv2d_conv2                [64, 64, 3, 3]    [64, 64, 8, 8]   \n",
      "32_layer2.0.BatchNorm2d_bn2                       [64]    [64, 64, 8, 8]   \n",
      "33_layer2.0.downsample.Conv2d_0         [32, 64, 1, 1]    [64, 64, 8, 8]   \n",
      "34_layer2.0.downsample.BatchNorm2d_1              [64]    [64, 64, 8, 8]   \n",
      "35_layer2.0.ReLU_relu                                -    [64, 64, 8, 8]   \n",
      "36_layer2.1.Conv2d_conv1                [64, 64, 3, 3]    [64, 64, 8, 8]   \n",
      "37_layer2.1.BatchNorm2d_bn1                       [64]    [64, 64, 8, 8]   \n",
      "38_layer2.1.ReLU_relu                                -    [64, 64, 8, 8]   \n",
      "39_layer2.1.Conv2d_conv2                [64, 64, 3, 3]    [64, 64, 8, 8]   \n",
      "40_layer2.1.BatchNorm2d_bn2                       [64]    [64, 64, 8, 8]   \n",
      "41_layer2.1.ReLU_relu                                -    [64, 64, 8, 8]   \n",
      "42_layer2.2.Conv2d_conv1                [64, 64, 3, 3]    [64, 64, 8, 8]   \n",
      "43_layer2.2.BatchNorm2d_bn1                       [64]    [64, 64, 8, 8]   \n",
      "44_layer2.2.ReLU_relu                                -    [64, 64, 8, 8]   \n",
      "45_layer2.2.Conv2d_conv2                [64, 64, 3, 3]    [64, 64, 8, 8]   \n",
      "46_layer2.2.BatchNorm2d_bn2                       [64]    [64, 64, 8, 8]   \n",
      "47_layer2.2.ReLU_relu                                -    [64, 64, 8, 8]   \n",
      "48_layer2.3.Conv2d_conv1                [64, 64, 3, 3]    [64, 64, 8, 8]   \n",
      "49_layer2.3.BatchNorm2d_bn1                       [64]    [64, 64, 8, 8]   \n",
      "50_layer2.3.ReLU_relu                                -    [64, 64, 8, 8]   \n",
      "51_layer2.3.Conv2d_conv2                [64, 64, 3, 3]    [64, 64, 8, 8]   \n",
      "52_layer2.3.BatchNorm2d_bn2                       [64]    [64, 64, 8, 8]   \n",
      "53_layer2.3.ReLU_relu                                -    [64, 64, 8, 8]   \n",
      "54_layer3.0.Conv2d_conv1               [64, 128, 3, 3]   [64, 128, 4, 4]   \n",
      "55_layer3.0.BatchNorm2d_bn1                      [128]   [64, 128, 4, 4]   \n",
      "56_layer3.0.ReLU_relu                                -   [64, 128, 4, 4]   \n",
      "57_layer3.0.Conv2d_conv2              [128, 128, 3, 3]   [64, 128, 4, 4]   \n",
      "58_layer3.0.BatchNorm2d_bn2                      [128]   [64, 128, 4, 4]   \n",
      "59_layer3.0.downsample.Conv2d_0        [64, 128, 1, 1]   [64, 128, 4, 4]   \n",
      "60_layer3.0.downsample.BatchNorm2d_1             [128]   [64, 128, 4, 4]   \n",
      "61_layer3.0.ReLU_relu                                -   [64, 128, 4, 4]   \n",
      "62_layer3.1.Conv2d_conv1              [128, 128, 3, 3]   [64, 128, 4, 4]   \n",
      "63_layer3.1.BatchNorm2d_bn1                      [128]   [64, 128, 4, 4]   \n",
      "64_layer3.1.ReLU_relu                                -   [64, 128, 4, 4]   \n",
      "65_layer3.1.Conv2d_conv2              [128, 128, 3, 3]   [64, 128, 4, 4]   \n",
      "66_layer3.1.BatchNorm2d_bn2                      [128]   [64, 128, 4, 4]   \n",
      "67_layer3.1.ReLU_relu                                -   [64, 128, 4, 4]   \n",
      "68_layer3.2.Conv2d_conv1              [128, 128, 3, 3]   [64, 128, 4, 4]   \n",
      "69_layer3.2.BatchNorm2d_bn1                      [128]   [64, 128, 4, 4]   \n",
      "70_layer3.2.ReLU_relu                                -   [64, 128, 4, 4]   \n",
      "71_layer3.2.Conv2d_conv2              [128, 128, 3, 3]   [64, 128, 4, 4]   \n",
      "72_layer3.2.BatchNorm2d_bn2                      [128]   [64, 128, 4, 4]   \n",
      "73_layer3.2.ReLU_relu                                -   [64, 128, 4, 4]   \n",
      "74_layer3.3.Conv2d_conv1              [128, 128, 3, 3]   [64, 128, 4, 4]   \n",
      "75_layer3.3.BatchNorm2d_bn1                      [128]   [64, 128, 4, 4]   \n",
      "76_layer3.3.ReLU_relu                                -   [64, 128, 4, 4]   \n",
      "77_layer3.3.Conv2d_conv2              [128, 128, 3, 3]   [64, 128, 4, 4]   \n",
      "78_layer3.3.BatchNorm2d_bn2                      [128]   [64, 128, 4, 4]   \n",
      "79_layer3.3.ReLU_relu                                -   [64, 128, 4, 4]   \n",
      "80_avgpool                                           -   [64, 128, 1, 1]   \n",
      "81_fc                                        [128, 10]          [64, 10]   \n",
      "\n",
      "                                        Params  Mult-Adds  \n",
      "Layer                                                      \n",
      "0_conv1                                  864.0   884.736k  \n",
      "1_bn1                                     64.0       32.0  \n",
      "2_relu                                       -          -  \n",
      "3_maxpool                                    -          -  \n",
      "4_layer1.0.Conv2d_conv1                 9.216k  2.359296M  \n",
      "5_layer1.0.BatchNorm2d_bn1                64.0       32.0  \n",
      "6_layer1.0.ReLU_relu                         -          -  \n",
      "7_layer1.0.Conv2d_conv2                 9.216k  2.359296M  \n",
      "8_layer1.0.BatchNorm2d_bn2                64.0       32.0  \n",
      "9_layer1.0.ReLU_relu                         -          -  \n",
      "10_layer1.1.Conv2d_conv1                9.216k  2.359296M  \n",
      "11_layer1.1.BatchNorm2d_bn1               64.0       32.0  \n",
      "12_layer1.1.ReLU_relu                        -          -  \n",
      "13_layer1.1.Conv2d_conv2                9.216k  2.359296M  \n",
      "14_layer1.1.BatchNorm2d_bn2               64.0       32.0  \n",
      "15_layer1.1.ReLU_relu                        -          -  \n",
      "16_layer1.2.Conv2d_conv1                9.216k  2.359296M  \n",
      "17_layer1.2.BatchNorm2d_bn1               64.0       32.0  \n",
      "18_layer1.2.ReLU_relu                        -          -  \n",
      "19_layer1.2.Conv2d_conv2                9.216k  2.359296M  \n",
      "20_layer1.2.BatchNorm2d_bn2               64.0       32.0  \n",
      "21_layer1.2.ReLU_relu                        -          -  \n",
      "22_layer1.3.Conv2d_conv1                9.216k  2.359296M  \n",
      "23_layer1.3.BatchNorm2d_bn1               64.0       32.0  \n",
      "24_layer1.3.ReLU_relu                        -          -  \n",
      "25_layer1.3.Conv2d_conv2                9.216k  2.359296M  \n",
      "26_layer1.3.BatchNorm2d_bn2               64.0       32.0  \n",
      "27_layer1.3.ReLU_relu                        -          -  \n",
      "28_layer2.0.Conv2d_conv1               18.432k  1.179648M  \n",
      "29_layer2.0.BatchNorm2d_bn1              128.0       64.0  \n",
      "30_layer2.0.ReLU_relu                        -          -  \n",
      "31_layer2.0.Conv2d_conv2               36.864k  2.359296M  \n",
      "32_layer2.0.BatchNorm2d_bn2              128.0       64.0  \n",
      "33_layer2.0.downsample.Conv2d_0         2.048k   131.072k  \n",
      "34_layer2.0.downsample.BatchNorm2d_1     128.0       64.0  \n",
      "35_layer2.0.ReLU_relu                        -          -  \n",
      "36_layer2.1.Conv2d_conv1               36.864k  2.359296M  \n",
      "37_layer2.1.BatchNorm2d_bn1              128.0       64.0  \n",
      "38_layer2.1.ReLU_relu                        -          -  \n",
      "39_layer2.1.Conv2d_conv2               36.864k  2.359296M  \n",
      "40_layer2.1.BatchNorm2d_bn2              128.0       64.0  \n",
      "41_layer2.1.ReLU_relu                        -          -  \n",
      "42_layer2.2.Conv2d_conv1               36.864k  2.359296M  \n",
      "43_layer2.2.BatchNorm2d_bn1              128.0       64.0  \n",
      "44_layer2.2.ReLU_relu                        -          -  \n",
      "45_layer2.2.Conv2d_conv2               36.864k  2.359296M  \n",
      "46_layer2.2.BatchNorm2d_bn2              128.0       64.0  \n",
      "47_layer2.2.ReLU_relu                        -          -  \n",
      "48_layer2.3.Conv2d_conv1               36.864k  2.359296M  \n",
      "49_layer2.3.BatchNorm2d_bn1              128.0       64.0  \n",
      "50_layer2.3.ReLU_relu                        -          -  \n",
      "51_layer2.3.Conv2d_conv2               36.864k  2.359296M  \n",
      "52_layer2.3.BatchNorm2d_bn2              128.0       64.0  \n",
      "53_layer2.3.ReLU_relu                        -          -  \n",
      "54_layer3.0.Conv2d_conv1               73.728k  1.179648M  \n",
      "55_layer3.0.BatchNorm2d_bn1              256.0      128.0  \n",
      "56_layer3.0.ReLU_relu                        -          -  \n",
      "57_layer3.0.Conv2d_conv2              147.456k  2.359296M  \n",
      "58_layer3.0.BatchNorm2d_bn2              256.0      128.0  \n",
      "59_layer3.0.downsample.Conv2d_0         8.192k   131.072k  \n",
      "60_layer3.0.downsample.BatchNorm2d_1     256.0      128.0  \n",
      "61_layer3.0.ReLU_relu                        -          -  \n",
      "62_layer3.1.Conv2d_conv1              147.456k  2.359296M  \n",
      "63_layer3.1.BatchNorm2d_bn1              256.0      128.0  \n",
      "64_layer3.1.ReLU_relu                        -          -  \n",
      "65_layer3.1.Conv2d_conv2              147.456k  2.359296M  \n",
      "66_layer3.1.BatchNorm2d_bn2              256.0      128.0  \n",
      "67_layer3.1.ReLU_relu                        -          -  \n",
      "68_layer3.2.Conv2d_conv1              147.456k  2.359296M  \n",
      "69_layer3.2.BatchNorm2d_bn1              256.0      128.0  \n",
      "70_layer3.2.ReLU_relu                        -          -  \n",
      "71_layer3.2.Conv2d_conv2              147.456k  2.359296M  \n",
      "72_layer3.2.BatchNorm2d_bn2              256.0      128.0  \n",
      "73_layer3.2.ReLU_relu                        -          -  \n",
      "74_layer3.3.Conv2d_conv1              147.456k  2.359296M  \n",
      "75_layer3.3.BatchNorm2d_bn1              256.0      128.0  \n",
      "76_layer3.3.ReLU_relu                        -          -  \n",
      "77_layer3.3.Conv2d_conv2              147.456k  2.359296M  \n",
      "78_layer3.3.BatchNorm2d_bn2              256.0      128.0  \n",
      "79_layer3.3.ReLU_relu                        -          -  \n",
      "80_avgpool                                   -          -  \n",
      "81_fc                                    1.29k      1.28k  \n",
      "---------------------------------------------------------------------------------------------\n",
      "                          Totals\n",
      "Total params           1.472554M\n",
      "Trainable params       1.472554M\n",
      "Non-trainable params         0.0\n",
      "Mult-Adds             55.413984M\n",
      "=============================================================================================\n"
     ]
    }
   ],
   "source": [
    "from torchsummaryX import summary\n",
    "input_tensor = torch.zeros((64, 3, 32, 32), dtype=torch.float)\n",
    "input_tensor = input_tensor.cuda()\n",
    "\n",
    "s = summary(model, input_tensor)\n"
   ]
  },
  {
   "cell_type": "markdown",
   "metadata": {},
   "source": [
    "## Prep training"
   ]
  },
  {
   "cell_type": "code",
   "execution_count": 24,
   "metadata": {},
   "outputs": [
    {
     "name": "stdout",
     "output_type": "stream",
     "text": [
      "26\n"
     ]
    }
   ],
   "source": [
    "nb_conv = 0\n",
    "\n",
    "for layer in s.index.values:\n",
    "    if \"Conv\" in layer:\n",
    "        nb_conv += 1\n",
    "print(nb_conv)"
   ]
  },
  {
   "cell_type": "code",
   "execution_count": 25,
   "metadata": {
    "scrolled": true
   },
   "outputs": [
    {
     "data": {
      "text/plain": [
       "ResNet(\n",
       "  (conv1): Conv2d(3, 32, kernel_size=(3, 3), stride=(1, 1), padding=(1, 1), bias=False)\n",
       "  (bn1): BatchNorm2d(32, eps=1e-05, momentum=0.1, affine=True, track_running_stats=True)\n",
       "  (relu): ReLU(inplace=True)\n",
       "  (maxpool): MaxPool2d(kernel_size=3, stride=2, padding=1, dilation=1, ceil_mode=False)\n",
       "  (layer1): Sequential(\n",
       "    (0): BasicBlock(\n",
       "      (conv1): Conv2d(32, 32, kernel_size=(3, 3), stride=(1, 1), padding=(1, 1), bias=False)\n",
       "      (bn1): BatchNorm2d(32, eps=1e-05, momentum=0.1, affine=True, track_running_stats=True)\n",
       "      (relu): ReLU(inplace=True)\n",
       "      (conv2): Conv2d(32, 32, kernel_size=(3, 3), stride=(1, 1), padding=(1, 1), bias=False)\n",
       "      (bn2): BatchNorm2d(32, eps=1e-05, momentum=0.1, affine=True, track_running_stats=True)\n",
       "    )\n",
       "    (1): BasicBlock(\n",
       "      (conv1): Conv2d(32, 32, kernel_size=(3, 3), stride=(1, 1), padding=(1, 1), bias=False)\n",
       "      (bn1): BatchNorm2d(32, eps=1e-05, momentum=0.1, affine=True, track_running_stats=True)\n",
       "      (relu): ReLU(inplace=True)\n",
       "      (conv2): Conv2d(32, 32, kernel_size=(3, 3), stride=(1, 1), padding=(1, 1), bias=False)\n",
       "      (bn2): BatchNorm2d(32, eps=1e-05, momentum=0.1, affine=True, track_running_stats=True)\n",
       "    )\n",
       "    (2): BasicBlock(\n",
       "      (conv1): Conv2d(32, 32, kernel_size=(3, 3), stride=(1, 1), padding=(1, 1), bias=False)\n",
       "      (bn1): BatchNorm2d(32, eps=1e-05, momentum=0.1, affine=True, track_running_stats=True)\n",
       "      (relu): ReLU(inplace=True)\n",
       "      (conv2): Conv2d(32, 32, kernel_size=(3, 3), stride=(1, 1), padding=(1, 1), bias=False)\n",
       "      (bn2): BatchNorm2d(32, eps=1e-05, momentum=0.1, affine=True, track_running_stats=True)\n",
       "    )\n",
       "    (3): BasicBlock(\n",
       "      (conv1): Conv2d(32, 32, kernel_size=(3, 3), stride=(1, 1), padding=(1, 1), bias=False)\n",
       "      (bn1): BatchNorm2d(32, eps=1e-05, momentum=0.1, affine=True, track_running_stats=True)\n",
       "      (relu): ReLU(inplace=True)\n",
       "      (conv2): Conv2d(32, 32, kernel_size=(3, 3), stride=(1, 1), padding=(1, 1), bias=False)\n",
       "      (bn2): BatchNorm2d(32, eps=1e-05, momentum=0.1, affine=True, track_running_stats=True)\n",
       "    )\n",
       "  )\n",
       "  (layer2): Sequential(\n",
       "    (0): BasicBlock(\n",
       "      (conv1): Conv2d(32, 64, kernel_size=(3, 3), stride=(2, 2), padding=(1, 1), bias=False)\n",
       "      (bn1): BatchNorm2d(64, eps=1e-05, momentum=0.1, affine=True, track_running_stats=True)\n",
       "      (relu): ReLU(inplace=True)\n",
       "      (conv2): Conv2d(64, 64, kernel_size=(3, 3), stride=(1, 1), padding=(1, 1), bias=False)\n",
       "      (bn2): BatchNorm2d(64, eps=1e-05, momentum=0.1, affine=True, track_running_stats=True)\n",
       "      (downsample): Sequential(\n",
       "        (0): Conv2d(32, 64, kernel_size=(1, 1), stride=(2, 2), bias=False)\n",
       "        (1): BatchNorm2d(64, eps=1e-05, momentum=0.1, affine=True, track_running_stats=True)\n",
       "      )\n",
       "    )\n",
       "    (1): BasicBlock(\n",
       "      (conv1): Conv2d(64, 64, kernel_size=(3, 3), stride=(1, 1), padding=(1, 1), bias=False)\n",
       "      (bn1): BatchNorm2d(64, eps=1e-05, momentum=0.1, affine=True, track_running_stats=True)\n",
       "      (relu): ReLU(inplace=True)\n",
       "      (conv2): Conv2d(64, 64, kernel_size=(3, 3), stride=(1, 1), padding=(1, 1), bias=False)\n",
       "      (bn2): BatchNorm2d(64, eps=1e-05, momentum=0.1, affine=True, track_running_stats=True)\n",
       "    )\n",
       "    (2): BasicBlock(\n",
       "      (conv1): Conv2d(64, 64, kernel_size=(3, 3), stride=(1, 1), padding=(1, 1), bias=False)\n",
       "      (bn1): BatchNorm2d(64, eps=1e-05, momentum=0.1, affine=True, track_running_stats=True)\n",
       "      (relu): ReLU(inplace=True)\n",
       "      (conv2): Conv2d(64, 64, kernel_size=(3, 3), stride=(1, 1), padding=(1, 1), bias=False)\n",
       "      (bn2): BatchNorm2d(64, eps=1e-05, momentum=0.1, affine=True, track_running_stats=True)\n",
       "    )\n",
       "    (3): BasicBlock(\n",
       "      (conv1): Conv2d(64, 64, kernel_size=(3, 3), stride=(1, 1), padding=(1, 1), bias=False)\n",
       "      (bn1): BatchNorm2d(64, eps=1e-05, momentum=0.1, affine=True, track_running_stats=True)\n",
       "      (relu): ReLU(inplace=True)\n",
       "      (conv2): Conv2d(64, 64, kernel_size=(3, 3), stride=(1, 1), padding=(1, 1), bias=False)\n",
       "      (bn2): BatchNorm2d(64, eps=1e-05, momentum=0.1, affine=True, track_running_stats=True)\n",
       "    )\n",
       "  )\n",
       "  (layer3): Sequential(\n",
       "    (0): BasicBlock(\n",
       "      (conv1): Conv2d(64, 128, kernel_size=(3, 3), stride=(2, 2), padding=(1, 1), bias=False)\n",
       "      (bn1): BatchNorm2d(128, eps=1e-05, momentum=0.1, affine=True, track_running_stats=True)\n",
       "      (relu): ReLU(inplace=True)\n",
       "      (conv2): Conv2d(128, 128, kernel_size=(3, 3), stride=(1, 1), padding=(1, 1), bias=False)\n",
       "      (bn2): BatchNorm2d(128, eps=1e-05, momentum=0.1, affine=True, track_running_stats=True)\n",
       "      (downsample): Sequential(\n",
       "        (0): Conv2d(64, 128, kernel_size=(1, 1), stride=(2, 2), bias=False)\n",
       "        (1): BatchNorm2d(128, eps=1e-05, momentum=0.1, affine=True, track_running_stats=True)\n",
       "      )\n",
       "    )\n",
       "    (1): BasicBlock(\n",
       "      (conv1): Conv2d(128, 128, kernel_size=(3, 3), stride=(1, 1), padding=(1, 1), bias=False)\n",
       "      (bn1): BatchNorm2d(128, eps=1e-05, momentum=0.1, affine=True, track_running_stats=True)\n",
       "      (relu): ReLU(inplace=True)\n",
       "      (conv2): Conv2d(128, 128, kernel_size=(3, 3), stride=(1, 1), padding=(1, 1), bias=False)\n",
       "      (bn2): BatchNorm2d(128, eps=1e-05, momentum=0.1, affine=True, track_running_stats=True)\n",
       "    )\n",
       "    (2): BasicBlock(\n",
       "      (conv1): Conv2d(128, 128, kernel_size=(3, 3), stride=(1, 1), padding=(1, 1), bias=False)\n",
       "      (bn1): BatchNorm2d(128, eps=1e-05, momentum=0.1, affine=True, track_running_stats=True)\n",
       "      (relu): ReLU(inplace=True)\n",
       "      (conv2): Conv2d(128, 128, kernel_size=(3, 3), stride=(1, 1), padding=(1, 1), bias=False)\n",
       "      (bn2): BatchNorm2d(128, eps=1e-05, momentum=0.1, affine=True, track_running_stats=True)\n",
       "    )\n",
       "    (3): BasicBlock(\n",
       "      (conv1): Conv2d(128, 128, kernel_size=(3, 3), stride=(1, 1), padding=(1, 1), bias=False)\n",
       "      (bn1): BatchNorm2d(128, eps=1e-05, momentum=0.1, affine=True, track_running_stats=True)\n",
       "      (relu): ReLU(inplace=True)\n",
       "      (conv2): Conv2d(128, 128, kernel_size=(3, 3), stride=(1, 1), padding=(1, 1), bias=False)\n",
       "      (bn2): BatchNorm2d(128, eps=1e-05, momentum=0.1, affine=True, track_running_stats=True)\n",
       "    )\n",
       "  )\n",
       "  (avgpool): AdaptiveAvgPool2d(output_size=(1, 1))\n",
       "  (fc): Linear(in_features=128, out_features=10, bias=True)\n",
       ")"
      ]
     },
     "execution_count": 25,
     "metadata": {},
     "output_type": "execute_result"
    }
   ],
   "source": [
    "# create model\n",
    "torch.cuda.empty_cache()\n",
    "\n",
    "model = model_func()\n",
    "model.cuda()"
   ]
  },
  {
   "cell_type": "markdown",
   "metadata": {
    "pycharm": {
     "name": "#%% md\n"
    }
   },
   "source": [
    "# training parameters"
   ]
  },
  {
   "cell_type": "code",
   "execution_count": 26,
   "metadata": {
    "collapsed": false,
    "jupyter": {
     "outputs_hidden": false
    },
    "pycharm": {
     "name": "#%%\n"
    },
    "tags": [
     "re_run"
    ]
   },
   "outputs": [
    {
     "name": "stdout",
     "output_type": "stream",
     "text": [
      "../tensorboard/cifar10/full_supervised/2020-08-26_15:14:22_wideresnet28_2_1.0S\n"
     ]
    }
   ],
   "source": [
    "# tensorboard\n",
    "tensorboard_title = \"%s_%s_%.1fS\" % (get_datetime(), model_func.__name__, args.supervised_ratio)\n",
    "checkpoint_title = \"%s_%.1fS\" % (model_func.__name__, args.supervised_ratio)\n",
    "tensorboard = SummaryWriter(log_dir=\"%s/%s\" % (args.tensorboard_path, tensorboard_title), comment=model_func.__name__)\n",
    "print(os.path.join(args.tensorboard_path, tensorboard_title))\n",
    "\n",
    "# losses\n",
    "loss_ce = nn.CrossEntropyLoss(reduction=\"mean\")\n",
    "\n",
    "# optimizer\n",
    "# optimizer = torch.optim.Adam(model.parameters(), lr=args.learning_rate)\n",
    "optimizer = torch.optim.SGD(model.parameters(), lr=0.1)\n",
    "\n",
    "# callbacks\n",
    "# https://arxiv.org/pdf/1610.02242.pdf page 11\n",
    "# TODO FIND  A WAY TO DIFFERENTIATE LR SCHEDULER FOR CIFAR10 AND UBS8K\n",
    "def lr_lambda(e):\n",
    "    if e < 60:\n",
    "        return 1\n",
    "    \n",
    "    elif 60 <= e < 120\n",
    "        return 0.1\n",
    "    \n",
    "    else:\n",
    "#         return 0.01\n",
    "    \n",
    "lr_lambda = lambda epoch: (1.0 + numpy.cos((epoch-1)*numpy.pi/args.nb_epoch)) * 0.5\n",
    "lr_scheduler = LambdaLR(optimizer, lr_lambda)\n",
    "\n",
    "# Checkpoint\n",
    "checkpoint = CheckPoint(model, optimizer, mode=\"max\", name=\"%s/%s.torch\" % (args.checkpoint_path, checkpoint_title))\n",
    "\n",
    "# Metrics\n",
    "fscore_fn = FScore()\n",
    "acc_fn = CategoricalAccuracy()\n",
    "avg = ContinueAverage()\n",
    "\n",
    "reset_metrics = lambda : [m.reset() for m in [fscore_fn, acc_fn, avg]]\n",
    "\n",
    "def get_lr(optimizer):\n",
    "    for param_group in optimizer.param_groups:\n",
    "        return param_group['lr']"
   ]
  },
  {
   "cell_type": "code",
   "execution_count": 27,
   "metadata": {},
   "outputs": [],
   "source": [
    "# import numpy as np\n",
    "# import matplotlib.pyplot as plt\n",
    "\n",
    "# def lr_lambda(e):\n",
    "#     if e < 80:\n",
    "#         phase = 1 - e / 80\n",
    "#         return np.exp(-5 * phase**2)\n",
    "    \n",
    "#     elif 80 <= e < args.nb_epoch - 50:\n",
    "#         return 1\n",
    "#     else:\n",
    "#         phase = (args.nb_epoch -e) / 50\n",
    "#         return np.exp(-5 * (1 - phase)**2)\n",
    "\n",
    "# x = np.linspace(0, 300, 300)\n",
    "# y = [args.learning_rate * lr_lambda(x_) for x_ in x]\n",
    "\n",
    "# plt.plot(x, y)\n",
    "# plt.show()"
   ]
  },
  {
   "cell_type": "code",
   "execution_count": 28,
   "metadata": {
    "tags": [
     "re_run"
    ]
   },
   "outputs": [],
   "source": [
    "def maximum():\n",
    "    def func(key, value):\n",
    "        if key not in func.max:\n",
    "            func.max[key] = value\n",
    "        else:\n",
    "            if func.max[key] < value:\n",
    "                func.max[key] = value\n",
    "        return func.max[key]\n",
    "\n",
    "    func.max = dict()\n",
    "    return func\n",
    "maximum_fn = maximum()"
   ]
  },
  {
   "cell_type": "markdown",
   "metadata": {
    "pycharm": {
     "name": "#%% md\n"
    }
   },
   "source": [
    "## Can resume previous training"
   ]
  },
  {
   "cell_type": "code",
   "execution_count": 29,
   "metadata": {
    "pycharm": {
     "name": "#%%\n"
    }
   },
   "outputs": [],
   "source": [
    "if args.resume:\n",
    "    checkpoint.load_last()"
   ]
  },
  {
   "cell_type": "markdown",
   "metadata": {
    "pycharm": {
     "name": "#%% md\n"
    }
   },
   "source": [
    "## training function"
   ]
  },
  {
   "cell_type": "code",
   "execution_count": 30,
   "metadata": {
    "collapsed": false,
    "jupyter": {
     "outputs_hidden": false
    },
    "pycharm": {
     "name": "#%%\n"
    },
    "tags": [
     "re_run"
    ]
   },
   "outputs": [
    {
     "name": "stdout",
     "output_type": "stream",
     "text": [
      "         Epoch  - %      - Losses:  ce     - metrics:  acc         | F1       - Time  \n"
     ]
    }
   ],
   "source": [
    "UNDERLINE_SEQ = \"\\033[1;4m\"\n",
    "RESET_SEQ = \"\\033[0m\"\n",
    "\n",
    "\n",
    "header_form = \"{:<8.8} {:<6.6} - {:<6.6} - {:<8.8} {:<6.6} - {:<9.9} {:<12.12}| {:<9.9}- {:<6.6}\"\n",
    "value_form  = \"{:<8.8} {:<6} - {:<6} - {:<8.8} {:<6.4f} - {:<9.9} {:<10.4f}| {:<9.4f}- {:<6.4f}\"\n",
    "\n",
    "header = header_form.format(\n",
    "    \"\", \"Epoch\", \"%\", \"Losses:\", \"ce\", \"metrics: \", \"acc\", \"F1 \",\"Time\"\n",
    ")\n",
    "\n",
    "\n",
    "train_form = value_form\n",
    "val_form = UNDERLINE_SEQ + value_form + RESET_SEQ\n",
    "\n",
    "print(header)"
   ]
  },
  {
   "cell_type": "code",
   "execution_count": 31,
   "metadata": {
    "tags": [
     "re_run"
    ]
   },
   "outputs": [],
   "source": [
    "def train(epoch):\n",
    "    start_time = time.time()\n",
    "    print(\"\")\n",
    "\n",
    "    reset_metrics()\n",
    "    model.train()\n",
    "\n",
    "    for i, (X, y) in enumerate(train_loader):        \n",
    "        X = X.cuda()\n",
    "        y = y.cuda()\n",
    "\n",
    "        logits = model(X)        \n",
    "        loss = loss_ce(logits, y)\n",
    "\n",
    "        optimizer.zero_grad()\n",
    "        loss.backward()\n",
    "        optimizer.step()\n",
    "\n",
    "        with torch.set_grad_enabled(False):\n",
    "            pred = torch.softmax(logits, dim=1)\n",
    "            pred_arg = torch.argmax(logits, dim=1)\n",
    "            y_one_hot = F.one_hot(y, num_classes=10)\n",
    "\n",
    "            acc = acc_fn(pred_arg, y).mean\n",
    "            fscore = fscore_fn(pred, y_one_hot).mean\n",
    "            avg_ce = avg(loss.item()).mean\n",
    "\n",
    "            # logs\n",
    "            print(train_form.format(\n",
    "                \"Training: \",\n",
    "                epoch + 1,\n",
    "                int(100 * (i + 1) / len(train_loader)),\n",
    "                \"\", avg_ce,\n",
    "                \"\", acc, fscore,\n",
    "                time.time() - start_time\n",
    "            ), end=\"\\r\")\n",
    "\n",
    "    tensorboard.add_scalar(\"train/Lce\", avg_ce, epoch)\n",
    "    tensorboard.add_scalar(\"train/f1\", fscore, epoch)\n",
    "    tensorboard.add_scalar(\"train/acc\", acc, epoch)"
   ]
  },
  {
   "cell_type": "code",
   "execution_count": 32,
   "metadata": {
    "collapsed": false,
    "jupyter": {
     "outputs_hidden": false
    },
    "pycharm": {
     "name": "#%%\n"
    },
    "tags": [
     "re_run"
    ]
   },
   "outputs": [],
   "source": [
    "def val(epoch):\n",
    "    start_time = time.time()\n",
    "    print(\"\")\n",
    "    reset_metrics()\n",
    "    model.eval()\n",
    "\n",
    "    with torch.set_grad_enabled(False):\n",
    "        for i, (X, y) in enumerate(val_loader):\n",
    "            X = X.cuda()\n",
    "            y = y.cuda()\n",
    "\n",
    "            logits = model(X)\n",
    "            loss = loss_ce(logits, y)\n",
    "\n",
    "            # metrics\n",
    "            pred = torch.softmax(logits, dim=1)\n",
    "            pred_arg = torch.argmax(logits, dim=1)\n",
    "            y_one_hot = F.one_hot(y, num_classes=10)\n",
    "\n",
    "            acc = acc_fn(pred_arg, y).mean\n",
    "            fscore = fscore_fn(pred, y_one_hot).mean\n",
    "            avg_ce = avg(loss.item()).mean\n",
    "\n",
    "            # logs\n",
    "            print(val_form.format(\n",
    "                \"Validation: \",\n",
    "                epoch + 1,\n",
    "                int(100 * (i + 1) / len(val_loader)),\n",
    "                \"\", avg_ce,\n",
    "                \"\", acc, fscore,\n",
    "                time.time() - start_time\n",
    "            ), end=\"\\r\")\n",
    "\n",
    "    tensorboard.add_scalar(\"val/Lce\", avg_ce, epoch)\n",
    "    tensorboard.add_scalar(\"val/f1\", fscore, epoch)\n",
    "    tensorboard.add_scalar(\"val/acc\", acc, epoch)\n",
    "    \n",
    "    tensorboard.add_scalar(\"hyperparameters/learning_rate\", get_lr(optimizer), epoch)\n",
    "    \n",
    "    tensorboard.add_scalar(\"max/acc\", maximum_fn(\"acc\", acc), epoch )\n",
    "    tensorboard.add_scalar(\"max/f1\", maximum_fn(\"f1\", fscore), epoch )\n",
    "\n",
    "    checkpoint.step(acc)\n",
    "    lr_scheduler.step()"
   ]
  },
  {
   "cell_type": "code",
   "execution_count": 33,
   "metadata": {
    "collapsed": false,
    "jupyter": {
     "outputs_hidden": false
    },
    "pycharm": {
     "name": "#%%\n"
    },
    "tags": [
     "re_run"
    ]
   },
   "outputs": [
    {
     "name": "stdout",
     "output_type": "stream",
     "text": [
      "         Epoch  - %      - Losses:  ce     - metrics:  acc         | F1       - Time  \n",
      "\n",
      "Training 1      - 100    -          1.4843 -           0.4546    | 0.3498   - 13.7381\n",
      "\u001b[1;4mValidati 1      - 100    -          1.2856 -           0.5398    | 0.5122   - 0.8765\u001b[0m\n",
      " better performance: saving ...\n",
      "\n",
      "Training 2      - 100    -          1.0810 -           0.6142    | 0.5852   - 15.7022\n",
      "\u001b[1;4mValidati 2      - 100    -          0.9545 -           0.6661    | 0.6521   - 0.8737\u001b[0m\n",
      " better performance: saving ...\n",
      "\n",
      "Training 3      - 100    -          0.8818 -           0.6909    | 0.6777   - 15.6738\n",
      "\u001b[1;4mValidati 3      - 100    -          0.9000 -           0.6900    | 0.6904   - 0.9114\u001b[0m\n",
      " better performance: saving ...\n",
      "\n",
      "Training 4      - 100    -          0.7590 -           0.7365    | 0.7302   - 14.5510\n",
      "\u001b[1;4mValidati 4      - 100    -          0.7547 -           0.7413    | 0.7400   - 0.9551\u001b[0m\n",
      " better performance: saving ...\n",
      "\n",
      "Training 5      - 100    -          0.6765 -           0.7653    | 0.7614   - 13.3209\n",
      "\u001b[1;4mValidati 5      - 100    -          0.6976 -           0.7649    | 0.7654   - 0.9052\u001b[0m\n",
      " better performance: saving ...\n",
      "\n",
      "Training 6      - 100    -          0.6085 -           0.7902    | 0.7888   - 15.4604\n",
      "\u001b[1;4mValidati 6      - 100    -          0.7059 -           0.7668    | 0.7696   - 0.9490\u001b[0m\n",
      " better performance: saving ...\n",
      "\n",
      "Training 7      - 100    -          0.5626 -           0.8057    | 0.8054   - 14.4418\n",
      "\u001b[1;4mValidati 7      - 100    -          0.6732 -           0.7782    | 0.7809   - 0.9179\u001b[0m\n",
      " better performance: saving ...\n",
      "\n",
      "Training 8      - 100    -          0.5303 -           0.8169    | 0.8168   - 14.1421\n",
      "\u001b[1;4mValidati 8      - 100    -          0.5720 -           0.8027    | 0.8067   - 0.9128\u001b[0m\n",
      " better performance: saving ...\n",
      "\n",
      "Training 9      - 100    -          0.4920 -           0.8305    | 0.8307   - 14.2546\n",
      "\u001b[1;4mValidati 9      - 100    -          0.6136 -           0.7957    | 0.7994   - 0.9594\u001b[0m\n",
      "Training 10     - 100    -          0.4678 -           0.8377    | 0.8390   - 15.7524\n",
      "\u001b[1;4mValidati 10     - 100    -          0.5386 -           0.8241    | 0.8261   - 0.9494\u001b[0m\n",
      " better performance: saving ...\n",
      "\n",
      "Training 11     - 100    -          0.4467 -           0.8442    | 0.8465   - 15.7136\n",
      "\u001b[1;4mValidati 11     - 100    -          0.5469 -           0.8179    | 0.8219   - 0.9889\u001b[0m\n",
      "Training 12     - 100    -          0.4217 -           0.8553    | 0.8560   - 16.1372\n",
      "\u001b[1;4mValidati 12     - 100    -          0.4752 -           0.8381    | 0.8422   - 0.9263\u001b[0m\n",
      " better performance: saving ...\n",
      "\n",
      "Training 13     - 100    -          0.4019 -           0.8611    | 0.8625   - 15.5919\n",
      "\u001b[1;4mValidati 13     - 100    -          0.5271 -           0.8284    | 0.8304   - 0.9264\u001b[0m\n",
      "Training 14     - 100    -          0.3860 -           0.8660    | 0.8686   - 15.5051\n",
      "\u001b[1;4mValidati 14     - 100    -          0.4671 -           0.8460    | 0.8468   - 0.9019\u001b[0m\n",
      " better performance: saving ...\n",
      "\n",
      "Training 15     - 100    -          0.3680 -           0.8714    | 0.8726   - 15.1279\n",
      "\u001b[1;4mValidati 15     - 100    -          0.4902 -           0.8371    | 0.8388   - 0.9413\u001b[0m\n",
      "Training 16     - 100    -          0.3576 -           0.8757    | 0.8769   - 15.2325\n",
      "\u001b[1;4mValidati 16     - 100    -          0.5151 -           0.8367    | 0.8377   - 0.8950\u001b[0m\n",
      "Training 17     - 100    -          0.3402 -           0.8816    | 0.8827   - 15.1203\n",
      "\u001b[1;4mValidati 17     - 100    -          0.4391 -           0.8610    | 0.8629   - 0.9608\u001b[0m\n",
      " better performance: saving ...\n",
      "\n",
      "Training 18     - 100    -          0.3271 -           0.8855    | 0.8874   - 15.9131\n",
      "\u001b[1;4mValidati 18     - 100    -          0.4465 -           0.8560    | 0.8569   - 0.9113\u001b[0m\n",
      "Training 19     - 100    -          0.3110 -           0.8921    | 0.8928   - 15.1642\n",
      "\u001b[1;4mValidati 19     - 100    -          0.4572 -           0.8492    | 0.8513   - 0.9747\u001b[0m\n",
      "Training 20     - 100    -          0.2994 -           0.8973    | 0.8981   - 16.0529\n",
      "\u001b[1;4mValidati 20     - 100    -          0.4314 -           0.8634    | 0.8667   - 0.9458\u001b[0m\n",
      " better performance: saving ...\n",
      "\n",
      "Training 21     - 100    -          0.2928 -           0.8978    | 0.8985   - 15.5945\n",
      "\u001b[1;4mValidati 21     - 100    -          0.4489 -           0.8573    | 0.8598   - 0.9941\u001b[0m\n",
      "Training 22     - 100    -          0.2803 -           0.9030    | 0.9038   - 16.3488\n",
      "\u001b[1;4mValidati 22     - 100    -          0.4863 -           0.8472    | 0.8513   - 0.9601\u001b[0m\n",
      "Training 23     - 100    -          0.2717 -           0.9051    | 0.9069   - 16.4779\n",
      "\u001b[1;4mValidati 23     - 100    -          0.4157 -           0.8698    | 0.8716   - 0.9927\u001b[0m\n",
      " better performance: saving ...\n",
      "\n",
      "Training 24     - 100    -          0.2642 -           0.9080    | 0.9092   - 16.1950\n",
      "\u001b[1;4mValidati 24     - 100    -          0.4165 -           0.8666    | 0.8697   - 1.0166\u001b[0m\n",
      "Training 25     - 100    -          0.2513 -           0.9119    | 0.9131   - 16.2006\n",
      "\u001b[1;4mValidati 25     - 100    -          0.4287 -           0.8646    | 0.8696   - 0.9230\u001b[0m\n",
      "Training 26     - 100    -          0.2471 -           0.9135    | 0.9137   - 16.2672\n",
      "\u001b[1;4mValidati 26     - 100    -          0.4027 -           0.8724    | 0.8755   - 0.9253\u001b[0m\n",
      " better performance: saving ...\n",
      "\n",
      "Training 27     - 100    -          0.2392 -           0.9166    | 0.9169   - 15.4682\n",
      "\u001b[1;4mValidati 27     - 100    -          0.4715 -           0.8573    | 0.8597   - 0.9368\u001b[0m\n",
      "Training 28     - 100    -          0.2319 -           0.9179    | 0.9186   - 15.4514\n",
      "\u001b[1;4mValidati 28     - 100    -          0.4300 -           0.8701    | 0.8708   - 0.9845\u001b[0m\n",
      "Training 29     - 100    -          0.2225 -           0.9213    | 0.9219   - 15.6744\n",
      "\u001b[1;4mValidati 29     - 100    -          0.4096 -           0.8721    | 0.8741   - 0.9972\u001b[0m\n",
      "Training 30     - 100    -          0.2159 -           0.9230    | 0.9246   - 15.5867\n",
      "\u001b[1;4mValidati 30     - 100    -          0.4409 -           0.8680    | 0.8705   - 0.9990\u001b[0m\n",
      "Training 31     - 100    -          0.2073 -           0.9281    | 0.9284   - 15.2364\n",
      "\u001b[1;4mValidati 31     - 100    -          0.4099 -           0.8742    | 0.8762   - 1.0003\u001b[0m\n",
      " better performance: saving ...\n",
      "\n",
      "Training 32     - 100    -          0.2004 -           0.9291    | 0.9298   - 15.5675\n",
      "\u001b[1;4mValidati 32     - 100    -          0.4140 -           0.8796    | 0.8804   - 0.9534\u001b[0m\n",
      " better performance: saving ...\n",
      "\n",
      "Training 33     - 100    -          0.1992 -           0.9289    | 0.9297   - 16.0918\n",
      "\u001b[1;4mValidati 33     - 100    -          0.4583 -           0.8589    | 0.8610   - 0.9278\u001b[0m\n",
      "Training 34     - 100    -          0.1921 -           0.9327    | 0.9333   - 15.7359\n",
      "\u001b[1;4mValidati 34     - 100    -          0.4171 -           0.8720    | 0.8738   - 1.0211\u001b[0m\n",
      "Training 35     - 100    -          0.1832 -           0.9354    | 0.9363   - 15.5932\n",
      "\u001b[1;4mValidati 35     - 100    -          0.5103 -           0.8628    | 0.8650   - 0.9979\u001b[0m\n",
      "Training 36     - 100    -          0.1808 -           0.9366    | 0.9375   - 15.3209\n",
      "\u001b[1;4mValidati 36     - 100    -          0.4272 -           0.8708    | 0.8721   - 0.9500\u001b[0m\n",
      "Training 37     - 100    -          0.1776 -           0.9368    | 0.9377   - 16.1722\n",
      "\u001b[1;4mValidati 37     - 100    -          0.4296 -           0.8777    | 0.8792   - 0.9847\u001b[0m\n",
      "Training 38     - 100    -          0.1713 -           0.9394    | 0.9398   - 15.5141\n",
      "\u001b[1;4mValidati 38     - 100    -          0.4198 -           0.8772    | 0.8797   - 1.0055\u001b[0m\n",
      "Training 39     - 100    -          0.1700 -           0.9396    | 0.9394   - 15.6082\n",
      "\u001b[1;4mValidati 39     - 100    -          0.4251 -           0.8799    | 0.8811   - 1.0110\u001b[0m\n",
      " better performance: saving ...\n",
      "\n",
      "Training 40     - 100    -          0.1634 -           0.9426    | 0.9431   - 16.2104\n",
      "\u001b[1;4mValidati 40     - 100    -          0.4309 -           0.8798    | 0.8822   - 0.9821\u001b[0m\n",
      "Training 41     - 100    -          0.1596 -           0.9443    | 0.9449   - 15.6741\n",
      "\u001b[1;4mValidati 41     - 100    -          0.4298 -           0.8773    | 0.8794   - 0.9681\u001b[0m\n",
      "Training 42     - 100    -          0.1567 -           0.9444    | 0.9455   - 15.7542\n",
      "\u001b[1;4mValidati 42     - 100    -          0.4628 -           0.8740    | 0.8768   - 0.9616\u001b[0m\n",
      "Training 43     - 100    -          0.1486 -           0.9464    | 0.9469   - 15.7730\n",
      "\u001b[1;4mValidati 43     - 100    -          0.4183 -           0.8814    | 0.8825   - 0.9389\u001b[0m\n",
      " better performance: saving ...\n",
      "\n",
      "Training 44     - 100    -          0.1419 -           0.9495    | 0.9497   - 15.4564\n",
      "\u001b[1;4mValidati 44     - 100    -          0.4310 -           0.8812    | 0.8832   - 0.9133\u001b[0m\n",
      "Training 45     - 100    -          0.1464 -           0.9490    | 0.9493   - 15.6476\n",
      "\u001b[1;4mValidati 45     - 100    -          0.4438 -           0.8795    | 0.8812   - 0.9441\u001b[0m\n",
      "Training 46     - 100    -          0.1382 -           0.9506    | 0.9511   - 15.6750\n",
      "\u001b[1;4mValidati 46     - 100    -          0.4125 -           0.8863    | 0.8880   - 0.9774\u001b[0m\n",
      " better performance: saving ...\n",
      "\n",
      "Training 47     - 100    -          0.1326 -           0.9531    | 0.9536   - 15.4586\n",
      "\u001b[1;4mValidati 47     - 100    -          0.5095 -           0.8648    | 0.8674   - 0.9337\u001b[0m\n",
      "Training 48     - 100    -          0.1304 -           0.9536    | 0.9546   - 15.2933\n",
      "\u001b[1;4mValidati 48     - 100    -          0.4392 -           0.8849    | 0.8863   - 0.9277\u001b[0m\n",
      "Training 49     - 100    -          0.1266 -           0.9549    | 0.9552   - 14.2003\n",
      "\u001b[1;4mValidati 49     - 100    -          0.5054 -           0.8683    | 0.8702   - 1.0181\u001b[0m\n",
      "Training 50     - 100    -          0.1265 -           0.9541    | 0.9547   - 16.1603\n",
      "\u001b[1;4mValidati 50     - 100    -          0.4374 -           0.8875    | 0.8897   - 1.0205\u001b[0m\n",
      " better performance: saving ...\n",
      "\n",
      "Training 51     - 100    -          0.1247 -           0.9547    | 0.9554   - 13.7234\n",
      "\u001b[1;4mValidati 51     - 100    -          0.4472 -           0.8831    | 0.8847   - 0.9573\u001b[0m\n",
      "Training 52     - 100    -          0.1177 -           0.9574    | 0.9583   - 13.8035\n",
      "\u001b[1;4mValidati 52     - 100    -          0.4852 -           0.8832    | 0.8844   - 0.9618\u001b[0m\n",
      "Training 53     - 100    -          0.1211 -           0.9564    | 0.9568   - 15.8645\n",
      "\u001b[1;4mValidati 53     - 100    -          0.4584 -           0.8830    | 0.8842   - 1.0170\u001b[0m\n",
      "Training 54     - 100    -          0.1131 -           0.9598    | 0.9600   - 15.1526\n",
      "\u001b[1;4mValidati 54     - 100    -          0.4809 -           0.8835    | 0.8851   - 0.9534\u001b[0m\n",
      "Training 55     - 100    -          0.1126 -           0.9586    | 0.9590   - 14.1710\n",
      "\u001b[1;4mValidati 55     - 100    -          0.4513 -           0.8879    | 0.8894   - 0.9067\u001b[0m\n",
      " better performance: saving ...\n",
      "\n",
      "Training 56     - 100    -          0.1068 -           0.9622    | 0.9621   - 13.5091\n",
      "\u001b[1;4mValidati 56     - 100    -          0.4904 -           0.8782    | 0.8803   - 0.8901\u001b[0m\n",
      "Training 57     - 100    -          0.1076 -           0.9610    | 0.9617   - 14.6738\n",
      "\u001b[1;4mValidati 57     - 100    -          0.4759 -           0.8858    | 0.8869   - 0.9272\u001b[0m\n",
      "Training 58     - 100    -          0.1099 -           0.9612    | 0.9613   - 14.1479\n",
      "\u001b[1;4mValidati 58     - 100    -          0.4596 -           0.8845    | 0.8853   - 0.9428\u001b[0m\n",
      "Training 59     - 100    -          0.1002 -           0.9644    | 0.9646   - 16.0514\n",
      "\u001b[1;4mValidati 59     - 100    -          0.4635 -           0.8857    | 0.8870   - 0.9543\u001b[0m\n",
      "Training 60     - 100    -          0.1034 -           0.9631    | 0.9634   - 15.2915\n",
      "\u001b[1;4mValidati 60     - 100    -          0.4920 -           0.8808    | 0.8821   - 1.0092\u001b[0m\n",
      "Training 61     - 100    -          0.0992 -           0.9643    | 0.9643   - 14.5624\n",
      "\u001b[1;4mValidati 61     - 100    -          0.4704 -           0.8841    | 0.8873   - 0.9489\u001b[0m\n",
      "Training 62     - 100    -          0.0928 -           0.9662    | 0.9669   - 14.3632\n",
      "\u001b[1;4mValidati 62     - 100    -          0.4621 -           0.8914    | 0.8924   - 1.0152\u001b[0m\n",
      " better performance: saving ...\n",
      "\n",
      "Training 63     - 100    -          0.0952 -           0.9660    | 0.9662   - 13.8722\n",
      "\u001b[1;4mValidati 63     - 100    -          0.4627 -           0.8845    | 0.8855   - 0.9623\u001b[0m\n",
      "Training 64     - 100    -          0.0903 -           0.9683    | 0.9683   - 15.8479\n",
      "\u001b[1;4mValidati 64     - 100    -          0.4897 -           0.8848    | 0.8856   - 0.8771\u001b[0m\n",
      "Training 65     - 100    -          0.0901 -           0.9679    | 0.9683   - 11.6569\n",
      "\u001b[1;4mValidati 65     - 100    -          0.4778 -           0.8865    | 0.8884   - 0.9315\u001b[0m\n",
      "Training 66     - 100    -          0.0895 -           0.9675    | 0.9678   - 13.7903\n",
      "\u001b[1;4mValidati 66     - 100    -          0.4684 -           0.8847    | 0.8885   - 0.9238\u001b[0m\n",
      "Training 67     - 100    -          0.0846 -           0.9699    | 0.9703   - 15.8729\n",
      "\u001b[1;4mValidati 67     - 100    -          0.5054 -           0.8865    | 0.8864   - 1.2777\u001b[0m\n",
      "Training 68     - 100    -          0.0855 -           0.9692    | 0.9696   - 15.7288\n",
      "\u001b[1;4mValidati 68     - 100    -          0.4950 -           0.8877    | 0.8879   - 0.9831\u001b[0m\n",
      "Training 69     - 100    -          0.0829 -           0.9703    | 0.9703   - 14.0066\n",
      "\u001b[1;4mValidati 69     - 100    -          0.4995 -           0.8864    | 0.8876   - 0.9909\u001b[0m\n",
      "Training 70     - 100    -          0.0832 -           0.9699    | 0.9699   - 13.6736\n",
      "\u001b[1;4mValidati 70     - 100    -          0.5086 -           0.8874    | 0.8885   - 1.0240\u001b[0m\n",
      "Training 71     - 100    -          0.0792 -           0.9717    | 0.9720   - 14.4631\n",
      "\u001b[1;4mValidati 71     - 100    -          0.5095 -           0.8843    | 0.8858   - 0.9717\u001b[0m\n",
      "Training 72     - 100    -          0.0789 -           0.9716    | 0.9718   - 15.6409\n",
      "\u001b[1;4mValidati 72     - 100    -          0.5037 -           0.8871    | 0.8880   - 0.9572\u001b[0m\n",
      "Training 73     - 100    -          0.0779 -           0.9721    | 0.9723   - 15.7126\n",
      "\u001b[1;4mValidati 73     - 100    -          0.5095 -           0.8861    | 0.8877   - 0.9769\u001b[0m\n",
      "Training 74     - 100    -          0.0753 -           0.9731    | 0.9733   - 13.9276\n",
      "\u001b[1;4mValidati 74     - 100    -          0.5382 -           0.8832    | 0.8845   - 0.9337\u001b[0m\n",
      "Training 75     - 100    -          0.0751 -           0.9735    | 0.9739   - 13.8755\n",
      "\u001b[1;4mValidati 75     - 100    -          0.5309 -           0.8830    | 0.8854   - 0.9970\u001b[0m\n",
      "Training 76     - 100    -          0.0683 -           0.9753    | 0.9754   - 15.4728\n",
      "\u001b[1;4mValidati 76     - 100    -          0.5061 -           0.8882    | 0.8895   - 0.9419\u001b[0m\n",
      "Training 77     - 100    -          0.0700 -           0.9747    | 0.9753   - 15.2016\n",
      "\u001b[1;4mValidati 77     - 100    -          0.4787 -           0.8909    | 0.8926   - 0.9439\u001b[0m\n",
      "Training 78     - 100    -          0.0674 -           0.9758    | 0.9759   - 14.3705\n",
      "\u001b[1;4mValidati 78     - 100    -          0.5064 -           0.8870    | 0.8881   - 0.9033\u001b[0m\n",
      "Training 79     - 100    -          0.0710 -           0.9737    | 0.9739   - 15.8933\n",
      "\u001b[1;4mValidati 79     - 100    -          0.5044 -           0.8889    | 0.8898   - 0.9544\u001b[0m\n",
      "Training 80     - 100    -          0.0701 -           0.9749    | 0.9748   - 14.2887\n",
      "\u001b[1;4mValidati 80     - 100    -          0.5453 -           0.8844    | 0.8857   - 0.9280\u001b[0m\n",
      "Training 81     - 82     -          0.0639 -           0.9767    | 0.9769   - 11.4564\r"
     ]
    },
    {
     "ename": "KeyboardInterrupt",
     "evalue": "",
     "output_type": "error",
     "traceback": [
      "\u001b[0;31m---------------------------------------------------------------------------\u001b[0m",
      "\u001b[0;31mKeyboardInterrupt\u001b[0m                         Traceback (most recent call last)",
      "\u001b[0;32m<ipython-input-33-5f2ff7762e67>\u001b[0m in \u001b[0;36m<module>\u001b[0;34m\u001b[0m\n\u001b[1;32m      5\u001b[0m \u001b[0;34m\u001b[0m\u001b[0m\n\u001b[1;32m      6\u001b[0m \u001b[0;32mfor\u001b[0m \u001b[0me\u001b[0m \u001b[0;32min\u001b[0m \u001b[0mrange\u001b[0m\u001b[0;34m(\u001b[0m\u001b[0mstart_epoch\u001b[0m\u001b[0;34m,\u001b[0m \u001b[0margs\u001b[0m\u001b[0;34m.\u001b[0m\u001b[0mnb_epoch\u001b[0m\u001b[0;34m)\u001b[0m\u001b[0;34m:\u001b[0m\u001b[0;34m\u001b[0m\u001b[0;34m\u001b[0m\u001b[0m\n\u001b[0;32m----> 7\u001b[0;31m     \u001b[0mtrain\u001b[0m\u001b[0;34m(\u001b[0m\u001b[0me\u001b[0m\u001b[0;34m)\u001b[0m\u001b[0;34m\u001b[0m\u001b[0;34m\u001b[0m\u001b[0m\n\u001b[0m\u001b[1;32m      8\u001b[0m     \u001b[0mval\u001b[0m\u001b[0;34m(\u001b[0m\u001b[0me\u001b[0m\u001b[0;34m)\u001b[0m\u001b[0;34m\u001b[0m\u001b[0;34m\u001b[0m\u001b[0m\n",
      "\u001b[0;32m<ipython-input-31-697931cca793>\u001b[0m in \u001b[0;36mtrain\u001b[0;34m(epoch)\u001b[0m\n\u001b[1;32m     14\u001b[0m \u001b[0;34m\u001b[0m\u001b[0m\n\u001b[1;32m     15\u001b[0m         \u001b[0moptimizer\u001b[0m\u001b[0;34m.\u001b[0m\u001b[0mzero_grad\u001b[0m\u001b[0;34m(\u001b[0m\u001b[0;34m)\u001b[0m\u001b[0;34m\u001b[0m\u001b[0;34m\u001b[0m\u001b[0m\n\u001b[0;32m---> 16\u001b[0;31m         \u001b[0mloss\u001b[0m\u001b[0;34m.\u001b[0m\u001b[0mbackward\u001b[0m\u001b[0;34m(\u001b[0m\u001b[0;34m)\u001b[0m\u001b[0;34m\u001b[0m\u001b[0;34m\u001b[0m\u001b[0m\n\u001b[0m\u001b[1;32m     17\u001b[0m         \u001b[0moptimizer\u001b[0m\u001b[0;34m.\u001b[0m\u001b[0mstep\u001b[0m\u001b[0;34m(\u001b[0m\u001b[0;34m)\u001b[0m\u001b[0;34m\u001b[0m\u001b[0;34m\u001b[0m\u001b[0m\n\u001b[1;32m     18\u001b[0m \u001b[0;34m\u001b[0m\u001b[0m\n",
      "\u001b[0;32m~/.miniconda3/envs/dct/lib/python3.8/site-packages/torch/tensor.py\u001b[0m in \u001b[0;36mbackward\u001b[0;34m(self, gradient, retain_graph, create_graph)\u001b[0m\n\u001b[1;32m    183\u001b[0m                 \u001b[0mproducts\u001b[0m\u001b[0;34m.\u001b[0m \u001b[0mDefaults\u001b[0m \u001b[0mto\u001b[0m\u001b[0;31m \u001b[0m\u001b[0;31m`\u001b[0m\u001b[0;31m`\u001b[0m\u001b[0;32mFalse\u001b[0m\u001b[0;31m`\u001b[0m\u001b[0;31m`\u001b[0m\u001b[0;34m.\u001b[0m\u001b[0;34m\u001b[0m\u001b[0;34m\u001b[0m\u001b[0m\n\u001b[1;32m    184\u001b[0m         \"\"\"\n\u001b[0;32m--> 185\u001b[0;31m         \u001b[0mtorch\u001b[0m\u001b[0;34m.\u001b[0m\u001b[0mautograd\u001b[0m\u001b[0;34m.\u001b[0m\u001b[0mbackward\u001b[0m\u001b[0;34m(\u001b[0m\u001b[0mself\u001b[0m\u001b[0;34m,\u001b[0m \u001b[0mgradient\u001b[0m\u001b[0;34m,\u001b[0m \u001b[0mretain_graph\u001b[0m\u001b[0;34m,\u001b[0m \u001b[0mcreate_graph\u001b[0m\u001b[0;34m)\u001b[0m\u001b[0;34m\u001b[0m\u001b[0;34m\u001b[0m\u001b[0m\n\u001b[0m\u001b[1;32m    186\u001b[0m \u001b[0;34m\u001b[0m\u001b[0m\n\u001b[1;32m    187\u001b[0m     \u001b[0;32mdef\u001b[0m \u001b[0mregister_hook\u001b[0m\u001b[0;34m(\u001b[0m\u001b[0mself\u001b[0m\u001b[0;34m,\u001b[0m \u001b[0mhook\u001b[0m\u001b[0;34m)\u001b[0m\u001b[0;34m:\u001b[0m\u001b[0;34m\u001b[0m\u001b[0;34m\u001b[0m\u001b[0m\n",
      "\u001b[0;32m~/.miniconda3/envs/dct/lib/python3.8/site-packages/torch/autograd/__init__.py\u001b[0m in \u001b[0;36mbackward\u001b[0;34m(tensors, grad_tensors, retain_graph, create_graph, grad_variables)\u001b[0m\n\u001b[1;32m    123\u001b[0m         \u001b[0mretain_graph\u001b[0m \u001b[0;34m=\u001b[0m \u001b[0mcreate_graph\u001b[0m\u001b[0;34m\u001b[0m\u001b[0;34m\u001b[0m\u001b[0m\n\u001b[1;32m    124\u001b[0m \u001b[0;34m\u001b[0m\u001b[0m\n\u001b[0;32m--> 125\u001b[0;31m     Variable._execution_engine.run_backward(\n\u001b[0m\u001b[1;32m    126\u001b[0m         \u001b[0mtensors\u001b[0m\u001b[0;34m,\u001b[0m \u001b[0mgrad_tensors\u001b[0m\u001b[0;34m,\u001b[0m \u001b[0mretain_graph\u001b[0m\u001b[0;34m,\u001b[0m \u001b[0mcreate_graph\u001b[0m\u001b[0;34m,\u001b[0m\u001b[0;34m\u001b[0m\u001b[0;34m\u001b[0m\u001b[0m\n\u001b[1;32m    127\u001b[0m         allow_unreachable=True)  # allow_unreachable flag\n",
      "\u001b[0;31mKeyboardInterrupt\u001b[0m: "
     ]
    }
   ],
   "source": [
    "print(header)\n",
    "\n",
    "start_epoch = checkpoint.epoch_counter\n",
    "end_epoch = args.nb_epoch\n",
    "\n",
    "for e in range(start_epoch, args.nb_epoch):\n",
    "    train(e)\n",
    "    val(e)"
   ]
  },
  {
   "cell_type": "code",
   "execution_count": null,
   "metadata": {
    "tags": [
     "re_run"
    ]
   },
   "outputs": [],
   "source": [
    "tensorboard.flush()\n",
    "tensorboard.close()"
   ]
  },
  {
   "cell_type": "markdown",
   "metadata": {},
   "source": [
    "# ♫♪.ılılıll|̲̅̅●̲̅̅|̲̅̅=̲̅̅|̲̅̅●̲̅̅|llılılı.♫♪"
   ]
  },
  {
   "cell_type": "code",
   "execution_count": null,
   "metadata": {
    "pycharm": {
     "is_executing": false,
     "name": "#%%\n"
    }
   },
   "outputs": [],
   "source": []
  }
 ],
 "metadata": {
  "kernelspec": {
   "display_name": "dct",
   "language": "python",
   "name": "dct"
  },
  "language_info": {
   "codemirror_mode": {
    "name": "ipython",
    "version": 3
   },
   "file_extension": ".py",
   "mimetype": "text/x-python",
   "name": "python",
   "nbconvert_exporter": "python",
   "pygments_lexer": "ipython3",
   "version": "3.8.0"
  }
 },
 "nbformat": 4,
 "nbformat_minor": 4
}
