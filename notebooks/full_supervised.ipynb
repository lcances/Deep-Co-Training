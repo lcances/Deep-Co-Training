{
 "cells": [
  {
   "cell_type": "markdown",
   "metadata": {
    "jupyter": {
     "outputs_hidden": true
    }
   },
   "source": [
    "# import"
   ]
  },
  {
   "cell_type": "code",
   "execution_count": 4,
   "metadata": {},
   "outputs": [],
   "source": [
    "%load_ext autoreload\n",
    "%autoreload 2"
   ]
  },
  {
   "cell_type": "code",
   "execution_count": 5,
   "metadata": {},
   "outputs": [],
   "source": [
    "import os\n",
    "os.environ[\"MKL_NUM_THREADS\"] = \"2\"\n",
    "os.environ[\"NUMEXPR_NU M_THREADS\"] = \"2\"\n",
    "os.environ[\"OMP_NUM_THREADS\"] = \"2\"\n",
    "import time\n",
    "\n",
    "import numpy\n",
    "import torch\n",
    "import torch.nn as nn\n",
    "import torch.utils.data as data\n",
    "import torch.nn.functional as F\n",
    "import torchvision.transforms as transforms\n",
    "from torch.cuda.amp import autocast\n",
    "\n",
    "from torch.optim.lr_scheduler import LambdaLR\n",
    "from torch.utils.tensorboard import SummaryWriter"
   ]
  },
  {
   "cell_type": "code",
   "execution_count": 6,
   "metadata": {},
   "outputs": [],
   "source": [
    "from ubs8k.datasetManager import DatasetManager\n",
    "from ubs8k.datasets import Dataset\n",
    "\n",
    "from DCT.util.utils import reset_seed, get_datetime, get_model_from_name, load_dataset\n",
    "from DCT.util.checkpoint import CheckPoint\n",
    "from metric_utils.metrics import CategoricalAccuracy, FScore, ContinueAverage"
   ]
  },
  {
   "cell_type": "markdown",
   "metadata": {
    "pycharm": {
     "name": "#%% md\n"
    }
   },
   "source": [
    "# Arguments"
   ]
  },
  {
   "cell_type": "code",
   "execution_count": 7,
   "metadata": {
    "collapsed": false,
    "jupyter": {
     "outputs_hidden": false
    },
    "pycharm": {
     "name": "#%%\n"
    },
    "tags": [
     "re_run"
    ]
   },
   "outputs": [],
   "source": [
    "import argparse\n",
    "parser = argparse.ArgumentParser()\n",
    "parser.add_argument(\"-d\", \"--dataset_root\", default=\"../datasets\", type=str)\n",
    "parser.add_argument(\"-D\", \"--dataset\", default=\"cifar10\", type=str, help=\"available [ubs8k | cifar10]\")\n",
    "\n",
    "parser.add_argument(\"--supervised_ratio\", default=1.0, type=float)\n",
    "parser.add_argument(\"-t\", \"--train_folds\", nargs=\"+\", default=[1, 2, 3, 4, 5, 6, 7, 8, 9], type=int)\n",
    "parser.add_argument(\"-v\", \"--val_folds\", nargs=\"+\", default=[10], type=int)\n",
    "\n",
    "parser.add_argument(\"--model\", default=\"Pmodel\", type=str)\n",
    "parser.add_argument(\"--batch_size\", default=100, type=int)\n",
    "parser.add_argument(\"--nb_epoch\", default=100, type=int)\n",
    "parser.add_argument(\"--learning_rate\", default=0.003, type=int)\n",
    "\n",
    "parser.add_argument(\"--checkpoint_path\", default=\"../model_save/ubs8k/full_supervised\", type=str)\n",
    "parser.add_argument(\"--resume\", action=\"store_true\", default=False)\n",
    "parser.add_argument(\"--tensorboard_path\", default=\"../tensorboard/ubs8k/full_supervised\", type=str)\n",
    "parser.add_argument(\"--tensorboard_sufix\", default=\"\", type=str)\n",
    "\n",
    "args = parser.parse_args(\"\")"
   ]
  },
  {
   "cell_type": "code",
   "execution_count": 8,
   "metadata": {
    "tags": [
     "re_run"
    ]
   },
   "outputs": [
    {
     "data": {
      "text/plain": [
       "Namespace(batch_size=100, checkpoint_path='../model_save/cifar10/full_supervised', dataset='cifar10', dataset_root='../datasets', learning_rate=0.003, model='Pmodel', nb_epoch=100, resume=False, supervised_ratio=1.0, tensorboard_path='../tensorboard/cifar10/full_supervised', tensorboard_sufix='', train_folds=[1, 2, 3, 4, 5, 6, 7, 8, 9], val_folds=[10])"
      ]
     },
     "execution_count": 8,
     "metadata": {},
     "output_type": "execute_result"
    }
   ],
   "source": [
    "# modify checkpoint and tensorboard path to fit the dataset\n",
    "checkpoint_path_ = args.checkpoint_path.split(\"/\")\n",
    "tensorboard_path_ = args.tensorboard_path.split(\"/\")\n",
    "\n",
    "checkpoint_path_[2] = args.dataset\n",
    "tensorboard_path_[2] = args.dataset\n",
    "\n",
    "args.checkpoint_path = \"/\".join(checkpoint_path_)\n",
    "args.tensorboard_path = \"/\".join(tensorboard_path_)\n",
    "args"
   ]
  },
  {
   "cell_type": "markdown",
   "metadata": {
    "pycharm": {
     "name": "#%% md\n"
    }
   },
   "source": [
    "# initialisation"
   ]
  },
  {
   "cell_type": "code",
   "execution_count": 9,
   "metadata": {
    "collapsed": false,
    "jupyter": {
     "outputs_hidden": false
    },
    "pycharm": {
     "name": "#%%\n"
    },
    "tags": [
     "re_run"
    ]
   },
   "outputs": [],
   "source": [
    "reset_seed(1234)\n"
   ]
  },
  {
   "cell_type": "markdown",
   "metadata": {
    "pycharm": {
     "name": "#%% md\n"
    }
   },
   "source": [
    "# Prepare the dataset"
   ]
  },
  {
   "cell_type": "code",
   "execution_count": 10,
   "metadata": {
    "collapsed": false,
    "jupyter": {
     "outputs_hidden": false
    },
    "pycharm": {
     "name": "#%%\n"
    }
   },
   "outputs": [
    {
     "name": "stdout",
     "output_type": "stream",
     "text": [
      "Files already downloaded and verified\n",
      "Files already downloaded and verified\n"
     ]
    }
   ],
   "source": [
    "extra_train_transforms = [\n",
    "    transforms.RandomCrop(32, padding=4),\n",
    "    transforms.RandomHorizontalFlip(),\n",
    "]\n",
    "\n",
    "manager, train_loader, val_loader = load_dataset(\n",
    "    args.dataset,\n",
    "    \"supervised\",\n",
    "    dataset_root = args.dataset_root,\n",
    "    supervised_ratio = args.supervised_ratio,\n",
    "    batch_size = args.batch_size,\n",
    "    train_folds = args.train_folds,\n",
    "    val_folds = args.val_folds,\n",
    "    verbose = 2\n",
    ")"
   ]
  },
  {
   "cell_type": "markdown",
   "metadata": {},
   "source": [
    "# Prep model"
   ]
  },
  {
   "cell_type": "code",
   "execution_count": 11,
   "metadata": {
    "scrolled": true,
    "tags": [
     "re_run"
    ]
   },
   "outputs": [],
   "source": [
    "torch.cuda.empty_cache()\n",
    "\n",
    "model_func = get_model_from_name(args.model)\n",
    "model = model_func()\n",
    "model = model.cuda()\n"
   ]
  },
  {
   "cell_type": "code",
   "execution_count": 12,
   "metadata": {},
   "outputs": [
    {
     "name": "stdout",
     "output_type": "stream",
     "text": [
      "=============================================================================================\n",
      "                                      Kernel Shape       Output Shape  \\\n",
      "Layer                                                                   \n",
      "0_features.Conv2d_0                 [3, 128, 3, 3]  [64, 128, 32, 32]   \n",
      "1_features.BatchNorm2d_1                     [128]  [64, 128, 32, 32]   \n",
      "2_features.LeakyReLU_2                           -  [64, 128, 32, 32]   \n",
      "3_features.Conv2d_3               [128, 128, 3, 3]  [64, 128, 32, 32]   \n",
      "4_features.BatchNorm2d_4                     [128]  [64, 128, 32, 32]   \n",
      "5_features.LeakyReLU_5                           -  [64, 128, 32, 32]   \n",
      "6_features.Conv2d_6               [128, 128, 3, 3]  [64, 128, 32, 32]   \n",
      "7_features.BatchNorm2d_7                     [128]  [64, 128, 32, 32]   \n",
      "8_features.LeakyReLU_8                           -  [64, 128, 32, 32]   \n",
      "9_features.MaxPool2d_9                           -  [64, 128, 16, 16]   \n",
      "10_features.Dropout2d_10                         -  [64, 128, 16, 16]   \n",
      "11_features.Conv2d_11             [128, 256, 3, 3]  [64, 256, 16, 16]   \n",
      "12_features.BatchNorm2d_12                   [256]  [64, 256, 16, 16]   \n",
      "13_features.LeakyReLU_13                         -  [64, 256, 16, 16]   \n",
      "14_features.Conv2d_14             [256, 256, 3, 3]  [64, 256, 16, 16]   \n",
      "15_features.BatchNorm2d_15                   [256]  [64, 256, 16, 16]   \n",
      "16_features.LeakyReLU_16                         -  [64, 256, 16, 16]   \n",
      "17_features.Conv2d_17             [256, 256, 3, 3]  [64, 256, 16, 16]   \n",
      "18_features.BatchNorm2d_18                   [256]  [64, 256, 16, 16]   \n",
      "19_features.LeakyReLU_19                         -  [64, 256, 16, 16]   \n",
      "20_features.MaxPool2d_20                         -    [64, 256, 8, 8]   \n",
      "21_features.Dropout2d_21                         -    [64, 256, 8, 8]   \n",
      "22_features.Conv2d_22             [256, 512, 3, 3]    [64, 512, 6, 6]   \n",
      "23_features.BatchNorm2d_23                   [512]    [64, 512, 6, 6]   \n",
      "24_features.LeakyReLU_24                         -    [64, 512, 6, 6]   \n",
      "25_features.Conv2d_25             [512, 256, 1, 1]    [64, 256, 6, 6]   \n",
      "26_features.BatchNorm2d_26                   [256]    [64, 256, 6, 6]   \n",
      "27_features.LeakyReLU_27                         -    [64, 256, 6, 6]   \n",
      "28_features.Conv2d_28             [256, 128, 1, 1]    [64, 128, 6, 6]   \n",
      "29_features.BatchNorm2d_29                   [128]    [64, 128, 6, 6]   \n",
      "30_features.LeakyReLU_30                         -    [64, 128, 6, 6]   \n",
      "31_features.AdaptiveAvgPool2d_31                 -    [64, 128, 1, 1]   \n",
      "32_classifier.Flatten_0                          -          [64, 128]   \n",
      "33_classifier.BatchNorm1d_1                  [128]          [64, 128]   \n",
      "34_classifier.Linear_2                   [128, 10]           [64, 10]   \n",
      "\n",
      "                                    Params    Mult-Adds  \n",
      "Layer                                                    \n",
      "0_features.Conv2d_0                 3.584k    3.538944M  \n",
      "1_features.BatchNorm2d_1             256.0        128.0  \n",
      "2_features.LeakyReLU_2                   -            -  \n",
      "3_features.Conv2d_3               147.584k  150.994944M  \n",
      "4_features.BatchNorm2d_4             256.0        128.0  \n",
      "5_features.LeakyReLU_5                   -            -  \n",
      "6_features.Conv2d_6               147.584k  150.994944M  \n",
      "7_features.BatchNorm2d_7             256.0        128.0  \n",
      "8_features.LeakyReLU_8                   -            -  \n",
      "9_features.MaxPool2d_9                   -            -  \n",
      "10_features.Dropout2d_10                 -            -  \n",
      "11_features.Conv2d_11             295.168k   75.497472M  \n",
      "12_features.BatchNorm2d_12           512.0        256.0  \n",
      "13_features.LeakyReLU_13                 -            -  \n",
      "14_features.Conv2d_14              590.08k  150.994944M  \n",
      "15_features.BatchNorm2d_15           512.0        256.0  \n",
      "16_features.LeakyReLU_16                 -            -  \n",
      "17_features.Conv2d_17              590.08k  150.994944M  \n",
      "18_features.BatchNorm2d_18           512.0        256.0  \n",
      "19_features.LeakyReLU_19                 -            -  \n",
      "20_features.MaxPool2d_20                 -            -  \n",
      "21_features.Dropout2d_21                 -            -  \n",
      "22_features.Conv2d_22             1.18016M   42.467328M  \n",
      "23_features.BatchNorm2d_23          1.024k        512.0  \n",
      "24_features.LeakyReLU_24                 -            -  \n",
      "25_features.Conv2d_25             131.328k    4.718592M  \n",
      "26_features.BatchNorm2d_26           512.0        256.0  \n",
      "27_features.LeakyReLU_27                 -            -  \n",
      "28_features.Conv2d_28              32.896k    1.179648M  \n",
      "29_features.BatchNorm2d_29           256.0        128.0  \n",
      "30_features.LeakyReLU_30                 -            -  \n",
      "31_features.AdaptiveAvgPool2d_31         -            -  \n",
      "32_classifier.Flatten_0                  -            -  \n",
      "33_classifier.BatchNorm1d_1          256.0        128.0  \n",
      "34_classifier.Linear_2               1.29k        1.28k  \n",
      "---------------------------------------------------------------------------------------------\n",
      "                           Totals\n",
      "Total params            3.124106M\n",
      "Trainable params        3.124106M\n",
      "Non-trainable params          0.0\n",
      "Mult-Adds             731.385216M\n",
      "=============================================================================================\n"
     ]
    }
   ],
   "source": [
    "from torchsummaryX import summary\n",
    "input_tensor = torch.zeros((64, 3, 32, 32), dtype=torch.float)\n",
    "input_tensor = input_tensor.cuda()\n",
    "\n",
    "s = summary(model, input_tensor)\n"
   ]
  },
  {
   "cell_type": "markdown",
   "metadata": {},
   "source": [
    "## Prep training"
   ]
  },
  {
   "cell_type": "code",
   "execution_count": 13,
   "metadata": {
    "scrolled": true
   },
   "outputs": [
    {
     "data": {
      "text/plain": [
       "Pmodel(\n",
       "  (features): Sequential(\n",
       "    (0): Conv2d(3, 128, kernel_size=(3, 3), stride=(1, 1), padding=(1, 1))\n",
       "    (1): BatchNorm2d(128, eps=1e-05, momentum=0.999, affine=True, track_running_stats=True)\n",
       "    (2): LeakyReLU(negative_slope=0.1)\n",
       "    (3): Conv2d(128, 128, kernel_size=(3, 3), stride=(1, 1), padding=(1, 1))\n",
       "    (4): BatchNorm2d(128, eps=1e-05, momentum=0.999, affine=True, track_running_stats=True)\n",
       "    (5): LeakyReLU(negative_slope=0.1)\n",
       "    (6): Conv2d(128, 128, kernel_size=(3, 3), stride=(1, 1), padding=(1, 1))\n",
       "    (7): BatchNorm2d(128, eps=1e-05, momentum=0.999, affine=True, track_running_stats=True)\n",
       "    (8): LeakyReLU(negative_slope=0.1)\n",
       "    (9): MaxPool2d(kernel_size=(2, 2), stride=(2, 2), padding=0, dilation=1, ceil_mode=False)\n",
       "    (10): Dropout2d(p=0.5, inplace=False)\n",
       "    (11): Conv2d(128, 256, kernel_size=(3, 3), stride=(1, 1), padding=(1, 1))\n",
       "    (12): BatchNorm2d(256, eps=1e-05, momentum=0.999, affine=True, track_running_stats=True)\n",
       "    (13): LeakyReLU(negative_slope=0.1)\n",
       "    (14): Conv2d(256, 256, kernel_size=(3, 3), stride=(1, 1), padding=(1, 1))\n",
       "    (15): BatchNorm2d(256, eps=1e-05, momentum=0.999, affine=True, track_running_stats=True)\n",
       "    (16): LeakyReLU(negative_slope=0.1)\n",
       "    (17): Conv2d(256, 256, kernel_size=(3, 3), stride=(1, 1), padding=(1, 1))\n",
       "    (18): BatchNorm2d(256, eps=1e-05, momentum=0.999, affine=True, track_running_stats=True)\n",
       "    (19): LeakyReLU(negative_slope=0.1)\n",
       "    (20): MaxPool2d(kernel_size=(2, 2), stride=(2, 2), padding=0, dilation=1, ceil_mode=False)\n",
       "    (21): Dropout2d(p=0.5, inplace=False)\n",
       "    (22): Conv2d(256, 512, kernel_size=(3, 3), stride=(1, 1))\n",
       "    (23): BatchNorm2d(512, eps=1e-05, momentum=0.999, affine=True, track_running_stats=True)\n",
       "    (24): LeakyReLU(negative_slope=0.1)\n",
       "    (25): Conv2d(512, 256, kernel_size=(1, 1), stride=(1, 1))\n",
       "    (26): BatchNorm2d(256, eps=1e-05, momentum=0.999, affine=True, track_running_stats=True)\n",
       "    (27): LeakyReLU(negative_slope=0.1)\n",
       "    (28): Conv2d(256, 128, kernel_size=(1, 1), stride=(1, 1))\n",
       "    (29): BatchNorm2d(128, eps=1e-05, momentum=0.999, affine=True, track_running_stats=True)\n",
       "    (30): LeakyReLU(negative_slope=0.1)\n",
       "    (31): AdaptiveAvgPool2d(output_size=(1, 1))\n",
       "  )\n",
       "  (classifier): Sequential(\n",
       "    (0): Flatten()\n",
       "    (1): BatchNorm1d(128, eps=1e-05, momentum=0.999, affine=True, track_running_stats=True)\n",
       "    (2): Linear(in_features=128, out_features=10, bias=True)\n",
       "  )\n",
       ")"
      ]
     },
     "execution_count": 13,
     "metadata": {},
     "output_type": "execute_result"
    }
   ],
   "source": [
    "# create model\n",
    "torch.cuda.empty_cache()\n",
    "\n",
    "model = model_func()\n",
    "model.cuda()"
   ]
  },
  {
   "cell_type": "markdown",
   "metadata": {
    "pycharm": {
     "name": "#%% md\n"
    }
   },
   "source": [
    "# training parameters"
   ]
  },
  {
   "cell_type": "code",
   "execution_count": 14,
   "metadata": {
    "collapsed": false,
    "jupyter": {
     "outputs_hidden": false
    },
    "pycharm": {
     "name": "#%%\n"
    },
    "tags": [
     "re_run"
    ]
   },
   "outputs": [
    {
     "name": "stdout",
     "output_type": "stream",
     "text": [
      "../tensorboard/cifar10/full_supervised/2020-08-22_16:26:11_Pmodel_1.0S\n"
     ]
    }
   ],
   "source": [
    "# tensorboard\n",
    "tensorboard_title = \"%s_%s_%.1fS\" % (get_datetime(), model_func.__name__, args.supervised_ratio)\n",
    "checkpoint_title = \"%s_%.1fS\" % (model_func.__name__, args.supervised_ratio)\n",
    "tensorboard = SummaryWriter(log_dir=\"%s/%s\" % (args.tensorboard_path, tensorboard_title), comment=model_func.__name__)\n",
    "print(os.path.join(args.tensorboard_path, tensorboard_title))\n",
    "\n",
    "# losses\n",
    "loss_ce = nn.CrossEntropyLoss(reduction=\"mean\")\n",
    "\n",
    "# optimizer\n",
    "optimizer = torch.optim.Adam(model.parameters(), lr=args.learning_rate)\n",
    "\n",
    "# callbacks\n",
    "lr_lambda = lambda epoch: (1.0 + numpy.cos((epoch-1)*numpy.pi/args.nb_epoch)) * 0.5\n",
    "lr_scheduler = LambdaLR(optimizer, lr_lambda)\n",
    "\n",
    "# Checkpoint\n",
    "checkpoint = CheckPoint(model, optimizer, mode=\"max\", name=\"%s/%s.torch\" % (args.checkpoint_path, checkpoint_title))\n",
    "\n",
    "# Metrics\n",
    "fscore_fn = FScore()\n",
    "acc_fn = CategoricalAccuracy()\n",
    "avg = ContinueAverage()\n",
    "\n",
    "reset_metrics = lambda : [m.reset() for m in [fscore_fn, acc_fn, avg]]\n",
    "\n",
    "def get_lr(optimizer):\n",
    "    for param_group in optimizer.param_groups:\n",
    "        return param_group['lr']"
   ]
  },
  {
   "cell_type": "code",
   "execution_count": 15,
   "metadata": {
    "tags": [
     "re_run"
    ]
   },
   "outputs": [],
   "source": [
    "def maximum():\n",
    "    def func(key, value):\n",
    "        if key not in func.max:\n",
    "            func.max[key] = value\n",
    "        else:\n",
    "            if func.max[key] < value:\n",
    "                func.max[key] = value\n",
    "        return func.max[key]\n",
    "\n",
    "    func.max = dict()\n",
    "    return func\n",
    "maximum_fn = maximum()"
   ]
  },
  {
   "cell_type": "markdown",
   "metadata": {
    "pycharm": {
     "name": "#%% md\n"
    }
   },
   "source": [
    "## Can resume previous training"
   ]
  },
  {
   "cell_type": "code",
   "execution_count": 16,
   "metadata": {
    "pycharm": {
     "name": "#%%\n"
    }
   },
   "outputs": [],
   "source": [
    "if args.resume:\n",
    "    checkpoint.load_last()"
   ]
  },
  {
   "cell_type": "markdown",
   "metadata": {
    "pycharm": {
     "name": "#%% md\n"
    }
   },
   "source": [
    "## training function"
   ]
  },
  {
   "cell_type": "code",
   "execution_count": 17,
   "metadata": {
    "collapsed": false,
    "jupyter": {
     "outputs_hidden": false
    },
    "pycharm": {
     "name": "#%%\n"
    },
    "tags": [
     "re_run"
    ]
   },
   "outputs": [
    {
     "name": "stdout",
     "output_type": "stream",
     "text": [
      "         Epoch  - %      - Losses:  ce     - metrics:  acc         | F1       - Time  \n"
     ]
    }
   ],
   "source": [
    "UNDERLINE_SEQ = \"\\033[1;4m\"\n",
    "RESET_SEQ = \"\\033[0m\"\n",
    "\n",
    "\n",
    "header_form = \"{:<8.8} {:<6.6} - {:<6.6} - {:<8.8} {:<6.6} - {:<9.9} {:<12.12}| {:<9.9}- {:<6.6}\"\n",
    "value_form  = \"{:<8.8} {:<6} - {:<6} - {:<8.8} {:<6.4f} - {:<9.9} {:<10.4f}| {:<9.4f}- {:<6.4f}\"\n",
    "\n",
    "header = header_form.format(\n",
    "    \"\", \"Epoch\", \"%\", \"Losses:\", \"ce\", \"metrics: \", \"acc\", \"F1 \",\"Time\"\n",
    ")\n",
    "\n",
    "\n",
    "train_form = value_form\n",
    "val_form = UNDERLINE_SEQ + value_form + RESET_SEQ\n",
    "\n",
    "print(header)"
   ]
  },
  {
   "cell_type": "code",
   "execution_count": 18,
   "metadata": {
    "tags": [
     "re_run"
    ]
   },
   "outputs": [],
   "source": [
    "def train(epoch):\n",
    "    start_time = time.time()\n",
    "    print(\"\")\n",
    "\n",
    "    reset_metrics()\n",
    "    model.train()\n",
    "\n",
    "    for i, (X, y) in enumerate(train_loader):\n",
    "        optimizer.zero_grad()\n",
    "        \n",
    "        X = X.cuda()\n",
    "        y = y.cuda()\n",
    "\n",
    "        with autocast():\n",
    "            logits = model(X)        \n",
    "            loss = loss_ce(logits, y)\n",
    "\n",
    "        loss.backward()\n",
    "        optimizer.step()\n",
    "\n",
    "        with torch.set_grad_enabled(False):\n",
    "            pred = torch.softmax(logits, dim=1)\n",
    "            pred_arg = torch.argmax(logits, dim=1)\n",
    "            y_one_hot = F.one_hot(y, num_classes=10)\n",
    "\n",
    "            acc = acc_fn(pred_arg, y).mean\n",
    "            fscore = fscore_fn(pred, y_one_hot).mean\n",
    "            avg_ce = avg(loss.item()).mean\n",
    "\n",
    "            # logs\n",
    "            print(train_form.format(\n",
    "                \"Training: \",\n",
    "                epoch + 1,\n",
    "                int(100 * (i + 1) / len(train_loader)),\n",
    "                \"\", avg_ce,\n",
    "                \"\", acc, fscore,\n",
    "                time.time() - start_time\n",
    "            ), end=\"\\r\")\n",
    "\n",
    "    tensorboard.add_scalar(\"train/Lce\", avg_ce, epoch)\n",
    "    tensorboard.add_scalar(\"train/f1\", fscore, epoch)\n",
    "    tensorboard.add_scalar(\"train/acc\", acc, epoch)"
   ]
  },
  {
   "cell_type": "code",
   "execution_count": 19,
   "metadata": {
    "collapsed": false,
    "jupyter": {
     "outputs_hidden": false
    },
    "pycharm": {
     "name": "#%%\n"
    },
    "tags": [
     "re_run"
    ]
   },
   "outputs": [],
   "source": [
    "def val(epoch):\n",
    "    start_time = time.time()\n",
    "    print(\"\")\n",
    "    reset_metrics()\n",
    "    model.eval()\n",
    "\n",
    "    for i, (X, y) in enumerate(val_loader):\n",
    "        X = X.cuda()\n",
    "        y = y.cuda()\n",
    "\n",
    "        with autocast():\n",
    "            logits = model(X)\n",
    "            loss = loss_ce(logits, y)\n",
    "\n",
    "        with torch.set_grad_enabled(False):\n",
    "            pred = torch.softmax(logits, dim=1)\n",
    "            pred_arg = torch.argmax(logits, dim=1)\n",
    "            y_one_hot = F.one_hot(y, num_classes=10)\n",
    "\n",
    "            acc = acc_fn(pred_arg, y).mean\n",
    "            fscore = fscore_fn(pred, y_one_hot).mean\n",
    "            avg_ce = avg(loss.item()).mean\n",
    "\n",
    "            # logs\n",
    "            print(val_form.format(\n",
    "                \"Validation: \",\n",
    "                epoch + 1,\n",
    "                int(100 * (i + 1) / len(val_loader)),\n",
    "                \"\", avg_ce,\n",
    "                \"\", acc, fscore,\n",
    "                time.time() - start_time\n",
    "            ), end=\"\\r\")\n",
    "\n",
    "    tensorboard.add_scalar(\"val/Lce\", avg_ce, epoch)\n",
    "    tensorboard.add_scalar(\"val/f1\", fscore, epoch)\n",
    "    tensorboard.add_scalar(\"val/acc\", acc, epoch)\n",
    "    \n",
    "    tensorboard.add_scalar(\"hyperparameters/learning_rate\", get_lr(optimizer), epoch)\n",
    "    \n",
    "    tensorboard.add_scalar(\"max/acc\", maximum_fn(\"acc\", acc), epoch )\n",
    "    tensorboard.add_scalar(\"max/f1\", maximum_fn(\"f1\", fscore), epoch )\n",
    "\n",
    "    checkpoint.step(acc)\n",
    "    lr_scheduler.step()"
   ]
  },
  {
   "cell_type": "code",
   "execution_count": 20,
   "metadata": {
    "collapsed": false,
    "jupyter": {
     "outputs_hidden": false
    },
    "pycharm": {
     "name": "#%%\n"
    },
    "tags": [
     "re_run"
    ]
   },
   "outputs": [
    {
     "name": "stdout",
     "output_type": "stream",
     "text": [
      "         Epoch  - %      - Losses:  ce     - metrics:  acc         | F1       - Time  \n",
      "\n",
      "Training 1      - 100    -          1.8367 -           0.3056    | 0.0810   - 35.8473\n",
      "\u001b[1;4mValidati 1      - 100    -          1.6386 -           0.3741    | 0.1728   - 2.7486\u001b[0m\n",
      " better performance: saving ...\n",
      "\n",
      "Training 2      - 100    -          1.6371 -           0.3895    | 0.2214   - 36.3308\n",
      "\u001b[1;4mValidati 2      - 100    -          1.4531 -           0.4603    | 0.3432   - 2.8077\u001b[0m\n",
      " better performance: saving ...\n",
      "\n",
      "Training 3      - 100    -          1.4876 -           0.4535    | 0.3431   - 36.4884\n",
      "\u001b[1;4mValidati 3      - 100    -          1.3536 -           0.5094    | 0.4255   - 2.8258\u001b[0m\n",
      " better performance: saving ...\n",
      "\n",
      "Training 4      - 100    -          1.3753 -           0.5008    | 0.4172   - 36.5961\n",
      "\u001b[1;4mValidati 4      - 100    -          1.2637 -           0.5427    | 0.4872   - 2.7525\u001b[0m\n",
      " better performance: saving ...\n",
      "\n",
      "Training 5      - 100    -          1.2973 -           0.5298    | 0.4655   - 36.7509\n",
      "\u001b[1;4mValidati 5      - 100    -          1.1772 -           0.5767    | 0.5294   - 2.8144\u001b[0m\n",
      " better performance: saving ...\n",
      "\n",
      "Training 6      - 100    -          1.2425 -           0.5526    | 0.4973   - 36.8575\n",
      "\u001b[1;4mValidati 6      - 100    -          1.1549 -           0.5876    | 0.5271   - 2.7836\u001b[0m\n",
      " better performance: saving ...\n",
      "\n",
      "Training 7      - 100    -          1.1959 -           0.5685    | 0.5240   - 36.6580\n",
      "\u001b[1;4mValidati 7      - 100    -          1.1416 -           0.5938    | 0.5468   - 2.8111\u001b[0m\n",
      " better performance: saving ...\n",
      "\n",
      "Training 8      - 100    -          1.1542 -           0.5869    | 0.5434   - 37.0900\n",
      "\u001b[1;4mValidati 8      - 100    -          1.0670 -           0.6170    | 0.5851   - 2.7857\u001b[0m\n",
      " better performance: saving ...\n",
      "\n",
      "Training 9      - 100    -          1.1220 -           0.5991    | 0.5629   - 36.6533\n",
      "\u001b[1;4mValidati 9      - 100    -          1.0805 -           0.6195    | 0.5844   - 2.8424\u001b[0m\n",
      " better performance: saving ...\n",
      "\n",
      "Training 10     - 100    -          1.0832 -           0.6137    | 0.5829   - 36.5986\n",
      "\u001b[1;4mValidati 10     - 100    -          1.0362 -           0.6258    | 0.5961   - 2.7752\u001b[0m\n",
      " better performance: saving ...\n",
      "\n",
      "Training 11     - 100    -          1.0508 -           0.6250    | 0.5975   - 36.6040\n",
      "\u001b[1;4mValidati 11     - 100    -          0.9993 -           0.6371    | 0.6117   - 2.8027\u001b[0m\n",
      " better performance: saving ...\n",
      "\n",
      "Training 12     - 100    -          1.0284 -           0.6329    | 0.6070   - 36.7565\n",
      "\u001b[1;4mValidati 12     - 100    -          0.9774 -           0.6530    | 0.6373   - 2.8254\u001b[0m\n",
      " better performance: saving ...\n",
      "\n",
      "Training 13     - 100    -          0.9969 -           0.6471    | 0.6243   - 36.8712\n",
      "\u001b[1;4mValidati 13     - 100    -          0.9367 -           0.6685    | 0.6458   - 2.7634\u001b[0m\n",
      " better performance: saving ...\n",
      "\n",
      "Training 14     - 100    -          0.9666 -           0.6571    | 0.6362   - 36.9353\n",
      "\u001b[1;4mValidati 14     - 100    -          0.9259 -           0.6697    | 0.6399   - 2.8472\u001b[0m\n",
      " better performance: saving ...\n",
      "\n",
      "Training 15     - 100    -          0.9387 -           0.6672    | 0.6508   - 36.6449\n",
      "\u001b[1;4mValidati 15     - 100    -          0.9032 -           0.6790    | 0.6633   - 2.7762\u001b[0m\n",
      " better performance: saving ...\n",
      "\n",
      "Training 16     - 100    -          0.9089 -           0.6794    | 0.6634   - 36.6968\n",
      "\u001b[1;4mValidati 16     - 100    -          0.9003 -           0.6836    | 0.6714   - 2.8026\u001b[0m\n",
      " better performance: saving ...\n",
      "\n",
      "Training 17     - 100    -          0.8884 -           0.6862    | 0.6714   - 36.7255\n",
      "\u001b[1;4mValidati 17     - 100    -          0.8849 -           0.6902    | 0.6829   - 2.7902\u001b[0m\n",
      " better performance: saving ...\n",
      "\n",
      "Training 18     - 100    -          0.8715 -           0.6902    | 0.6789   - 36.7654\n",
      "\u001b[1;4mValidati 18     - 100    -          0.8334 -           0.7034    | 0.6975   - 2.7704\u001b[0m\n",
      " better performance: saving ...\n",
      "\n",
      "Training 19     - 100    -          0.8482 -           0.7020    | 0.6898   - 36.6298\n",
      "\u001b[1;4mValidati 19     - 100    -          0.8509 -           0.7050    | 0.6937   - 2.8630\u001b[0m\n",
      " better performance: saving ...\n",
      "\n",
      "Training 20     - 100    -          0.8241 -           0.7103    | 0.7004   - 36.7333\n",
      "\u001b[1;4mValidati 20     - 100    -          0.8135 -           0.7122    | 0.6981   - 2.8347\u001b[0m\n",
      " better performance: saving ...\n",
      "\n",
      "Training 21     - 100    -          0.8139 -           0.7133    | 0.7050   - 36.7052\n",
      "\u001b[1;4mValidati 21     - 100    -          0.8230 -           0.7138    | 0.7102   - 2.7788\u001b[0m\n",
      " better performance: saving ...\n",
      "\n",
      "Training 22     - 100    -          0.7968 -           0.7210    | 0.7120   - 36.6213\n",
      "\u001b[1;4mValidati 22     - 100    -          0.8243 -           0.7108    | 0.7075   - 2.8274\u001b[0m\n",
      "Training 23     - 100    -          0.7817 -           0.7256    | 0.7206   - 36.5529\n",
      "\u001b[1;4mValidati 23     - 100    -          0.7826 -           0.7242    | 0.7227   - 2.8293\u001b[0m\n",
      " better performance: saving ...\n",
      "\n",
      "Training 24     - 100    -          0.7593 -           0.7321    | 0.7260   - 36.6975\n",
      "\u001b[1;4mValidati 24     - 100    -          0.8092 -           0.7205    | 0.7166   - 2.7924\u001b[0m\n",
      "Training 25     - 100    -          0.7454 -           0.7399    | 0.7332   - 36.5573\n",
      "\u001b[1;4mValidati 25     - 100    -          0.8040 -           0.7215    | 0.7204   - 2.8501\u001b[0m\n",
      "Training 26     - 100    -          0.7245 -           0.7457    | 0.7412   - 36.5883\n",
      "\u001b[1;4mValidati 26     - 100    -          0.7530 -           0.7384    | 0.7357   - 2.7819\u001b[0m\n",
      " better performance: saving ...\n",
      "\n",
      "Training 27     - 100    -          0.7149 -           0.7456    | 0.7420   - 36.5471\n",
      "\u001b[1;4mValidati 27     - 100    -          0.7798 -           0.7251    | 0.7234   - 2.7560\u001b[0m\n",
      "Training 28     - 100    -          0.7001 -           0.7547    | 0.7496   - 36.8344\n",
      "\u001b[1;4mValidati 28     - 100    -          0.7614 -           0.7298    | 0.7314   - 2.7937\u001b[0m\n",
      "Training 29     - 100    -          0.6875 -           0.7588    | 0.7552   - 36.5371\n",
      "\u001b[1;4mValidati 29     - 100    -          0.7459 -           0.7418    | 0.7401   - 2.7772\u001b[0m\n",
      " better performance: saving ...\n",
      "\n",
      "Training 30     - 100    -          0.6725 -           0.7644    | 0.7602   - 36.5506\n",
      "\u001b[1;4mValidati 30     - 100    -          0.7544 -           0.7398    | 0.7408   - 2.7834\u001b[0m\n",
      "Training 31     - 100    -          0.6596 -           0.7693    | 0.7667   - 36.5575\n",
      "\u001b[1;4mValidati 31     - 100    -          0.7204 -           0.7512    | 0.7529   - 2.8358\u001b[0m\n",
      " better performance: saving ...\n",
      "\n",
      "Training 32     - 100    -          0.6485 -           0.7733    | 0.7698   - 36.5685\n",
      "\u001b[1;4mValidati 32     - 100    -          0.7279 -           0.7484    | 0.7470   - 2.8110\u001b[0m\n",
      "Training 33     - 100    -          0.6324 -           0.7774    | 0.7746   - 36.5275\n",
      "\u001b[1;4mValidati 33     - 100    -          0.7376 -           0.7514    | 0.7511   - 2.7589\u001b[0m\n",
      " better performance: saving ...\n",
      "\n",
      "Training 34     - 100    -          0.6217 -           0.7803    | 0.7779   - 36.5284\n",
      "\u001b[1;4mValidati 34     - 100    -          0.7175 -           0.7508    | 0.7523   - 2.7663\u001b[0m\n",
      "Training 35     - 100    -          0.6056 -           0.7850    | 0.7839   - 36.5422\n",
      "\u001b[1;4mValidati 35     - 100    -          0.7489 -           0.7534    | 0.7554   - 2.7754\u001b[0m\n",
      " better performance: saving ...\n",
      "\n",
      "Training 36     - 100    -          0.5940 -           0.7885    | 0.7886   - 36.5077\n",
      "\u001b[1;4mValidati 36     - 100    -          0.7383 -           0.7518    | 0.7539   - 2.7882\u001b[0m\n",
      "Training 37     - 100    -          0.5808 -           0.7941    | 0.7939   - 36.4924\n",
      "\u001b[1;4mValidati 37     - 100    -          0.7686 -           0.7409    | 0.7454   - 2.8532\u001b[0m\n",
      "Training 38     - 100    -          0.5677 -           0.7997    | 0.7994   - 36.5544\n",
      "\u001b[1;4mValidati 38     - 100    -          0.7610 -           0.7558    | 0.7549   - 2.8162\u001b[0m\n",
      " better performance: saving ...\n",
      "\n",
      "Training 39     - 100    -          0.5551 -           0.8025    | 0.8019   - 36.5168\n",
      "\u001b[1;4mValidati 39     - 100    -          0.7346 -           0.7520    | 0.7532   - 2.8059\u001b[0m\n",
      "Training 40     - 100    -          0.5443 -           0.8090    | 0.8092   - 36.4994\n",
      "\u001b[1;4mValidati 40     - 100    -          0.7524 -           0.7562    | 0.7595   - 2.7570\u001b[0m\n",
      " better performance: saving ...\n",
      "\n",
      "Training 41     - 100    -          0.5368 -           0.8093    | 0.8100   - 36.5729\n",
      "\u001b[1;4mValidati 41     - 100    -          0.7154 -           0.7597    | 0.7657   - 2.7715\u001b[0m\n",
      " better performance: saving ...\n",
      "\n",
      "Training 42     - 100    -          0.5214 -           0.8149    | 0.8152   - 36.5715\n",
      "\u001b[1;4mValidati 42     - 100    -          0.7220 -           0.7607    | 0.7660   - 2.7713\u001b[0m\n",
      " better performance: saving ...\n",
      "\n",
      "Training 43     - 100    -          0.5126 -           0.8176    | 0.8188   - 36.5382\n",
      "\u001b[1;4mValidati 43     - 100    -          0.7234 -           0.7612    | 0.7645   - 2.8017\u001b[0m\n",
      " better performance: saving ...\n",
      "\n",
      "Training 44     - 100    -          0.4979 -           0.8228    | 0.8232   - 36.4641\n",
      "\u001b[1;4mValidati 44     - 100    -          0.7200 -           0.7632    | 0.7666   - 2.7601\u001b[0m\n",
      " better performance: saving ...\n",
      "\n",
      "Training 45     - 100    -          0.4912 -           0.8245    | 0.8250   - 36.7258\n",
      "\u001b[1;4mValidati 45     - 100    -          0.7084 -           0.7646    | 0.7658   - 2.7828\u001b[0m\n",
      " better performance: saving ...\n",
      "\n",
      "Training 46     - 100    -          0.4786 -           0.8309    | 0.8311   - 36.6129\n",
      "\u001b[1;4mValidati 46     - 100    -          0.7135 -           0.7660    | 0.7686   - 2.7888\u001b[0m\n",
      " better performance: saving ...\n",
      "\n",
      "Training 47     - 100    -          0.4709 -           0.8328    | 0.8328   - 36.6333\n",
      "\u001b[1;4mValidati 47     - 100    -          0.7383 -           0.7601    | 0.7644   - 2.8559\u001b[0m\n",
      "Training 48     - 100    -          0.4564 -           0.8390    | 0.8402   - 36.5470\n",
      "\u001b[1;4mValidati 48     - 100    -          0.7585 -           0.7605    | 0.7636   - 2.7831\u001b[0m\n",
      "Training 49     - 100    -          0.4439 -           0.8408    | 0.8421   - 36.5497\n",
      "\u001b[1;4mValidati 49     - 100    -          0.7360 -           0.7614    | 0.7674   - 2.8501\u001b[0m\n",
      "Training 50     - 100    -          0.4282 -           0.8472    | 0.8491   - 36.5601\n",
      "\u001b[1;4mValidati 50     - 100    -          0.7660 -           0.7703    | 0.7718   - 2.7734\u001b[0m\n",
      " better performance: saving ...\n",
      "\n",
      "Training 51     - 100    -          0.4263 -           0.8484    | 0.8501   - 36.7400\n",
      "\u001b[1;4mValidati 51     - 100    -          0.7384 -           0.7715    | 0.7724   - 2.8160\u001b[0m\n",
      " better performance: saving ...\n",
      "\n",
      "Training 52     - 100    -          0.4145 -           0.8510    | 0.8524   - 36.5297\n",
      "\u001b[1;4mValidati 52     - 100    -          0.7990 -           0.7580    | 0.7631   - 2.7868\u001b[0m\n",
      "Training 53     - 100    -          0.4137 -           0.8518    | 0.8538   - 36.5523\n",
      "\u001b[1;4mValidati 53     - 100    -          0.7674 -           0.7664    | 0.7705   - 2.7914\u001b[0m\n",
      "Training 54     - 100    -          0.3974 -           0.8575    | 0.8597   - 36.5312\n",
      "\u001b[1;4mValidati 54     - 100    -          0.7587 -           0.7683    | 0.7731   - 2.7931\u001b[0m\n",
      "Training 55     - 100    -          0.3877 -           0.8610    | 0.8627   - 36.4739\n",
      "\u001b[1;4mValidati 55     - 100    -          0.7526 -           0.7627    | 0.7686   - 2.8096\u001b[0m\n",
      "Training 56     - 100    -          0.3804 -           0.8643    | 0.8653   - 36.4953\n",
      "\u001b[1;4mValidati 56     - 100    -          0.7620 -           0.7651    | 0.7705   - 2.7935\u001b[0m\n",
      "Training 57     - 100    -          0.3682 -           0.8663    | 0.8677   - 36.8057\n",
      "\u001b[1;4mValidati 57     - 100    -          0.7656 -           0.7686    | 0.7724   - 2.7770\u001b[0m\n",
      "Training 58     - 100    -          0.3665 -           0.8701    | 0.8708   - 36.5222\n",
      "\u001b[1;4mValidati 58     - 100    -          0.7484 -           0.7725    | 0.7768   - 2.7593\u001b[0m\n",
      " better performance: saving ...\n",
      "\n",
      "Training 59     - 100    -          0.3567 -           0.8724    | 0.8744   - 36.4925\n",
      "\u001b[1;4mValidati 59     - 100    -          0.7974 -           0.7659    | 0.7704   - 2.7954\u001b[0m\n",
      "Training 60     - 100    -          nan    -           0.6615    | nan      - 36.0951\n",
      "\u001b[1;4mValidati 60     - 100    -          nan    -           0.1000    | nan      - 2.7382\u001b[0m\n",
      "Training 61     - 100    -          nan    -           0.1000    | nan      - 35.2116\n",
      "\u001b[1;4mValidati 61     - 100    -          nan    -           0.1000    | nan      - 2.7458\u001b[0m\n",
      "Training 62     - 100    -          nan    -           0.1000    | nan      - 34.9594\n",
      "\u001b[1;4mValidati 62     - 100    -          nan    -           0.1000    | nan      - 2.6290\u001b[0m\n",
      "Training 63     - 100    -          nan    -           0.1000    | nan      - 35.0655\n",
      "\u001b[1;4mValidati 63     - 100    -          nan    -           0.1000    | nan      - 2.6957\u001b[0m\n",
      "Training 64     - 100    -          nan    -           0.1000    | nan      - 35.0181\n",
      "\u001b[1;4mValidati 64     - 100    -          nan    -           0.1000    | nan      - 2.6493\u001b[0m\n",
      "Training 65     - 100    -          nan    -           0.1000    | nan      - 35.0045\n",
      "\u001b[1;4mValidati 65     - 100    -          nan    -           0.1000    | nan      - 2.7448\u001b[0m\n",
      "Training 66     - 100    -          nan    -           0.1000    | nan      - 35.0076\n",
      "\u001b[1;4mValidati 66     - 100    -          nan    -           0.1000    | nan      - 2.7276\u001b[0m\n",
      "Training 67     - 100    -          nan    -           0.1000    | nan      - 34.9825\n",
      "\u001b[1;4mValidati 67     - 100    -          nan    -           0.1000    | nan      - 2.6672\u001b[0m\n",
      "Training 68     - 100    -          nan    -           0.1000    | nan      - 34.9966\n",
      "\u001b[1;4mValidati 68     - 100    -          nan    -           0.1000    | nan      - 2.6535\u001b[0m\n",
      "Training 69     - 100    -          nan    -           0.1000    | nan      - 34.9785\n",
      "\u001b[1;4mValidati 69     - 100    -          nan    -           0.1000    | nan      - 2.6265\u001b[0m\n",
      "Training 70     - 100    -          nan    -           0.1000    | nan      - 35.0556\n",
      "\u001b[1;4mValidati 70     - 100    -          nan    -           0.1000    | nan      - 2.6228\u001b[0m\n",
      "Training 71     - 100    -          nan    -           0.1000    | nan      - 34.9926\n",
      "\u001b[1;4mValidati 71     - 100    -          nan    -           0.1000    | nan      - 2.6187\u001b[0m\n",
      "Training 72     - 100    -          nan    -           0.1000    | nan      - 34.9862\n",
      "\u001b[1;4mValidati 72     - 100    -          nan    -           0.1000    | nan      - 2.7039\u001b[0m\n",
      "Training 73     - 100    -          nan    -           0.1000    | nan      - 35.0145\n",
      "\u001b[1;4mValidati 73     - 100    -          nan    -           0.1000    | nan      - 2.6856\u001b[0m\n",
      "Training 74     - 100    -          nan    -           0.1000    | nan      - 35.0061\n",
      "\u001b[1;4mValidati 74     - 100    -          nan    -           0.1000    | nan      - 2.6862\u001b[0m\n",
      "Training 75     - 100    -          nan    -           0.1000    | nan      - 34.9913\n",
      "\u001b[1;4mValidati 75     - 100    -          nan    -           0.1000    | nan      - 2.6461\u001b[0m\n",
      "Training 76     - 100    -          nan    -           0.1000    | nan      - 35.0202\n",
      "\u001b[1;4mValidati 76     - 100    -          nan    -           0.1000    | nan      - 2.7094\u001b[0m\n",
      "Training 77     - 100    -          nan    -           0.1000    | nan      - 35.6491\n",
      "\u001b[1;4mValidati 77     - 100    -          nan    -           0.1000    | nan      - 2.6329\u001b[0m\n",
      "Training 78     - 100    -          nan    -           0.1000    | nan      - 34.9810\n",
      "\u001b[1;4mValidati 78     - 100    -          nan    -           0.1000    | nan      - 2.6256\u001b[0m\n",
      "Training 79     - 100    -          nan    -           0.1000    | nan      - 34.9372\n",
      "\u001b[1;4mValidati 79     - 100    -          nan    -           0.1000    | nan      - 2.6757\u001b[0m\n",
      "Training 80     - 100    -          nan    -           0.1000    | nan      - 34.9385\n",
      "\u001b[1;4mValidati 80     - 100    -          nan    -           0.1000    | nan      - 2.6867\u001b[0m\n",
      "Training 81     - 100    -          nan    -           0.1000    | nan      - 35.4592\n",
      "\u001b[1;4mValidati 81     - 100    -          nan    -           0.1000    | nan      - 2.6824\u001b[0m\n",
      "Training 82     - 100    -          nan    -           0.1000    | nan      - 35.0101\n",
      "\u001b[1;4mValidati 82     - 100    -          nan    -           0.1000    | nan      - 2.7084\u001b[0m\n",
      "Training 83     - 100    -          nan    -           0.1000    | nan      - 34.9747\n",
      "\u001b[1;4mValidati 83     - 100    -          nan    -           0.1000    | nan      - 2.6554\u001b[0m\n",
      "Training 84     - 100    -          nan    -           0.1000    | nan      - 34.9627\n",
      "\u001b[1;4mValidati 84     - 100    -          nan    -           0.1000    | nan      - 2.6224\u001b[0m\n",
      "Training 85     - 100    -          nan    -           0.1000    | nan      - 35.0253\n",
      "\u001b[1;4mValidati 85     - 100    -          nan    -           0.1000    | nan      - 2.6339\u001b[0m\n",
      "Training 86     - 100    -          nan    -           0.1000    | nan      - 34.9669\n",
      "\u001b[1;4mValidati 86     - 100    -          nan    -           0.1000    | nan      - 2.7357\u001b[0m\n",
      "Training 87     - 100    -          nan    -           0.1000    | nan      - 34.9212\n",
      "\u001b[1;4mValidati 87     - 100    -          nan    -           0.1000    | nan      - 2.6375\u001b[0m\n",
      "Training 88     - 100    -          nan    -           0.1000    | nan      - 34.9419\n",
      "\u001b[1;4mValidati 88     - 100    -          nan    -           0.1000    | nan      - 2.6423\u001b[0m\n",
      "Training 89     - 100    -          nan    -           0.1000    | nan      - 34.9510\n",
      "\u001b[1;4mValidati 89     - 100    -          nan    -           0.1000    | nan      - 2.6853\u001b[0m\n",
      "Training 90     - 100    -          nan    -           0.1000    | nan      - 35.5473\n",
      "\u001b[1;4mValidati 90     - 100    -          nan    -           0.1000    | nan      - 2.6511\u001b[0m\n",
      "Training 91     - 100    -          nan    -           0.1000    | nan      - 34.9381\n",
      "\u001b[1;4mValidati 91     - 100    -          nan    -           0.1000    | nan      - 2.6596\u001b[0m\n",
      "Training 92     - 100    -          nan    -           0.1000    | nan      - 34.9134\n",
      "\u001b[1;4mValidati 92     - 100    -          nan    -           0.1000    | nan      - 2.6125\u001b[0m\n",
      "Training 93     - 100    -          nan    -           0.1000    | nan      - 34.9626\n",
      "\u001b[1;4mValidati 93     - 100    -          nan    -           0.1000    | nan      - 2.7159\u001b[0m\n",
      "Training 94     - 100    -          nan    -           0.1000    | nan      - 34.9319\n",
      "\u001b[1;4mValidati 94     - 100    -          nan    -           0.1000    | nan      - 2.6710\u001b[0m\n",
      "Training 95     - 100    -          nan    -           0.1000    | nan      - 34.9272\n",
      "\u001b[1;4mValidati 95     - 100    -          nan    -           0.1000    | nan      - 2.6971\u001b[0m\n",
      "Training 96     - 100    -          nan    -           0.1000    | nan      - 34.9179\n",
      "\u001b[1;4mValidati 96     - 100    -          nan    -           0.1000    | nan      - 2.6535\u001b[0m\n",
      "Training 97     - 100    -          nan    -           0.1000    | nan      - 34.9592\n",
      "\u001b[1;4mValidati 97     - 100    -          nan    -           0.1000    | nan      - 2.6568\u001b[0m\n",
      "Training 98     - 100    -          nan    -           0.1000    | nan      - 34.9431\n",
      "\u001b[1;4mValidati 98     - 100    -          nan    -           0.1000    | nan      - 2.6720\u001b[0m\n",
      "Training 99     - 100    -          nan    -           0.1000    | nan      - 35.4315\n",
      "\u001b[1;4mValidati 99     - 100    -          nan    -           0.1000    | nan      - 2.6303\u001b[0m\n",
      "Training 100    - 100    -          nan    -           0.1000    | nan      - 34.9794\n",
      "\u001b[1;4mValidati 100    - 100    -          nan    -           0.1000    | nan      - 2.6521\u001b[0m\r"
     ]
    }
   ],
   "source": [
    "print(header)\n",
    "\n",
    "start_epoch = checkpoint.epoch_counter\n",
    "end_epoch = args.nb_epoch\n",
    "\n",
    "for e in range(start_epoch, args.nb_epoch):\n",
    "    train(e)\n",
    "    val(e)"
   ]
  },
  {
   "cell_type": "code",
   "execution_count": 21,
   "metadata": {
    "tags": [
     "re_run"
    ]
   },
   "outputs": [],
   "source": [
    "tensorboard.flush()\n",
    "tensorboard.close()"
   ]
  },
  {
   "cell_type": "markdown",
   "metadata": {},
   "source": [
    "# ♫♪.ılılıll|̲̅̅●̲̅̅|̲̅̅=̲̅̅|̲̅̅●̲̅̅|llılılı.♫♪"
   ]
  },
  {
   "cell_type": "code",
   "execution_count": null,
   "metadata": {
    "pycharm": {
     "is_executing": false,
     "name": "#%%\n"
    }
   },
   "outputs": [],
   "source": []
  }
 ],
 "metadata": {
  "kernelspec": {
   "display_name": "dct",
   "language": "python",
   "name": "dct"
  },
  "language_info": {
   "codemirror_mode": {
    "name": "ipython",
    "version": 3
   },
   "file_extension": ".py",
   "mimetype": "text/x-python",
   "name": "python",
   "nbconvert_exporter": "python",
   "pygments_lexer": "ipython3",
   "version": "3.8.0"
  }
 },
 "nbformat": 4,
 "nbformat_minor": 4
}
