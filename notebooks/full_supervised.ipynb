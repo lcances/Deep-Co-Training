{
 "cells": [
  {
   "cell_type": "markdown",
   "metadata": {
    "jupyter": {
     "outputs_hidden": true
    }
   },
   "source": [
    "# import"
   ]
  },
  {
   "cell_type": "code",
   "execution_count": 1,
   "metadata": {},
   "outputs": [],
   "source": [
    "%load_ext autoreload\n",
    "%autoreload 2"
   ]
  },
  {
   "cell_type": "code",
   "execution_count": 2,
   "metadata": {},
   "outputs": [],
   "source": [
    "import os\n",
    "os.environ[\"MKL_NUM_THREADS\"] = \"2\"\n",
    "os.environ[\"NUMEXPR_NU M_THREADS\"] = \"2\"\n",
    "os.environ[\"OMP_NUM_THREADS\"] = \"2\"\n",
    "import time\n",
    "\n",
    "import numpy\n",
    "import torch\n",
    "import torch.nn as nn\n",
    "import torch.utils.data as data\n",
    "import torch.nn.functional as F\n",
    "import torchvision.transforms as transforms\n",
    "from torch.cuda.amp import autocast\n",
    "\n",
    "from torch.optim.lr_scheduler import LambdaLR\n",
    "from torch.utils.tensorboard import SummaryWriter"
   ]
  },
  {
   "cell_type": "code",
   "execution_count": 3,
   "metadata": {
    "tags": []
   },
   "outputs": [
    {
     "name": "stderr",
     "output_type": "stream",
     "text": [
      "/home/lcances/sync/Documents_sync/Projet/PyTorch/audio/torchaudio/extension/extension.py:14: UserWarning: torchaudio C++ extension is not available.\n",
      "  warnings.warn('torchaudio C++ extension is not available.')\n",
      "################################################################################\n",
      "### WARNING, path does not exist: KALDI_ROOT=/mnt/matylda5/iveselyk/Tools/kaldi-trunk\n",
      "###          (please add 'export KALDI_ROOT=<your_path>' in your $HOME/.profile)\n",
      "###          (or run as: KALDI_ROOT=<your_path> python <your_script>.py)\n",
      "################################################################################\n",
      "\n"
     ]
    }
   ],
   "source": [
    "from DCT.util.dataset_loader import load_dataset\n",
    "from DCT.util.optimizer_loader import load_optimizer\n",
    "from DCT.util.callbacks_loader import load_callbacks\n",
    "from DCT.util.model_loader import load_model\n",
    "from DCT.util.preprocess_loader import load_preprocesser\n",
    "from DCT.util.checkpoint import CheckPoint\n",
    "from DCT.util.utils import reset_seed, get_datetime, track_maximum\n",
    "\n",
    "from metric_utils.metrics import CategoricalAccuracy, FScore, ContinueAverage"
   ]
  },
  {
   "cell_type": "markdown",
   "metadata": {
    "pycharm": {
     "name": "#%% md\n"
    }
   },
   "source": [
    "# Arguments"
   ]
  },
  {
   "cell_type": "code",
   "execution_count": 11,
   "metadata": {},
   "outputs": [],
   "source": [
    "import argparse\n",
    "parser = argparse.ArgumentParser()\n",
    "parser.add_argument(\"--from_config\", default=\"\", type=str)\n",
    "parser.add_argument(\"-d\", \"--dataset_root\", default=\"../datasets\", type=str)\n",
    "parser.add_argument(\"-D\", \"--dataset\", default=\"SpeechCommand\", type=str, help=\"available [ubs8k | cifar10]\")\n",
    "\n",
    "group_t = parser.add_argument_group(\"Commun parameters\")\n",
    "group_t.add_argument(\"-m\", \"--model\", default=\"wideresnet28_8\", type=str)\n",
    "group_t.add_argument(\"--supervised_ratio\", default=1.0, type=float)\n",
    "group_t.add_argument(\"--batch_size\", default=256, type=int)\n",
    "group_t.add_argument(\"--nb_epoch\", default=200, type=int)\n",
    "group_t.add_argument(\"--learning_rate\", default=0.001, type=float)\n",
    "group_t.add_argument(\"--resume\", action=\"store_true\", default=False)\n",
    "group_t.add_argument(\"--seed\", default=1234, type=int)\n",
    "\n",
    "group_m = parser.add_argument_group(\"Model parameters\")\n",
    "group_m.add_argument(\"--num_classes\", default=35, type=int)\n",
    "\n",
    "group_u = parser.add_argument_group(\"Datasets parameters\")\n",
    "group_u.add_argument(\"-t\", \"--train_folds\", nargs=\"+\", default=[1, 2, 3, 4], type=int)\n",
    "group_u.add_argument(\"-v\", \"--val_folds\", nargs=\"+\", default=[5], type=int)\n",
    "\n",
    "group_l = parser.add_argument_group(\"Logs\")\n",
    "group_l.add_argument(\"--checkpoint_root\", default=\"../model_save/\", type=str)\n",
    "group_l.add_argument(\"--tensorboard_root\", default=\"../tensorboard/\", type=str)\n",
    "group_l.add_argument(\"--checkpoint_path\", default=\"supervised\", type=str)\n",
    "group_l.add_argument(\"--tensorboard_path\", default=\"supervised\", type=str)\n",
    "group_l.add_argument(\"--tensorboard_sufix\", default=\"\", type=str)\n",
    "\n",
    "args = parser.parse_args(\"\")\n",
    "\n",
    "tensorboard_path = os.path.join(args.tensorboard_root, args.dataset, args.tensorboard_path)\n",
    "checkpoint_path = os.path.join(args.checkpoint_root, args.dataset, args.checkpoint_path)"
   ]
  },
  {
   "cell_type": "code",
   "execution_count": 5,
   "metadata": {
    "tags": [
     "re_run"
    ]
   },
   "outputs": [
    {
     "data": {
      "text/plain": [
       "Namespace(batch_size=256, checkpoint_path='supervised', checkpoint_root='../model_save/', dataset='SpeechCommand', dataset_root='../datasets', from_config='', learning_rate=0.001, model='', nb_epoch=200, num_classes=50, resume=False, seed=1234, supervised_ratio=1.0, tensorboard_path='supervised', tensorboard_root='../tensorboard/', tensorboard_sufix='', train_folds=[1, 2, 3, 4], val_folds=[5])"
      ]
     },
     "execution_count": 5,
     "metadata": {},
     "output_type": "execute_result"
    }
   ],
   "source": [
    "args"
   ]
  },
  {
   "cell_type": "markdown",
   "metadata": {
    "pycharm": {
     "name": "#%% md\n"
    }
   },
   "source": [
    "# initialisation"
   ]
  },
  {
   "cell_type": "code",
   "execution_count": 6,
   "metadata": {
    "collapsed": false,
    "jupyter": {
     "outputs_hidden": false
    },
    "pycharm": {
     "name": "#%%\n"
    },
    "tags": [
     "re_run"
    ]
   },
   "outputs": [],
   "source": [
    "reset_seed(args.seed)\n"
   ]
  },
  {
   "cell_type": "markdown",
   "metadata": {
    "pycharm": {
     "name": "#%% md\n"
    }
   },
   "source": [
    "# Prepare the dataset"
   ]
  },
  {
   "cell_type": "code",
   "execution_count": 7,
   "metadata": {},
   "outputs": [
    {
     "data": {
      "text/plain": [
       "'../datasets'"
      ]
     },
     "execution_count": 7,
     "metadata": {},
     "output_type": "execute_result"
    }
   ],
   "source": [
    "args.dataset_root"
   ]
  },
  {
   "cell_type": "code",
   "execution_count": 8,
   "metadata": {},
   "outputs": [],
   "source": [
    "train_transform, val_transform = load_preprocesser(args.dataset, \"supervised\")"
   ]
  },
  {
   "cell_type": "code",
   "execution_count": 9,
   "metadata": {
    "collapsed": false,
    "jupyter": {
     "outputs_hidden": false
    },
    "pycharm": {
     "name": "#%%\n"
    },
    "tags": []
   },
   "outputs": [
    {
     "name": "stdout",
     "output_type": "stream",
     "text": [
      "../datasets/SpeechCommands/speech_commands_v0.02\n",
      "Dataset already download and verified\n"
     ]
    }
   ],
   "source": [
    "manager, train_loader, val_loader = load_dataset(\n",
    "    args.dataset,\n",
    "    \"supervised\",\n",
    "    \n",
    "    dataset_root = args.dataset_root,\n",
    "    supervised_ratio = args.supervised_ratio,\n",
    "    batch_size = args.batch_size,\n",
    "    train_folds = args.train_folds,\n",
    "    val_folds = args.val_folds,\n",
    "\n",
    "    train_transform=train_transform,\n",
    "    val_transform=val_transform,\n",
    "\n",
    "    verbose = 2\n",
    ")"
   ]
  },
  {
   "cell_type": "markdown",
   "metadata": {},
   "source": [
    "# Prep model"
   ]
  },
  {
   "cell_type": "code",
   "execution_count": 12,
   "metadata": {
    "tags": []
   },
   "outputs": [],
   "source": [
    "torch.cuda.empty_cache()\n",
    "\n",
    "model_func = load_model(args.dataset, args.model)\n",
    "# model_func = get_model_from_name(\"esc_wideresnet28_8\")\n",
    "model = model_func(input_shape=(64, 32), num_classes = args.num_classes)\n",
    "model = model.cuda()\n"
   ]
  },
  {
   "cell_type": "code",
   "execution_count": 14,
   "metadata": {
    "scrolled": true,
    "tags": []
   },
   "outputs": [
    {
     "name": "stdout",
     "output_type": "stream",
     "text": [
      "=================================================================================================\n",
      "                                          Kernel Shape        Output Shape  \\\n",
      "Layer                                                                        \n",
      "0_conv1                                 [3, 128, 3, 3]  [100, 128, 64, 32]   \n",
      "1_bn1                                            [128]  [100, 128, 64, 32]   \n",
      "2_relu                                               -  [100, 128, 64, 32]   \n",
      "3_maxpool                                            -  [100, 128, 32, 16]   \n",
      "4_layer1.0.Conv2d_conv1               [128, 128, 3, 3]  [100, 128, 32, 16]   \n",
      "5_layer1.0.BatchNorm2d_bn1                       [128]  [100, 128, 32, 16]   \n",
      "6_layer1.0.ReLU_relu                                 -  [100, 128, 32, 16]   \n",
      "7_layer1.0.Conv2d_conv2               [128, 128, 3, 3]  [100, 128, 32, 16]   \n",
      "8_layer1.0.BatchNorm2d_bn2                       [128]  [100, 128, 32, 16]   \n",
      "9_layer1.0.ReLU_relu                                 -  [100, 128, 32, 16]   \n",
      "10_layer1.1.Conv2d_conv1              [128, 128, 3, 3]  [100, 128, 32, 16]   \n",
      "11_layer1.1.BatchNorm2d_bn1                      [128]  [100, 128, 32, 16]   \n",
      "12_layer1.1.ReLU_relu                                -  [100, 128, 32, 16]   \n",
      "13_layer1.1.Conv2d_conv2              [128, 128, 3, 3]  [100, 128, 32, 16]   \n",
      "14_layer1.1.BatchNorm2d_bn2                      [128]  [100, 128, 32, 16]   \n",
      "15_layer1.1.ReLU_relu                                -  [100, 128, 32, 16]   \n",
      "16_layer1.2.Conv2d_conv1              [128, 128, 3, 3]  [100, 128, 32, 16]   \n",
      "17_layer1.2.BatchNorm2d_bn1                      [128]  [100, 128, 32, 16]   \n",
      "18_layer1.2.ReLU_relu                                -  [100, 128, 32, 16]   \n",
      "19_layer1.2.Conv2d_conv2              [128, 128, 3, 3]  [100, 128, 32, 16]   \n",
      "20_layer1.2.BatchNorm2d_bn2                      [128]  [100, 128, 32, 16]   \n",
      "21_layer1.2.ReLU_relu                                -  [100, 128, 32, 16]   \n",
      "22_layer1.3.Conv2d_conv1              [128, 128, 3, 3]  [100, 128, 32, 16]   \n",
      "23_layer1.3.BatchNorm2d_bn1                      [128]  [100, 128, 32, 16]   \n",
      "24_layer1.3.ReLU_relu                                -  [100, 128, 32, 16]   \n",
      "25_layer1.3.Conv2d_conv2              [128, 128, 3, 3]  [100, 128, 32, 16]   \n",
      "26_layer1.3.BatchNorm2d_bn2                      [128]  [100, 128, 32, 16]   \n",
      "27_layer1.3.ReLU_relu                                -  [100, 128, 32, 16]   \n",
      "28_layer2.0.Conv2d_conv1              [128, 256, 3, 3]   [100, 256, 16, 8]   \n",
      "29_layer2.0.BatchNorm2d_bn1                      [256]   [100, 256, 16, 8]   \n",
      "30_layer2.0.ReLU_relu                                -   [100, 256, 16, 8]   \n",
      "31_layer2.0.Conv2d_conv2              [256, 256, 3, 3]   [100, 256, 16, 8]   \n",
      "32_layer2.0.BatchNorm2d_bn2                      [256]   [100, 256, 16, 8]   \n",
      "33_layer2.0.downsample.Conv2d_0       [128, 256, 1, 1]   [100, 256, 16, 8]   \n",
      "34_layer2.0.downsample.BatchNorm2d_1             [256]   [100, 256, 16, 8]   \n",
      "35_layer2.0.ReLU_relu                                -   [100, 256, 16, 8]   \n",
      "36_layer2.1.Conv2d_conv1              [256, 256, 3, 3]   [100, 256, 16, 8]   \n",
      "37_layer2.1.BatchNorm2d_bn1                      [256]   [100, 256, 16, 8]   \n",
      "38_layer2.1.ReLU_relu                                -   [100, 256, 16, 8]   \n",
      "39_layer2.1.Conv2d_conv2              [256, 256, 3, 3]   [100, 256, 16, 8]   \n",
      "40_layer2.1.BatchNorm2d_bn2                      [256]   [100, 256, 16, 8]   \n",
      "41_layer2.1.ReLU_relu                                -   [100, 256, 16, 8]   \n",
      "42_layer2.2.Conv2d_conv1              [256, 256, 3, 3]   [100, 256, 16, 8]   \n",
      "43_layer2.2.BatchNorm2d_bn1                      [256]   [100, 256, 16, 8]   \n",
      "44_layer2.2.ReLU_relu                                -   [100, 256, 16, 8]   \n",
      "45_layer2.2.Conv2d_conv2              [256, 256, 3, 3]   [100, 256, 16, 8]   \n",
      "46_layer2.2.BatchNorm2d_bn2                      [256]   [100, 256, 16, 8]   \n",
      "47_layer2.2.ReLU_relu                                -   [100, 256, 16, 8]   \n",
      "48_layer2.3.Conv2d_conv1              [256, 256, 3, 3]   [100, 256, 16, 8]   \n",
      "49_layer2.3.BatchNorm2d_bn1                      [256]   [100, 256, 16, 8]   \n",
      "50_layer2.3.ReLU_relu                                -   [100, 256, 16, 8]   \n",
      "51_layer2.3.Conv2d_conv2              [256, 256, 3, 3]   [100, 256, 16, 8]   \n",
      "52_layer2.3.BatchNorm2d_bn2                      [256]   [100, 256, 16, 8]   \n",
      "53_layer2.3.ReLU_relu                                -   [100, 256, 16, 8]   \n",
      "54_layer3.0.Conv2d_conv1              [256, 512, 3, 3]    [100, 512, 8, 4]   \n",
      "55_layer3.0.BatchNorm2d_bn1                      [512]    [100, 512, 8, 4]   \n",
      "56_layer3.0.ReLU_relu                                -    [100, 512, 8, 4]   \n",
      "57_layer3.0.Conv2d_conv2              [512, 512, 3, 3]    [100, 512, 8, 4]   \n",
      "58_layer3.0.BatchNorm2d_bn2                      [512]    [100, 512, 8, 4]   \n",
      "59_layer3.0.downsample.Conv2d_0       [256, 512, 1, 1]    [100, 512, 8, 4]   \n",
      "60_layer3.0.downsample.BatchNorm2d_1             [512]    [100, 512, 8, 4]   \n",
      "61_layer3.0.ReLU_relu                                -    [100, 512, 8, 4]   \n",
      "62_layer3.1.Conv2d_conv1              [512, 512, 3, 3]    [100, 512, 8, 4]   \n",
      "63_layer3.1.BatchNorm2d_bn1                      [512]    [100, 512, 8, 4]   \n",
      "64_layer3.1.ReLU_relu                                -    [100, 512, 8, 4]   \n",
      "65_layer3.1.Conv2d_conv2              [512, 512, 3, 3]    [100, 512, 8, 4]   \n",
      "66_layer3.1.BatchNorm2d_bn2                      [512]    [100, 512, 8, 4]   \n",
      "67_layer3.1.ReLU_relu                                -    [100, 512, 8, 4]   \n",
      "68_layer3.2.Conv2d_conv1              [512, 512, 3, 3]    [100, 512, 8, 4]   \n",
      "69_layer3.2.BatchNorm2d_bn1                      [512]    [100, 512, 8, 4]   \n",
      "70_layer3.2.ReLU_relu                                -    [100, 512, 8, 4]   \n",
      "71_layer3.2.Conv2d_conv2              [512, 512, 3, 3]    [100, 512, 8, 4]   \n",
      "72_layer3.2.BatchNorm2d_bn2                      [512]    [100, 512, 8, 4]   \n",
      "73_layer3.2.ReLU_relu                                -    [100, 512, 8, 4]   \n",
      "74_layer3.3.Conv2d_conv1              [512, 512, 3, 3]    [100, 512, 8, 4]   \n",
      "75_layer3.3.BatchNorm2d_bn1                      [512]    [100, 512, 8, 4]   \n",
      "76_layer3.3.ReLU_relu                                -    [100, 512, 8, 4]   \n",
      "77_layer3.3.Conv2d_conv2              [512, 512, 3, 3]    [100, 512, 8, 4]   \n",
      "78_layer3.3.BatchNorm2d_bn2                      [512]    [100, 512, 8, 4]   \n",
      "79_layer3.3.ReLU_relu                                -    [100, 512, 8, 4]   \n",
      "80_avgpool                                           -    [100, 512, 1, 1]   \n",
      "81_fc                                        [512, 50]           [100, 50]   \n",
      "\n",
      "                                         Params   Mult-Adds  \n",
      "Layer                                                        \n",
      "0_conv1                                  3.456k   7.077888M  \n",
      "1_bn1                                     256.0       128.0  \n",
      "2_relu                                        -           -  \n",
      "3_maxpool                                     -           -  \n",
      "4_layer1.0.Conv2d_conv1                147.456k  75.497472M  \n",
      "5_layer1.0.BatchNorm2d_bn1                256.0       128.0  \n",
      "6_layer1.0.ReLU_relu                          -           -  \n",
      "7_layer1.0.Conv2d_conv2                147.456k  75.497472M  \n",
      "8_layer1.0.BatchNorm2d_bn2                256.0       128.0  \n",
      "9_layer1.0.ReLU_relu                          -           -  \n",
      "10_layer1.1.Conv2d_conv1               147.456k  75.497472M  \n",
      "11_layer1.1.BatchNorm2d_bn1               256.0       128.0  \n",
      "12_layer1.1.ReLU_relu                         -           -  \n",
      "13_layer1.1.Conv2d_conv2               147.456k  75.497472M  \n",
      "14_layer1.1.BatchNorm2d_bn2               256.0       128.0  \n",
      "15_layer1.1.ReLU_relu                         -           -  \n",
      "16_layer1.2.Conv2d_conv1               147.456k  75.497472M  \n",
      "17_layer1.2.BatchNorm2d_bn1               256.0       128.0  \n",
      "18_layer1.2.ReLU_relu                         -           -  \n",
      "19_layer1.2.Conv2d_conv2               147.456k  75.497472M  \n",
      "20_layer1.2.BatchNorm2d_bn2               256.0       128.0  \n",
      "21_layer1.2.ReLU_relu                         -           -  \n",
      "22_layer1.3.Conv2d_conv1               147.456k  75.497472M  \n",
      "23_layer1.3.BatchNorm2d_bn1               256.0       128.0  \n",
      "24_layer1.3.ReLU_relu                         -           -  \n",
      "25_layer1.3.Conv2d_conv2               147.456k  75.497472M  \n",
      "26_layer1.3.BatchNorm2d_bn2               256.0       128.0  \n",
      "27_layer1.3.ReLU_relu                         -           -  \n",
      "28_layer2.0.Conv2d_conv1               294.912k  37.748736M  \n",
      "29_layer2.0.BatchNorm2d_bn1               512.0       256.0  \n",
      "30_layer2.0.ReLU_relu                         -           -  \n",
      "31_layer2.0.Conv2d_conv2               589.824k  75.497472M  \n",
      "32_layer2.0.BatchNorm2d_bn2               512.0       256.0  \n",
      "33_layer2.0.downsample.Conv2d_0         32.768k   4.194304M  \n",
      "34_layer2.0.downsample.BatchNorm2d_1      512.0       256.0  \n",
      "35_layer2.0.ReLU_relu                         -           -  \n",
      "36_layer2.1.Conv2d_conv1               589.824k  75.497472M  \n",
      "37_layer2.1.BatchNorm2d_bn1               512.0       256.0  \n",
      "38_layer2.1.ReLU_relu                         -           -  \n",
      "39_layer2.1.Conv2d_conv2               589.824k  75.497472M  \n",
      "40_layer2.1.BatchNorm2d_bn2               512.0       256.0  \n",
      "41_layer2.1.ReLU_relu                         -           -  \n",
      "42_layer2.2.Conv2d_conv1               589.824k  75.497472M  \n",
      "43_layer2.2.BatchNorm2d_bn1               512.0       256.0  \n",
      "44_layer2.2.ReLU_relu                         -           -  \n",
      "45_layer2.2.Conv2d_conv2               589.824k  75.497472M  \n",
      "46_layer2.2.BatchNorm2d_bn2               512.0       256.0  \n",
      "47_layer2.2.ReLU_relu                         -           -  \n",
      "48_layer2.3.Conv2d_conv1               589.824k  75.497472M  \n",
      "49_layer2.3.BatchNorm2d_bn1               512.0       256.0  \n",
      "50_layer2.3.ReLU_relu                         -           -  \n",
      "51_layer2.3.Conv2d_conv2               589.824k  75.497472M  \n",
      "52_layer2.3.BatchNorm2d_bn2               512.0       256.0  \n",
      "53_layer2.3.ReLU_relu                         -           -  \n",
      "54_layer3.0.Conv2d_conv1              1.179648M  37.748736M  \n",
      "55_layer3.0.BatchNorm2d_bn1              1.024k       512.0  \n",
      "56_layer3.0.ReLU_relu                         -           -  \n",
      "57_layer3.0.Conv2d_conv2              2.359296M  75.497472M  \n",
      "58_layer3.0.BatchNorm2d_bn2              1.024k       512.0  \n",
      "59_layer3.0.downsample.Conv2d_0        131.072k   4.194304M  \n",
      "60_layer3.0.downsample.BatchNorm2d_1     1.024k       512.0  \n",
      "61_layer3.0.ReLU_relu                         -           -  \n",
      "62_layer3.1.Conv2d_conv1              2.359296M  75.497472M  \n",
      "63_layer3.1.BatchNorm2d_bn1              1.024k       512.0  \n",
      "64_layer3.1.ReLU_relu                         -           -  \n",
      "65_layer3.1.Conv2d_conv2              2.359296M  75.497472M  \n",
      "66_layer3.1.BatchNorm2d_bn2              1.024k       512.0  \n",
      "67_layer3.1.ReLU_relu                         -           -  \n",
      "68_layer3.2.Conv2d_conv1              2.359296M  75.497472M  \n",
      "69_layer3.2.BatchNorm2d_bn1              1.024k       512.0  \n",
      "70_layer3.2.ReLU_relu                         -           -  \n",
      "71_layer3.2.Conv2d_conv2              2.359296M  75.497472M  \n",
      "72_layer3.2.BatchNorm2d_bn2              1.024k       512.0  \n",
      "73_layer3.2.ReLU_relu                         -           -  \n",
      "74_layer3.3.Conv2d_conv1              2.359296M  75.497472M  \n",
      "75_layer3.3.BatchNorm2d_bn1              1.024k       512.0  \n",
      "76_layer3.3.ReLU_relu                         -           -  \n",
      "77_layer3.3.Conv2d_conv2              2.359296M  75.497472M  \n",
      "78_layer3.3.BatchNorm2d_bn2              1.024k       512.0  \n",
      "79_layer3.3.ReLU_relu                         -           -  \n",
      "80_avgpool                                    -           -  \n",
      "81_fc                                    25.65k       25.6k  \n",
      "-------------------------------------------------------------------------------------------------\n",
      "                            Totals\n",
      "Total params            23.507122M\n",
      "Trainable params        23.507122M\n",
      "Non-trainable params           0.0\n",
      "Mult-Adds             1.751942016G\n",
      "=================================================================================================\n"
     ]
    }
   ],
   "source": [
    "from torchsummaryX import summary\n",
    "input_tensor = torch.zeros((100, 64, 32), dtype=torch.float)\n",
    "input_tensor = input_tensor.cuda()\n",
    "\n",
    "s = summary(model, input_tensor)\n"
   ]
  },
  {
   "cell_type": "markdown",
   "metadata": {},
   "source": [
    "## Prep training"
   ]
  },
  {
   "cell_type": "code",
   "execution_count": 15,
   "metadata": {
    "tags": []
   },
   "outputs": [
    {
     "name": "stdout",
     "output_type": "stream",
     "text": [
      "26\n"
     ]
    }
   ],
   "source": [
    "nb_conv = 0\n",
    "\n",
    "for layer in s.index.values:\n",
    "    if \"Conv\" in layer:\n",
    "        nb_conv += 1\n",
    "print(nb_conv)"
   ]
  },
  {
   "cell_type": "markdown",
   "metadata": {
    "pycharm": {
     "name": "#%% md\n"
    }
   },
   "source": [
    "# training parameters"
   ]
  },
  {
   "cell_type": "code",
   "execution_count": 16,
   "metadata": {
    "collapsed": false,
    "jupyter": {
     "outputs_hidden": false
    },
    "pycharm": {
     "name": "#%%\n"
    },
    "tags": []
   },
   "outputs": [
    {
     "name": "stdout",
     "output_type": "stream",
     "text": [
      "../tensorboard/SpeechCommand/supervised/wideresnet28_8/1.0S/2020-09-23_09:22:31_wideresnet28_8_1.0S\n"
     ]
    }
   ],
   "source": [
    "# tensorboard\n",
    "title_element = (args.model, args.supervised_ratio, get_datetime(), model_func.__name__, args.supervised_ratio)\n",
    "tensorboard_title = \"%s/%sS/%s_%s_%.1fS\" % title_element\n",
    "\n",
    "title_element = (model_func.__name__, args.supervised_ratio)\n",
    "checkpoint_title = \"%s_%.1fS\" % title_element\n",
    "\n",
    "tensorboard = SummaryWriter(log_dir=\"%s/%s\" % (tensorboard_path, tensorboard_title), comment=model_func.__name__)\n",
    "print(os.path.join(tensorboard_path, tensorboard_title))\n",
    "\n",
    "# losses\n",
    "loss_ce = nn.CrossEntropyLoss(reduction=\"mean\")"
   ]
  },
  {
   "cell_type": "code",
   "execution_count": 17,
   "metadata": {},
   "outputs": [],
   "source": [
    "tensorboard_params = {}\n",
    "for key, value in args.__dict__.items():\n",
    "    tensorboard_params[key] = str(value)"
   ]
  },
  {
   "cell_type": "code",
   "execution_count": 18,
   "metadata": {},
   "outputs": [],
   "source": [
    "tensorboard.add_hparams(tensorboard_params, {})"
   ]
  },
  {
   "cell_type": "markdown",
   "metadata": {},
   "source": [
    "## optimizer & callbacks"
   ]
  },
  {
   "cell_type": "code",
   "execution_count": 19,
   "metadata": {},
   "outputs": [],
   "source": [
    "optimizer = load_optimizer(args.dataset, \"supervised\", model=model)\n",
    "callbacks = load_callbacks(args.dataset, \"supervised\", optimizer=optimizer, nb_epoch=args.nb_epoch)\n"
   ]
  },
  {
   "cell_type": "code",
   "execution_count": 20,
   "metadata": {
    "collapsed": false,
    "jupyter": {
     "outputs_hidden": false
    },
    "pycharm": {
     "name": "#%%\n"
    },
    "tags": [
     "re_run"
    ]
   },
   "outputs": [],
   "source": [
    "# Checkpoint\n",
    "checkpoint = CheckPoint(model, optimizer, mode=\"max\", name=\"%s/%s.torch\" % (checkpoint_path, checkpoint_title))\n",
    "\n",
    "# Metrics\n",
    "fscore_fn = FScore()\n",
    "acc_fn = CategoricalAccuracy()\n",
    "avg = ContinueAverage()\n",
    "maximum_tracker = track_maximum()\n",
    "\n",
    "reset_metrics = lambda : [m.reset() for m in [fscore_fn, acc_fn, avg]]\n",
    "\n",
    "def get_lr(optimizer):\n",
    "    for param_group in optimizer.param_groups:\n",
    "        return param_group['lr']"
   ]
  },
  {
   "cell_type": "markdown",
   "metadata": {
    "pycharm": {
     "name": "#%% md\n"
    }
   },
   "source": [
    "## Can resume previous training"
   ]
  },
  {
   "cell_type": "code",
   "execution_count": 21,
   "metadata": {
    "pycharm": {
     "name": "#%%\n"
    }
   },
   "outputs": [],
   "source": [
    "if args.resume:\n",
    "    checkpoint.load_last()"
   ]
  },
  {
   "cell_type": "code",
   "execution_count": 22,
   "metadata": {},
   "outputs": [
    {
     "data": {
      "text/plain": [
       "False"
      ]
     },
     "execution_count": 22,
     "metadata": {},
     "output_type": "execute_result"
    }
   ],
   "source": [
    "args.resume"
   ]
  },
  {
   "cell_type": "markdown",
   "metadata": {
    "pycharm": {
     "name": "#%% md\n"
    }
   },
   "source": [
    "## training function"
   ]
  },
  {
   "cell_type": "code",
   "execution_count": 23,
   "metadata": {
    "collapsed": false,
    "jupyter": {
     "outputs_hidden": false
    },
    "pycharm": {
     "name": "#%%\n"
    },
    "tags": []
   },
   "outputs": [
    {
     "name": "stdout",
     "output_type": "stream",
     "text": [
      ".        Epoch  - %      - Losses:  ce     - metrics:  acc         | F1       - Time  \n"
     ]
    }
   ],
   "source": [
    "UNDERLINE_SEQ = \"\\033[1;4m\"\n",
    "RESET_SEQ = \"\\033[0m\"\n",
    "\n",
    "\n",
    "header_form = \"{:<8.8} {:<6.6} - {:<6.6} - {:<8.8} {:<6.6} - {:<9.9} {:<12.12}| {:<9.9}- {:<6.6}\"\n",
    "value_form  = \"{:<8.8} {:<6} - {:<6} - {:<8.8} {:<6.4f} - {:<9.9} {:<10.4f}| {:<9.4f}- {:<6.4f}\"\n",
    "\n",
    "header = header_form.format(\n",
    "    \".               \", \"Epoch\", \"%\", \"Losses:\", \"ce\", \"metrics: \", \"acc\", \"F1 \",\"Time\"\n",
    ")\n",
    "\n",
    "\n",
    "train_form = value_form\n",
    "val_form = UNDERLINE_SEQ + value_form + RESET_SEQ\n",
    "\n",
    "print(header)"
   ]
  },
  {
   "cell_type": "code",
   "execution_count": 24,
   "metadata": {
    "tags": [
     "re_run"
    ]
   },
   "outputs": [],
   "source": [
    "def train(epoch):\n",
    "    start_time = time.time()\n",
    "    print(\"\")\n",
    "\n",
    "    reset_metrics()\n",
    "    model.train()\n",
    "\n",
    "    for i, (X, y) in enumerate(train_loader):        \n",
    "        X = X.cuda()\n",
    "        y = y.cuda()\n",
    "        \n",
    "        logits = model(X)        \n",
    "        loss = loss_ce(logits, y)\n",
    "\n",
    "        optimizer.zero_grad()\n",
    "        loss.backward()\n",
    "        optimizer.step()\n",
    "\n",
    "        with torch.set_grad_enabled(False):\n",
    "            pred = torch.softmax(logits, dim=1)\n",
    "            pred_arg = torch.argmax(logits, dim=1)\n",
    "            y_one_hot = F.one_hot(y, num_classes=args.num_classes)\n",
    "\n",
    "            acc = acc_fn(pred_arg, y).mean\n",
    "            fscore = fscore_fn(pred, y_one_hot).mean\n",
    "            avg_ce = avg(loss.item()).mean\n",
    "\n",
    "            # logs\n",
    "            print(train_form.format(\n",
    "                \"Training: \",\n",
    "                epoch + 1,\n",
    "                int(100 * (i + 1) / len(train_loader)),\n",
    "                \"\", avg_ce,\n",
    "                \"\", acc, fscore,\n",
    "                time.time() - start_time\n",
    "            ), end=\"\\r\")\n",
    "\n",
    "    tensorboard.add_scalar(\"train/Lce\", avg_ce, epoch)\n",
    "    tensorboard.add_scalar(\"train/f1\", fscore, epoch)\n",
    "    tensorboard.add_scalar(\"train/acc\", acc, epoch)"
   ]
  },
  {
   "cell_type": "code",
   "execution_count": 25,
   "metadata": {
    "collapsed": false,
    "jupyter": {
     "outputs_hidden": false
    },
    "pycharm": {
     "name": "#%%\n"
    },
    "tags": [
     "re_run"
    ]
   },
   "outputs": [],
   "source": [
    "def val(epoch):\n",
    "    start_time = time.time()\n",
    "    print(\"\")\n",
    "    reset_metrics()\n",
    "    model.eval()\n",
    "\n",
    "    with torch.set_grad_enabled(False):\n",
    "        for i, (X, y) in enumerate(val_loader):\n",
    "            X = X.cuda()\n",
    "            y = y.cuda()\n",
    "\n",
    "            logits = model(X)\n",
    "            loss = loss_ce(logits, y)\n",
    "\n",
    "            # metrics\n",
    "            pred = torch.softmax(logits, dim=1)\n",
    "            pred_arg = torch.argmax(logits, dim=1)\n",
    "            y_one_hot = F.one_hot(y, num_classes=args.num_classes)\n",
    "\n",
    "            acc = acc_fn(pred_arg, y).mean\n",
    "            fscore = fscore_fn(pred, y_one_hot).mean\n",
    "            avg_ce = avg(loss.item()).mean\n",
    "\n",
    "            # logs\n",
    "            print(val_form.format(\n",
    "                \"Validation: \",\n",
    "                epoch + 1,\n",
    "                int(100 * (i + 1) / len(val_loader)),\n",
    "                \"\", avg_ce,\n",
    "                \"\", acc, fscore,\n",
    "                time.time() - start_time\n",
    "            ), end=\"\\r\")\n",
    "\n",
    "    tensorboard.add_scalar(\"val/Lce\", avg_ce, epoch)\n",
    "    tensorboard.add_scalar(\"val/f1\", fscore, epoch)\n",
    "    tensorboard.add_scalar(\"val/acc\", acc, epoch)\n",
    "    \n",
    "    tensorboard.add_scalar(\"hyperparameters/learning_rate\", get_lr(optimizer), epoch)\n",
    "    \n",
    "    tensorboard.add_scalar(\"max/acc\", maximum_tracker(\"acc\", acc), epoch )\n",
    "    tensorboard.add_scalar(\"max/f1\", maximum_tracker(\"f1\", fscore), epoch )\n",
    "\n",
    "    checkpoint.step(acc)\n",
    "    for c in callbacks:\n",
    "        c.step()\n"
   ]
  },
  {
   "cell_type": "code",
   "execution_count": null,
   "metadata": {
    "collapsed": false,
    "jupyter": {
     "outputs_hidden": false
    },
    "pycharm": {
     "name": "#%%\n"
    },
    "scrolled": true,
    "tags": []
   },
   "outputs": [
    {
     "name": "stdout",
     "output_type": "stream",
     "text": [
      ".        Epoch  - %      - Losses:  ce     - metrics:  acc         | F1       - Time  \n",
      "\n",
      "Training 1      - 31     -          1.6360 -           0.5441    | 0.4858   - 67.1725\r"
     ]
    }
   ],
   "source": [
    "print(header)\n",
    "\n",
    "start_epoch = checkpoint.epoch_counter\n",
    "end_epoch = args.nb_epoch\n",
    "\n",
    "for e in range(start_epoch, args.nb_epoch):\n",
    "    train(e)\n",
    "    val(e)\n",
    "    \n",
    "    tensorboard.flush()\n",
    "tensorboard.close()"
   ]
  },
  {
   "cell_type": "markdown",
   "metadata": {},
   "source": [
    "# ♫♪.ılılıll|̲̅̅●̲̅̅|̲̅̅=̲̅̅|̲̅̅●̲̅̅|llılılı.♫♪"
   ]
  }
 ],
 "metadata": {
  "kernelspec": {
   "display_name": "dct",
   "language": "python",
   "name": "dct"
  },
  "language_info": {
   "codemirror_mode": {
    "name": "ipython",
    "version": 3
   },
   "file_extension": ".py",
   "mimetype": "text/x-python",
   "name": "python",
   "nbconvert_exporter": "python",
   "pygments_lexer": "ipython3",
   "version": "3.8.0"
  }
 },
 "nbformat": 4,
 "nbformat_minor": 4
}
