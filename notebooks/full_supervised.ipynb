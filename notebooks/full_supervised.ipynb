{
 "cells": [
  {
   "cell_type": "markdown",
   "metadata": {
    "jupyter": {
     "outputs_hidden": true
    }
   },
   "source": [
    "# import"
   ]
  },
  {
   "cell_type": "code",
   "execution_count": 4,
   "metadata": {},
   "outputs": [],
   "source": [
    "%load_ext autoreload\n",
    "%autoreload 2"
   ]
  },
  {
   "cell_type": "code",
   "execution_count": 5,
   "metadata": {},
   "outputs": [],
   "source": [
    "import os\n",
    "os.environ[\"MKL_NUM_THREADS\"] = \"2\"\n",
    "os.environ[\"NUMEXPR_NU M_THREADS\"] = \"2\"\n",
    "os.environ[\"OMP_NUM_THREADS\"] = \"2\"\n",
    "import time\n",
    "\n",
    "import numpy\n",
    "import torch\n",
    "import torch.nn as nn\n",
    "import torch.utils.data as data\n",
    "import torch.nn.functional as F\n",
    "import torchvision.transforms as transforms\n",
    "from torch.cuda.amp import autocast\n",
    "\n",
    "from torch.optim.lr_scheduler import LambdaLR\n",
    "from torch.utils.tensorboard import SummaryWriter"
   ]
  },
  {
   "cell_type": "code",
   "execution_count": 3,
   "metadata": {},
   "outputs": [],
   "source": [
    "from ubs8k.datasetManager import DatasetManager\n",
    "from ubs8k.datasets import Dataset\n",
    "\n",
    "from DCT.util.utils import reset_seed, get_datetime, get_model_from_name, load_dataset\n",
    "from DCT.util.checkpoint import CheckPoint\n",
    "from metric_utils.metrics import CategoricalAccuracy, FScore, ContinueAverage"
   ]
  },
  {
   "cell_type": "markdown",
   "metadata": {
    "pycharm": {
     "name": "#%% md\n"
    }
   },
   "source": [
    "# Arguments"
   ]
  },
  {
   "cell_type": "code",
   "execution_count": 7,
   "metadata": {
    "collapsed": false,
    "jupyter": {
     "outputs_hidden": false
    },
    "pycharm": {
     "name": "#%%\n"
    },
    "tags": [
     "re_run"
    ]
   },
   "outputs": [],
   "source": [
    "import argparse\n",
    "parser = argparse.ArgumentParser()\n",
    "parser.add_argument(\"-d\", \"--dataset_root\", default=\"../datasets\", type=str)\n",
    "parser.add_argument(\"-D\", \"--dataset\", default=\"cifar10\", type=str, help=\"available [ubs8k | cifar10]\")\n",
    "\n",
    "parser.add_argument(\"--supervised_ratio\", default=1.0, type=float)\n",
    "parser.add_argument(\"-t\", \"--train_folds\", nargs=\"+\", default=[1, 2, 3, 4, 5, 6, 7, 8, 9], type=int)\n",
    "parser.add_argument(\"-v\", \"--val_folds\", nargs=\"+\", default=[10], type=int)\n",
    "\n",
    "parser.add_argument(\"--model\", default=\"wideresnet28_2\", type=str)\n",
    "parser.add_argument(\"--batch_size\", default=128, type=int)\n",
    "parser.add_argument(\"--nb_epoch\", default=300, type=int)\n",
    "parser.add_argument(\"--learning_rate\", default=0.003, type=int)\n",
    "\n",
    "parser.add_argument(\"--checkpoint_path\", default=\"../model_save/ubs8k/full_supervised\", type=str)\n",
    "parser.add_argument(\"--resume\", action=\"store_true\", default=False)\n",
    "parser.add_argument(\"--tensorboard_path\", default=\"../tensorboard/ubs8k/full_supervised\", type=str)\n",
    "parser.add_argument(\"--tensorboard_sufix\", default=\"\", type=str)\n",
    "\n",
    "args = parser.parse_args(\"\")"
   ]
  },
  {
   "cell_type": "code",
   "execution_count": 5,
   "metadata": {
    "tags": [
     "re_run"
    ]
   },
   "outputs": [
    {
     "data": {
      "text/plain": [
       "Namespace(batch_size=100, checkpoint_path='../model_save/cifar10/full_supervised', dataset='cifar10', dataset_root='../datasets', learning_rate=0.003, model='Pmodel', nb_epoch=100, resume=False, supervised_ratio=1.0, tensorboard_path='../tensorboard/cifar10/full_supervised', tensorboard_sufix='', train_folds=[1, 2, 3, 4, 5, 6, 7, 8, 9], val_folds=[10])"
      ]
     },
     "execution_count": 8,
     "metadata": {},
     "output_type": "execute_result"
    }
   ],
   "source": [
    "# modify checkpoint and tensorboard path to fit the dataset\n",
    "checkpoint_path_ = args.checkpoint_path.split(\"/\")\n",
    "tensorboard_path_ = args.tensorboard_path.split(\"/\")\n",
    "\n",
    "checkpoint_path_[2] = args.dataset\n",
    "tensorboard_path_[2] = args.dataset\n",
    "\n",
    "args.checkpoint_path = \"/\".join(checkpoint_path_)\n",
    "args.tensorboard_path = \"/\".join(tensorboard_path_)\n",
    "args"
   ]
  },
  {
   "cell_type": "markdown",
   "metadata": {
    "pycharm": {
     "name": "#%% md\n"
    }
   },
   "source": [
    "# initialisation"
   ]
  },
  {
   "cell_type": "code",
   "execution_count": 6,
   "metadata": {
    "collapsed": false,
    "jupyter": {
     "outputs_hidden": false
    },
    "pycharm": {
     "name": "#%%\n"
    },
    "tags": [
     "re_run"
    ]
   },
   "outputs": [],
   "source": [
    "reset_seed(1234)\n"
   ]
  },
  {
   "cell_type": "markdown",
   "metadata": {
    "pycharm": {
     "name": "#%% md\n"
    }
   },
   "source": [
    "# Prepare the dataset"
   ]
  },
  {
   "cell_type": "code",
   "execution_count": 7,
   "metadata": {
    "collapsed": false,
    "jupyter": {
     "outputs_hidden": false
    },
    "pycharm": {
     "name": "#%%\n"
    }
   },
   "outputs": [
    {
     "name": "stdout",
     "output_type": "stream",
     "text": [
      "Files already downloaded and verified\n",
      "Files already downloaded and verified\n"
     ]
    }
   ],
   "source": [
    "\"\"\"\n",
    "we pre-processed the images using ZCA and augmented the dataset using horizontal flips and random translations. The translations\n",
    "were drawn from [−2, 2] pixels,\n",
    "\"\"\"\n",
    "extra_train_transforms = [\n",
    "    transforms.RandomCrop(32, padding=4),\n",
    "    transforms.RandomHorizontalFlip(),\n",
    "]\n",
    "\n",
    "manager, train_loader, val_loader = load_dataset(\n",
    "    args.dataset,\n",
    "    \"supervised\",\n",
    "    \n",
    "    extra_train_transform = extra_train_transforms,\n",
    "    \n",
    "    dataset_root = args.dataset_root,\n",
    "    supervised_ratio = args.supervised_ratio,\n",
    "    batch_size = args.batch_size,\n",
    "    train_folds = args.train_folds,\n",
    "    val_folds = args.val_folds,\n",
    "    verbose = 2\n",
    ")"
   ]
  },
  {
   "cell_type": "markdown",
   "metadata": {},
   "source": [
    "# Prep model"
   ]
  },
  {
   "cell_type": "code",
   "execution_count": 8,
   "metadata": {
    "scrolled": true,
    "tags": [
     "re_run"
    ]
   },
   "outputs": [],
   "source": [
    "torch.cuda.empty_cache()\n",
    "\n",
    "from torchvision.models import ResNet\n",
    "import torchvision.models as tm\n",
    "\n",
    "# =============================================================================\n",
    "#    WIDE RES NET\n",
    "# =============================================================================\n",
    "def wideresnet50_2(**kwargs):\n",
    "    model = ResNet(tm.resnet.Bottleneck, [3, 4, 6, 3], num_classes=10, **kwargs)\n",
    "    return model\n",
    "\n",
    "def wideresnet28_2(**kwargs):\n",
    "    model = ResNet(tm.resnet.Bottleneck, [2, 2, 2, 2], num_classes=10, **kwargs)\n",
    "    return model\n",
    "\n",
    "\n",
    "model_func = get_model_from_name(args.model)\n",
    "# model = ResNet(tm.resnet.Bottleneck, [2, 2, 2, 2], num_classes=10)\n",
    "model = model_func()\n",
    "model = model.cuda()\n"
   ]
  },
  {
   "cell_type": "code",
   "execution_count": 9,
   "metadata": {
    "scrolled": true
   },
   "outputs": [
    {
     "name": "stdout",
     "output_type": "stream",
     "text": [
      "================================================================================================\n",
      "                                            Kernel Shape      Output Shape  \\\n",
      "Layer                                                                        \n",
      "0_conv1                                    [3, 64, 7, 7]  [64, 64, 16, 16]   \n",
      "1_bn1                                               [64]  [64, 64, 16, 16]   \n",
      "2_relu                                                 -  [64, 64, 16, 16]   \n",
      "3_maxpool                                              -    [64, 64, 8, 8]   \n",
      "4_layer1.0.Conv2d_conv1                   [64, 64, 1, 1]    [64, 64, 8, 8]   \n",
      "5_layer1.0.BatchNorm2d_bn1                          [64]    [64, 64, 8, 8]   \n",
      "6_layer1.0.ReLU_relu                                   -    [64, 64, 8, 8]   \n",
      "7_layer1.0.Conv2d_conv2                   [64, 64, 3, 3]    [64, 64, 8, 8]   \n",
      "8_layer1.0.BatchNorm2d_bn2                          [64]    [64, 64, 8, 8]   \n",
      "9_layer1.0.ReLU_relu                                   -    [64, 64, 8, 8]   \n",
      "10_layer1.0.Conv2d_conv3                 [64, 256, 1, 1]   [64, 256, 8, 8]   \n",
      "11_layer1.0.BatchNorm2d_bn3                        [256]   [64, 256, 8, 8]   \n",
      "12_layer1.0.downsample.Conv2d_0          [64, 256, 1, 1]   [64, 256, 8, 8]   \n",
      "13_layer1.0.downsample.BatchNorm2d_1               [256]   [64, 256, 8, 8]   \n",
      "14_layer1.0.ReLU_relu                                  -   [64, 256, 8, 8]   \n",
      "15_layer1.1.Conv2d_conv1                 [256, 64, 1, 1]    [64, 64, 8, 8]   \n",
      "16_layer1.1.BatchNorm2d_bn1                         [64]    [64, 64, 8, 8]   \n",
      "17_layer1.1.ReLU_relu                                  -    [64, 64, 8, 8]   \n",
      "18_layer1.1.Conv2d_conv2                  [64, 64, 3, 3]    [64, 64, 8, 8]   \n",
      "19_layer1.1.BatchNorm2d_bn2                         [64]    [64, 64, 8, 8]   \n",
      "20_layer1.1.ReLU_relu                                  -    [64, 64, 8, 8]   \n",
      "21_layer1.1.Conv2d_conv3                 [64, 256, 1, 1]   [64, 256, 8, 8]   \n",
      "22_layer1.1.BatchNorm2d_bn3                        [256]   [64, 256, 8, 8]   \n",
      "23_layer1.1.ReLU_relu                                  -   [64, 256, 8, 8]   \n",
      "24_layer2.0.Conv2d_conv1                [256, 128, 1, 1]   [64, 128, 8, 8]   \n",
      "25_layer2.0.BatchNorm2d_bn1                        [128]   [64, 128, 8, 8]   \n",
      "26_layer2.0.ReLU_relu                                  -   [64, 128, 8, 8]   \n",
      "27_layer2.0.Conv2d_conv2                [128, 128, 3, 3]   [64, 128, 4, 4]   \n",
      "28_layer2.0.BatchNorm2d_bn2                        [128]   [64, 128, 4, 4]   \n",
      "29_layer2.0.ReLU_relu                                  -   [64, 128, 4, 4]   \n",
      "30_layer2.0.Conv2d_conv3                [128, 512, 1, 1]   [64, 512, 4, 4]   \n",
      "31_layer2.0.BatchNorm2d_bn3                        [512]   [64, 512, 4, 4]   \n",
      "32_layer2.0.downsample.Conv2d_0         [256, 512, 1, 1]   [64, 512, 4, 4]   \n",
      "33_layer2.0.downsample.BatchNorm2d_1               [512]   [64, 512, 4, 4]   \n",
      "34_layer2.0.ReLU_relu                                  -   [64, 512, 4, 4]   \n",
      "35_layer2.1.Conv2d_conv1                [512, 128, 1, 1]   [64, 128, 4, 4]   \n",
      "36_layer2.1.BatchNorm2d_bn1                        [128]   [64, 128, 4, 4]   \n",
      "37_layer2.1.ReLU_relu                                  -   [64, 128, 4, 4]   \n",
      "38_layer2.1.Conv2d_conv2                [128, 128, 3, 3]   [64, 128, 4, 4]   \n",
      "39_layer2.1.BatchNorm2d_bn2                        [128]   [64, 128, 4, 4]   \n",
      "40_layer2.1.ReLU_relu                                  -   [64, 128, 4, 4]   \n",
      "41_layer2.1.Conv2d_conv3                [128, 512, 1, 1]   [64, 512, 4, 4]   \n",
      "42_layer2.1.BatchNorm2d_bn3                        [512]   [64, 512, 4, 4]   \n",
      "43_layer2.1.ReLU_relu                                  -   [64, 512, 4, 4]   \n",
      "44_layer3.0.Conv2d_conv1                [512, 256, 1, 1]   [64, 256, 4, 4]   \n",
      "45_layer3.0.BatchNorm2d_bn1                        [256]   [64, 256, 4, 4]   \n",
      "46_layer3.0.ReLU_relu                                  -   [64, 256, 4, 4]   \n",
      "47_layer3.0.Conv2d_conv2                [256, 256, 3, 3]   [64, 256, 2, 2]   \n",
      "48_layer3.0.BatchNorm2d_bn2                        [256]   [64, 256, 2, 2]   \n",
      "49_layer3.0.ReLU_relu                                  -   [64, 256, 2, 2]   \n",
      "50_layer3.0.Conv2d_conv3               [256, 1024, 1, 1]  [64, 1024, 2, 2]   \n",
      "51_layer3.0.BatchNorm2d_bn3                       [1024]  [64, 1024, 2, 2]   \n",
      "52_layer3.0.downsample.Conv2d_0        [512, 1024, 1, 1]  [64, 1024, 2, 2]   \n",
      "53_layer3.0.downsample.BatchNorm2d_1              [1024]  [64, 1024, 2, 2]   \n",
      "54_layer3.0.ReLU_relu                                  -  [64, 1024, 2, 2]   \n",
      "55_layer3.1.Conv2d_conv1               [1024, 256, 1, 1]   [64, 256, 2, 2]   \n",
      "56_layer3.1.BatchNorm2d_bn1                        [256]   [64, 256, 2, 2]   \n",
      "57_layer3.1.ReLU_relu                                  -   [64, 256, 2, 2]   \n",
      "58_layer3.1.Conv2d_conv2                [256, 256, 3, 3]   [64, 256, 2, 2]   \n",
      "59_layer3.1.BatchNorm2d_bn2                        [256]   [64, 256, 2, 2]   \n",
      "60_layer3.1.ReLU_relu                                  -   [64, 256, 2, 2]   \n",
      "61_layer3.1.Conv2d_conv3               [256, 1024, 1, 1]  [64, 1024, 2, 2]   \n",
      "62_layer3.1.BatchNorm2d_bn3                       [1024]  [64, 1024, 2, 2]   \n",
      "63_layer3.1.ReLU_relu                                  -  [64, 1024, 2, 2]   \n",
      "64_layer4.0.Conv2d_conv1               [1024, 512, 1, 1]   [64, 512, 2, 2]   \n",
      "65_layer4.0.BatchNorm2d_bn1                        [512]   [64, 512, 2, 2]   \n",
      "66_layer4.0.ReLU_relu                                  -   [64, 512, 2, 2]   \n",
      "67_layer4.0.Conv2d_conv2                [512, 512, 3, 3]   [64, 512, 1, 1]   \n",
      "68_layer4.0.BatchNorm2d_bn2                        [512]   [64, 512, 1, 1]   \n",
      "69_layer4.0.ReLU_relu                                  -   [64, 512, 1, 1]   \n",
      "70_layer4.0.Conv2d_conv3               [512, 2048, 1, 1]  [64, 2048, 1, 1]   \n",
      "71_layer4.0.BatchNorm2d_bn3                       [2048]  [64, 2048, 1, 1]   \n",
      "72_layer4.0.downsample.Conv2d_0       [1024, 2048, 1, 1]  [64, 2048, 1, 1]   \n",
      "73_layer4.0.downsample.BatchNorm2d_1              [2048]  [64, 2048, 1, 1]   \n",
      "74_layer4.0.ReLU_relu                                  -  [64, 2048, 1, 1]   \n",
      "75_layer4.1.Conv2d_conv1               [2048, 512, 1, 1]   [64, 512, 1, 1]   \n",
      "76_layer4.1.BatchNorm2d_bn1                        [512]   [64, 512, 1, 1]   \n",
      "77_layer4.1.ReLU_relu                                  -   [64, 512, 1, 1]   \n",
      "78_layer4.1.Conv2d_conv2                [512, 512, 3, 3]   [64, 512, 1, 1]   \n",
      "79_layer4.1.BatchNorm2d_bn2                        [512]   [64, 512, 1, 1]   \n",
      "80_layer4.1.ReLU_relu                                  -   [64, 512, 1, 1]   \n",
      "81_layer4.1.Conv2d_conv3               [512, 2048, 1, 1]  [64, 2048, 1, 1]   \n",
      "82_layer4.1.BatchNorm2d_bn3                       [2048]  [64, 2048, 1, 1]   \n",
      "83_layer4.1.ReLU_relu                                  -  [64, 2048, 1, 1]   \n",
      "84_avgpool                                             -  [64, 2048, 1, 1]   \n",
      "85_fc                                         [2048, 10]          [64, 10]   \n",
      "\n",
      "                                         Params  Mult-Adds  \n",
      "Layer                                                       \n",
      "0_conv1                                  9.408k  2.408448M  \n",
      "1_bn1                                     128.0       64.0  \n",
      "2_relu                                        -          -  \n",
      "3_maxpool                                     -          -  \n",
      "4_layer1.0.Conv2d_conv1                  4.096k   262.144k  \n",
      "5_layer1.0.BatchNorm2d_bn1                128.0       64.0  \n",
      "6_layer1.0.ReLU_relu                          -          -  \n",
      "7_layer1.0.Conv2d_conv2                 36.864k  2.359296M  \n",
      "8_layer1.0.BatchNorm2d_bn2                128.0       64.0  \n",
      "9_layer1.0.ReLU_relu                          -          -  \n",
      "10_layer1.0.Conv2d_conv3                16.384k  1.048576M  \n",
      "11_layer1.0.BatchNorm2d_bn3               512.0      256.0  \n",
      "12_layer1.0.downsample.Conv2d_0         16.384k  1.048576M  \n",
      "13_layer1.0.downsample.BatchNorm2d_1      512.0      256.0  \n",
      "14_layer1.0.ReLU_relu                         -          -  \n",
      "15_layer1.1.Conv2d_conv1                16.384k  1.048576M  \n",
      "16_layer1.1.BatchNorm2d_bn1               128.0       64.0  \n",
      "17_layer1.1.ReLU_relu                         -          -  \n",
      "18_layer1.1.Conv2d_conv2                36.864k  2.359296M  \n",
      "19_layer1.1.BatchNorm2d_bn2               128.0       64.0  \n",
      "20_layer1.1.ReLU_relu                         -          -  \n",
      "21_layer1.1.Conv2d_conv3                16.384k  1.048576M  \n",
      "22_layer1.1.BatchNorm2d_bn3               512.0      256.0  \n",
      "23_layer1.1.ReLU_relu                         -          -  \n",
      "24_layer2.0.Conv2d_conv1                32.768k  2.097152M  \n",
      "25_layer2.0.BatchNorm2d_bn1               256.0      128.0  \n",
      "26_layer2.0.ReLU_relu                         -          -  \n",
      "27_layer2.0.Conv2d_conv2               147.456k  2.359296M  \n",
      "28_layer2.0.BatchNorm2d_bn2               256.0      128.0  \n",
      "29_layer2.0.ReLU_relu                         -          -  \n",
      "30_layer2.0.Conv2d_conv3                65.536k  1.048576M  \n",
      "31_layer2.0.BatchNorm2d_bn3              1.024k      512.0  \n",
      "32_layer2.0.downsample.Conv2d_0        131.072k  2.097152M  \n",
      "33_layer2.0.downsample.BatchNorm2d_1     1.024k      512.0  \n",
      "34_layer2.0.ReLU_relu                         -          -  \n",
      "35_layer2.1.Conv2d_conv1                65.536k  1.048576M  \n",
      "36_layer2.1.BatchNorm2d_bn1               256.0      128.0  \n",
      "37_layer2.1.ReLU_relu                         -          -  \n",
      "38_layer2.1.Conv2d_conv2               147.456k  2.359296M  \n",
      "39_layer2.1.BatchNorm2d_bn2               256.0      128.0  \n",
      "40_layer2.1.ReLU_relu                         -          -  \n",
      "41_layer2.1.Conv2d_conv3                65.536k  1.048576M  \n",
      "42_layer2.1.BatchNorm2d_bn3              1.024k      512.0  \n",
      "43_layer2.1.ReLU_relu                         -          -  \n",
      "44_layer3.0.Conv2d_conv1               131.072k  2.097152M  \n",
      "45_layer3.0.BatchNorm2d_bn1               512.0      256.0  \n",
      "46_layer3.0.ReLU_relu                         -          -  \n",
      "47_layer3.0.Conv2d_conv2               589.824k  2.359296M  \n",
      "48_layer3.0.BatchNorm2d_bn2               512.0      256.0  \n",
      "49_layer3.0.ReLU_relu                         -          -  \n",
      "50_layer3.0.Conv2d_conv3               262.144k  1.048576M  \n",
      "51_layer3.0.BatchNorm2d_bn3              2.048k     1.024k  \n",
      "52_layer3.0.downsample.Conv2d_0        524.288k  2.097152M  \n",
      "53_layer3.0.downsample.BatchNorm2d_1     2.048k     1.024k  \n",
      "54_layer3.0.ReLU_relu                         -          -  \n",
      "55_layer3.1.Conv2d_conv1               262.144k  1.048576M  \n",
      "56_layer3.1.BatchNorm2d_bn1               512.0      256.0  \n",
      "57_layer3.1.ReLU_relu                         -          -  \n",
      "58_layer3.1.Conv2d_conv2               589.824k  2.359296M  \n",
      "59_layer3.1.BatchNorm2d_bn2               512.0      256.0  \n",
      "60_layer3.1.ReLU_relu                         -          -  \n",
      "61_layer3.1.Conv2d_conv3               262.144k  1.048576M  \n",
      "62_layer3.1.BatchNorm2d_bn3              2.048k     1.024k  \n",
      "63_layer3.1.ReLU_relu                         -          -  \n",
      "64_layer4.0.Conv2d_conv1               524.288k  2.097152M  \n",
      "65_layer4.0.BatchNorm2d_bn1              1.024k      512.0  \n",
      "66_layer4.0.ReLU_relu                         -          -  \n",
      "67_layer4.0.Conv2d_conv2              2.359296M  2.359296M  \n",
      "68_layer4.0.BatchNorm2d_bn2              1.024k      512.0  \n",
      "69_layer4.0.ReLU_relu                         -          -  \n",
      "70_layer4.0.Conv2d_conv3              1.048576M  1.048576M  \n",
      "71_layer4.0.BatchNorm2d_bn3              4.096k     2.048k  \n",
      "72_layer4.0.downsample.Conv2d_0       2.097152M  2.097152M  \n",
      "73_layer4.0.downsample.BatchNorm2d_1     4.096k     2.048k  \n",
      "74_layer4.0.ReLU_relu                         -          -  \n",
      "75_layer4.1.Conv2d_conv1              1.048576M  1.048576M  \n",
      "76_layer4.1.BatchNorm2d_bn1              1.024k      512.0  \n",
      "77_layer4.1.ReLU_relu                         -          -  \n",
      "78_layer4.1.Conv2d_conv2              2.359296M  2.359296M  \n",
      "79_layer4.1.BatchNorm2d_bn2              1.024k      512.0  \n",
      "80_layer4.1.ReLU_relu                         -          -  \n",
      "81_layer4.1.Conv2d_conv3              1.048576M  1.048576M  \n",
      "82_layer4.1.BatchNorm2d_bn3              4.096k     2.048k  \n",
      "83_layer4.1.ReLU_relu                         -          -  \n",
      "84_avgpool                                    -          -  \n",
      "85_fc                                    20.49k     20.48k  \n",
      "------------------------------------------------------------------------------------------------\n",
      "                          Totals\n",
      "Total params          13.966666M\n",
      "Trainable params      13.966666M\n",
      "Non-trainable params         0.0\n",
      "Mult-Adds             47.795264M\n",
      "================================================================================================\n"
=======
      "=============================================================================================\n",
      "                                      Kernel Shape       Output Shape  \\\n",
      "Layer                                                                   \n",
      "0_features.Conv2d_0                 [3, 128, 3, 3]  [64, 128, 32, 32]   \n",
      "1_features.BatchNorm2d_1                     [128]  [64, 128, 32, 32]   \n",
      "2_features.LeakyReLU_2                           -  [64, 128, 32, 32]   \n",
      "3_features.Conv2d_3               [128, 128, 3, 3]  [64, 128, 32, 32]   \n",
      "4_features.BatchNorm2d_4                     [128]  [64, 128, 32, 32]   \n",
      "5_features.LeakyReLU_5                           -  [64, 128, 32, 32]   \n",
      "6_features.Conv2d_6               [128, 128, 3, 3]  [64, 128, 32, 32]   \n",
      "7_features.BatchNorm2d_7                     [128]  [64, 128, 32, 32]   \n",
      "8_features.LeakyReLU_8                           -  [64, 128, 32, 32]   \n",
      "9_features.MaxPool2d_9                           -  [64, 128, 16, 16]   \n",
      "10_features.Dropout2d_10                         -  [64, 128, 16, 16]   \n",
      "11_features.Conv2d_11             [128, 256, 3, 3]  [64, 256, 16, 16]   \n",
      "12_features.BatchNorm2d_12                   [256]  [64, 256, 16, 16]   \n",
      "13_features.LeakyReLU_13                         -  [64, 256, 16, 16]   \n",
      "14_features.Conv2d_14             [256, 256, 3, 3]  [64, 256, 16, 16]   \n",
      "15_features.BatchNorm2d_15                   [256]  [64, 256, 16, 16]   \n",
      "16_features.LeakyReLU_16                         -  [64, 256, 16, 16]   \n",
      "17_features.Conv2d_17             [256, 256, 3, 3]  [64, 256, 16, 16]   \n",
      "18_features.BatchNorm2d_18                   [256]  [64, 256, 16, 16]   \n",
      "19_features.LeakyReLU_19                         -  [64, 256, 16, 16]   \n",
      "20_features.MaxPool2d_20                         -    [64, 256, 8, 8]   \n",
      "21_features.Dropout2d_21                         -    [64, 256, 8, 8]   \n",
      "22_features.Conv2d_22             [256, 512, 3, 3]    [64, 512, 6, 6]   \n",
      "23_features.BatchNorm2d_23                   [512]    [64, 512, 6, 6]   \n",
      "24_features.LeakyReLU_24                         -    [64, 512, 6, 6]   \n",
      "25_features.Conv2d_25             [512, 256, 1, 1]    [64, 256, 6, 6]   \n",
      "26_features.BatchNorm2d_26                   [256]    [64, 256, 6, 6]   \n",
      "27_features.LeakyReLU_27                         -    [64, 256, 6, 6]   \n",
      "28_features.Conv2d_28             [256, 128, 1, 1]    [64, 128, 6, 6]   \n",
      "29_features.BatchNorm2d_29                   [128]    [64, 128, 6, 6]   \n",
      "30_features.LeakyReLU_30                         -    [64, 128, 6, 6]   \n",
      "31_features.AdaptiveAvgPool2d_31                 -    [64, 128, 1, 1]   \n",
      "32_classifier.Flatten_0                          -          [64, 128]   \n",
      "33_classifier.BatchNorm1d_1                  [128]          [64, 128]   \n",
      "34_classifier.Linear_2                   [128, 10]           [64, 10]   \n",
      "\n",
      "                                    Params    Mult-Adds  \n",
      "Layer                                                    \n",
      "0_features.Conv2d_0                 3.584k    3.538944M  \n",
      "1_features.BatchNorm2d_1             256.0        128.0  \n",
      "2_features.LeakyReLU_2                   -            -  \n",
      "3_features.Conv2d_3               147.584k  150.994944M  \n",
      "4_features.BatchNorm2d_4             256.0        128.0  \n",
      "5_features.LeakyReLU_5                   -            -  \n",
      "6_features.Conv2d_6               147.584k  150.994944M  \n",
      "7_features.BatchNorm2d_7             256.0        128.0  \n",
      "8_features.LeakyReLU_8                   -            -  \n",
      "9_features.MaxPool2d_9                   -            -  \n",
      "10_features.Dropout2d_10                 -            -  \n",
      "11_features.Conv2d_11             295.168k   75.497472M  \n",
      "12_features.BatchNorm2d_12           512.0        256.0  \n",
      "13_features.LeakyReLU_13                 -            -  \n",
      "14_features.Conv2d_14              590.08k  150.994944M  \n",
      "15_features.BatchNorm2d_15           512.0        256.0  \n",
      "16_features.LeakyReLU_16                 -            -  \n",
      "17_features.Conv2d_17              590.08k  150.994944M  \n",
      "18_features.BatchNorm2d_18           512.0        256.0  \n",
      "19_features.LeakyReLU_19                 -            -  \n",
      "20_features.MaxPool2d_20                 -            -  \n",
      "21_features.Dropout2d_21                 -            -  \n",
      "22_features.Conv2d_22             1.18016M   42.467328M  \n",
      "23_features.BatchNorm2d_23          1.024k        512.0  \n",
      "24_features.LeakyReLU_24                 -            -  \n",
      "25_features.Conv2d_25             131.328k    4.718592M  \n",
      "26_features.BatchNorm2d_26           512.0        256.0  \n",
      "27_features.LeakyReLU_27                 -            -  \n",
      "28_features.Conv2d_28              32.896k    1.179648M  \n",
      "29_features.BatchNorm2d_29           256.0        128.0  \n",
      "30_features.LeakyReLU_30                 -            -  \n",
      "31_features.AdaptiveAvgPool2d_31         -            -  \n",
      "32_classifier.Flatten_0                  -            -  \n",
      "33_classifier.BatchNorm1d_1          256.0        128.0  \n",
      "34_classifier.Linear_2               1.29k        1.28k  \n",
      "---------------------------------------------------------------------------------------------\n",
      "                           Totals\n",
      "Total params            3.124106M\n",
      "Trainable params        3.124106M\n",
      "Non-trainable params          0.0\n",
      "Mult-Adds             731.385216M\n",
      "=============================================================================================\n"
>>>>>>> 21361b5822f49b94856405535b4c0b3bc175f0a6
     ]
    }
   ],
   "source": [
    "from torchsummaryX import summary\n",
    "input_tensor = torch.zeros((64, 3, 32, 32), dtype=torch.float)\n",
    "input_tensor = input_tensor.cuda()\n",
    "\n",
    "s = summary(model, input_tensor)\n"
   ]
  },
  {
   "cell_type": "markdown",
   "metadata": {},
   "source": [
    "## Prep training"
   ]
  },
  {
   "cell_type": "code",
   "execution_count": 10,
   "metadata": {},
   "outputs": [
    {
     "name": "stdout",
     "output_type": "stream",
     "text": [
      "28\n"
     ]
    }
   ],
   "source": [
    "nb_conv = 0\n",
    "\n",
    "for layer in s.index.values:\n",
    "    if \"Conv\" in layer:\n",
    "        nb_conv += 1\n",
    "print(nb_conv)"
   ]
  },
  {
   "cell_type": "code",
   "execution_count": 11,
   "metadata": {
    "scrolled": true
   },
   "outputs": [
    {
     "data": {
      "text/plain": [
       "Pmodel(\n",
       "  (features): Sequential(\n",
       "    (0): Conv2d(3, 128, kernel_size=(3, 3), stride=(1, 1), padding=(1, 1))\n",
       "    (1): BatchNorm2d(128, eps=1e-05, momentum=0.999, affine=True, track_running_stats=True)\n",
       "    (2): LeakyReLU(negative_slope=0.1)\n",
       "    (3): Conv2d(128, 128, kernel_size=(3, 3), stride=(1, 1), padding=(1, 1))\n",
       "    (4): BatchNorm2d(128, eps=1e-05, momentum=0.999, affine=True, track_running_stats=True)\n",
       "    (5): LeakyReLU(negative_slope=0.1)\n",
       "    (6): Conv2d(128, 128, kernel_size=(3, 3), stride=(1, 1), padding=(1, 1))\n",
       "    (7): BatchNorm2d(128, eps=1e-05, momentum=0.999, affine=True, track_running_stats=True)\n",
       "    (8): LeakyReLU(negative_slope=0.1)\n",
       "    (9): MaxPool2d(kernel_size=(2, 2), stride=(2, 2), padding=0, dilation=1, ceil_mode=False)\n",
       "    (10): Dropout2d(p=0.5, inplace=False)\n",
       "    (11): Conv2d(128, 256, kernel_size=(3, 3), stride=(1, 1), padding=(1, 1))\n",
       "    (12): BatchNorm2d(256, eps=1e-05, momentum=0.999, affine=True, track_running_stats=True)\n",
       "    (13): LeakyReLU(negative_slope=0.1)\n",
       "    (14): Conv2d(256, 256, kernel_size=(3, 3), stride=(1, 1), padding=(1, 1))\n",
       "    (15): BatchNorm2d(256, eps=1e-05, momentum=0.999, affine=True, track_running_stats=True)\n",
       "    (16): LeakyReLU(negative_slope=0.1)\n",
       "    (17): Conv2d(256, 256, kernel_size=(3, 3), stride=(1, 1), padding=(1, 1))\n",
       "    (18): BatchNorm2d(256, eps=1e-05, momentum=0.999, affine=True, track_running_stats=True)\n",
       "    (19): LeakyReLU(negative_slope=0.1)\n",
       "    (20): MaxPool2d(kernel_size=(2, 2), stride=(2, 2), padding=0, dilation=1, ceil_mode=False)\n",
       "    (21): Dropout2d(p=0.5, inplace=False)\n",
       "    (22): Conv2d(256, 512, kernel_size=(3, 3), stride=(1, 1))\n",
       "    (23): BatchNorm2d(512, eps=1e-05, momentum=0.999, affine=True, track_running_stats=True)\n",
       "    (24): LeakyReLU(negative_slope=0.1)\n",
       "    (25): Conv2d(512, 256, kernel_size=(1, 1), stride=(1, 1))\n",
       "    (26): BatchNorm2d(256, eps=1e-05, momentum=0.999, affine=True, track_running_stats=True)\n",
       "    (27): LeakyReLU(negative_slope=0.1)\n",
       "    (28): Conv2d(256, 128, kernel_size=(1, 1), stride=(1, 1))\n",
       "    (29): BatchNorm2d(128, eps=1e-05, momentum=0.999, affine=True, track_running_stats=True)\n",
       "    (30): LeakyReLU(negative_slope=0.1)\n",
       "    (31): AdaptiveAvgPool2d(output_size=(1, 1))\n",
       "  )\n",
       "  (classifier): Sequential(\n",
       "    (0): Flatten()\n",
       "    (1): BatchNorm1d(128, eps=1e-05, momentum=0.999, affine=True, track_running_stats=True)\n",
       "    (2): Linear(in_features=128, out_features=10, bias=True)\n",
       "  )\n",
       ")"
      ]
     },
     "execution_count": 13,
     "metadata": {},
     "output_type": "execute_result"
    }
   ],
   "source": [
    "# create model\n",
    "torch.cuda.empty_cache()\n",
    "\n",
    "model = model_func()\n",
    "model.cuda()"
   ]
  },
  {
   "cell_type": "markdown",
   "metadata": {
    "pycharm": {
     "name": "#%% md\n"
    }
   },
   "source": [
    "# training parameters"
   ]
  },
  {
   "cell_type": "code",
   "execution_count": 12,
   "metadata": {
    "collapsed": false,
    "jupyter": {
     "outputs_hidden": false
    },
    "pycharm": {
     "name": "#%%\n"
    },
    "tags": [
     "re_run"
    ]
   },
   "outputs": [
    {
     "name": "stdout",
     "output_type": "stream",
     "text": [
      "../tensorboard/cifar10/full_supervised/2020-08-24_14:27:38_wideresnet28_2_1.0S\n"
     ]
    }
   ],
   "source": [
    "# tensorboard\n",
    "tensorboard_title = \"%s_%s_%.1fS\" % (get_datetime(), model_func.__name__, args.supervised_ratio)\n",
    "checkpoint_title = \"%s_%.1fS\" % (model_func.__name__, args.supervised_ratio)\n",
    "tensorboard = SummaryWriter(log_dir=\"%s/%s\" % (args.tensorboard_path, tensorboard_title), comment=model_func.__name__)\n",
    "print(os.path.join(args.tensorboard_path, tensorboard_title))\n",
    "\n",
    "# losses\n",
    "loss_ce = nn.CrossEntropyLoss(reduction=\"mean\")\n",
    "\n",
    "# optimizer\n",
    "optimizer = torch.optim.Adam(model.parameters(), lr=args.learning_rate)\n",
    "\n",
    "# callbacks\n",
<<<<<<< HEAD
    "# https://arxiv.org/pdf/1610.02242.pdf page 11\n",
    "# TODO FIND  A WAY TO DIFFERENTIATE LR SCHEDULER FOR CIFAR10 AND UBS8K\n",
    "# def lr_lambda(e):\n",
    "#     if e < 80:\n",
    "#         phase = 1 - e / 80\n",
    "#         return numpy.exp(-5 * phase**2)\n",
    "    \n",
    "#     elif 80 <= e < args.nb_epoch - 50:\n",
    "#         return 1\n",
    "#     else:\n",
    "#         phase = (args.nb_epoch -e) / 50\n",
    "#         return numpy.exp(-5 * (1 - phase)**2)\n",
    "    \n",
    "lr_lambda = lambda epoch: (1.0 + numpy.cos((epoch-1)*numpy.pi/args.nb_epoch)) * 0.5\n",
    "lr_scheduler = LambdaLR(optimizer, lr_lambda)\n",
    "\n",
    "# Checkpoint\n",
    "checkpoint = CheckPoint(model, optimizer, mode=\"max\", name=\"%s/%s.torch\" % (args.checkpoint_path, checkpoint_title))\n",
    "\n",
    "# Metrics\n",
    "fscore_fn = FScore()\n",
    "acc_fn = CategoricalAccuracy()\n",
    "avg = ContinueAverage()\n",
    "\n",
    "reset_metrics = lambda : [m.reset() for m in [fscore_fn, acc_fn, avg]]\n",
    "\n",
    "def get_lr(optimizer):\n",
    "    for param_group in optimizer.param_groups:\n",
    "        return param_group['lr']"
   ]
  },
  {
   "cell_type": "code",
   "execution_count": 13,
   "metadata": {},
   "outputs": [],
   "source": [
    "# import numpy as np\n",
    "# import matplotlib.pyplot as plt\n",
    "\n",
    "# def lr_lambda(e):\n",
    "#     if e < 80:\n",
    "#         phase = 1 - e / 80\n",
    "#         return np.exp(-5 * phase**2)\n",
    "    \n",
    "#     elif 80 <= e < args.nb_epoch - 50:\n",
    "#         return 1\n",
    "#     else:\n",
    "#         phase = (args.nb_epoch -e) / 50\n",
    "#         return np.exp(-5 * (1 - phase)**2)\n",
    "\n",
    "# x = np.linspace(0, 300, 300)\n",
    "# y = [args.learning_rate * lr_lambda(x_) for x_ in x]\n",
    "\n",
    "# plt.plot(x, y)\n",
    "# plt.show()"
   ]
  },
  {
   "cell_type": "code",
   "execution_count": 14,
   "metadata": {
    "tags": [
     "re_run"
    ]
   },
   "outputs": [],
   "source": [
    "def maximum():\n",
    "    def func(key, value):\n",
    "        if key not in func.max:\n",
    "            func.max[key] = value\n",
    "        else:\n",
    "            if func.max[key] < value:\n",
    "                func.max[key] = value\n",
    "        return func.max[key]\n",
    "\n",
    "    func.max = dict()\n",
    "    return func\n",
    "maximum_fn = maximum()"
   ]
  },
  {
   "cell_type": "markdown",
   "metadata": {
    "pycharm": {
     "name": "#%% md\n"
    }
   },
   "source": [
    "## Can resume previous training"
   ]
  },
  {
   "cell_type": "code",
   "execution_count": 16,
   "metadata": {
    "pycharm": {
     "name": "#%%\n"
    }
   },
   "outputs": [],
   "source": [
    "if args.resume:\n",
    "    checkpoint.load_last()"
   ]
  },
  {
   "cell_type": "markdown",
   "metadata": {
    "pycharm": {
     "name": "#%% md\n"
    }
   },
   "source": [
    "## training function"
   ]
  },
  {
   "cell_type": "code",
   "execution_count": 17,
   "metadata": {
    "collapsed": false,
    "jupyter": {
     "outputs_hidden": false
    },
    "pycharm": {
     "name": "#%%\n"
    },
    "tags": [
     "re_run"
    ]
   },
   "outputs": [
    {
     "name": "stdout",
     "output_type": "stream",
     "text": [
      "         Epoch  - %      - Losses:  ce     - metrics:  acc         | F1       - Time  \n"
     ]
    }
   ],
   "source": [
    "UNDERLINE_SEQ = \"\\033[1;4m\"\n",
    "RESET_SEQ = \"\\033[0m\"\n",
    "\n",
    "\n",
    "header_form = \"{:<8.8} {:<6.6} - {:<6.6} - {:<8.8} {:<6.6} - {:<9.9} {:<12.12}| {:<9.9}- {:<6.6}\"\n",
    "value_form  = \"{:<8.8} {:<6} - {:<6} - {:<8.8} {:<6.4f} - {:<9.9} {:<10.4f}| {:<9.4f}- {:<6.4f}\"\n",
    "\n",
    "header = header_form.format(\n",
    "    \"\", \"Epoch\", \"%\", \"Losses:\", \"ce\", \"metrics: \", \"acc\", \"F1 \",\"Time\"\n",
    ")\n",
    "\n",
    "\n",
    "train_form = value_form\n",
    "val_form = UNDERLINE_SEQ + value_form + RESET_SEQ\n",
    "\n",
    "print(header)"
   ]
  },
  {
   "cell_type": "code",
   "execution_count": 18,
   "metadata": {
    "tags": [
     "re_run"
    ]
   },
   "outputs": [],
   "source": [
    "def train(epoch):\n",
    "    start_time = time.time()\n",
    "    print(\"\")\n",
    "\n",
    "    reset_metrics()\n",
    "    model.train()\n",
    "\n",
    "    for i, (X, y) in enumerate(train_loader):\n",
    "        optimizer.zero_grad()\n",
    "        \n",
    "        X = X.cuda()\n",
    "        y = y.cuda()\n",
    "\n",
    "        with autocast():\n",
    "            logits = model(X)        \n",
    "            loss = loss_ce(logits, y)\n",
    "\n",
    "        loss.backward()\n",
    "        optimizer.step()\n",
    "\n",
    "        with torch.set_grad_enabled(False):\n",
    "            pred = torch.softmax(logits, dim=1)\n",
    "            pred_arg = torch.argmax(logits, dim=1)\n",
    "            y_one_hot = F.one_hot(y, num_classes=10)\n",
    "\n",
    "            acc = acc_fn(pred_arg, y).mean\n",
    "            fscore = fscore_fn(pred, y_one_hot).mean\n",
    "            avg_ce = avg(loss.item()).mean\n",
    "\n",
    "            # logs\n",
    "            print(train_form.format(\n",
    "                \"Training: \",\n",
    "                epoch + 1,\n",
    "                int(100 * (i + 1) / len(train_loader)),\n",
    "                \"\", avg_ce,\n",
    "                \"\", acc, fscore,\n",
    "                time.time() - start_time\n",
    "            ), end=\"\\r\")\n",
    "\n",
    "    tensorboard.add_scalar(\"train/Lce\", avg_ce, epoch)\n",
    "    tensorboard.add_scalar(\"train/f1\", fscore, epoch)\n",
    "    tensorboard.add_scalar(\"train/acc\", acc, epoch)"
   ]
  },
  {
   "cell_type": "code",
   "execution_count": 19,
   "metadata": {
    "collapsed": false,
    "jupyter": {
     "outputs_hidden": false
    },
    "pycharm": {
     "name": "#%%\n"
    },
    "tags": [
     "re_run"
    ]
   },
   "outputs": [],
   "source": [
    "def val(epoch):\n",
    "    start_time = time.time()\n",
    "    print(\"\")\n",
    "    reset_metrics()\n",
    "    model.eval()\n",
    "\n",
    "    with torch.set_grad_enabled(False):\n",
    "        for i, (X, y) in enumerate(val_loader):\n",
    "            X = X.cuda()\n",
    "            y = y.cuda()\n",
    "\n",
    "            logits = model(X)\n",
    "            loss = loss_ce(logits, y)\n",
    "\n",
    "            # metrics\n",
    "            pred = torch.softmax(logits, dim=1)\n",
    "            pred_arg = torch.argmax(logits, dim=1)\n",
    "            y_one_hot = F.one_hot(y, num_classes=10)\n",
    "\n",
    "            acc = acc_fn(pred_arg, y).mean\n",
    "            fscore = fscore_fn(pred, y_one_hot).mean\n",
    "            avg_ce = avg(loss.item()).mean\n",
    "\n",
    "            # logs\n",
    "            print(val_form.format(\n",
    "                \"Validation: \",\n",
    "                epoch + 1,\n",
    "                int(100 * (i + 1) / len(val_loader)),\n",
    "                \"\", avg_ce,\n",
    "                \"\", acc, fscore,\n",
    "                time.time() - start_time\n",
    "            ), end=\"\\r\")\n",
    "\n",
    "    tensorboard.add_scalar(\"val/Lce\", avg_ce, epoch)\n",
    "    tensorboard.add_scalar(\"val/f1\", fscore, epoch)\n",
    "    tensorboard.add_scalar(\"val/acc\", acc, epoch)\n",
    "    \n",
    "    tensorboard.add_scalar(\"hyperparameters/learning_rate\", get_lr(optimizer), epoch)\n",
    "    \n",
    "    tensorboard.add_scalar(\"max/acc\", maximum_fn(\"acc\", acc), epoch )\n",
    "    tensorboard.add_scalar(\"max/f1\", maximum_fn(\"f1\", fscore), epoch )\n",
    "\n",
    "    checkpoint.step(acc)\n",
    "    lr_scheduler.step()"
   ]
  },
  {
   "cell_type": "code",
   "execution_count": 20,
   "metadata": {
    "collapsed": false,
    "jupyter": {
     "outputs_hidden": false
    },
    "pycharm": {
     "name": "#%%\n"
    },
    "tags": [
     "re_run"
    ]
   },
   "outputs": [
    {
     "name": "stdout",
     "output_type": "stream",
     "text": [
      "         Epoch  - %      - Losses:  ce     - metrics:  acc         | F1       - Time  \n",
      "\n",
     ]
    }
   ],
   "source": [
    "print(header)\n",
    "\n",
    "start_epoch = checkpoint.epoch_counter\n",
    "end_epoch = args.nb_epoch\n",
    "\n",
    "for e in range(start_epoch, args.nb_epoch):\n",
    "    train(e)\n",
    "    val(e)"
   ]
  },
  {
   "cell_type": "code",
   "execution_count": null,
   "metadata": {
    "tags": [
     "re_run"
    ]
   },
   "outputs": [],
   "source": [
    "tensorboard.flush()\n",
    "tensorboard.close()"
   ]
  },
  {
   "cell_type": "markdown",
   "metadata": {},
   "source": [
    "# ♫♪.ılılıll|̲̅̅●̲̅̅|̲̅̅=̲̅̅|̲̅̅●̲̅̅|llılılı.♫♪"
   ]
  },
  {
   "cell_type": "code",
   "execution_count": null,
   "metadata": {
    "pycharm": {
     "is_executing": false,
     "name": "#%%\n"
    }
   },
   "outputs": [],
   "source": []
  }
 ],
 "metadata": {
  "kernelspec": {
   "display_name": "dct",
   "language": "python",
   "name": "dct"
  },
  "language_info": {
   "codemirror_mode": {
    "name": "ipython",
    "version": 3
   },
   "file_extension": ".py",
   "mimetype": "text/x-python",
   "name": "python",
   "nbconvert_exporter": "python",
   "pygments_lexer": "ipython3",
   "version": "3.8.0"
  }
 },
 "nbformat": 4,
 "nbformat_minor": 4
}
