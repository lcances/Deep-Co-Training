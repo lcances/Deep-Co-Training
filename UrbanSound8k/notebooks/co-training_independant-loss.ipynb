{
 "cells": [
  {
   "cell_type": "markdown",
   "metadata": {},
   "source": [
    "# import"
   ]
  },
  {
   "cell_type": "code",
   "execution_count": 1,
   "metadata": {
    "collapsed": false,
    "jupyter": {
     "outputs_hidden": false
    },
    "pycharm": {
     "name": "#%%\n"
    }
   },
   "outputs": [],
   "source": [
    "%load_ext autoreload\n",
    "%autoreload 2"
   ]
  },
  {
   "cell_type": "code",
   "execution_count": 2,
   "metadata": {
    "collapsed": false,
    "jupyter": {
     "outputs_hidden": false
    },
    "pycharm": {
     "name": "#%%\n"
    }
   },
   "outputs": [],
   "source": [
    "import os\n",
    "os.environ[\"MKL_NUM_THREADS\"] = \"2\"\n",
    "os.environ[\"NUMEXPR_NU M_THREADS\"] = \"2\"\n",
    "os.environ[\"OMP_NUM_THREADS\"] = \"2\"\n",
    "import time\n",
    "\n",
    "import numpy as np\n",
    "import torch\n",
    "import torch.nn as nn\n",
    "import torch.utils.data as data\n",
    "import torch.nn.functional as F\n",
    "from torch.optim.lr_scheduler import LambdaLR\n",
    "from torch.utils.tensorboard import SummaryWriter\n",
    "from advertorch.attacks import GradientSignAttack"
   ]
  },
  {
   "cell_type": "code",
   "execution_count": 3,
   "metadata": {
    "collapsed": false,
    "jupyter": {
     "outputs_hidden": false
    },
    "pycharm": {
     "name": "#%%\n"
    }
   },
   "outputs": [],
   "source": [
    "from ubs8k.datasetManager import DatasetManager\n",
    "from ubs8k.datasets import Dataset\n",
    "\n",
    "import sys\n",
    "sys.path.append(\"../..\")\n",
    "\n",
    "from util.utils import reset_seed, get_datetime, get_model_from_name, ZipCycle\n",
    "from metric_utils.metrics import CategoricalAccuracy, FScore, ContinueAverage, Ratio\n",
    "from util.checkpoint import CheckPoint\n",
    "\n",
    "from UrbanSound8k.ramps import Warmup, sigmoid_rampup, sigmoid_rampdown\n",
    "from UrbanSound8k.losses import loss_cot, loss_diff, loss_sup"
   ]
  },
  {
   "cell_type": "markdown",
   "metadata": {},
   "source": [
    "# Arguments"
   ]
  },
  {
   "cell_type": "code",
   "execution_count": 5,
   "metadata": {
    "collapsed": false,
    "jupyter": {
     "outputs_hidden": false
    },
    "pycharm": {
     "name": "#%%\n"
    },
    "tags": [
     "new_run"
    ]
   },
   "outputs": [],
   "source": [
    "import argparse\n",
    "parser = argparse.ArgumentParser()\n",
    "parser.add_argument(\"-d\", \"--dataset_root\", default=\"../../datasets/ubs8k\", type=str)\n",
    "parser.add_argument(\"--supervised_ratio\", default=0.1, type=float)\n",
    "parser.add_argument(\"--supervised_mult\", default=1.0, type=float)\n",
    "parser.add_argument(\"-t\", \"--train_folds\", nargs=\"+\", default=[1, 2, 3, 4, 5, 6, 7, 8, 9], type=int)\n",
    "parser.add_argument(\"-v\", \"--val_folds\", nargs=\"+\", default=[10], type=int)\n",
    "\n",
    "parser.add_argument(\"--model\", default=\"cnn03\", type=str)\n",
    "parser.add_argument(\"--batch_size\", default=100, type=int)\n",
    "parser.add_argument(\"--nb_epoch\", default=5000, type=int)\n",
    "parser.add_argument(\"--learning_rate\", default=0.0005, type=int)\n",
    "\n",
    "parser.add_argument(\"--lambda_cot_max\", default=10, type=float)\n",
    "parser.add_argument(\"--lambda_diff_max\", default=0.5, type=float)\n",
    "parser.add_argument(\"--warmup_length\", default=1500, type=int) # kept for retrocompatibility, equal nb epoch \n",
    "parser.add_argument(\"--epsilon\", default=0.02, type=float)\n",
    "\n",
    "parser.add_argument(\"--loss_scheduler\", default=\"weighted-linear\", type=str)\n",
    "parser.add_argument(\"--loss_scheduler_steps\", default=10, type=int)\n",
    "parser.add_argument(\"--loss_scheduler_cycle\", default=1, type=int)\n",
    "parser.add_argument(\"--loss_scheduler_beta\", default=1, type=int)\n",
    "\n",
    "parser.add_argument(\"--augment\", action=\"append\", help=\"augmentation. use as if python script\")\n",
    "parser.add_argument(\"--augment_S\", action=\"store_true\", help=\"Apply augmentation on Supervised part\")\n",
    "parser.add_argument(\"--augment_U\", action=\"store_true\", help=\"Apply augmentation on Unsupervised part\")\n",
    "\n",
    "parser.add_argument(\"--checkpoint_path\", default=\"../../model_save/ubs8k/deep-co-training_independant-loss\", type=str)\n",
    "parser.add_argument(\"--resume\", action=\"store_true\", default=False)\n",
    "parser.add_argument(\"--tensorboard_path\", default=\"../../tensorboard/ubs8k/deep-co-training_independant-loss\", type=str)\n",
    "parser.add_argument(\"--tensorboard_sufix\", default=\"\", type=str)\n",
    "\n",
    "args = parser.parse_args(\"\")\n",
    "\n",
    "args.warmup_length = args.nb_epoch"
   ]
  },
  {
   "cell_type": "markdown",
   "metadata": {},
   "source": [
    "## Prepare the dataset"
   ]
  },
  {
   "cell_type": "code",
   "execution_count": 6,
   "metadata": {
    "pycharm": {
     "name": "#%%\n"
    }
   },
   "outputs": [
    {
     "data": {
      "application/vnd.jupyter.widget-view+json": {
       "model_id": "a5ea0390657c485d9b9f77bdaa3fd872",
       "version_major": 2,
       "version_minor": 0
      },
      "text/plain": [
       "HBox(children=(FloatProgress(value=0.0, max=10.0), HTML(value='')))"
      ]
     },
     "metadata": {},
     "output_type": "display_data"
    },
    {
     "name": "stdout",
     "output_type": "stream",
     "text": [
      "\n"
     ]
    }
   ],
   "source": [
    "audio_root = os.path.join(args.dataset_root, \"audio\")\n",
    "metadata_root = os.path.join(args.dataset_root, \"metadata\")\n",
    "all_folds = args.train_folds + args.val_folds\n",
    "\n",
    "manager = DatasetManager(\n",
    "    metadata_root, audio_root,\n",
    "    folds=all_folds,\n",
    "    verbose=2\n",
    ")"
   ]
  },
  {
   "cell_type": "code",
   "execution_count": 7,
   "metadata": {
    "tags": [
     "new_run"
    ]
   },
   "outputs": [],
   "source": [
    "reset_seed(1234)"
   ]
  },
  {
   "cell_type": "code",
   "execution_count": 8,
   "metadata": {},
   "outputs": [],
   "source": [
    "# prepare the sampler with the specified number of supervised file\n",
    "train_dataset = Dataset(manager, folds=args.train_folds, cached=True)\n",
    "val_dataset = Dataset(manager, folds=args.val_folds, cached=True)"
   ]
  },
  {
   "cell_type": "markdown",
   "metadata": {
    "pycharm": {
     "name": "#%% md\n"
    },
    "tags": [
     "new_run"
    ]
   },
   "source": [
    "## Models"
   ]
  },
  {
   "cell_type": "code",
   "execution_count": 9,
   "metadata": {
    "pycharm": {
     "name": "#%%\n"
    },
    "tags": [
     "new_run"
    ]
   },
   "outputs": [],
   "source": [
    "torch.cuda.empty_cache()\n",
    "model_func = get_model_from_name(args.model)\n",
    "\n",
    "m1, m2 = model_func(manager=manager), model_func(manager=manager)\n",
    "\n",
    "m1 = m1.cuda()\n",
    "m2 = m2.cuda()"
   ]
  },
  {
   "cell_type": "markdown",
   "metadata": {
    "pycharm": {
     "name": "#%% md\n"
    }
   },
   "source": [
    "## Adversarial generator"
   ]
  },
  {
   "cell_type": "code",
   "execution_count": 10,
   "metadata": {
    "pycharm": {
     "is_executing": false,
     "name": "#%%\n"
    },
    "tags": [
     "new_run"
    ]
   },
   "outputs": [],
   "source": [
    "# adversarial generation\n",
    "adv_generator_1 = GradientSignAttack(\n",
    "    m1, loss_fn=nn.CrossEntropyLoss(reduction=\"sum\"),\n",
    "    eps=args.epsilon, clip_min=-80, clip_max=0, targeted=True\n",
    ")\n",
    "\n",
    "adv_generator_2 = GradientSignAttack(\n",
    "    m2, loss_fn=nn.CrossEntropyLoss(reduction=\"sum\"),\n",
    "    eps=args.epsilon, clip_min=-80, clip_max=0, targeted=True\n",
    ")"
   ]
  },
  {
   "cell_type": "markdown",
   "metadata": {},
   "source": [
    "## Rules makers"
   ]
  },
  {
   "cell_type": "code",
   "execution_count": 38,
   "metadata": {
    "tags": [
     "new_run",
     "imgs"
    ]
   },
   "outputs": [],
   "source": [
    "rules = {\n",
    "    0: {\"lsup\": 1.0, \"lcot\": 0.0, \"ldiff\": 0.0},\n",
    "    40: {\"lsup\": 0.6, \"lcot\": 0.3, \"ldiff\": 0.1},\n",
    "    80: {\"lsup\": 0.35, \"lcot\": 0.5, \"ldiff\": 0.15},\n",
    "}\n",
    "\n",
    "def uniform_rule(step: int = 0, **kwargs):\n",
    "    sup_steps = [0.34 for _ in range(step)]\n",
    "    cot_steps = [0.33 for _ in range(step)]\n",
    "    diff_steps = [0.33 for _ in range(step)]\n",
    "    \n",
    "    return sup_steps, cot_steps, diff_steps\n",
    "\n",
    "def weighted_uniform_rule(step: int = 10, **kwargs):\n",
    "    lcm = args.lambda_cot_max\n",
    "    ldm = args.lambda_diff_max\n",
    "    lsm = 1\n",
    "    \n",
    "    sup_steps = [lsm * 0.34 for _ in range(step)]\n",
    "    cot_steps = [lcm * 0.33 for _ in range(step)]\n",
    "    diff_steps = [ldm * 0.33 for _ in range(step)]\n",
    "    \n",
    "    # normalize\n",
    "    for i in range(step):\n",
    "        summed = sup_steps[i] + cot_steps[i] + diff_steps[i]\n",
    "        sup_steps[i] /= summed\n",
    "        cot_steps[i] /= summed\n",
    "        diff_steps[i] /= summed\n",
    "        \n",
    "    return sup_steps, cot_steps, diff_steps\n",
    "\n",
    "def weighted_linear_rule(step: int = 10, plsup_mini = 0.2, **kwargs):\n",
    "    lcm = args.lambda_cot_max\n",
    "    ldm = args.lambda_diff_max\n",
    "    lsm = 1\n",
    "    \n",
    "    s_start, s_end = 1, lsm * (plsup_mini)\n",
    "    c_start, c_end = 0, lcm * (0.5 - (plsup_mini / 2))\n",
    "    d_start, d_end = 0, ldm * (0.5 - (plsup_mini / 2))\n",
    "    \n",
    "    # normalize\n",
    "    total = s_end + c_end + d_end\n",
    "    s_end /= total\n",
    "    c_end /= total\n",
    "    d_end /= total\n",
    "    \n",
    "    sup_steps = np.linspace(s_start, s_end, step)\n",
    "    cot_steps = np.linspace(d_start, c_end, step)\n",
    "    diff_steps = np.linspace(d_start, d_end, step)\n",
    "    \n",
    "    return sup_steps, cot_steps, diff_steps\n",
    "\n",
    "def linear_rule(step: int = 10, plsup_mini: float = 0.0, **kwargs):\n",
    "    hop_length = np.linspace(0, args.nb_epoch, step)\n",
    "    \n",
    "    s_start, s_end = 1, plsup_mini\n",
    "    c_start, c_end = 0, 0.5 - (plsup_mini / 2)\n",
    "    d_start, d_end = 0, 0.5 - (plsup_mini / 2)\n",
    "    \n",
    "    sup_steps = np.linspace(s_start, s_end, step)\n",
    "    cot_steps = np.linspace(d_start, c_end, step)\n",
    "    diff_steps = np.linspace(d_start, d_end, step)\n",
    "\n",
    "     # normalize\n",
    "    for i in range(step):\n",
    "        summed = sup_steps[i] + cot_steps[i] + diff_steps[i]\n",
    "        if summed != 1:\n",
    "            sup_steps[i] /= summed\n",
    "            cot_steps[i] /= summed\n",
    "            diff_steps[i] /= summed\n",
    "    \n",
    "    return sup_steps, cot_steps, diff_steps\n",
    "\n",
    "def cosine_rule(step: int = 10, cycle: int = 1, **kwargs):\n",
    "    hop_length = np.linspace(0, args.nb_epoch, step * cycle)\n",
    "    \n",
    "    sup_steps = 0.5 * (np.cos(np.pi * hop_length / (args.nb_epoch / cycle)) + 1)\n",
    "    cot_steps = 1 - (0.5 * (np.cos(np.pi * hop_length / (args.nb_epoch / cycle)) + 1))\n",
    "    diff_steps =  1 - (0.5 * (np.cos(np.pi * hop_length / (args.nb_epoch / cycle)) + 1))\n",
    "    \n",
    "    # normalize\n",
    "    for i in range(step * cycle):\n",
    "        summed = sup_steps[i] + cot_steps[i] + diff_steps[i]\n",
    "        sup_steps[i] /= summed\n",
    "        cot_steps[i] /= summed\n",
    "        diff_steps[i] /= summed\n",
    "        \n",
    "    return sup_steps, cot_steps, diff_steps\n",
    "\n",
    "def weighted_cosine_rule(step: int = 10, cycle: int = 1, **kwargs):\n",
    "    lcm = args.lambda_cot_max\n",
    "    ldm = args.lambda_diff_max\n",
    "    lsm = 1\n",
    "    \n",
    "    hop_length = np.linspace(0, args.nb_epoch, step * cycle)\n",
    "    \n",
    "    sup_steps = 0.5 * (np.cos(np.pi * hop_length / (args.nb_epoch / cycle)) + 1)\n",
    "    cot_steps = 1 - (0.5 * (np.cos(np.pi * hop_length / (args.nb_epoch / cycle)) + 1))\n",
    "    diff_steps =  1 - (0.5 * (np.cos(np.pi * hop_length / (args.nb_epoch / cycle)) + 1))\n",
    "    \n",
    "    sup_steps *= lsm\n",
    "    cot_steps *= lcm\n",
    "    diff_steps *= ldm\n",
    "    \n",
    "    # normalize\n",
    "    for i in range(step * cycle):\n",
    "        summed = sup_steps[i] + cot_steps[i] + diff_steps[i]\n",
    "        sup_steps[i] /= summed\n",
    "        cot_steps[i] /= summed\n",
    "        diff_steps[i] /= summed\n",
    "        \n",
    "    return sup_steps, cot_steps, diff_steps\n",
    "\n",
    "def annealing_cosine_rule(step: int = 10, cycle: int = 1, beta: float = 2, **kwargs):\n",
    "    hop_length = np.linspace(0, args.nb_epoch, step * cycle)\n",
    "    \n",
    "    # create original steps\n",
    "    decaying =  np.exp(-beta * np.linspace(0, 1, len(hop_length)))\n",
    "    \n",
    "    sup_steps = 0.5 * (decaying * np.cos(np.pi * hop_length / (args.nb_epoch / cycle)) + 1)\n",
    "    cot_steps = 1 - (0.5 * (decaying * np.cos(np.pi * hop_length / (args.nb_epoch / cycle)) + 1))\n",
    "    diff_steps =  1 - (0.5 * (decaying * np.cos(np.pi * hop_length / (args.nb_epoch / cycle)) + 1))\n",
    "    \n",
    "    # normalize\n",
    "    for i in range(step * cycle):\n",
    "        summed = sup_steps[i] + cot_steps[i] + diff_steps[i]\n",
    "        sup_steps[i] /= summed\n",
    "        cot_steps[i] /= summed\n",
    "        diff_steps[i] /= summed\n",
    "        \n",
    "    return sup_steps, cot_steps, diff_steps\n",
    "\n",
    "def weighted_annealing_cosine_rule(step: int = 10, cycle: int = 1, beta: float = 2, **kwargs):\n",
    "    lcm = args.lambda_cot_max\n",
    "    ldm = args.lambda_diff_max\n",
    "    lsm = 1\n",
    "    \n",
    "    hop_length = np.linspace(0, args.nb_epoch, step * cycle)\n",
    "    \n",
    "    # create original steps\n",
    "    decaying =  np.exp(-beta * np.linspace(0, 1, len(hop_length)))\n",
    "    \n",
    "    sup_steps = 0.5 * (decaying * np.cos(np.pi * hop_length / (args.nb_epoch / cycle)) + 1)\n",
    "    cot_steps = 1 - (0.5 * (decaying * np.cos(np.pi * hop_length / (args.nb_epoch / cycle)) + 1))\n",
    "    diff_steps =  1 - (0.5 * (decaying * np.cos(np.pi * hop_length / (args.nb_epoch / cycle)) + 1))\n",
    "    \n",
    "    sup_steps *= lsm\n",
    "    cot_steps *= lcm\n",
    "    diff_steps *= ldm\n",
    "    \n",
    "    # normalize\n",
    "    for i in range(step * cycle):\n",
    "        summed = sup_steps[i] + cot_steps[i] + diff_steps[i]\n",
    "        sup_steps[i] /= summed\n",
    "        cot_steps[i] /= summed\n",
    "        diff_steps[i] /= summed\n",
    "        \n",
    "    return sup_steps, cot_steps, diff_steps\n",
    "\n",
    "def sigmoid_rule(step: int = 10, **kwargs):\n",
    "    hop_length = np.linspace(0, args.nb_epoch, step)\n",
    "    \n",
    "    sup_steps = np.asarray([sigmoid_rampdown(x, args.nb_epoch) for x in hop_length])\n",
    "    cot_steps = np.asarray([sigmoid_rampup(x, args.nb_epoch) for x in hop_length])\n",
    "    diff_steps = np.asarray([sigmoid_rampup(x, args.nb_epoch) for x in hop_length])\n",
    "    \n",
    "    # normalize\n",
    "    for i in range(step):\n",
    "        summed = sup_steps[i] + cot_steps[i] + diff_steps[i]\n",
    "        sup_steps[i] /= summed\n",
    "        cot_steps[i] /= summed\n",
    "        diff_steps[i] /= summed\n",
    "        \n",
    "    return sup_steps, cot_steps, diff_steps\n",
    "\n",
    "def weighted_sigmoid_rule(step: int = 10, **kwargs):\n",
    "    lcm = args.lambda_cot_max\n",
    "    ldm = args.lambda_diff_max\n",
    "    lsm = 1\n",
    "\n",
    "    hop_length = np.linspace(0, args.nb_epoch, step)\n",
    "    \n",
    "    sup_steps = np.asarray([lsm * sigmoid_rampdown(x, args.nb_epoch) for x in hop_length])\n",
    "    cot_steps = np.asarray([lcm * sigmoid_rampup(x, args.nb_epoch) for x in hop_length])\n",
    "    diff_steps = np.asarray([ldm * sigmoid_rampup(x, args.nb_epoch) for x in hop_length])\n",
    "    \n",
    "    # normalize\n",
    "    for i in range(step):\n",
    "        summed = sup_steps[i] + cot_steps[i] + diff_steps[i]\n",
    "        sup_steps[i] /= summed\n",
    "        cot_steps[i] /= summed\n",
    "        diff_steps[i] /= summed\n",
    "        \n",
    "    return sup_steps, cot_steps, diff_steps\n",
    "\n",
    "def loss_chooser(epoch):\n",
    "    for k in reversed(rules.keys()):\n",
    "        if epoch >= k:\n",
    "            chance = list(rules[k].values())\n",
    "            break\n",
    "    \n",
    "    loss_function = [\"sup\", \"cot\", \"diff\"]\n",
    "    return np.random.choice(loss_function, p=chance)\n",
    "\n",
    "def rule_maker(rule_fn, steps: int = 10, **kwargs):\n",
    "    p_lsup, p_lcot, p_ldiff = rule_fn(steps, **kwargs)\n",
    "    \n",
    "    hop_length = np.linspace(0, args.nb_epoch, steps)\n",
    "    \n",
    "    rules = dict()\n",
    "    for i, epoch in enumerate(hop_length):\n",
    "        rules[epoch] = {\"lsup\": p_lsup[i], \"lcot\": p_lcot[i], \"ldiff\": p_ldiff[i]}\n",
    "        \n",
    "    return rules\n",
    "\n",
    "def rule_chooser(rule_str):\n",
    "    mapper = {\n",
    "        \"uniform\": uniform_rule,\n",
    "        \"weighted-uniform\": weighted_uniform_rule,\n",
    "        \"linear\": linear_rule,\n",
    "        \"weighted-linear\": weighted_linear_rule,\n",
    "        \"sigmoid\": sigmoid_rule,\n",
    "        \"weighted-sigmoid\": weighted_sigmoid_rule,\n",
    "        \"cosine\": cosine_rule,\n",
    "        \"weighted-cosine\": weighted_cosine_rule,\n",
    "        \"annealing-cosine\": annealing_cosine_rule,\n",
    "        \"weighted-annealing-cosine\": weighted_annealing_cosine_rule,\n",
    "    }\n",
    "    \n",
    "    if rule_str not in mapper:\n",
    "        raise ValueError(\"Loss scheduler must be from [%s]\" % (\", \".join(mapper.keys())))\n",
    "        \n",
    "    return mapper[rule_str]"
   ]
  },
  {
   "cell_type": "code",
   "execution_count": 41,
   "metadata": {
    "tags": [
     "new_run"
    ]
   },
   "outputs": [],
   "source": [
    "steps = args.loss_scheduler_steps\n",
    "cycle=4\n",
    "beta=2\n",
    "rule_fn = rule_chooser(\"weighted-linear\")#\"args.loss_scheduler)\n",
    "rules = rule_maker(rule_fn, steps, plsup_mini = 0.5, cycle=cycle, beta=beta)"
   ]
  },
  {
   "cell_type": "code",
   "execution_count": 42,
   "metadata": {},
   "outputs": [
    {
     "data": {
      "image/png": "[encoded data removed]",
      "text/plain": [
       "<Figure size 720x720 with 1 Axes>"
      ]
     },
     "metadata": {
      "needs_background": "light"
     },
     "output_type": "display_data"
    }
   ],
   "source": [
    "import matplotlib.pyplot as plt\n",
    "lsup = np.asarray([rules[k][\"lsup\"] for k in rules])\n",
    "lcot = np.asarray([rules[k][\"lcot\"] for k in rules])\n",
    "ldiff = np.asarray([rules[k][\"ldiff\"] for k in rules])\n",
    "steps = [k for k in rules]\n",
    "xticks = [\"%d\" % s for s in steps]\n",
    "\n",
    "\n",
    "plt.figure(0, figsize=(10, 10))\n",
    "plt.title(\"linear rule\", fontsize=18)\n",
    "plt.xlabel(\"epochs\", fontsize=14)\n",
    "plt.ylabel(\"Probabilities\", fontsize=14)\n",
    "plt.ylim(0, 1)\n",
    "\n",
    "# plt.bar(range(len(steps)), lsup, bottom=0, label=\"P lsup\")\n",
    "# plt.bar(range(len(steps)), lcot, bottom=lsup, label=\"P lcot\")\n",
    "# plt.bar(range(len(steps)), ldiff, bottom=lsup+lcot, label=\"P ldiff\")\n",
    "# plt.xticks(range(len(steps)), xticks)\n",
    "\n",
    "plt.plot(steps, lsup, marker=\"o\", label=\"P Lsup\")\n",
    "plt.plot(steps, lcot, marker=\"+\", label=\"P Lcot\", alpha=0.5)\n",
    "plt.plot(steps, ldiff, marker=\".\", label=\"P Ldiff\")\n",
    "\n",
    "plt.legend()\n",
    "plt.show()"
   ]
  },
  {
   "cell_type": "markdown",
   "metadata": {
    "pycharm": {
     "name": "#%% md\n"
    },
    "tags": [
     "new_run"
    ]
   },
   "source": [
    "## Loaders"
   ]
  },
  {
   "cell_type": "code",
   "execution_count": 1080,
   "metadata": {
    "collapsed": false,
    "jupyter": {
     "outputs_hidden": false
    },
    "pycharm": {
     "name": "#%%\n"
    },
    "tags": [
     "new_run"
    ]
   },
   "outputs": [],
   "source": [
    "s_idx, u_idx = train_dataset.split_s_u(args.supervised_ratio)\n",
    "\n",
    "# Calc the size of the Supervised and Unsupervised batch\n",
    "nb_s_file = len(s_idx)\n",
    "nb_u_file = len(u_idx)\n",
    "\n",
    "ratio = nb_s_file / nb_u_file\n",
    "s_batch_size = int(np.floor(args.batch_size * ratio))\n",
    "u_batch_size = int(np.ceil(args.batch_size * (1 - ratio)))\n",
    "\n",
    "# create the sampler, the loader and \"zip\" them\n",
    "sampler_s1 = data.SubsetRandomSampler(s_idx)\n",
    "sampler_s2 = data.SubsetRandomSampler(s_idx)\n",
    "sampler_u = data.SubsetRandomSampler(u_idx)\n",
    "\n",
    "train_loader_s1 = data.DataLoader(train_dataset, batch_size=s_batch_size, sampler=sampler_s1)\n",
    "train_loader_s2 = data.DataLoader(train_dataset, batch_size=s_batch_size, sampler=sampler_s2)\n",
    "train_loader_u = data.DataLoader(train_dataset, batch_size=u_batch_size, sampler=sampler_u)\n",
    "\n",
    "train_loader = ZipCycle([train_loader_s1, train_loader_s2, train_loader_u])\n",
    "val_loader = data.DataLoader(val_dataset, batch_size=args.batch_size, shuffle=True)\n"
   ]
  },
  {
   "cell_type": "markdown",
   "metadata": {
    "pycharm": {
     "name": "#%% md\n"
    }
   },
   "source": [
    "## training parameters"
   ]
  },
  {
   "cell_type": "code",
   "execution_count": 1081,
   "metadata": {
    "pycharm": {
     "name": "#%%\n"
    },
    "tags": [
     "new_run"
    ]
   },
   "outputs": [],
   "source": [
    "# tensorboard\n",
    "tensorboard_title = \"%s_%s_%.1f_%se_%slr_%sw_%s-rfn_%ss\" % (get_datetime(), model_func.__name__, args.supervised_ratio, args.nb_epoch, args.learning_rate, args.warmup_length, rule_fn.__name__, steps)\n",
    "checkpoint_title =  \"%s_%.1f_%se_%slr_%sw_%s-rfn_%ss\" % (model_func.__name__, args.supervised_ratio, args.nb_epoch, args.learning_rate, args.warmup_length, rule_fn.__name__, steps)\n",
    "tensorboard = SummaryWriter(log_dir=\"%s/%s\" % (args.tensorboard_path, tensorboard_title), comment=model_func.__name__)\n",
    "\n",
    "# Losses\n",
    "# see losses.py\n",
    "\n",
    "# Optimizer\n",
    "params = list(m1.parameters()) + list(m2.parameters())\n",
    "optimizer = torch.optim.Adam(params, lr=args.learning_rate)\n",
    "\n",
    "# define the warmups\n",
    "lambda_cot = Warmup(args.lambda_cot_max, args.warmup_length, sigmoid_rampup)\n",
    "lambda_diff = Warmup(args.lambda_diff_max, args.warmup_length, sigmoid_rampup)\n",
    "\n",
    "# callback\n",
    "lr_lambda = lambda epoch: (1.0 + np.cos((epoch-1) * np.pi / args.nb_epoch))\n",
    "lr_scheduler = LambdaLR(optimizer, lr_lambda)\n",
    "callbacks = [lr_scheduler, lambda_cot, lambda_diff]\n",
    "\n",
    "# checkpoints\n",
    "checkpoint_m1 = CheckPoint(m1, optimizer, mode=\"max\", name=\"%s/%s_m1.torch\" % (args.checkpoint_path, checkpoint_title))\n",
    "\n",
    "# metrics\n",
    "metrics_fn = dict(\n",
    "    ratio_s=[Ratio(), Ratio()],\n",
    "    ratio_u=[Ratio(), Ratio()],\n",
    "    acc_s=[CategoricalAccuracy(), CategoricalAccuracy()],\n",
    "    acc_u=[CategoricalAccuracy(), CategoricalAccuracy()],\n",
    "    f1_s=[FScore(), FScore()],\n",
    "    f1_u=[FScore(), FScore()],\n",
    "    \n",
    "    avg_total=ContinueAverage(),\n",
    "    avg_sup=ContinueAverage(),\n",
    "    avg_cot=ContinueAverage(),\n",
    "    avg_diff=ContinueAverage(),\n",
    ")\n",
    "\n",
    "def reset_metrics():\n",
    "    for item in metrics_fn.values():\n",
    "        if isinstance(item, list):\n",
    "            for f in item:\n",
    "                f.reset()\n",
    "        else:\n",
    "            item.reset()"
   ]
  },
  {
   "cell_type": "code",
   "execution_count": 1082,
   "metadata": {
    "pycharm": {
     "name": "#%%\n"
    },
    "tags": [
     "new_run"
    ]
   },
   "outputs": [],
   "source": [
    "reset_metrics()"
   ]
  },
  {
   "cell_type": "markdown",
   "metadata": {
    "pycharm": {
     "name": "#%% md\n"
    }
   },
   "source": [
    "## Can resume previous training"
   ]
  },
  {
   "cell_type": "code",
   "execution_count": 1083,
   "metadata": {
    "tags": [
     "new_run"
    ]
   },
   "outputs": [
    {
     "data": {
      "text/plain": [
       "False"
      ]
     },
     "execution_count": 1083,
     "metadata": {},
     "output_type": "execute_result"
    }
   ],
   "source": [
    "args.resume"
   ]
  },
  {
   "cell_type": "code",
   "execution_count": 1084,
   "metadata": {
    "pycharm": {
     "name": "#%%\n"
    },
    "tags": [
     "new_run"
    ]
   },
   "outputs": [],
   "source": [
    "if args.resume:\n",
    "    checkpoint_m1.load_last()"
   ]
  },
  {
   "cell_type": "markdown",
   "metadata": {
    "pycharm": {
     "name": "#%% md\n"
    }
   },
   "source": [
    "## Metrics and hyperparameters"
   ]
  },
  {
   "cell_type": "code",
   "execution_count": 1085,
   "metadata": {
    "pycharm": {
     "name": "#%%\n"
    },
    "tags": [
     "new_run"
    ]
   },
   "outputs": [],
   "source": [
    "def get_lr(optimizer):\n",
    "    for param_group in optimizer.param_groups:\n",
    "        return param_group['lr']\n",
    "    \n",
    "def maximum():\n",
    "    def func(key, value):\n",
    "        if key not in func.max:\n",
    "            func.max[key] = value\n",
    "        else:\n",
    "            if func.max[key] < value:\n",
    "                func.max[key] = value\n",
    "        return func.max[key]\n",
    "\n",
    "    func.max = dict()\n",
    "    return func\n",
    "maximum_fn = maximum()"
   ]
  },
  {
   "cell_type": "markdown",
   "metadata": {
    "pycharm": {
     "name": "#%% md\n"
    }
   },
   "source": [
    "# Training functions"
   ]
  },
  {
   "cell_type": "code",
   "execution_count": 1086,
   "metadata": {
    "tags": [
     "new_run"
    ]
   },
   "outputs": [
    {
     "name": "stdout",
     "output_type": "stream",
     "text": [
      "         Epoch  - %      - Losses:  Lsup   | Lcot   | Ldiff  | total  - metrics:  acc_s1    | acc_u1   - Time  \n"
     ]
    }
   ],
   "source": [
    "UNDERLINE_SEQ = \"\\033[1;4m\"\n",
    "\n",
    "RESET_SEQ = \"\\033[0m\"\n",
    "\n",
    "\n",
    "header_form = \"{:<8.8} {:<6.6} - {:<6.6} - {:<8.8} {:<6.6} | {:<6.6} | {:<6.6} | {:<6.6} - {:<9.9} {:<9.9} | {:<9.9}- {:<6.6}\"\n",
    "value_form  = \"{:<8.8} {:<6} - {:<6} - {:<8.8} {:<6.4f} | {:<6.4f} | {:<6.4f} | {:<6.4f} - {:<9.9} {:<9.4f} | {:<9.4f}- {:<6.4f}\"\n",
    "\n",
    "header = header_form.format(\n",
    "    \"\", \"Epoch\", \"%\", \"Losses:\", \"Lsup\", \"Lcot\", \"Ldiff\", \"total\", \"metrics: \", \"acc_s1\", \"acc_u1\",\"Time\"\n",
    ")\n",
    "\n",
    "train_form = value_form\n",
    "val_form = UNDERLINE_SEQ + value_form + RESET_SEQ\n",
    "\n",
    "def mprint(epoch, msg, end):\n",
    "    if epoch % 10 == 0:\n",
    "        print(msg, end=end)\n",
    "        \n",
    "print(header)"
   ]
  },
  {
   "cell_type": "markdown",
   "metadata": {},
   "source": [
    "## Train sup"
   ]
  },
  {
   "cell_type": "code",
   "execution_count": 1087,
   "metadata": {
    "tags": [
     "new_run"
    ]
   },
   "outputs": [],
   "source": [
    "def train_sup_helper(start_time, epoch, batch, x_s1, x_s2, y_s1, y_s2):\n",
    "    x_s1, x_s2, = x_s1.cuda(), x_s2.cuda()\n",
    "    y_s1, y_s2, = y_s1.cuda(), y_s2.cuda()\n",
    "\n",
    "    logits_s1 = m1(x_s1)\n",
    "    logits_s2 = m2(x_s2)\n",
    "\n",
    "    l_sup = loss_sup(logits_s1, logits_s2, y_s1, y_s2)\n",
    "    total_loss = l_sup\n",
    "    \n",
    "    optimizer.zero_grad()\n",
    "    total_loss.backward()\n",
    "    optimizer.step()\n",
    "    \n",
    "    # Calc the metrics\n",
    "    with torch.set_grad_enabled(False):\n",
    "\n",
    "        # accuracies ----\n",
    "        pred_s1 = torch.argmax(logits_s1, dim=1)\n",
    "        pred_s2 = torch.argmax(logits_s2, dim=1)\n",
    "\n",
    "        acc_s1 = metrics_fn[\"acc_s\"][0](pred_s1, y_s1)\n",
    "        acc_s2 = metrics_fn[\"acc_s\"][1](pred_s2, y_s2)\n",
    "\n",
    "        avg_total = metrics_fn[\"avg_total\"](total_loss.item())\n",
    "        avg_sup = metrics_fn[\"avg_sup\"](l_sup.item())\n",
    "\n",
    "        # logs\n",
    "        mprint(epoch, train_form.format(\n",
    "            \"Training: \",\n",
    "            epoch + 1,\n",
    "            int(100 * (batch + 1) / len(train_loader)),\n",
    "            \"\", avg_sup.mean, 0.0, 0.0, avg_total.mean,\n",
    "            \"\", acc_s1.mean, 0.0,\n",
    "            time.time() - start_time\n",
    "        ), end=\"\\r\")\n",
    "\n",
    "    # using tensorboard to monitor loss and acc\\n\",\n",
    "    tensorboard.add_scalar('train/total_loss', avg_total.mean, epoch)\n",
    "    tensorboard.add_scalar('train/Lsup', avg_sup.mean, epoch )\n",
    "    tensorboard.add_scalar(\"train/acc_1\", acc_s1.mean, epoch )\n",
    "    tensorboard.add_scalar(\"train/acc_2\", acc_s2.mean, epoch )\n",
    "\n",
    "    tensorboard.add_scalar(\"detail_acc/acc_s1\", acc_s1.mean, epoch)\n",
    "    tensorboard.add_scalar(\"detail_acc/acc_s2\", acc_s2.mean, epoch)\n",
    "\n",
    "    # Return the total loss to check for NaN\n",
    "    return total_loss.item()\n",
    "    "
   ]
  },
  {
   "cell_type": "markdown",
   "metadata": {},
   "source": [
    "## Train cot"
   ]
  },
  {
   "cell_type": "code",
   "execution_count": 1088,
   "metadata": {
    "tags": [
     "new_run"
    ]
   },
   "outputs": [],
   "source": [
    "def train_cot_helper(start_time, epoch, batch, x_u, y_u):\n",
    "    x_u = x_u.cuda()\n",
    "    y_u = y_u.cuda()\n",
    "\n",
    "    logits_u1 = m1(x_u)\n",
    "    logits_u2 = m2(x_u)\n",
    "\n",
    "    l_cot = loss_cot(logits_u1, logits_u2)\n",
    "    total_loss = l_cot * args.lambda_cot_max\n",
    "\n",
    "    optimizer.zero_grad()\n",
    "    total_loss.backward()\n",
    "    optimizer.step()\n",
    "\n",
    "    # ======== Calc the metrics ========\n",
    "    with torch.set_grad_enabled(False):\n",
    "        pred_u1 = torch.argmax(logits_u1, 1)\n",
    "        pred_u2 = torch.argmax(logits_u2, 1)\n",
    "        acc_u1 = metrics_fn[\"acc_u\"][0](pred_u1, y_u)\n",
    "        acc_u2 = metrics_fn[\"acc_u\"][1](pred_u2, y_u)\n",
    "\n",
    "        avg_total = metrics_fn[\"avg_total\"](total_loss.item())\n",
    "        avg_cot = metrics_fn[\"avg_cot\"](l_cot.item())\n",
    "\n",
    "        # logs\n",
    "        mprint(epoch, train_form.format(\n",
    "            \"Training: \",\n",
    "            epoch + 1,\n",
    "            int(100 * (batch + 1) / len(train_loader)),\n",
    "            \"\", 0.0, avg_cot.mean, 0.0, avg_total.mean,\n",
    "            \"\", 0.0, acc_u1.mean,\n",
    "            time.time() - start_time\n",
    "        ), end=\"\\r\")\n",
    "\n",
    "\n",
    "    # using tensorboard to monitor loss and acc\\n\",\n",
    "    tensorboard.add_scalar('train/total_loss', avg_total.mean, epoch)\n",
    "    tensorboard.add_scalar('train/Lcot', avg_cot.mean, epoch )\n",
    "\n",
    "    tensorboard.add_scalar(\"detail_acc/acc_u1\", acc_u1.mean, epoch)\n",
    "    tensorboard.add_scalar(\"detail_acc/acc_u2\", acc_u2.mean, epoch)\n",
    "\n",
    "    # Return the total loss to check for NaN\n",
    "    return total_loss.item()"
   ]
  },
  {
   "cell_type": "markdown",
   "metadata": {},
   "source": [
    "## Train diff"
   ]
  },
  {
   "cell_type": "code",
   "execution_count": 1089,
   "metadata": {
    "tags": [
     "new_run"
    ]
   },
   "outputs": [],
   "source": [
    "def train_diff_helper(start_time, epoch, batch, x_s1, x_s2, x_u, y_s1, y_s2, y_u):\n",
    "    x_s1, x_s2, x_u = x_s1.cuda(), x_s2.cuda(), x_u.cuda()\n",
    "    y_s1, y_s2, y_u = y_s1.cuda(), y_s2.cuda(), y_u.cuda()\n",
    "\n",
    "    logits_s1 = m1(x_s1)\n",
    "    logits_s2 = m2(x_s2)\n",
    "    logits_u1 = m1(x_u)\n",
    "    logits_u2 = m2(x_u)\n",
    "\n",
    "    # pseudo labels of U\n",
    "    pred_u1 = torch.argmax(logits_u1, 1)\n",
    "    pred_u2 = torch.argmax(logits_u2, 1)\n",
    "\n",
    "    # ======== Generate adversarial examples ========\n",
    "    # fix batchnorm ----\n",
    "    m1.eval()\n",
    "    m2.eval()\n",
    "\n",
    "    #generate adversarial examples ----\n",
    "    adv_data_s1 = adv_generator_1.perturb(x_s1, y_s1)\n",
    "    adv_data_u1 = adv_generator_1.perturb(x_u, pred_u1)\n",
    "\n",
    "    adv_data_s2 = adv_generator_2.perturb(x_s2, y_s2)\n",
    "    adv_data_u2 = adv_generator_2.perturb(x_u, pred_u2)\n",
    "\n",
    "    m1.train()\n",
    "    m2.train()\n",
    "\n",
    "    # predict adversarial examples ----\n",
    "    adv_logits_s1 = m1(adv_data_s2)\n",
    "    adv_logits_s2 = m2(adv_data_s1)\n",
    "\n",
    "    adv_logits_u1 = m1(adv_data_u2)\n",
    "    adv_logits_u2 = m2(adv_data_u1)\n",
    "\n",
    "    # ======== calculate the differents loss ========\n",
    "    # zero the parameter gradients ----\n",
    "    optimizer.zero_grad()\n",
    "    m1.zero_grad()\n",
    "    m2.zero_grad()\n",
    "\n",
    "    l_diff = loss_diff(\n",
    "        logits_s1, logits_s2, adv_logits_s1, adv_logits_s2,\n",
    "        logits_u1, logits_u2, adv_logits_u1, adv_logits_u2\n",
    "    )\n",
    "    total_loss = l_diff * args.lambda_diff_max\n",
    "\n",
    "    optimizer.zero_grad()\n",
    "    total_loss.backward()\n",
    "    optimizer.step()\n",
    "\n",
    "    # ======== Calc the metrics ========\n",
    "    with torch.set_grad_enabled(False):\n",
    "        # accuracies ----\n",
    "        pred_s1 = torch.argmax(logits_s1, dim=1)\n",
    "        pred_s2 = torch.argmax(logits_s2, dim=1)\n",
    "\n",
    "        acc_s1 = metrics_fn[\"acc_s\"][0](pred_s1, y_s1)\n",
    "        acc_s2 = metrics_fn[\"acc_s\"][1](pred_s2, y_s2)\n",
    "        acc_u1 = metrics_fn[\"acc_u\"][0](pred_u1, y_u)\n",
    "        acc_u2 = metrics_fn[\"acc_u\"][1](pred_u2, y_u)\n",
    "\n",
    "        # ratios  ----\n",
    "        adv_pred_s1 = torch.argmax(adv_logits_s1, 1)\n",
    "        adv_pred_s2 = torch.argmax(adv_logits_s2, 1)\n",
    "        adv_pred_u1 = torch.argmax(adv_logits_u1, 1)\n",
    "        adv_pred_u2 = torch.argmax(adv_logits_u2, 1)\n",
    "\n",
    "        ratio_s1 = metrics_fn[\"ratio_s\"][0](adv_pred_s1, y_s1)\n",
    "        ratio_s2 = metrics_fn[\"ratio_s\"][1](adv_pred_s2, y_s2)\n",
    "        ratio_u1 = metrics_fn[\"ratio_u\"][0](adv_pred_u1, y_u)\n",
    "        ratio_u2 = metrics_fn[\"ratio_u\"][1](adv_pred_u2, y_u)\n",
    "        # ========\n",
    "\n",
    "        avg_total = metrics_fn[\"avg_total\"](total_loss.item())\n",
    "        avg_diff = metrics_fn[\"avg_diff\"](l_diff.item())\n",
    "\n",
    "        # logs\n",
    "        mprint(epoch, train_form.format(\n",
    "            \"Training: \",\n",
    "            epoch + 1,\n",
    "            int(100 * (batch + 1) / len(train_loader)),\n",
    "            \"\", 0.0, 0.0, avg_diff.mean, avg_total.mean,\n",
    "            \"\", acc_s1.mean, acc_u1.mean,\n",
    "            time.time() - start_time\n",
    "        ), end=\"\\r\")\n",
    "\n",
    "\n",
    "    # using tensorboard to monitor loss and acc\\n\",\n",
    "    tensorboard.add_scalar('train/total_loss', avg_total.mean, epoch)\n",
    "    tensorboard.add_scalar('train/Ldiff', avg_diff.mean, epoch )\n",
    "    tensorboard.add_scalar(\"train/acc_1\", acc_s1.mean, epoch )\n",
    "    tensorboard.add_scalar(\"train/acc_2\", acc_s2.mean, epoch )\n",
    "\n",
    "    tensorboard.add_scalar(\"detail_acc/acc_s1\", acc_s1.mean, epoch)\n",
    "    tensorboard.add_scalar(\"detail_acc/acc_s2\", acc_s2.mean, epoch)\n",
    "    tensorboard.add_scalar(\"detail_acc/acc_u1\", acc_u1.mean, epoch)\n",
    "    tensorboard.add_scalar(\"detail_acc/acc_u2\", acc_u2.mean, epoch)\n",
    "\n",
    "    tensorboard.add_scalar(\"detail_ratio/ratio_s1\", ratio_s1.mean, epoch)\n",
    "    tensorboard.add_scalar(\"detail_ratio/ratio_s2\", ratio_s2.mean, epoch)\n",
    "    tensorboard.add_scalar(\"detail_ratio/ratio_u1\", ratio_u1.mean, epoch)\n",
    "    tensorboard.add_scalar(\"detail_ratio/ratio_u2\", ratio_u2.mean, epoch)\n",
    "\n",
    "    # Return the total loss to check for NaN\n",
    "    return total_loss.item()"
   ]
  },
  {
   "cell_type": "code",
   "execution_count": 1090,
   "metadata": {
    "collapsed": false,
    "jupyter": {
     "outputs_hidden": false
    },
    "pycharm": {
     "name": "#%%\n"
    },
    "tags": [
     "new_run"
    ]
   },
   "outputs": [],
   "source": [
    "def train(epoch):\n",
    "    st = time.time()\n",
    "    mprint(epoch, \"\", \"\\n\")\n",
    "\n",
    "    reset_metrics()\n",
    "    m1.train()\n",
    "    m2.train()\n",
    "    \n",
    "    for batch, (S1, S2, U) in enumerate(train_loader):\n",
    "        chosen_loss = loss_chooser(epoch)\n",
    "        \n",
    "        x_s1, y_s1 = S1\n",
    "        x_s2, y_s2 = S2\n",
    "        x_u, y_u = U\n",
    "\n",
    "        if chosen_loss == \"sup\":\n",
    "            return train_sup_helper(st, epoch, batch, x_s1, x_s2, y_s1, y_s2)\n",
    "        \n",
    "        elif chosen_loss == \"cot\":\n",
    "            return train_cot_helper(st, epoch, batch, x_u, y_u)\n",
    "        \n",
    "        elif chosen_loss == \"diff\":\n",
    "            return train_diff_helper(st, epoch, batch, x_s1, x_s2, x_u, y_s1, y_s2, y_u)"
   ]
  },
  {
   "cell_type": "code",
   "execution_count": 1091,
   "metadata": {
    "collapsed": false,
    "jupyter": {
     "outputs_hidden": false
    },
    "pycharm": {
     "name": "#%%\n"
    },
    "tags": [
     "new_run"
    ]
   },
   "outputs": [],
   "source": [
    "def test(epoch, msg = \"\"):\n",
    "    start_time = time.time()\n",
    "    mprint(epoch, \"\", \"\\n\")\n",
    "\n",
    "    reset_metrics()\n",
    "    m1.eval()\n",
    "    m2.eval()\n",
    "\n",
    "    with torch.set_grad_enabled(False):\n",
    "        for batch, (X, y) in enumerate(val_loader):\n",
    "            x = X.cuda()\n",
    "            y = y.cuda()\n",
    "\n",
    "            logits_1 = m1(x)\n",
    "            logits_2 = m2(x)\n",
    "\n",
    "            # losses ----\n",
    "            l_sup = loss_sup(logits_1, logits_2, y, y)\n",
    "\n",
    "            # ======== Calc the metrics ========\n",
    "            # accuracies ----\n",
    "            pred_1 = torch.argmax(logits_1, dim=1)\n",
    "            pred_2 = torch.argmax(logits_2, dim=1)\n",
    "\n",
    "            acc_1 = metrics_fn[\"acc_s\"][0](pred_1, y)\n",
    "            acc_2 = metrics_fn[\"acc_s\"][1](pred_2, y)\n",
    "\n",
    "            avg_sup = metrics_fn[\"avg_sup\"](l_sup.item())\n",
    "\n",
    "            # logs\n",
    "            mprint(epoch, val_form.format(\n",
    "                \"Validation: \",\n",
    "                epoch + 1,\n",
    "                int(100 * (batch + 1) / len(train_loader)),\n",
    "                \"\", avg_sup.mean, 0.0, 0.0, avg_sup.mean,\n",
    "                \"\", acc_1.mean, 0.0,\n",
    "                time.time() - start_time\n",
    "            ), end=\"\\r\")\n",
    "\n",
    "    tensorboard.add_scalar(\"val/acc_1\", acc_1.mean, epoch)\n",
    "    tensorboard.add_scalar(\"val/acc_2\", acc_2.mean, epoch)\n",
    "        \n",
    "    tensorboard.add_scalar(\"max/acc_1\", maximum_fn(\"acc_1\", acc_1.mean), epoch )\n",
    "    tensorboard.add_scalar(\"max/acc_2\", maximum_fn(\"acc_2\", acc_2.mean), epoch )\n",
    "    \n",
    "    tensorboard.add_scalar(\"detail_hyperparameters/lambda_cot\", lambda_cot(), epoch)\n",
    "    tensorboard.add_scalar(\"detail_hyperparameters/lambda_diff\", lambda_diff(), epoch)\n",
    "    tensorboard.add_scalar(\"detail_hyperparameters/learning_rate\", get_lr(optimizer), epoch)\n",
    "\n",
    "    # Apply callbacks\n",
    "    for c in callbacks:\n",
    "        c.step()\n",
    "\n",
    "    # call checkpoint\n",
    "    checkpoint_m1.step(acc_1.mean)\n"
   ]
  },
  {
   "cell_type": "markdown",
   "metadata": {},
   "source": [
    "# Training"
   ]
  },
  {
   "cell_type": "code",
   "execution_count": 1092,
   "metadata": {
    "collapsed": false,
    "jupyter": {
     "outputs_hidden": false
    },
    "pycharm": {
     "name": "#%%\n"
    },
    "scrolled": true,
    "tags": [
     "new_run"
    ]
   },
   "outputs": [
    {
     "name": "stdout",
     "output_type": "stream",
     "text": [
      "\n",
      "Training 3201   - 1      -          0.0000 | 0.0397 | 0.0000 | 0.3972 -           0.0000    | 0.7865   - 0.0306\n",
      "\u001b[1;4mValidati 3201   - 11     -          2.0678 | 0.0000 | 0.0000 | 2.0678 -           0.7915    | 0.0000   - 0.0838\u001b[0m\n",
      "Training 3211   - 1      -          0.0000 | 0.0200 | 0.0000 | 0.2002 -           0.0000    | 0.8202   - 0.0310\n",
      "\u001b[1;4mValidati 3211   - 11     -          2.0440 | 0.0000 | 0.0000 | 2.0440 -           0.7935    | 0.0000   - 0.0847\u001b[0m\n",
      "Training 3221   - 1      -          0.0000 | 0.0362 | 0.0000 | 0.3622 -           0.0000    | 0.8202   - 0.0306\n",
      "\u001b[1;4mValidati 3221   - 11     -          2.0950 | 0.0000 | 0.0000 | 2.0950 -           0.7782    | 0.0000   - 0.0843\u001b[0m\n",
      "Training 3231   - 1      -          0.0000 | 0.0266 | 0.0000 | 0.2657 -           0.0000    | 0.8202   - 0.0299\n",
      "\u001b[1;4mValidati 3231   - 11     -          2.1149 | 0.0000 | 0.0000 | 2.1149 -           0.7772    | 0.0000   - 0.0836\u001b[0m\n",
      "Training 3241   - 1      -          0.0838 | 0.0000 | 0.0000 | 0.0838 -           1.0000    | 0.0000   - 0.0197\n",
      "\u001b[1;4mValidati 3241   - 11     -          2.0310 | 0.0000 | 0.0000 | 2.0310 -           0.8024    | 0.0000   - 0.0843\u001b[0m\n",
      "Training 3251   - 1      -          0.0778 | 0.0000 | 0.0000 | 0.0778 -           1.0000    | 0.0000   - 0.0195\n",
      "\u001b[1;4mValidati 3251   - 11     -          2.1396 | 0.0000 | 0.0000 | 2.1396 -           0.7840    | 0.0000   - 0.0847\u001b[0m\n",
      "Training 3261   - 1      -          0.0000 | 0.0192 | 0.0000 | 0.1922 -           0.0000    | 0.8315   - 0.0303\n",
      "\u001b[1;4mValidati 3261   - 11     -          2.1614 | 0.0000 | 0.0000 | 2.1614 -           0.7893    | 0.0000   - 0.0851\u001b[0m\n",
      "Training 3271   - 1      -          0.1387 | 0.0000 | 0.0000 | 0.1387 -           1.0000    | 0.0000   - 0.0195\n",
      "\u001b[1;4mValidati 3271   - 11     -          2.1791 | 0.0000 | 0.0000 | 2.1791 -           0.7852    | 0.0000   - 0.0841\u001b[0m\n",
      "Training 3281   - 1      -          0.1658 | 0.0000 | 0.0000 | 0.1658 -           1.0000    | 0.0000   - 0.0197\n",
      "\u001b[1;4mValidati 3281   - 11     -          2.1667 | 0.0000 | 0.0000 | 2.1667 -           0.7785    | 0.0000   - 0.0845\u001b[0m\n",
      "Training 3291   - 1      -          0.1430 | 0.0000 | 0.0000 | 0.1430 -           1.0000    | 0.0000   - 0.0196\n",
      "\u001b[1;4mValidati 3291   - 11     -          2.0365 | 0.0000 | 0.0000 | 2.0365 -           0.7856    | 0.0000   - 0.0847\u001b[0m\n",
      "Training 3301   - 1      -          0.0000 | 0.0260 | 0.0000 | 0.2595 -           0.0000    | 0.8315   - 0.0305\n",
      "\u001b[1;4mValidati 3301   - 11     -          1.9373 | 0.0000 | 0.0000 | 1.9373 -           0.7953    | 0.0000   - 0.0838\u001b[0m\n",
      "Training 3311   - 1      -          0.2259 | 0.0000 | 0.0000 | 0.2259 -           0.9091    | 0.0000   - 0.0205\n",
      "\u001b[1;4mValidati 3311   - 11     -          1.9501 | 0.0000 | 0.0000 | 1.9501 -           0.7912    | 0.0000   - 0.0842\u001b[0m\n",
      "Training 3321   - 1      -          0.0000 | 0.0235 | 0.0000 | 0.2348 -           0.0000    | 0.8539   - 0.0312\n",
      "\u001b[1;4mValidati 3321   - 11     -          1.9928 | 0.0000 | 0.0000 | 1.9928 -           0.8017    | 0.0000   - 0.0846\u001b[0m\n",
      "Training 3331   - 1      -          0.0000 | 0.0180 | 0.0000 | 0.1797 -           0.0000    | 0.8202   - 0.0309\n",
      "\u001b[1;4mValidati 3331   - 11     -          2.0830 | 0.0000 | 0.0000 | 2.0830 -           0.7915    | 0.0000   - 0.0836\u001b[0m\n",
      "Training 3341   - 1      -          0.0000 | 0.0204 | 0.0000 | 0.2038 -           0.0000    | 0.9101   - 0.0305\n",
      "\u001b[1;4mValidati 3341   - 11     -          1.9423 | 0.0000 | 0.0000 | 1.9423 -           0.8013    | 0.0000   - 0.0839\u001b[0m\n",
      "Training 3351   - 1      -          0.0000 | 0.0290 | 0.0000 | 0.2899 -           0.0000    | 0.8539   - 0.0308\n",
      "\u001b[1;4mValidati 3351   - 11     -          1.9330 | 0.0000 | 0.0000 | 1.9330 -           0.8077    | 0.0000   - 0.0845\u001b[0m\n",
      "Training 3361   - 1      -          0.0000 | 0.0178 | 0.0000 | 0.1780 -           0.0000    | 0.8989   - 0.0305\n",
      "\u001b[1;4mValidati 3361   - 11     -          2.0714 | 0.0000 | 0.0000 | 2.0714 -           0.8017    | 0.0000   - 0.0837\u001b[0m\n",
      "Training 3371   - 1      -          0.0000 | 0.0000 | 0.6370 | 0.3185 -           1.0000    | 0.8764   - 0.1051\n",
      "\u001b[1;4mValidati 3371   - 11     -          2.0921 | 0.0000 | 0.0000 | 2.0921 -           0.7986    | 0.0000   - 0.0840\u001b[0m\n",
      "Training 3381   - 1      -          0.3064 | 0.0000 | 0.0000 | 0.3064 -           0.9091    | 0.0000   - 0.0182\n",
      "\u001b[1;4mValidati 3381   - 11     -          2.0855 | 0.0000 | 0.0000 | 2.0855 -           0.7901    | 0.0000   - 0.0909\u001b[0m\n",
      "Training 3391   - 1      -          0.0000 | 0.0305 | 0.0000 | 0.3054 -           0.0000    | 0.9101   - 0.0335\n",
      "\u001b[1;4mValidati 3391   - 11     -          2.1151 | 0.0000 | 0.0000 | 2.1151 -           0.7780    | 0.0000   - 0.0940\u001b[0m\n",
      "Training 3401   - 1      -          0.0749 | 0.0000 | 0.0000 | 0.0749 -           1.0000    | 0.0000   - 0.0201\n",
      "\u001b[1;4mValidati 3401   - 11     -          2.0832 | 0.0000 | 0.0000 | 2.0832 -           0.7923    | 0.0000   - 0.0840\u001b[0m\n",
      "Training 3411   - 1      -          0.2654 | 0.0000 | 0.0000 | 0.2654 -           0.9091    | 0.0000   - 0.0193\n",
      "\u001b[1;4mValidati 3411   - 11     -          2.0346 | 0.0000 | 0.0000 | 2.0346 -           0.7801    | 0.0000   - 0.0840\u001b[0m\n",
      "Training 3421   - 1      -          0.1233 | 0.0000 | 0.0000 | 0.1233 -           1.0000    | 0.0000   - 0.0194\n",
      "\u001b[1;4mValidati 3421   - 11     -          2.0861 | 0.0000 | 0.0000 | 2.0861 -           0.7956    | 0.0000   - 0.0895\u001b[0m\n",
      "Training 3431   - 1      -          0.0910 | 0.0000 | 0.0000 | 0.0910 -           1.0000    | 0.0000   - 0.0185\n",
      "\u001b[1;4mValidati 3431   - 11     -          2.0783 | 0.0000 | 0.0000 | 2.0783 -           0.7942    | 0.0000   - 0.0840\u001b[0m\n",
      "Training 3441   - 1      -          0.1882 | 0.0000 | 0.0000 | 0.1882 -           0.9091    | 0.0000   - 0.0192\n",
      "\u001b[1;4mValidati 3441   - 11     -          2.2145 | 0.0000 | 0.0000 | 2.2145 -           0.7811    | 0.0000   - 0.0851\u001b[0m\n",
      "Training 3451   - 1      -          0.0530 | 0.0000 | 0.0000 | 0.0530 -           1.0000    | 0.0000   - 0.0194\n",
      "\u001b[1;4mValidati 3451   - 11     -          2.1898 | 0.0000 | 0.0000 | 2.1898 -           0.7841    | 0.0000   - 0.0865\u001b[0m\n",
      "Training 3461   - 1      -          0.0600 | 0.0000 | 0.0000 | 0.0600 -           1.0000    | 0.0000   - 0.0180\n",
      "\u001b[1;4mValidati 3461   - 11     -          2.1366 | 0.0000 | 0.0000 | 2.1366 -           0.7868    | 0.0000   - 0.0910\u001b[0m\n",
      "Training 3471   - 1      -          0.0000 | 0.0127 | 0.0000 | 0.1273 -           0.0000    | 0.8539   - 0.0305\n",
      "\u001b[1;4mValidati 3471   - 11     -          2.0724 | 0.0000 | 0.0000 | 2.0724 -           0.7841    | 0.0000   - 0.0840\u001b[0m\n",
      "Training 3481   - 1      -          0.0000 | 0.0130 | 0.0000 | 0.1297 -           0.0000    | 0.8539   - 0.0313\n",
      "\u001b[1;4mValidati 3481   - 11     -          2.1672 | 0.0000 | 0.0000 | 2.1672 -           0.7873    | 0.0000   - 0.0859\u001b[0m\n",
      "Training 3491   - 1      -          0.0000 | 0.0102 | 0.0000 | 0.1025 -           0.0000    | 0.8427   - 0.0307\n",
      "\u001b[1;4mValidati 3491   - 11     -          2.0956 | 0.0000 | 0.0000 | 2.0956 -           0.7889    | 0.0000   - 0.0838\u001b[0m\n",
      "Training 3501   - 1      -          0.0970 | 0.0000 | 0.0000 | 0.0970 -           1.0000    | 0.0000   - 0.0178\n",
      "\u001b[1;4mValidati 3501   - 11     -          2.0641 | 0.0000 | 0.0000 | 2.0641 -           0.7982    | 0.0000   - 0.0838\u001b[0m\n",
      "Training 3511   - 1      -          0.0000 | 0.0161 | 0.0000 | 0.1611 -           0.0000    | 0.8539   - 0.0307\n",
      "\u001b[1;4mValidati 3511   - 11     -          2.0735 | 0.0000 | 0.0000 | 2.0735 -           0.7938    | 0.0000   - 0.0853\u001b[0m\n",
      "Training 3521   - 1      -          0.3591 | 0.0000 | 0.0000 | 0.3591 -           0.9091    | 0.0000   - 0.0197\n",
      "\u001b[1;4mValidati 3521   - 11     -          2.0971 | 0.0000 | 0.0000 | 2.0971 -           0.7911    | 0.0000   - 0.0842\u001b[0m\n",
      "Training 3531   - 1      -          0.0000 | 0.0289 | 0.0000 | 0.2892 -           0.0000    | 0.8764   - 0.0306\n",
      "\u001b[1;4mValidati 3531   - 11     -          2.0137 | 0.0000 | 0.0000 | 2.0137 -           0.7928    | 0.0000   - 0.0841\u001b[0m\n",
      "Training 3541   - 1      -          0.1277 | 0.0000 | 0.0000 | 0.1277 -           1.0000    | 0.0000   - 0.0206\n",
      "\u001b[1;4mValidati 3541   - 11     -          2.0060 | 0.0000 | 0.0000 | 2.0060 -           0.7911    | 0.0000   - 0.0848\u001b[0m\n",
      "Training 3551   - 1      -          0.0000 | 0.0231 | 0.0000 | 0.2314 -           0.0000    | 0.8652   - 0.0307\n",
      "\u001b[1;4mValidati 3551   - 11     -          2.0053 | 0.0000 | 0.0000 | 2.0053 -           0.7885    | 0.0000   - 0.0837\u001b[0m\n",
      "Training 3561   - 1      -          0.1971 | 0.0000 | 0.0000 | 0.1971 -           0.9091    | 0.0000   - 0.0192\n",
      "\u001b[1;4mValidati 3561   - 11     -          2.0212 | 0.0000 | 0.0000 | 2.0212 -           0.8068    | 0.0000   - 0.0841\u001b[0m\n",
      "Training 3571   - 1      -          0.0000 | 0.0199 | 0.0000 | 0.1994 -           0.0000    | 0.8427   - 0.0305\n",
      "\u001b[1;4mValidati 3571   - 11     -          2.0751 | 0.0000 | 0.0000 | 2.0751 -           0.7963    | 0.0000   - 0.0959\u001b[0m\n",
      "Training 3581   - 1      -          0.0000 | 0.0317 | 0.0000 | 0.3166 -           0.0000    | 0.8427   - 0.0300\n",
      "\u001b[1;4mValidati 3581   - 11     -          1.9385 | 0.0000 | 0.0000 | 1.9385 -           0.8118    | 0.0000   - 0.0846\u001b[0m\n",
      "Training 3591   - 1      -          0.0000 | 0.0127 | 0.0000 | 0.1270 -           0.0000    | 0.8539   - 0.0303\n",
      "\u001b[1;4mValidati 3591   - 11     -          2.1555 | 0.0000 | 0.0000 | 2.1555 -           0.7843    | 0.0000   - 0.0867\u001b[0m\n",
      "Training 3601   - 1      -          0.2231 | 0.0000 | 0.0000 | 0.2231 -           1.0000    | 0.0000   - 0.0195\n",
      "\u001b[1;4mValidati 3601   - 11     -          1.9979 | 0.0000 | 0.0000 | 1.9979 -           0.7879    | 0.0000   - 0.0854\u001b[0m\n",
      "Training 3611   - 1      -          0.0000 | 0.0137 | 0.0000 | 0.1371 -           0.0000    | 0.9438   - 0.0314\n",
      "\u001b[1;4mValidati 3611   - 11     -          2.0177 | 0.0000 | 0.0000 | 2.0177 -           0.7895    | 0.0000   - 0.0850\u001b[0m\n",
      "Training 3621   - 1      -          0.3077 | 0.0000 | 0.0000 | 0.3077 -           1.0000    | 0.0000   - 0.0202\n",
      "\u001b[1;4mValidati 3621   - 11     -          2.0644 | 0.0000 | 0.0000 | 2.0644 -           0.7985    | 0.0000   - 0.0836\u001b[0m\n",
      "Training 3631   - 1      -          0.3000 | 0.0000 | 0.0000 | 0.3000 -           0.9091    | 0.0000   - 0.0191\n",
      "\u001b[1;4mValidati 3631   - 11     -          2.0559 | 0.0000 | 0.0000 | 2.0559 -           0.8075    | 0.0000   - 0.0838\u001b[0m\n",
      "Training 3641   - 1      -          0.0000 | 0.0147 | 0.0000 | 0.1472 -           0.0000    | 0.8989   - 0.0303\n",
      "\u001b[1;4mValidati 3641   - 11     -          2.0440 | 0.0000 | 0.0000 | 2.0440 -           0.8022    | 0.0000   - 0.0836\u001b[0m\n",
      "Training 3651   - 1      -          0.1544 | 0.0000 | 0.0000 | 0.1544 -           1.0000    | 0.0000   - 0.0186\n",
      "\u001b[1;4mValidati 3651   - 11     -          1.9508 | 0.0000 | 0.0000 | 1.9508 -           0.8088    | 0.0000   - 0.0836\u001b[0m\n",
      "Training 3661   - 1      -          0.0000 | 0.0163 | 0.0000 | 0.1628 -           0.0000    | 0.8539   - 0.0375\n",
      "\u001b[1;4mValidati 3661   - 11     -          1.9667 | 0.0000 | 0.0000 | 1.9667 -           0.7960    | 0.0000   - 0.0947\u001b[0m\n",
      "Training 3671   - 1      -          0.0000 | 0.0212 | 0.0000 | 0.2116 -           0.0000    | 0.8315   - 0.0308\n",
      "\u001b[1;4mValidati 3671   - 11     -          1.9585 | 0.0000 | 0.0000 | 1.9585 -           0.7982    | 0.0000   - 0.0836\u001b[0m\n",
      "Training 3681   - 1      -          0.0000 | 0.0209 | 0.0000 | 0.2086 -           0.0000    | 0.8764   - 0.0310\n",
      "\u001b[1;4mValidati 3681   - 11     -          2.1011 | 0.0000 | 0.0000 | 2.1011 -           0.7933    | 0.0000   - 0.0839\u001b[0m\n",
      "Training 3691   - 1      -          0.0000 | 0.0204 | 0.0000 | 0.2037 -           0.0000    | 0.8315   - 0.0309\n",
      "\u001b[1;4mValidati 3691   - 11     -          1.9724 | 0.0000 | 0.0000 | 1.9724 -           0.7935    | 0.0000   - 0.0837\u001b[0m\n",
      "Training 3701   - 1      -          0.0000 | 0.0201 | 0.0000 | 0.2013 -           0.0000    | 0.9213   - 0.0308\n",
      "\u001b[1;4mValidati 3701   - 11     -          2.0826 | 0.0000 | 0.0000 | 2.0826 -           0.7877    | 0.0000   - 0.0847\u001b[0m\n",
      "Training 3711   - 1      -          0.0000 | 0.0170 | 0.0000 | 0.1702 -           0.0000    | 0.8876   - 0.0309\n",
      "\u001b[1;4mValidati 3711   - 11     -          2.0203 | 0.0000 | 0.0000 | 2.0203 -           0.7844    | 0.0000   - 0.0843\u001b[0m\n",
      "Training 3721   - 1      -          0.0000 | 0.0073 | 0.0000 | 0.0730 -           0.0000    | 0.8652   - 0.0312\n",
      "\u001b[1;4mValidati 3721   - 11     -          1.9558 | 0.0000 | 0.0000 | 1.9558 -           0.7964    | 0.0000   - 0.0841\u001b[0m\n",
      "Training 3731   - 1      -          0.0000 | 0.0174 | 0.0000 | 0.1744 -           0.0000    | 0.8090   - 0.0309\n",
      "\u001b[1;4mValidati 3731   - 11     -          1.9929 | 0.0000 | 0.0000 | 1.9929 -           0.7961    | 0.0000   - 0.0845\u001b[0m\n",
      "Training 3741   - 1      -          0.1777 | 0.0000 | 0.0000 | 0.1777 -           0.8182    | 0.0000   - 0.0196\n",
      "\u001b[1;4mValidati 3741   - 11     -          2.0647 | 0.0000 | 0.0000 | 2.0647 -           0.7861    | 0.0000   - 0.0844\u001b[0m\n",
      "Training 3751   - 1      -          0.1665 | 0.0000 | 0.0000 | 0.1665 -           0.9091    | 0.0000   - 0.0203\n",
      "\u001b[1;4mValidati 3751   - 11     -          2.0655 | 0.0000 | 0.0000 | 2.0655 -           0.7766    | 0.0000   - 0.0850\u001b[0m\n",
      "Training 3761   - 1      -          0.1716 | 0.0000 | 0.0000 | 0.1716 -           1.0000    | 0.0000   - 0.0197\n",
      "\u001b[1;4mValidati 3761   - 11     -          1.9544 | 0.0000 | 0.0000 | 1.9544 -           0.7868    | 0.0000   - 0.0855\u001b[0m\n",
      "Training 3771   - 1      -          0.0073 | 0.0000 | 0.0000 | 0.0073 -           1.0000    | 0.0000   - 0.0196\n",
      "\u001b[1;4mValidati 3771   - 11     -          2.0200 | 0.0000 | 0.0000 | 2.0200 -           0.7803    | 0.0000   - 0.0845\u001b[0m\n",
      "Training 3781   - 1      -          0.0000 | 0.0224 | 0.0000 | 0.2245 -           0.0000    | 0.8427   - 0.0303\n",
      "\u001b[1;4mValidati 3781   - 11     -          2.1293 | 0.0000 | 0.0000 | 2.1293 -           0.7895    | 0.0000   - 0.0839\u001b[0m\n",
      "Training 3791   - 1      -          0.1213 | 0.0000 | 0.0000 | 0.1213 -           1.0000    | 0.0000   - 0.0198\n",
      "\u001b[1;4mValidati 3791   - 11     -          2.0150 | 0.0000 | 0.0000 | 2.0150 -           0.8110    | 0.0000   - 0.0847\u001b[0m\n",
      "Training 3801   - 1      -          0.1757 | 0.0000 | 0.0000 | 0.1757 -           1.0000    | 0.0000   - 0.0199\n",
      "\u001b[1;4mValidati 3801   - 11     -          2.0350 | 0.0000 | 0.0000 | 2.0350 -           0.8038    | 0.0000   - 0.0845\u001b[0m\n",
      "Training 3811   - 1      -          0.0000 | 0.0179 | 0.0000 | 0.1789 -           0.0000    | 0.8315   - 0.0305\n",
      "\u001b[1;4mValidati 3811   - 11     -          1.9707 | 0.0000 | 0.0000 | 1.9707 -           0.8023    | 0.0000   - 0.0838\u001b[0m\n",
      "Training 3821   - 1      -          0.0000 | 0.0145 | 0.0000 | 0.1449 -           0.0000    | 0.8090   - 0.0302\n",
      "\u001b[1;4mValidati 3821   - 11     -          2.0391 | 0.0000 | 0.0000 | 2.0391 -           0.7947    | 0.0000   - 0.0838\u001b[0m\n",
      "Training 3831   - 1      -          0.0000 | 0.0177 | 0.0000 | 0.1769 -           0.0000    | 0.8876   - 0.0314\n",
      "\u001b[1;4mValidati 3831   - 11     -          1.9908 | 0.0000 | 0.0000 | 1.9908 -           0.7949    | 0.0000   - 0.0853\u001b[0m\n",
      "Training 3841   - 1      -          0.1196 | 0.0000 | 0.0000 | 0.1196 -           1.0000    | 0.0000   - 0.0204\n",
      "\u001b[1;4mValidati 3841   - 11     -          2.0517 | 0.0000 | 0.0000 | 2.0517 -           0.7996    | 0.0000   - 0.0844\u001b[0m\n",
      "Training 3851   - 1      -          0.1694 | 0.0000 | 0.0000 | 0.1694 -           1.0000    | 0.0000   - 0.0206\n",
      "\u001b[1;4mValidati 3851   - 11     -          1.9310 | 0.0000 | 0.0000 | 1.9310 -           0.8042    | 0.0000   - 0.0851\u001b[0m\n",
      "Training 3861   - 1      -          0.0000 | 0.0239 | 0.0000 | 0.2387 -           0.0000    | 0.7865   - 0.0308\n",
      "\u001b[1;4mValidati 3861   - 11     -          1.9364 | 0.0000 | 0.0000 | 1.9364 -           0.7990    | 0.0000   - 0.0840\u001b[0m\n",
      "Training 3871   - 1      -          0.1613 | 0.0000 | 0.0000 | 0.1613 -           1.0000    | 0.0000   - 0.0202\n",
      "\u001b[1;4mValidati 3871   - 11     -          1.9122 | 0.0000 | 0.0000 | 1.9122 -           0.8075    | 0.0000   - 0.0845\u001b[0m\n",
      "Training 3881   - 1      -          0.0894 | 0.0000 | 0.0000 | 0.0894 -           1.0000    | 0.0000   - 0.0202\n",
      "\u001b[1;4mValidati 3881   - 11     -          1.9167 | 0.0000 | 0.0000 | 1.9167 -           0.8083    | 0.0000   - 0.0854\u001b[0m\n",
      "Training 3891   - 1      -          0.0473 | 0.0000 | 0.0000 | 0.0473 -           1.0000    | 0.0000   - 0.0176\n",
      "\u001b[1;4mValidati 3891   - 11     -          1.8705 | 0.0000 | 0.0000 | 1.8705 -           0.8129    | 0.0000   - 0.0839\u001b[0m\n",
      "Training 3901   - 1      -          0.0000 | 0.0149 | 0.0000 | 0.1491 -           0.0000    | 0.8876   - 0.0304\n",
      "\u001b[1;4mValidati 3901   - 11     -          1.8696 | 0.0000 | 0.0000 | 1.8696 -           0.8050    | 0.0000   - 0.0834\u001b[0m\n",
      "Training 3911   - 1      -          0.1015 | 0.0000 | 0.0000 | 0.1015 -           1.0000    | 0.0000   - 0.0196\n",
      "\u001b[1;4mValidati 3911   - 11     -          1.8711 | 0.0000 | 0.0000 | 1.8711 -           0.7968    | 0.0000   - 0.0842\u001b[0m\n",
      "Training 3921   - 1      -          0.1489 | 0.0000 | 0.0000 | 0.1489 -           0.9091    | 0.0000   - 0.0190\n",
      "\u001b[1;4mValidati 3921   - 11     -          1.9253 | 0.0000 | 0.0000 | 1.9253 -           0.8094    | 0.0000   - 0.0852\u001b[0m\n",
      "Training 3931   - 1      -          0.0000 | 0.0272 | 0.0000 | 0.2722 -           0.0000    | 0.7865   - 0.0301\n",
      "\u001b[1;4mValidati 3931   - 11     -          2.0000 | 0.0000 | 0.0000 | 2.0000 -           0.8079    | 0.0000   - 0.0845\u001b[0m\n",
      "Training 3941   - 1      -          0.0000 | 0.0142 | 0.0000 | 0.1424 -           0.0000    | 0.8202   - 0.0303\n",
      "\u001b[1;4mValidati 3941   - 11     -          2.0750 | 0.0000 | 0.0000 | 2.0750 -           0.8049    | 0.0000   - 0.0849\u001b[0m\n",
      "Training 3951   - 1      -          0.0000 | 0.0163 | 0.0000 | 0.1626 -           0.0000    | 0.8539   - 0.0302\n",
      "\u001b[1;4mValidati 3951   - 11     -          1.9486 | 0.0000 | 0.0000 | 1.9486 -           0.8039    | 0.0000   - 0.0845\u001b[0m\n",
      "Training 3961   - 1      -          0.6505 | 0.0000 | 0.0000 | 0.6505 -           0.9091    | 0.0000   - 0.0189\n",
      "\u001b[1;4mValidati 3961   - 11     -          1.9806 | 0.0000 | 0.0000 | 1.9806 -           0.8050    | 0.0000   - 0.0850\u001b[0m\n",
      "Training 3971   - 1      -          0.5048 | 0.0000 | 0.0000 | 0.5048 -           1.0000    | 0.0000   - 0.0195\n",
      "\u001b[1;4mValidati 3971   - 11     -          2.0059 | 0.0000 | 0.0000 | 2.0059 -           0.7971    | 0.0000   - 0.0852\u001b[0m\n",
      "Training 3981   - 1      -          0.0000 | 0.0145 | 0.0000 | 0.1450 -           0.0000    | 0.7640   - 0.0302\n",
      "\u001b[1;4mValidati 3981   - 11     -          2.0932 | 0.0000 | 0.0000 | 2.0932 -           0.7904    | 0.0000   - 0.0845\u001b[0m\n",
      "Training 3991   - 1      -          0.0000 | 0.0218 | 0.0000 | 0.2181 -           0.0000    | 0.8876   - 0.0304\n",
      "\u001b[1;4mValidati 3991   - 11     -          1.9997 | 0.0000 | 0.0000 | 1.9997 -           0.8009    | 0.0000   - 0.0856\u001b[0m\n",
      "Training 4001   - 1      -          0.0000 | 0.0175 | 0.0000 | 0.1746 -           0.0000    | 0.8427   - 0.0303\n",
      "\u001b[1;4mValidati 4001   - 11     -          2.0865 | 0.0000 | 0.0000 | 2.0865 -           0.8001    | 0.0000   - 0.0846\u001b[0m\n",
      "Training 4011   - 1      -          0.3000 | 0.0000 | 0.0000 | 0.3000 -           0.9091    | 0.0000   - 0.0203\n",
      "\u001b[1;4mValidati 4011   - 11     -          2.0296 | 0.0000 | 0.0000 | 2.0296 -           0.8086    | 0.0000   - 0.0853\u001b[0m\n",
      "Training 4021   - 1      -          0.0000 | 0.0190 | 0.0000 | 0.1899 -           0.0000    | 0.8652   - 0.0307\n",
      "\u001b[1;4mValidati 4021   - 11     -          2.0880 | 0.0000 | 0.0000 | 2.0880 -           0.8034    | 0.0000   - 0.0847\u001b[0m\n",
      "Training 4031   - 1      -          0.0000 | 0.0159 | 0.0000 | 0.1594 -           0.0000    | 0.8315   - 0.0307\n",
      "\u001b[1;4mValidati 4031   - 11     -          2.0123 | 0.0000 | 0.0000 | 2.0123 -           0.7971    | 0.0000   - 0.0846\u001b[0m\n",
      "Training 4041   - 1      -          0.1070 | 0.0000 | 0.0000 | 0.1070 -           1.0000    | 0.0000   - 0.0203\n",
      "\u001b[1;4mValidati 4041   - 11     -          1.9292 | 0.0000 | 0.0000 | 1.9292 -           0.7975    | 0.0000   - 0.0850\u001b[0m\n",
      "Training 4051   - 1      -          0.0000 | 0.0088 | 0.0000 | 0.0883 -           0.0000    | 0.9101   - 0.0305\n",
      "\u001b[1;4mValidati 4051   - 11     -          1.9853 | 0.0000 | 0.0000 | 1.9853 -           0.7944    | 0.0000   - 0.0848\u001b[0m\n",
      "Training 4061   - 1      -          0.0536 | 0.0000 | 0.0000 | 0.0536 -           1.0000    | 0.0000   - 0.0197\n",
      "\u001b[1;4mValidati 4061   - 11     -          1.8772 | 0.0000 | 0.0000 | 1.8772 -           0.8109    | 0.0000   - 0.0851\u001b[0m\n",
      "Training 4071   - 1      -          0.0000 | 0.0116 | 0.0000 | 0.1165 -           0.0000    | 0.8876   - 0.0304\n",
      "\u001b[1;4mValidati 4071   - 11     -          1.9543 | 0.0000 | 0.0000 | 1.9543 -           0.7982    | 0.0000   - 0.0843\u001b[0m\n",
      "Training 4081   - 1      -          0.0000 | 0.0171 | 0.0000 | 0.1711 -           0.0000    | 0.8427   - 0.0303\n",
      "\u001b[1;4mValidati 4081   - 11     -          1.9687 | 0.0000 | 0.0000 | 1.9687 -           0.8004    | 0.0000   - 0.0846\u001b[0m\n",
      "Training 4091   - 1      -          0.2888 | 0.0000 | 0.0000 | 0.2888 -           0.9091    | 0.0000   - 0.0189\n",
      "\u001b[1;4mValidati 4091   - 11     -          1.9759 | 0.0000 | 0.0000 | 1.9759 -           0.8023    | 0.0000   - 0.0833\u001b[0m\n",
      "Training 4101   - 1      -          0.0000 | 0.0276 | 0.0000 | 0.2760 -           0.0000    | 0.8315   - 0.0304\n",
      "\u001b[1;4mValidati 4101   - 11     -          1.9804 | 0.0000 | 0.0000 | 1.9804 -           0.7974    | 0.0000   - 0.0831\u001b[0m\n",
      "Training 4111   - 1      -          0.0000 | 0.0154 | 0.0000 | 0.1540 -           0.0000    | 0.8202   - 0.0350\n",
      "\u001b[1;4mValidati 4111   - 11     -          1.9260 | 0.0000 | 0.0000 | 1.9260 -           0.7964    | 0.0000   - 0.0897\u001b[0m\n",
      "Training 4121   - 1      -          0.0000 | 0.0180 | 0.0000 | 0.1797 -           0.0000    | 0.7978   - 0.0303\n",
      "\u001b[1;4mValidati 4121   - 11     -          2.0479 | 0.0000 | 0.0000 | 2.0479 -           0.7865    | 0.0000   - 0.0852\u001b[0m\n",
      "Training 4131   - 1      -          0.0000 | 0.0122 | 0.0000 | 0.1216 -           0.0000    | 0.9213   - 0.0304\n",
      "\u001b[1;4mValidati 4131   - 11     -          1.9838 | 0.0000 | 0.0000 | 1.9838 -           0.8086    | 0.0000   - 0.0835\u001b[0m\n",
      "Training 4141   - 1      -          0.4533 | 0.0000 | 0.0000 | 0.4533 -           0.8182    | 0.0000   - 0.0216\n",
      "\u001b[1;4mValidati 4141   - 11     -          1.9929 | 0.0000 | 0.0000 | 1.9929 -           0.7996    | 0.0000   - 0.0979\u001b[0m\n",
      "Training 4151   - 1      -          0.7139 | 0.0000 | 0.0000 | 0.7139 -           0.8182    | 0.0000   - 0.0198\n",
      "\u001b[1;4mValidati 4151   - 11     -          1.9706 | 0.0000 | 0.0000 | 1.9706 -           0.8042    | 0.0000   - 0.0839\u001b[0m\n",
      "Training 4161   - 1      -          0.0000 | 0.0169 | 0.0000 | 0.1695 -           0.0000    | 0.8090   - 0.0301\n",
      "\u001b[1;4mValidati 4161   - 11     -          2.0224 | 0.0000 | 0.0000 | 2.0224 -           0.8041    | 0.0000   - 0.0827\u001b[0m\n",
      "Training 4171   - 1      -          0.0940 | 0.0000 | 0.0000 | 0.0940 -           1.0000    | 0.0000   - 0.0197\n",
      "\u001b[1;4mValidati 4171   - 11     -          1.9335 | 0.0000 | 0.0000 | 1.9335 -           0.8150    | 0.0000   - 0.0835\u001b[0m\n",
      "Training 4181   - 1      -          0.0604 | 0.0000 | 0.0000 | 0.0604 -           1.0000    | 0.0000   - 0.0193\n",
      "\u001b[1;4mValidati 4181   - 11     -          2.0375 | 0.0000 | 0.0000 | 2.0375 -           0.7906    | 0.0000   - 0.0836\u001b[0m\n",
      "Training 4191   - 1      -          0.0000 | 0.0177 | 0.0000 | 0.1775 -           0.0000    | 0.7978   - 0.0335\n",
      "\u001b[1;4mValidati 4191   - 11     -          1.9077 | 0.0000 | 0.0000 | 1.9077 -           0.8102    | 0.0000   - 0.0851\u001b[0m\n",
      "Training 4201   - 1      -          0.1003 | 0.0000 | 0.0000 | 0.1003 -           1.0000    | 0.0000   - 0.0198\n",
      "\u001b[1;4mValidati 4201   - 11     -          1.8659 | 0.0000 | 0.0000 | 1.8659 -           0.8047    | 0.0000   - 0.0845\u001b[0m\n",
      "Training 4211   - 1      -          0.4991 | 0.0000 | 0.0000 | 0.4991 -           0.9091    | 0.0000   - 0.0206\n",
      "\u001b[1;4mValidati 4211   - 11     -          2.0046 | 0.0000 | 0.0000 | 2.0046 -           0.8008    | 0.0000   - 0.0853\u001b[0m\n",
      "Training 4221   - 1      -          0.0000 | 0.0159 | 0.0000 | 0.1585 -           0.0000    | 0.8539   - 0.0309\n",
      "\u001b[1;4mValidati 4221   - 11     -          2.0241 | 0.0000 | 0.0000 | 2.0241 -           0.7974    | 0.0000   - 0.0858\u001b[0m\n",
      "Training 4231   - 1      -          0.0000 | 0.0122 | 0.0000 | 0.1225 -           0.0000    | 0.8427   - 0.0311\n",
      "\u001b[1;4mValidati 4231   - 11     -          1.9414 | 0.0000 | 0.0000 | 1.9414 -           0.8117    | 0.0000   - 0.0839\u001b[0m\n",
      "Training 4241   - 1      -          0.0000 | 0.0197 | 0.0000 | 0.1973 -           0.0000    | 0.8652   - 0.0307\n",
      "\u001b[1;4mValidati 4241   - 11     -          2.0062 | 0.0000 | 0.0000 | 2.0062 -           0.8071    | 0.0000   - 0.0900\u001b[0m\n",
      " better performance: saving ...\n",
      "\n",
      "Training 4251   - 1      -          0.0983 | 0.0000 | 0.0000 | 0.0983 -           1.0000    | 0.0000   - 0.0194\n",
      "\u001b[1;4mValidati 4251   - 11     -          1.8673 | 0.0000 | 0.0000 | 1.8673 -           0.8150    | 0.0000   - 0.0857\u001b[0m\n",
      "Training 4261   - 1      -          0.0000 | 0.0135 | 0.0000 | 0.1347 -           0.0000    | 0.8090   - 0.0308\n",
      "\u001b[1;4mValidati 4261   - 11     -          1.8653 | 0.0000 | 0.0000 | 1.8653 -           0.8184    | 0.0000   - 0.0842\u001b[0m\n",
      "Training 4271   - 1      -          0.2478 | 0.0000 | 0.0000 | 0.2478 -           0.9091    | 0.0000   - 0.0231\n",
      "\u001b[1;4mValidati 4271   - 11     -          1.9671 | 0.0000 | 0.0000 | 1.9671 -           0.8101    | 0.0000   - 0.0931\u001b[0m\n",
      "Training 4281   - 1      -          0.0000 | 0.0223 | 0.0000 | 0.2230 -           0.0000    | 0.8989   - 0.0303\n",
      "\u001b[1;4mValidati 4281   - 11     -          2.0207 | 0.0000 | 0.0000 | 2.0207 -           0.8052    | 0.0000   - 0.0836\u001b[0m\n",
      "Training 4291   - 1      -          0.0000 | 0.0131 | 0.0000 | 0.1306 -           0.0000    | 0.8876   - 0.0305\n",
      "\u001b[1;4mValidati 4291   - 11     -          2.0044 | 0.0000 | 0.0000 | 2.0044 -           0.8153    | 0.0000   - 0.0835\u001b[0m\n",
      "Training 4301   - 1      -          0.0000 | 0.0123 | 0.0000 | 0.1227 -           0.0000    | 0.8427   - 0.0319\n",
      "\u001b[1;4mValidati 4301   - 11     -          2.1208 | 0.0000 | 0.0000 | 2.1208 -           0.8059    | 0.0000   - 0.0885\u001b[0m\n",
      "Training 4311   - 1      -          0.0000 | 0.0172 | 0.0000 | 0.1717 -           0.0000    | 0.8539   - 0.0314\n",
      "\u001b[1;4mValidati 4311   - 11     -          1.9711 | 0.0000 | 0.0000 | 1.9711 -           0.8123    | 0.0000   - 0.0891\u001b[0m\n",
      "Training 4321   - 1      -          0.0000 | 0.0214 | 0.0000 | 0.2137 -           0.0000    | 0.8427   - 0.0303\n",
      "\u001b[1;4mValidati 4321   - 11     -          1.9274 | 0.0000 | 0.0000 | 1.9274 -           0.8143    | 0.0000   - 0.0837\u001b[0m\n",
      "Training 4331   - 1      -          0.2496 | 0.0000 | 0.0000 | 0.2496 -           0.9091    | 0.0000   - 0.0296\n",
      "\u001b[1;4mValidati 4331   - 11     -          1.9844 | 0.0000 | 0.0000 | 1.9844 -           0.8013    | 0.0000   - 0.0959\u001b[0m\n",
      "Training 4341   - 1      -          0.0000 | 0.0231 | 0.0000 | 0.2310 -           0.0000    | 0.8539   - 0.0326\n",
      "\u001b[1;4mValidati 4341   - 11     -          1.9788 | 0.0000 | 0.0000 | 1.9788 -           0.8086    | 0.0000   - 0.0921\u001b[0m\n",
      "Training 4351   - 1      -          0.0000 | 0.0116 | 0.0000 | 0.1164 -           0.0000    | 0.8090   - 0.0299\n",
      "\u001b[1;4mValidati 4351   - 11     -          2.0217 | 0.0000 | 0.0000 | 2.0217 -           0.7982    | 0.0000   - 0.0838\u001b[0m\n",
      "Training 4361   - 1      -          0.0000 | 0.0145 | 0.0000 | 0.1447 -           0.0000    | 0.9101   - 0.0305\n",
      "\u001b[1;4mValidati 4361   - 11     -          1.9244 | 0.0000 | 0.0000 | 1.9244 -           0.7985    | 0.0000   - 0.0954\u001b[0m\n",
      "Training 4371   - 1      -          0.0000 | 0.0213 | 0.0000 | 0.2132 -           0.0000    | 0.8989   - 0.0302\n",
      "\u001b[1;4mValidati 4371   - 11     -          1.9932 | 0.0000 | 0.0000 | 1.9932 -           0.8019    | 0.0000   - 0.0838\u001b[0m\n",
      "Training 4381   - 1      -          0.0000 | 0.0137 | 0.0000 | 0.1368 -           0.0000    | 0.8764   - 0.0311\n",
      "\u001b[1;4mValidati 4381   - 11     -          1.9331 | 0.0000 | 0.0000 | 1.9331 -           0.8026    | 0.0000   - 0.0837\u001b[0m\n",
      "Training 4391   - 1      -          0.0000 | 0.0202 | 0.0000 | 0.2019 -           0.0000    | 0.8315   - 0.0307\n",
      "\u001b[1;4mValidati 4391   - 11     -          1.8747 | 0.0000 | 0.0000 | 1.8747 -           0.8017    | 0.0000   - 0.0918\u001b[0m\n",
      "Training 4401   - 1      -          0.0000 | 0.0163 | 0.0000 | 0.1634 -           0.0000    | 0.9101   - 0.0312\n",
      "\u001b[1;4mValidati 4401   - 11     -          1.9126 | 0.0000 | 0.0000 | 1.9126 -           0.8210    | 0.0000   - 0.0900\u001b[0m\n",
      "Training 4411   - 1      -          0.0000 | 0.0114 | 0.0000 | 0.1139 -           0.0000    | 0.8876   - 0.0307\n",
      "\u001b[1;4mValidati 4411   - 11     -          1.9573 | 0.0000 | 0.0000 | 1.9573 -           0.8120    | 0.0000   - 0.0841\u001b[0m\n",
      "Training 4421   - 1      -          0.0000 | 0.0234 | 0.0000 | 0.2336 -           0.0000    | 0.8427   - 0.0304\n",
      "\u001b[1;4mValidati 4421   - 11     -          1.8884 | 0.0000 | 0.0000 | 1.8884 -           0.8099    | 0.0000   - 0.0839\u001b[0m\n",
      "Training 4431   - 1      -          0.0000 | 0.0145 | 0.0000 | 0.1455 -           0.0000    | 0.7753   - 0.0303\n",
      "\u001b[1;4mValidati 4431   - 11     -          1.9626 | 0.0000 | 0.0000 | 1.9626 -           0.8053    | 0.0000   - 0.0845\u001b[0m\n",
      "Training 4441   - 1      -          0.0790 | 0.0000 | 0.0000 | 0.0790 -           1.0000    | 0.0000   - 0.0190\n",
      "\u001b[1;4mValidati 4441   - 11     -          1.9206 | 0.0000 | 0.0000 | 1.9206 -           0.7977    | 0.0000   - 0.0935\u001b[0m\n",
      "Training 4451   - 1      -          0.0000 | 0.0174 | 0.0000 | 0.1737 -           0.0000    | 0.8876   - 0.0330\n",
      "\u001b[1;4mValidati 4451   - 11     -          1.9202 | 0.0000 | 0.0000 | 1.9202 -           0.8064    | 0.0000   - 0.0889\u001b[0m\n",
      "Training 4461   - 1      -          0.0000 | 0.0241 | 0.0000 | 0.2413 -           0.0000    | 0.8315   - 0.0307\n",
      "\u001b[1;4mValidati 4461   - 11     -          1.9164 | 0.0000 | 0.0000 | 1.9164 -           0.8077    | 0.0000   - 0.0884\u001b[0m\n",
      "Training 4471   - 1      -          0.0000 | 0.0157 | 0.0000 | 0.1574 -           0.0000    | 0.8764   - 0.0301\n",
      "\u001b[1;4mValidati 4471   - 11     -          1.9436 | 0.0000 | 0.0000 | 1.9436 -           0.8142    | 0.0000   - 0.0939\u001b[0m\n",
      "Training 4481   - 1      -          0.0000 | 0.0252 | 0.0000 | 0.2521 -           0.0000    | 0.8876   - 0.0325\n",
      "\u001b[1;4mValidati 4481   - 11     -          1.9663 | 0.0000 | 0.0000 | 1.9663 -           0.8055    | 0.0000   - 0.0921\u001b[0m\n",
      "Training 4491   - 1      -          0.0000 | 0.0100 | 0.0000 | 0.1000 -           0.0000    | 0.8090   - 0.0312\n",
      "\u001b[1;4mValidati 4491   - 11     -          1.8933 | 0.0000 | 0.0000 | 1.8933 -           0.8147    | 0.0000   - 0.0970\u001b[0m\n",
      "Training 4501   - 1      -          0.0000 | 0.0178 | 0.0000 | 0.1784 -           0.0000    | 0.8427   - 0.0310\n",
      "\u001b[1;4mValidati 4501   - 11     -          2.0168 | 0.0000 | 0.0000 | 2.0168 -           0.7947    | 0.0000   - 0.0947\u001b[0m\n",
      "Training 4511   - 1      -          0.1254 | 0.0000 | 0.0000 | 0.1254 -           0.9091    | 0.0000   - 0.0201\n",
      "\u001b[1;4mValidati 4511   - 11     -          1.9123 | 0.0000 | 0.0000 | 1.9123 -           0.8094    | 0.0000   - 0.0839\u001b[0m\n",
      "Training 4521   - 1      -          0.0000 | 0.0203 | 0.0000 | 0.2031 -           0.0000    | 0.8315   - 0.0303\n",
      "\u001b[1;4mValidati 4521   - 11     -          2.0033 | 0.0000 | 0.0000 | 2.0033 -           0.7992    | 0.0000   - 0.0838\u001b[0m\n",
      "Training 4531   - 1      -          0.0000 | 0.0000 | 0.4991 | 0.2496 -           1.0000    | 0.8539   - 0.1045\n",
      "\u001b[1;4mValidati 4531   - 11     -          1.9845 | 0.0000 | 0.0000 | 1.9845 -           0.8030    | 0.0000   - 0.0833\u001b[0m\n",
      "Training 4541   - 1      -          0.0000 | 0.0138 | 0.0000 | 0.1377 -           0.0000    | 0.8652   - 0.0306\n",
      "\u001b[1;4mValidati 4541   - 11     -          1.9103 | 0.0000 | 0.0000 | 1.9103 -           0.8172    | 0.0000   - 0.0855\u001b[0m\n",
      "Training 4551   - 1      -          0.1198 | 0.0000 | 0.0000 | 0.1198 -           1.0000    | 0.0000   - 0.0202\n",
      "\u001b[1;4mValidati 4551   - 11     -          1.9226 | 0.0000 | 0.0000 | 1.9226 -           0.8049    | 0.0000   - 0.0854\u001b[0m\n",
      "Training 4561   - 1      -          0.0563 | 0.0000 | 0.0000 | 0.0563 -           1.0000    | 0.0000   - 0.0209\n",
      "\u001b[1;4mValidati 4561   - 11     -          1.9738 | 0.0000 | 0.0000 | 1.9738 -           0.8008    | 0.0000   - 0.0844\u001b[0m\n",
      "Training 4571   - 1      -          0.0000 | 0.0181 | 0.0000 | 0.1814 -           0.0000    | 0.8764   - 0.0311\n",
      "\u001b[1;4mValidati 4571   - 11     -          1.9865 | 0.0000 | 0.0000 | 1.9865 -           0.8113    | 0.0000   - 0.0844\u001b[0m\n",
      "Training 4581   - 1      -          0.3784 | 0.0000 | 0.0000 | 0.3784 -           0.9091    | 0.0000   - 0.0199\n",
      "\u001b[1;4mValidati 4581   - 11     -          1.9898 | 0.0000 | 0.0000 | 1.9898 -           0.8053    | 0.0000   - 0.0855\u001b[0m\n",
      "Training 4591   - 1      -          0.0000 | 0.0153 | 0.0000 | 0.1531 -           0.0000    | 0.8764   - 0.0307\n",
      "\u001b[1;4mValidati 4591   - 11     -          2.0347 | 0.0000 | 0.0000 | 2.0347 -           0.8038    | 0.0000   - 0.0861\u001b[0m\n",
      "Training 4601   - 1      -          0.0000 | 0.0141 | 0.0000 | 0.1412 -           0.0000    | 0.8539   - 0.0308\n",
      "\u001b[1;4mValidati 4601   - 11     -          1.9554 | 0.0000 | 0.0000 | 1.9554 -           0.8052    | 0.0000   - 0.0870\u001b[0m\n",
      "Training 4611   - 1      -          0.0000 | 0.0117 | 0.0000 | 0.1175 -           0.0000    | 0.8090   - 0.0314\n",
      "\u001b[1;4mValidati 4611   - 11     -          1.9971 | 0.0000 | 0.0000 | 1.9971 -           0.8049    | 0.0000   - 0.0855\u001b[0m\n",
      "Training 4621   - 1      -          0.0000 | 0.0144 | 0.0000 | 0.1435 -           0.0000    | 0.8876   - 0.0310\n",
      "\u001b[1;4mValidati 4621   - 11     -          1.9281 | 0.0000 | 0.0000 | 1.9281 -           0.8117    | 0.0000   - 0.0841\u001b[0m\n",
      "Training 4631   - 1      -          0.0000 | 0.0104 | 0.0000 | 0.1038 -           0.0000    | 0.8427   - 0.0308\n",
      "\u001b[1;4mValidati 4631   - 11     -          1.9877 | 0.0000 | 0.0000 | 1.9877 -           0.8038    | 0.0000   - 0.0847\u001b[0m\n",
      "Training 4641   - 1      -          0.0000 | 0.0120 | 0.0000 | 0.1196 -           0.0000    | 0.8090   - 0.0310\n",
      "\u001b[1;4mValidati 4641   - 11     -          1.9735 | 0.0000 | 0.0000 | 1.9735 -           0.8012    | 0.0000   - 0.0852\u001b[0m\n",
      "Training 4651   - 1      -          0.1402 | 0.0000 | 0.0000 | 0.1402 -           0.9091    | 0.0000   - 0.0254\n",
      "\u001b[1;4mValidati 4651   - 11     -          1.8753 | 0.0000 | 0.0000 | 1.8753 -           0.8095    | 0.0000   - 0.0934\u001b[0m\n",
      "Training 4661   - 1      -          0.0000 | 0.0127 | 0.0000 | 0.1274 -           0.0000    | 0.8427   - 0.0313\n",
      "\u001b[1;4mValidati 4661   - 11     -          1.8935 | 0.0000 | 0.0000 | 1.8935 -           0.8077    | 0.0000   - 0.0849\u001b[0m\n",
      "Training 4671   - 1      -          0.3355 | 0.0000 | 0.0000 | 0.3355 -           1.0000    | 0.0000   - 0.0218\n",
      "\u001b[1;4mValidati 4671   - 11     -          1.9198 | 0.0000 | 0.0000 | 1.9198 -           0.8080    | 0.0000   - 0.0863\u001b[0m\n",
      "Training 4681   - 1      -          0.0000 | 0.0149 | 0.0000 | 0.1487 -           0.0000    | 0.8989   - 0.0308\n",
      "\u001b[1;4mValidati 4681   - 11     -          2.0517 | 0.0000 | 0.0000 | 2.0517 -           0.8022    | 0.0000   - 0.0844\u001b[0m\n",
      "Training 4691   - 1      -          0.0000 | 0.0136 | 0.0000 | 0.1363 -           0.0000    | 0.8652   - 0.0313\n",
      "\u001b[1;4mValidati 4691   - 11     -          2.0305 | 0.0000 | 0.0000 | 2.0305 -           0.8074    | 0.0000   - 0.0844\u001b[0m\n",
      "Training 4701   - 1      -          0.1342 | 0.0000 | 0.0000 | 0.1342 -           1.0000    | 0.0000   - 0.0227\n",
      "\u001b[1;4mValidati 4701   - 11     -          1.9802 | 0.0000 | 0.0000 | 1.9802 -           0.8112    | 0.0000   - 0.0864\u001b[0m\n",
      " better performance: saving ...\n",
      "\n",
      "Training 4711   - 1      -          0.0000 | 0.0151 | 0.0000 | 0.1510 -           0.0000    | 0.8876   - 0.0314\n",
      "\u001b[1;4mValidati 4711   - 11     -          2.0600 | 0.0000 | 0.0000 | 2.0600 -           0.8052    | 0.0000   - 0.0845\u001b[0m\n",
      "Training 4721   - 1      -          0.0000 | 0.0101 | 0.0000 | 0.1007 -           0.0000    | 0.9213   - 0.0316\n",
      "\u001b[1;4mValidati 4721   - 11     -          1.9497 | 0.0000 | 0.0000 | 1.9497 -           0.8000    | 0.0000   - 0.0847\u001b[0m\n",
      "Training 4731   - 1      -          0.0000 | 0.0170 | 0.0000 | 0.1700 -           0.0000    | 0.8090   - 0.0310\n",
      "\u001b[1;4mValidati 4731   - 11     -          1.8842 | 0.0000 | 0.0000 | 1.8842 -           0.8102    | 0.0000   - 0.0855\u001b[0m\n",
      "Training 4741   - 1      -          0.0000 | 0.0234 | 0.0000 | 0.2340 -           0.0000    | 0.7753   - 0.0315\n",
      "\u001b[1;4mValidati 4741   - 11     -          2.0039 | 0.0000 | 0.0000 | 2.0039 -           0.8074    | 0.0000   - 0.0847\u001b[0m\n",
      " better performance: saving ...\n",
      "\n",
      "Training 4751   - 1      -          0.0000 | 0.0100 | 0.0000 | 0.0998 -           0.0000    | 0.8539   - 0.0313\n",
      "\u001b[1;4mValidati 4751   - 11     -          2.0136 | 0.0000 | 0.0000 | 2.0136 -           0.8112    | 0.0000   - 0.0865\u001b[0m\n",
      "Training 4761   - 1      -          0.0000 | 0.0114 | 0.0000 | 0.1140 -           0.0000    | 0.8427   - 0.0309\n",
      "\u001b[1;4mValidati 4761   - 11     -          2.0295 | 0.0000 | 0.0000 | 2.0295 -           0.7973    | 0.0000   - 0.0831\u001b[0m\n",
      "Training 4771   - 1      -          0.0000 | 0.0159 | 0.0000 | 0.1594 -           0.0000    | 0.8876   - 0.0306\n",
      "\u001b[1;4mValidati 4771   - 11     -          1.9923 | 0.0000 | 0.0000 | 1.9923 -           0.8101    | 0.0000   - 0.0859\u001b[0m\n",
      "Training 4781   - 1      -          0.0000 | 0.0130 | 0.0000 | 0.1296 -           0.0000    | 0.8315   - 0.0307\n",
      "\u001b[1;4mValidati 4781   - 11     -          1.9294 | 0.0000 | 0.0000 | 1.9294 -           0.8128    | 0.0000   - 0.0847\u001b[0m\n",
      "Training 4791   - 1      -          0.0000 | 0.0245 | 0.0000 | 0.2451 -           0.0000    | 0.8876   - 0.0310\n",
      "\u001b[1;4mValidati 4791   - 11     -          2.0226 | 0.0000 | 0.0000 | 2.0226 -           0.8063    | 0.0000   - 0.0846\u001b[0m\n",
      "Training 4801   - 1      -          0.0000 | 0.0134 | 0.0000 | 0.1343 -           0.0000    | 0.8764   - 0.0308\n",
      "\u001b[1;4mValidati 4801   - 11     -          1.9770 | 0.0000 | 0.0000 | 1.9770 -           0.8000    | 0.0000   - 0.0841\u001b[0m\n",
      "Training 4811   - 1      -          0.0000 | 0.0199 | 0.0000 | 0.1988 -           0.0000    | 0.8876   - 0.0308\n",
      "\u001b[1;4mValidati 4811   - 11     -          1.9585 | 0.0000 | 0.0000 | 1.9585 -           0.8079    | 0.0000   - 0.0844\u001b[0m\n",
      "Training 4821   - 1      -          0.0000 | 0.0185 | 0.0000 | 0.1849 -           0.0000    | 0.8202   - 0.0322\n",
      "\u001b[1;4mValidati 4821   - 11     -          1.9457 | 0.0000 | 0.0000 | 1.9457 -           0.8061    | 0.0000   - 0.0841\u001b[0m\n",
      "Training 4831   - 1      -          0.0592 | 0.0000 | 0.0000 | 0.0592 -           1.0000    | 0.0000   - 0.0203\n",
      "\u001b[1;4mValidati 4831   - 11     -          1.9939 | 0.0000 | 0.0000 | 1.9939 -           0.8063    | 0.0000   - 0.0860\u001b[0m\n",
      "Training 4841   - 1      -          0.0000 | 0.0078 | 0.0000 | 0.0778 -           0.0000    | 0.8876   - 0.0323\n",
      "\u001b[1;4mValidati 4841   - 11     -          1.8554 | 0.0000 | 0.0000 | 1.8554 -           0.8207    | 0.0000   - 0.0855\u001b[0m\n",
      "Training 4851   - 1      -          0.0000 | 0.0107 | 0.0000 | 0.1071 -           0.0000    | 0.9326   - 0.0307\n",
      "\u001b[1;4mValidati 4851   - 11     -          1.9305 | 0.0000 | 0.0000 | 1.9305 -           0.8128    | 0.0000   - 0.0842\u001b[0m\n",
      "Training 4861   - 1      -          0.2577 | 0.0000 | 0.0000 | 0.2577 -           0.8182    | 0.0000   - 0.0207\n",
      "\u001b[1;4mValidati 4861   - 11     -          1.9487 | 0.0000 | 0.0000 | 1.9487 -           0.8117    | 0.0000   - 0.0865\u001b[0m\n",
      "Training 4871   - 1      -          0.0000 | 0.0109 | 0.0000 | 0.1093 -           0.0000    | 0.8876   - 0.0310\n",
      "\u001b[1;4mValidati 4871   - 11     -          1.9590 | 0.0000 | 0.0000 | 1.9590 -           0.8134    | 0.0000   - 0.0837\u001b[0m\n",
      "Training 4881   - 1      -          0.0000 | 0.0194 | 0.0000 | 0.1944 -           0.0000    | 0.8427   - 0.0306\n",
      "\u001b[1;4mValidati 4881   - 11     -          1.9822 | 0.0000 | 0.0000 | 1.9822 -           0.8090    | 0.0000   - 0.0830\u001b[0m\n",
      "Training 4891   - 1      -          0.0000 | 0.0102 | 0.0000 | 0.1022 -           0.0000    | 0.8876   - 0.0307\n",
      "\u001b[1;4mValidati 4891   - 11     -          1.9276 | 0.0000 | 0.0000 | 1.9276 -           0.8053    | 0.0000   - 0.0841\u001b[0m\n",
      "Training 4901   - 1      -          0.0000 | 0.0125 | 0.0000 | 0.1246 -           0.0000    | 0.9213   - 0.0304\n",
      "\u001b[1;4mValidati 4901   - 11     -          1.9842 | 0.0000 | 0.0000 | 1.9842 -           0.8060    | 0.0000   - 0.0836\u001b[0m\n",
      "Training 4911   - 1      -          0.0000 | 0.0136 | 0.0000 | 0.1361 -           0.0000    | 0.8652   - 0.0308\n",
      "\u001b[1;4mValidati 4911   - 11     -          1.9781 | 0.0000 | 0.0000 | 1.9781 -           0.8053    | 0.0000   - 0.0844\u001b[0m\n",
      "Training 4921   - 1      -          0.0000 | 0.0118 | 0.0000 | 0.1178 -           0.0000    | 0.8652   - 0.0306\n",
      "\u001b[1;4mValidati 4921   - 11     -          2.0275 | 0.0000 | 0.0000 | 2.0275 -           0.8038    | 0.0000   - 0.0839\u001b[0m\n",
      "Training 4931   - 1      -          0.0000 | 0.0128 | 0.0000 | 0.1276 -           0.0000    | 0.8202   - 0.0307\n",
      "\u001b[1;4mValidati 4931   - 11     -          1.9349 | 0.0000 | 0.0000 | 1.9349 -           0.8086    | 0.0000   - 0.0844\u001b[0m\n",
      "Training 4941   - 1      -          0.0000 | 0.0215 | 0.0000 | 0.2148 -           0.0000    | 0.8652   - 0.0313\n",
      "\u001b[1;4mValidati 4941   - 11     -          1.9865 | 0.0000 | 0.0000 | 1.9865 -           0.8082    | 0.0000   - 0.0844\u001b[0m\n",
      "Training 4951   - 1      -          0.0000 | 0.0000 | 0.5772 | 0.2886 -           0.8182    | 0.8427   - 0.1049\n",
      "\u001b[1;4mValidati 4951   - 11     -          2.0735 | 0.0000 | 0.0000 | 2.0735 -           0.8019    | 0.0000   - 0.0864\u001b[0m\n",
      "Training 4961   - 1      -          0.0000 | 0.0099 | 0.0000 | 0.0987 -           0.0000    | 0.9213   - 0.0313\n",
      "\u001b[1;4mValidati 4961   - 11     -          1.9587 | 0.0000 | 0.0000 | 1.9587 -           0.8038    | 0.0000   - 0.0917\u001b[0m\n",
      "Training 4971   - 1      -          0.0000 | 0.0126 | 0.0000 | 0.1264 -           0.0000    | 0.8427   - 0.0308\n",
      "\u001b[1;4mValidati 4971   - 11     -          1.9333 | 0.0000 | 0.0000 | 1.9333 -           0.7996    | 0.0000   - 0.0844\u001b[0m\n",
      "Training 4981   - 1      -          0.0000 | 0.0130 | 0.0000 | 0.1299 -           0.0000    | 0.8315   - 0.0308\n",
      "\u001b[1;4mValidati 4981   - 11     -          1.8878 | 0.0000 | 0.0000 | 1.8878 -           0.8109    | 0.0000   - 0.0847\u001b[0m\n",
      "Training 4991   - 1      -          0.0000 | 0.0134 | 0.0000 | 0.1341 -           0.0000    | 0.8202   - 0.0301\n",
      "\u001b[1;4mValidati 4991   - 11     -          1.9110 | 0.0000 | 0.0000 | 1.9110 -           0.8112    | 0.0000   - 0.0827\u001b[0m\r"
     ]
    }
   ],
   "source": [
    "print(header)\n",
    "\n",
    "for epoch in range(0, args.nb_epoch):\n",
    "    total_loss = train(epoch)\n",
    "    \n",
    "    if np.isnan(total_loss):\n",
    "        print(\"Losses are NaN, stoping the training here\")\n",
    "        break\n",
    "        \n",
    "    test(epoch)\n",
    "\n",
    "tensorboard.flush()\n",
    "tensorboard.close()"
   ]
  },
  {
   "cell_type": "code",
   "execution_count": 1093,
   "metadata": {
    "tags": [
     "new_run"
    ]
   },
   "outputs": [
    {
     "name": "stdout",
     "output_type": "stream",
     "text": [
      "rule function:  <function rule_maker_weighted_linear at 0x7f1291a8ab80>\n",
      "nb steps:  10\n",
      "model:  <class 'UrbanSound8k.models_test.cnn03'>\n",
      "max acc 1: 82.26\n",
      "max acc 2: 80.95\n"
     ]
    }
   ],
   "source": [
    "print(\"rule function: \", rule_fn)\n",
    "print(\"nb steps: \", steps)\n",
    "print(\"model: \", model_func)\n",
    "print(\"max acc 1: %.2f\" % (maximum_fn.max[\"acc_1\"].item() * 100))\n",
    "print(\"max acc 2: %.2f\" % (maximum_fn.max[\"acc_2\"].item() * 100))"
   ]
  },
  {
   "cell_type": "markdown",
   "metadata": {},
   "source": [
    "# ♫♪.ılılıll|̲̅̅●̲̅̅|̲̅̅=̲̅̅|̲̅̅●̲̅̅|llılılı.♫♪"
   ]
  },
  {
   "cell_type": "markdown",
   "metadata": {},
   "source": [
    "# ======== For creating images ========"
   ]
  },
  {
   "cell_type": "code",
   "execution_count": 152,
   "metadata": {
    "tags": [
     "imgs"
    ]
   },
   "outputs": [],
   "source": [
    "import matplotlib.pyplot as plt"
   ]
  },
  {
   "cell_type": "code",
   "execution_count": 172,
   "metadata": {
    "tags": [
     "imgs"
    ]
   },
   "outputs": [],
   "source": [
    "def display(rules, title):\n",
    "    lsup = np.asarray([rules[k][\"lsup\"] for k in rules])\n",
    "    lcot = np.asarray([rules[k][\"lcot\"] for k in rules])\n",
    "    ldiff = np.asarray([rules[k][\"ldiff\"] for k in rules])\n",
    "    steps = [k for k in rules]\n",
    "    xticks = [\"%d\" % s for s in steps]\n",
    "\n",
    "\n",
    "    plt.figure(0, figsize=(10, 10))\n",
    "    plt.title(title, fontsize=18)\n",
    "    plt.xlabel(\"epochs\", fontsize=14)\n",
    "    plt.ylabel(\"Probabilities\", fontsize=14)\n",
    "    plt.ylim(0, 1)\n",
    "    \n",
    "#     plt.bar(range(len(steps)), lsup, bottom=0, label=\"P lsup\")\n",
    "#     plt.bar(range(len(steps)), lcot, bottom=lsup, label=\"P lcot\")\n",
    "#     plt.bar(range(len(steps)), ldiff, bottom=lsup+lcot, label=\"P ldiff\")\n",
    "    \n",
    "    plt.plot(steps, lsup, marker=\"o\", label=\"P Lsup\")\n",
    "    plt.plot(steps, lcot, marker=\"+\", label=\"P Lcot\", alpha=0.5)\n",
    "    plt.plot(steps, ldiff, marker=\".\", label=\"P Ldiff\")\n",
    "    \n",
    "    plt.xticks(range(len(steps)), xticks)\n",
    "    plt.legend()\n",
    "    plt.show()"
   ]
  },
  {
   "cell_type": "code",
   "execution_count": 173,
   "metadata": {
    "tags": [
     "imgs"
    ]
   },
   "outputs": [
    {
     "data": {
      "image/png": "[encoded data removed]",
      "text/plain": [
       "<Figure size 720x720 with 1 Axes>"
      ]
     },
     "metadata": {
      "needs_background": "light"
     },
     "output_type": "display_data"
    },
    {
     "data": {
      "image/png": "[encoded data removed]",
      "text/plain": [
       "<Figure size 720x720 with 1 Axes>"
      ]
     },
     "metadata": {
      "needs_background": "light"
     },
     "output_type": "display_data"
    }
   ],
   "source": [
    "schedulers = [\n",
    "#     rule_maker_linear, rule_maker_weighted_linear,\n",
    "#     rule_maker_sigmoid, rule_maker_weighted_sigmoid,\n",
    "#     rule_maker_cosine, rule_maker_weighted_cosine,\n",
    "    rule_maker_annealing_cosine, rule_maker_weighted_annealing_cosine,\n",
    "]\n",
    "steps = 10\n",
    "cycle = 8\n",
    "\n",
    "for rule_fn in schedulers:\n",
    "    rules = rule_fn(steps, cycle=cycle, beta=1)\n",
    "    display(rules, rule_fn.__name__[11:])\n"
   ]
  },
  {
   "cell_type": "code",
   "execution_count": 145,
   "metadata": {},
   "outputs": [
    {
     "data": {
      "text/plain": [
       "[<matplotlib.lines.Line2D at 0x7f7faa22b940>]"
      ]
     },
     "execution_count": 145,
     "metadata": {},
     "output_type": "execute_result"
    },
    {
     "data": {
      "image/png": "[encoded data removed]",
      "text/plain": [
       "<Figure size 432x288 with 1 Axes>"
      ]
     },
     "metadata": {
      "needs_background": "light"
     },
     "output_type": "display_data"
    }
   ],
   "source": [
    "step = 10\n",
    "cycle = 10\n",
    "decay = 2\n",
    "hop_length = hop_length = np.linspace(0, args.nb_epoch, step * cycle)\n",
    "\n",
    "# create original steps\n",
    "decaying =  np.exp(-decay*np.linspace(0, 1, len(hop_length)))\n",
    "sup_steps = 0.5 * (decaying * np.cos(np.pi * hop_length / (args.nb_epoch / cycle)) + 1)\n",
    "\n",
    "plt.plot(hop_length, sup_steps)"
   ]
  }
 ],
 "metadata": {
  "kernelspec": {
   "display_name": "dct",
   "language": "python",
   "name": "dct"
  },
  "language_info": {
   "codemirror_mode": {
    "name": "ipython",
    "version": 3
   },
   "file_extension": ".py",
   "mimetype": "text/x-python",
   "name": "python",
   "nbconvert_exporter": "python",
   "pygments_lexer": "ipython3",
   "version": "3.8.0"
  },
  "toc-autonumbering": true
 },
 "nbformat": 4,
 "nbformat_minor": 4
}
