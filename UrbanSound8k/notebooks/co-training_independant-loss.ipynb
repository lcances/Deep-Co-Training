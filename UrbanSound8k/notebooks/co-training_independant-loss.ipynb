{
 "cells": [
  {
   "cell_type": "markdown",
   "metadata": {},
   "source": [
    "# import"
   ]
  },
  {
   "cell_type": "code",
   "execution_count": 1,
   "metadata": {
    "collapsed": false,
    "jupyter": {
     "outputs_hidden": false
    },
    "pycharm": {
     "name": "#%%\n"
    }
   },
   "outputs": [],
   "source": [
    "%load_ext autoreload\n",
    "%autoreload 2"
   ]
  },
  {
   "cell_type": "code",
   "execution_count": 2,
   "metadata": {
    "collapsed": false,
    "jupyter": {
     "outputs_hidden": false
    },
    "pycharm": {
     "name": "#%%\n"
    }
   },
   "outputs": [],
   "source": [
    "import os\n",
    "os.environ[\"MKL_NUM_THREADS\"] = \"2\"\n",
    "os.environ[\"NUMEXPR_NU M_THREADS\"] = \"2\"\n",
    "os.environ[\"OMP_NUM_THREADS\"] = \"2\"\n",
    "import time\n",
    "\n",
    "import numpy as np\n",
    "import torch\n",
    "import torch.nn as nn\n",
    "import torch.utils.data as data\n",
    "import torch.nn.functional as F\n",
    "from torch.optim.lr_scheduler import LambdaLR\n",
    "from torch.utils.tensorboard import SummaryWriter\n",
    "from advertorch.attacks import GradientSignAttack"
   ]
  },
  {
   "cell_type": "code",
   "execution_count": 3,
   "metadata": {
    "collapsed": false,
    "jupyter": {
     "outputs_hidden": false
    },
    "pycharm": {
     "name": "#%%\n"
    }
   },
   "outputs": [],
   "source": [
    "from ubs8k.datasetManager import DatasetManager\n",
    "from ubs8k.datasets import Dataset\n",
    "\n",
    "import sys\n",
    "sys.path.append(\"../..\")\n",
    "\n",
    "from util.utils import reset_seed, get_datetime, get_model_from_name, ZipCycle, load_dataset\n",
    "from metric_utils.metrics import CategoricalAccuracy, FScore, ContinueAverage, Ratio\n",
    "from util.checkpoint import CheckPoint\n",
    "\n",
    "from UrbanSound8k.ramps import Warmup, sigmoid_rampup, sigmoid_rampdown\n",
    "from UrbanSound8k.losses import loss_cot, loss_diff, loss_sup"
   ]
  },
  {
   "cell_type": "markdown",
   "metadata": {},
   "source": [
    "# Arguments"
   ]
  },
  {
   "cell_type": "raw",
   "metadata": {
    "jupyter": {
     "source_hidden": true
    }
   },
   "source": [
    "import argparse\n",
    "parser = argparse.ArgumentParser()\n",
    "parser.add_argument(\"-d\", \"--dataset_root\", default=\"../../datasets\", type=str)\n",
    "parser.add_argument(\"--supervised_ratio\", default=0.1, type=float)\n",
    "parser.add_argument(\"--supervised_mult\", default=1.0, type=float)\n",
    "parser.add_argument(\"-t\", \"--train_folds\", nargs=\"+\", default=[1, 2, 3, 4, 5, 6, 7, 8, 9], type=int)\n",
    "parser.add_argument(\"-v\", \"--val_folds\", nargs=\"+\", default=[10], type=int)\n",
    "\n",
    "parser.add_argument(\"--model\", default=\"cnn03\", type=str)\n",
    "parser.add_argument(\"--batch_size\", default=100, type=int)\n",
    "parser.add_argument(\"--nb_epoch\", default=1000, type=int)\n",
    "parser.add_argument(\"--learning_rate\", default=0.0005, type=int)\n",
    "\n",
    "parser.add_argument(\"--lambda_cot_max\", default=1, type=float)\n",
    "parser.add_argument(\"--lambda_diff_max\", default=1, type=float)\n",
    "parser.add_argument(\"--warmup_length\", default=1, type=int) # kept for retrocompatibility, equal nb epoch \n",
    "parser.add_argument(\"--epsilon\", default=0.02, type=float)\n",
    "\n",
    "parser.add_argument(\"--loss_scheduler\", default=\"weighted-linear\", type=str)\n",
    "parser.add_argument(\"--loss_scheduler_steps\", default=10, type=int)\n",
    "parser.add_argument(\"--loss_scheduler_cycle\", default=1, type=int)\n",
    "parser.add_argument(\"--loss_scheduler_beta\", default=1, type=int)\n",
    "\n",
    "parser.add_argument(\"--augment\", action=\"append\", help=\"augmentation. use as if python script\")\n",
    "parser.add_argument(\"--augment_S\", action=\"store_true\", help=\"Apply augmentation on Supervised part\")\n",
    "parser.add_argument(\"--augment_U\", action=\"store_true\", help=\"Apply augmentation on Unsupervised part\")\n",
    "\n",
    "parser.add_argument(\"--checkpoint_path\", default=\"../model_save/deep-co-training_independant-loss/test\", type=str)\n",
    "parser.add_argument(\"--resume\", action=\"store_true\", default=False)\n",
    "parser.add_argument(\"--tensorboard_path\", default=\"../tensorboard/deep-co-training_independant-loss/test\", type=str)\n",
    "parser.add_argument(\"--tensorboard_sufix\", default=\"\", type=str)\n",
    "\n",
    "\n",
    "\n",
    "args = parser.parse_args(\"\")\n",
    "\n",
    "# args.warmup_length = args.nb_epoch"
   ]
  },
  {
   "cell_type": "code",
   "execution_count": 34,
   "metadata": {
    "collapsed": false,
    "jupyter": {
     "outputs_hidden": false
    },
    "pycharm": {
     "name": "#%%\n"
    },
    "tags": [
     "new_run"
    ]
   },
   "outputs": [],
   "source": [
    "import argparse\n",
    "parser = argparse.ArgumentParser()\n",
    "\n",
    "\n",
    "parser.add_argument(\"-d\", \"--dataset_root\", default=\"../../datasets\", type=str)\n",
    "parser.add_argument(\"-D\", \"--dataset\", default=\"cifar10\", type=str, help=\"available [ubs8k | cifar10]\")\n",
    "# parser.add_argument(\"--supervised_mult\", default=1.0, type=float)\n",
    "\n",
    "group_t = parser.add_argument_group(\"Commun parameters\")\n",
    "group_t.add_argument(\"-m\", \"--model\", default=\"cnn03\", type=str)\n",
    "group_t.add_argument(\"--supervised_ratio\", default=0.1, type=float)\n",
    "group_t.add_argument(\"--batch_size\", default=100, type=int)\n",
    "group_t.add_argument(\"--nb_epoch\", default=1000, type=int)\n",
    "group_t.add_argument(\"--learning_rate\", default=0.0005, type=float)\n",
    "group_t.add_argument(\"--resume\", action=\"store_true\", default=False)\n",
    "group_t.add_argument(\"--seed\", default=1234, type=int)\n",
    "\n",
    "group_u = parser.add_argument_group(\"UrbanSound8k parameters\")\n",
    "group_u.add_argument(\"-t\", \"--train_folds\", nargs=\"+\", default=[1, 2, 3, 4, 5, 6, 7, 8, 9], type=int)\n",
    "group_u.add_argument(\"-v\", \"--val_folds\", nargs=\"+\", default=[10], type=int)\n",
    "\n",
    "group_c = parser.add_argument_group(\"Cifar10 parameters\")\n",
    "\n",
    "group_h = parser.add_argument_group('hyperparameters')\n",
    "group_h.add_argument(\"--lambda_cot_max\", default=1, type=float)\n",
    "group_h.add_argument(\"--lambda_diff_max\", default=1, type=float)\n",
    "group_h.add_argument(\"--warmup_length\", default=1000, type=int)\n",
    "group_h.add_argument(\"--epsilon\", default=0.02, type=float)\n",
    "\n",
    "group = parser.add_argument_group('uniloss')\n",
    "group.add_argument(\"--loss_scheduler\", default=\"weighted-linear\", type=str)\n",
    "group.add_argument(\"--steps\", default=10, type=int)\n",
    "group.add_argument(\"--cycle\", default=1, type=int)\n",
    "group.add_argument(\"--beta\", default=1, type=int)\n",
    "group.add_argument(\"--plsup_mini\", default=0.0, type=float)\n",
    "\n",
    "group_a = parser.add_argument_group(\"Augmentation\")\n",
    "group_a.add_argument(\"--augment\", action=\"append\", help=\"augmentation. use as if python script\")\n",
    "group_a.add_argument(\"--augment_S\", action=\"store_true\", help=\"Apply augmentation on Supervised part\")\n",
    "group_a.add_argument(\"--augment_U\", action=\"store_true\", help=\"Apply augmentation on Unsupervised part\")\n",
    "\n",
    "group_l = parser.add_argument_group(\"Logs\")\n",
    "group_l.add_argument(\"--checkpoint_path\", default=\"../../model_save/ubs8k/deep-co-training_independant-loss\", type=str)\n",
    "group_l.add_argument(\"--tensorboard_path\", default=\"../../tensorboard/ubs8k/deep-co-training_independant-loss\", type=str)\n",
    "group_l.add_argument(\"--tensorboard_sufix\", default=\"\", type=str)\n",
    "\n",
    "args = parser.parse_args(\"\")"
   ]
  },
  {
   "cell_type": "code",
   "execution_count": 35,
   "metadata": {},
   "outputs": [
    {
     "data": {
      "text/plain": [
       "Namespace(augment=None, augment_S=False, augment_U=False, batch_size=100, beta=1, checkpoint_path='../../model_save/ubs8k/deep-co-training_independant-loss', cycle=1, dataset='cifar10', dataset_root='../../datasets', epsilon=0.02, lambda_cot_max=1, lambda_diff_max=1, learning_rate=0.0005, loss_scheduler='weighted-linear', model='cnn03', nb_epoch=1000, plsup_mini=0.0, resume=False, seed=1234, steps=10, supervised_ratio=0.1, tensorboard_path='../../tensorboard/ubs8k/deep-co-training_independant-loss', tensorboard_sufix='', train_folds=[1, 2, 3, 4, 5, 6, 7, 8, 9], val_folds=[10], warmup_length=1000)"
      ]
     },
     "execution_count": 35,
     "metadata": {},
     "output_type": "execute_result"
    }
   ],
   "source": [
    "args"
   ]
  },
  {
   "cell_type": "raw",
   "metadata": {},
   "source": []
  },
  {
   "cell_type": "code",
   "execution_count": 27,
   "metadata": {
    "tags": [
     "new_run"
    ]
   },
   "outputs": [],
   "source": [
    "reset_seed(1234)"
   ]
  },
  {
   "cell_type": "markdown",
   "metadata": {},
   "source": [
    "## Prepare the dataset"
   ]
  },
  {
   "cell_type": "code",
   "execution_count": 7,
   "metadata": {
    "pycharm": {
     "name": "#%%\n"
    }
   },
   "outputs": [],
   "source": [
    "# audio_root = os.path.join(args.dataset_root, \"audio\")\n",
    "# metadata_root = os.path.join(args.dataset_root, \"metadata\")\n",
    "# all_folds = args.train_folds + args.val_folds\n",
    "\n",
    "# manager = DatasetManager(\n",
    "#     metadata_root, audio_root,\n",
    "#     folds=all_folds,\n",
    "#     verbose=2\n",
    "# )\n"
   ]
  },
  {
   "cell_type": "markdown",
   "metadata": {},
   "source": [
    "## Rules makers"
   ]
  },
  {
   "cell_type": "code",
   "execution_count": 8,
   "metadata": {
    "tags": [
     "new_run",
     "imgs"
    ]
   },
   "outputs": [],
   "source": [
    "def uniform_rule(step: int = 0, **kwargs):\n",
    "    sup_steps = [0.34 for _ in range(step)]\n",
    "    cot_steps = [0.33 for _ in range(step)]\n",
    "    diff_steps = [0.33 for _ in range(step)]\n",
    "    \n",
    "    return sup_steps, cot_steps, diff_steps\n",
    "\n",
    "\n",
    "def weighted_uniform_rule(step: int = 10, **kwargs):\n",
    "    lcm = args.lambda_cot_max\n",
    "    ldm = args.lambda_diff_max\n",
    "    lsm = 1\n",
    "    \n",
    "    sup_steps = [lsm * 0.34 for _ in range(step)]\n",
    "    cot_steps = [lcm * 0.33 for _ in range(step)]\n",
    "    diff_steps = [ldm * 0.33 for _ in range(step)]\n",
    "    \n",
    "    # normalize\n",
    "    for i in range(step):\n",
    "        summed = sup_steps[i] + cot_steps[i] + diff_steps[i]\n",
    "        sup_steps[i] /= summed\n",
    "        cot_steps[i] /= summed\n",
    "        diff_steps[i] /= summed\n",
    "        \n",
    "    return sup_steps, cot_steps, diff_steps\n",
    "\n",
    "def linear_rule(step: int = 10, plsup_mini = 0.0, **kwargs):\n",
    "    lcm = args.lambda_cot_max\n",
    "    ldm = args.lambda_diff_max\n",
    "    lsm = 0\n",
    "    \n",
    "    s_start, s_end = 1, lsm \n",
    "    c_start, c_end = 0, lcm\n",
    "    d_start, d_end = 0, ldm\n",
    "    \n",
    "    # normalize\n",
    "    total = s_end + c_end + d_end\n",
    "    s_end /= total\n",
    "    c_end /= total\n",
    "    d_end /= total\n",
    "    \n",
    "    if s_end < plsup_mini:\n",
    "        s_end = plsup_mini\n",
    "        c_end = c_end - (plsup_mini / 2)\n",
    "        d_end = d_end - (plsup_mini / 2)\n",
    "    \n",
    "    sup_steps = np.linspace(s_start, s_end, step)\n",
    "    cot_steps = np.linspace(d_start, c_end, step)\n",
    "    diff_steps = np.linspace(d_start, d_end, step)\n",
    "    \n",
    "    return sup_steps, cot_steps, diff_steps\n",
    "\n",
    "def weighted_linear_rule(step: int = 10, **kwargs):\n",
    "    lcm = args.lambda_cot_max\n",
    "    ldm = args.lambda_diff_max\n",
    "    lsm = 1\n",
    "    total = lcm + ldm + lsm\n",
    "    \n",
    "    # normalize\n",
    "    lcm /= total\n",
    "    ldm /= total\n",
    "    lsm /= total\n",
    "    \n",
    "    sup_steps = np.linspace(1, lsm, step)\n",
    "    cot_steps = np.linspace(0, lcm, step)\n",
    "    diff_steps = np.linspace(0, ldm, step)\n",
    "    \n",
    "    return sup_steps, cot_steps, diff_steps\n",
    "\n",
    "def cosine_rule(step: int = 10, cycle: int = 1, **kwargs):\n",
    "    hop_length = np.linspace(0, args.nb_epoch, step * cycle)\n",
    "    \n",
    "    sup_steps = 0.5 * (np.cos(np.pi * hop_length / (args.nb_epoch / cycle)) + 1)\n",
    "    cot_steps = 1 - (0.5 * (np.cos(np.pi * hop_length / (args.nb_epoch / cycle)) + 1))\n",
    "    diff_steps =  1 - (0.5 * (np.cos(np.pi * hop_length / (args.nb_epoch / cycle)) + 1))\n",
    "    \n",
    "    # normalize\n",
    "    for i in range(step * cycle):\n",
    "        summed = sup_steps[i] + cot_steps[i] + diff_steps[i]\n",
    "        sup_steps[i] /= summed\n",
    "        cot_steps[i] /= summed\n",
    "        diff_steps[i] /= summed\n",
    "        \n",
    "    return sup_steps, cot_steps, diff_steps\n",
    "\n",
    "def weighted_cosine_rule(step: int = 10, cycle: int = 1, **kwargs):\n",
    "    lcm = args.lambda_cot_max\n",
    "    ldm = args.lambda_diff_max\n",
    "    lsm = 1\n",
    "    \n",
    "    hop_length = np.linspace(0, args.nb_epoch, step * cycle)\n",
    "    \n",
    "    sup_steps = 0.5 * (np.cos(np.pi * hop_length / (args.nb_epoch / cycle)) + 1)\n",
    "    cot_steps = 1 - (0.5 * (np.cos(np.pi * hop_length / (args.nb_epoch / cycle)) + 1))\n",
    "    diff_steps =  1 - (0.5 * (np.cos(np.pi * hop_length / (args.nb_epoch / cycle)) + 1))\n",
    "    \n",
    "    sup_steps *= lsm\n",
    "    cot_steps *= lcm\n",
    "    diff_steps *= ldm\n",
    "    \n",
    "    # normalize\n",
    "    for i in range(step * cycle):\n",
    "        summed = sup_steps[i] + cot_steps[i] + diff_steps[i]\n",
    "        sup_steps[i] /= summed\n",
    "        cot_steps[i] /= summed\n",
    "        diff_steps[i] /= summed\n",
    "        \n",
    "    return sup_steps, cot_steps, diff_steps\n",
    "\n",
    "def annealing_cosine_rule(step: int = 10, cycle: int = 1, beta: float = 2, **kwargs):\n",
    "    hop_length = np.linspace(0, args.nb_epoch, step * cycle)\n",
    "    \n",
    "    # create original steps\n",
    "    decaying =  np.exp(-beta * np.linspace(0, 1, len(hop_length)))\n",
    "    \n",
    "    sup_steps = 0.5 * (decaying * np.cos(np.pi * hop_length / (args.nb_epoch / cycle)) + 1)\n",
    "    cot_steps = 1 - (0.5 * (decaying * np.cos(np.pi * hop_length / (args.nb_epoch / cycle)) + 1))\n",
    "    diff_steps =  1 - (0.5 * (decaying * np.cos(np.pi * hop_length / (args.nb_epoch / cycle)) + 1))\n",
    "    \n",
    "    # normalize\n",
    "    for i in range(step * cycle):\n",
    "        summed = sup_steps[i] + cot_steps[i] + diff_steps[i]\n",
    "        sup_steps[i] /= summed\n",
    "        cot_steps[i] /= summed\n",
    "        diff_steps[i] /= summed\n",
    "        \n",
    "    return sup_steps, cot_steps, diff_steps\n",
    "\n",
    "def weighted_annealing_cosine_rule(step: int = 10, cycle: int = 1, beta: float = 2, **kwargs):\n",
    "    lcm = args.lambda_cot_max\n",
    "    ldm = args.lambda_diff_max\n",
    "    lsm = 1\n",
    "    \n",
    "    print(\"step: \", step)\n",
    "    print(\"cycle: \", cycle)\n",
    "    print(\"beta: \", beta)\n",
    "    \n",
    "    hop_length = np.linspace(0, args.nb_epoch, step * cycle)\n",
    "    \n",
    "    # create original steps\n",
    "    decaying =  np.exp(-beta * np.linspace(0, 1, len(hop_length)))\n",
    "    \n",
    "    sup_steps = 0.5 * (decaying * np.cos(np.pi * hop_length / (args.nb_epoch / cycle)) + 1)\n",
    "    cot_steps = 1 - (0.5 * (decaying * np.cos(np.pi * hop_length / (args.nb_epoch / cycle)) + 1))\n",
    "    diff_steps =  1 - (0.5 * (decaying * np.cos(np.pi * hop_length / (args.nb_epoch / cycle)) + 1))\n",
    "    \n",
    "    sup_steps *= lsm\n",
    "    cot_steps *= lcm\n",
    "    diff_steps *= ldm\n",
    "    \n",
    "    # normalize\n",
    "    for i in range(step * cycle):\n",
    "        summed = sup_steps[i] + cot_steps[i] + diff_steps[i]\n",
    "        sup_steps[i] /= summed\n",
    "        cot_steps[i] /= summed\n",
    "        diff_steps[i] /= summed\n",
    "        \n",
    "    return sup_steps, cot_steps, diff_steps\n",
    "\n",
    "def sigmoid_rule(step: int = 10, **kwargs):\n",
    "    hop_length = np.linspace(0, args.nb_epoch, step)\n",
    "    \n",
    "    sup_steps = np.asarray([sigmoid_rampdown(x, args.nb_epoch) for x in hop_length])\n",
    "    cot_steps = np.asarray([sigmoid_rampup(x, args.nb_epoch) for x in hop_length])\n",
    "    diff_steps = np.asarray([sigmoid_rampup(x, args.nb_epoch) for x in hop_length])\n",
    "    \n",
    "    # normalize\n",
    "    for i in range(step):\n",
    "        summed = sup_steps[i] + cot_steps[i] + diff_steps[i]\n",
    "        sup_steps[i] /= summed\n",
    "        cot_steps[i] /= summed\n",
    "        diff_steps[i] /= summed\n",
    "        \n",
    "    return sup_steps, cot_steps, diff_steps\n",
    "\n",
    "def weighted_sigmoid_rule(step: int = 10, **kwargs):\n",
    "    lcm = args.lambda_cot_max\n",
    "    ldm = args.lambda_diff_max\n",
    "    lsm = 1\n",
    "\n",
    "    hop_length = np.linspace(0, args.nb_epoch, step)\n",
    "    \n",
    "    sup_steps = np.asarray([lsm * sigmoid_rampdown(x, args.nb_epoch) for x in hop_length])\n",
    "    cot_steps = np.asarray([lcm * sigmoid_rampup(x, args.nb_epoch) for x in hop_length])\n",
    "    diff_steps = np.asarray([ldm * sigmoid_rampup(x, args.nb_epoch) for x in hop_length])\n",
    "    \n",
    "    # normalize\n",
    "    for i in range(step):\n",
    "        summed = sup_steps[i] + cot_steps[i] + diff_steps[i]\n",
    "        sup_steps[i] /= summed\n",
    "        cot_steps[i] /= summed\n",
    "        diff_steps[i] /= summed\n",
    "        \n",
    "    return sup_steps, cot_steps, diff_steps\n",
    "\n",
    "def loss_chooser(epoch):\n",
    "    for k in reversed(rules.keys()):\n",
    "        if epoch >= k:\n",
    "            chance = list(rules[k].values())\n",
    "            break\n",
    "    \n",
    "    loss_function = [\"sup\", \"cot\", \"diff\"]\n",
    "    return np.random.choice(loss_function, p=chance)\n",
    "\n",
    "def rule_maker(rule_fn, steps: int = 10, **kwargs):\n",
    "    p_lsup, p_lcot, p_ldiff = rule_fn(steps, **kwargs)\n",
    "    \n",
    "    hop_length = np.linspace(0, args.nb_epoch, len(p_lsup))\n",
    "    \n",
    "    rules = dict()\n",
    "    for i, epoch in enumerate(hop_length):\n",
    "        rules[epoch] = {\"lsup\": p_lsup[i], \"lcot\": p_lcot[i], \"ldiff\": p_ldiff[i]}\n",
    "        \n",
    "    return rules\n",
    "\n",
    "def rule_chooser(rule_str):\n",
    "    mapper = {\n",
    "        \"uniform\": uniform_rule,\n",
    "        \"weighted-uniform\": weighted_uniform_rule,\n",
    "        \"linear\": linear_rule,\n",
    "        \"weighted-linear\": weighted_linear_rule,\n",
    "        \"sigmoid\": sigmoid_rule,\n",
    "        \"weighted-sigmoid\": weighted_sigmoid_rule,\n",
    "        \"cosine\": cosine_rule,\n",
    "        \"weighted-cosine\": weighted_cosine_rule,\n",
    "        \"annealing-cosine\": annealing_cosine_rule,\n",
    "        \"weighted-annealing-cosine\": weighted_annealing_cosine_rule,\n",
    "    }\n",
    "    \n",
    "    if rule_str not in mapper:\n",
    "        raise ValueError(\"Loss scheduler must be from [%s]\" % (\", \".join(mapper.keys())))\n",
    "        \n",
    "    return mapper[rule_str]"
   ]
  },
  {
   "cell_type": "markdown",
   "metadata": {},
   "source": [
    "def weighted_linear_rule(step: int = 10, **kwargs):\n",
    "    lcm = args.lambda_cot_max\n",
    "    ldm = args.lambda_diff_max\n",
    "    lsm = 1\n",
    "    total = lcm + ldm + lsm\n",
    "    \n",
    "    # normalize\n",
    "    lcm /= total\n",
    "    ldm /= total\n",
    "    lsm /= total\n",
    "    \n",
    "    sup_steps = np.linspace(1, lsm, step)\n",
    "    cot_steps = np.linspace(0, lcm, step)\n",
    "    diff_steps = np.linspace(0, ldm, step)\n",
    "    \n",
    "    return sup_steps, cot_steps, diff_steps\n"
   ]
  },
  {
   "cell_type": "code",
   "execution_count": 9,
   "metadata": {
    "tags": [
     "new_run"
    ]
   },
   "outputs": [
    {
     "name": "stdout",
     "output_type": "stream",
     "text": [
      "<function weighted_linear_rule at 0x7f73cfbc73a0>\n"
     ]
    }
   ],
   "source": [
    "scheduler_args = dict(\n",
    "    steps = args.steps,\n",
    "    cycle=args.cycle,\n",
    "    beta=args.beta,\n",
    "    plsup_mini=0.0,\n",
    ")\n",
    "\n",
    "rule_fn = rule_chooser(args.loss_scheduler)\n",
    "print(rule_fn)\n",
    "rules = rule_maker(rule_fn, **scheduler_args)"
   ]
  },
  {
   "cell_type": "code",
   "execution_count": 10,
   "metadata": {
    "tags": [
     "new_run"
    ]
   },
   "outputs": [
    {
     "data": {
      "image/png": "[encoded data removed]",
      "text/plain": [
       "<Figure size 720x720 with 1 Axes>"
      ]
     },
     "metadata": {
      "needs_background": "light"
     },
     "output_type": "display_data"
    }
   ],
   "source": [
    "def create_fig(rules):\n",
    "    import matplotlib.pyplot as plt\n",
    "    lsup = np.asarray([rules[k][\"lsup\"] for k in rules])\n",
    "    lcot = np.asarray([rules[k][\"lcot\"] for k in rules])\n",
    "    ldiff = np.asarray([rules[k][\"ldiff\"] for k in rules])\n",
    "    steps = [k for k in rules]\n",
    "    xticks = [\"%d\" % s for s in steps]\n",
    "\n",
    "\n",
    "    fig = plt.figure(0, figsize=(10, 10))\n",
    "    plt.title(\"linear rule\", fontsize=18)\n",
    "    plt.xlabel(\"epochs\", fontsize=14)\n",
    "    plt.ylabel(\"Probabilities\", fontsize=14)\n",
    "    plt.ylim(0, 1)\n",
    "\n",
    "    # plt.bar(range(len(steps)), lsup, bottom=0, label=\"P lsup\")\n",
    "    # plt.bar(range(len(steps)), lcot, bottom=lsup, label=\"P lcot\")\n",
    "    # plt.bar(range(len(steps)), ldiff, bottom=lsup+lcot, label=\"P ldiff\")\n",
    "#     plt.xticks(range(len(steps)), xticks)\n",
    "\n",
    "    plt.plot(steps, lsup, marker=\"o\", label=\"P Lsup\")\n",
    "    plt.plot(steps, lcot, marker=\"+\", label=\"P Lcot\", alpha=0.5)\n",
    "    plt.plot(steps, ldiff, marker=\".\", label=\"P Ldiff\")\n",
    "#     plt.xticks(steps, xticks)\n",
    "\n",
    "    plt.legend()\n",
    "    plt.show()\n",
    "    \n",
    "    return fig\n",
    "fig = create_fig(rules)"
   ]
  },
  {
   "cell_type": "markdown",
   "metadata": {},
   "source": [
    "# Load the dataset and create the dataloader"
   ]
  },
  {
   "cell_type": "code",
   "execution_count": 38,
   "metadata": {
    "collapsed": false,
    "jupyter": {
     "outputs_hidden": false
    },
    "pycharm": {
     "name": "#%%\n"
    },
    "tags": [
     "new_run"
    ]
   },
   "outputs": [
    {
     "name": "stdout",
     "output_type": "stream",
     "text": [
      "Files already downloaded and verified\n",
      "Files already downloaded and verified\n"
     ]
    }
   ],
   "source": [
    "manager, train_loader, val_loader = load_dataset(\n",
    "    args.dataset,\n",
    "    dataset_root = args.dataset_root,\n",
    "    supervised_ratio = args.supervised_ratio,\n",
    "    batch_size = args.batch_size,\n",
    "    train_folds = args.train_folds,\n",
    "    val_folds = args.val_folds,\n",
    "    verbose = 2\n",
    ")"
   ]
  },
  {
   "cell_type": "markdown",
   "metadata": {
    "pycharm": {
     "name": "#%% md\n"
    },
    "tags": [
     "new_run"
    ]
   },
   "source": [
    "## Models"
   ]
  },
  {
   "cell_type": "code",
   "execution_count": 23,
   "metadata": {
    "pycharm": {
     "name": "#%%\n"
    },
    "tags": [
     "new_run"
    ]
   },
   "outputs": [],
   "source": [
    "torch.cuda.empty_cache()\n",
    "model_func = get_model_from_name(args.model)\n",
    "\n",
    "m1, m2 = model_func(manager=manager), model_func(manager=manager)\n",
    "\n",
    "m1 = m1.cuda()\n",
    "m2 = m2.cuda()"
   ]
  },
  {
   "cell_type": "markdown",
   "metadata": {
    "pycharm": {
     "name": "#%% md\n"
    }
   },
   "source": [
    "## Adversarial generator"
   ]
  },
  {
   "cell_type": "code",
   "execution_count": 24,
   "metadata": {
    "pycharm": {
     "is_executing": false,
     "name": "#%%\n"
    },
    "tags": [
     "new_run"
    ]
   },
   "outputs": [],
   "source": [
    "# adversarial generation\n",
    "adv_generator_1 = GradientSignAttack(\n",
    "    m1, loss_fn=nn.CrossEntropyLoss(reduction=\"sum\"),\n",
    "    eps=args.epsilon, clip_min=-80, clip_max=0, targeted=True\n",
    ")\n",
    "\n",
    "adv_generator_2 = GradientSignAttack(\n",
    "    m2, loss_fn=nn.CrossEntropyLoss(reduction=\"sum\"),\n",
    "    eps=args.epsilon, clip_min=-80, clip_max=0, targeted=True\n",
    ")"
   ]
  },
  {
   "cell_type": "markdown",
   "metadata": {
    "pycharm": {
     "name": "#%% md\n"
    }
   },
   "source": [
    "## training parameters"
   ]
  },
  {
   "cell_type": "code",
   "execution_count": 27,
   "metadata": {
    "pycharm": {
     "name": "#%%\n"
    },
    "tags": [
     "new_run"
    ]
   },
   "outputs": [],
   "source": [
    "# tensorboard\n",
    "tensorboard_title = \"%s_%s_%.1f_%se_%slr_%sw_%s-rfn_%ss\" % (get_datetime(), model_func.__name__, args.supervised_ratio, args.nb_epoch, args.learning_rate, args.warmup_length, rule_fn.__name__, args.steps)\n",
    "checkpoint_title =  \"%s_%.1f_%se_%slr_%sw_%s-rfn_%ss\" % (model_func.__name__, args.supervised_ratio, args.nb_epoch, args.learning_rate, args.warmup_length, rule_fn.__name__, args.steps)\n",
    "tensorboard = SummaryWriter(log_dir=\"%s/%s\" % (args.tensorboard_path, tensorboard_title), comment=model_func.__name__)\n",
    "\n",
    "# Losses\n",
    "# see losses.py\n",
    "\n",
    "# Optimizer\n",
    "params = list(m1.parameters()) + list(m2.parameters())\n",
    "optimizer = torch.optim.Adam(params, lr=args.learning_rate)\n",
    "\n",
    "# define the warmups\n",
    "lambda_cot = Warmup(args.lambda_cot_max, args.warmup_length, sigmoid_rampup)\n",
    "lambda_diff = Warmup(args.lambda_diff_max, args.warmup_length, sigmoid_rampup)\n",
    "\n",
    "# callback\n",
    "lr_lambda = lambda epoch: (1.0 + np.cos((epoch-1) * np.pi / args.nb_epoch))\n",
    "lr_scheduler = LambdaLR(optimizer, lr_lambda)\n",
    "callbacks = [lr_scheduler, lambda_cot, lambda_diff]\n",
    "\n",
    "# checkpoints\n",
    "checkpoint_m1 = CheckPoint(m1, optimizer, mode=\"max\", name=\"%s/%s_m1.torch\" % (args.checkpoint_path, checkpoint_title))\n",
    "\n",
    "# metrics\n",
    "metrics_fn = dict(\n",
    "    ratio_s=[Ratio(), Ratio()],\n",
    "    ratio_u=[Ratio(), Ratio()],\n",
    "    acc_s=[CategoricalAccuracy(), CategoricalAccuracy()],\n",
    "    acc_u=[CategoricalAccuracy(), CategoricalAccuracy()],\n",
    "    f1_s=[FScore(), FScore()],\n",
    "    f1_u=[FScore(), FScore()],\n",
    "    \n",
    "    avg_total=ContinueAverage(),\n",
    "    avg_sup=ContinueAverage(),\n",
    "    avg_cot=ContinueAverage(),\n",
    "    avg_diff=ContinueAverage(),\n",
    ")\n",
    "\n",
    "def reset_metrics():\n",
    "    for item in metrics_fn.values():\n",
    "        if isinstance(item, list):\n",
    "            for f in item:\n",
    "                f.reset()\n",
    "        else:\n",
    "            item.reset()"
   ]
  },
  {
   "cell_type": "code",
   "execution_count": 28,
   "metadata": {
    "pycharm": {
     "name": "#%%\n"
    },
    "tags": [
     "new_run"
    ]
   },
   "outputs": [],
   "source": [
    "reset_metrics()"
   ]
  },
  {
   "cell_type": "markdown",
   "metadata": {
    "pycharm": {
     "name": "#%% md\n"
    }
   },
   "source": [
    "## Can resume previous training"
   ]
  },
  {
   "cell_type": "code",
   "execution_count": 29,
   "metadata": {
    "tags": [
     "new_run"
    ]
   },
   "outputs": [
    {
     "data": {
      "text/plain": [
       "False"
      ]
     },
     "execution_count": 29,
     "metadata": {},
     "output_type": "execute_result"
    }
   ],
   "source": [
    "args.resume"
   ]
  },
  {
   "cell_type": "code",
   "execution_count": 30,
   "metadata": {
    "pycharm": {
     "name": "#%%\n"
    },
    "tags": [
     "new_run"
    ]
   },
   "outputs": [],
   "source": [
    "if args.resume:\n",
    "    checkpoint_m1.load_last()"
   ]
  },
  {
   "cell_type": "markdown",
   "metadata": {
    "pycharm": {
     "name": "#%% md\n"
    }
   },
   "source": [
    "## Metrics and hyperparameters"
   ]
  },
  {
   "cell_type": "code",
   "execution_count": 31,
   "metadata": {
    "pycharm": {
     "name": "#%%\n"
    },
    "tags": [
     "new_run"
    ]
   },
   "outputs": [],
   "source": [
    "def get_lr(optimizer):\n",
    "    for param_group in optimizer.param_groups:\n",
    "        return param_group['lr']\n",
    "    \n",
    "def maximum():\n",
    "    def func(key, value):\n",
    "        if key not in func.max:\n",
    "            func.max[key] = value\n",
    "        else:\n",
    "            if func.max[key] < value:\n",
    "                func.max[key] = value\n",
    "        return func.max[key]\n",
    "\n",
    "    func.max = dict()\n",
    "    return func\n",
    "maximum_fn = maximum()"
   ]
  },
  {
   "cell_type": "markdown",
   "metadata": {
    "pycharm": {
     "name": "#%% md\n"
    }
   },
   "source": [
    "# Training functions"
   ]
  },
  {
   "cell_type": "code",
   "execution_count": 32,
   "metadata": {
    "tags": [
     "new_run"
    ]
   },
   "outputs": [
    {
     "name": "stdout",
     "output_type": "stream",
     "text": [
      "         Epoch  - %      - Losses:  Lsup   | Lcot   | Ldiff  | total  - metrics:  acc_s1    | acc_u1   - Time  \n"
     ]
    }
   ],
   "source": [
    "UNDERLINE_SEQ = \"\\033[1;4m\"\n",
    "\n",
    "RESET_SEQ = \"\\033[0m\"\n",
    "\n",
    "\n",
    "header_form = \"{:<8.8} {:<6.6} - {:<6.6} - {:<8.8} {:<6.6} | {:<6.6} | {:<6.6} | {:<6.6} - {:<9.9} {:<9.9} | {:<9.9}- {:<6.6}\"\n",
    "value_form  = \"{:<8.8} {:<6} - {:<6} - {:<8.8} {:<6.4f} | {:<6.4f} | {:<6.4f} | {:<6.4f} - {:<9.9} {:<9.4f} | {:<9.4f}- {:<6.4f}\"\n",
    "\n",
    "header = header_form.format(\n",
    "    \"\", \"Epoch\", \"%\", \"Losses:\", \"Lsup\", \"Lcot\", \"Ldiff\", \"total\", \"metrics: \", \"acc_s1\", \"acc_u1\",\"Time\"\n",
    ")\n",
    "\n",
    "train_form = value_form\n",
    "val_form = UNDERLINE_SEQ + value_form + RESET_SEQ\n",
    "\n",
    "def mprint(epoch, msg, end):\n",
    "    if epoch % 10 == 0:\n",
    "        print(msg, end=end)\n",
    "        \n",
    "print(header)"
   ]
  },
  {
   "cell_type": "markdown",
   "metadata": {},
   "source": [
    "## Train sup"
   ]
  },
  {
   "cell_type": "code",
   "execution_count": 33,
   "metadata": {
    "tags": [
     "new_run"
    ]
   },
   "outputs": [],
   "source": [
    "def train_sup_helper(start_time, epoch, batch, x_s1, x_s2, y_s1, y_s2):\n",
    "    x_s1, x_s2, = x_s1.cuda(), x_s2.cuda()\n",
    "    y_s1, y_s2, = y_s1.cuda(), y_s2.cuda()\n",
    "\n",
    "    logits_s1 = m1(x_s1)\n",
    "    logits_s2 = m2(x_s2)\n",
    "\n",
    "    l_sup = loss_sup(logits_s1, logits_s2, y_s1, y_s2)\n",
    "    total_loss = l_sup\n",
    "    \n",
    "    optimizer.zero_grad()\n",
    "    total_loss.backward()\n",
    "    optimizer.step()\n",
    "    \n",
    "    # Calc the metrics\n",
    "    with torch.set_grad_enabled(False):\n",
    "\n",
    "        # accuracies ----\n",
    "        pred_s1 = torch.argmax(logits_s1, dim=1)\n",
    "        pred_s2 = torch.argmax(logits_s2, dim=1)\n",
    "\n",
    "        acc_s1 = metrics_fn[\"acc_s\"][0](pred_s1, y_s1)\n",
    "        acc_s2 = metrics_fn[\"acc_s\"][1](pred_s2, y_s2)\n",
    "\n",
    "        avg_total = metrics_fn[\"avg_total\"](total_loss.item())\n",
    "        avg_sup = metrics_fn[\"avg_sup\"](l_sup.item())\n",
    "\n",
    "        # logs\n",
    "        mprint(epoch, train_form.format(\n",
    "            \"Training: \",\n",
    "            epoch + 1,\n",
    "            int(100 * (batch + 1) / len(train_loader)),\n",
    "            \"\", avg_sup.mean, 0.0, 0.0, avg_total.mean,\n",
    "            \"\", acc_s1.mean, 0.0,\n",
    "            time.time() - start_time\n",
    "        ), end=\"\\r\")\n",
    "\n",
    "    # using tensorboard to monitor loss and acc\\n\",\n",
    "    tensorboard.add_scalar('train/total_loss', avg_total.mean, epoch)\n",
    "    tensorboard.add_scalar('train/Lsup', avg_sup.mean, epoch )\n",
    "    tensorboard.add_scalar(\"train/acc_1\", acc_s1.mean, epoch )\n",
    "    tensorboard.add_scalar(\"train/acc_2\", acc_s2.mean, epoch )\n",
    "\n",
    "    tensorboard.add_scalar(\"detail_acc/acc_s1\", acc_s1.mean, epoch)\n",
    "    tensorboard.add_scalar(\"detail_acc/acc_s2\", acc_s2.mean, epoch)\n",
    "\n",
    "    # Return the total loss to check for NaN\n",
    "    return total_loss.item()\n",
    "    "
   ]
  },
  {
   "cell_type": "markdown",
   "metadata": {},
   "source": [
    "## Train cot"
   ]
  },
  {
   "cell_type": "code",
   "execution_count": 34,
   "metadata": {
    "tags": [
     "new_run"
    ]
   },
   "outputs": [],
   "source": [
    "def train_cot_helper(start_time, epoch, batch, x_u, y_u):\n",
    "    x_u = x_u.cuda()\n",
    "    y_u = y_u.cuda()\n",
    "\n",
    "    logits_u1 = m1(x_u)\n",
    "    logits_u2 = m2(x_u)\n",
    "\n",
    "    l_cot = loss_cot(logits_u1, logits_u2)\n",
    "    total_loss = l_cot * args.lambda_cot_max\n",
    "\n",
    "    optimizer.zero_grad()\n",
    "    total_loss.backward()\n",
    "    optimizer.step()\n",
    "\n",
    "    # ======== Calc the metrics ========\n",
    "    with torch.set_grad_enabled(False):\n",
    "        pred_u1 = torch.argmax(logits_u1, 1)\n",
    "        pred_u2 = torch.argmax(logits_u2, 1)\n",
    "        acc_u1 = metrics_fn[\"acc_u\"][0](pred_u1, y_u)\n",
    "        acc_u2 = metrics_fn[\"acc_u\"][1](pred_u2, y_u)\n",
    "\n",
    "        avg_total = metrics_fn[\"avg_total\"](total_loss.item())\n",
    "        avg_cot = metrics_fn[\"avg_cot\"](l_cot.item())\n",
    "\n",
    "        # logs\n",
    "        mprint(epoch, train_form.format(\n",
    "            \"Training: \",\n",
    "            epoch + 1,\n",
    "            int(100 * (batch + 1) / len(train_loader)),\n",
    "            \"\", 0.0, avg_cot.mean, 0.0, avg_total.mean,\n",
    "            \"\", 0.0, acc_u1.mean,\n",
    "            time.time() - start_time\n",
    "        ), end=\"\\r\")\n",
    "\n",
    "\n",
    "    # using tensorboard to monitor loss and acc\\n\",\n",
    "    tensorboard.add_scalar('train/total_loss', avg_total.mean, epoch)\n",
    "    tensorboard.add_scalar('train/Lcot', avg_cot.mean, epoch )\n",
    "\n",
    "    tensorboard.add_scalar(\"detail_acc/acc_u1\", acc_u1.mean, epoch)\n",
    "    tensorboard.add_scalar(\"detail_acc/acc_u2\", acc_u2.mean, epoch)\n",
    "\n",
    "    # Return the total loss to check for NaN\n",
    "    return total_loss.item()"
   ]
  },
  {
   "cell_type": "markdown",
   "metadata": {},
   "source": [
    "## Train diff"
   ]
  },
  {
   "cell_type": "code",
   "execution_count": 35,
   "metadata": {
    "tags": [
     "new_run"
    ]
   },
   "outputs": [],
   "source": [
    "def train_diff_helper(start_time, epoch, batch, x_s1, x_s2, x_u, y_s1, y_s2, y_u):\n",
    "    x_s1, x_s2, x_u = x_s1.cuda(), x_s2.cuda(), x_u.cuda()\n",
    "    y_s1, y_s2, y_u = y_s1.cuda(), y_s2.cuda(), y_u.cuda()\n",
    "\n",
    "    logits_s1 = m1(x_s1)\n",
    "    logits_s2 = m2(x_s2)\n",
    "    logits_u1 = m1(x_u)\n",
    "    logits_u2 = m2(x_u)\n",
    "\n",
    "    # pseudo labels of U\n",
    "    pred_u1 = torch.argmax(logits_u1, 1)\n",
    "    pred_u2 = torch.argmax(logits_u2, 1)\n",
    "\n",
    "    # ======== Generate adversarial examples ========\n",
    "    # fix batchnorm ----\n",
    "    m1.eval()\n",
    "    m2.eval()\n",
    "\n",
    "    #generate adversarial examples ----\n",
    "    adv_data_s1 = adv_generator_1.perturb(x_s1, y_s1)\n",
    "    adv_data_u1 = adv_generator_1.perturb(x_u, pred_u1)\n",
    "\n",
    "    adv_data_s2 = adv_generator_2.perturb(x_s2, y_s2)\n",
    "    adv_data_u2 = adv_generator_2.perturb(x_u, pred_u2)\n",
    "\n",
    "    m1.train()\n",
    "    m2.train()\n",
    "\n",
    "    # predict adversarial examples ----\n",
    "    adv_logits_s1 = m1(adv_data_s2)\n",
    "    adv_logits_s2 = m2(adv_data_s1)\n",
    "\n",
    "    adv_logits_u1 = m1(adv_data_u2)\n",
    "    adv_logits_u2 = m2(adv_data_u1)\n",
    "\n",
    "    # ======== calculate the differents loss ========\n",
    "    # zero the parameter gradients ----\n",
    "    optimizer.zero_grad()\n",
    "    m1.zero_grad()\n",
    "    m2.zero_grad()\n",
    "\n",
    "    l_diff = loss_diff(\n",
    "        logits_s1, logits_s2, adv_logits_s1, adv_logits_s2,\n",
    "        logits_u1, logits_u2, adv_logits_u1, adv_logits_u2\n",
    "    )\n",
    "    total_loss = l_diff * args.lambda_diff_max\n",
    "\n",
    "    optimizer.zero_grad()\n",
    "    total_loss.backward()\n",
    "    optimizer.step()\n",
    "\n",
    "    # ======== Calc the metrics ========\n",
    "    with torch.set_grad_enabled(False):\n",
    "        # accuracies ----\n",
    "        pred_s1 = torch.argmax(logits_s1, dim=1)\n",
    "        pred_s2 = torch.argmax(logits_s2, dim=1)\n",
    "\n",
    "        acc_s1 = metrics_fn[\"acc_s\"][0](pred_s1, y_s1)\n",
    "        acc_s2 = metrics_fn[\"acc_s\"][1](pred_s2, y_s2)\n",
    "        acc_u1 = metrics_fn[\"acc_u\"][0](pred_u1, y_u)\n",
    "        acc_u2 = metrics_fn[\"acc_u\"][1](pred_u2, y_u)\n",
    "\n",
    "        # ratios  ----\n",
    "        adv_pred_s1 = torch.argmax(adv_logits_s1, 1)\n",
    "        adv_pred_s2 = torch.argmax(adv_logits_s2, 1)\n",
    "        adv_pred_u1 = torch.argmax(adv_logits_u1, 1)\n",
    "        adv_pred_u2 = torch.argmax(adv_logits_u2, 1)\n",
    "\n",
    "        ratio_s1 = metrics_fn[\"ratio_s\"][0](adv_pred_s1, y_s1)\n",
    "        ratio_s2 = metrics_fn[\"ratio_s\"][1](adv_pred_s2, y_s2)\n",
    "        ratio_u1 = metrics_fn[\"ratio_u\"][0](adv_pred_u1, y_u)\n",
    "        ratio_u2 = metrics_fn[\"ratio_u\"][1](adv_pred_u2, y_u)\n",
    "        # ========\n",
    "\n",
    "        avg_total = metrics_fn[\"avg_total\"](total_loss.item())\n",
    "        avg_diff = metrics_fn[\"avg_diff\"](l_diff.item())\n",
    "\n",
    "        # logs\n",
    "        mprint(epoch, train_form.format(\n",
    "            \"Training: \",\n",
    "            epoch + 1,\n",
    "            int(100 * (batch + 1) / len(train_loader)),\n",
    "            \"\", 0.0, 0.0, avg_diff.mean, avg_total.mean,\n",
    "            \"\", acc_s1.mean, acc_u1.mean,\n",
    "            time.time() - start_time\n",
    "        ), end=\"\\r\")\n",
    "\n",
    "\n",
    "    # using tensorboard to monitor loss and acc\\n\",\n",
    "    tensorboard.add_scalar('train/total_loss', avg_total.mean, epoch)\n",
    "    tensorboard.add_scalar('train/Ldiff', avg_diff.mean, epoch )\n",
    "    tensorboard.add_scalar(\"train/acc_1\", acc_s1.mean, epoch )\n",
    "    tensorboard.add_scalar(\"train/acc_2\", acc_s2.mean, epoch )\n",
    "\n",
    "    tensorboard.add_scalar(\"detail_acc/acc_s1\", acc_s1.mean, epoch)\n",
    "    tensorboard.add_scalar(\"detail_acc/acc_s2\", acc_s2.mean, epoch)\n",
    "    tensorboard.add_scalar(\"detail_acc/acc_u1\", acc_u1.mean, epoch)\n",
    "    tensorboard.add_scalar(\"detail_acc/acc_u2\", acc_u2.mean, epoch)\n",
    "\n",
    "    tensorboard.add_scalar(\"detail_ratio/ratio_s1\", ratio_s1.mean, epoch)\n",
    "    tensorboard.add_scalar(\"detail_ratio/ratio_s2\", ratio_s2.mean, epoch)\n",
    "    tensorboard.add_scalar(\"detail_ratio/ratio_u1\", ratio_u1.mean, epoch)\n",
    "    tensorboard.add_scalar(\"detail_ratio/ratio_u2\", ratio_u2.mean, epoch)\n",
    "\n",
    "    # Return the total loss to check for NaN\n",
    "    return total_loss.item()"
   ]
  },
  {
   "cell_type": "code",
   "execution_count": 36,
   "metadata": {
    "collapsed": false,
    "jupyter": {
     "outputs_hidden": false
    },
    "pycharm": {
     "name": "#%%\n"
    },
    "tags": [
     "new_run"
    ]
   },
   "outputs": [],
   "source": [
    "def train(epoch):\n",
    "    st = time.time()\n",
    "    mprint(epoch, \"\", \"\\n\")\n",
    "\n",
    "    reset_metrics()\n",
    "    m1.train()\n",
    "    m2.train()\n",
    "    \n",
    "    for batch, (S1, S2, U) in enumerate(train_loader):\n",
    "        chosen_loss = loss_chooser(epoch)\n",
    "        \n",
    "        x_s1, y_s1 = S1\n",
    "        x_s2, y_s2 = S2\n",
    "        x_u, y_u = U\n",
    "\n",
    "        if chosen_loss == \"sup\":\n",
    "            return train_sup_helper(st, epoch, batch, x_s1, x_s2, y_s1, y_s2)\n",
    "        \n",
    "        elif chosen_loss == \"cot\":\n",
    "            return train_cot_helper(st, epoch, batch, x_u, y_u)\n",
    "        \n",
    "        elif chosen_loss == \"diff\":\n",
    "            return train_diff_helper(st, epoch, batch, x_s1, x_s2, x_u, y_s1, y_s2, y_u)"
   ]
  },
  {
   "cell_type": "code",
   "execution_count": 37,
   "metadata": {
    "collapsed": false,
    "jupyter": {
     "outputs_hidden": false
    },
    "pycharm": {
     "name": "#%%\n"
    },
    "tags": [
     "new_run"
    ]
   },
   "outputs": [],
   "source": [
    "def test(epoch, msg = \"\"):\n",
    "    start_time = time.time()\n",
    "    mprint(epoch, \"\", \"\\n\")\n",
    "\n",
    "    reset_metrics()\n",
    "    m1.eval()\n",
    "    m2.eval()\n",
    "\n",
    "    with torch.set_grad_enabled(False):\n",
    "        for batch, (X, y) in enumerate(val_loader):\n",
    "            x = X.cuda()\n",
    "            y = y.cuda()\n",
    "\n",
    "            logits_1 = m1(x)\n",
    "            logits_2 = m2(x)\n",
    "\n",
    "            # losses ----\n",
    "            l_sup = loss_sup(logits_1, logits_2, y, y)\n",
    "\n",
    "            # ======== Calc the metrics ========\n",
    "            # accuracies ----\n",
    "            pred_1 = torch.argmax(logits_1, dim=1)\n",
    "            pred_2 = torch.argmax(logits_2, dim=1)\n",
    "\n",
    "            acc_1 = metrics_fn[\"acc_s\"][0](pred_1, y)\n",
    "            acc_2 = metrics_fn[\"acc_s\"][1](pred_2, y)\n",
    "\n",
    "            avg_sup = metrics_fn[\"avg_sup\"](l_sup.item())\n",
    "\n",
    "            # logs\n",
    "            mprint(epoch, val_form.format(\n",
    "                \"Validation: \",\n",
    "                epoch + 1,\n",
    "                int(100 * (batch + 1) / len(train_loader)),\n",
    "                \"\", avg_sup.mean, 0.0, 0.0, avg_sup.mean,\n",
    "                \"\", acc_1.mean, 0.0,\n",
    "                time.time() - start_time\n",
    "            ), end=\"\\r\")\n",
    "\n",
    "    tensorboard.add_scalar(\"val/acc_1\", acc_1.mean, epoch)\n",
    "    tensorboard.add_scalar(\"val/acc_2\", acc_2.mean, epoch)\n",
    "        \n",
    "    tensorboard.add_scalar(\"max/acc_1\", maximum_fn(\"acc_1\", acc_1.mean), epoch )\n",
    "    tensorboard.add_scalar(\"max/acc_2\", maximum_fn(\"acc_2\", acc_2.mean), epoch )\n",
    "    \n",
    "    tensorboard.add_scalar(\"detail_hyperparameters/lambda_cot\", lambda_cot(), epoch)\n",
    "    tensorboard.add_scalar(\"detail_hyperparameters/lambda_diff\", lambda_diff(), epoch)\n",
    "    tensorboard.add_scalar(\"detail_hyperparameters/learning_rate\", get_lr(optimizer), epoch)\n",
    "\n",
    "    # Apply callbacks\n",
    "    for c in callbacks:\n",
    "        c.step()\n",
    "\n",
    "    # call checkpoint\n",
    "    checkpoint_m1.step(acc_1.mean)\n"
   ]
  },
  {
   "cell_type": "markdown",
   "metadata": {},
   "source": [
    "# Training"
   ]
  },
  {
   "cell_type": "code",
   "execution_count": 38,
   "metadata": {
    "collapsed": false,
    "jupyter": {
     "outputs_hidden": false
    },
    "pycharm": {
     "name": "#%%\n"
    },
    "scrolled": true,
    "tags": [
     "new_run"
    ]
   },
   "outputs": [
    {
     "name": "stdout",
     "output_type": "stream",
     "text": [
      "         Epoch  - %      - Losses:  Lsup   | Lcot   | Ldiff  | total  - metrics:  acc_s1    | acc_u1   - Time  \n",
      "\n",
      "Training 1      - 1      -          4.5371 | 0.0000 | 0.0000 | 4.5371 -           0.0000    | 0.0000   - 0.8783\n",
      "\u001b[1;4mValidati 1      - 11     -          4.5925 | 0.0000 | 0.0000 | 4.5925 -           0.1206    | 0.0000   - 4.5980\u001b[0m\n",
      " better performance: saving ...\n",
      "\n",
      " better performance: saving ...\n",
      "\n",
      "Training 11     - 1      -          4.5424 | 0.0000 | 0.0000 | 4.5424 -           0.0000    | 0.0000   - 0.5304\n",
      "\u001b[1;4mValidati 11     - 11     -          4.5621 | 0.0000 | 0.0000 | 4.5621 -           0.1258    | 0.0000   - 0.0912\u001b[0m\n",
      " better performance: saving ...\n",
      "\n",
      " better performance: saving ...\n",
      "\n",
      " better performance: saving ...\n",
      "\n",
      " better performance: saving ...\n",
      "\n",
      " better performance: saving ...\n",
      "\n",
      " better performance: saving ...\n",
      "\n",
      " better performance: saving ...\n",
      "\n",
      "Training 21     - 1      -          4.0995 | 0.0000 | 0.0000 | 4.0995 -           0.3636    | 0.0000   - 0.4643\n",
      "\u001b[1;4mValidati 21     - 11     -          4.3076 | 0.0000 | 0.0000 | 4.3076 -           0.2155    | 0.0000   - 0.0920\u001b[0m\n",
      " better performance: saving ...\n",
      "\n",
      " better performance: saving ...\n",
      "\n",
      " better performance: saving ...\n",
      "\n",
      " better performance: saving ...\n",
      "\n",
      " better performance: saving ...\n",
      "\n",
      " better performance: saving ...\n",
      "\n",
      "Training 31     - 1      -          4.0994 | 0.0000 | 0.0000 | 4.0994 -           0.0909    | 0.0000   - 0.4474\n",
      "\u001b[1;4mValidati 31     - 11     -          3.9767 | 0.0000 | 0.0000 | 3.9767 -           0.2674    | 0.0000   - 0.0913\u001b[0m\n",
      " better performance: saving ...\n",
      "\n",
      " better performance: saving ...\n",
      "\n",
      " better performance: saving ...\n",
      "\n",
      " better performance: saving ...\n",
      "\n",
      " better performance: saving ...\n",
      "\n",
      " better performance: saving ...\n",
      "\n",
      " better performance: saving ...\n",
      "\n",
      "Training 41     - 1      -          3.5251 | 0.0000 | 0.0000 | 3.5251 -           0.4545    | 0.0000   - 0.3312\n",
      "\u001b[1;4mValidati 41     - 11     -          3.7177 | 0.0000 | 0.0000 | 3.7177 -           0.2926    | 0.0000   - 0.0920\u001b[0m\n",
      " better performance: saving ...\n",
      "\n",
      "Training 51     - 1      -          3.8190 | 0.0000 | 0.0000 | 3.8190 -           0.3636    | 0.0000   - 0.2884\n",
      "\u001b[1;4mValidati 51     - 11     -          3.5216 | 0.0000 | 0.0000 | 3.5216 -           0.3189    | 0.0000   - 0.0922\u001b[0m\n",
      " better performance: saving ...\n",
      "\n",
      " better performance: saving ...\n",
      "\n",
      " better performance: saving ...\n",
      "\n",
      "Training 61     - 1      -          3.6458 | 0.0000 | 0.0000 | 3.6458 -           0.1818    | 0.0000   - 0.2232\n",
      "\u001b[1;4mValidati 61     - 11     -          3.4043 | 0.0000 | 0.0000 | 3.4043 -           0.3824    | 0.0000   - 0.0937\u001b[0m\n",
      " better performance: saving ...\n",
      "\n",
      "Training 71     - 1      -          3.1496 | 0.0000 | 0.0000 | 3.1496 -           0.3636    | 0.0000   - 0.2401\n",
      "\u001b[1;4mValidati 71     - 11     -          3.6930 | 0.0000 | 0.0000 | 3.6930 -           0.3192    | 0.0000   - 0.0903\u001b[0m\n",
      "Training 81     - 1      -          3.3297 | 0.0000 | 0.0000 | 3.3297 -           0.2727    | 0.0000   - 0.2171\n",
      "\u001b[1;4mValidati 81     - 11     -          3.7432 | 0.0000 | 0.0000 | 3.7432 -           0.3067    | 0.0000   - 0.0928\u001b[0m\n",
      "Training 91     - 1      -          3.6270 | 0.0000 | 0.0000 | 3.6270 -           0.4545    | 0.0000   - 0.1778\n",
      "\u001b[1;4mValidati 91     - 11     -          3.2803 | 0.0000 | 0.0000 | 3.2803 -           0.2741    | 0.0000   - 0.0930\u001b[0m\n",
      " better performance: saving ...\n",
      "\n",
      "Training 101    - 1      -          3.9035 | 0.0000 | 0.0000 | 3.9035 -           0.3636    | 0.0000   - 0.1621\n",
      "\u001b[1;4mValidati 101    - 11     -          3.4160 | 0.0000 | 0.0000 | 3.4160 -           0.3716    | 0.0000   - 0.0919\u001b[0m\n",
      "Training 111    - 1      -          4.1702 | 0.0000 | 0.0000 | 4.1702 -           0.2727    | 0.0000   - 0.1516\n",
      "\u001b[1;4mValidati 111    - 11     -          3.6613 | 0.0000 | 0.0000 | 3.6613 -           0.3100    | 0.0000   - 0.0969\u001b[0m\n",
      " better performance: saving ...\n",
      "\n",
      " better performance: saving ...\n",
      "\n",
      " better performance: saving ...\n",
      "\n",
      "Training 121    - 1      -          3.6723 | 0.0000 | 0.0000 | 3.6723 -           0.3636    | 0.0000   - 0.0949\n",
      "\u001b[1;4mValidati 121    - 11     -          3.2585 | 0.0000 | 0.0000 | 3.2585 -           0.4518    | 0.0000   - 0.0924\u001b[0m\n",
      " better performance: saving ...\n",
      "\n",
      " better performance: saving ...\n",
      "\n",
      "Training 131    - 1      -          3.4808 | 0.0000 | 0.0000 | 3.4808 -           0.2727    | 0.0000   - 0.0935\n",
      "\u001b[1;4mValidati 131    - 11     -          3.3180 | 0.0000 | 0.0000 | 3.3180 -           0.4353    | 0.0000   - 0.0902\u001b[0m\n",
      "Training 141    - 1      -          2.7275 | 0.0000 | 0.0000 | 2.7275 -           0.6364    | 0.0000   - 0.1094\n",
      "\u001b[1;4mValidati 141    - 11     -          3.1338 | 0.0000 | 0.0000 | 3.1338 -           0.4044    | 0.0000   - 0.1033\u001b[0m\n",
      "Training 151    - 1      -          2.7553 | 0.0000 | 0.0000 | 2.7553 -           0.6364    | 0.0000   - 0.0804\n",
      "\u001b[1;4mValidati 151    - 11     -          3.3417 | 0.0000 | 0.0000 | 3.3417 -           0.3739    | 0.0000   - 0.0845\u001b[0m\n",
      "Training 161    - 1      -          3.6907 | 0.0000 | 0.0000 | 3.6907 -           0.3636    | 0.0000   - 0.0976\n",
      "\u001b[1;4mValidati 161    - 11     -          3.1894 | 0.0000 | 0.0000 | 3.1894 -           0.4288    | 0.0000   - 0.0843\u001b[0m\n",
      " better performance: saving ...\n",
      "\n",
      "Training 171    - 1      -          3.2149 | 0.0000 | 0.0000 | 3.2149 -           0.5455    | 0.0000   - 0.0555\n",
      "\u001b[1;4mValidati 171    - 11     -          3.2335 | 0.0000 | 0.0000 | 3.2335 -           0.4090    | 0.0000   - 0.0836\u001b[0m\n",
      "Training 181    - 1      -          0.0000 | 0.0000 | 4.1366 | 4.1366 -           0.5455    | 0.5730   - 0.1601\n",
      "\u001b[1;4mValidati 181    - 11     -          3.0509 | 0.0000 | 0.0000 | 3.0509 -           0.4289    | 0.0000   - 0.0845\u001b[0m\n",
      "Training 191    - 1      -          3.4969 | 0.0000 | 0.0000 | 3.4969 -           0.3636    | 0.0000   - 0.0706\n",
      "\u001b[1;4mValidati 191    - 11     -          3.2131 | 0.0000 | 0.0000 | 3.2131 -           0.3847    | 0.0000   - 0.0851\u001b[0m\n",
      " better performance: saving ...\n",
      "\n",
      "Training 201    - 1      -          3.1627 | 0.0000 | 0.0000 | 3.1627 -           0.4545    | 0.0000   - 0.0665\n",
      "\u001b[1;4mValidati 201    - 11     -          3.0448 | 0.0000 | 0.0000 | 3.0448 -           0.5083    | 0.0000   - 0.0843\u001b[0m\n",
      " better performance: saving ...\n",
      "\n",
      "Training 211    - 1      -          2.8376 | 0.0000 | 0.0000 | 2.8376 -           0.6364    | 0.0000   - 0.0595\n",
      "\u001b[1;4mValidati 211    - 11     -          3.1118 | 0.0000 | 0.0000 | 3.1118 -           0.4927    | 0.0000   - 0.0845\u001b[0m\n",
      " better performance: saving ...\n",
      "\n",
      "Training 221    - 1      -          2.9679 | 0.0000 | 0.0000 | 2.9679 -           0.4545    | 0.0000   - 0.0403\n",
      "\u001b[1;4mValidati 221    - 11     -          2.9946 | 0.0000 | 0.0000 | 2.9946 -           0.4868    | 0.0000   - 0.0840\u001b[0m\n",
      "Training 231    - 1      -          3.1252 | 0.0000 | 0.0000 | 3.1252 -           0.6364    | 0.0000   - 0.0484\n",
      "\u001b[1;4mValidati 231    - 11     -          2.9778 | 0.0000 | 0.0000 | 2.9778 -           0.4387    | 0.0000   - 0.0844\u001b[0m\n",
      "Training 241    - 1      -          3.2249 | 0.0000 | 0.0000 | 3.2249 -           0.7273    | 0.0000   - 0.0666\n",
      "\u001b[1;4mValidati 241    - 11     -          3.0316 | 0.0000 | 0.0000 | 3.0316 -           0.4476    | 0.0000   - 0.0867\u001b[0m\n",
      "Training 251    - 1      -          2.6789 | 0.0000 | 0.0000 | 2.6789 -           0.4545    | 0.0000   - 0.0324\n",
      "\u001b[1;4mValidati 251    - 11     -          3.0143 | 0.0000 | 0.0000 | 3.0143 -           0.5138    | 0.0000   - 0.0854\u001b[0m\n",
      " better performance: saving ...\n",
      "\n",
      " better performance: saving ...\n",
      "\n",
      " better performance: saving ...\n",
      "\n",
      " better performance: saving ...\n",
      "\n",
      " better performance: saving ...\n",
      "\n",
      "Training 261    - 1      -          3.7491 | 0.0000 | 0.0000 | 3.7491 -           0.4545    | 0.0000   - 0.0299\n",
      "\u001b[1;4mValidati 261    - 11     -          3.0484 | 0.0000 | 0.0000 | 3.0484 -           0.5705    | 0.0000   - 0.0953\u001b[0m\n",
      " better performance: saving ...\n",
      "\n",
      "Training 271    - 1      -          2.1079 | 0.0000 | 0.0000 | 2.1079 -           0.5455    | 0.0000   - 0.0386\n",
      "\u001b[1;4mValidati 271    - 11     -          3.0376 | 0.0000 | 0.0000 | 3.0376 -           0.5664    | 0.0000   - 0.0854\u001b[0m\n",
      "Training 281    - 1      -          3.2454 | 0.0000 | 0.0000 | 3.2454 -           0.5455    | 0.0000   - 0.0411\n",
      "\u001b[1;4mValidati 281    - 11     -          2.8368 | 0.0000 | 0.0000 | 2.8368 -           0.5687    | 0.0000   - 0.0843\u001b[0m\n",
      "Training 291    - 1      -          1.3761 | 0.0000 | 0.0000 | 1.3761 -           0.7273    | 0.0000   - 0.0399\n",
      "\u001b[1;4mValidati 291    - 11     -          2.7955 | 0.0000 | 0.0000 | 2.7955 -           0.5053    | 0.0000   - 0.0840\u001b[0m\n",
      "Training 301    - 1      -          1.8239 | 0.0000 | 0.0000 | 1.8239 -           0.6364    | 0.0000   - 0.0297\n",
      "\u001b[1;4mValidati 301    - 11     -          2.8485 | 0.0000 | 0.0000 | 2.8485 -           0.5536    | 0.0000   - 0.0841\u001b[0m\n",
      "Training 311    - 1      -          0.0000 | 0.0000 | 3.7438 | 3.7438 -           0.4545    | 0.4607   - 0.1202\n",
      "\u001b[1;4mValidati 311    - 11     -          2.6649 | 0.0000 | 0.0000 | 2.6649 -           0.5861    | 0.0000   - 0.0952\u001b[0m\n",
      "Training 321    - 1      -          0.0000 | 0.0799 | 0.0000 | 0.0799 -           0.0000    | 0.6180   - 0.0443\n",
      "\u001b[1;4mValidati 321    - 11     -          2.7532 | 0.0000 | 0.0000 | 2.7532 -           0.4978    | 0.0000   - 0.0839\u001b[0m\n",
      "Training 331    - 1      -          2.9003 | 0.0000 | 0.0000 | 2.9003 -           0.3636    | 0.0000   - 0.0270\n",
      "\u001b[1;4mValidati 331    - 11     -          2.9505 | 0.0000 | 0.0000 | 2.9505 -           0.5613    | 0.0000   - 0.0852\u001b[0m\n",
      "Training 341    - 1      -          2.0070 | 0.0000 | 0.0000 | 2.0070 -           1.0000    | 0.0000   - 0.0318\n",
      "\u001b[1;4mValidati 341    - 11     -          3.0719 | 0.0000 | 0.0000 | 3.0719 -           0.5550    | 0.0000   - 0.0862\u001b[0m\n",
      " better performance: saving ...\n",
      "\n",
      " better performance: saving ...\n",
      "\n",
      " better performance: saving ...\n",
      "\n",
      "Training 351    - 1      -          3.1556 | 0.0000 | 0.0000 | 3.1556 -           0.6364    | 0.0000   - 0.0326\n",
      "\u001b[1;4mValidati 351    - 11     -          3.1176 | 0.0000 | 0.0000 | 3.1176 -           0.6006    | 0.0000   - 0.0843\u001b[0m\n",
      "Training 361    - 1      -          1.8597 | 0.0000 | 0.0000 | 1.8597 -           0.5455    | 0.0000   - 0.0213\n",
      "\u001b[1;4mValidati 361    - 11     -          2.7798 | 0.0000 | 0.0000 | 2.7798 -           0.6075    | 0.0000   - 0.0847\u001b[0m\n",
      "Training 371    - 1      -          1.6781 | 0.0000 | 0.0000 | 1.6781 -           0.8182    | 0.0000   - 0.0216\n",
      "\u001b[1;4mValidati 371    - 11     -          2.9664 | 0.0000 | 0.0000 | 2.9664 -           0.5667    | 0.0000   - 0.0844\u001b[0m\n",
      "Training 381    - 1      -          0.0000 | 0.0000 | 3.1321 | 3.1321 -           0.6364    | 0.5506   - 0.1145\n",
      "\u001b[1;4mValidati 381    - 11     -          2.7119 | 0.0000 | 0.0000 | 2.7119 -           0.5599    | 0.0000   - 0.0855\u001b[0m\n",
      "Training 391    - 1      -          1.4505 | 0.0000 | 0.0000 | 1.4505 -           0.9091    | 0.0000   - 0.0206\n",
      "\u001b[1;4mValidati 391    - 11     -          2.6976 | 0.0000 | 0.0000 | 2.6976 -           0.5929    | 0.0000   - 0.0852\u001b[0m\n",
      "Training 401    - 1      -          0.0000 | 0.0770 | 0.0000 | 0.0770 -           0.0000    | 0.6292   - 0.0328\n",
      "\u001b[1;4mValidati 401    - 11     -          2.6330 | 0.0000 | 0.0000 | 2.6330 -           0.6247    | 0.0000   - 0.0852\u001b[0m\n",
      "Training 411    - 1      -          0.0000 | 0.0699 | 0.0000 | 0.0699 -           0.0000    | 0.6629   - 0.0332\n",
      "\u001b[1;4mValidati 411    - 11     -          2.6339 | 0.0000 | 0.0000 | 2.6339 -           0.5934    | 0.0000   - 0.0855\u001b[0m\n",
      "Training 421    - 1      -          0.0000 | 0.0000 | 2.9250 | 2.9250 -           0.7273    | 0.5955   - 0.1082\n",
      "\u001b[1;4mValidati 421    - 11     -          2.6610 | 0.0000 | 0.0000 | 2.6610 -           0.5752    | 0.0000   - 0.0847\u001b[0m\n",
      "Training 431    - 1      -          0.0000 | 0.0862 | 0.0000 | 0.0862 -           0.0000    | 0.6067   - 0.0334\n",
      "\u001b[1;4mValidati 431    - 11     -          2.6513 | 0.0000 | 0.0000 | 2.6513 -           0.5608    | 0.0000   - 0.0850\u001b[0m\n",
      "Training 441    - 1      -          2.0844 | 0.0000 | 0.0000 | 2.0844 -           0.4545    | 0.0000   - 0.0219\n",
      "\u001b[1;4mValidati 441    - 11     -          2.7380 | 0.0000 | 0.0000 | 2.7380 -           0.5315    | 0.0000   - 0.0856\u001b[0m\n",
      "Training 451    - 1      -          0.0000 | 0.0651 | 0.0000 | 0.0651 -           0.0000    | 0.6517   - 0.0331\n",
      "\u001b[1;4mValidati 451    - 11     -          2.6184 | 0.0000 | 0.0000 | 2.6184 -           0.5129    | 0.0000   - 0.0857\u001b[0m\n",
      "Training 461    - 1      -          1.5004 | 0.0000 | 0.0000 | 1.5004 -           0.8182    | 0.0000   - 0.0344\n",
      "\u001b[1;4mValidati 461    - 11     -          2.4931 | 0.0000 | 0.0000 | 2.4931 -           0.6048    | 0.0000   - 0.0849\u001b[0m\n",
      "Training 471    - 1      -          0.0000 | 0.0957 | 0.0000 | 0.0957 -           0.0000    | 0.6742   - 0.0332\n",
      "\u001b[1;4mValidati 471    - 11     -          2.5095 | 0.0000 | 0.0000 | 2.5095 -           0.6246    | 0.0000   - 0.0867\u001b[0m\n",
      " better performance: saving ...\n",
      "\n",
      " better performance: saving ...\n",
      "\n",
      "Training 481    - 1      -          1.2047 | 0.0000 | 0.0000 | 1.2047 -           0.9091    | 0.0000   - 0.0222\n",
      "\u001b[1;4mValidati 481    - 11     -          2.4821 | 0.0000 | 0.0000 | 2.4821 -           0.6006    | 0.0000   - 0.0847\u001b[0m\n",
      "Training 491    - 1      -          1.4594 | 0.0000 | 0.0000 | 1.4594 -           0.7273    | 0.0000   - 0.0215\n",
      "\u001b[1;4mValidati 491    - 11     -          2.6357 | 0.0000 | 0.0000 | 2.6357 -           0.5534    | 0.0000   - 0.0862\u001b[0m\n",
      "Training 501    - 1      -          2.2322 | 0.0000 | 0.0000 | 2.2322 -           0.6364    | 0.0000   - 0.0216\n",
      "\u001b[1;4mValidati 501    - 11     -          2.4351 | 0.0000 | 0.0000 | 2.4351 -           0.6498    | 0.0000   - 0.0857\u001b[0m\n",
      " better performance: saving ...\n",
      "\n",
      " better performance: saving ...\n",
      "\n",
      "Training 511    - 1      -          2.1658 | 0.0000 | 0.0000 | 2.1658 -           0.6364    | 0.0000   - 0.0276\n",
      "\u001b[1;4mValidati 511    - 11     -          2.3775 | 0.0000 | 0.0000 | 2.3775 -           0.6714    | 0.0000   - 0.0874\u001b[0m\n",
      " better performance: saving ...\n",
      "\n",
      " better performance: saving ...\n",
      "\n",
      " better performance: saving ...\n",
      "\n",
      " better performance: saving ...\n",
      "\n",
      " better performance: saving ...\n",
      "\n",
      "Training 521    - 1      -          0.0000 | 0.0648 | 0.0000 | 0.0648 -           0.0000    | 0.5955   - 0.0328\n",
      "\u001b[1;4mValidati 521    - 11     -          2.3567 | 0.0000 | 0.0000 | 2.3567 -           0.6695    | 0.0000   - 0.0850\u001b[0m\n",
      "Training 531    - 1      -          0.0000 | 0.0700 | 0.0000 | 0.0700 -           0.0000    | 0.6067   - 0.0347\n",
      "\u001b[1;4mValidati 531    - 11     -          2.2414 | 0.0000 | 0.0000 | 2.2414 -           0.6565    | 0.0000   - 0.0893\u001b[0m\n",
      "Training 541    - 1      -          0.0000 | 0.0745 | 0.0000 | 0.0745 -           0.0000    | 0.6742   - 0.0338\n",
      "\u001b[1;4mValidati 541    - 11     -          2.3125 | 0.0000 | 0.0000 | 2.3125 -           0.6855    | 0.0000   - 0.0893\u001b[0m\n",
      "Training 551    - 1      -          2.8328 | 0.0000 | 0.0000 | 2.8328 -           0.5455    | 0.0000   - 0.0260\n",
      "\u001b[1;4mValidati 551    - 11     -          2.3649 | 0.0000 | 0.0000 | 2.3649 -           0.6719    | 0.0000   - 0.0904\u001b[0m\n",
      " better performance: saving ...\n",
      "\n",
      " better performance: saving ...\n",
      "\n",
      "Training 561    - 1      -          0.0000 | 0.0569 | 0.0000 | 0.0569 -           0.0000    | 0.7303   - 0.0346\n",
      "\u001b[1;4mValidati 561    - 11     -          2.2103 | 0.0000 | 0.0000 | 2.2103 -           0.7015    | 0.0000   - 0.0905\u001b[0m\n",
      " better performance: saving ...\n",
      "\n",
      "Training 571    - 1      -          1.4318 | 0.0000 | 0.0000 | 1.4318 -           0.9091    | 0.0000   - 0.0265\n",
      "\u001b[1;4mValidati 571    - 11     -          2.1895 | 0.0000 | 0.0000 | 2.1895 -           0.7040    | 0.0000   - 0.0924\u001b[0m\n",
      " better performance: saving ...\n",
      "\n",
      " better performance: saving ...\n",
      "\n",
      " better performance: saving ...\n",
      "\n",
      "Training 581    - 1      -          2.2916 | 0.0000 | 0.0000 | 2.2916 -           0.5455    | 0.0000   - 0.0247\n",
      "\u001b[1;4mValidati 581    - 11     -          2.1481 | 0.0000 | 0.0000 | 2.1481 -           0.7242    | 0.0000   - 0.0910\u001b[0m\n",
      " better performance: saving ...\n",
      "\n",
      " better performance: saving ...\n",
      "\n",
      "Training 591    - 1      -          1.6143 | 0.0000 | 0.0000 | 1.6143 -           0.5455    | 0.0000   - 0.0275\n",
      "\u001b[1;4mValidati 591    - 11     -          2.3161 | 0.0000 | 0.0000 | 2.3161 -           0.6936    | 0.0000   - 0.0906\u001b[0m\n",
      "Training 601    - 1      -          0.0000 | 0.0909 | 0.0000 | 0.0909 -           0.0000    | 0.7191   - 0.0354\n",
      "\u001b[1;4mValidati 601    - 11     -          2.2582 | 0.0000 | 0.0000 | 2.2582 -           0.7000    | 0.0000   - 0.0946\u001b[0m\n",
      "Training 611    - 1      -          1.9650 | 0.0000 | 0.0000 | 1.9650 -           0.7273    | 0.0000   - 0.0256\n",
      "\u001b[1;4mValidati 611    - 11     -          2.1773 | 0.0000 | 0.0000 | 2.1773 -           0.6682    | 0.0000   - 0.0899\u001b[0m\n",
      "Training 621    - 1      -          1.7771 | 0.0000 | 0.0000 | 1.7771 -           0.6364    | 0.0000   - 0.0263\n",
      "\u001b[1;4mValidati 621    - 11     -          2.2040 | 0.0000 | 0.0000 | 2.2040 -           0.6466    | 0.0000   - 0.0892\u001b[0m\n",
      "Training 631    - 1      -          0.0000 | 0.0948 | 0.0000 | 0.0948 -           0.0000    | 0.6292   - 0.0350\n",
      "\u001b[1;4mValidati 631    - 11     -          2.2035 | 0.0000 | 0.0000 | 2.2035 -           0.6750    | 0.0000   - 0.0911\u001b[0m\n",
      "Training 641    - 1      -          1.2742 | 0.0000 | 0.0000 | 1.2742 -           0.8182    | 0.0000   - 0.0244\n",
      "\u001b[1;4mValidati 641    - 11     -          2.1582 | 0.0000 | 0.0000 | 2.1582 -           0.7147    | 0.0000   - 0.0894\u001b[0m\n",
      "Training 651    - 1      -          0.0000 | 0.0739 | 0.0000 | 0.0739 -           0.0000    | 0.6067   - 0.0346\n",
      "\u001b[1;4mValidati 651    - 11     -          2.1061 | 0.0000 | 0.0000 | 2.1061 -           0.7174    | 0.0000   - 0.0893\u001b[0m\n",
      "Training 661    - 1      -          0.0000 | 0.0000 | 2.3694 | 2.3694 -           0.7273    | 0.7191   - 0.1120\n",
      "\u001b[1;4mValidati 661    - 11     -          2.2421 | 0.0000 | 0.0000 | 2.2421 -           0.6842    | 0.0000   - 0.0995\u001b[0m\n",
      "Training 671    - 1      -          0.0000 | 0.0439 | 0.0000 | 0.0439 -           0.0000    | 0.6854   - 0.0344\n",
      "\u001b[1;4mValidati 671    - 11     -          2.2893 | 0.0000 | 0.0000 | 2.2893 -           0.6501    | 0.0000   - 0.0895\u001b[0m\n",
      "Training 681    - 1      -          1.2927 | 0.0000 | 0.0000 | 1.2927 -           0.7273    | 0.0000   - 0.0256\n",
      "\u001b[1;4mValidati 681    - 11     -          2.2594 | 0.0000 | 0.0000 | 2.2594 -           0.6407    | 0.0000   - 0.0893\u001b[0m\n",
      "Training 691    - 1      -          0.9542 | 0.0000 | 0.0000 | 0.9542 -           0.8182    | 0.0000   - 0.0260\n",
      "\u001b[1;4mValidati 691    - 11     -          2.1665 | 0.0000 | 0.0000 | 2.1665 -           0.6504    | 0.0000   - 0.0898\u001b[0m\n",
      "Training 701    - 1      -          0.0000 | 0.0000 | 2.1656 | 2.1656 -           0.5455    | 0.6966   - 0.1131\n",
      "\u001b[1;4mValidati 701    - 11     -          2.0425 | 0.0000 | 0.0000 | 2.0425 -           0.7057    | 0.0000   - 0.0916\u001b[0m\n",
      " better performance: saving ...\n",
      "\n",
      "Training 711    - 1      -          0.0000 | 0.0537 | 0.0000 | 0.0537 -           0.0000    | 0.6854   - 0.0338\n",
      "\u001b[1;4mValidati 711    - 11     -          1.9587 | 0.0000 | 0.0000 | 1.9587 -           0.7453    | 0.0000   - 0.0920\u001b[0m\n",
      " better performance: saving ...\n",
      "\n",
      " better performance: saving ...\n",
      "\n",
      "Training 721    - 1      -          0.0000 | 0.0534 | 0.0000 | 0.0534 -           0.0000    | 0.6067   - 0.0331\n",
      "\u001b[1;4mValidati 721    - 11     -          2.0529 | 0.0000 | 0.0000 | 2.0529 -           0.7082    | 0.0000   - 0.0874\u001b[0m\n",
      "Training 731    - 1      -          1.4891 | 0.0000 | 0.0000 | 1.4891 -           0.7273    | 0.0000   - 0.0202\n",
      "\u001b[1;4mValidati 731    - 11     -          2.0336 | 0.0000 | 0.0000 | 2.0336 -           0.7142    | 0.0000   - 0.0881\u001b[0m\n",
      "Training 741    - 1      -          0.0000 | 0.0000 | 2.1649 | 2.1649 -           0.8182    | 0.6404   - 0.1088\n",
      "\u001b[1;4mValidati 741    - 11     -          2.0127 | 0.0000 | 0.0000 | 2.0127 -           0.7071    | 0.0000   - 0.0876\u001b[0m\n",
      "Training 751    - 1      -          0.0000 | 0.0000 | 1.8641 | 1.8641 -           0.9091    | 0.7079   - 0.1079\n",
      "\u001b[1;4mValidati 751    - 11     -          2.0270 | 0.0000 | 0.0000 | 2.0270 -           0.7130    | 0.0000   - 0.0858\u001b[0m\n",
      "Training 761    - 1      -          1.1951 | 0.0000 | 0.0000 | 1.1951 -           0.6364    | 0.0000   - 0.0195\n",
      "\u001b[1;4mValidati 761    - 11     -          2.0256 | 0.0000 | 0.0000 | 2.0256 -           0.7115    | 0.0000   - 0.0860\u001b[0m\n",
      "Training 771    - 1      -          0.0000 | 0.0000 | 1.9442 | 1.9442 -           0.7273    | 0.7191   - 0.1083\n",
      "\u001b[1;4mValidati 771    - 11     -          2.0054 | 0.0000 | 0.0000 | 2.0054 -           0.7017    | 0.0000   - 0.0862\u001b[0m\n",
      "Training 781    - 1      -          0.0000 | 0.0615 | 0.0000 | 0.0615 -           0.0000    | 0.7079   - 0.0329\n",
      "\u001b[1;4mValidati 781    - 11     -          1.9666 | 0.0000 | 0.0000 | 1.9666 -           0.7126    | 0.0000   - 0.0856\u001b[0m\n",
      "Training 791    - 1      -          0.0000 | 0.0000 | 1.8864 | 1.8864 -           0.7273    | 0.6854   - 0.1085\n",
      "\u001b[1;4mValidati 791    - 11     -          2.0118 | 0.0000 | 0.0000 | 2.0118 -           0.7163    | 0.0000   - 0.0856\u001b[0m\n",
      "Training 801    - 1      -          1.6807 | 0.0000 | 0.0000 | 1.6807 -           0.9091    | 0.0000   - 0.0210\n",
      "\u001b[1;4mValidati 801    - 11     -          2.0296 | 0.0000 | 0.0000 | 2.0296 -           0.7266    | 0.0000   - 0.0865\u001b[0m\n",
      "Training 811    - 1      -          0.0000 | 0.0000 | 1.8740 | 1.8740 -           0.8182    | 0.7191   - 0.1084\n",
      "\u001b[1;4mValidati 811    - 11     -          2.0950 | 0.0000 | 0.0000 | 2.0950 -           0.7259    | 0.0000   - 0.0859\u001b[0m\n",
      "Training 821    - 1      -          1.1506 | 0.0000 | 0.0000 | 1.1506 -           0.7273    | 0.0000   - 0.0206\n",
      "\u001b[1;4mValidati 821    - 11     -          1.9978 | 0.0000 | 0.0000 | 1.9978 -           0.7249    | 0.0000   - 0.0861\u001b[0m\n",
      "Training 831    - 1      -          1.3167 | 0.0000 | 0.0000 | 1.3167 -           0.7273    | 0.0000   - 0.0227\n",
      "\u001b[1;4mValidati 831    - 11     -          1.9809 | 0.0000 | 0.0000 | 1.9809 -           0.7236    | 0.0000   - 0.0864\u001b[0m\n",
      "Training 841    - 1      -          1.3463 | 0.0000 | 0.0000 | 1.3463 -           0.7273    | 0.0000   - 0.0207\n",
      "\u001b[1;4mValidati 841    - 11     -          2.0068 | 0.0000 | 0.0000 | 2.0068 -           0.7314    | 0.0000   - 0.0861\u001b[0m\n",
      " better performance: saving ...\n",
      "\n",
      "Training 851    - 1      -          1.4951 | 0.0000 | 0.0000 | 1.4951 -           0.6364    | 0.0000   - 0.0218\n",
      "\u001b[1;4mValidati 851    - 11     -          2.0098 | 0.0000 | 0.0000 | 2.0098 -           0.7259    | 0.0000   - 0.0863\u001b[0m\n",
      "Training 861    - 1      -          0.0000 | 0.0000 | 1.7891 | 1.7891 -           0.8182    | 0.7978   - 0.1080\n",
      "\u001b[1;4mValidati 861    - 11     -          2.0332 | 0.0000 | 0.0000 | 2.0332 -           0.7229    | 0.0000   - 0.0858\u001b[0m\n",
      "Training 871    - 1      -          1.2298 | 0.0000 | 0.0000 | 1.2298 -           0.7273    | 0.0000   - 0.0192\n",
      "\u001b[1;4mValidati 871    - 11     -          2.0137 | 0.0000 | 0.0000 | 2.0137 -           0.7135    | 0.0000   - 0.0869\u001b[0m\n",
      "Training 881    - 1      -          0.9987 | 0.0000 | 0.0000 | 0.9987 -           0.9091    | 0.0000   - 0.0198\n",
      "\u001b[1;4mValidati 881    - 11     -          1.9118 | 0.0000 | 0.0000 | 1.9118 -           0.7312    | 0.0000   - 0.0863\u001b[0m\n",
      "Training 891    - 1      -          1.2557 | 0.0000 | 0.0000 | 1.2557 -           0.8182    | 0.0000   - 0.0215\n",
      "\u001b[1;4mValidati 891    - 11     -          2.0368 | 0.0000 | 0.0000 | 2.0368 -           0.7192    | 0.0000   - 0.0866\u001b[0m\n",
      "Training 901    - 1      -          0.0000 | 0.0423 | 0.0000 | 0.0423 -           0.0000    | 0.7303   - 0.0328\n",
      "\u001b[1;4mValidati 901    - 11     -          1.9422 | 0.0000 | 0.0000 | 1.9422 -           0.7298    | 0.0000   - 0.0864\u001b[0m\n",
      "Training 911    - 1      -          1.4956 | 0.0000 | 0.0000 | 1.4956 -           0.6364    | 0.0000   - 0.0220\n",
      "\u001b[1;4mValidati 911    - 11     -          1.9649 | 0.0000 | 0.0000 | 1.9649 -           0.7377    | 0.0000   - 0.0865\u001b[0m\n",
      "Training 921    - 1      -          1.9551 | 0.0000 | 0.0000 | 1.9551 -           0.8182    | 0.0000   - 0.0222\n",
      "\u001b[1;4mValidati 921    - 11     -          1.9842 | 0.0000 | 0.0000 | 1.9842 -           0.7225    | 0.0000   - 0.0858\u001b[0m\n",
      "Training 931    - 1      -          0.8732 | 0.0000 | 0.0000 | 0.8732 -           0.9091    | 0.0000   - 0.0229\n",
      "\u001b[1;4mValidati 931    - 11     -          2.0171 | 0.0000 | 0.0000 | 2.0171 -           0.7315    | 0.0000   - 0.0882\u001b[0m\n",
      "Training 941    - 1      -          0.0000 | 0.0467 | 0.0000 | 0.0467 -           0.0000    | 0.7640   - 0.0362\n",
      "\u001b[1;4mValidati 941    - 11     -          2.0096 | 0.0000 | 0.0000 | 2.0096 -           0.7206    | 0.0000   - 0.0919\u001b[0m\n",
      "Training 951    - 1      -          1.6191 | 0.0000 | 0.0000 | 1.6191 -           0.8182    | 0.0000   - 0.0265\n",
      "\u001b[1;4mValidati 951    - 11     -          1.9986 | 0.0000 | 0.0000 | 1.9986 -           0.7382    | 0.0000   - 0.0913\u001b[0m\n",
      "Training 961    - 1      -          0.0000 | 0.0000 | 1.7106 | 1.7106 -           1.0000    | 0.7416   - 0.1125\n",
      "\u001b[1;4mValidati 961    - 11     -          2.0227 | 0.0000 | 0.0000 | 2.0227 -           0.7311    | 0.0000   - 0.0905\u001b[0m\n",
      "Training 971    - 1      -          0.0000 | 0.0000 | 1.6436 | 1.6436 -           0.9091    | 0.6966   - 0.1129\n",
      "\u001b[1;4mValidati 971    - 11     -          2.0399 | 0.0000 | 0.0000 | 2.0399 -           0.7330    | 0.0000   - 0.0903\u001b[0m\n",
      "Training 981    - 1      -          0.0000 | 0.0402 | 0.0000 | 0.0402 -           0.0000    | 0.7303   - 0.0348\n",
      "\u001b[1;4mValidati 981    - 11     -          2.0470 | 0.0000 | 0.0000 | 2.0470 -           0.7287    | 0.0000   - 0.0898\u001b[0m\n",
      "Training 991    - 1      -          0.0000 | 0.0000 | 1.9833 | 1.9833 -           0.8182    | 0.7303   - 0.1134\n",
      "\u001b[1;4mValidati 991    - 11     -          1.9679 | 0.0000 | 0.0000 | 1.9679 -           0.7255    | 0.0000   - 0.0909\u001b[0m\r"
     ]
    }
   ],
   "source": [
    "print(header)\n",
    "\n",
    "for epoch in range(0, args.nb_epoch):\n",
    "    total_loss = train(epoch)\n",
    "    \n",
    "    if np.isnan(total_loss):\n",
    "        print(\"Losses are NaN, stoping the training here\")\n",
    "        break\n",
    "        \n",
    "    test(epoch)\n",
    "\n",
    "tensorboard.flush()\n",
    "tensorboard.close()"
   ]
  },
  {
   "cell_type": "code",
   "execution_count": 40,
   "metadata": {
    "tags": [
     "new_run"
    ]
   },
   "outputs": [
    {
     "name": "stdout",
     "output_type": "stream",
     "text": [
      "rule function:  <function weighted_linear_rule at 0x7f65f32cf5e0>\n",
      "nb steps:  10\n",
      "model:  <class 'UrbanSound8k.models_test.cnn03'>\n",
      "max acc 1: 74.69\n",
      "max acc 2: 71.28\n"
     ]
    }
   ],
   "source": [
    "print(\"rule function: \", rule_fn)\n",
    "print(\"nb steps: \", args.steps)\n",
    "print(\"model: \", model_func)\n",
    "print(\"max acc 1: %.2f\" % (maximum_fn.max[\"acc_1\"].item() * 100))\n",
    "print(\"max acc 2: %.2f\" % (maximum_fn.max[\"acc_2\"].item() * 100))"
   ]
  },
  {
   "cell_type": "markdown",
   "metadata": {},
   "source": [
    "# ♫♪.ılılıll|̲̅̅●̲̅̅|̲̅̅=̲̅̅|̲̅̅●̲̅̅|llılılı.♫♪"
   ]
  },
  {
   "cell_type": "markdown",
   "metadata": {},
   "source": [
    "# ======== For creating images ========"
   ]
  },
  {
   "cell_type": "code",
   "execution_count": 152,
   "metadata": {
    "tags": [
     "imgs"
    ]
   },
   "outputs": [],
   "source": [
    "import matplotlib.pyplot as plt"
   ]
  },
  {
   "cell_type": "code",
   "execution_count": 172,
   "metadata": {
    "tags": [
     "imgs"
    ]
   },
   "outputs": [],
   "source": [
    "def display(rules, title):\n",
    "    lsup = np.asarray([rules[k][\"lsup\"] for k in rules])\n",
    "    lcot = np.asarray([rules[k][\"lcot\"] for k in rules])\n",
    "    ldiff = np.asarray([rules[k][\"ldiff\"] for k in rules])\n",
    "    steps = [k for k in rules]\n",
    "    xticks = [\"%d\" % s for s in steps]\n",
    "\n",
    "\n",
    "    plt.figure(0, figsize=(10, 10))\n",
    "    plt.title(title, fontsize=18)\n",
    "    plt.xlabel(\"epochs\", fontsize=14)\n",
    "    plt.ylabel(\"Probabilities\", fontsize=14)\n",
    "    plt.ylim(0, 1)\n",
    "    \n",
    "#     plt.bar(range(len(steps)), lsup, bottom=0, label=\"P lsup\")\n",
    "#     plt.bar(range(len(steps)), lcot, bottom=lsup, label=\"P lcot\")\n",
    "#     plt.bar(range(len(steps)), ldiff, bottom=lsup+lcot, label=\"P ldiff\")\n",
    "    \n",
    "    plt.plot(steps, lsup, marker=\"o\", label=\"P Lsup\")\n",
    "    plt.plot(steps, lcot, marker=\"+\", label=\"P Lcot\", alpha=0.5)\n",
    "    plt.plot(steps, ldiff, marker=\".\", label=\"P Ldiff\")\n",
    "    \n",
    "    plt.xticks(range(len(steps)), xticks)\n",
    "    plt.legend()\n",
    "    plt.show()"
   ]
  },
  {
   "cell_type": "code",
   "execution_count": 173,
   "metadata": {
    "tags": [
     "imgs"
    ]
   },
   "outputs": [
    {
     "data": {
      "image/png": "[encoded data removed]",
      "text/plain": [
       "<Figure size 720x720 with 1 Axes>"
      ]
     },
     "metadata": {
      "needs_background": "light"
     },
     "output_type": "display_data"
    },
    {
     "data": {
      "image/png": "[encoded data removed]",
      "text/plain": [
       "<Figure size 720x720 with 1 Axes>"
      ]
     },
     "metadata": {
      "needs_background": "light"
     },
     "output_type": "display_data"
    }
   ],
   "source": [
    "schedulers = [\n",
    "#     rule_maker_linear, rule_maker_weighted_linear,\n",
    "#     rule_maker_sigmoid, rule_maker_weighted_sigmoid,\n",
    "#     rule_maker_cosine, rule_maker_weighted_cosine,\n",
    "    rule_maker_annealing_cosine, rule_maker_weighted_annealing_cosine,\n",
    "]\n",
    "steps = 10\n",
    "cycle = 8\n",
    "\n",
    "for rule_fn in schedulers:\n",
    "    rules = rule_fn(steps, cycle=cycle, beta=1)\n",
    "    display(rules, rule_fn.__name__[11:])\n"
   ]
  },
  {
   "cell_type": "code",
   "execution_count": 145,
   "metadata": {},
   "outputs": [
    {
     "data": {
      "text/plain": [
       "[<matplotlib.lines.Line2D at 0x7f7faa22b940>]"
      ]
     },
     "execution_count": 145,
     "metadata": {},
     "output_type": "execute_result"
    },
    {
     "data": {
      "image/png": "[encoded data removed]",
      "text/plain": [
       "<Figure size 432x288 with 1 Axes>"
      ]
     },
     "metadata": {
      "needs_background": "light"
     },
     "output_type": "display_data"
    }
   ],
   "source": [
    "step = 10\n",
    "cycle = 10\n",
    "decay = 2\n",
    "hop_length = hop_length = np.linspace(0, args.nb_epoch, step * cycle)\n",
    "\n",
    "# create original steps\n",
    "decaying =  np.exp(-decay*np.linspace(0, 1, len(hop_length)))\n",
    "sup_steps = 0.5 * (decaying * np.cos(np.pi * hop_length / (args.nb_epoch / cycle)) + 1)\n",
    "\n",
    "plt.plot(hop_length, sup_steps)"
   ]
  }
 ],
 "metadata": {
  "kernelspec": {
   "display_name": "dct",
   "language": "python",
   "name": "dct"
  },
  "language_info": {
   "codemirror_mode": {
    "name": "ipython",
    "version": 3
   },
   "file_extension": ".py",
   "mimetype": "text/x-python",
   "name": "python",
   "nbconvert_exporter": "python",
   "pygments_lexer": "ipython3",
   "version": "3.8.0"
  },
  "toc-autonumbering": true
 },
 "nbformat": 4,
 "nbformat_minor": 4
}
