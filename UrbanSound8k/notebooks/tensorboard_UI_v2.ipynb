{
 "cells": [
  {
   "cell_type": "code",
   "execution_count": 1,
   "metadata": {},
   "outputs": [
    {
     "name": "stderr",
     "output_type": "stream",
     "text": [
      "/home/lcances/.local/lib/python3.6/site-packages/tensorflow/python/framework/dtypes.py:516: FutureWarning: Passing (type, 1) or '1type' as a synonym of type is deprecated; in a future version of numpy, it will be understood as (type, (1,)) / '(1,)type'.\n",
      "  _np_qint8 = np.dtype([(\"qint8\", np.int8, 1)])\n",
      "/home/lcances/.local/lib/python3.6/site-packages/tensorflow/python/framework/dtypes.py:517: FutureWarning: Passing (type, 1) or '1type' as a synonym of type is deprecated; in a future version of numpy, it will be understood as (type, (1,)) / '(1,)type'.\n",
      "  _np_quint8 = np.dtype([(\"quint8\", np.uint8, 1)])\n",
      "/home/lcances/.local/lib/python3.6/site-packages/tensorflow/python/framework/dtypes.py:518: FutureWarning: Passing (type, 1) or '1type' as a synonym of type is deprecated; in a future version of numpy, it will be understood as (type, (1,)) / '(1,)type'.\n",
      "  _np_qint16 = np.dtype([(\"qint16\", np.int16, 1)])\n",
      "/home/lcances/.local/lib/python3.6/site-packages/tensorflow/python/framework/dtypes.py:519: FutureWarning: Passing (type, 1) or '1type' as a synonym of type is deprecated; in a future version of numpy, it will be understood as (type, (1,)) / '(1,)type'.\n",
      "  _np_quint16 = np.dtype([(\"quint16\", np.uint16, 1)])\n",
      "/home/lcances/.local/lib/python3.6/site-packages/tensorflow/python/framework/dtypes.py:520: FutureWarning: Passing (type, 1) or '1type' as a synonym of type is deprecated; in a future version of numpy, it will be understood as (type, (1,)) / '(1,)type'.\n",
      "  _np_qint32 = np.dtype([(\"qint32\", np.int32, 1)])\n",
      "/home/lcances/.local/lib/python3.6/site-packages/tensorflow/python/framework/dtypes.py:525: FutureWarning: Passing (type, 1) or '1type' as a synonym of type is deprecated; in a future version of numpy, it will be understood as (type, (1,)) / '(1,)type'.\n",
      "  np_resource = np.dtype([(\"resource\", np.ubyte, 1)])\n",
      "/home/lcances/.local/lib/python3.6/site-packages/tensorboard/compat/tensorflow_stub/dtypes.py:541: FutureWarning: Passing (type, 1) or '1type' as a synonym of type is deprecated; in a future version of numpy, it will be understood as (type, (1,)) / '(1,)type'.\n",
      "  _np_qint8 = np.dtype([(\"qint8\", np.int8, 1)])\n",
      "/home/lcances/.local/lib/python3.6/site-packages/tensorboard/compat/tensorflow_stub/dtypes.py:542: FutureWarning: Passing (type, 1) or '1type' as a synonym of type is deprecated; in a future version of numpy, it will be understood as (type, (1,)) / '(1,)type'.\n",
      "  _np_quint8 = np.dtype([(\"quint8\", np.uint8, 1)])\n",
      "/home/lcances/.local/lib/python3.6/site-packages/tensorboard/compat/tensorflow_stub/dtypes.py:543: FutureWarning: Passing (type, 1) or '1type' as a synonym of type is deprecated; in a future version of numpy, it will be understood as (type, (1,)) / '(1,)type'.\n",
      "  _np_qint16 = np.dtype([(\"qint16\", np.int16, 1)])\n",
      "/home/lcances/.local/lib/python3.6/site-packages/tensorboard/compat/tensorflow_stub/dtypes.py:544: FutureWarning: Passing (type, 1) or '1type' as a synonym of type is deprecated; in a future version of numpy, it will be understood as (type, (1,)) / '(1,)type'.\n",
      "  _np_quint16 = np.dtype([(\"quint16\", np.uint16, 1)])\n",
      "/home/lcances/.local/lib/python3.6/site-packages/tensorboard/compat/tensorflow_stub/dtypes.py:545: FutureWarning: Passing (type, 1) or '1type' as a synonym of type is deprecated; in a future version of numpy, it will be understood as (type, (1,)) / '(1,)type'.\n",
      "  _np_qint32 = np.dtype([(\"qint32\", np.int32, 1)])\n",
      "/home/lcances/.local/lib/python3.6/site-packages/tensorboard/compat/tensorflow_stub/dtypes.py:550: FutureWarning: Passing (type, 1) or '1type' as a synonym of type is deprecated; in a future version of numpy, it will be understood as (type, (1,)) / '(1,)type'.\n",
      "  np_resource = np.dtype([(\"resource\", np.ubyte, 1)])\n"
     ]
    }
   ],
   "source": [
    "import os\n",
    "import glob\n",
    "import numpy as np\n",
    "import pprint\n",
    "import functools\n",
    "\n",
    "import tensorflow as tf\n",
    "\n",
    "from ipywidgets import interact, interactive, fixed, interact_manual, HBox, VBox, Button\n",
    "import ipywidgets as widgets"
   ]
  },
  {
   "cell_type": "code",
   "execution_count": 2,
   "metadata": {},
   "outputs": [
    {
     "data": {
      "text/plain": [
       "'/home/lcances/.miniconda3/envs/tensorboard/bin/python'"
      ]
     },
     "execution_count": 2,
     "metadata": {},
     "output_type": "execute_result"
    }
   ],
   "source": [
    "import sys\n",
    "sys.executable"
   ]
  },
  {
   "cell_type": "code",
   "execution_count": 3,
   "metadata": {
    "pycharm": {
     "name": "#%%\n"
    }
   },
   "outputs": [],
   "source": [
    "# global variables\n",
    "tag_list = []\n",
    "log_list = []\n",
    "file_stats = dict()\n",
    "stat_list = [\"mean\", \"std\", \"maxi\", \"mini\"]\n",
    "\n",
    "os.chdir(\"../..\")\n",
    "tensorboard_root = \"tensorboard\""
   ]
  },
  {
   "cell_type": "markdown",
   "metadata": {
    "pycharm": {
     "name": "#%% md\n"
    }
   },
   "source": [
    "# Utility function"
   ]
  },
  {
   "cell_type": "code",
   "execution_count": 4,
   "metadata": {
    "pycharm": {
     "name": "#%%\n"
    }
   },
   "outputs": [],
   "source": [
    "def get_all_tag(path):\n",
    "    global tag_list\n",
    "    tag_list = []\n",
    "\n",
    "    for e in tf.compat.v1.train.summary_iterator(path):\n",
    "        for value in e.summary.value:\n",
    "            if value.HasField(\"simple_value\"):\n",
    "                if value.tag not in tag_list:\n",
    "                    tag_list.append(value.tag)\n",
    "    \n",
    "    return tag_list"
   ]
  },
  {
   "cell_type": "markdown",
   "metadata": {
    "pycharm": {
     "name": "#%% md\n"
    }
   },
   "source": [
    "- Si la list n'est pas vide\n",
    "    - Si le premier element est un fichier: return True\n",
    "    - Si le premier element est un dossier:\n",
    "        - lister le contenue de ce dossier L\n",
    "        - si L n'est pas vide\n",
    "            - Si le premier element est un fichier: return True\n",
    "            - Sinon return False"
   ]
  },
  {
   "cell_type": "code",
   "execution_count": 5,
   "metadata": {},
   "outputs": [],
   "source": [
    "def contain_log(path):\n",
    "    if path:\n",
    "        if os.path.isfile(path[0]):\n",
    "            return True\n",
    "        \n",
    "        if os.path.isdir(path[0]):\n",
    "            if not os.listdir(path[0]): # directory is empty\n",
    "                return False\n",
    "            \n",
    "            sublist = [os.path.join(path[0], p) for p in os.listdir(path[0])]\n",
    "            \n",
    "            if sublist:\n",
    "                if os.path.isfile(sublist[0]):\n",
    "                    return True\n",
    "                else:\n",
    "                    return False\n",
    "    return True"
   ]
  },
  {
   "cell_type": "code",
   "execution_count": 6,
   "metadata": {},
   "outputs": [],
   "source": [
    "def get_tag_list(log_file):\n",
    "    list_file = os.listdir(log_file)\n",
    "    \n",
    "    print(log_file)\n",
    "    print(list_file)\n",
    "    path = os.path.join(log_file, list_file[0])\n",
    "    tag_list = get_all_tag(path)\n",
    "    print(tag_list)"
   ]
  },
  {
   "cell_type": "code",
   "execution_count": 7,
   "metadata": {},
   "outputs": [
    {
     "data": {
      "text/plain": [
       "'tensorboard'"
      ]
     },
     "execution_count": 7,
     "metadata": {},
     "output_type": "execute_result"
    }
   ],
   "source": [
    "tensorboard_root"
   ]
  },
  {
   "cell_type": "code",
   "execution_count": 8,
   "metadata": {
    "collapsed": false,
    "jupyter": {
     "outputs_hidden": false
    },
    "pycharm": {
     "name": "#%%\n"
    }
   },
   "outputs": [
    {
     "name": "stdout",
     "output_type": "stream",
     "text": [
      "/home/lcances/sync/Documents_sync/Projet/Deep-Co-Training\n"
     ]
    }
   ],
   "source": [
    "!pwd"
   ]
  },
  {
   "cell_type": "code",
   "execution_count": 9,
   "metadata": {
    "collapsed": false,
    "jupyter": {
     "outputs_hidden": false
    },
    "pycharm": {
     "name": "#%%\n"
    }
   },
   "outputs": [
    {
     "data": {
      "text/plain": [
       "['tensorboard/ubs8k']"
      ]
     },
     "execution_count": 9,
     "metadata": {},
     "output_type": "execute_result"
    }
   ],
   "source": [
    "glob.glob(tensorboard_root + \"/**\")"
   ]
  },
  {
   "cell_type": "code",
   "execution_count": 10,
   "metadata": {
    "collapsed": false,
    "jupyter": {
     "outputs_hidden": false
    },
    "pycharm": {
     "name": "#%%\n"
    }
   },
   "outputs": [],
   "source": [
    "def ui_dropdown_dir(directory):\n",
    "    global log_list\n",
    "    \n",
    "    sub_directories = sorted([os.path.join(directory, p) for p in os.listdir(directory) ])\n",
    "        \n",
    "    if not contain_log(sub_directories):\n",
    "        interact(ui_dropdown_dir, directory=sub_directories)\n",
    "        \n",
    "    else:\n",
    "        path_list = [os.path.join(directory, l) for l in os.listdir(directory)]\n",
    "        log_list = path_list\n",
    "        interact_manual(get_tag_list, log_file=path_list)"
   ]
  },
  {
   "cell_type": "code",
   "execution_count": 11,
   "metadata": {
    "collapsed": false,
    "jupyter": {
     "outputs_hidden": false
    },
    "pycharm": {
     "name": "#%%\n"
    }
   },
   "outputs": [
    {
     "data": {
      "application/vnd.jupyter.widget-view+json": {
       "model_id": "41ceebb5a0a44834afdcd071a48dd723",
       "version_major": 2,
       "version_minor": 0
      },
      "text/plain": [
       "interactive(children=(Dropdown(description='directory', options=('tensorboard/ubs8k',), value='tensorboard/ubs…"
      ]
     },
     "metadata": {},
     "output_type": "display_data"
    },
    {
     "data": {
      "text/plain": [
       "<function __main__.ui_dropdown_dir(directory)>"
      ]
     },
     "execution_count": 11,
     "metadata": {},
     "output_type": "execute_result"
    }
   ],
   "source": [
    "interact(ui_dropdown_dir, directory=glob.glob(tensorboard_root + \"/**\"))"
   ]
  },
  {
   "cell_type": "code",
   "execution_count": 12,
   "metadata": {
    "collapsed": false,
    "jupyter": {
     "outputs_hidden": false
    },
    "pycharm": {
     "name": "#%%\n"
    }
   },
   "outputs": [
    {
     "name": "stdout",
     "output_type": "stream",
     "text": [
      "ls: cannot access '../../tensorboard/ubs8k': No such file or directory\n"
     ]
    }
   ],
   "source": [
    "!ls ../../tensorboard/ubs8k"
   ]
  },
  {
   "cell_type": "code",
   "execution_count": 13,
   "metadata": {},
   "outputs": [],
   "source": [
    "def stat_stat(stat = \"maxi\"):\n",
    "    global file_stats\n",
    "    \n",
    "    values = [file_stats[l][stat] for l in file_stats.keys()]\n",
    "    \n",
    "    print(\"stat stat\")\n",
    "    print(\"mean: \", np.nanmean(values))\n",
    "    print(\"std : \", np.nanstd(values))\n",
    "    print(\"mini: \", np.nanmin(values))\n",
    "    print(\"maxi: \", np.nanmax(values))\n",
    "    print(\"\")\n",
    "    print(\"%.3f ± %.3f\" % (np.nanmean(values), np.nanstd(values)))\n",
    "    print(\"\")\n",
    "    print(\"detail \")\n",
    "    pprint.pprint(values)"
   ]
  },
  {
   "cell_type": "code",
   "execution_count": 14,
   "metadata": {},
   "outputs": [
    {
     "data": {
      "text/plain": [
       "['tensorboard/ubs8k']"
      ]
     },
     "execution_count": 14,
     "metadata": {},
     "output_type": "execute_result"
    }
   ],
   "source": [
    "glob.glob(tensorboard_root + \"/**\")"
   ]
  },
  {
   "cell_type": "code",
   "execution_count": 15,
   "metadata": {},
   "outputs": [],
   "source": [
    "def ui_dropdown_dir(directory, filters: str = \"\"):\n",
    "    global log_list\n",
    "    \n",
    "    sub_directories = sorted([os.path.join(directory, p) for p in os.listdir(directory) ])\n",
    "        \n",
    "    if not contain_log(sub_directories):\n",
    "        print(\"next\")\n",
    "        ui = interact(ui_dropdown_dir, directory=sub_directories, filters=\"\")\n",
    "        \n",
    "    else:\n",
    "        path_list = [os.path.join(directory, l) for l in os.listdir(directory) if filters in l]\n",
    "        log_list = path_list\n",
    "        interact_manual(get_tag_list, log_file=path_list)"
   ]
  },
  {
   "cell_type": "code",
   "execution_count": 35,
   "metadata": {},
   "outputs": [
    {
     "data": {
      "application/vnd.jupyter.widget-view+json": {
       "model_id": "bd0c260fc93d4468b53922210b2538e1",
       "version_major": 2,
       "version_minor": 0
      },
      "text/plain": [
       "interactive(children=(Dropdown(description='directory', options=('tensorboard/ubs8k',), value='tensorboard/ubs…"
      ]
     },
     "metadata": {},
     "output_type": "display_data"
    }
   ],
   "source": [
    "ui = interact(ui_dropdown_dir, directory=glob.glob(tensorboard_root + \"/**\"),  filters=\"\")"
   ]
  },
  {
   "cell_type": "code",
   "execution_count": 17,
   "metadata": {},
   "outputs": [
    {
     "name": "stdout",
     "output_type": "stream",
     "text": [
      "ls: cannot access '../../tensorboard/ubs8k': No such file or directory\n"
     ]
    }
   ],
   "source": [
    "!ls ../../tensorboard/ubs8k"
   ]
  },
  {
   "cell_type": "code",
   "execution_count": 18,
   "metadata": {},
   "outputs": [],
   "source": [
    "def stat_stat(stat = \"maxi\"):\n",
    "    global file_stats\n",
    "    \n",
    "    values = [file_stats[l][stat] for l in file_stats.keys()]\n",
    "    \n",
    "    print(\"stat stat\")\n",
    "    print(\"mean: \", np.nanmean(values))\n",
    "    print(\"std : \", np.nanstd(values))\n",
    "    print(\"mini: \", np.nanmin(values))\n",
    "    print(\"maxi: \", np.nanmax(values))\n",
    "    print(\"\")\n",
    "    print(\"%.3f ± %.3f\" % (np.nanmean(values) * 100, np.nanstd(values) * 100))\n",
    "    print(\"\")\n",
    "    print(\"detail \")\n",
    "    pprint.pprint(values)"
   ]
  },
  {
   "cell_type": "code",
   "execution_count": 19,
   "metadata": {},
   "outputs": [],
   "source": [
    "def format_logs(stat = \"maxi\", format_fn = None):\n",
    "    global file_stats\n",
    "    \n",
    "    msg = \"\"\n",
    "    for k, d in file_stats.items():\n",
    "        formated_name = k\n",
    "        \n",
    "        if format_fn is not None:\n",
    "            formated_name = format_fn(k)\n",
    "            \n",
    "        msg += \"%s %s\\n\" % (formated_name, d[stat])\n",
    "    return msg\n",
    "            \n",
    "    "
   ]
  },
  {
   "cell_type": "code",
   "execution_count": 24,
   "metadata": {},
   "outputs": [],
   "source": [
    "def statistics(mean=True, std=True, max=False, min=False, tag=tag_list[0]):\n",
    "    global file_stats\n",
    "    \n",
    "    file_log = dict()\n",
    "    \n",
    "    # read all the log files ------------------------------\n",
    "    @functools.lru_cache()\n",
    "    def get_log_data(path):\n",
    "        logs = dict()\n",
    "\n",
    "        for e in tf.compat.v1.train.summary_iterator(path):\n",
    "            for value in e.summary.value:\n",
    "                if value.HasField(\"simple_value\"):\n",
    "                    if value.tag not in logs:\n",
    "                        logs[value.tag] = []\n",
    "                    logs[value.tag].append(value.simple_value)\n",
    "    \n",
    "        return logs\n",
    "    \n",
    "    for l in log_list:\n",
    "        final_path = os.path.join(l, os.listdir(l)[0])\n",
    "        logs = get_log_data(final_path)\n",
    "        \n",
    "        if logs:\n",
    "            file_log[l] = logs\n",
    "        \n",
    "    # compute the statistics ------------------------------\n",
    "    # ---- file wise ----\n",
    "    file_stats = dict()\n",
    "    \n",
    "    for l in file_log.keys():\n",
    "        file_stats[l] = dict(\n",
    "            mean = np.nanmean(file_log[l][tag]),\n",
    "            std = np.nanstd(file_log[l][tag]),\n",
    "            mini = np.nanmin(file_log[l][tag]),\n",
    "            maxi = np.nanmax(file_log[l][tag]),\n",
    "        )\n",
    "        \n",
    "    interact(stat_stat, stat=stat_list)"
   ]
  },
  {
   "cell_type": "code",
   "execution_count": 36,
   "metadata": {},
   "outputs": [
    {
     "data": {
      "application/vnd.jupyter.widget-view+json": {
       "model_id": "71dbca8cc7a9470b8f9cd8f012b48a67",
       "version_major": 2,
       "version_minor": 0
      },
      "text/plain": [
       "interactive(children=(Dropdown(description='directory', options=('tensorboard/ubs8k',), value='tensorboard/ubs…"
      ]
     },
     "metadata": {},
     "output_type": "display_data"
    },
    {
     "data": {
      "text/plain": [
       "<function __main__.ui_dropdown_dir(directory, filters:str='')>"
      ]
     },
     "execution_count": 36,
     "metadata": {},
     "output_type": "execute_result"
    }
   ],
   "source": [
    "interact(ui_dropdown_dir, directory=glob.glob(tensorboard_root + \"/**\"), filters=\"\")"
   ]
  },
  {
   "cell_type": "code",
   "execution_count": 37,
   "metadata": {},
   "outputs": [
    {
     "data": {
      "application/vnd.jupyter.widget-view+json": {
       "model_id": "e16460b4e9d543dd962c4fd0649d03db",
       "version_major": 2,
       "version_minor": 0
      },
      "text/plain": [
       "interactive(children=(Checkbox(value=True, description='mean'), Checkbox(value=True, description='std'), Check…"
      ]
     },
     "metadata": {},
     "output_type": "display_data"
    },
    {
     "data": {
      "text/plain": [
       "<function __main__.statistics(mean=True, std=True, max=False, min=False, tag='train/total_loss')>"
      ]
     },
     "execution_count": 37,
     "metadata": {},
     "output_type": "execute_result"
    }
   ],
   "source": [
    "interact_manual(statistics, mean=True, std=True, mini=False, maxi=False, tag=tag_list)"
   ]
  },
  {
   "cell_type": "code",
   "execution_count": 34,
   "metadata": {},
   "outputs": [
    {
     "name": "stdout",
     "output_type": "stream",
     "text": [
      "['2020-08-10', '14:32:01', 'cnn0', '0.1S', '1000e', '0.0005lr', 'linear-rfn', '5s', '']\n",
      "['2020-08-10', '16:01:35', 'cnn03', '0.1S', '1000e', '0.0005lr', 'weighted-sigmoid-rfn', '10s', '']\n",
      "['2020-08-10', '14:47:12', 'cnn0', '0.1S', '1000e', '0.0005lr', 'sigmoid-rfn', '10s', '']\n",
      "['2020-08-10', '15:23:38', 'cnn03', '0.1S', '1000e', '0.0005lr', 'linear-rfn', '10s', '']\n",
      "['2020-08-10', '14:50:10', 'cnn0', '0.1S', '1000e', '0.003lr', 'weighted-linear-rfn', '5s', '']\n",
      "['2020-08-10', '15:17:04', 'cnn03', '0.1S', '1000e', '0.003lr', 'linear-rfn', '10s', '']\n",
      "['2020-08-10', '14:41:10', 'cnn0', '0.1S', '1000e', '0.003lr', 'sigmoid-rfn', '10s', '']\n",
      "['2020-08-10', '15:48:52', 'cnn03', '0.1S', '1000e', '0.0005lr', 'weighted-linear-rfn', '10s', '']\n",
      "['2020-08-10', '15:58:24', 'cnn03', '0.1S', '1000e', '0.0005lr', 'weighted-sigmoid-rfn', '5s', '']\n",
      "['2020-08-10', '15:36:26', 'cnn03', '0.1S', '1000e', '0.0005lr', 'sigmoid-rfn', '10s', '']\n",
      "['2020-08-10', '15:45:47', 'cnn03', '0.1S', '1000e', '0.0005lr', 'weighted-linear-rfn', '5s', '']\n",
      "['2020-08-10', '15:13:50', 'cnn03', '0.1S', '1000e', '0.003lr', 'linear-rfn', '5s', '']\n",
      "['2020-08-10', '14:35:06', 'cnn0', '0.1S', '1000e', '0.0005lr', 'linear-rfn', '10s', '']\n",
      "['2020-08-10', '15:07:54', 'cnn0', '0.1S', '1000e', '0.0005lr', 'weighted-sigmoid-rfn', '5s', '']\n",
      "['2020-08-10', '15:01:52', 'cnn0', '0.1S', '1000e', '0.003lr', 'weighted-sigmoid-rfn', '5s', '']\n",
      "['2020-08-10', '15:04:52', 'cnn0', '0.1S', '1000e', '0.003lr', 'weighted-sigmoid-rfn', '10s', '']\n",
      "['2020-08-10', '15:39:39', 'cnn03', '0.1S', '1000e', '0.003lr', 'weighted-linear-rfn', '5s', '']\n",
      "['2020-08-10', '15:51:58', 'cnn03', '0.1S', '1000e', '0.003lr', 'weighted-sigmoid-rfn', '5s', '']\n",
      "['2020-08-10', '14:38:13', 'cnn0', '0.1S', '1000e', '0.003lr', 'sigmoid-rfn', '5s', '']\n",
      "['2020-08-10', '14:28:49', 'cnn0', '0.1S', '1000e', '0.003lr', 'linear-rfn', '10s', '']\n",
      "['2020-08-10', '15:42:42', 'cnn03', '0.1S', '1000e', '0.003lr', 'weighted-linear-rfn', '10s', '']\n",
      "['2020-08-10', '14:55:57', 'cnn0', '0.1S', '1000e', '0.0005lr', 'weighted-linear-rfn', '5s', '']\n",
      "['2020-08-10', '15:33:16', 'cnn03', '0.1S', '1000e', '0.0005lr', 'sigmoid-rfn', '5s', '']\n",
      "['2020-08-10', '15:30:06', 'cnn03', '0.1S', '1000e', '0.003lr', 'sigmoid-rfn', '10s', '']\n",
      "['2020-08-10', '15:10:50', 'cnn0', '0.1S', '1000e', '0.0005lr', 'weighted-sigmoid-rfn', '10s', '']\n",
      "['2020-08-10', '15:26:57', 'cnn03', '0.1S', '1000e', '0.003lr', 'sigmoid-rfn', '5s', '']\n",
      "['2020-08-10', '14:44:15', 'cnn0', '0.1S', '1000e', '0.0005lr', 'sigmoid-rfn', '5s', '']\n",
      "['2020-08-10', '14:25:46', 'cnn0', '0.1S', '1000e', '0.003lr', 'linear-rfn', '5s', '']\n",
      "['2020-08-10', '15:20:22', 'cnn03', '0.1S', '1000e', '0.0005lr', 'linear-rfn', '5s', '']\n",
      "['2020-08-10', '15:55:11', 'cnn03', '0.1S', '1000e', '0.003lr', 'weighted-sigmoid-rfn', '10s', '']\n",
      "['2020-08-10', '14:53:03', 'cnn0', '0.1S', '1000e', '0.003lr', 'weighted-linear-rfn', '10s', '']\n",
      "['2020-08-10', '14:58:58', 'cnn0', '0.1S', '1000e', '0.0005lr', 'weighted-linear-rfn', '10s', '']\n",
      "\n",
      "cnn0 0.0005lr linear-rfn 5 0.6550750732421875\n",
      "cnn0 0.0005lr sigmoid-rfn 10 0.6734234690666199\n",
      "cnn0 0.003lr weighted-linear-rfn 5 0.6089789271354675\n",
      "cnn0 0.003lr sigmoid-rfn 10 0.5247447490692139\n",
      "cnn0 0.0005lr linear-rfn 10 0.6585285663604736\n",
      "cnn0 0.0005lr weighted-sigmoid-rfn 5 0.6923122406005859\n",
      "cnn0 0.003lr weighted-sigmoid-rfn 5 0.4741741716861725\n",
      "cnn0 0.003lr weighted-sigmoid-rfn 10 0.5247447490692139\n",
      "cnn0 0.003lr sigmoid-rfn 5 0.4741741716861725\n",
      "cnn0 0.003lr linear-rfn 10 0.5305104851722717\n",
      "cnn0 0.0005lr weighted-linear-rfn 5 0.7000901103019714\n",
      "cnn0 0.0005lr weighted-sigmoid-rfn 10 0.6734234690666199\n",
      "cnn0 0.0005lr sigmoid-rfn 5 0.6923122406005859\n",
      "cnn0 0.003lr linear-rfn 5 0.5769670009613037\n",
      "cnn0 0.003lr weighted-linear-rfn 10 0.5710810422897339\n",
      "cnn0 0.0005lr weighted-linear-rfn 10 0.707207202911377\n",
      "cnn03 0.0005lr weighted-sigmoid-rfn 10 0.6823123097419739\n",
      "cnn03 0.0005lr linear-rfn 10 0.6355255246162415\n",
      "cnn03 0.003lr linear-rfn 10 0.43639639019966125\n",
      "cnn03 0.0005lr weighted-linear-rfn 10 0.7468768358230591\n",
      "cnn03 0.0005lr weighted-sigmoid-rfn 5 0.705315351486206\n",
      "cnn03 0.0005lr sigmoid-rfn 10 0.6823123097419739\n",
      "cnn03 0.0005lr weighted-linear-rfn 5 0.7464264035224915\n",
      "cnn03 0.003lr linear-rfn 5 0.4626126289367676\n",
      "cnn03 0.003lr weighted-linear-rfn 5 0.5249549746513367\n",
      "cnn03 0.003lr weighted-sigmoid-rfn 5 0.4882883131504059\n",
      "cnn03 0.003lr weighted-linear-rfn 10 0.5022823214530945\n",
      "cnn03 0.0005lr sigmoid-rfn 5 0.705315351486206\n",
      "cnn03 0.003lr sigmoid-rfn 10 0.4670570194721222\n",
      "cnn03 0.003lr sigmoid-rfn 5 0.4882883131504059\n",
      "cnn03 0.0005lr linear-rfn 5 0.6926425695419312\n",
      "cnn03 0.003lr weighted-sigmoid-rfn 10 0.4670570194721222\n"
     ]
    }
   ],
   "source": [
    "def format_fn(n):\n",
    "    base = n.split(\"/\")[4].split(\"_\")\n",
    "    print(base)\n",
    "    model_name = base[2]\n",
    "    epoch = base[4]\n",
    "    lr = base[5]\n",
    "    rule = base[6]\n",
    "    nb_steps = base[-2][:-1]\n",
    "    \n",
    "    formated = \"%s %s %s %s\" % (model_name, lr, rule, nb_steps)\n",
    "    return formated\n",
    "\n",
    "detail = format_logs(\"maxi\", format_fn).split(\"\\n\")\n",
    "detail = sorted(detail, key=lambda x: x.split(\" \")[0])\n",
    "print(\"\\n\".join(detail))"
   ]
  },
  {
   "cell_type": "code",
   "execution_count": 49,
   "metadata": {},
   "outputs": [],
   "source": [
    "def contain_log(path):\n",
    "    if path:\n",
    "        \n",
    "        if os.path.isfile(path[0]):\n",
    "            return True\n",
    "        \n",
    "        if os.path.isdir(path[0]):\n",
    "            sublist = [os.path.join(path[0], p) for p in os.listdir(path[0])]\n",
    "            \n",
    "            if sublist:\n",
    "                if os.path.isfile(sublist[0]):\n",
    "                    return True\n",
    "                else:\n",
    "                    return False\n",
    "    return True"
   ]
  },
  {
   "cell_type": "code",
   "execution_count": 50,
   "metadata": {},
   "outputs": [
    {
     "ename": "FileNotFoundError",
     "evalue": "[Errno 2] No such file or directory: '/mnt/e/sync/Documents_sync/Projet/UrbanSound8K/tensorboard/osirim_tensorboard'",
     "output_type": "error",
     "traceback": [
      "\u001b[0;31m---------------------------------------------------------------------------\u001b[0m",
      "\u001b[0;31mFileNotFoundError\u001b[0m                         Traceback (most recent call last)",
      "\u001b[0;32m<ipython-input-50-9385c3d2b235>\u001b[0m in \u001b[0;36m<module>\u001b[0;34m\u001b[0m\n\u001b[1;32m      1\u001b[0m \u001b[0mroot\u001b[0m \u001b[0;34m=\u001b[0m \u001b[0;34m\"/mnt/e/sync/Documents_sync/Projet/UrbanSound8K/tensorboard/osirim_tensorboard\"\u001b[0m\u001b[0;34m\u001b[0m\u001b[0;34m\u001b[0m\u001b[0m\n\u001b[0;32m----> 2\u001b[0;31m \u001b[0mlist_dir\u001b[0m \u001b[0;34m=\u001b[0m \u001b[0mos\u001b[0m\u001b[0;34m.\u001b[0m\u001b[0mlistdir\u001b[0m\u001b[0;34m(\u001b[0m\u001b[0mroot\u001b[0m\u001b[0;34m)\u001b[0m\u001b[0;34m\u001b[0m\u001b[0;34m\u001b[0m\u001b[0m\n\u001b[0m\u001b[1;32m      3\u001b[0m \u001b[0;34m\u001b[0m\u001b[0m\n\u001b[1;32m      4\u001b[0m \u001b[0;32mfor\u001b[0m \u001b[0mname\u001b[0m \u001b[0;32min\u001b[0m \u001b[0mlist_dir\u001b[0m\u001b[0;34m:\u001b[0m\u001b[0;34m\u001b[0m\u001b[0;34m\u001b[0m\u001b[0m\n\u001b[1;32m      5\u001b[0m     \u001b[0mpath\u001b[0m \u001b[0;34m=\u001b[0m \u001b[0mos\u001b[0m\u001b[0;34m.\u001b[0m\u001b[0mpath\u001b[0m\u001b[0;34m.\u001b[0m\u001b[0mjoin\u001b[0m\u001b[0;34m(\u001b[0m\u001b[0mroot\u001b[0m\u001b[0;34m,\u001b[0m \u001b[0mname\u001b[0m\u001b[0;34m)\u001b[0m\u001b[0;34m\u001b[0m\u001b[0;34m\u001b[0m\u001b[0m\n",
      "\u001b[0;31mFileNotFoundError\u001b[0m: [Errno 2] No such file or directory: '/mnt/e/sync/Documents_sync/Projet/UrbanSound8K/tensorboard/osirim_tensorboard'"
     ]
    }
   ],
   "source": [
    "root = \"/mnt/e/sync/Documents_sync/Projet/UrbanSound8K/tensorboard/osirim_tensorboard\"\n",
    "list_dir = os.listdir(root)\n",
    "\n",
    "for name in list_dir:\n",
    "    path = os.path.join(root, name)\n",
    "    \n",
    "    print(contain_log(path))"
   ]
  },
  {
   "cell_type": "code",
   "execution_count": 51,
   "metadata": {},
   "outputs": [
    {
     "data": {
      "application/vnd.jupyter.widget-view+json": {
       "model_id": "e999da1df1f44846a8a52c3b408efdfc",
       "version_major": 2,
       "version_minor": 0
      },
      "text/plain": [
       "interactive(children=(Dropdown(description='directory', options=(), value=None), Output()), _dom_classes=('wid…"
      ]
     },
     "metadata": {},
     "output_type": "display_data"
    },
    {
     "data": {
      "text/plain": [
       "<function __main__.ui_dropdown_dir(directory)>"
      ]
     },
     "execution_count": 51,
     "metadata": {},
     "output_type": "execute_result"
    }
   ],
   "source": [
    "interact(ui_dropdown_dir, directory=glob.glob(tensorboard_root + \"/**\"))"
   ]
  },
  {
   "cell_type": "code",
   "execution_count": null,
   "metadata": {},
   "outputs": [],
   "source": []
  },
  {
   "cell_type": "code",
   "execution_count": null,
   "metadata": {},
   "outputs": [],
   "source": []
  }
 ],
 "metadata": {
  "kernelspec": {
   "display_name": "tensorboard",
   "language": "python",
   "name": "tensorboard"
  },
  "language_info": {
   "codemirror_mode": {
    "name": "ipython",
    "version": 3
   },
   "file_extension": ".py",
   "mimetype": "text/x-python",
   "name": "python",
   "nbconvert_exporter": "python",
   "pygments_lexer": "ipython3",
   "version": "3.6.10"
  }
 },
 "nbformat": 4,
 "nbformat_minor": 4
}
